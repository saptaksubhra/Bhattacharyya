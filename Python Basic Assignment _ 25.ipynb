{
 "cells": [
  {
   "cell_type": "markdown",
   "id": "a6086754",
   "metadata": {},
   "source": [
    " 1) . What is the difference between enclosing a list comprehension in square brackets and parentheses?\n",
    " \n",
    " When the value or the data are enclosed within square brackets then that is named as list and when the value or the data is enclosed within parentheses or round bracket that is called tuple. Lists are mutable in nature whereas tuples are immutable in nature.  A list is mutable that means we can change its contents and tuples are immutable that means we can not change its contents. Also tuple is hashable that means we can use tuple as key to a dictionary whereas list is unhashable. The examples have been given below for square brackets (Lists) and parentheses (Tuples). \n"
   ]
  },
  {
   "cell_type": "code",
   "execution_count": 2,
   "id": "5c64168a",
   "metadata": {},
   "outputs": [
    {
     "name": "stdout",
     "output_type": "stream",
     "text": [
      "[1, 2, 3, 4, 5, 6]\n"
     ]
    }
   ],
   "source": [
    "# Lists mutability\n",
    "try:\n",
    "    l = [1,2,3,4,5]\n",
    "    l.append(6)\n",
    "    print(l)\n",
    "except:\n",
    "    print(\"print the mutability of list\")"
   ]
  },
  {
   "cell_type": "code",
   "execution_count": 3,
   "id": "671ba6a3",
   "metadata": {},
   "outputs": [
    {
     "data": {
      "text/plain": [
       "list"
      ]
     },
     "execution_count": 3,
     "metadata": {},
     "output_type": "execute_result"
    }
   ],
   "source": [
    "type(l)"
   ]
  },
  {
   "cell_type": "code",
   "execution_count": 6,
   "id": "6122dd05",
   "metadata": {},
   "outputs": [
    {
     "ename": "AttributeError",
     "evalue": "'tuple' object has no attribute 'append'",
     "output_type": "error",
     "traceback": [
      "\u001b[1;31m---------------------------------------------------------------------------\u001b[0m",
      "\u001b[1;31mAttributeError\u001b[0m                            Traceback (most recent call last)",
      "\u001b[1;32m~\\AppData\\Local\\Temp/ipykernel_6948/2181476271.py\u001b[0m in \u001b[0;36m<module>\u001b[1;34m\u001b[0m\n\u001b[0;32m      3\u001b[0m \u001b[1;33m\u001b[0m\u001b[0m\n\u001b[0;32m      4\u001b[0m \u001b[0mt\u001b[0m \u001b[1;33m=\u001b[0m \u001b[1;33m(\u001b[0m\u001b[1;36m1\u001b[0m\u001b[1;33m,\u001b[0m\u001b[1;36m2\u001b[0m\u001b[1;33m,\u001b[0m\u001b[1;36m3\u001b[0m\u001b[1;33m,\u001b[0m\u001b[1;36m4\u001b[0m\u001b[1;33m,\u001b[0m\u001b[1;36m5\u001b[0m\u001b[1;33m)\u001b[0m\u001b[1;33m\u001b[0m\u001b[1;33m\u001b[0m\u001b[0m\n\u001b[1;32m----> 5\u001b[1;33m \u001b[0mt\u001b[0m\u001b[1;33m.\u001b[0m\u001b[0mappend\u001b[0m\u001b[1;33m(\u001b[0m\u001b[1;36m6\u001b[0m\u001b[1;33m)\u001b[0m\u001b[1;33m\u001b[0m\u001b[1;33m\u001b[0m\u001b[0m\n\u001b[0m\u001b[0;32m      6\u001b[0m \u001b[0mprint\u001b[0m\u001b[1;33m(\u001b[0m\u001b[0mt\u001b[0m\u001b[1;33m)\u001b[0m\u001b[1;33m\u001b[0m\u001b[1;33m\u001b[0m\u001b[0m\n",
      "\u001b[1;31mAttributeError\u001b[0m: 'tuple' object has no attribute 'append'"
     ]
    }
   ],
   "source": [
    "# Tuples immutability\n",
    "\n",
    "\n",
    "t = (1,2,3,4,5)\n",
    "t.append(6)\n",
    "print(t)\n"
   ]
  },
  {
   "cell_type": "code",
   "execution_count": 8,
   "id": "c51adc59",
   "metadata": {},
   "outputs": [
    {
     "name": "stdout",
     "output_type": "stream",
     "text": [
      "{(1, 2): 5}\n"
     ]
    }
   ],
   "source": [
    "# Tuple is hashable\n",
    "\n",
    "try:\n",
    "    A = (1,2)\n",
    "    C= {}\n",
    "    C[A]= 5\n",
    "    print(C)\n",
    "except:\n",
    "    print(\"Tuple is hashable\")\n",
    "    "
   ]
  },
  {
   "cell_type": "code",
   "execution_count": 9,
   "id": "08c10e5b",
   "metadata": {},
   "outputs": [
    {
     "ename": "TypeError",
     "evalue": "unhashable type: 'list'",
     "output_type": "error",
     "traceback": [
      "\u001b[1;31m---------------------------------------------------------------------------\u001b[0m",
      "\u001b[1;31mTypeError\u001b[0m                                 Traceback (most recent call last)",
      "\u001b[1;32m~\\AppData\\Local\\Temp/ipykernel_6948/170280361.py\u001b[0m in \u001b[0;36m<module>\u001b[1;34m\u001b[0m\n\u001b[0;32m      3\u001b[0m \u001b[0mB\u001b[0m \u001b[1;33m=\u001b[0m \u001b[1;33m[\u001b[0m\u001b[1;36m6\u001b[0m\u001b[1;33m,\u001b[0m\u001b[1;36m7\u001b[0m\u001b[1;33m]\u001b[0m\u001b[1;33m\u001b[0m\u001b[1;33m\u001b[0m\u001b[0m\n\u001b[0;32m      4\u001b[0m \u001b[0mC\u001b[0m \u001b[1;33m=\u001b[0m \u001b[1;33m{\u001b[0m\u001b[1;33m}\u001b[0m\u001b[1;33m\u001b[0m\u001b[1;33m\u001b[0m\u001b[0m\n\u001b[1;32m----> 5\u001b[1;33m \u001b[0mC\u001b[0m\u001b[1;33m[\u001b[0m\u001b[0mB\u001b[0m\u001b[1;33m]\u001b[0m \u001b[1;33m=\u001b[0m \u001b[1;36m10\u001b[0m\u001b[1;33m\u001b[0m\u001b[1;33m\u001b[0m\u001b[0m\n\u001b[0m\u001b[0;32m      6\u001b[0m \u001b[0mprint\u001b[0m\u001b[1;33m(\u001b[0m\u001b[0mC\u001b[0m\u001b[1;33m)\u001b[0m\u001b[1;33m\u001b[0m\u001b[1;33m\u001b[0m\u001b[0m\n",
      "\u001b[1;31mTypeError\u001b[0m: unhashable type: 'list'"
     ]
    }
   ],
   "source": [
    "#list is unhashable\n",
    "\n",
    "B = [6,7]\n",
    "C = {}\n",
    "C[B] = 10\n",
    "print(C)"
   ]
  },
  {
   "cell_type": "markdown",
   "id": "3511422d",
   "metadata": {},
   "source": [
    " 2) What is the relationship between generators and iterators?\n",
    " \n",
    " Class is used to apply an interator whereas function is used to apply a generator. Iterator uses iter() and next() functions to execute the operation and generator uses yield keyword.Every iterator is not a generator but every generator is an iterator.\n",
    "\n"
   ]
  },
  {
   "cell_type": "code",
   "execution_count": 10,
   "id": "334a1073",
   "metadata": {},
   "outputs": [
    {
     "name": "stdout",
     "output_type": "stream",
     "text": [
      "saptak\n",
      "subhra\n",
      "ineuron\n"
     ]
    }
   ],
   "source": [
    "#Example of Iterator\n",
    "\n",
    "try:\n",
    "    list_iteration = iter(['saptak', 'subhra', 'ineuron'])\n",
    "    print(next(list_iteration))\n",
    "    print(next(list_iteration))\n",
    "    print(next(list_iteration))\n",
    "except:\n",
    "    print(\"Example of iterator\")"
   ]
  },
  {
   "cell_type": "code",
   "execution_count": 20,
   "id": "e8480161",
   "metadata": {},
   "outputs": [
    {
     "name": "stdout",
     "output_type": "stream",
     "text": [
      "The cube of numbers 1,2,3,4 are : \n",
      "1\n",
      "8\n",
      "27\n",
      "64\n"
     ]
    }
   ],
   "source": [
    "#Example of generator\n",
    "\n",
    "try:\n",
    "    def cube_numbers(n):\n",
    "        for i in range(1, n+1):\n",
    "            yield i**3\n",
    "    b = cube_numbers(4)\n",
    "    print(\"The cube of numbers 1,2,3,4 are : \")\n",
    "    print(next(b))\n",
    "    print(next(b))\n",
    "    print(next(b))\n",
    "    print(next(b))\n",
    "except:\n",
    "    print(\"Example of generator\")"
   ]
  },
  {
   "cell_type": "markdown",
   "id": "eaf82bd3",
   "metadata": {},
   "source": [
    "3) What are the signs that a function is a generator function?\n",
    "\n",
    "When a function contains at least one yield statement ( It might contain other yield or return statements), it becomes a generator function.\n",
    "\n",
    "Once the function yields, the function is paused and the control is transferred to the caller.\n",
    "\n",
    "When the function terminates in the final stage, StopIteration is raised automatically on further calls to the function.\n",
    "\n",
    "A generator function has been expmlified below. cube_numbers is a generator function in the below example.\n",
    "\n"
   ]
  },
  {
   "cell_type": "code",
   "execution_count": 23,
   "id": "b7fea840",
   "metadata": {},
   "outputs": [
    {
     "name": "stdout",
     "output_type": "stream",
     "text": [
      "The cube of numbers 1,2,3,4,5 are : \n",
      "1\n",
      "8\n",
      "27\n",
      "64\n",
      "125\n"
     ]
    }
   ],
   "source": [
    "#Example of generator function\n",
    "\n",
    "try:\n",
    "    def cube_numbers(a):\n",
    "        for i in range(1, a+1):\n",
    "            yield i**3\n",
    "    c = cube_numbers(5)\n",
    "    print(\"The cube of numbers 1,2,3,4,5 are : \")\n",
    "    print(next(c))\n",
    "    print(next(c))\n",
    "    print(next(c))\n",
    "    print(next(c))\n",
    "    print(next(c))\n",
    "except:\n",
    "    print(\"Example of generator function\")\n",
    "            "
   ]
  },
  {
   "cell_type": "markdown",
   "id": "8922a25c",
   "metadata": {},
   "source": [
    "4) What is the purpose of a yield statement?\n",
    "\n",
    "yield is an inbuilt keyword in Python that is used to return from a function without destroying the states of its local variable and when the function is called, the execution starts from the last yield statement.\n",
    "The below example is of yield statement.\n"
   ]
  },
  {
   "cell_type": "code",
   "execution_count": 25,
   "id": "1bcb839e",
   "metadata": {},
   "outputs": [
    {
     "name": "stdout",
     "output_type": "stream",
     "text": [
      "The square of numbers 1,2,3,4 are : \n",
      "1\n",
      "4\n",
      "9\n",
      "16\n"
     ]
    }
   ],
   "source": [
    "try:\n",
    "    def square_numbers(b):\n",
    "        for j in range(1, b+1):\n",
    "            yield j**2\n",
    "    z = square_numbers(4)\n",
    "    print(\"The square of numbers 1,2,3,4 are : \")\n",
    "    print(next(z))\n",
    "    print(next(z))\n",
    "    print(next(z))\n",
    "    print(next(z))\n",
    "except:\n",
    "    print(\"Example of yield statement\")"
   ]
  },
  {
   "cell_type": "markdown",
   "id": "a9cc78d9",
   "metadata": {},
   "source": [
    "5) What is the relationship between map calls and list comprehensions? Make a comparison andcontrast between the two.\n",
    "\n",
    "List comprehension is more concise and easier to read in comaparison with map.\n",
    "List comprehension allows filtering. In map, we have no such facility. For example, to print all even numbers in range of 500, we can write [n for n in range(500) if n%2 == 0]. There is no alternate for it in map\n",
    "List comprehension are used when a list of results is required as map only returns a map object and does not return any list.\n",
    "List comprehension is faster than map when we need to evaluate expressions that are too long or complicated to express\n",
    "Map is faster in case of calling an already defined function (as no lambda is required).\n",
    "\n",
    "List comprehensions and map calls are exmplified below.\n"
   ]
  },
  {
   "cell_type": "code",
   "execution_count": 26,
   "id": "000acbd0",
   "metadata": {},
   "outputs": [
    {
     "name": "stdout",
     "output_type": "stream",
     "text": [
      "['i', 'n', 'e', 'u', 'r', 'o', 'n']\n"
     ]
    }
   ],
   "source": [
    "# List comprehension\n",
    "# Iterating through a string using list comprehension\n",
    "\n",
    "try:\n",
    "    string = [letter for letter in 'ineuron']\n",
    "    print(string)\n",
    "except:\n",
    "    print(\"List comprehension of a string\")"
   ]
  },
  {
   "cell_type": "code",
   "execution_count": 34,
   "id": "fba29ea6",
   "metadata": {},
   "outputs": [
    {
     "name": "stdout",
     "output_type": "stream",
     "text": [
      "[2, 16, 216, 4096, 100000]\n"
     ]
    }
   ],
   "source": [
    "# Map Calls with built-in function\n",
    "\n",
    "try:\n",
    "    bases = [2,4,6,8,10]\n",
    "    indexes = [1,2,3,4,5]\n",
    "    New_list = list(map(pow, bases, indexes))\n",
    "    print(New_list)\n",
    "except:\n",
    "    print(\"Map calls with built-in function\")"
   ]
  },
  {
   "cell_type": "markdown",
   "id": "2a689dd2",
   "metadata": {},
   "source": [
    "In the above example, a built-in function pow() has been implemented to map two list objects. One list is with base parameter and other list is with index parameter. The result is a new list(New_list) containing the power of each number in bases raised to the corresponding number in the indexes."
   ]
  }
 ],
 "metadata": {
  "kernelspec": {
   "display_name": "Python 3 (ipykernel)",
   "language": "python",
   "name": "python3"
  },
  "language_info": {
   "codemirror_mode": {
    "name": "ipython",
    "version": 3
   },
   "file_extension": ".py",
   "mimetype": "text/x-python",
   "name": "python",
   "nbconvert_exporter": "python",
   "pygments_lexer": "ipython3",
   "version": "3.9.7"
  }
 },
 "nbformat": 4,
 "nbformat_minor": 5
}
