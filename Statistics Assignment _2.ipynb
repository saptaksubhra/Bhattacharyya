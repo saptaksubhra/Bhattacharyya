{
 "cells": [
  {
   "cell_type": "markdown",
   "id": "1897d9c5",
   "metadata": {},
   "source": [
    "1.Raindrops are falling at an average rate of 20 drops per square inch per minute. What would\n",
    "be a reasonable distribution to use for the number of raindrops hitting a particular region\n",
    "measuring 5 inches2 in t minutes? Why? Using your chosen distribution, compute the\n",
    "probability that the region has no rain drops in a given 3 second time interval. A reasonable\n",
    "choice of distribution is P\n",
    "\n",
    "In this case we have to use Poisson Distribution because in case of Poisson Distribution we search for how many number of times event take place. We have to find the number of raindrops falling at a particular region. Therefore, first and foremost, let's calculate how many rainfall in t minutes = t * number of drops * inches = t * λ = t* 20*5 = 100t\n",
    "\n",
    "So , there are 100 number of raindrops in 5 square inches hitting a particular region. 20 has been chosen as it is being mentioned the region has number of rain drops in a given 3seconds time interval. 20 in 1 minute or 60 seconds calculation.\n",
    "\n",
    "P(X=0) = ((100/20)^0/0!)*e^-100/20 =5^0* e^-5 = 1/e^5 = 1/148.41 = 0.0067"
   ]
  },
  {
   "cell_type": "markdown",
   "id": "d74886fc",
   "metadata": {},
   "source": [
    "2.Let X be a random day of the week, coded so that Monday is 1, Tuesday is 2, etc. (so X takes\n",
    "values 1, 2,..., 7, with equal probabilities). Let Y be the next day after X (again represented as\n",
    "an integer between 1 and 7). Do X and Y have the same distribution? What is P(X)\n",
    "\n",
    "Here, distribution of random day X and random day Y are given below.\n",
    "\n",
    "X    Y    P(X)     P(Y)\n",
    "\n",
    "1     2    1/7     1/7\n",
    "\n",
    "2     3    1/7     1/7 \n",
    "\n",
    "3    4    1/7      1/7\n",
    "\n",
    "4    5    1/7      1/7\n",
    "\n",
    "5    6    1/7     1/7\n",
    "\n",
    "6   7    1/7      1/7\n",
    "\n",
    "Following the same distribution as random day X and Y have the same data distribution or we can simply say that they have same probabilities. Therefore , P(X<Y) = 1/7+1/7+1/7+1/7+1/7+1/7 = 6/7\n"
   ]
  }
 ],
 "metadata": {
  "kernelspec": {
   "display_name": "Python 3 (ipykernel)",
   "language": "python",
   "name": "python3"
  },
  "language_info": {
   "codemirror_mode": {
    "name": "ipython",
    "version": 3
   },
   "file_extension": ".py",
   "mimetype": "text/x-python",
   "name": "python",
   "nbconvert_exporter": "python",
   "pygments_lexer": "ipython3",
   "version": "3.9.7"
  }
 },
 "nbformat": 4,
 "nbformat_minor": 5
}
