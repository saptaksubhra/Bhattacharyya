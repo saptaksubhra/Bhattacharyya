{
 "cells": [
  {
   "cell_type": "markdown",
   "id": "a83e3750",
   "metadata": {},
   "source": [
    "1.In the sense of machine learning, what is a model? What is the best way to train a model?\n",
    "\n",
    "A machine learning model is a file that has been trained to recognize certain types of patterns. We train a model over a set of data, providing it an algorithm that it can use to reason over and learn from those data.\n",
    "\n",
    "There are some steps involved to train a model in the best way.\n",
    "Model Naming, Selection of data type, uploading data, typing category or label, start training, start testing"
   ]
  },
  {
   "cell_type": "markdown",
   "id": "de8d47ec",
   "metadata": {},
   "source": [
    "2.In the sense of machine learning, explain the \"No Free Lunch\" theorem.\n",
    "\n",
    "The “No Free Lunch” Theorem argues that, without having substantive information about the modeling problem, there is no single model that will always do better than any other model. Because of this, a strong case can be made to try a wide variety of techniques, then determine which is the model to focus on. In other words, the “no free lunch” (NFL) theorem for supervised machine learning is a theorem that essentially implies that no single machine learning algorithm is universally the best-performing algorithm for all problems."
   ]
  },
  {
   "cell_type": "markdown",
   "id": "9c33201f",
   "metadata": {},
   "source": [
    "3.Describe the K-fold cross-validation mechanism in detail.\n",
    "\n",
    "Cross-validation is a resampling procedure used to evaluate machine learning models on a limited data sample. The procedure has a single parameter called k that refers to the number of groups that a given data sample is to be split into. And as to that, the procedure is often named k-fold cross-validation."
   ]
  },
  {
   "cell_type": "markdown",
   "id": "fac1d135",
   "metadata": {},
   "source": [
    "4.Describe the bootstrap sampling method. What is the aim of it?\n",
    "\n",
    "In statistics, Bootstrap Sampling is a method that involves drawing of sample data repeatedly with replacement from a data source to estimate a population parameter. It can be used to estimate summary statistics such as the mean or standard deviation.\n",
    "\n",
    "The aim of bootstrap sampling method is to use the data of a sample study at hand as a surrogate population, for the purpose of approximating the sampling distribution of a statistic; that is, to resample (with replacement) from the sample data at hand and create a large number of phantom samples known as bootstrap samples."
   ]
  },
  {
   "attachments": {},
   "cell_type": "markdown",
   "id": "f1f789fa",
   "metadata": {},
   "source": [
    "5.What is the significance of calculating the Kappa value for a classification model? Demonstrate\n",
    "how to measure the Kappa value of a classification model using a sample collection of results.\n",
    "\n",
    "Kappa value for a classication model tells you how much better our classifier is performing over the performance of a classifier that simply guesses at random according to the frequency of each class. Cohen's kappa is always less than or equal to 1. Values of 0 or less, indicate that the classifier is useless.\n",
    "\n",
    "The following example demonstrates how to measure the Kappa value of a  classification model using a sample collection of results.\n",
    "Suppose two museum curators are asked to rate 70 paintings on whether they’re good enough to be hung in a new exhibit.\n",
    "\n",
    "The following 2×2 table shows the results of the ratings:\n",
    "                  Rater2\n",
    "                  \n",
    "                  yes   no\n",
    "Rater1  yes       25    10\n",
    "        no        15    20\n",
    "        \n",
    "First, we’ll calculate the relative agreement between the raters. This is simply the proportion of total ratings that the raters both said “Yes” or both said “No” on. \n",
    "\n",
    "We can calculate this as:\n",
    "\n",
    "po = (Both said Yes + Both said No) / (Total Ratings)\n",
    "po = (25 + 20) / (70) = 0.6429\n",
    "Next, we’ll calculate the probability that the raters could have agreed purely by chance.For our example, this is calculated as:\n",
    "\n",
    "P(“Yes”) = ((25+10)/70) * ((25+15)/70) = 0.285714\n",
    "P(“No”) = ((15+20)/70) * ((10+20)/70) = 0.214285\n",
    "pe = 0.285714 + 0.214285 = 0.5\n",
    "\n",
    "Lastly, we’ll use po and pe to calculate Cohen’s Kappa:\n",
    "\n",
    "k = (po – pe) / (1 – pe)\n",
    "k = (0.6429 – 0.5) / (1 – 0.5)\n",
    "k = 0.2857\n",
    "Cohen’s Kappa turns out to be 0.2857. Based on the table from earlier, we would say that the two raters only had a “fair” level of agreement. \n"
   ]
  },
  {
   "cell_type": "markdown",
   "id": "96643d1e",
   "metadata": {},
   "source": [
    "6.Describe the model ensemble method. In machine learning, what part does it play?\n",
    "\n",
    "Ensemble methods are techniques that create multiple models and then combine them to produce improved results. Ensemble methods usually produces more accurate solutions than a single model would. This has been the case in a number of machine learning competitions, where the winning solutions used ensemble methods.\n",
    "\n",
    "In machine leaerning, Ensemble method plays a significant part.To outline the definition and practicality of Ensemble methods, Decision Trees plays an importnat role. A Decision Tree determines the predictive value based on series of questions and conditions. Decision Trees can also solve quantitative problems as well with the same format. When making Decision Tress, there are several factors which come into picture. Rather than just depending upon one Decision Tree and hoping we made the right decision at each split, Ensemble Methods allow us to take a sample of Decision Trees into account, calculate which features to use or questions to ask at each split, and make a final predictor based on the aggregated results of the sampled Decision Trees."
   ]
  },
  {
   "cell_type": "markdown",
   "id": "cda9ed4d",
   "metadata": {},
   "source": [
    "7.What is a descriptive model's main purpose? Give examples of real-world problems that descriptive models were used to solve.\n",
    "\n",
    "A descriptive model's main purpose is to describe a system or other entity and its relationship to its environment. It is generally used to help specify and/or understand what the system is, what it does, and how it does it. \n",
    "The  examples are a geometric model or spatial model is a descriptive model that represents geometric and/or spatial relationships. Also descriptive model is used by consumer-driven organizations to help them target their marketing and advertising efforts."
   ]
  },
  {
   "cell_type": "markdown",
   "id": "30714d94",
   "metadata": {},
   "source": [
    "8.Describe how to evaluate a linear regression model.\n",
    "\n",
    "Linear Regression Analysis consists of more than just fitting a linear line through a cloud of data points. It consists of 3 stages – (a) analyzing the correlation and directionality of the data, (b) estimating the model, and (c) evaluating the validity and usefulness of the model."
   ]
  },
  {
   "cell_type": "markdown",
   "id": "40237f05",
   "metadata": {},
   "source": [
    "9.Distinguish :\n",
    "\n",
    "1.Descriptive vs. predictive models : A descriptive model will exploit the past data that are stored in databases and provide you with the accurate report. In a Predictive model, it identifies patterns found in past and transactional data to find risks and future outcomes.\n",
    "\n",
    "\n",
    "2.Underfitting vs. overfitting the model :Overfitting is a modeling error which occurs when a function is too closely fit to a limited set of data points. Underfitting refers to a model that can neither model the training data nor generalize to new data.\n",
    "\n",
    "3.Bootstrapping vs. cross-validation : Cross validation splits the available dataset to create multiple datasets, and Bootstrapping method uses the original dataset to create multiple datasets after resampling with replacement."
   ]
  },
  {
   "cell_type": "markdown",
   "id": "d9a4ebdf",
   "metadata": {},
   "source": [
    "10.Make quick notes on:\n",
    "\n",
    "1.LOOCV. : LOOCV(Leave One Out Cross-Validation) is a type of cross-validation approach in which each observation is considered as the validation set and the rest (N-1) observations are considered as the training set. In LOOCV, fitting of the model is done and predicting using one observation validation set.\n",
    "\n",
    "2.F-measurement : The F-measurement is calculated as the harmonic mean of precision and recall, giving each the same weighting. It allows a model to be evaluated taking both the precision and recall into account using a single score, which is helpful when describing the performance of the model and in comparing models.\n",
    "\n",
    "3.The width of the silhouette : The width of the silhouette is a general-purpose method for evaluating the separation between clusters but requires calculating the average distance between pairs of observations within or between clusters. \n",
    "\n",
    "4.Receiver operating characteristic curve : A receiver operating characteristic curve, or ROC curve, is a graphical plot that illustrates the diagnostic ability of a binary classifier system as its discrimination threshold is varied. "
   ]
  }
 ],
 "metadata": {
  "kernelspec": {
   "display_name": "Python 3 (ipykernel)",
   "language": "python",
   "name": "python3"
  },
  "language_info": {
   "codemirror_mode": {
    "name": "ipython",
    "version": 3
   },
   "file_extension": ".py",
   "mimetype": "text/x-python",
   "name": "python",
   "nbconvert_exporter": "python",
   "pygments_lexer": "ipython3",
   "version": "3.9.7"
  }
 },
 "nbformat": 4,
 "nbformat_minor": 5
}
