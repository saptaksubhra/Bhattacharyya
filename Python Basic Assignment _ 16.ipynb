{
 "cells": [
  {
   "cell_type": "code",
   "execution_count": 53,
   "id": "9e88296a",
   "metadata": {},
   "outputs": [
    {
     "data": {
      "text/plain": [
       "[1983, 1984, 1985, 1986, 1987, 1988]"
      ]
     },
     "execution_count": 53,
     "metadata": {},
     "output_type": "execute_result"
    }
   ],
   "source": [
    "# 1. Create a list called years_list, starting with the year of your birth, and each year thereafter until\n",
    "#the year of your fifth birthday. For example, if you were born in 1980. the list would be years_list =\n",
    "#[1980, 1981, 1982, 1983, 1984, 1985].\n",
    "\n",
    "years_list = [1983, 1984, 1985, 1986, 1987, 1988]\n",
    "\n",
    "years_list"
   ]
  },
  {
   "cell_type": "code",
   "execution_count": 54,
   "id": "560a7d94",
   "metadata": {},
   "outputs": [
    {
     "data": {
      "text/plain": [
       "1986"
      ]
     },
     "execution_count": 54,
     "metadata": {},
     "output_type": "execute_result"
    }
   ],
   "source": [
    "# 2. In which year in years_list was your third birthday? Remember, you were 0 years of age for your first year.\n",
    "\n",
    "years_list[3]"
   ]
  },
  {
   "cell_type": "code",
   "execution_count": 55,
   "id": "a8ae309d",
   "metadata": {},
   "outputs": [
    {
     "data": {
      "text/plain": [
       "1988"
      ]
     },
     "execution_count": 55,
     "metadata": {},
     "output_type": "execute_result"
    }
   ],
   "source": [
    "# 3.In the years list, which year were you the oldest?\n",
    "\n",
    "years_list[5]"
   ]
  },
  {
   "cell_type": "code",
   "execution_count": 56,
   "id": "c2ffddb9",
   "metadata": {},
   "outputs": [
    {
     "data": {
      "text/plain": [
       "1988"
      ]
     },
     "execution_count": 56,
     "metadata": {},
     "output_type": "execute_result"
    }
   ],
   "source": [
    "max(years_list)"
   ]
  },
  {
   "cell_type": "code",
   "execution_count": 57,
   "id": "b27e690e",
   "metadata": {},
   "outputs": [
    {
     "name": "stdout",
     "output_type": "stream",
     "text": [
      "['mozzarella', 'cindrella', 'salmonella']\n"
     ]
    }
   ],
   "source": [
    "# 4. Make a list called things with these three strings as elements: 'mozzarella', 'cinderella',\n",
    "#'salmonella'.\n",
    "\n",
    "things = ['mozzarella', 'cindrella', 'salmonella']\n",
    "print(things)"
   ]
  },
  {
   "cell_type": "code",
   "execution_count": 58,
   "id": "bd609452",
   "metadata": {},
   "outputs": [
    {
     "data": {
      "text/plain": [
       "list"
      ]
     },
     "execution_count": 58,
     "metadata": {},
     "output_type": "execute_result"
    }
   ],
   "source": [
    "type(things)"
   ]
  },
  {
   "cell_type": "code",
   "execution_count": 59,
   "id": "9b81983e",
   "metadata": {},
   "outputs": [
    {
     "name": "stdout",
     "output_type": "stream",
     "text": [
      "Mozzarella\n",
      "Cindrella\n",
      "Salmonella\n",
      "['mozzarella', 'cindrella', 'salmonella']\n"
     ]
    }
   ],
   "source": [
    "# 5. Capitalize the element in things that refers to a person and then print the list. Did it change the element in the list?\n",
    "\n",
    "for i in things:\n",
    "    print(i.capitalize())\n",
    "print(things)\n",
    "\n",
    "#Capitalize() will not update the values in the list things. The list things will be the same."
   ]
  },
  {
   "cell_type": "code",
   "execution_count": 60,
   "id": "834e6a1b",
   "metadata": {},
   "outputs": [
    {
     "data": {
      "text/plain": [
       "['Groucho', 'Chico', 'Harpo']"
      ]
     },
     "execution_count": 60,
     "metadata": {},
     "output_type": "execute_result"
    }
   ],
   "source": [
    "# 6. Make a surprise list with the elements \"Groucho\" ,\"Chico\", and \"Harpo\".\n",
    "\n",
    "surprise_list = [\"Groucho\", \"Chico\", \"Harpo\"]\n",
    "surprise_list"
   ]
  },
  {
   "cell_type": "code",
   "execution_count": 61,
   "id": "b1016848",
   "metadata": {},
   "outputs": [
    {
     "data": {
      "text/plain": [
       "'harpo'"
      ]
     },
     "execution_count": 61,
     "metadata": {},
     "output_type": "execute_result"
    }
   ],
   "source": [
    "# 7. Lowercase the last element of the surprise list, reverse it, and then capitalize it.\n",
    "\n",
    "surprise_list[2].lower()"
   ]
  },
  {
   "cell_type": "code",
   "execution_count": 62,
   "id": "3d7a2478",
   "metadata": {},
   "outputs": [
    {
     "data": {
      "text/plain": [
       "'harpo'"
      ]
     },
     "execution_count": 62,
     "metadata": {},
     "output_type": "execute_result"
    }
   ],
   "source": [
    "surprise_list[-1].lower()"
   ]
  },
  {
   "cell_type": "code",
   "execution_count": 63,
   "id": "01ffa439",
   "metadata": {},
   "outputs": [
    {
     "data": {
      "text/plain": [
       "'opraH'"
      ]
     },
     "execution_count": 63,
     "metadata": {},
     "output_type": "execute_result"
    }
   ],
   "source": [
    "surprise_list[-1][::-1]"
   ]
  },
  {
   "cell_type": "code",
   "execution_count": 64,
   "id": "b83a1d37",
   "metadata": {},
   "outputs": [
    {
     "data": {
      "text/plain": [
       "'Oprah'"
      ]
     },
     "execution_count": 64,
     "metadata": {},
     "output_type": "execute_result"
    }
   ],
   "source": [
    "surprise_list[-1][::-1].capitalize()"
   ]
  },
  {
   "cell_type": "code",
   "execution_count": 65,
   "id": "bcd55ba4",
   "metadata": {},
   "outputs": [
    {
     "data": {
      "text/plain": [
       "{'dog': 'chien', 'cat': 'chat', 'walrus': 'morse'}"
      ]
     },
     "execution_count": 65,
     "metadata": {},
     "output_type": "execute_result"
    }
   ],
   "source": [
    "# 8. Make an English-to-French dictionary called e2f and print it. Here are your starter words: dog is\n",
    "#chien, cat is chat, and walrus is morse.\n",
    "\n",
    "e2f = {\"dog\": \"chien\", \"cat\": \"chat\", \"walrus\": \"morse\"}\n",
    "e2f"
   ]
  },
  {
   "cell_type": "code",
   "execution_count": 66,
   "id": "c991663b",
   "metadata": {},
   "outputs": [
    {
     "data": {
      "text/plain": [
       "'morse'"
      ]
     },
     "execution_count": 66,
     "metadata": {},
     "output_type": "execute_result"
    }
   ],
   "source": [
    "# 9. Write the French word for walrus in your three-word dictionary e2f.\n",
    "\n",
    "e2f[\"walrus\"]"
   ]
  },
  {
   "cell_type": "code",
   "execution_count": 67,
   "id": "e30ef921",
   "metadata": {},
   "outputs": [
    {
     "data": {
      "text/plain": [
       "{'chien': 'dog', 'chat': 'cat', 'morse': 'walrus'}"
      ]
     },
     "execution_count": 67,
     "metadata": {},
     "output_type": "execute_result"
    }
   ],
   "source": [
    "# 10. Make a French-to-English dictionary called f2e from e2f. Use the items method.\n",
    "\n",
    "f2e = dict((key,value) for value, key in e2f.items())\n",
    "    \n",
    "f2e"
   ]
  },
  {
   "cell_type": "code",
   "execution_count": 68,
   "id": "45020377",
   "metadata": {},
   "outputs": [
    {
     "data": {
      "text/plain": [
       "'dog'"
      ]
     },
     "execution_count": 68,
     "metadata": {},
     "output_type": "execute_result"
    }
   ],
   "source": [
    "# 11. Print the English version of the French word chien using f2e.\n",
    "\n",
    "f2e[\"chien\"]"
   ]
  },
  {
   "cell_type": "code",
   "execution_count": 69,
   "id": "09519691",
   "metadata": {},
   "outputs": [
    {
     "data": {
      "text/plain": [
       "dict_keys(['dog', 'cat', 'walrus'])"
      ]
     },
     "execution_count": 69,
     "metadata": {},
     "output_type": "execute_result"
    }
   ],
   "source": [
    "# 12. Make and print a set of English words from the keys in e2f.\n",
    "\n",
    "e2f.keys()"
   ]
  },
  {
   "cell_type": "markdown",
   "id": "3c11d47f",
   "metadata": {},
   "source": [
    " 13. Make a multilevel dictionary called life. Use these strings for the topmost keys: 'animals', 'plants',\n",
    "and 'other'. Make the 'animals' key refer to another dictionary with the keys 'cats', 'octopi', and\n",
    "'emus'. Make the 'cats' key refer to a list of strings with the values 'Henri', 'Grumpy', and 'Lucy'.\n",
    "Make all the other keys refer to empty dictionaries."
   ]
  },
  {
   "cell_type": "code",
   "execution_count": 70,
   "id": "1322fb22",
   "metadata": {},
   "outputs": [
    {
     "data": {
      "text/plain": [
       "{'animals': {'cats': ['Henri', 'Grumpy', 'Lucy'], 'octopi': '', 'emus': ''},\n",
       " 'plants': '',\n",
       " 'other': ''}"
      ]
     },
     "execution_count": 70,
     "metadata": {},
     "output_type": "execute_result"
    }
   ],
   "source": [
    "life = {'animals': {'cats': ['Henri','Grumpy', 'Lucy'], 'octopi': '', 'emus': ''},\n",
    "       \n",
    "       'plants':'',\n",
    "        \n",
    "        'other':''\n",
    "       \n",
    "       }\n",
    "\n",
    "life"
   ]
  },
  {
   "cell_type": "code",
   "execution_count": 71,
   "id": "325226f9",
   "metadata": {},
   "outputs": [
    {
     "data": {
      "text/plain": [
       "dict_keys(['animals', 'plants', 'other'])"
      ]
     },
     "execution_count": 71,
     "metadata": {},
     "output_type": "execute_result"
    }
   ],
   "source": [
    "# 14. Print the top-level keys of life.\n",
    "\n",
    "life.keys()"
   ]
  },
  {
   "cell_type": "code",
   "execution_count": 72,
   "id": "220b8239",
   "metadata": {},
   "outputs": [
    {
     "data": {
      "text/plain": [
       "dict_keys(['cats', 'octopi', 'emus'])"
      ]
     },
     "execution_count": 72,
     "metadata": {},
     "output_type": "execute_result"
    }
   ],
   "source": [
    "# 15. Print the keys for life['animals'].\n",
    "\n",
    "life['animals'].keys()"
   ]
  },
  {
   "cell_type": "code",
   "execution_count": 75,
   "id": "9c4b9cf0",
   "metadata": {},
   "outputs": [
    {
     "data": {
      "text/plain": [
       "['Henri', 'Grumpy', 'Lucy']"
      ]
     },
     "execution_count": 75,
     "metadata": {},
     "output_type": "execute_result"
    }
   ],
   "source": [
    "# 16. Print the values for life['animals']['cats']\n",
    "\n",
    "life['animals']['cats']"
   ]
  }
 ],
 "metadata": {
  "kernelspec": {
   "display_name": "Python 3 (ipykernel)",
   "language": "python",
   "name": "python3"
  },
  "language_info": {
   "codemirror_mode": {
    "name": "ipython",
    "version": 3
   },
   "file_extension": ".py",
   "mimetype": "text/x-python",
   "name": "python",
   "nbconvert_exporter": "python",
   "pygments_lexer": "ipython3",
   "version": "3.9.7"
  }
 },
 "nbformat": 4,
 "nbformat_minor": 5
}
