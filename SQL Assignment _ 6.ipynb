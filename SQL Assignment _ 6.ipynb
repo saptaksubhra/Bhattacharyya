{
 "cells": [
  {
   "cell_type": "code",
   "execution_count": 39,
   "id": "f9c2762c",
   "metadata": {},
   "outputs": [
    {
     "name": "stdout",
     "output_type": "stream",
     "text": [
      "Requirement already satisfied: mysql-connector-python in c:\\programdata\\anaconda3\\lib\\site-packages (8.0.28)\n",
      "Requirement already satisfied: protobuf>=3.0.0 in c:\\programdata\\anaconda3\\lib\\site-packages (from mysql-connector-python) (3.19.4)\n"
     ]
    }
   ],
   "source": [
    "!pip install mysql-connector-python"
   ]
  },
  {
   "cell_type": "code",
   "execution_count": 40,
   "id": "517fb035",
   "metadata": {},
   "outputs": [],
   "source": [
    "import mysql.connector as conn"
   ]
  },
  {
   "cell_type": "code",
   "execution_count": 41,
   "id": "bd34ab98",
   "metadata": {},
   "outputs": [],
   "source": [
    "mydb = conn.connect(host = 'localhost', user = 'root', password = 'chanakya')"
   ]
  },
  {
   "cell_type": "code",
   "execution_count": 42,
   "id": "1add4417",
   "metadata": {},
   "outputs": [
    {
     "data": {
      "text/plain": [
       "<mysql.connector.connection_cext.CMySQLConnection at 0x1f7c8194ca0>"
      ]
     },
     "execution_count": 42,
     "metadata": {},
     "output_type": "execute_result"
    }
   ],
   "source": [
    "mydb"
   ]
  },
  {
   "cell_type": "code",
   "execution_count": 43,
   "id": "8535ff15",
   "metadata": {},
   "outputs": [],
   "source": [
    "cursor = mydb.cursor()"
   ]
  },
  {
   "cell_type": "code",
   "execution_count": 44,
   "id": "f0942d2c",
   "metadata": {},
   "outputs": [],
   "source": [
    "cursor.execute('show databases')"
   ]
  },
  {
   "cell_type": "code",
   "execution_count": 45,
   "id": "335872f5",
   "metadata": {},
   "outputs": [
    {
     "data": {
      "text/plain": [
       "[('cardataset',),\n",
       " ('information_schema',),\n",
       " ('mysql',),\n",
       " ('mysqlassignment',),\n",
       " ('performance_schema',),\n",
       " ('sakila',),\n",
       " ('saptaksubhra',),\n",
       " ('sys',),\n",
       " ('world',)]"
      ]
     },
     "execution_count": 45,
     "metadata": {},
     "output_type": "execute_result"
    }
   ],
   "source": [
    "cursor.fetchall()"
   ]
  },
  {
   "cell_type": "code",
   "execution_count": 46,
   "id": "3fe563e2",
   "metadata": {},
   "outputs": [],
   "source": [
    "cursor.execute('use mysqlassignment')"
   ]
  },
  {
   "cell_type": "code",
   "execution_count": 47,
   "id": "fa162b61",
   "metadata": {},
   "outputs": [],
   "source": [
    "cursor.execute('show tables')"
   ]
  },
  {
   "cell_type": "code",
   "execution_count": 48,
   "id": "8a7fca15",
   "metadata": {},
   "outputs": [
    {
     "data": {
      "text/plain": [
       "[('employees',), ('worker',), ('worker1',), ('worker2',), ('workerclone',)]"
      ]
     },
     "execution_count": 48,
     "metadata": {},
     "output_type": "execute_result"
    }
   ],
   "source": [
    "cursor.fetchall()"
   ]
  },
  {
   "cell_type": "code",
   "execution_count": 31,
   "id": "c05e2591",
   "metadata": {},
   "outputs": [
    {
     "data": {
      "text/plain": [
       "[(1,\n",
       "  'SubhashChandra',\n",
       "  'Bose',\n",
       "  800000,\n",
       "  datetime.date(2012, 1, 1),\n",
       "  'subhash@infinity.com',\n",
       "  'HR'),\n",
       " (2,\n",
       "  'Lalbahadur',\n",
       "  'Shastri',\n",
       "  700000,\n",
       "  datetime.date(2012, 2, 2),\n",
       "  'shastri@infinity.com',\n",
       "  'Admin'),\n",
       " (3,\n",
       "  'Vishal',\n",
       "  'Singhal',\n",
       "  300000,\n",
       "  datetime.date(2013, 1, 1),\n",
       "  'vishal@infinity.com',\n",
       "  'HR'),\n",
       " (4,\n",
       "  'Amitabh',\n",
       "  'Singh',\n",
       "  500000,\n",
       "  datetime.date(2013, 1, 1),\n",
       "  'amitabh@infinity.com',\n",
       "  'HR'),\n",
       " (5,\n",
       "  'Vivek',\n",
       "  'Bharati',\n",
       "  600000,\n",
       "  datetime.date(2013, 3, 2),\n",
       "  'vivek@infinity.com',\n",
       "  'Admin'),\n",
       " (6,\n",
       "  'Vipul',\n",
       "  'Thakur',\n",
       "  200000,\n",
       "  datetime.date(2015, 1, 1),\n",
       "  'vipul@infinity.com',\n",
       "  'Account'),\n",
       " (7,\n",
       "  'Satish',\n",
       "  'Kaushik',\n",
       "  300000,\n",
       "  datetime.date(2016, 1, 1),\n",
       "  'satish@infinity.com',\n",
       "  'HR'),\n",
       " (8,\n",
       "  'Sandhya',\n",
       "  'Mukherjee',\n",
       "  500000,\n",
       "  datetime.date(2016, 1, 1),\n",
       "  'sandhya@infinity.com',\n",
       "  'Account'),\n",
       " (1,\n",
       "  'SubhashChandra',\n",
       "  'Bose',\n",
       "  800000,\n",
       "  datetime.date(2012, 1, 1),\n",
       "  'subhash@infinity.com',\n",
       "  'HR'),\n",
       " (2,\n",
       "  'Lalbahadur',\n",
       "  'Shastri',\n",
       "  700000,\n",
       "  datetime.date(2012, 2, 2),\n",
       "  'shastri@infinity.com',\n",
       "  'Admin'),\n",
       " (3,\n",
       "  'Vishal',\n",
       "  'Singhal',\n",
       "  300000,\n",
       "  datetime.date(2013, 1, 1),\n",
       "  'vishal@infinity.com',\n",
       "  'HR'),\n",
       " (4,\n",
       "  'Amitabh',\n",
       "  'Singh',\n",
       "  500000,\n",
       "  datetime.date(2013, 1, 1),\n",
       "  'amitabh@infinity.com',\n",
       "  'HR'),\n",
       " (5,\n",
       "  'Vivek',\n",
       "  'Bharati',\n",
       "  600000,\n",
       "  datetime.date(2013, 3, 2),\n",
       "  'vivek@infinity.com',\n",
       "  'Admin'),\n",
       " (6,\n",
       "  'Vipul',\n",
       "  'Thakur',\n",
       "  200000,\n",
       "  datetime.date(2015, 1, 1),\n",
       "  'vipul@infinity.com',\n",
       "  'Account'),\n",
       " (7,\n",
       "  'Satish',\n",
       "  'Kaushik',\n",
       "  300000,\n",
       "  datetime.date(2016, 1, 1),\n",
       "  'satish@infinity.com',\n",
       "  'HR'),\n",
       " (8,\n",
       "  'Sandhya',\n",
       "  'Mukherjee',\n",
       "  500000,\n",
       "  datetime.date(2016, 1, 1),\n",
       "  'sandhya@infinity.com',\n",
       "  'Account'),\n",
       " (1,\n",
       "  'SubhashChandra',\n",
       "  'Bose',\n",
       "  800000,\n",
       "  datetime.date(2012, 1, 1),\n",
       "  'subhash@infinity.com',\n",
       "  'HR')]"
      ]
     },
     "execution_count": 31,
     "metadata": {},
     "output_type": "execute_result"
    }
   ],
   "source": [
    "cursor.execute('select * from mysqlassignment.Worker')\n",
    "cursor.fetchall()"
   ]
  },
  {
   "cell_type": "code",
   "execution_count": 12,
   "id": "25a064da",
   "metadata": {},
   "outputs": [
    {
     "data": {
      "text/plain": [
       "[]"
      ]
     },
     "execution_count": 12,
     "metadata": {},
     "output_type": "execute_result"
    }
   ],
   "source": [
    "# Q-1. Write an SQL query to print details of the Workers who have joined in Feb’2014.\n",
    "\n",
    "cursor.execute('select * from Worker where DATE_OF_JOINING between \"2014-02-01\" and \"2014-02-28\" order by DATE_OF_JOINING')\n",
    "cursor.fetchall()\n",
    "\n"
   ]
  },
  {
   "cell_type": "code",
   "execution_count": 13,
   "id": "8deeeb23",
   "metadata": {},
   "outputs": [
    {
     "data": {
      "text/plain": [
       "[]"
      ]
     },
     "execution_count": 13,
     "metadata": {},
     "output_type": "execute_result"
    }
   ],
   "source": [
    "cursor.execute('select *from Worker where year(DATE_OF_JOINING) = 2014 and month(DATE_OF_JOINING) = 2')\n",
    "cursor.fetchall()"
   ]
  },
  {
   "cell_type": "code",
   "execution_count": 16,
   "id": "07f2b4c1",
   "metadata": {},
   "outputs": [
    {
     "ename": "ProgrammingError",
     "evalue": "1050 (42S01): Table 'worker1' already exists",
     "output_type": "error",
     "traceback": [
      "\u001b[1;31m---------------------------------------------------------------------------\u001b[0m",
      "\u001b[1;31mMySQLInterfaceError\u001b[0m                       Traceback (most recent call last)",
      "\u001b[1;32mC:\\ProgramData\\Anaconda3\\lib\\site-packages\\mysql\\connector\\connection_cext.py\u001b[0m in \u001b[0;36mcmd_query\u001b[1;34m(self, query, raw, buffered, raw_as_string)\u001b[0m\n\u001b[0;32m    522\u001b[0m                 \u001b[0mquery\u001b[0m \u001b[1;33m=\u001b[0m \u001b[0mquery\u001b[0m\u001b[1;33m.\u001b[0m\u001b[0mencode\u001b[0m\u001b[1;33m(\u001b[0m\u001b[1;34m'utf-8'\u001b[0m\u001b[1;33m)\u001b[0m\u001b[1;33m\u001b[0m\u001b[1;33m\u001b[0m\u001b[0m\n\u001b[1;32m--> 523\u001b[1;33m             self._cmysql.query(query,\n\u001b[0m\u001b[0;32m    524\u001b[0m                                \u001b[0mraw\u001b[0m\u001b[1;33m=\u001b[0m\u001b[0mraw\u001b[0m\u001b[1;33m,\u001b[0m \u001b[0mbuffered\u001b[0m\u001b[1;33m=\u001b[0m\u001b[0mbuffered\u001b[0m\u001b[1;33m,\u001b[0m\u001b[1;33m\u001b[0m\u001b[1;33m\u001b[0m\u001b[0m\n",
      "\u001b[1;31mMySQLInterfaceError\u001b[0m: Table 'worker1' already exists",
      "\nDuring handling of the above exception, another exception occurred:\n",
      "\u001b[1;31mProgrammingError\u001b[0m                          Traceback (most recent call last)",
      "\u001b[1;32m~\\AppData\\Local\\Temp/ipykernel_10900/1521576994.py\u001b[0m in \u001b[0;36m<module>\u001b[1;34m\u001b[0m\n\u001b[1;32m----> 1\u001b[1;33m \u001b[0mcursor\u001b[0m\u001b[1;33m.\u001b[0m\u001b[0mexecute\u001b[0m\u001b[1;33m(\u001b[0m\u001b[1;34m'create table mysqlassignment.Worker1(WORKER_ID INT(5), DESIGNATION VARCHAR(20), AFFECTED_FROM DATETIME)'\u001b[0m\u001b[1;33m)\u001b[0m\u001b[1;33m\u001b[0m\u001b[1;33m\u001b[0m\u001b[0m\n\u001b[0m",
      "\u001b[1;32mC:\\ProgramData\\Anaconda3\\lib\\site-packages\\mysql\\connector\\cursor_cext.py\u001b[0m in \u001b[0;36mexecute\u001b[1;34m(self, operation, params, multi)\u001b[0m\n\u001b[0;32m    267\u001b[0m \u001b[1;33m\u001b[0m\u001b[0m\n\u001b[0;32m    268\u001b[0m         \u001b[1;32mtry\u001b[0m\u001b[1;33m:\u001b[0m\u001b[1;33m\u001b[0m\u001b[1;33m\u001b[0m\u001b[0m\n\u001b[1;32m--> 269\u001b[1;33m             result = self._cnx.cmd_query(stmt, raw=self._raw,\n\u001b[0m\u001b[0;32m    270\u001b[0m                                          \u001b[0mbuffered\u001b[0m\u001b[1;33m=\u001b[0m\u001b[0mself\u001b[0m\u001b[1;33m.\u001b[0m\u001b[0m_buffered\u001b[0m\u001b[1;33m,\u001b[0m\u001b[1;33m\u001b[0m\u001b[1;33m\u001b[0m\u001b[0m\n\u001b[0;32m    271\u001b[0m                                          raw_as_string=self._raw_as_string)\n",
      "\u001b[1;32mC:\\ProgramData\\Anaconda3\\lib\\site-packages\\mysql\\connector\\connection_cext.py\u001b[0m in \u001b[0;36mcmd_query\u001b[1;34m(self, query, raw, buffered, raw_as_string)\u001b[0m\n\u001b[0;32m    526\u001b[0m                                query_attrs=self._query_attrs)\n\u001b[0;32m    527\u001b[0m         \u001b[1;32mexcept\u001b[0m \u001b[0mMySQLInterfaceError\u001b[0m \u001b[1;32mas\u001b[0m \u001b[0mexc\u001b[0m\u001b[1;33m:\u001b[0m\u001b[1;33m\u001b[0m\u001b[1;33m\u001b[0m\u001b[0m\n\u001b[1;32m--> 528\u001b[1;33m             raise errors.get_mysql_exception(exc.errno, msg=exc.msg,\n\u001b[0m\u001b[0;32m    529\u001b[0m                                              sqlstate=exc.sqlstate)\n\u001b[0;32m    530\u001b[0m         \u001b[1;32mexcept\u001b[0m \u001b[0mAttributeError\u001b[0m\u001b[1;33m:\u001b[0m\u001b[1;33m\u001b[0m\u001b[1;33m\u001b[0m\u001b[0m\n",
      "\u001b[1;31mProgrammingError\u001b[0m: 1050 (42S01): Table 'worker1' already exists"
     ]
    }
   ],
   "source": [
    "cursor.execute('create table mysqlassignment.Worker1(WORKER_ID INT(5), DESIGNATION VARCHAR(20), AFFECTED_FROM DATETIME)')"
   ]
  },
  {
   "cell_type": "code",
   "execution_count": 17,
   "id": "e4fea721",
   "metadata": {},
   "outputs": [],
   "source": [
    "cursor.execute('use mysqlassignment')"
   ]
  },
  {
   "cell_type": "code",
   "execution_count": 18,
   "id": "d508fdbb",
   "metadata": {},
   "outputs": [],
   "source": [
    "cursor.execute('show tables')"
   ]
  },
  {
   "cell_type": "code",
   "execution_count": 19,
   "id": "151f81c4",
   "metadata": {},
   "outputs": [
    {
     "data": {
      "text/plain": [
       "[('worker',), ('worker1',), ('worker2',)]"
      ]
     },
     "execution_count": 19,
     "metadata": {},
     "output_type": "execute_result"
    }
   ],
   "source": [
    "cursor.fetchall()"
   ]
  },
  {
   "cell_type": "code",
   "execution_count": 20,
   "id": "7cd93ac4",
   "metadata": {},
   "outputs": [],
   "source": [
    "cursor.execute('insert into mysqlassignment.Worker1 values(16, \"Manager\", \"2018-03-06 00:00:00\")')\n",
    "cursor.execute('insert into mysqlassignment.Worker1 values(36, \"Executive\", \"2018-03-06 00:00:00\")')\n",
    "cursor.execute('insert into mysqlassignment.Worker1 values(43, \"Lead\", \"2018-03-06 00:00:00\")')\n",
    "cursor.execute('insert into mysqlassignment.Worker1 values(786, \"Assistant Manager\", \"2018-03-06 00:00:00\")')\n",
    "cursor.execute('insert into mysqlassignment.Worker1 values(108, \"General Manager\", \"2018-03-06 00:00:00\")')\n",
    "cursor.execute('insert into mysqlassignment.Worker1 values(1008, \"Regional Manager\", \"2018-03-06 00:00:00\")')\n",
    "cursor.execute('insert into mysqlassignment.Worker1 values(96, \"Associate\", \"2022-01-06 00:00:00\")')\n",
    "cursor.execute('insert into mysqlassignment.Worker1 values(99, \"Executive Leader\", \"2018-03-06 00:00:00\")')\n",
    "cursor.execute('insert into mysqlassignment.Worker1 values(1000, \"Project Manager\", \"2020-03-06 00:00:00\")')\n"
   ]
  },
  {
   "cell_type": "code",
   "execution_count": 21,
   "id": "6c021872",
   "metadata": {},
   "outputs": [],
   "source": [
    "mydb.commit()"
   ]
  },
  {
   "cell_type": "code",
   "execution_count": 22,
   "id": "b7396b20",
   "metadata": {},
   "outputs": [],
   "source": [
    "cursor.execute('select * from mysqlassignment.Worker1')"
   ]
  },
  {
   "cell_type": "code",
   "execution_count": 23,
   "id": "3e5dd175",
   "metadata": {},
   "outputs": [
    {
     "data": {
      "text/plain": [
       "[(16, 'Manager', datetime.datetime(2018, 3, 6, 0, 0)),\n",
       " (36, 'Executive', datetime.datetime(2018, 3, 6, 0, 0)),\n",
       " (43, 'Lead', datetime.datetime(2018, 3, 6, 0, 0)),\n",
       " (786, 'Assistant Manager', datetime.datetime(2018, 3, 6, 0, 0)),\n",
       " (108, 'General Manager', datetime.datetime(2018, 3, 6, 0, 0)),\n",
       " (1008, 'Regional Manager', datetime.datetime(2018, 3, 6, 0, 0)),\n",
       " (96, 'Associate', datetime.datetime(2022, 1, 6, 0, 0)),\n",
       " (99, 'Executive Leader', datetime.datetime(2018, 3, 6, 0, 0)),\n",
       " (1000, 'Project Manager', datetime.datetime(2020, 3, 6, 0, 0)),\n",
       " (16, 'Manager', datetime.datetime(2018, 3, 6, 0, 0)),\n",
       " (36, 'Executive', datetime.datetime(2018, 3, 6, 0, 0)),\n",
       " (43, 'Lead', datetime.datetime(2018, 3, 6, 0, 0)),\n",
       " (786, 'Assistant Manager', datetime.datetime(2018, 3, 6, 0, 0)),\n",
       " (108, 'General Manager', datetime.datetime(2018, 3, 6, 0, 0)),\n",
       " (1008, 'Regional Manager', datetime.datetime(2018, 3, 6, 0, 0)),\n",
       " (96, 'Associate', datetime.datetime(2022, 1, 6, 0, 0)),\n",
       " (99, 'Executive Leader', datetime.datetime(2018, 3, 6, 0, 0)),\n",
       " (1000, 'Project Manager', datetime.datetime(2020, 3, 6, 0, 0))]"
      ]
     },
     "execution_count": 23,
     "metadata": {},
     "output_type": "execute_result"
    }
   ],
   "source": [
    "cursor.fetchall()"
   ]
  },
  {
   "cell_type": "code",
   "execution_count": 24,
   "id": "c30db0df",
   "metadata": {},
   "outputs": [
    {
     "data": {
      "text/plain": [
       "[('Manager', datetime.datetime(2018, 3, 6, 0, 0), 2),\n",
       " ('Executive', datetime.datetime(2018, 3, 6, 0, 0), 2),\n",
       " ('Lead', datetime.datetime(2018, 3, 6, 0, 0), 2),\n",
       " ('Assistant Manager', datetime.datetime(2018, 3, 6, 0, 0), 2),\n",
       " ('General Manager', datetime.datetime(2018, 3, 6, 0, 0), 2),\n",
       " ('Regional Manager', datetime.datetime(2018, 3, 6, 0, 0), 2),\n",
       " ('Associate', datetime.datetime(2022, 1, 6, 0, 0), 2),\n",
       " ('Executive Leader', datetime.datetime(2018, 3, 6, 0, 0), 2),\n",
       " ('Project Manager', datetime.datetime(2020, 3, 6, 0, 0), 2)]"
      ]
     },
     "execution_count": 24,
     "metadata": {},
     "output_type": "execute_result"
    }
   ],
   "source": [
    "# Q-2. Write an SQL query to fetch duplicate records having matching data in some fields of a table.\n",
    "\n",
    "cursor.execute(\"select DESIGNATION, AFFECTED_FROM, count(*) from Worker1 group by DESIGNATION, AFFECTED_FROM having count(*) > 1\")\n",
    "cursor.fetchall()"
   ]
  },
  {
   "cell_type": "code",
   "execution_count": 63,
   "id": "98f68c87",
   "metadata": {},
   "outputs": [],
   "source": [
    "cursor.execute('create table mysqlassignment.Worker3(ID INT PRIMARY KEY, FIRST_NAME VARCHAR(50), LAST_NAME VARCHAR(50), COUNTRY VARCHAR(50))')"
   ]
  },
  {
   "cell_type": "code",
   "execution_count": 64,
   "id": "33a03bda",
   "metadata": {},
   "outputs": [],
   "source": [
    "cursor.execute('use mysqlassignment')"
   ]
  },
  {
   "cell_type": "code",
   "execution_count": 65,
   "id": "fb7e5d89",
   "metadata": {},
   "outputs": [],
   "source": [
    "cursor.execute('show tables')"
   ]
  },
  {
   "cell_type": "code",
   "execution_count": 66,
   "id": "48a000e1",
   "metadata": {},
   "outputs": [
    {
     "data": {
      "text/plain": [
       "[('worker',), ('worker1',), ('worker2',), ('worker3',)]"
      ]
     },
     "execution_count": 66,
     "metadata": {},
     "output_type": "execute_result"
    }
   ],
   "source": [
    "cursor.fetchall()"
   ]
  },
  {
   "cell_type": "code",
   "execution_count": 14,
   "id": "95443bb5",
   "metadata": {},
   "outputs": [],
   "source": [
    "cursor.execute('drop table if exists Worker3')"
   ]
  },
  {
   "cell_type": "code",
   "execution_count": 15,
   "id": "9665646f",
   "metadata": {},
   "outputs": [],
   "source": [
    "cursor.execute('use mysqlassignment')"
   ]
  },
  {
   "cell_type": "code",
   "execution_count": 16,
   "id": "e54ccd80",
   "metadata": {},
   "outputs": [],
   "source": [
    "cursor.execute('show tables')"
   ]
  },
  {
   "cell_type": "code",
   "execution_count": 17,
   "id": "df1df239",
   "metadata": {},
   "outputs": [
    {
     "data": {
      "text/plain": [
       "[('worker',), ('worker1',), ('worker2',), ('workerclone',)]"
      ]
     },
     "execution_count": 17,
     "metadata": {},
     "output_type": "execute_result"
    }
   ],
   "source": [
    "cursor.fetchall()"
   ]
  },
  {
   "cell_type": "code",
   "execution_count": 18,
   "id": "8fd7fced",
   "metadata": {},
   "outputs": [],
   "source": [
    "cursor.execute('create table Employees(EMPLOYEE_ID INT(5), FIRST_NAME VARCHAR(20), LAST_NAME VARCHAR(20), EMAIL VARCHAR(20))')"
   ]
  },
  {
   "cell_type": "code",
   "execution_count": 21,
   "id": "a8739a53",
   "metadata": {},
   "outputs": [],
   "source": [
    "cursor.execute('use mysqlassignment')"
   ]
  },
  {
   "cell_type": "code",
   "execution_count": 22,
   "id": "7c8f9c43",
   "metadata": {},
   "outputs": [],
   "source": [
    "cursor.execute('show tables')"
   ]
  },
  {
   "cell_type": "code",
   "execution_count": 23,
   "id": "dc266bf6",
   "metadata": {},
   "outputs": [
    {
     "data": {
      "text/plain": [
       "[('employees',), ('worker',), ('worker1',), ('worker2',), ('workerclone',)]"
      ]
     },
     "execution_count": 23,
     "metadata": {},
     "output_type": "execute_result"
    }
   ],
   "source": [
    "cursor.fetchall()"
   ]
  },
  {
   "cell_type": "code",
   "execution_count": 24,
   "id": "6b7055e4",
   "metadata": {},
   "outputs": [],
   "source": [
    "cursor.execute('insert into mysqlassignment.Employees values(101, \"Kevin\", \"Peterson\", \"kevin@gmail.com\")')\n",
    "cursor.execute('insert into mysqlassignment.Employees values(101, \"Kevin\", \"Peterson\", \"kevin@gmail.com\")')\n",
    "cursor.execute('insert into mysqlassignment.Employees values(101, \"Kevin\", \"Peterson\", \"kevin@gmail.com\")')\n",
    "cursor.execute('insert into mysqlassignment.Employees values(102, \"Hashim\", \"Amla\", \"hashim@gmail.com\")')\n",
    "cursor.execute('insert into mysqlassignment.Employees values(103, \"Adam\", \"Gilly\", \"Adam@gmail.com\")')\n",
    "cursor.execute('insert into mysqlassignment.Employees values(101, \"Kevin\", \"Peterson\", \"kevin@gmail.com\")')\n",
    "cursor.execute('insert into mysqlassignment.Employees values(102, \"Hashim\", \"Amla\", \"hashim@gmail.com\")')\n",
    "cursor.execute('insert into mysqlassignment.Employees values(103, \"Adam\", \"Gilly\", \"Adam@gmail.com\")')\n",
    "cursor.execute('insert into mysqlassignment.Employees values(104, \"Sourav\", \"Ganguly\", \"sourav@gmail.com\")')\n",
    "cursor.execute('insert into mysqlassignment.Employees values(105, \"Sachin\", \"Tendulkar\", \"sachin@gmail.com\")')\n",
    "cursor.execute('insert into mysqlassignment.Employees values(103, \"Adam\", \"Gilly\", \"Adam@gmail.com\")')\n",
    "cursor.execute('insert into mysqlassignment.Employees values(102, \"Hashim\", \"Amla\", \"hashim@gmail.com\")')"
   ]
  },
  {
   "cell_type": "code",
   "execution_count": 16,
   "id": "7f037e40",
   "metadata": {},
   "outputs": [],
   "source": [
    "mydb.commit()"
   ]
  },
  {
   "cell_type": "code",
   "execution_count": 17,
   "id": "5c86e7c1",
   "metadata": {},
   "outputs": [],
   "source": [
    "cursor.execute('select * from mysqlassignment.Employees')"
   ]
  },
  {
   "cell_type": "code",
   "execution_count": 18,
   "id": "f022f7f7",
   "metadata": {},
   "outputs": [
    {
     "data": {
      "text/plain": [
       "[(101, 'Kevin', 'Peterson', 'kevin@gmail.com'),\n",
       " (101, 'Kevin', 'Peterson', 'kevin@gmail.com'),\n",
       " (101, 'Kevin', 'Peterson', 'kevin@gmail.com'),\n",
       " (102, 'Hashim', 'Amla', 'hashim@gmail.com'),\n",
       " (103, 'Adam', 'Gilly', 'Adam@gmail.com'),\n",
       " (101, 'Kevin', 'Peterson', 'kevin@gmail.com'),\n",
       " (102, 'Hashim', 'Amla', 'hashim@gmail.com'),\n",
       " (103, 'Adam', 'Gilly', 'Adam@gmail.com'),\n",
       " (104, 'Sourav', 'Ganguly', 'sourav@gmail.com'),\n",
       " (105, 'Sachin', 'Tendulkar', 'sachin@gmail.com'),\n",
       " (103, 'Adam', 'Gilly', 'Adam@gmail.com'),\n",
       " (102, 'Hashim', 'Amla', 'hashim@gmail.com')]"
      ]
     },
     "execution_count": 18,
     "metadata": {},
     "output_type": "execute_result"
    }
   ],
   "source": [
    "cursor.fetchall()"
   ]
  },
  {
   "cell_type": "code",
   "execution_count": 50,
   "id": "673d22d3",
   "metadata": {},
   "outputs": [],
   "source": [
    "#Q-3. How to remove duplicate rows from Employees table.\n",
    "cursor.execute('select EMPLOYEE_ID, FIRST_NAME, LAST_NAME, EMAIL from Employees')"
   ]
  },
  {
   "cell_type": "code",
   "execution_count": 51,
   "id": "582a193b",
   "metadata": {},
   "outputs": [
    {
     "ename": "InternalError",
     "evalue": "Unread result found",
     "output_type": "error",
     "traceback": [
      "\u001b[1;31m---------------------------------------------------------------------------\u001b[0m",
      "\u001b[1;31mInternalError\u001b[0m                             Traceback (most recent call last)",
      "\u001b[1;32m~\\AppData\\Local\\Temp/ipykernel_13340/4068584089.py\u001b[0m in \u001b[0;36m<module>\u001b[1;34m\u001b[0m\n\u001b[1;32m----> 1\u001b[1;33m \u001b[0mcursor\u001b[0m\u001b[1;33m.\u001b[0m\u001b[0mexecute\u001b[0m\u001b[1;33m(\u001b[0m\u001b[1;34m'with cte as (select EMPLOYEE_ID, FIRST_NAME, LAST_NAME, EMAIL, ROW_NUMBER() over(partition by FIRST_NAME, LAST_NAME, EMAIL order by FIRST_NAME, LAST_NAME, EMAIL) row_num from Employees ) '\u001b[0m\u001b[1;33m)\u001b[0m\u001b[1;33m\u001b[0m\u001b[1;33m\u001b[0m\u001b[0m\n\u001b[0m\u001b[0;32m      2\u001b[0m \u001b[0mcursor\u001b[0m\u001b[1;33m.\u001b[0m\u001b[0mexecute\u001b[0m\u001b[1;33m(\u001b[0m\u001b[1;34m'delete from cte where row_num > 1'\u001b[0m\u001b[1;33m)\u001b[0m\u001b[1;33m\u001b[0m\u001b[1;33m\u001b[0m\u001b[0m\n",
      "\u001b[1;32mC:\\ProgramData\\Anaconda3\\lib\\site-packages\\mysql\\connector\\cursor_cext.py\u001b[0m in \u001b[0;36mexecute\u001b[1;34m(self, operation, params, multi)\u001b[0m\n\u001b[0;32m    241\u001b[0m         \u001b[1;32mif\u001b[0m \u001b[1;32mnot\u001b[0m \u001b[0mself\u001b[0m\u001b[1;33m.\u001b[0m\u001b[0m_cnx\u001b[0m \u001b[1;32mor\u001b[0m \u001b[0mself\u001b[0m\u001b[1;33m.\u001b[0m\u001b[0m_cnx\u001b[0m\u001b[1;33m.\u001b[0m\u001b[0mis_closed\u001b[0m\u001b[1;33m(\u001b[0m\u001b[1;33m)\u001b[0m\u001b[1;33m:\u001b[0m\u001b[1;33m\u001b[0m\u001b[1;33m\u001b[0m\u001b[0m\n\u001b[0;32m    242\u001b[0m             \u001b[1;32mraise\u001b[0m \u001b[0merrors\u001b[0m\u001b[1;33m.\u001b[0m\u001b[0mProgrammingError\u001b[0m\u001b[1;33m(\u001b[0m\u001b[1;34m\"Cursor is not connected\"\u001b[0m\u001b[1;33m,\u001b[0m \u001b[1;36m2055\u001b[0m\u001b[1;33m)\u001b[0m\u001b[1;33m\u001b[0m\u001b[1;33m\u001b[0m\u001b[0m\n\u001b[1;32m--> 243\u001b[1;33m         \u001b[0mself\u001b[0m\u001b[1;33m.\u001b[0m\u001b[0m_cnx\u001b[0m\u001b[1;33m.\u001b[0m\u001b[0mhandle_unread_result\u001b[0m\u001b[1;33m(\u001b[0m\u001b[1;33m)\u001b[0m\u001b[1;33m\u001b[0m\u001b[1;33m\u001b[0m\u001b[0m\n\u001b[0m\u001b[0;32m    244\u001b[0m \u001b[1;33m\u001b[0m\u001b[0m\n\u001b[0;32m    245\u001b[0m         \u001b[0mstmt\u001b[0m \u001b[1;33m=\u001b[0m \u001b[1;34m''\u001b[0m\u001b[1;33m\u001b[0m\u001b[1;33m\u001b[0m\u001b[0m\n",
      "\u001b[1;32mC:\\ProgramData\\Anaconda3\\lib\\site-packages\\mysql\\connector\\connection_cext.py\u001b[0m in \u001b[0;36mhandle_unread_result\u001b[1;34m(self, prepared)\u001b[0m\n\u001b[0;32m    792\u001b[0m             \u001b[0mself\u001b[0m\u001b[1;33m.\u001b[0m\u001b[0mconsume_results\u001b[0m\u001b[1;33m(\u001b[0m\u001b[1;33m)\u001b[0m\u001b[1;33m\u001b[0m\u001b[1;33m\u001b[0m\u001b[0m\n\u001b[0;32m    793\u001b[0m         \u001b[1;32melif\u001b[0m \u001b[0munread_result\u001b[0m\u001b[1;33m:\u001b[0m\u001b[1;33m\u001b[0m\u001b[1;33m\u001b[0m\u001b[0m\n\u001b[1;32m--> 794\u001b[1;33m             \u001b[1;32mraise\u001b[0m \u001b[0merrors\u001b[0m\u001b[1;33m.\u001b[0m\u001b[0mInternalError\u001b[0m\u001b[1;33m(\u001b[0m\u001b[1;34m\"Unread result found\"\u001b[0m\u001b[1;33m)\u001b[0m\u001b[1;33m\u001b[0m\u001b[1;33m\u001b[0m\u001b[0m\n\u001b[0m\u001b[0;32m    795\u001b[0m \u001b[1;33m\u001b[0m\u001b[0m\n\u001b[0;32m    796\u001b[0m     \u001b[1;32mdef\u001b[0m \u001b[0mreset_session\u001b[0m\u001b[1;33m(\u001b[0m\u001b[0mself\u001b[0m\u001b[1;33m,\u001b[0m \u001b[0muser_variables\u001b[0m\u001b[1;33m=\u001b[0m\u001b[1;32mNone\u001b[0m\u001b[1;33m,\u001b[0m \u001b[0msession_variables\u001b[0m\u001b[1;33m=\u001b[0m\u001b[1;32mNone\u001b[0m\u001b[1;33m)\u001b[0m\u001b[1;33m:\u001b[0m\u001b[1;33m\u001b[0m\u001b[1;33m\u001b[0m\u001b[0m\n",
      "\u001b[1;31mInternalError\u001b[0m: Unread result found"
     ]
    }
   ],
   "source": [
    "cursor.execute('with cte as (select EMPLOYEE_ID, FIRST_NAME, LAST_NAME, EMAIL, ROW_NUMBER() over(partition by FIRST_NAME, LAST_NAME, EMAIL order by FIRST_NAME, LAST_NAME, EMAIL) row_num from Employees ) ')\n",
    "cursor.execute('delete from cte where row_num > 1')"
   ]
  }
 ],
 "metadata": {
  "kernelspec": {
   "display_name": "Python 3 (ipykernel)",
   "language": "python",
   "name": "python3"
  },
  "language_info": {
   "codemirror_mode": {
    "name": "ipython",
    "version": 3
   },
   "file_extension": ".py",
   "mimetype": "text/x-python",
   "name": "python",
   "nbconvert_exporter": "python",
   "pygments_lexer": "ipython3",
   "version": "3.9.7"
  }
 },
 "nbformat": 4,
 "nbformat_minor": 5
}
