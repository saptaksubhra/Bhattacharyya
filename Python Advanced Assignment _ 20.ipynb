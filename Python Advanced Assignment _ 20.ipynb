{
 "cells": [
  {
   "cell_type": "markdown",
   "id": "b95a7b23",
   "metadata": {},
   "source": [
    "1.Compare and contrast the float and Decimal classes' benefits and drawbacks.\n",
    "\n",
    "Float and Decimal data types are both used to store numerical values. Float is Approximate-number data type, which means that not all values in the data type range can be represented exactly , it rounds up the values, where as Decimal is Fixed-Precision data type, which means that all the values in the data type range can be represented exactly with precision and scale, it doesn’t round up the values. Performance of decimal is slower as comapared to floating point data type. Float is a single precision (32 bit) floating point data type and decimal is a 128-bit floating point data type. Floating point data type represent number values with fractional parts. Decimal accurately represent any number within the precision of the decimal format, whereas Float cannot accurately represent all numbers. Decimal used within financial applications that require a high degree of accuracy and easy to avoid rounding errors whereas Float used when you stores scientific numbers and for better performance."
   ]
  },
  {
   "cell_type": "markdown",
   "id": "8f4f8487",
   "metadata": {},
   "source": [
    "2.Decimal(\"1.200\") and Decimal(\"1.2\") are two objects to consider. In what sense are these the same\n",
    "object? Are these just two ways of representing the exact same value, or do they correspond to\n",
    "different internal states?\n",
    "\n",
    "In general, accuracy is how close the empirical value is to the real value. Let’s assume in this case the real value is 1.250. From the given data, 1.200 and 1.2 are equally close to 1.250 by 0.050 units. Thus, both these values are equally accurate. So,the sense is how close the empirical value is to the real value.  However, when we talk about the precision of these values, 1.200 is the more precise value, because it has been measured to 3 decimal places. So, in terms of precision these are just two ways of representing the exact same value."
   ]
  },
  {
   "cell_type": "markdown",
   "id": "ac62a475",
   "metadata": {},
   "source": [
    "3.What happens if the equality of Decimal(\"1.200\") and Decimal(\"1.2\") is checked?\n",
    "\n",
    "In Physics, accuracy is how close the empirical value is to the real value. Let’s assume in this case the real value is 1.250. From the given data, 1.200 and 1.2 are equally close to 1.250 by 0.050 units. Thus, both these values are equally accurate. However, when we talk about the precision of these values, 1.200 is the more precise value, because it has been measured to 3 decimal places."
   ]
  },
  {
   "cell_type": "markdown",
   "id": "25e94b0b",
   "metadata": {},
   "source": [
    "4.Why is it preferable to start a Decimal object with a string rather than a floating-point value?\n",
    "\n",
    "It is preferable to start a Decimal object with a string (Specially in JSON) rather than a flaoting-point value because The main reason to transfer numeric values in JSON as strings is to eliminate any loss of precision or ambiguity in transfer. It is true that the JSON spec does not specify a precision for numeric values. This does not mean that JSON numbers have infinite precision."
   ]
  },
  {
   "cell_type": "markdown",
   "id": "fac34c72",
   "metadata": {},
   "source": [
    "5.In an arithmetic phrase, how simple is it to combine Decimal objects with integers?\n",
    "\n",
    "In arithmetic phrase, if we want to combine add up decimal object to integer we can do the typecasting first with built-in function \"int()\" of the decimal object and then we can add up that value to integer with \"+\" operand in Python. Python cuts off the decimal and remaining numbers of a float to create an integer. Let's see thorugh one example."
   ]
  },
  {
   "cell_type": "code",
   "execution_count": 3,
   "id": "93c34e70",
   "metadata": {},
   "outputs": [
    {
     "name": "stdout",
     "output_type": "stream",
     "text": [
      "45\n"
     ]
    }
   ],
   "source": [
    "try:\n",
    "    a = 2.98\n",
    "    b =int(a)\n",
    "    c = 43\n",
    "    new_value = b + c\n",
    "    print(new_value)\n",
    "except:\n",
    "    print('arithmetic operation of different data type')"
   ]
  },
  {
   "cell_type": "markdown",
   "id": "dfd61d88",
   "metadata": {},
   "source": [
    "Apart from Pythonic way if we want to accomplish this task through simple arithmetic operation then we will have to take that meny number zeroes after the decimal point of an integer which will be equal to the remaining numbers after the decimal point of a decimal object. Suppose the decimal object is 2.43 and the integer is 16. so we will have to put 16.00 inplace of 16 as the remaining numbers are 2 after the decimal point of the decimal object. And now if we want to do simple arithmetic operation then we can simply add up 16.00 with 2.43 with \"+\" operand."
   ]
  },
  {
   "cell_type": "code",
   "execution_count": 4,
   "id": "bf0ccf6c",
   "metadata": {},
   "outputs": [],
   "source": [
    "New_value = 2.43 + 16.00"
   ]
  },
  {
   "cell_type": "code",
   "execution_count": 5,
   "id": "f1fe8513",
   "metadata": {},
   "outputs": [
    {
     "data": {
      "text/plain": [
       "18.43"
      ]
     },
     "execution_count": 5,
     "metadata": {},
     "output_type": "execute_result"
    }
   ],
   "source": [
    "New_value"
   ]
  },
  {
   "cell_type": "markdown",
   "id": "45d958e3",
   "metadata": {},
   "source": [
    "6.Can Decimal objects and floating-point values be combined easily?\n",
    "\n",
    "Decimal objects cannot generally be combined with floats or instances of fractions.Fraction in arithmetic operations: an attempt to add a Decimal to a float will raise a TypeError. However, it is possible to use Python’s comparison operators to compare a Decimal instance a with another number b. This avoids confusing results when doing equality comparisons between numbers of different types."
   ]
  },
  {
   "cell_type": "markdown",
   "id": "4e598bd5",
   "metadata": {},
   "source": [
    "7.Using the Fraction class but not the Decimal class, give an example of a quantity that can be\n",
    "expressed with absolute precision.\n",
    "\n",
    "At first we will see how the class can create fractions using Numerator and Denominator. We can provide some floating point numbers as an argument of the Fraction object. We can provide some other examples on string type arguments to the Fraction object. It also supports the sign of the numbers. It supports + or - sign. Fractions can also support the mathematical operations, like addition, subtraction, multiplication, division, power."
   ]
  },
  {
   "cell_type": "code",
   "execution_count": 26,
   "id": "2bfa8288",
   "metadata": {},
   "outputs": [
    {
     "name": "stdout",
     "output_type": "stream",
     "text": [
      "5/6\n",
      "6/25\n",
      "2345390243441541/70368744177664\n",
      "4343/100\n",
      "5/6\n",
      "-628/25\n",
      "Addition: 539/344\n",
      "Subtraction: 1/6\n",
      "Multiplication: 215/252\n",
      "Division: 12/5\n",
      "Power: 25/36\n"
     ]
    }
   ],
   "source": [
    "try:\n",
    "    from fractions import Fraction as frac\n",
    "    print(frac(45, 54))\n",
    "    print(frac(12, 50))\n",
    "    print(frac(33.33))\n",
    "    print(frac('43.43'))\n",
    "    print(frac('5/6'))\n",
    "    print(frac('-25.12'))\n",
    "    print('Addition: ' + str(frac('19/43') + frac('9/8')))\n",
    "    print('Subtraction: ' + str(frac('15/36') - frac('2/8')))\n",
    "    print('Multiplication: ' + str(frac('43/36') * frac('5/7')))\n",
    "    print('Division: ' + str(frac('80/125') / frac('12/45')))\n",
    "    print('Power: ' + str(frac('5/6') ** 2))\n",
    "except:\n",
    "    print('Example of fraction class')\n",
    "\n"
   ]
  },
  {
   "cell_type": "markdown",
   "id": "7c30f1e4",
   "metadata": {},
   "source": [
    "8.Describe a quantity that can be accurately expressed by the Decimal or Fraction classes but not by\n",
    "a floating-point value.\n",
    "\n",
    "Floating point data type represent number values with fractional parts. Decimal accurately represent any number within the precision of the decimal format, whereas Float cannot accurately represent all numbers. For example, if we print 0.1 with 20 decimals places, we don’t actually get 0.1 but instead an approximation."
   ]
  },
  {
   "cell_type": "code",
   "execution_count": 21,
   "id": "abe44773",
   "metadata": {},
   "outputs": [
    {
     "name": "stdout",
     "output_type": "stream",
     "text": [
      "0.10000000000000000555\n"
     ]
    }
   ],
   "source": [
    "print(f\"{0.1:.20f}\")"
   ]
  },
  {
   "cell_type": "markdown",
   "id": "fb59c226",
   "metadata": {},
   "source": [
    "Similarly, when doing operations, such as addition with floats, you get an approximation, which can lead confusing code, such as the following."
   ]
  },
  {
   "cell_type": "code",
   "execution_count": 23,
   "id": "52477869",
   "metadata": {},
   "outputs": [
    {
     "data": {
      "text/plain": [
       "0.30000000000000004"
      ]
     },
     "execution_count": 23,
     "metadata": {},
     "output_type": "execute_result"
    }
   ],
   "source": [
    ".1 + .1 + .1 == .3\n",
    "False\n",
    "\n",
    ".1 + .1 + .1\n"
   ]
  },
  {
   "cell_type": "code",
   "execution_count": 24,
   "id": "e6330ee3",
   "metadata": {},
   "outputs": [
    {
     "data": {
      "text/plain": [
       "0.3"
      ]
     },
     "execution_count": 24,
     "metadata": {},
     "output_type": "execute_result"
    }
   ],
   "source": [
    "round(.1 + .1 + .1, 10) == round(.3, 10)\n",
    "True\n",
    "round(.1 + .1 + .1, 10)"
   ]
  },
  {
   "cell_type": "markdown",
   "id": "ae0ce4c8",
   "metadata": {},
   "source": [
    "In the above case, we round the floats to prevent any precision issues. Now let's have alook at the same example in terms of decimals instead of floats."
   ]
  },
  {
   "cell_type": "code",
   "execution_count": 25,
   "id": "3d3b4a89",
   "metadata": {},
   "outputs": [
    {
     "name": "stdout",
     "output_type": "stream",
     "text": [
      "0.10000000000000000000\n"
     ]
    }
   ],
   "source": [
    "from decimal import Decimal\n",
    "print(f\"{Decimal('0.1'):.20f}\")"
   ]
  },
  {
   "cell_type": "markdown",
   "id": "563006a5",
   "metadata": {},
   "source": [
    "Using decimals in this example prevents the subtle bugs introduced by floats."
   ]
  },
  {
   "cell_type": "markdown",
   "id": "671bdb90",
   "metadata": {},
   "source": [
    "Q9.Consider the following two fraction objects: Fraction(1, 2) and Fraction(1, 2). (5, 10). Is the internal\n",
    "state of these two objects the same? Why do you think that is?\n",
    "\n",
    "The internal state of thsese two objects are the same because, the fraction 1/2 is equivalent to 5/10. So, Fraction(1,2) is equivalent to Fraction(5,10). And also, Addition of Fraction(1,2) and Fraction(5,10) is same as the addition of Fraction(1,2) and Fraction(1,2)."
   ]
  },
  {
   "cell_type": "markdown",
   "id": "bff29c02",
   "metadata": {},
   "source": [
    "Q10. How do the Fraction class and the integer type (int) relate to each other? Containment or\n",
    "inheritance?\n",
    "\n",
    "Integers include all the positive and negative numbers except zero. It does not include any fractional or decimal numbers. Fractions, on the other hand, express one integer divided by another integer, and often equal a decimal number. Because of this, not all fractions can be turned into integers by merely completing the division. When a fraction appears as part of an equation, however, we can multiply the whole equation by the inverse of the fraction or a multiple of the inverse to turn the fraction into an integer. Invert the fraction we wish to eliminate. The inverse of a fraction is the fraction flipped upside down. For example, in the equation 1/2x + 5 = 9, the inverse of 1/2 is 2/1 or 2. So , here inheritance comes intop picture as the fraction consists of one integer divided by another integer."
   ]
  }
 ],
 "metadata": {
  "kernelspec": {
   "display_name": "Python 3 (ipykernel)",
   "language": "python",
   "name": "python3"
  },
  "language_info": {
   "codemirror_mode": {
    "name": "ipython",
    "version": 3
   },
   "file_extension": ".py",
   "mimetype": "text/x-python",
   "name": "python",
   "nbconvert_exporter": "python",
   "pygments_lexer": "ipython3",
   "version": "3.9.7"
  }
 },
 "nbformat": 4,
 "nbformat_minor": 5
}
