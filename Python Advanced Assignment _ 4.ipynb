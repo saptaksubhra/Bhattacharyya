{
 "cells": [
  {
   "cell_type": "markdown",
   "id": "f3fccc3c",
   "metadata": {},
   "source": [
    " Q1. Which two operator overloading methods can you use in your classes to support iteration?\n",
    "\n",
    "The two opeartor overloading methods are \n",
    "__iter__\n",
    "__next__\n",
    "\n",
    "The __iter__ method returns the iterator object and is completely at the start of the loops. Whereas the __next__ method returns the next value is completely called at each loop increment."
   ]
  },
  {
   "cell_type": "code",
   "execution_count": 1,
   "id": "fd3f25a7",
   "metadata": {},
   "outputs": [
    {
     "ename": "TypeError",
     "evalue": "'list' object is not an iterator",
     "output_type": "error",
     "traceback": [
      "\u001b[1;31m---------------------------------------------------------------------------\u001b[0m",
      "\u001b[1;31mTypeError\u001b[0m                                 Traceback (most recent call last)",
      "\u001b[1;32m~\\AppData\\Local\\Temp/ipykernel_13184/896061394.py\u001b[0m in \u001b[0;36m<module>\u001b[1;34m\u001b[0m\n\u001b[0;32m      1\u001b[0m \u001b[1;31m#Example\u001b[0m\u001b[1;33m\u001b[0m\u001b[1;33m\u001b[0m\u001b[0m\n\u001b[0;32m      2\u001b[0m \u001b[0ml\u001b[0m \u001b[1;33m=\u001b[0m \u001b[1;33m[\u001b[0m\u001b[1;36m2\u001b[0m\u001b[1;33m,\u001b[0m\u001b[1;36m4\u001b[0m\u001b[1;33m,\u001b[0m\u001b[1;36m6\u001b[0m\u001b[1;33m,\u001b[0m\u001b[1;36m8\u001b[0m\u001b[1;33m,\u001b[0m\u001b[1;36m12\u001b[0m\u001b[1;33m]\u001b[0m\u001b[1;33m\u001b[0m\u001b[1;33m\u001b[0m\u001b[0m\n\u001b[1;32m----> 3\u001b[1;33m \u001b[0mnext\u001b[0m\u001b[1;33m(\u001b[0m\u001b[0ml\u001b[0m\u001b[1;33m)\u001b[0m\u001b[1;33m\u001b[0m\u001b[1;33m\u001b[0m\u001b[0m\n\u001b[0m",
      "\u001b[1;31mTypeError\u001b[0m: 'list' object is not an iterator"
     ]
    }
   ],
   "source": [
    "#Example\n",
    "l = [2,4,6,8,12]\n",
    "next(l)"
   ]
  },
  {
   "cell_type": "code",
   "execution_count": 3,
   "id": "17684ed2",
   "metadata": {},
   "outputs": [
    {
     "data": {
      "text/plain": [
       "2"
      ]
     },
     "execution_count": 3,
     "metadata": {},
     "output_type": "execute_result"
    }
   ],
   "source": [
    "l = iter(l)\n",
    "next(l)"
   ]
  },
  {
   "cell_type": "code",
   "execution_count": 4,
   "id": "bdb7dddb",
   "metadata": {},
   "outputs": [
    {
     "data": {
      "text/plain": [
       "4"
      ]
     },
     "execution_count": 4,
     "metadata": {},
     "output_type": "execute_result"
    }
   ],
   "source": [
    "next(l)"
   ]
  },
  {
   "cell_type": "code",
   "execution_count": 6,
   "id": "3b704a16",
   "metadata": {},
   "outputs": [
    {
     "data": {
      "text/plain": [
       "8"
      ]
     },
     "execution_count": 6,
     "metadata": {},
     "output_type": "execute_result"
    }
   ],
   "source": [
    "next(l)"
   ]
  },
  {
   "cell_type": "code",
   "execution_count": 7,
   "id": "07c54602",
   "metadata": {},
   "outputs": [
    {
     "data": {
      "text/plain": [
       "12"
      ]
     },
     "execution_count": 7,
     "metadata": {},
     "output_type": "execute_result"
    }
   ],
   "source": [
    "next(l)"
   ]
  },
  {
   "cell_type": "code",
   "execution_count": 8,
   "id": "1a6a2035",
   "metadata": {},
   "outputs": [
    {
     "ename": "StopIteration",
     "evalue": "",
     "output_type": "error",
     "traceback": [
      "\u001b[1;31m---------------------------------------------------------------------------\u001b[0m",
      "\u001b[1;31mStopIteration\u001b[0m                             Traceback (most recent call last)",
      "\u001b[1;32m~\\AppData\\Local\\Temp/ipykernel_13184/2016234150.py\u001b[0m in \u001b[0;36m<module>\u001b[1;34m\u001b[0m\n\u001b[1;32m----> 1\u001b[1;33m \u001b[0mnext\u001b[0m\u001b[1;33m(\u001b[0m\u001b[0ml\u001b[0m\u001b[1;33m)\u001b[0m\u001b[1;33m\u001b[0m\u001b[1;33m\u001b[0m\u001b[0m\n\u001b[0m",
      "\u001b[1;31mStopIteration\u001b[0m: "
     ]
    }
   ],
   "source": [
    "next(l)"
   ]
  },
  {
   "cell_type": "markdown",
   "id": "0cb402b5",
   "metadata": {},
   "source": [
    "As we can see  from the above example that list is not an iterator. So, at the outset though we have implemented next function, it did not work. But after converting list l into an iterable object with the help of iter function, next function has started working and one by one next function has iterated each element from the list l. Once all the elements of the list l have been  iterated then next function has stopped iteration."
   ]
  },
  {
   "cell_type": "code",
   "execution_count": 9,
   "id": "ca641255",
   "metadata": {},
   "outputs": [
    {
     "name": "stdout",
     "output_type": "stream",
     "text": [
      "2\n",
      "3\n",
      "4\n",
      "5\n",
      "6\n",
      "7\n",
      "8\n",
      "9\n",
      "10\n",
      "operator overloading\n"
     ]
    }
   ],
   "source": [
    "# Usage of __iter__ and __next__ methods in our classess to support iteration\n",
    "\n",
    "try:\n",
    "    class counter:\n",
    "        def __init__(sap, low, high):\n",
    "            sap.current = low\n",
    "            sap.high = high\n",
    "        def __iter__(sap):\n",
    "            return sap\n",
    "        def __next__(sap):\n",
    "            if sap.current > sap.high:\n",
    "                raise stopiteration\n",
    "            else:\n",
    "                sap.current = sap.current + 1\n",
    "                return sap.current - 1\n",
    "    for number in counter(2, 10):\n",
    "        print(number)\n",
    "except:\n",
    "    print(\"operator overloading\")\n",
    "        "
   ]
  },
  {
   "cell_type": "markdown",
   "id": "ee00723e",
   "metadata": {},
   "source": [
    "Q2. In what contexts do the two operator overloading methods manage printing?"
   ]
  },
  {
   "cell_type": "markdown",
   "id": "2f47c2a7",
   "metadata": {},
   "source": [
    "The two opeartor overloading methods manage printing when the same function or any built-in opeartor behaves differently with respect to objects of different classess. Such as, + opeartor is used to add up to integers, to merge two lists, or to join or concatenate two strings. Also the multiplication opeartor * is used to multiply two integers, to repeat the same string.\n",
    "Some exmaples have been given below."
   ]
  },
  {
   "cell_type": "code",
   "execution_count": 10,
   "id": "d8326ab4",
   "metadata": {},
   "outputs": [
    {
     "name": "stdout",
     "output_type": "stream",
     "text": [
      "894\n",
      "iNeuron\n",
      "[1, 2, 3, 4, 5, 6, 7, 8, 10, 18]\n",
      " Champ  Champ  Champ  Champ  Champ  Champ  Champ  Champ  Champ  Champ \n"
     ]
    }
   ],
   "source": [
    "# Python programmes to show the usage of + opeartor for different purposes\n",
    "# To add up two integers\n",
    "print(786 + 108)\n",
    "\n",
    "# To concatenate two strings\n",
    "print(\"i\" + \"Neuron\")\n",
    "\n",
    "# To merge two lists\n",
    "print([1,2,3,4] + [5,6,7,8,10,18])\n",
    "\n",
    "# To repeat the same string with the help of * multiplication opeartor\n",
    "print(\" Champ \" * 10)"
   ]
  },
  {
   "cell_type": "markdown",
   "id": "06a576fc",
   "metadata": {},
   "source": [
    " Q3. In a class, how do you intercept slice operations?\n",
    " \n",
    " The slice() method returns a part of an iterable as an object of the slice class on the basis of the specified range. It can be applicable in case of list, tuple, set, string, range objects or any custom class object. The syntax of slice operation is given below:\n",
    " slice(stop)\n",
    " slice(start, stop, step)\n",
    " \n",
    " start is actually the starting index of slicing operation. Default value of that starting index is None.\n",
    " Stop is the index where the slicing should come to an end.\n",
    " step is the index to increase the starting index and it is optional. Default value is None.\n",
    " Few examples have been given below.\n"
   ]
  },
  {
   "cell_type": "code",
   "execution_count": 4,
   "id": "f6022424",
   "metadata": {},
   "outputs": [
    {
     "name": "stdout",
     "output_type": "stream",
     "text": [
      "[1, 3, 5, 7]\n",
      "[2, 4, 6, 8]\n"
     ]
    }
   ],
   "source": [
    "# Slice operation in case of list\n",
    "\n",
    "numbers = [1,2,3,4,5,6,7,8,9]\n",
    "\n",
    "odd_part = slice(0,8,2)\n",
    "print(numbers[odd_part])\n",
    "\n",
    "even_part = slice(1,8,2)\n",
    "print(numbers[even_part])"
   ]
  },
  {
   "cell_type": "code",
   "execution_count": 5,
   "id": "5dee7bda",
   "metadata": {},
   "outputs": [
    {
     "name": "stdout",
     "output_type": "stream",
     "text": [
      "(2, 4, 6, 8)\n"
     ]
    }
   ],
   "source": [
    "# Slice opeartion in case of negative indexing in case of a tuple\n",
    "\n",
    "numbers =  (1,2,3,4,5,6,7,8,9)\n",
    "even_part = slice(-8, -1, 2)\n",
    "print(numbers[even_part])\n"
   ]
  },
  {
   "cell_type": "markdown",
   "id": "933d6ff5",
   "metadata": {},
   "source": [
    "Q4. In a class, how do you capture in-place addition?\n",
    "\n",
    "In a class, we can capture in-place addition by recognizing the general syntax for the addition operation and by the function iadd(). \n",
    "The syntax for in-place addition opeartion is :\n",
    "a = a + b or a+ = b\n",
    "These above expression can be rewritten with the help of iadd() function is as follows:\n",
    "a = opeartor.iadd(a, b)\n",
    "\n",
    "It has been exemplified below."
   ]
  },
  {
   "cell_type": "code",
   "execution_count": 8,
   "id": "f7d5e638",
   "metadata": {},
   "outputs": [
    {
     "name": "stdout",
     "output_type": "stream",
     "text": [
      "The final value after adding and assigning is : 79\n"
     ]
    }
   ],
   "source": [
    "try:\n",
    "    import operator\n",
    "    A = operator.iadd(43, 36)\n",
    "    print(\"The final value after adding and assigning is : \", end = \"\")\n",
    "    print(A)\n",
    "except:\n",
    "    print(\"In-place addition opeartion\")"
   ]
  },
  {
   "cell_type": "markdown",
   "id": "9093e4cc",
   "metadata": {},
   "source": [
    "Q5. When is it appropriate to use operator overloading?\n",
    "\n",
    "Operator overloading is mostly useful when we are making a new class that falls into an existing \"Abstract Base Class\" (ABC).\n",
    "Opeartor overloading is apprpriate to use when the same function or any built-in opeartor behaves differently with respect to objects of different classess. Such as, + opeartor is used to add up to integers, to merge two lists, or to join or concatenate two strings. Also the multiplication opeartor * is used to multiply two integers, to repeat the same string.\n",
    "Some exmaples have been given below."
   ]
  },
  {
   "cell_type": "code",
   "execution_count": 12,
   "id": "21644c7f",
   "metadata": {},
   "outputs": [
    {
     "name": "stdout",
     "output_type": "stream",
     "text": [
      "278\n",
      "TechNeuron\n",
      "[1, 2, 3, 4, 5, 6, 7, 8]\n",
      " Champ  Champ  Champ  Champ  Champ \n"
     ]
    }
   ],
   "source": [
    "# Python programmes to show the usage of + opeartor for different purposes\n",
    "# To add up two integers\n",
    "print(89 + 189)\n",
    "\n",
    "# To concatenate two strings\n",
    "print(\"Tech\" + \"Neuron\")\n",
    "\n",
    "# To merge two lists\n",
    "print([1,2,3,4] + [5,6,7,8])\n",
    "\n",
    "# To repeat the same string with the help of * multiplication opeartor\n",
    "print(\" Champ \" * 5)"
   ]
  }
 ],
 "metadata": {
  "kernelspec": {
   "display_name": "Python 3 (ipykernel)",
   "language": "python",
   "name": "python3"
  },
  "language_info": {
   "codemirror_mode": {
    "name": "ipython",
    "version": 3
   },
   "file_extension": ".py",
   "mimetype": "text/x-python",
   "name": "python",
   "nbconvert_exporter": "python",
   "pygments_lexer": "ipython3",
   "version": "3.9.7"
  }
 },
 "nbformat": 4,
 "nbformat_minor": 5
}
