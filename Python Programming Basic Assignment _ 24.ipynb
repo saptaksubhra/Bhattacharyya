{
 "cells": [
  {
   "cell_type": "markdown",
   "id": "6d247890",
   "metadata": {},
   "source": [
    "Question1\n",
    "Create a function that takes an integer and returns a list from 1 to the given number, where:\n",
    "1. If the number can be divided evenly by 4, amplify it by 10 (i.e. return 10 times the\n",
    "number).\n",
    "2. If the number cannot be divided evenly by 4, simply return the number.\n",
    "Examples\n",
    "amplify(4) ➞ [1, 2, 3, 40]\n",
    "amplify(3) ➞ [1, 2, 3]\n",
    "amplify(25) ➞ [1, 2, 3, 40, 5, 6, 7, 80, 9, 10, 11, 120, 13, 14, 15, 160,\n",
    "17, 18, 19, 200, 21, 22, 23, 240, 25]\n",
    "Notes\n",
    " The given integer will always be equal to or greater than 1.\n",
    " Include the number (see example above).\n",
    " To perform this problem with its intended purpose, try doing it with list\n",
    "comprehensions. If that's too difficult, just solve the challenge any way you can."
   ]
  },
  {
   "cell_type": "markdown",
   "id": "acac6529",
   "metadata": {},
   "source": [
    "Question2\n",
    "Create a function that takes a list of numbers and return the number that's unique.\n",
    "Examples\n",
    "unique([3, 3, 3, 7, 3, 3]) ➞ 7\n",
    "unique([0, 0, 0.77, 0, 0]) ➞ 0.77\n",
    "unique([0, 1, 1, 1, 1, 1, 1, 1]) ➞ 0\n",
    "Notes\n",
    "Test cases will always have exactly one unique number while all others are the same."
   ]
  },
  {
   "cell_type": "code",
   "execution_count": 32,
   "id": "55501c10",
   "metadata": {},
   "outputs": [
    {
     "name": "stdout",
     "output_type": "stream",
     "text": [
      "The unique values from  l1 is\n",
      "[3 7]\n",
      "The unique values from l2 is\n",
      "[0.   0.77]\n",
      "The uniue value from list l3 is :\n",
      "[0 1]\n"
     ]
    }
   ],
   "source": [
    "import numpy as np\n",
    " \n",
    "def unique(l):\n",
    "    x = np.array(l)\n",
    "    print(np.unique(x))\n",
    "     \n",
    "l1 = [3,3,3,7,3,3]\n",
    "print(\"The unique values from  l1 is\")\n",
    "unique(l1)\n",
    " \n",
    "l2 =[0, 0, 0.77, 0, 0]\n",
    "print(\"The unique values from l2 is\")\n",
    "unique(l2)\n",
    "\n",
    "l3 = [0, 1, 1, 1, 1, 1, 1, 1]\n",
    "print(\"The uniue value from list l3 is :\")\n",
    "unique(l3)"
   ]
  },
  {
   "cell_type": "markdown",
   "id": "2ba059f2",
   "metadata": {},
   "source": [
    "Question3\n",
    "Your task is to create a Circle constructor that creates a circle with a radius provided by an\n",
    "argument. The circles constructed must have two getters getArea() (PIr^2) and\n",
    "getPerimeter() (2PI*r) which give both respective areas and perimeter (circumference).\n",
    "\n",
    "For help with this class, I have provided you with a Rectangle constructor which you can use\n",
    "as a base example.\n",
    "Examples\n",
    "circy = Circle(11)\n",
    "circy.getArea()\n",
    "# Should return 380.132711084365\n",
    "circy = Circle(4.44)\n",
    "circy.getPerimeter()\n",
    "# Should return 27.897342763877365\n",
    "Notes\n",
    "Round results up to the nearest integer."
   ]
  },
  {
   "cell_type": "code",
   "execution_count": 31,
   "id": "363f9e05",
   "metadata": {},
   "outputs": [
    {
     "name": "stdout",
     "output_type": "stream",
     "text": [
      "380.28485\n",
      "27.908508000000005\n"
     ]
    }
   ],
   "source": [
    "try:\n",
    "    class Circle():\n",
    "        def __init__(self, r):\n",
    "            self.r = r\n",
    "            \n",
    "        def getArea(self):\n",
    "            return self.r**2*3.14285\n",
    "        \n",
    "        def getPerimeter(self):\n",
    "            return 2*self.r*3.14285\n",
    "        \n",
    "        \n",
    "    circy = Circle(11)\n",
    "    print(circy.getArea())\n",
    "    circy = Circle(4.44)\n",
    "    print(circy.getPerimeter())\n",
    "except:\n",
    "    print('Functionalities of Circle')\n",
    "        \n",
    "        "
   ]
  },
  {
   "cell_type": "markdown",
   "id": "f309728f",
   "metadata": {},
   "source": [
    "Question4\n",
    "Create a function that takes a list of strings and return a list, sorted from shortest to longest.\n",
    "Examples\n",
    "sort_by_length([\"Google\", \"Apple\", \"Microsoft\"])\n",
    "➞ [\"Apple\", \"Google\", \"Microsoft\"]\n",
    "sort_by_length([\"Leonardo\", \"Michelangelo\", \"Raphael\", \"Donatello\"])\n",
    "➞ [\"Raphael\", \"Leonardo\", \"Donatello\", \"Michelangelo\"]\n",
    "sort_by_length([\"Turing\", \"Einstein\", \"Jung\"])\n",
    "➞ [\"Jung\", \"Turing\", \"Einstein\"]\n",
    "Notes\n",
    "All test cases contain lists with strings of different lengths, so you won't have to deal with\n",
    "multiple strings of the same length."
   ]
  },
  {
   "cell_type": "code",
   "execution_count": 21,
   "id": "56a65127",
   "metadata": {},
   "outputs": [
    {
     "name": "stdout",
     "output_type": "stream",
     "text": [
      "['Apple', 'Google', 'Microsoft']\n",
      "['Raphael', 'Leonardo', 'Donatello', 'Michelangelo']\n",
      "['Jung', 'Turing', 'Einstein']\n"
     ]
    }
   ],
   "source": [
    "try:\n",
    "    def sort_by_length(l):\n",
    "        l.sort(key=len)\n",
    "        return l\n",
    "    l1 = ['Google', 'Apple', 'Microsoft']\n",
    "    print(sort_by_length(l1))\n",
    "    \n",
    "    l2 = [\"Leonardo\", \"Michelangelo\", \"Raphael\", \"Donatello\"]\n",
    "    print(sort_by_length(l2))\n",
    "    \n",
    "    l3 = [\"Turing\", \"Einstein\", \"Jung\"]\n",
    "    print(sort_by_length(l3))\n",
    "    \n",
    "except:\n",
    "    print('sorting out the list')"
   ]
  },
  {
   "cell_type": "markdown",
   "id": "7e18a8bb",
   "metadata": {},
   "source": [
    "Question5\n",
    "Create a function that validates whether three given integers form a Pythagorean triplet. The\n",
    "sum of the squares of the two smallest integers must equal the square of the largest number to\n",
    "be validated.\n",
    "\n",
    "Examples\n",
    "is_triplet(3, 4, 5) ➞ True\n",
    "# 3² + 4² = 25\n",
    "# 5² = 25\n",
    "is_triplet(13, 5, 12) ➞ True\n",
    "# 5² + 12² = 169\n",
    "# 13² = 169\n",
    "is_triplet(1, 2, 3) ➞ False\n",
    "# 1² + 2² = 5\n",
    "# 3² = 9\n",
    "Notes\n",
    "Numbers may not be given in a sorted order."
   ]
  },
  {
   "cell_type": "code",
   "execution_count": 24,
   "id": "ccdf6b98",
   "metadata": {},
   "outputs": [
    {
     "name": "stdout",
     "output_type": "stream",
     "text": [
      "True\n",
      "True\n",
      "False\n"
     ]
    }
   ],
   "source": [
    "try:\n",
    "    def is_triplet(arr, n):\n",
    "        j = 0\n",
    "        for i in range(n-2):\n",
    "            for k in range(j + 1, n):\n",
    "                for j in range(i + 1, n-1):\n",
    "                    a = arr[i]*arr[i]\n",
    "                    b = arr[j]*arr[j]\n",
    "                    c = arr[k]*arr[k]\n",
    "                    if (a == b + c or b == c + a or c == a + b):\n",
    "                        return True\n",
    "        return False\n",
    "    arr =[3,4,5]\n",
    "    arrsize = len(arr)\n",
    "    \n",
    "    if(is_triplet(arr, arrsize)):\n",
    "        print(\"True\")\n",
    "    else:\n",
    "        print(\"False\")\n",
    "        \n",
    "    arr =[13,5,12]\n",
    "    arrsize = len(arr)\n",
    "    \n",
    "    if(is_triplet(arr, arrsize)):\n",
    "        print(\"True\")\n",
    "    else:\n",
    "        print(\"False\")\n",
    "        \n",
    "    arr =[1,2,3]\n",
    "    arrsize = len(arr)\n",
    "    \n",
    "    if(is_triplet(arr, arrsize)):\n",
    "        print(\"True\")\n",
    "    else:\n",
    "        print(\"False\")\n",
    "except:\n",
    "    print('Pythogorean Triplet')"
   ]
  }
 ],
 "metadata": {
  "kernelspec": {
   "display_name": "Python 3 (ipykernel)",
   "language": "python",
   "name": "python3"
  },
  "language_info": {
   "codemirror_mode": {
    "name": "ipython",
    "version": 3
   },
   "file_extension": ".py",
   "mimetype": "text/x-python",
   "name": "python",
   "nbconvert_exporter": "python",
   "pygments_lexer": "ipython3",
   "version": "3.9.7"
  }
 },
 "nbformat": 4,
 "nbformat_minor": 5
}
