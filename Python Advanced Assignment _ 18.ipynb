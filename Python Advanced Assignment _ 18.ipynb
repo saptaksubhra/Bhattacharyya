{
 "cells": [
  {
   "cell_type": "markdown",
   "id": "f4fd5c36",
   "metadata": {},
   "source": [
    "Q1. Describe the differences between text and binary files in a single paragraph.\n",
    "\n",
    "Binary file contains the data in the form of 0 and 1(series of binary values) and text files contains the data in the form of stream of characters.Generally binary files are identified as executable files.But binary files are not in human readable form or mode but text file is human readable."
   ]
  },
  {
   "cell_type": "markdown",
   "id": "3d4d4574",
   "metadata": {},
   "source": [
    "Q2. What are some scenarios where using text files will be the better option? When would you like to\n",
    "use binary files instead of text files?\n",
    "\n",
    "The scenarios are opening , closing, reading , writing data in a text file, where using text files will be the better option. There is a bried description regarding those operation in the following paragraph in a text file.\n",
    "\n",
    "To open a text file the function open() is used and the syntax is : \n",
    "File_obj = open(r\"File_Name\",\"Mode_of_Access\")\n",
    "\n",
    "To close a text file close() function is in use and the synatx for that is :\n",
    "file_obj.close()\n",
    "\n",
    "To read some data in a text file read() function is used and the syntax for this is :\n",
    "file_obj.read()\n",
    "\n",
    "To write something in a text file write() function is used and the syntax for this is :\n",
    "file_obj.write()\n",
    "\n",
    "Binary files are used instead of text files when we need to store data more compactly. Also binary files can be used to store any data. For example, a JPEG image is a binary file designed to be read by a computer system.\n"
   ]
  },
  {
   "cell_type": "markdown",
   "id": "93ca53e6",
   "metadata": {},
   "source": [
    "Q3. What are some of the issues with using binary operations to read and write a Python integer\n",
    "directly to disc?\n",
    "\n",
    "Binary files are stored in terms of bytes(0s and 1s) but unlike text files binary files do not represent the ASCII values of  characters rather they represent the actual content such as image, audio, video, compressed\n",
    "versions of other files, executable files, etc. These files are not human readable rather machine readable. Thus, trying to open a binary file using a text editor ( such as notepad or notepad++) will show some garbage values. This is one of the issues with using binary operations to read and write a Python integer directly disc. We need specific software to read or write the contents of a binary file. Binary files are stored in a computer in a sequence\n",
    "of bytes. Even a single bit change can corrupt the whole file and make it unreadable to the supporting application.\n",
    "Also, it is difficult to remove any error which may occur in the binary file as the stored contents are not human\n",
    "readable. We can read and write both text and binary files with the ghelp of Python programs."
   ]
  },
  {
   "cell_type": "markdown",
   "id": "7cfa4421",
   "metadata": {},
   "source": [
    "Q4. Describe a benefit of using the with keyword instead of explicitly opening a file.\n",
    "\n",
    "The benefit of using with keyword instead of explicitly opening a file is that with means that the file will be closed as soon as we leave the block. This is beneficial and crucial as closing a file is something that can be easily forgotten and ties up with resources that we no longer need."
   ]
  },
  {
   "cell_type": "markdown",
   "id": "7af03689",
   "metadata": {},
   "source": [
    "Q5. Does Python have the trailing newline while reading a line of text? Does Python append a\n",
    "newline when you write a line of text?\n",
    "\n",
    "Python readline() is a file method that helps read one complete line from a given file. Python has a trailing newline (\"\\n\") while reading a line of text. \n",
    "\n",
    "Python appends a newline(\"\\n\") when we write a line of text.\n",
    "\n",
    "Let's have a look a brief reading operation of a given file through the following example."
   ]
  },
  {
   "cell_type": "code",
   "execution_count": 1,
   "id": "dbf740c2",
   "metadata": {},
   "outputs": [
    {
     "name": "stdout",
     "output_type": "stream",
     "text": [
      "This is a test of the emergency text system\n"
     ]
    }
   ],
   "source": [
    "myfile= open('test.txt', 'r')\n",
    "myline = myfile.readline()\n",
    "print(myline)\n",
    "myfile.close()"
   ]
  },
  {
   "cell_type": "markdown",
   "id": "32c8d7a6",
   "metadata": {},
   "source": [
    "Q6. What file operations enable for random-access operation?\n",
    "\n",
    "The File object supports seek but we need to be sure that we open them as binary, i.e. \"rb\". We may also use the mmap module for random access, particularly if the data is in an internal format already."
   ]
  },
  {
   "cell_type": "markdown",
   "id": "b1bb1281",
   "metadata": {},
   "source": [
    "Q7. When do you think you'll use the struct package the most?\n",
    "\n",
    "We will use the struct package the most when we need to convert native Python data types such as numbers and strings into a string of bytes and vice versa. This means that the user can parse the binary files of data stored in C structs in Python."
   ]
  },
  {
   "cell_type": "markdown",
   "id": "8757d3b6",
   "metadata": {},
   "source": [
    "Q8. When is pickling the best option?\n",
    "\n",
    "The Python pickle module or pickling is the best option for all the remaining use cases. If we do not need a human-readable format or a standard interoperable format, or if we need to serialize custom objects, then we should go with pickling.\n",
    "The advantage of using pickle is that it can serialize pretty much any Python object, without having to add any extra code."
   ]
  },
  {
   "cell_type": "markdown",
   "id": "10343546",
   "metadata": {},
   "source": [
    "Q9. When will it be best to use the shelve package?\n",
    "\n",
    "Shelve package will be the best to use when dealing with dictionaries because shelf objects support most of methods and operations supported by dictionaries (except copying, constructors and operators | and |=). This eases the transition from dictionary based scripts to those requiring persistent storage.\n",
    "\n",
    "It will be also the best to use shelve package when a shelf object can also be used as a context manager, in which case it will be automatically closed when the with block ends."
   ]
  },
  {
   "cell_type": "markdown",
   "id": "aeb509b0",
   "metadata": {},
   "source": [
    "Q10. What is a special restriction when using the shelve package, as opposed to using other data\n",
    "dictionaries?\n",
    "\n",
    "The shelf dictionary has certain restrictions. Only string data type can be used as key in this special dictionary object, whereas any picklable Python object can be used as value."
   ]
  }
 ],
 "metadata": {
  "kernelspec": {
   "display_name": "Python 3 (ipykernel)",
   "language": "python",
   "name": "python3"
  },
  "language_info": {
   "codemirror_mode": {
    "name": "ipython",
    "version": 3
   },
   "file_extension": ".py",
   "mimetype": "text/x-python",
   "name": "python",
   "nbconvert_exporter": "python",
   "pygments_lexer": "ipython3",
   "version": "3.9.7"
  }
 },
 "nbformat": 4,
 "nbformat_minor": 5
}
