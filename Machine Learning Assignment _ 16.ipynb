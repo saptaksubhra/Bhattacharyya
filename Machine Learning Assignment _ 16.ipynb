{
 "cells": [
  {
   "cell_type": "markdown",
   "id": "bcf0768a",
   "metadata": {},
   "source": [
    "1.In a linear equation, what is the difference between a dependent variable and an independent variable?\n",
    "\n",
    "The independent variable is the cause. Its value is independent of other variables in a linear equation. The dependent variable is the effect. Its value depends on changes in the independent variable."
   ]
  },
  {
   "cell_type": "markdown",
   "id": "86f5a7ad",
   "metadata": {},
   "source": [
    "2.What is the concept of simple linear regression? Give a specific example.\n",
    "\n",
    "Simple linear regression is a regression model that estimates the relationship between one independent variable and one dependent variable using a straight line. Both variables should be quantitative.\n",
    "\n",
    "A Specific example of simple linear regression :\n",
    "\n",
    "Let's say we are conducting a survey on 100 people whose salary range is from 20k inr per month to 50k inr per month. And we are interested in the relationship between salary and happiness ask them to to rank their happiness on a scale from 1 to 10. Our independent variable (income) and dependent variable (happiness) are both quantitative, so we can do a regression analysis to see if there is a linear relationship between them."
   ]
  },
  {
   "cell_type": "markdown",
   "id": "58b47fcf",
   "metadata": {},
   "source": [
    "3.In a linear regression, define the slope.\n",
    "\n",
    "The slope of a regression line represents the rate of change in y variable as x variable changes. Because y is dependent on x, the slope describes the predicted values of y given x.\n",
    "The equation of a linear regression can be given as :\n",
    "y = mx + c where m is the slope of the the line."
   ]
  },
  {
   "cell_type": "markdown",
   "id": "801401de",
   "metadata": {},
   "source": [
    "4.Determine the graph's slope, where the lower point on the line is represented as (3, 2) and the higher point is represented as (2, 2).\n",
    "\n",
    "Here, the lower point is point1 = (3,2) and the upper point is point2 = (2,2)\n",
    "Slope = m = rise / run = y2 -y1/ x2 -x1 mathematically. Here, (x1,y1) = (3,2) and (x2,y2) = (2,2).\n",
    "The rise is the vertical distance between the two points, which is the difference between their y-coordinates. That makes the rise (y2 -y1). The run between these two points is the difference in the x-coordinates (x2 - x1).\n",
    "So, slope = rise / run = 2-2/2-3 =0/-1 = 0"
   ]
  },
  {
   "cell_type": "markdown",
   "id": "c741d5c2",
   "metadata": {},
   "source": [
    "5.In linear regression, what are the conditions for a positive slope?\n",
    "\n",
    "In linear regression the condition for a positive slope is that the two variables are positively related. That means when x increases so does y and when x decreases so does y. Graphically, positive slope means that the line moves from left to right and the line rises or goes upward."
   ]
  },
  {
   "cell_type": "markdown",
   "id": "5b8f9937",
   "metadata": {},
   "source": [
    "6.In linear regression, what are the conditions for a negative slope?\n",
    "\n",
    "In linear regression the condition for a negative slope is that in a negative slope the variable x increases with the decrease in variable y and/or variable y increases with the decrease in variable x. A line with negative slope goes downwards from left to right."
   ]
  },
  {
   "cell_type": "markdown",
   "id": "675e521c",
   "metadata": {},
   "source": [
    "7.What is multiple linear regression and how does it work?\n",
    "\n",
    "Multiple linear regression refers to a statistical technique that uses two or more independent variables to predict the outcome of a dependent variable. \n",
    "Multiple regression is an extension of linear regression models that allow predictions of systems with multiple independent variables. It does this by simply adding more terms to the linear regression equation, with each term representing the impact of a different physical parameter."
   ]
  },
  {
   "cell_type": "markdown",
   "id": "3e98e5d4",
   "metadata": {},
   "source": [
    "8.In multiple linear regression, define the number of squares due to error.\n",
    "\n",
    "SSE represents sum of squares error, also known as residual sum of squares. It is the difference between the observed value and the predicted value.Usually, the lower the sum of squares error better model the regression. SSE is that part of the total variation which is not modeled by the regression line.\n",
    "\n",
    "Sum of Squares (SSE) = Summation from i =1 to n(yi - ŷi)2 \n",
    "yi is the one of the value in the sample\n",
    "ŷi is the predicted value"
   ]
  },
  {
   "cell_type": "markdown",
   "id": "62e6216b",
   "metadata": {},
   "source": [
    "9.In multiple linear regression, define the number of squares due to regression.\n",
    "\n",
    "Sum of squares due to regression or number of squares due to regression is the sum of the differences between the predicted value and the mean of the dependent variable. "
   ]
  },
  {
   "cell_type": "markdown",
   "id": "126311a2",
   "metadata": {},
   "source": [
    "10.In a regression equation, what is multicollinearity?\n",
    "\n",
    "Multicollinearity occurs when two or more independent variables are highly correlated with one another in a regression model. This means that an independent variable can be predicted from another independent variable in a regression model."
   ]
  },
  {
   "cell_type": "markdown",
   "id": "8dd44344",
   "metadata": {},
   "source": [
    "11.What is heteroskedasticity, and what does it mean?\n",
    "\n",
    "In statistics, heteroskedasticity (or heteroscedasticity) happens when the standard deviations of a predicted variable, monitored over different values of an independent variable or as related to prior time periods, are non-constant."
   ]
  },
  {
   "cell_type": "markdown",
   "id": "c4e383f2",
   "metadata": {},
   "source": [
    "12.Describe the concept of ridge regression.\n",
    "\n",
    "Ridge regression is a way to create a parsimonious model when the number of predictor variables in a set exceeds the number of observations, or when a data set has multicollinearity (correlations between predictor variables)."
   ]
  },
  {
   "cell_type": "markdown",
   "id": "2141eb68",
   "metadata": {},
   "source": [
    "13.Describe the concept of lasso regression.\n",
    "\n",
    "Lasso regression is a type of linear regression that uses shrinkage. Shrinkage is where data values are shrunk towards a central point, like the mean. The lasso procedure encourages simple, sparse models (i.e. models with fewer parameters)."
   ]
  },
  {
   "cell_type": "markdown",
   "id": "79dd5dcd",
   "metadata": {},
   "source": [
    "14.What is polynomial regression and how does it work?\n",
    "\n",
    "Polynomial Regression is a form of Linear regression known as a special case of Multiple linear regression which estimates the relationship as an nth degree polynomial. Polynomial Regression is sensitive to outliers so the presence of one or two outliers can also badly affect the performance.\n",
    "\n",
    "In statistics, polynomial regression is a form of regression analysis in which the relationship between the independent variable x and the dependent variable y is modelled as an nth degree polynomial in x."
   ]
  },
  {
   "cell_type": "markdown",
   "id": "97e7d336",
   "metadata": {},
   "source": [
    "15.Describe the basis function.\n",
    "\n",
    "In mathematics, a basis function is an element of a particular basis for a function space. Every function in the function space can be represented as a linear combination of basis functions, just in case of every vector in a vector space can be represented as a linear combination of basis vectors"
   ]
  },
  {
   "cell_type": "markdown",
   "id": "7f28e730",
   "metadata": {},
   "source": [
    "16.Describe how logistic regression works.\n",
    "\n",
    "Logistic Regression is a “Supervised machine learning” algorithm that can be used to model the probability of a certain class or event. It is used when the data is linearly separable and the outcome is binary in nature. That means Logistic regression is usually used for Binary classification problems."
   ]
  }
 ],
 "metadata": {
  "kernelspec": {
   "display_name": "Python 3 (ipykernel)",
   "language": "python",
   "name": "python3"
  },
  "language_info": {
   "codemirror_mode": {
    "name": "ipython",
    "version": 3
   },
   "file_extension": ".py",
   "mimetype": "text/x-python",
   "name": "python",
   "nbconvert_exporter": "python",
   "pygments_lexer": "ipython3",
   "version": "3.9.7"
  }
 },
 "nbformat": 4,
 "nbformat_minor": 5
}
