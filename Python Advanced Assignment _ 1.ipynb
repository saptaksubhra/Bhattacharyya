{
 "cells": [
  {
   "cell_type": "markdown",
   "id": "0e9f2263",
   "metadata": {},
   "source": [
    "# Q1. What is the purpose of Python's OOP?\n",
    "\n",
    "In python, Object Oriented Programming (OOPs) is a programming model or paradigm that utilises objects and class in programming. Its main purpose is to apply the real world entities like polymorphisms, inheritance, encapsulation in programming."
   ]
  },
  {
   "cell_type": "markdown",
   "id": "e970828e",
   "metadata": {},
   "source": [
    "# Q2. Where does an inheritance search look for an attribute?\n",
    "\n",
    "All  objects are namespaces (packages of variables), and the inheritance search is simply a search of the tree from bottom to top looking for the lowest occurrence of an attribute name.\n",
    "\n",
    "\n"
   ]
  },
  {
   "cell_type": "markdown",
   "id": "be797bbf",
   "metadata": {},
   "source": [
    "# Q3. How do you distinguish between a class object and an instance object?\n",
    "\n",
    "The class is the blue print or the skeleton whereas the object is a real thing which is built based on the blue print. An instance is a virtual copy of the object. Everything in Python is an object such as integers, lists, tuples, dictionaries, functions."
   ]
  },
  {
   "cell_type": "markdown",
   "id": "3b38306f",
   "metadata": {},
   "source": [
    "# Q4. What makes the first argument in a class’s method function special?\n",
    "\n",
    "The first argument od every class method including __init__ method is always a reference to the current instance of the class. Coventionally, this argument is named as self but it can be any variable. Self is nothing but a pointer. In __init_ method self or the pointer refers to the new created object and in other class methods the pointer refers to the instance whose method is called.\n"
   ]
  },
  {
   "cell_type": "markdown",
   "id": "55d43684",
   "metadata": {},
   "source": [
    "# Q5. What is the purpose of the __init__ method?\n",
    "\n",
    "The __init__ function is called every time an object is created from a class. The __init__ method lets the class initialize the object's attributes and serves no other purpose. It is only used within classes. It is actually a constructor."
   ]
  },
  {
   "cell_type": "markdown",
   "id": "a790a6a6",
   "metadata": {},
   "source": [
    "# Q6. What is the process for creating a class instance?\n",
    "\n",
    "The process of creating a class instance is by using the class name to generate new instance. Call ClassName() to create a new instance of the class ClassName . To pass parameters to the class instance, the class must have an __init__() method. Pass the parameters in the constructor of the class.\n",
    "\n"
   ]
  },
  {
   "cell_type": "code",
   "execution_count": 3,
   "id": "f9aff8ca",
   "metadata": {},
   "outputs": [
    {
     "name": "stdout",
     "output_type": "stream",
     "text": [
      "This is my test method  of ghi class.\n"
     ]
    }
   ],
   "source": [
    "#For example:\n",
    "\n",
    "class ghi():\n",
    "    \n",
    "    def __init__(self, a,b, c ):\n",
    "        \n",
    "        self.a = a\n",
    "        self.b = b\n",
    "        self.c = c\n",
    "    def test43(self):\n",
    "        print(\"This is my test method  of ghi class.\")\n",
    "        \n",
    "    b = ghi(4,5,6)\n",
    "    b.test43()\n",
    "\n"
   ]
  },
  {
   "cell_type": "markdown",
   "id": "c3768e37",
   "metadata": {},
   "source": [
    "# Q7. What is the process for creating a class?\n",
    "\n",
    "In python a class is created by the keyword class . An object is created by using the constructor of the class. This object will then be called the instance of the class."
   ]
  },
  {
   "cell_type": "markdown",
   "id": "861425ec",
   "metadata": {},
   "source": [
    "# Q8. How would you define the superclasses of a class?\n",
    "\n",
    "A superclass is the class from which many subclasses can be generated. The subclasses inherit the characteristics of a superclass. The superclass is also known as the base class or parent calss."
   ]
  }
 ],
 "metadata": {
  "kernelspec": {
   "display_name": "Python 3 (ipykernel)",
   "language": "python",
   "name": "python3"
  },
  "language_info": {
   "codemirror_mode": {
    "name": "ipython",
    "version": 3
   },
   "file_extension": ".py",
   "mimetype": "text/x-python",
   "name": "python",
   "nbconvert_exporter": "python",
   "pygments_lexer": "ipython3",
   "version": "3.9.7"
  }
 },
 "nbformat": 4,
 "nbformat_minor": 5
}
