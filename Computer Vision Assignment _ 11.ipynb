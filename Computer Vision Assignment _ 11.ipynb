{
 "cells": [
  {
   "cell_type": "markdown",
   "id": "c49740cf",
   "metadata": {},
   "source": [
    "1.What do REGION PROPOSALS entail?\n",
    "\n",
    "A Region Proposal Network, or RPN, is a fully convolutional network that simultaneously predicts object bounds and objectness scores at each position. The RPN is trained end-to-end to generate high-quality region proposals."
   ]
  },
  {
   "cell_type": "markdown",
   "id": "bf6f9c2f",
   "metadata": {},
   "source": [
    "2.What do you mean by NON-MAXIMUM SUPPRESSION? (NMS)\n",
    "\n",
    "Non Maximum Suppression (NMS) is a technique used in numerous computer vision tasks. It is a class of algorithms to select one entity (e.g., bounding boxes) out of many overlapping entities. We can choose the selection criteria to arrive at the desired results."
   ]
  },
  {
   "cell_type": "markdown",
   "id": "fdd50de0",
   "metadata": {},
   "source": [
    "3.What exactly is mAP?\n",
    "\n",
    "AP (Average precision) is a popular metric in measuring the accuracy of object detectors like Faster R-CNN, SSD, etc. Average precision computes the average precision value for recall value over 0 to 1. mAP stands for mean Average Precision. It is the mean value of Average Precision."
   ]
  },
  {
   "cell_type": "markdown",
   "id": "77fe36c1",
   "metadata": {},
   "source": [
    "4.What is a frames per second (FPS)?\n",
    "\n",
    "Frames per second (FPS) is a unit that measures display device performance in video captures and playback and video games. FPS is used to measure frame rate and  the number of images consecutively displayed each second and is a common metric used in video capture and playback when discussing video quality."
   ]
  },
  {
   "cell_type": "markdown",
   "id": "ade22288",
   "metadata": {},
   "source": [
    "5.What is an IOU (INTERSECTION OVER UNION)?\n",
    "\n",
    "Intersection over Union is an evaluation metric used to measure the accuracy of an object detector on a particular dataset. We often see this evaluation metric used in object detection challenges such as the popular PASCAL VOC challenge."
   ]
  },
  {
   "cell_type": "markdown",
   "id": "701d4a91",
   "metadata": {},
   "source": [
    "6.Describe the PRECISION-RECALL CURVE (PR CURVE)\n",
    "\n",
    "A PR curve is simply a graph with Precision values on the y-axis and Recall values on the x-axis. In other words, the PR curve contains TP/(TP+FN) on the y-axis and TP/(TP+FP) on the x-axis. It is important to note that Precision is also called the Positive Predictive Value (PPV).\n",
    "In other words, precision-recall curve (or PR Curve) is a plot of the precision (y-axis) and the recall (x-axis) for different probability thresholds. PR Curve: Plot of Recall (x) vs Precision (y)."
   ]
  },
  {
   "cell_type": "markdown",
   "id": "aada1ad8",
   "metadata": {},
   "source": [
    "7.What is the term \"selective search\"?\n",
    "\n",
    "Selective Search is a region proposal algorithm for object detection tasks. It starts by over-segmenting the image based on intensity of the pixels using a graph-based segmentation method by Felzenszwalb and Huttenlocher. Selective Search then takes these oversegments as initial input and performs the following steps."
   ]
  },
  {
   "cell_type": "markdown",
   "id": "2755bd57",
   "metadata": {},
   "source": [
    "8.Describe the R-CNN model's four components.\n",
    "\n",
    "The R-CNN model's four components are :\n",
    "\n",
    "Input Image, Extracting Region Proposals, Computing CNN features and Classify Regions."
   ]
  },
  {
   "cell_type": "markdown",
   "id": "8063fe80",
   "metadata": {},
   "source": [
    "9.What exactly is the Localization Module?\n",
    "\n",
    "The Localization Module is a tool. It allows to look through the message files distribution among the system files; define the number of untranslated text messages for every file; proceed to the necessary text messages translation."
   ]
  },
  {
   "cell_type": "markdown",
   "id": "9cf9ee19",
   "metadata": {},
   "source": [
    "10.What are the R-CNN DISADVANTAGES?\n",
    "\n",
    "Disadvantages of R-CNN:\n",
    "Training is a multi-stage pipeline.\n",
    "Training is expensive in space and time. \n",
    "Test-time detection is slow. "
   ]
  }
 ],
 "metadata": {
  "kernelspec": {
   "display_name": "Python 3 (ipykernel)",
   "language": "python",
   "name": "python3"
  },
  "language_info": {
   "codemirror_mode": {
    "name": "ipython",
    "version": 3
   },
   "file_extension": ".py",
   "mimetype": "text/x-python",
   "name": "python",
   "nbconvert_exporter": "python",
   "pygments_lexer": "ipython3",
   "version": "3.9.7"
  }
 },
 "nbformat": 4,
 "nbformat_minor": 5
}
