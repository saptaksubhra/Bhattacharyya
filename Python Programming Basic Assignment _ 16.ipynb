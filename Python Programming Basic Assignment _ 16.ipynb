{
 "cells": [
  {
   "cell_type": "markdown",
   "id": "5a53cc5a",
   "metadata": {},
   "source": [
    "Question1. Write a function that stutters a word as if someone is struggling to read it. The\n",
    "first two letters are repeated twice with an ellipsis ... and space after each, and then the\n",
    "word is pronounced with a question mark ?.\n",
    "Examples\n",
    "stutter(\"incredible\") ➞ \"in... in... incredible?\"\n",
    "stutter(\"enthusiastic\") ➞ \"en... en... enthusiastic?\"\n",
    "stutter(\"outstanding\") ➞ \"ou... ou... outstanding?\"\n",
    "\n",
    "Hint :- Assume all input is in lower case and at least two characters long."
   ]
  },
  {
   "cell_type": "code",
   "execution_count": 3,
   "id": "257c2008",
   "metadata": {},
   "outputs": [
    {
     "name": "stdout",
     "output_type": "stream",
     "text": [
      "in  in  incredible?\n",
      "en  en  enthusiastic?\n",
      "ou  ou  outstanding?\n"
     ]
    }
   ],
   "source": [
    "try:\n",
    "    def stutter(word):\n",
    "        sub = word[:2]\n",
    "        return (2 * (sub+ \"  \")) + word+ \"?\"\n",
    "    print(stutter(\"incredible\"))\n",
    "    print(stutter(\"enthusiastic\"))\n",
    "    print(stutter(\"outstanding\"))\n",
    "except:\n",
    "    print(\"Stutter Handling\")"
   ]
  },
  {
   "cell_type": "markdown",
   "id": "b2c1d9f1",
   "metadata": {},
   "source": [
    "Question 2.Create a function that takes an angle in radians and returns the corresponding\n",
    "angle in degrees rounded to one decimal place.\n",
    "Examples\n",
    "radians_to_degrees(1) ➞ 57.3\n",
    "radians_to_degrees(20) ➞ 1145.9\n",
    "radians_to_degrees(50) ➞ 2864.8"
   ]
  },
  {
   "cell_type": "code",
   "execution_count": 25,
   "id": "bbbc4f3b",
   "metadata": {},
   "outputs": [
    {
     "name": "stdout",
     "output_type": "stream",
     "text": [
      "degree =  57.3\n",
      "degree =  1145.9\n",
      "degree =  2864.8\n"
     ]
    }
   ],
   "source": [
    "try:\n",
    "    def conversion(radian):\n",
    "        pi = 3.14159\n",
    "        degree = radian *(180/pi)\n",
    "        return degree\n",
    "    radian = 1\n",
    "    print(\"degree = \", \"{0:0.1f}\".format(conversion(radian)))\n",
    "    \n",
    "    radian = 20\n",
    "    print(\"degree = \", \"{0:0.1f}\".format(conversion(radian)))\n",
    "    \n",
    "    radian = 50\n",
    "    print(\"degree = \", \"{0:0.1f}\".format(conversion(radian)))\n",
    "except:\n",
    "    print(\"Convesrion from radian to degree\")"
   ]
  },
  {
   "cell_type": "markdown",
   "id": "6f3fbdcc",
   "metadata": {},
   "source": [
    "Question 3. In this challenge, establish if a given integer num is a Curzon number. If 1 plus\n",
    "2 elevated to num is exactly divisible by 1 plus 2 multiplied by num, then num is a Curzon\n",
    "number.\n",
    "Given a non-negative integer num, implement a function that returns True if num is a Curzon\n",
    "number, or False otherwise.\n",
    "Examples\n",
    "is_curzon(5) ➞ True\n",
    "# 2 ** 5 + 1 = 33\n",
    "# 2 * 5 + 1 = 11\n",
    "# 33 is a multiple of 11\n",
    "is_curzon(10) ➞ False\n",
    "# 2 ** 10 + 1 = 1025\n",
    "# 2 * 10 + 1 = 21\n",
    "# 1025 is not a multiple of 21\n",
    "is_curzon(14) ➞ True\n",
    "# 2 ** 14 + 1 = 16385\n",
    "# 2 * 14 + 1 = 29\n",
    "# 16385 is a multiple of 29"
   ]
  },
  {
   "cell_type": "code",
   "execution_count": 13,
   "id": "27ef2a0f",
   "metadata": {},
   "outputs": [
    {
     "name": "stdout",
     "output_type": "stream",
     "text": [
      "True\n",
      "False\n",
      "True\n"
     ]
    }
   ],
   "source": [
    "try:\n",
    "    def CheckCurzonNumber(num):\n",
    "        PowerTerm, ProductTerm = 0, 0\n",
    "        PowerTerm = pow(2, num) + 1\n",
    "        ProductTerm = 2*num + 1\n",
    "        \n",
    "        if (PowerTerm % ProductTerm == 0):\n",
    "            return True\n",
    "        else:\n",
    "            return False\n",
    "    if __name__ == \"__main__\":\n",
    "        \n",
    "        num = 5\n",
    "        print(CheckCurzonNumber(5))\n",
    "        \n",
    "        num = 10\n",
    "        print(CheckCurzonNumber(10))\n",
    "        \n",
    "        num = 14\n",
    "        print(CheckCurzonNumber(14))\n",
    "except:\n",
    "    print(\"Curzon Number\")\n",
    "    "
   ]
  },
  {
   "cell_type": "markdown",
   "id": "164bf46b",
   "metadata": {},
   "source": [
    "Question 4.Given the side length x find the area of a hexagon.\n",
    "\n",
    "A = 3*3^1/2*s^2/2\n",
    "\n",
    "Examples\n",
    "area_of_hexagon(1) ➞ 2.6\n",
    "area_of_hexagon(2) ➞ 10.4\n",
    "area_of_hexagon(3) ➞ 23.4"
   ]
  },
  {
   "cell_type": "code",
   "execution_count": 38,
   "id": "0b4634c1",
   "metadata": {},
   "outputs": [
    {
     "name": "stdout",
     "output_type": "stream",
     "text": [
      "Area of a Hexagon is :  2.6\n",
      "Area of a Hexagon is :  10.4\n",
      "Area of a Hexagon is :  23.4\n"
     ]
    }
   ],
   "source": [
    "try:\n",
    "    import math\n",
    "    \n",
    "    def Area_of_a_hexagon(s):\n",
    "        return ((3 * math.sqrt(3) * (s**2))/2)\n",
    "    if __name__ == \"__main__\":\n",
    "        \n",
    "        s = 1\n",
    "        print(\"Area of a Hexagon is : \", \"{0:0.1f}\".format(Area_of_a_hexagon(s)))\n",
    "        \n",
    "        s = 2\n",
    "        print(\"Area of a Hexagon is : \", \"{0:0.1f}\".format(Area_of_a_hexagon(s)))\n",
    "        \n",
    "        s = 3\n",
    "        print(\"Area of a Hexagon is : \", \"{0:0.1f}\".format(Area_of_a_hexagon(s)))\n",
    "except:\n",
    "    print(\"Detection the area of a Heaxgon\")\n",
    "        "
   ]
  },
  {
   "cell_type": "markdown",
   "id": "782889d6",
   "metadata": {},
   "source": [
    "Question 5. Create a function that returns a base-2 (binary) representation of a base-10\n",
    "(decimal) string number. To convert is simple: ((2) means base-2 and (10) means base-10)\n",
    "010101001(2) = 1 + 8 + 32 + 128.\n",
    "Going from right to left, the value of the most right bit is 1, now from that every bit to the left\n",
    "will be x2 the value, value of an 8 bit binary numbers are (256, 128, 64, 32, 16, 8, 4, 2, 1).\n",
    "Examples\n",
    "binary(1) ➞ \"1\"\n",
    "# 1*1 = 1\n",
    "binary(5) ➞ \"101\"\n",
    "# 1*1 + 1*4 = 5\n",
    "binary(10) ➞ \"1010\"\n",
    "# 1*2 + 1*8 = 10"
   ]
  },
  {
   "cell_type": "code",
   "execution_count": 46,
   "id": "2cc6d2c8",
   "metadata": {},
   "outputs": [
    {
     "name": "stdout",
     "output_type": "stream",
     "text": [
      "1\n",
      "5\n",
      "10\n"
     ]
    }
   ],
   "source": [
    "try:\n",
    "    def BinaryToDecimal(a):\n",
    "        return int(a,2)\n",
    "    \n",
    "    if __name__ ==\"__main__\":\n",
    "        \n",
    "    \n",
    "        print(BinaryToDecimal('1'))\n",
    "    \n",
    "        \n",
    "        print(BinaryToDecimal('101'))\n",
    "    \n",
    "        \n",
    "        print(BinaryToDecimal(\"1010\"))\n",
    "except:\n",
    "    print(\"Binary to Decimal\")"
   ]
  }
 ],
 "metadata": {
  "kernelspec": {
   "display_name": "Python 3 (ipykernel)",
   "language": "python",
   "name": "python3"
  },
  "language_info": {
   "codemirror_mode": {
    "name": "ipython",
    "version": 3
   },
   "file_extension": ".py",
   "mimetype": "text/x-python",
   "name": "python",
   "nbconvert_exporter": "python",
   "pygments_lexer": "ipython3",
   "version": "3.9.7"
  }
 },
 "nbformat": 4,
 "nbformat_minor": 5
}
