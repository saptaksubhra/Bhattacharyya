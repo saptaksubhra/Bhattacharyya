{
 "cells": [
  {
   "cell_type": "markdown",
   "id": "f7a35f0b",
   "metadata": {},
   "source": [
    "1.A crime is committed by one of two suspects, A and B. Initially, there is equal evidence\n",
    "against both of them. In further investigation at the crime scene, it is found that the guilty\n",
    "party had a blood type found in 10% of the population. Suspect A does match this blood\n",
    "type, whereas the blood type of Suspect B is unknown. (a) Given this new information, what\n",
    "is the probability that A is the guilty party? (b) Given this new information, what is the\n",
    "probability that B’s blood type matches that found at the crime scene?\n",
    "\n",
    "(a)\n",
    "Let E be the event that A’s blood type matches the guilty party’s and briefly we can say that A for “A is guilty” and B for “B is guilty”. By Bayes’ Rule,\n",
    "\n",
    "P(A|E) = P(E|A)P(A) / P(E|A)P(A) + P(E|B)P(B) = 1/2 / (1/2 + (1/10)* (1/2)) = 1/2 / 1 /2 (1 + 1/ 10) = 1 / (10 + 1) / 10\n",
    "= 1 / 11 /10 = 10 / 11.\n",
    "(We have P(E|B)=1/10 since, given that B is guilty, the probability that A’s blood type matches the guilty party’s is the same probability as for the general population.)\n",
    "\n",
    "(b)\n",
    "Let F be the event that B’s blood type matches, and condition on whether B is guilty. This provides\n",
    "\n",
    "P(F|E) = P(F|E,A)P(A|E) + P(F|E,B)P(B|E) = 1/10 * 10/11  + 1/11 = 1/11 + 1/11 =  2/11.\n",
    "\n"
   ]
  }
 ],
 "metadata": {
  "kernelspec": {
   "display_name": "Python 3 (ipykernel)",
   "language": "python",
   "name": "python3"
  },
  "language_info": {
   "codemirror_mode": {
    "name": "ipython",
    "version": 3
   },
   "file_extension": ".py",
   "mimetype": "text/x-python",
   "name": "python",
   "nbconvert_exporter": "python",
   "pygments_lexer": "ipython3",
   "version": "3.9.7"
  }
 },
 "nbformat": 4,
 "nbformat_minor": 5
}
