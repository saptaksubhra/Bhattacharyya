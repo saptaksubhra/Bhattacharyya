{
 "cells": [
  {
   "cell_type": "markdown",
   "id": "1740973a",
   "metadata": {},
   "source": [
    "Question 1:\n",
    "Define a class with a generator which can iterate the numbers, which are divisible by\n",
    "7, between a given range 0 and n."
   ]
  },
  {
   "cell_type": "code",
   "execution_count": 53,
   "id": "33ed2222",
   "metadata": {},
   "outputs": [
    {
     "name": "stdout",
     "output_type": "stream",
     "text": [
      "Please provide the number : 25\n",
      "[0, 7, 14, 21]\n",
      "0 True\n",
      "1 False\n",
      "2 False\n",
      "3 False\n",
      "4 False\n",
      "5 False\n",
      "6 False\n",
      "7 True\n",
      "8 False\n",
      "9 False\n",
      "10 False\n",
      "11 False\n",
      "12 False\n",
      "13 False\n",
      "14 True\n",
      "15 False\n",
      "16 False\n",
      "17 False\n",
      "18 False\n",
      "19 False\n",
      "20 False\n",
      "21 True\n",
      "22 False\n",
      "23 False\n",
      "24 False\n"
     ]
    }
   ],
   "source": [
    "try:\n",
    "    n = int(input(\"Please provide the number : \"))\n",
    "    Divided_by_7 = [i for i in range(0, n) if (i % 7 == 0)]\n",
    "    print(Divided_by_7)\n",
    "    \n",
    "    def Division_Checker(n):\n",
    "        for i in range(n):\n",
    "            if i % 7 == 0:\n",
    "                Value = True\n",
    "            else:\n",
    "                Value = False\n",
    "            print(i, Value )\n",
    "    Division_Checker(n)\n",
    "except:\n",
    "    print(\"Iteration is successful.\")"
   ]
  },
  {
   "cell_type": "code",
   "execution_count": 54,
   "id": "dfb124a2",
   "metadata": {},
   "outputs": [
    {
     "name": "stdout",
     "output_type": "stream",
     "text": [
      "0\n",
      "7\n",
      "14\n",
      "21\n",
      "28\n",
      "35\n",
      "42\n",
      "49\n"
     ]
    }
   ],
   "source": [
    "try:\n",
    "    class itc:\n",
    "        \"\"\"\"This is the docstring of class itc\"\"\"\n",
    "        def __init__(sap, n):\n",
    "            super(itc, sap).__init__()\n",
    "            sap.n = n\n",
    "        def Divisionby7(sap):\n",
    "            for i in range(0, sap.n):\n",
    "                if i % 7 == 0:\n",
    "                    yield i\n",
    "    for number in itc(50).Divisionby7():\n",
    "        print(number)\n",
    "except:\n",
    "    print(\"Desired output as expected.\")"
   ]
  },
  {
   "cell_type": "markdown",
   "id": "94f5ddad",
   "metadata": {},
   "source": [
    "Question 2:\n",
    "Write a program to compute the frequency of the words from the input. The output\n",
    "should output after sorting the key alphanumerically.\n",
    "Suppose the following input is supplied to the program:\n",
    "New to Python or choosing between Python 2 and Python 3? Read Python 2 or\n",
    "Python 3.\n",
    "Then, the output should be:\n",
    "2:2\n",
    "3.:1\n",
    "3?:1\n",
    "New:1\n",
    "Python:5\n",
    "Read:1\n",
    "and:1\n",
    "between:1\n",
    "choosing:1\n",
    "or:2\n",
    "to:1"
   ]
  },
  {
   "cell_type": "code",
   "execution_count": 52,
   "id": "49a11317",
   "metadata": {},
   "outputs": [
    {
     "name": "stdout",
     "output_type": "stream",
     "text": [
      "New to Python or choosing between Python 2 and Python 3? Read Python 2 or Python 3\n",
      "2:2\n",
      "3:1\n",
      "3?:1\n",
      "New:1\n",
      "Python:5\n",
      "Read:1\n",
      "and:1\n",
      "between:1\n",
      "choosing:1\n",
      "or:2\n",
      "to:1\n"
     ]
    }
   ],
   "source": [
    "try:\n",
    "    mohanbagan = input().split()\n",
    "    word = sorted(set(mohanbagan)) # split words are  sorted as a set.\n",
    "    \n",
    "    for i in word:\n",
    "        print(\"{0}:{1}\".format(i, mohanbagan.count(i)))\n",
    "        \n",
    "except:\n",
    "    print(\"The final countdown\")"
   ]
  },
  {
   "cell_type": "markdown",
   "id": "0044f5a5",
   "metadata": {},
   "source": [
    "Question 3:\n",
    "\n",
    "Define a class Person and its two child classes: Male and Female. All classes have a\n",
    "method \"getGender\" which can print \"Male\" for Male class and \"Female\" for Female\n",
    "class."
   ]
  },
  {
   "cell_type": "code",
   "execution_count": 51,
   "id": "212860cb",
   "metadata": {},
   "outputs": [
    {
     "name": "stdout",
     "output_type": "stream",
     "text": [
      "Male\n",
      "Female\n"
     ]
    }
   ],
   "source": [
    "try:\n",
    "    class Person:\n",
    "        def getGender(pointer):\n",
    "            return \"Unknown Gender\"\n",
    "        \n",
    "    class Male(Person):\n",
    "        def getGender(pointer):\n",
    "            return \"Male\"\n",
    "        \n",
    "    class Female(Person):\n",
    "        def getGender(pointer):\n",
    "            return \"Female\"\n",
    "    Shivaji = Male()\n",
    "    Saraswati = Female()\n",
    "    \n",
    "    print(Shivaji.getGender())\n",
    "    print(Saraswati.getGender())\n",
    "except:\n",
    "    print(\"Multiple Inheritance\")"
   ]
  },
  {
   "cell_type": "markdown",
   "id": "33a83fe2",
   "metadata": {},
   "source": [
    "Question 4:\n",
    "Please write a program to generate all sentences where subject is in [\"I\", \"You\"] and\n",
    "verb is in [\"Play\", \"Love\"] and the object is in [\"Hockey\", \"Football\"]."
   ]
  },
  {
   "cell_type": "code",
   "execution_count": 50,
   "id": "6bd3021b",
   "metadata": {},
   "outputs": [
    {
     "name": "stdout",
     "output_type": "stream",
     "text": [
      "i Play Hockey\n",
      "i Play Football\n",
      "i Love Hockey\n",
      "i Love Football\n",
      "You Play Hockey\n",
      "You Play Football\n",
      "You Love Hockey\n",
      "You Love Football\n"
     ]
    }
   ],
   "source": [
    "try:\n",
    "    \n",
    "    subjects = [\"i\", \"You\"]\n",
    "    verbs = [\"Play\", \"Love\"]\n",
    "    objects = [\"Hockey\", \"Football\"]\n",
    "    \n",
    "    for subject in subjects:\n",
    "        for verb in verbs:\n",
    "            for object in objects:\n",
    "                \n",
    "                print(\"{} {} {}\".format(subject, verb, object))\n",
    "                \n",
    "except:\n",
    "    print(\" A complete sentence\")\n",
    "                "
   ]
  },
  {
   "cell_type": "markdown",
   "id": "2013c05c",
   "metadata": {},
   "source": [
    "Question 5:\n",
    "Please write a program to compress and decompress the string \"hello world!hello\n",
    "world!hello world!hello world!\"."
   ]
  },
  {
   "cell_type": "code",
   "execution_count": 49,
   "id": "fd34cb03",
   "metadata": {},
   "outputs": [
    {
     "name": "stdout",
     "output_type": "stream",
     "text": [
      "b'x\\x9c\\xcbH\\xcd\\xc9\\xc9W(\\xcf/\\xcaIQ\\xcc \\x82\\r\\x00\\xbd[\\x11\\xf5'\n",
      "b'hello world!hello world!hello world!hello world!'\n"
     ]
    }
   ],
   "source": [
    "try:\n",
    "    \n",
    "    import zlib\n",
    "    string = \"hello world!hello world!hello world!hello world!\".encode()\n",
    "    comp = zlib.compress(string)\n",
    "    print(comp)\n",
    "    print(zlib.decompress(comp))\n",
    "except:\n",
    "    print(\"zlib application\")\n",
    "    "
   ]
  },
  {
   "cell_type": "markdown",
   "id": "6c25bd4d",
   "metadata": {},
   "source": [
    "Question 6:\n",
    "Please write a binary search function which searches an item in a sorted list. The\n",
    "function should return the index of element to be searched in the list."
   ]
  },
  {
   "cell_type": "code",
   "execution_count": 48,
   "id": "f955e939",
   "metadata": {},
   "outputs": [
    {
     "name": "stdout",
     "output_type": "stream",
     "text": [
      "2\n"
     ]
    }
   ],
   "source": [
    "def Binary_Search(a, item):\n",
    "    low_value = 0\n",
    "    high_value = len(a) - 1\n",
    "    \n",
    "    while low_value <= high_value:\n",
    "        mid_value = round((low_value + high_value) / 2)\n",
    "        \n",
    "        if a[mid_value] == item:\n",
    "            return mid_value\n",
    "        elif a[mid_value] > item:\n",
    "            high_value = mid_value - 1\n",
    "        else:\n",
    "            low_value = mid_value + 1\n",
    "    return None\n",
    "    \n",
    "a = [16,36,43,97,100]\n",
    "print(Binary_Search(a, 43))   \n"
   ]
  }
 ],
 "metadata": {
  "kernelspec": {
   "display_name": "Python 3 (ipykernel)",
   "language": "python",
   "name": "python3"
  },
  "language_info": {
   "codemirror_mode": {
    "name": "ipython",
    "version": 3
   },
   "file_extension": ".py",
   "mimetype": "text/x-python",
   "name": "python",
   "nbconvert_exporter": "python",
   "pygments_lexer": "ipython3",
   "version": "3.9.7"
  }
 },
 "nbformat": 4,
 "nbformat_minor": 5
}
