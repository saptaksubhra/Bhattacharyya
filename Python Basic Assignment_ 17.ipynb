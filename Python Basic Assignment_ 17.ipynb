{
 "cells": [
  {
   "cell_type": "markdown",
   "id": "5dfc5d71",
   "metadata": {},
   "source": [
    "1. Assign the value 7 to the variable guess_me. Then, write the conditional tests (if, else, and elif) to\n",
    "print the string 'too low' if guess_me is less than 7, 'too high' if greater than 7, and 'just right' if equal\n",
    "to 7."
   ]
  },
  {
   "cell_type": "code",
   "execution_count": 1,
   "id": "b0d277e5",
   "metadata": {},
   "outputs": [
    {
     "name": "stdout",
     "output_type": "stream",
     "text": [
      "just right\n"
     ]
    }
   ],
   "source": [
    "try:\n",
    "    guess_me = 7\n",
    "    \n",
    "    if(guess_me <7):\n",
    "        print(\"too low\")\n",
    "    elif(guess_me > 7):\n",
    "        print(\"too high\")\n",
    "    else:\n",
    "        print(\"just right\")\n",
    "except:\n",
    "    print(\"Exception handling is always safe.\")"
   ]
  },
  {
   "cell_type": "raw",
   "id": "15841821",
   "metadata": {},
   "source": [
    "# 2. Assign the value 7 to the variable guess_me and the value 1 to the variable start. Write a while loop that compares start with guess_me. Print too low if start is less than guess me. If start equals guess_me, print 'found it!' and exit the loop. If start is greater than guess_me, print 'oops' and exit the loop. Increment start at the end of the loop."
   ]
  },
  {
   "cell_type": "code",
   "execution_count": 3,
   "id": "b475ba03",
   "metadata": {},
   "outputs": [
    {
     "name": "stdout",
     "output_type": "stream",
     "text": [
      "too low\n",
      "too low\n",
      "too low\n",
      "too low\n",
      "too low\n",
      "too low\n",
      "found it!\n"
     ]
    }
   ],
   "source": [
    "try:\n",
    "    guess_me = 7\n",
    "    start = 1\n",
    "    \n",
    "    while True:\n",
    "        if (start < guess_me):\n",
    "            print(\"too low\")\n",
    "        elif(start == guess_me):\n",
    "            print(\"found it!\")\n",
    "            break\n",
    "        else:\n",
    "            print(\"oops\")\n",
    "            break\n",
    "        start = start + 1\n",
    "except:\n",
    "    print(\"while loop is executing.\")"
   ]
  },
  {
   "cell_type": "code",
   "execution_count": 4,
   "id": "6d730d4d",
   "metadata": {},
   "outputs": [
    {
     "name": "stdout",
     "output_type": "stream",
     "text": [
      "3\n",
      "2\n",
      "1\n",
      "0\n"
     ]
    }
   ],
   "source": [
    "# 3. Print the following values of the list [3, 2, 1, 0] using a for loop.\n",
    "\n",
    "try:\n",
    "    list = [3,2,1,0]\n",
    "    for i in list:\n",
    "        print(i)\n",
    "except:\n",
    "    print(\"print the values of the list.\")"
   ]
  },
  {
   "cell_type": "code",
   "execution_count": 16,
   "id": "f7a0071b",
   "metadata": {},
   "outputs": [
    {
     "name": "stdout",
     "output_type": "stream",
     "text": [
      "[0, 2, 4, 6, 8]\n"
     ]
    }
   ],
   "source": [
    "# 4. Use a list comprehension to make a list of the even numbers in range(10)\n",
    "\n",
    "try:\n",
    "    even_numbers = [number for number in range(10) if number % 2 == 0]\n",
    "    print(even_numbers)\n",
    "except:\n",
    "    print(\"print the even numbers of that list.\")\n",
    "    "
   ]
  },
  {
   "cell_type": "code",
   "execution_count": 17,
   "id": "2d6a169c",
   "metadata": {},
   "outputs": [
    {
     "name": "stdout",
     "output_type": "stream",
     "text": [
      "{0: 0, 1: 1, 2: 4, 3: 9, 4: 16, 5: 25, 6: 36, 7: 49, 8: 64, 9: 81}\n"
     ]
    }
   ],
   "source": [
    "# 5. Use a dictionary comprehension to create the dictionary squares. Use range(10) to return the\n",
    "#keys, and use the square of each key as its value.\n",
    "\n",
    "try:\n",
    "    limit = 10\n",
    "    square = {number : number**2 for number in range(limit)}\n",
    "    print(square)\n",
    "except:\n",
    "    print(\"We get the desired output.\")"
   ]
  },
  {
   "cell_type": "code",
   "execution_count": 19,
   "id": "0f4bcfeb",
   "metadata": {},
   "outputs": [
    {
     "name": "stdout",
     "output_type": "stream",
     "text": [
      "[1, 3, 5, 7, 9]\n"
     ]
    }
   ],
   "source": [
    "# 6. Construct the set odd from the odd numbers in the range using a set comprehension (10).\n",
    "\n",
    "try:\n",
    "    limit1 = 10\n",
    "    odd_numbers = [number for number in range(10) if number % 2 == 1]\n",
    "    print(odd_numbers)\n",
    "except:\n",
    "    print(\"Print the odd numbers in that given range.\")\n",
    "    "
   ]
  },
  {
   "cell_type": "code",
   "execution_count": 21,
   "id": "2ecd098d",
   "metadata": {},
   "outputs": [
    {
     "name": "stdout",
     "output_type": "stream",
     "text": [
      "Got0\n",
      "Got1\n",
      "Got2\n",
      "Got3\n",
      "Got4\n",
      "Got5\n",
      "Got6\n",
      "Got7\n",
      "Got8\n",
      "Got9\n"
     ]
    }
   ],
   "source": [
    "# 7. Use a generator comprehension to return the string 'Got' and a number for the numbers in\n",
    "#range(10). Iterate through this by using a for loop.\n",
    "\n",
    "try:\n",
    "    limit5 = 10\n",
    "    generator = ('Got' +str(number) for number in range(limit5))\n",
    "    \n",
    "    for item in generator:\n",
    "        print(item)\n",
    "except:\n",
    "    print(\"Exception Handling\")"
   ]
  },
  {
   "cell_type": "code",
   "execution_count": 23,
   "id": "0728a920",
   "metadata": {},
   "outputs": [
    {
     "name": "stdout",
     "output_type": "stream",
     "text": [
      "['Harry', 'Ron', 'Hermione']\n"
     ]
    }
   ],
   "source": [
    "# 8. Define a function called good that returns the list ['Harry', 'Ron', 'Hermione'].\n",
    "\n",
    "try:\n",
    "    def good():\n",
    "        return ['Harry','Ron','Hermione']\n",
    "    print(good())\n",
    "except:\n",
    "    print(\"function of function\")"
   ]
  },
  {
   "cell_type": "code",
   "execution_count": 25,
   "id": "f796967c",
   "metadata": {},
   "outputs": [
    {
     "name": "stdout",
     "output_type": "stream",
     "text": [
      "5\n"
     ]
    }
   ],
   "source": [
    "# 9. Define a generator function called get_odds that returns the odd numbers from range(10).\n",
    "try:\n",
    "    limit10 = 10\n",
    "    get_odds = (number for number in range(limit10) if not number % 2 ==0)\n",
    "    count = 0\n",
    "    for number in get_odds:\n",
    "        if count ==2:\n",
    "            print(number)\n",
    "            break\n",
    "        count = count +1\n",
    "except:\n",
    "    print(\"Exception Handling\")"
   ]
  },
  {
   "cell_type": "code",
   "execution_count": 28,
   "id": "2c5fefda",
   "metadata": {},
   "outputs": [
    {
     "name": "stdout",
     "output_type": "stream",
     "text": [
      "The third number is :  5\n"
     ]
    }
   ],
   "source": [
    " #Use a for loop to find and print the third value returned.\n",
    "    \n",
    "try:\n",
    "    def get_odds():\n",
    "        for number in range(1,10,2):\n",
    "            yield number\n",
    "    count = 1\n",
    "    for number in get_odds():\n",
    "        if count == 3:\n",
    "            print(\"The third number is : \", number)\n",
    "            break\n",
    "        count = count +1\n",
    "\n",
    "except:\n",
    "    print(\"Print the result.\")\n"
   ]
  },
  {
   "cell_type": "code",
   "execution_count": 29,
   "id": "9baee05e",
   "metadata": {},
   "outputs": [
    {
     "name": "stdout",
     "output_type": "stream",
     "text": [
      "Caught an oops\n"
     ]
    }
   ],
   "source": [
    "# 10. Define an exception called OopsException. Raise this exception to see what happens. Then write\n",
    "#the code to catch this exception and print 'Caught an oops'.\n",
    "\n",
    "try:\n",
    "    class OopsException(Exception):\n",
    "        pass\n",
    "    def with_exception(a1):\n",
    "        if a1 < 0:\n",
    "            raise OopsException(a1)\n",
    "    try:\n",
    "        with_exception(-1)\n",
    "    except OopsException as error:\n",
    "        print(\"Caught an oops\")\n",
    "except:\n",
    "    print(\"print the desired result.\")"
   ]
  },
  {
   "cell_type": "code",
   "execution_count": 32,
   "id": "533cc6b2",
   "metadata": {},
   "outputs": [
    {
     "name": "stdout",
     "output_type": "stream",
     "text": [
      "{'Creature of Habit': 'A nun turns into a monster', 'Crewel Fate': 'A haunted yarn shop'}\n"
     ]
    }
   ],
   "source": [
    "# 11. Use zip() to make a dictionary called movies that pairs these lists: titles = ['Creature of Habit',\n",
    "#'Crewel Fate'] and plots = ['A nun turns into a monster', 'A haunted yarn shop'].\n",
    "\n",
    "try:\n",
    "    titles = ['Creature of Habit', 'Crewel Fate']\n",
    "    plots = ['A nun turns into a monster', 'A haunted yarn shop']\n",
    "    \n",
    "    movies = {}\n",
    "    for title, plot in zip(titles, plots):\n",
    "        movies = dict(zip(titles, plots))\n",
    "    print(movies)\n",
    "except:\n",
    "    print(\"Exception handling ius done.\")\n",
    "\n",
    "    "
   ]
  }
 ],
 "metadata": {
  "kernelspec": {
   "display_name": "Python 3 (ipykernel)",
   "language": "python",
   "name": "python3"
  },
  "language_info": {
   "codemirror_mode": {
    "name": "ipython",
    "version": 3
   },
   "file_extension": ".py",
   "mimetype": "text/x-python",
   "name": "python",
   "nbconvert_exporter": "python",
   "pygments_lexer": "ipython3",
   "version": "3.9.7"
  }
 },
 "nbformat": 4,
 "nbformat_minor": 5
}
