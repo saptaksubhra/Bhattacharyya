{
 "cells": [
  {
   "cell_type": "code",
   "execution_count": 2,
   "id": "b876d2c3",
   "metadata": {},
   "outputs": [
    {
     "name": "stdout",
     "output_type": "stream",
     "text": [
      "The sum of all the elements of the given array is :  30\n"
     ]
    }
   ],
   "source": [
    "#1.\tWrite a Python Program to find sum of array?\n",
    "\n",
    "try:\n",
    "    array = [2,4,6,8,10]\n",
    "    sum1 = sum(array)\n",
    "    print(\"The sum of all the elements of the given array is : \", sum1)\n",
    "except:\n",
    "    print(\"Programme on the sum of all the elements of a given array\")"
   ]
  },
  {
   "cell_type": "code",
   "execution_count": 3,
   "id": "16ddb9f2",
   "metadata": {},
   "outputs": [
    {
     "name": "stdout",
     "output_type": "stream",
     "text": [
      "The largest element of the given array is :  100\n"
     ]
    }
   ],
   "source": [
    "#2.\tWrite a Python Program to find largest element in an array?\n",
    "\n",
    "try:\n",
    "    \n",
    "    array =[45, 56, 89, 100]\n",
    "    max = array[0]\n",
    "    for i in range(0, len(array)):\n",
    "        if array[i] > max:\n",
    "            max = array[i]\n",
    "    print(\"The largest element of the given array is : \", max)\n",
    "except:\n",
    "    print(\"Detection of the largest element of the given array\")"
   ]
  },
  {
   "cell_type": "code",
   "execution_count": 8,
   "id": "d60d0ac3",
   "metadata": {},
   "outputs": [
    {
     "name": "stdout",
     "output_type": "stream",
     "text": [
      " Array after left rotation is :  [6, 7, 8, 9, 10, 1, 2, 3, 4, 55]\n"
     ]
    }
   ],
   "source": [
    "#3.\tWrite a Python Program for array rotation?\n",
    "\n",
    "try:\n",
    "    def rotatearray(arr, a,b):\n",
    "        temporary =[]\n",
    "        i = 0\n",
    "        while (i < b):\n",
    "            temporary.append(arr[i])\n",
    "            i = i + 1\n",
    "        i = 0\n",
    "        while (b < a):\n",
    "            arr[i] = arr[b]\n",
    "            i = i + 1\n",
    "            b = b + 1\n",
    "        arr[:] = arr[:i] + temporary\n",
    "        return arr\n",
    "    arr = [1, 2, 3, 4, 55, 6, 7, 8, 9, 10]\n",
    "    print(\" Array after left rotation is : \", end=\" \")\n",
    "    print(rotatearray(arr, len(arr), 5 ))\n",
    "except:\n",
    "    print(\"Array rotation\")"
   ]
  },
  {
   "cell_type": "code",
   "execution_count": 12,
   "id": "eff35466",
   "metadata": {},
   "outputs": [
    {
     "name": "stdout",
     "output_type": "stream",
     "text": [
      "54 45 89 34 67 90 23 "
     ]
    }
   ],
   "source": [
    "#4.\tWrite a Python Program to Split the array and add the first part to the end?\n",
    "\n",
    "try:\n",
    "    def splitarray(arr1, c, d):\n",
    "        for i in range(0, d):\n",
    "            x = arr1[0]\n",
    "            for j in range(0, n-1):\n",
    "                arr1[j] = arr1[j+1]\n",
    "            arr1[n-1] = x\n",
    "    arr1 = [34, 67, 90, 23, 54, 45, 89]\n",
    "    n = len(arr1)\n",
    "    position = 4\n",
    "    splitarray(arr1, n, position)\n",
    "    for i in range(0, n):\n",
    "        print(arr1[i], end = \" \")\n",
    "except:\n",
    "    print(\"Splitting the array\")"
   ]
  },
  {
   "cell_type": "code",
   "execution_count": 3,
   "id": "14890fc0",
   "metadata": {},
   "outputs": [
    {
     "name": "stdout",
     "output_type": "stream",
     "text": [
      "False\n",
      "True\n",
      "True\n",
      "True\n"
     ]
    }
   ],
   "source": [
    "#5.\tWrite a Python Program to check if given array is Monotonic?\n",
    "\n",
    "try:\n",
    "    def ismonotonic(a):\n",
    "        return (all(a[i] <= a[i+1] for i in range(len(a) - 1)) or \n",
    "                all(a[i] >= a[i+1] for i in range(len(a) - 1)))\n",
    "    a = [7, 8, 2, 2]\n",
    "    print(ismonotonic(a))\n",
    "    B = [1,2,3,4,5,6,7,8]\n",
    "    print(ismonotonic(B))\n",
    "    C = [2, 4 ,6, 8]\n",
    "    print(ismonotonic(C))\n",
    "    D = [99,67,45,43,23,1]\n",
    "    print(ismonotonic(D))\n",
    "except:\n",
    "    print(\"Detection of monotonic array\")"
   ]
  }
 ],
 "metadata": {
  "kernelspec": {
   "display_name": "Python 3 (ipykernel)",
   "language": "python",
   "name": "python3"
  },
  "language_info": {
   "codemirror_mode": {
    "name": "ipython",
    "version": 3
   },
   "file_extension": ".py",
   "mimetype": "text/x-python",
   "name": "python",
   "nbconvert_exporter": "python",
   "pygments_lexer": "ipython3",
   "version": "3.9.7"
  }
 },
 "nbformat": 4,
 "nbformat_minor": 5
}
