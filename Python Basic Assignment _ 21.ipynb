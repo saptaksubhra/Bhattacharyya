{
 "cells": [
  {
   "cell_type": "markdown",
   "id": "1067d4f1",
   "metadata": {},
   "source": [
    "1. Add the current date to the text file today.txt as a string."
   ]
  },
  {
   "cell_type": "code",
   "execution_count": 1,
   "id": "22ca1960",
   "metadata": {},
   "outputs": [],
   "source": [
    "from datetime import date\n",
    "Now = date.today()\n",
    "now_str = Now.isoformat()\n",
    "with open('today', 'wt') as output:\n",
    "    print(now_str, file = output)"
   ]
  },
  {
   "cell_type": "markdown",
   "id": "02998f42",
   "metadata": {},
   "source": [
    "2. Read the text file today.txt into the string today_string."
   ]
  },
  {
   "cell_type": "code",
   "execution_count": 2,
   "id": "61d3f09f",
   "metadata": {},
   "outputs": [],
   "source": [
    "with open('today', 'rt') as input:\n",
    "    today_string = input.read().splitlines()\n"
   ]
  },
  {
   "cell_type": "code",
   "execution_count": 3,
   "id": "0ef1e96a",
   "metadata": {},
   "outputs": [
    {
     "data": {
      "text/plain": [
       "['2022-03-14']"
      ]
     },
     "execution_count": 3,
     "metadata": {},
     "output_type": "execute_result"
    }
   ],
   "source": [
    "today_string"
   ]
  },
  {
   "cell_type": "markdown",
   "id": "ffe7195e",
   "metadata": {},
   "source": [
    "3. Parse the date from today_string."
   ]
  },
  {
   "cell_type": "code",
   "execution_count": 4,
   "id": "1c212c7a",
   "metadata": {},
   "outputs": [
    {
     "name": "stdout",
     "output_type": "stream",
     "text": [
      "today_string = 14 March, 2022\n",
      "type of today_string = <class 'str'>\n",
      "date_object = 2022-03-14 00:00:00\n",
      "type of date_object = <class 'datetime.datetime'>\n"
     ]
    }
   ],
   "source": [
    "\n",
    "from datetime import datetime\n",
    "\n",
    "today_string = \"14 March, 2022\"\n",
    "\n",
    "print(\"today_string =\", today_string)\n",
    "print(\"type of today_string =\", type(today_string))\n",
    "\n",
    "date_object = datetime.strptime(today_string, \"%d %B, %Y\")\n",
    "\n",
    "print(\"date_object =\", date_object)\n",
    "print(\"type of date_object =\", type(date_object))\n"
   ]
  },
  {
   "cell_type": "markdown",
   "id": "135696c2",
   "metadata": {},
   "source": [
    "4. List the files in your current directory."
   ]
  },
  {
   "cell_type": "code",
   "execution_count": 5,
   "id": "374417a1",
   "metadata": {},
   "outputs": [
    {
     "name": "stdout",
     "output_type": "stream",
     "text": [
      "['bears', 'lions', 'tigers']\n"
     ]
    }
   ],
   "source": [
    "listdir= ['bears', 'lions', 'tigers']\n",
    "import os\n",
    "os.listdir()\n",
    "print(listdir)\n"
   ]
  },
  {
   "cell_type": "markdown",
   "id": "52225f77",
   "metadata": {},
   "source": [
    "5. Create a list of all of the files in your parent directory (minimum five files should be available)."
   ]
  },
  {
   "cell_type": "code",
   "execution_count": 6,
   "id": "a64a44cd",
   "metadata": {},
   "outputs": [
    {
     "data": {
      "text/plain": [
       "['All Users', 'Default', 'Default User', 'desktop.ini', 'Public', 'USER']"
      ]
     },
     "execution_count": 6,
     "metadata": {},
     "output_type": "execute_result"
    }
   ],
   "source": [
    "import os\n",
    "os.listdir('..')"
   ]
  },
  {
   "cell_type": "markdown",
   "id": "0a21061a",
   "metadata": {},
   "source": [
    "6. Use multiprocessing to create three separate processes. Make each one wait a random number of seconds between one and five, print the current time, and then exit."
   ]
  },
  {
   "cell_type": "code",
   "execution_count": 2,
   "id": "bc1c6fc6",
   "metadata": {},
   "outputs": [
    {
     "name": "stdout",
     "output_type": "stream",
     "text": [
      "Done in 0.6424737 seconds\n"
     ]
    }
   ],
   "source": [
    "import multiprocessing\n",
    "import time\n",
    "\n",
    "def sleepy_man(sec):\n",
    "    print('Starting to sleep')\n",
    "    time.sleep(sec)\n",
    "    print('Done sleeping')\n",
    "\n",
    "tic = time.time()\n",
    "\n",
    "process_list = []\n",
    "for i in range(5):\n",
    "    p =  multiprocessing.Process(target= sleepy_man, args = [2])\n",
    "    p.start()\n",
    "    process_list.append(p)\n",
    "\n",
    "for process in process_list:\n",
    "    process.join()\n",
    "\n",
    "toc = time.time()\n",
    "\n",
    "print('Done in {:.7f} seconds'.format(toc-tic))"
   ]
  },
  {
   "cell_type": "markdown",
   "id": "16d55e40",
   "metadata": {},
   "source": [
    "7. Create a date object of your day of birth."
   ]
  },
  {
   "cell_type": "code",
   "execution_count": 8,
   "id": "2226109c",
   "metadata": {},
   "outputs": [
    {
     "data": {
      "text/plain": [
       "datetime.date(1983, 9, 6)"
      ]
     },
     "execution_count": 8,
     "metadata": {},
     "output_type": "execute_result"
    }
   ],
   "source": [
    "day_of_birth = date(1983, 9, 6)\n",
    "day_of_birth"
   ]
  },
  {
   "cell_type": "markdown",
   "id": "5755723e",
   "metadata": {},
   "source": [
    "8. What day of the week was your day of birth?"
   ]
  },
  {
   "cell_type": "code",
   "execution_count": 9,
   "id": "3b1dbc66",
   "metadata": {},
   "outputs": [
    {
     "data": {
      "text/plain": [
       "1"
      ]
     },
     "execution_count": 9,
     "metadata": {},
     "output_type": "execute_result"
    }
   ],
   "source": [
    "day_of_birth.weekday()\n"
   ]
  },
  {
   "cell_type": "code",
   "execution_count": 10,
   "id": "4f283090",
   "metadata": {},
   "outputs": [
    {
     "data": {
      "text/plain": [
       "2"
      ]
     },
     "execution_count": 10,
     "metadata": {},
     "output_type": "execute_result"
    }
   ],
   "source": [
    "day_of_birth.isoweekday()"
   ]
  },
  {
   "cell_type": "markdown",
   "id": "76de3444",
   "metadata": {},
   "source": [
    "In the above cases two scenarios have been generated. If we use weekday() function then, Monday is 0 and Sunday is 6. And if we use isoweekday() function then, Monday is 1 and Sunday is 7. So, the day was Tuesday for the above mentioned date of birth."
   ]
  },
  {
   "cell_type": "markdown",
   "id": "ed73a071",
   "metadata": {},
   "source": [
    "9. When will you be (or when were you) 10,000 days old?"
   ]
  },
  {
   "cell_type": "code",
   "execution_count": 12,
   "id": "1a3bff45",
   "metadata": {},
   "outputs": [
    {
     "data": {
      "text/plain": [
       "datetime.date(2011, 1, 22)"
      ]
     },
     "execution_count": 12,
     "metadata": {},
     "output_type": "execute_result"
    }
   ],
   "source": [
    "from datetime import timedelta\n",
    "maturation = day_of_birth + timedelta(days = 10000)\n",
    "maturation\n",
    "\n"
   ]
  }
 ],
 "metadata": {
  "kernelspec": {
   "display_name": "Python 3 (ipykernel)",
   "language": "python",
   "name": "python3"
  },
  "language_info": {
   "codemirror_mode": {
    "name": "ipython",
    "version": 3
   },
   "file_extension": ".py",
   "mimetype": "text/x-python",
   "name": "python",
   "nbconvert_exporter": "python",
   "pygments_lexer": "ipython3",
   "version": "3.9.7"
  }
 },
 "nbformat": 4,
 "nbformat_minor": 5
}
