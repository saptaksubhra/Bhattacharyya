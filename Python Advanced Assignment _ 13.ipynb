{
 "cells": [
  {
   "cell_type": "code",
   "execution_count": 19,
   "id": "a347627b",
   "metadata": {},
   "outputs": [
    {
     "name": "stdout",
     "output_type": "stream",
     "text": [
      "a\n",
      "g\n",
      "i\n",
      "r\n"
     ]
    }
   ],
   "source": [
    "# Q1.Can you create a programme or function that employs both positive and negative indexing? Is\n",
    "# there any repercussion if you do so?\n",
    "\n",
    "try:\n",
    "    st= 'aghori'\n",
    "    print(st[0])\n",
    "    print(st[1])\n",
    "    print(st[-1])\n",
    "    print(st[-2])\n",
    "except:\n",
    "    print('indexing')"
   ]
  },
  {
   "cell_type": "markdown",
   "id": "ecbef99c",
   "metadata": {},
   "source": [
    "In Python, positive and negative indexing are possible in case of list, string. Positive indexing starts from 0 and negative indexing starts from -1. 0 refers to the first element of the datatype and -1 refers to the last element of that datatype. And we can see both positive and negative indexing from the above programme and that has been performed on a string. The repercussion is that the positive indexing will print the elements of a datatype from left to right and negative indexing will do that from right to left. So, positive indexing is opposite to negative indexing."
   ]
  },
  {
   "cell_type": "markdown",
   "id": "2ff10058",
   "metadata": {},
   "source": [
    "Q2. What is the most effective way of starting with 1,000 elements in a Python list? Assume that all\n",
    "elements should be set to the same value.\n",
    "\n",
    "Python is a very flexible language where a single task can be accomplished in several ways. Likewise there are several ways to initialise a list with 1000 elements. Such as using a for loop and append() function, using while loop with counter variable, using list comprehension, using the * operator. Now let us have a look at the average time taken by each of these above mentioned methods through the following programme to intialise a list of 1000 elements over 500 times."
   ]
  },
  {
   "cell_type": "code",
   "execution_count": 1,
   "id": "b8586771",
   "metadata": {},
   "outputs": [
    {
     "name": "stdout",
     "output_type": "stream",
     "text": [
      "Average time taken by for loop for intilization is: 9.943580627441407e-05\n",
      "Average time taken by while loop for intilization is: 0.00019685673713684083\n",
      "Average time taken by list comprehensions for initialization is: 2.996993064880371e-05\n",
      "Average time taken by * operator for initialization is: 4.995822906494141e-06\n"
     ]
    }
   ],
   "source": [
    "import time\n",
    "  \n",
    "\n",
    "forLoopTime = []\n",
    "whileLoopTime = []\n",
    "listComprehensionTime = []\n",
    "starOperatorTime = []\n",
    "  \n",
    "\n",
    "for k in range(500): \n",
    "  \n",
    "\n",
    "    start = time.time()\n",
    "    a = []\n",
    "\n",
    "    for i in range(1000):\n",
    "        a.append(0)\n",
    "\n",
    "    stop = time.time()\n",
    "    forLoopTime.append(stop-start)\n",
    "  \n",
    "    \n",
    "    start = time.time()\n",
    "    a = []\n",
    "    i = 0\n",
    "\n",
    "    while(i<1000):\n",
    "        a.append(0)\n",
    "        i= i + 1\n",
    "    stop = time.time()\n",
    "    whileLoopTime.append(stop-start)\n",
    "  \n",
    "    start = time.time()\n",
    "    a = [0 for i in range(1000)] \n",
    "    stop = time.time()\n",
    "    listComprehensionTime.append(stop-start)\n",
    "  \n",
    "  \n",
    "    start = time.time()\n",
    "    \n",
    "    a = [0]*1000 \n",
    "    stop = time.time()\n",
    "    starOperatorTime.append(stop-start)\n",
    "  \n",
    "  \n",
    "print(\"Average time taken by for loop for intilization is: \" + str(sum(forLoopTime)/1000))\n",
    "print(\"Average time taken by while loop for intilization is: \" + str(sum(whileLoopTime)/1000))\n",
    "print(\"Average time taken by list comprehensions for initialization is: \" + str(sum(listComprehensionTime)/1000))\n",
    "print(\"Average time taken by * operator for initialization is: \" + str(sum(starOperatorTime)/1000))    \n",
    "                "
   ]
  },
  {
   "cell_type": "markdown",
   "id": "3ea6b98a",
   "metadata": {},
   "source": [
    "From the above programme , we can say that the average time taken to initialize the list of 1000 elements is almost the same in case of for loop and while loop having a little difference. List comprehension performs better as compared to while and for loop. But * operator method is faster than any other method over here. But the problem with * operator is that it is not applicable to declaring a 2D array or list . That would create a shallow list means only one list object would be createdand all the indices would refer to that list object. That might result in unwanted coimplications. Also it should be noted that the times will vary based on the platform where this code is executed. These times are just for studying the relative performance of these methods of initializing."
   ]
  },
  {
   "cell_type": "markdown",
   "id": "e0139f13",
   "metadata": {},
   "source": [
    "Q3. How do you slice a list to get any other part while missing the rest? (For example, suppose you\n",
    "want to make a new list with the elements first, third, fifth, seventh, and so on.)\n",
    "\n",
    "To get any other part, we can slice a list. To make a new list, we can do concatenation of two or more sliced lists or we can modify the pre-existing list. Let us see through examples."
   ]
  },
  {
   "cell_type": "code",
   "execution_count": 8,
   "id": "769c1420",
   "metadata": {},
   "outputs": [
    {
     "name": "stdout",
     "output_type": "stream",
     "text": [
      "[1, 3, 5, 7, 9, 11]\n"
     ]
    }
   ],
   "source": [
    "# By Modifying the pre-existing list\n",
    "try:\n",
    "    l = [1,2,3,4,5,6,7,8,9,10,11] # Creating a list named l\n",
    "    # We need to create a new list out of this list l containing first , third ,fifth, seventh, ninth and eleventh\n",
    "    \n",
    "    l1 = l[0:11:2]   # Creating a new list named l1\n",
    "    print(l1)\n",
    "    \n",
    "except:\n",
    "    print('slicing operation of list')"
   ]
  },
  {
   "cell_type": "code",
   "execution_count": 9,
   "id": "66ef99d8",
   "metadata": {},
   "outputs": [
    {
     "data": {
      "text/plain": [
       "list"
      ]
     },
     "execution_count": 9,
     "metadata": {},
     "output_type": "execute_result"
    }
   ],
   "source": [
    "type(l1)"
   ]
  },
  {
   "cell_type": "code",
   "execution_count": 14,
   "id": "10326932",
   "metadata": {},
   "outputs": [
    {
     "name": "stdout",
     "output_type": "stream",
     "text": [
      "[10, 30, 50, 36, 108, 1008, 1008, 108, 36, 50, 30]\n"
     ]
    }
   ],
   "source": [
    "# By Concatenating sliced lists\n",
    "try:\n",
    "    L = [10,20,30,40,50,60,36,43,108, 786,1008]\n",
    "    L1 = L[0:11:2]\n",
    "    L2 = L[-1:-11:-2]\n",
    "    L3 = L1 + L2\n",
    "\n",
    "    print(L3)\n",
    "except:\n",
    "    print('slicing of list')\n",
    "    "
   ]
  },
  {
   "cell_type": "code",
   "execution_count": 15,
   "id": "681651cd",
   "metadata": {},
   "outputs": [
    {
     "data": {
      "text/plain": [
       "list"
      ]
     },
     "execution_count": 15,
     "metadata": {},
     "output_type": "execute_result"
    }
   ],
   "source": [
    "type(L3)"
   ]
  },
  {
   "cell_type": "markdown",
   "id": "1e574355",
   "metadata": {},
   "source": [
    "Q4. Explain the distinctions between indexing and slicing.\n",
    "\n",
    "Indexing means referring to an element of an iterable by its position within the iterable. Slicing means getting a subset of elements from an iterable based on their indices.\n",
    "Indexing is used to get individual elements whereas slicing is used to obtain sequence of elements.\n",
    "If a large index is attempted then it will reult in an IndexError. Out of range indexes are handled comfortably when used for slicing operation.\n",
    "Indexing returns one item and slicing returns new list or new tuple.\n",
    "We can not change the length of the list by item assignment in indexing. We can change or even clear the list by assignment to slicing.\n",
    "Indexing normally starts from 0  and that is the first element of the given iterable and negative indexing starts from -1 and that is the last element of that given iterable. We can specify range of indexes in case of slicing.\n"
   ]
  },
  {
   "cell_type": "code",
   "execution_count": 7,
   "id": "6c4fb9fd",
   "metadata": {},
   "outputs": [
    {
     "data": {
      "text/plain": [
       "36"
      ]
     },
     "execution_count": 7,
     "metadata": {},
     "output_type": "execute_result"
    }
   ],
   "source": [
    "# Example of Indexing\n",
    "l = [36,43, 108,786]\n",
    "l[0]"
   ]
  },
  {
   "cell_type": "code",
   "execution_count": 8,
   "id": "04ecd171",
   "metadata": {},
   "outputs": [
    {
     "data": {
      "text/plain": [
       "786"
      ]
     },
     "execution_count": 8,
     "metadata": {},
     "output_type": "execute_result"
    }
   ],
   "source": [
    "l[-1]"
   ]
  },
  {
   "cell_type": "code",
   "execution_count": 9,
   "id": "ec00ed9f",
   "metadata": {},
   "outputs": [
    {
     "data": {
      "text/plain": [
       "[36, 108]"
      ]
     },
     "execution_count": 9,
     "metadata": {},
     "output_type": "execute_result"
    }
   ],
   "source": [
    "# Example of slicing\n",
    "l =[36,43,108,786]\n",
    "l[0:3:2]"
   ]
  },
  {
   "cell_type": "code",
   "execution_count": 10,
   "id": "517a9afd",
   "metadata": {},
   "outputs": [
    {
     "data": {
      "text/plain": [
       "[786, 108, 43, 36]"
      ]
     },
     "execution_count": 10,
     "metadata": {},
     "output_type": "execute_result"
    }
   ],
   "source": [
    "l[::-1]"
   ]
  },
  {
   "cell_type": "markdown",
   "id": "d88c8d1c",
   "metadata": {},
   "source": [
    "Q5. What happens if one of the slicing expression's indexes is out of range?\n",
    "\n",
    "Indexing returns a single item, but slicing returns a subsequence of items. So when we try to index a non-existent value, there's nothing to return and it will raise an IndexError. But when we slice a sequence outside of bounds, we can still get an empty sequence."
   ]
  },
  {
   "cell_type": "code",
   "execution_count": 11,
   "id": "b10146da",
   "metadata": {},
   "outputs": [
    {
     "ename": "IndexError",
     "evalue": "list index out of range",
     "output_type": "error",
     "traceback": [
      "\u001b[1;31m---------------------------------------------------------------------------\u001b[0m",
      "\u001b[1;31mIndexError\u001b[0m                                Traceback (most recent call last)",
      "\u001b[1;32m~\\AppData\\Local\\Temp/ipykernel_5904/2661046371.py\u001b[0m in \u001b[0;36m<module>\u001b[1;34m\u001b[0m\n\u001b[0;32m      1\u001b[0m \u001b[1;31m# Example of out of range in indexing\u001b[0m\u001b[1;33m\u001b[0m\u001b[1;33m\u001b[0m\u001b[0m\n\u001b[0;32m      2\u001b[0m \u001b[0ml\u001b[0m \u001b[1;33m=\u001b[0m\u001b[1;33m[\u001b[0m\u001b[1;36m36\u001b[0m\u001b[1;33m,\u001b[0m\u001b[1;36m43\u001b[0m\u001b[1;33m,\u001b[0m\u001b[1;36m108\u001b[0m\u001b[1;33m,\u001b[0m\u001b[1;36m786\u001b[0m\u001b[1;33m]\u001b[0m\u001b[1;33m\u001b[0m\u001b[1;33m\u001b[0m\u001b[0m\n\u001b[1;32m----> 3\u001b[1;33m \u001b[0ml\u001b[0m\u001b[1;33m[\u001b[0m\u001b[1;36m4\u001b[0m\u001b[1;33m]\u001b[0m\u001b[1;33m\u001b[0m\u001b[1;33m\u001b[0m\u001b[0m\n\u001b[0m",
      "\u001b[1;31mIndexError\u001b[0m: list index out of range"
     ]
    }
   ],
   "source": [
    "# Example of out of range in indexing\n",
    "l =[36,43,108,786]\n",
    "l[4]"
   ]
  },
  {
   "cell_type": "code",
   "execution_count": 14,
   "id": "d6f4b755",
   "metadata": {},
   "outputs": [
    {
     "data": {
      "text/plain": [
       "[]"
      ]
     },
     "execution_count": 14,
     "metadata": {},
     "output_type": "execute_result"
    }
   ],
   "source": [
    "# Example of out of range in slicing\n",
    "\n",
    "l =[36,43,108,786]\n",
    "l[43:23]"
   ]
  },
  {
   "cell_type": "markdown",
   "id": "9af4eea2",
   "metadata": {},
   "source": [
    "Q6. If you pass a list to a function, and if you want the function to be able to change the values of the\n",
    "list—so that the list is different after the function returns—what action should you avoid?\n",
    "\n",
    "We will  create a function named duplicate() which will duplicate the final entry in any list we pass it as argument. Let us see that theough the below example."
   ]
  },
  {
   "cell_type": "code",
   "execution_count": 21,
   "id": "7374e01d",
   "metadata": {},
   "outputs": [
    {
     "name": "stdout",
     "output_type": "stream",
     "text": [
      "[36, 43, 108, 108]\n",
      "[36, 43, 108, 108]\n"
     ]
    }
   ],
   "source": [
    "try:\n",
    "    l = [36,43,108]\n",
    "    def duplicate(list1):\n",
    "        last_ele = list1[-1]\n",
    "        list1.append(last_ele)\n",
    "        return list1\n",
    "    NewList = duplicate(list1 = l)\n",
    "    \n",
    "    print(l)\n",
    "    print(NewList)\n",
    "except:\n",
    "    print('listing operation')"
   ]
  },
  {
   "cell_type": "markdown",
   "id": "494bad0a",
   "metadata": {},
   "source": [
    "From the above example, we can see that the global value of l has been updatedeven though its value has been changed inside the function. In general, we do not want our functions to be changing global variables even they containmutable data types like dictionaries or lists. In more complex analysis, we might be using didfferent functions very often. And if it keeps changing mutable data types like lists or dictionaries then it would be very difficult for us to keep track of what is changing what. To avoid such we should implement.copy () method. It works like .append() method. The only difference is that append() function adds element to a list and copy() function makes a copy of a list. So , .copy() method will help us unaltered the initial list and it has been exemplified below."
   ]
  },
  {
   "cell_type": "code",
   "execution_count": 24,
   "id": "8487a5c4",
   "metadata": {},
   "outputs": [
    {
     "name": "stdout",
     "output_type": "stream",
     "text": [
      "[36, 43, 108]\n",
      "[36, 43, 108, 108]\n"
     ]
    }
   ],
   "source": [
    "try:\n",
    "    \n",
    "    l = [36,43,108]\n",
    "    def duplicate(list1):\n",
    "        last_ele = list1[-1]\n",
    "        list1.append(last_ele)\n",
    "        return list1\n",
    "    NewList = duplicate(list1 = l.copy()) # makes a copy of the initial list\n",
    "    \n",
    "    print(l)\n",
    "    print(NewList)\n",
    "except:\n",
    "    print('listing operation')"
   ]
  },
  {
   "cell_type": "markdown",
   "id": "bdd3bcb4",
   "metadata": {},
   "source": [
    "In the above example, we can see that the initial list remains unchanged and a new list has been created and .copy() method helps the initial list remain unchanged."
   ]
  },
  {
   "cell_type": "markdown",
   "id": "5282526b",
   "metadata": {},
   "source": [
    "Q7. What is the concept of an unbalanced matrix?\n",
    "\n",
    "Matrix balancing is the process of adjusting the celss of a frequency table to match the known values of the row and column sums. A matrix is unbalanced if all cells in the matrix are unbalanced and a cell of the matrix is unbalanced if the number of cells in that matrix that are adjacent to that cell is strictly less than the value written in this cell. \n",
    "Adjacent cell means cells in the top, down, left, and right cell of each cell if it exists. An example has been given below to check whthere a given matrix is balanced or not."
   ]
  },
  {
   "cell_type": "code",
   "execution_count": 6,
   "id": "27cf0d04",
   "metadata": {},
   "outputs": [
    {
     "name": "stdout",
     "output_type": "stream",
     "text": [
      "unbalanced\n"
     ]
    }
   ],
   "source": [
    "try:\n",
    "    a = 4\n",
    "    b = 4\n",
    "    def balmat(mat):\n",
    "        isbal = True\n",
    "        i = 0\n",
    "        while i < a and isbal:\n",
    "            j = 0\n",
    "            while j <a and isbal:\n",
    "                if ((i ==0 or i == a -1) and (j ==0 or j == b -1)):\n",
    "                    if mat[i][j]>=2:\n",
    "                        isbal = False\n",
    "                elif ((i ==0 or i == a -1) and (j ==0 or j == b -1)):\n",
    "                    if mat[i][j]>=3:\n",
    "                        isbal = False\n",
    "                else:\n",
    "                    if mat[i][j]>= 4:\n",
    "                        isbal = False\n",
    "                j = j + 1\n",
    "            i = i + 1\n",
    "            \n",
    "        if isbal:\n",
    "            return 'balanced'\n",
    "        else:\n",
    "            return 'unbalanced'\n",
    "        \n",
    "    mat = [[1,2,3,4],\n",
    "           [5,6,7,8],\n",
    "           [9,10,11,12],\n",
    "           [13,14,15,16]\n",
    "          ]\n",
    "    print(balmat(mat))\n",
    "except:\n",
    "    print('matrix detection')"
   ]
  },
  {
   "cell_type": "markdown",
   "id": "db53e425",
   "metadata": {},
   "source": [
    "Q8. Why is it necessary to use either list comprehension or a loop to create arbitrarily large matrices?\n",
    "\n",
    "List comprehension is very much necessary to create arbitrarily large matrices as list comprehension automatically scan rows and columns of such arbitrarily larhe matrices. It has been exemplified below. Let's see how the list comprehension works with Matrixes. For example, we have two 3 x 3 matrixes as lists of nested list:"
   ]
  },
  {
   "cell_type": "code",
   "execution_count": 3,
   "id": "69d18832",
   "metadata": {},
   "outputs": [
    {
     "data": {
      "text/plain": [
       "[7, 8, 9]"
      ]
     },
     "execution_count": 3,
     "metadata": {},
     "output_type": "execute_result"
    }
   ],
   "source": [
    "a = [[1,2,3],\n",
    "      [4,5,6],\n",
    "     [7,8,9]]\n",
    "\n",
    "b = [[10,20,30],\n",
    "    [40,50,60],\n",
    "    [70,80,90]]\n",
    "# We can index rows and columns within rows.\n",
    "a[2]"
   ]
  },
  {
   "cell_type": "code",
   "execution_count": 4,
   "id": "f5a36eb7",
   "metadata": {},
   "outputs": [
    {
     "data": {
      "text/plain": [
       "9"
      ]
     },
     "execution_count": 4,
     "metadata": {},
     "output_type": "execute_result"
    }
   ],
   "source": [
    "a[2][2]"
   ]
  },
  {
   "cell_type": "markdown",
   "id": "1bf6d5b5",
   "metadata": {},
   "source": [
    "Although the above structure of two 3x3 matrices stores the matrix by rows and if we want to collect third columns we can simply iterate across the rows and get the desired third column as it has reflected below."
   ]
  },
  {
   "cell_type": "code",
   "execution_count": 5,
   "id": "ca50b608",
   "metadata": {},
   "outputs": [
    {
     "data": {
      "text/plain": [
       "[3, 6, 9]"
      ]
     },
     "execution_count": 5,
     "metadata": {},
     "output_type": "execute_result"
    }
   ],
   "source": [
    "[r[2] for r in a]"
   ]
  },
  {
   "cell_type": "code",
   "execution_count": 6,
   "id": "37cac69a",
   "metadata": {},
   "outputs": [
    {
     "data": {
      "text/plain": [
       "[3, 6, 9]"
      ]
     },
     "execution_count": 6,
     "metadata": {},
     "output_type": "execute_result"
    }
   ],
   "source": [
    "# Also we can get the third comumn by the following list comprehension\n",
    "[a[r][2] for r in (0,1,2)]"
   ]
  },
  {
   "cell_type": "markdown",
   "id": "a2217aa9",
   "metadata": {},
   "source": [
    "Also, list comprehension is faster than map() function and for loop. But for loop can be used if we want to simplify our programme and also for loop makes logic clearer. Simple types of operations are also possible with list comprehensions. So, these are the reasons for which list comprehensions or loop is necessary to create arbitrarily large matrices."
   ]
  }
 ],
 "metadata": {
  "kernelspec": {
   "display_name": "Python 3 (ipykernel)",
   "language": "python",
   "name": "python3"
  },
  "language_info": {
   "codemirror_mode": {
    "name": "ipython",
    "version": 3
   },
   "file_extension": ".py",
   "mimetype": "text/x-python",
   "name": "python",
   "nbconvert_exporter": "python",
   "pygments_lexer": "ipython3",
   "version": "3.9.7"
  }
 },
 "nbformat": 4,
 "nbformat_minor": 5
}
