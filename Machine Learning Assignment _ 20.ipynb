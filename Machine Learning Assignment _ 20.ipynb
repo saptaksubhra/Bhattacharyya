{
 "cells": [
  {
   "cell_type": "markdown",
   "id": "eebb3f6d",
   "metadata": {},
   "source": [
    "1.What is the underlying concept of Support Vector Machines?\n",
    "\n",
    "SVM or Support Vector Machine is a linear model for classification and regression problems. It can solve linear and non-linear problems and work well for many practical problems. The concept of SVM is that the algorithm creates a line or a hyperplane which separates the data into classes."
   ]
  },
  {
   "cell_type": "markdown",
   "id": "17b14e6d",
   "metadata": {},
   "source": [
    "2.What is the concept of a support vector?\n",
    "\n",
    "The data points or vectors that are the closest to the hyperplane and which affect the position of the hyperplane are termed as Support Vector. Since these vectors support the hyperplane, hence called a Support vector."
   ]
  },
  {
   "cell_type": "markdown",
   "id": "3978480e",
   "metadata": {},
   "source": [
    "3.When using SVMs, why is it necessary to scale the inputs?\n",
    "\n",
    "When using SVMs, it is necessary to scale the inputs because Support Vector Machine (SVM) optimization occurs by minimizing the decision vector w, the optimal hyperplane is influenced by the scale of the input features and it's therefore recommended that data be standardized (mean 0, var 1) prior to SVM model training."
   ]
  },
  {
   "cell_type": "markdown",
   "id": "a2b5577f",
   "metadata": {},
   "source": [
    "4.When an SVM classifier classifies a case, can it output a confidence score? What about a\n",
    "percentage chance?\n",
    "\n",
    "The Confidence Score, or Classification Threshhold, indicates how certain the NLP service / machine learning model is that the respective intent has been correctly assigned. The score can have a value between 0 and 1 , depending on how the neural networks work.\n",
    "\n",
    "For example, consider the scenario where a question in a task has three possible answers: “beef,” “chicken,” or “veggie.” The confidence would be calculated in the following three steps:\n",
    "Step 1:\n",
    "Sum the trust scores of the contributors responsible for each response (this is found in the worker report of a sample dataset):\n",
    "\n",
    "a. Sum of trust(beef) = 4.4703\n",
    "\n",
    "b. Sum of trust(chicken) = 1.8571\n",
    "\n",
    "c. Sum of trust(veggie) = 0.9231\n",
    "\n",
    "Step 2:\n",
    "Sum the trust scores for all responding contributors:\n",
    "a. Sum of trust(all) = 7.2505\n",
    "\n",
    "Step 3: Divide each in Step 1 by Step 2 to find the confidence score for each response\n",
    "\n",
    "a. Cofidence(beef) = Sum of trust(beef) / Sum of trust(all) = 4.4703 / 7.2505 = 0.6165\n",
    "\n",
    "b. Cofidence(chicken) = Sum of trust(chicken) / Sum of trust(all) = 1.8571 / 7.2505 = 0.2561\n",
    "\n",
    "c. Confidence(veggie) = Sum of trust(veggie) / Sum of trust(all) = 0.9231 / 7.2505 = 0.1273\n",
    "\n",
    "(Note: All confidence scores on a field sum to 1)\n",
    "\n",
    "In this scenario, the beef burito has the highest confidence score of 0.6165.\n",
    "\n",
    "Now, the percentage chance = confidence score X 100% = 0.6165 X 100% = 61.65%"
   ]
  },
  {
   "cell_type": "markdown",
   "id": "c95612c4",
   "metadata": {},
   "source": [
    "5.Should you train a model on a training set with millions of instances and hundreds of features\n",
    "using the primal or dual form of the SVM problem?\n",
    "\n",
    "This applies only to linear SVMs since kernelized can only use the dual form. The computational complexity of the primal form of the SVM problem is proportional to the number of training instances m, while the computational complexity of the dual form is proportional to a number between m² and m³. So, if there are millions of instances and hundreds of feature , we should use the primal form to train a model as the dual form will be too slow."
   ]
  },
  {
   "cell_type": "markdown",
   "id": "15eb845b",
   "metadata": {},
   "source": [
    "6.Let's say you've used an RBF kernel to train an SVM classifier, but it appears to underfit the\n",
    "training collection. Is it better to raise or lower (gamma)? What about the letter C?\n",
    "\n",
    "If we train an SVM classifier by using a Radial Basis Function (RBF) kernel, then it underfits the training set, so there might be too much regularization. To decrease it, we need to increase the gamma or C hyper-parameter or both."
   ]
  },
  {
   "cell_type": "markdown",
   "id": "8302f12d",
   "metadata": {},
   "source": [
    "7.To solve the soft margin linear SVM classifier problem with an off-the-shelf QP solver, how should\n",
    "the QP parameters (H, f, A, and b) be set?\n",
    "\n",
    "We should set the QP parameters for the hard margin problem as H, f, A, and b. The QP parameters for the soft margin problem will have m additional parameters and m additional constrains.\n",
    "\n",
    "Thus, H is equal to H plus m columns of 0s on the right and m rows of 0s at the bottom. f is euqal to f with m additional elements all equal to the value of hyperparameter C. A is equal to A with extra m * m  identity matrix appended to the right. b is equal to b with m additional elements all equal to 0"
   ]
  },
  {
   "cell_type": "markdown",
   "id": "4102a0ca",
   "metadata": {},
   "source": [
    "8.On a linearly separable dataset, train a Linear SVC. Then, using the same dataset, train an SVC and\n",
    "an SGDClassifier. See if you can get them to make a model that is similar to yours.\n",
    "\n",
    "First, I get the data. Use the iris data for test."
   ]
  },
  {
   "cell_type": "code",
   "execution_count": 1,
   "id": "9183eb65",
   "metadata": {},
   "outputs": [],
   "source": [
    "from sklearn import datasets\n",
    " \n",
    "iris = datasets.load_iris()\n",
    "X = iris[\"data\"][:, (2, 3)]  # petal length, petal width\n",
    "y = iris[\"target\"]\n",
    " \n",
    "setosa_or_versicolor = (y == 0) | (y == 1)\n",
    "X = X[setosa_or_versicolor]\n",
    "y = y[setosa_or_versicolor]"
   ]
  },
  {
   "cell_type": "markdown",
   "id": "17ad485b",
   "metadata": {},
   "source": [
    "Then, I use three classifiers to train the data and ouput the models"
   ]
  },
  {
   "cell_type": "code",
   "execution_count": 3,
   "id": "49993385",
   "metadata": {},
   "outputs": [
    {
     "name": "stdout",
     "output_type": "stream",
     "text": [
      "LinearSVC:                    [0.28475098] [[1.05364854 1.09903804]]\n",
      "SVC:                          [0.31896852] [[1.1203284  1.02625193]]\n",
      "SGDClassifier(alpha=0.00200): [0.319] [[1.12087283 1.02679408]]\n"
     ]
    }
   ],
   "source": [
    "from sklearn.svm import SVC, LinearSVC\n",
    "from sklearn.linear_model import SGDClassifier\n",
    "from sklearn.preprocessing import StandardScaler\n",
    "import numpy as np\n",
    " \n",
    "C = 5\n",
    "alpha = 1 / (C * len(X))\n",
    " \n",
    "lin_clf = LinearSVC(loss=\"hinge\", C=C, random_state=42)\n",
    "svm_clf = SVC(kernel=\"linear\", C=C)\n",
    "sgd_clf = SGDClassifier(loss=\"hinge\", learning_rate=\"constant\", eta0=0.001, alpha=alpha,\n",
    "                        max_iter=100000, tol=-np.infty, random_state=42)\n",
    " \n",
    "scaler = StandardScaler()\n",
    "X_scaled = scaler.fit_transform(X)\n",
    " \n",
    "lin_clf.fit(X_scaled, y)\n",
    "svm_clf.fit(X_scaled, y)\n",
    "sgd_clf.fit(X_scaled, y)\n",
    " \n",
    "print(\"LinearSVC:                   \", lin_clf.intercept_, lin_clf.coef_)\n",
    "print(\"SVC:                         \", svm_clf.intercept_, svm_clf.coef_)\n",
    "print(\"SGDClassifier(alpha={:.5f}):\".format(sgd_clf.alpha), sgd_clf.intercept_, sgd_clf.coef_)\n"
   ]
  },
  {
   "cell_type": "markdown",
   "id": "1b1835ad",
   "metadata": {},
   "source": [
    "Finally, plot the decision boundaries of three models:"
   ]
  },
  {
   "cell_type": "code",
   "execution_count": 9,
   "id": "140b760c",
   "metadata": {},
   "outputs": [
    {
     "data": {
      "image/png": "[encoded data removed]",
      "text/plain": [
       "<Figure size 1152x288 with 1 Axes>"
      ]
     },
     "metadata": {
      "needs_background": "light"
     },
     "output_type": "display_data"
    }
   ],
   "source": [
    "import matplotlib.pyplot as plt\n",
    "# Compute the slope and bias of each decision boundary\n",
    "w1 = -lin_clf.coef_[0, 0]/lin_clf.coef_[0, 1]\n",
    "b1 = -lin_clf.intercept_[0]/lin_clf.coef_[0, 1]\n",
    "w2 = -svm_clf.coef_[0, 0]/svm_clf.coef_[0, 1]\n",
    "b2 = -svm_clf.intercept_[0]/svm_clf.coef_[0, 1]\n",
    "w3 = -sgd_clf.coef_[0, 0]/sgd_clf.coef_[0, 1]\n",
    "b3 = -sgd_clf.intercept_[0]/sgd_clf.coef_[0, 1]\n",
    " \n",
    "# Transform the decision boundary lines back to the original scale\n",
    "line1 = scaler.inverse_transform([[-10, -10 * w1 + b1], [10, 10 * w1 + b1]])\n",
    "line2 = scaler.inverse_transform([[-10, -10 * w2 + b2], [10, 10 * w2 + b2]])\n",
    "line3 = scaler.inverse_transform([[-10, -10 * w3 + b3], [10, 10 * w3 + b3]])\n",
    " \n",
    "# Plot all three decision boundaries\n",
    "plt.figure(figsize=(16, 4))\n",
    "plt.plot(line1[:, 0], line1[:, 1], \"k:\", label=\"LinearSVC\")\n",
    "plt.plot(line2[:, 0], line2[:, 1], \"b--\", linewidth=2, label=\"SVC\")\n",
    "plt.plot(line3[:, 0], line3[:, 1], \"r-\", label=\"SGDClassifier\")\n",
    "plt.plot(X[:, 0][y==1], X[:, 1][y==1], \"bs\") # label=\"Iris-Versicolor\"\n",
    "plt.plot(X[:, 0][y==0], X[:, 1][y==0], \"yo\") # label=\"Iris-Setosa\"\n",
    "plt.xlabel(\"Petal length\", fontsize=14)\n",
    "plt.ylabel(\"Petal width\", fontsize=14)\n",
    "plt.legend(loc=\"upper center\", fontsize=14)\n",
    "plt.axis([0, 5.5, 0, 2])\n",
    " \n",
    "plt.show()"
   ]
  },
  {
   "cell_type": "markdown",
   "id": "2c72e312",
   "metadata": {},
   "source": [
    "From the above graph , we can say that they are almost the same models."
   ]
  },
  {
   "cell_type": "markdown",
   "id": "14be8a45",
   "metadata": {},
   "source": [
    "9.On the MNIST dataset, train an SVM classifier. You'll need to use one-versus-the-rest to assign all\n",
    "10 digits because SVM classifiers are binary classifiers. To accelerate up the process, you might want\n",
    "to tune the hyperparameters using small validation sets. What level of precision can you achieve?"
   ]
  },
  {
   "cell_type": "markdown",
   "id": "d5310209",
   "metadata": {},
   "source": [
    "First and foremost, get the data, split the train set and test set:"
   ]
  },
  {
   "cell_type": "markdown",
   "id": "9c4b1f85",
   "metadata": {},
   "source": [
    "\n",
    "try:\n",
    "    import numpy as np\n",
    "    from sklearn.datasets import fetch_openml\n",
    "    mnist = fetch_openml('mnist_784', version=1, cache=True)\n",
    "except ImportError:\n",
    "    from sklearn.datasets import fetch_mldata\n",
    "    mnist = fetch_mldata('MNIST original')\n",
    " \n",
    "X = mnist[\"data\"]\n",
    "y = mnist[\"target\"]\n",
    " \n",
    "X_train = X[:60000]\n",
    "y_train = y[:60000]\n",
    "X_test = X[60000:]\n",
    "y_test = y[60000:]"
   ]
  },
  {
   "cell_type": "markdown",
   "id": "c8d5c61e",
   "metadata": {},
   "source": [
    "Shuffling the training set"
   ]
  },
  {
   "cell_type": "markdown",
   "id": "9b15c643",
   "metadata": {},
   "source": [
    "import numpy as np\n",
    "np.random.seed(42)\n",
    "rnd_idx = np.random.permutation(60000)\n",
    "X_train = X_train[rnd_idx]\n",
    "y_train = y_train[rnd_idx]"
   ]
  },
  {
   "cell_type": "markdown",
   "id": "2aecfb5d",
   "metadata": {},
   "source": [
    "#scaling , traing the data and getting the result of accuracy score\n",
    "scaler = StandardScaler()\n",
    "X_train_scaled = scaler.fit_transform(X_train.astype(np.float32))\n",
    "X_test_scaled = scaler.transform(X_test.astype(np.float32))\n",
    "lin_clf = LinearSVC(random_state=42)\n",
    "lin_clf.fit(X_train_scaled, y_train)\n",
    "y_pred = lin_clf.predict(X_train_scaled)\n",
    "accuracy_score(y_train, y_pred)"
   ]
  },
  {
   "cell_type": "markdown",
   "id": "d0981627",
   "metadata": {},
   "source": [
    "0.923 which is equalto 92.3%"
   ]
  },
  {
   "cell_type": "markdown",
   "id": "a2122362",
   "metadata": {},
   "source": [
    "10.On the California housing dataset, train an SVM regressor.\n",
    "\n",
    "On the California housing dataset, an SVM regressor can be trained in the following steps.\n",
    "\n",
    "Get the data, split into training set and test set, scale the data, train a model, test the model, check the model's RMSE:\n"
   ]
  },
  {
   "cell_type": "markdown",
   "id": "2f5d2d63",
   "metadata": {},
   "source": [
    "import numpy as np\n",
    "from sklearn.metrics import mean_squared_error\n",
    "y_pred = lin_svr.predict(X_train_scaled)\n",
    "mse = mean_squared_error(y_train, y_pred)\n",
    "mse"
   ]
  },
  {
   "cell_type": "markdown",
   "id": "939045d6",
   "metadata": {},
   "source": [
    "0.9545170440733\n",
    "\n",
    "#Let's have a look at RMSE\n",
    "import numpy as np\n",
    "np.sqrt(mse)"
   ]
  },
  {
   "cell_type": "markdown",
   "id": "880ba1ea",
   "metadata": {},
   "source": [
    "0.9769938812875"
   ]
  }
 ],
 "metadata": {
  "kernelspec": {
   "display_name": "Python 3 (ipykernel)",
   "language": "python",
   "name": "python3"
  },
  "language_info": {
   "codemirror_mode": {
    "name": "ipython",
    "version": 3
   },
   "file_extension": ".py",
   "mimetype": "text/x-python",
   "name": "python",
   "nbconvert_exporter": "python",
   "pygments_lexer": "ipython3",
   "version": "3.9.7"
  }
 },
 "nbformat": 4,
 "nbformat_minor": 5
}
