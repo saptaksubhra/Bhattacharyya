{
 "cells": [
  {
   "cell_type": "code",
   "execution_count": 7,
   "id": "6f922cde",
   "metadata": {},
   "outputs": [
    {
     "name": "stdout",
     "output_type": "stream",
     "text": [
      "Please enter the number : 5\n",
      "Fibonacci Series  is:\n",
      "0\n",
      "1\n",
      "1\n",
      "2\n",
      "3\n"
     ]
    }
   ],
   "source": [
    "#1.\tWrite a Python Program to Display Fibonacci Sequence Using Recursion?\n",
    "\n",
    "try:\n",
    "    def recur_fibon(n):\n",
    "        if n <=1:\n",
    "            return n\n",
    "        else:\n",
    "            return(recur_fibon(n-1) + recur_fibon(n-2))\n",
    "    a=int(input(\"Please enter the number : \"))\n",
    "    \n",
    "    if a <= 0:\n",
    "        print(\"Please enter a positive number : \")\n",
    "    else:\n",
    "        print(\"Fibonacci Series  is:\")\n",
    "        for i in range(a):\n",
    "            print(recur_fibon(i))\n",
    "except:\n",
    "    print(\"Fibonacci Series Using Recursion\")\n",
    "    "
   ]
  },
  {
   "cell_type": "code",
   "execution_count": 8,
   "id": "4edf4fa2",
   "metadata": {},
   "outputs": [
    {
     "name": "stdout",
     "output_type": "stream",
     "text": [
      "Please enter the number : 5\n",
      "The factorial of 5 is 120\n"
     ]
    }
   ],
   "source": [
    "# 2.Write a Python Program to Find Factorial of Number Using Recursion?\n",
    "\n",
    "try:\n",
    "    def recursion_factorial(n):\n",
    "        if n == 1:\n",
    "            return n\n",
    "        else:\n",
    "            return n * recursion_factorial(n-1)\n",
    "    num10 = int(input(\"Please enter the number : \"))\n",
    "    if num10 < 0:\n",
    "        print(\"Sorry factorial is impossible in case of a negative number\")\n",
    "    elif num10 == 0:\n",
    "        print(\"Factorial of 0 is 1\")\n",
    "    else:\n",
    "        print(\"The factorial of\", num10, \"is\", recursion_factorial(num10))\n",
    "except:\n",
    "    print(\"Factorial of a number using recursion\")"
   ]
  },
  {
   "cell_type": "code",
   "execution_count": 11,
   "id": "859c8bf1",
   "metadata": {},
   "outputs": [
    {
     "name": "stdout",
     "output_type": "stream",
     "text": [
      "Please enter body weight in Kg: 75\n",
      "please enter height in metres: 1.8\n",
      "BMI is :  23.148148148148145\n"
     ]
    }
   ],
   "source": [
    "#3.\tWrite a Python Program to calculate your Body Mass Index?\n",
    "\n",
    "try:\n",
    "    weight = float(input(\"Please enter body weight in Kg: \"))\n",
    "    height = float(input(\"please enter height in metres: \"))\n",
    "    Body_Mass_Index = weight / (height * height)\n",
    "    print(\"BMI is : \", Body_Mass_Index)\n",
    "except:\n",
    "    print(\"BMI Calculation\")"
   ]
  },
  {
   "cell_type": "code",
   "execution_count": 14,
   "id": "3e4772e0",
   "metadata": {},
   "outputs": [
    {
     "name": "stdout",
     "output_type": "stream",
     "text": [
      "Please enter the number : 4\n",
      "The natural logarithm is :  1.3862943611198906\n"
     ]
    }
   ],
   "source": [
    "#4.\tWrite a Python Program to calculate the natural logarithm of any number?\n",
    "\n",
    "try:\n",
    "    import math\n",
    "    num12 = int(input(\"Please enter the number : \"))\n",
    "    natural_log = math.log(num12)\n",
    "    print(\"The natural logarithm is : \", natural_log)\n",
    "except:\n",
    "    print(\"Detection of logarithm of any number\")"
   ]
  },
  {
   "cell_type": "code",
   "execution_count": 4,
   "id": "b47c4f9f",
   "metadata": {},
   "outputs": [
    {
     "name": "stdout",
     "output_type": "stream",
     "text": [
      "Please enter the number : 10\n",
      "3025\n"
     ]
    }
   ],
   "source": [
    "#5.\tWrite a Python Program for cube sum of first n natural numbers?\n",
    "\n",
    "try:\n",
    "    def sum_of_series(n):\n",
    "        a = (n * (n + 1) / 2)\n",
    "        return (int)(a * a)\n",
    "    n = int(input(\"Please enter the number : \"))\n",
    "    print(sum_of_series(n))\n",
    "except:\n",
    "    print(\"Cube some of some natural numbers\")"
   ]
  }
 ],
 "metadata": {
  "kernelspec": {
   "display_name": "Python 3 (ipykernel)",
   "language": "python",
   "name": "python3"
  },
  "language_info": {
   "codemirror_mode": {
    "name": "ipython",
    "version": 3
   },
   "file_extension": ".py",
   "mimetype": "text/x-python",
   "name": "python",
   "nbconvert_exporter": "python",
   "pygments_lexer": "ipython3",
   "version": "3.9.7"
  }
 },
 "nbformat": 4,
 "nbformat_minor": 5
}
