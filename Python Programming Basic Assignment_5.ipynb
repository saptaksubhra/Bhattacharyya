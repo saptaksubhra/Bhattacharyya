{
 "cells": [
  {
   "cell_type": "code",
   "execution_count": 7,
   "id": "b919f1cb",
   "metadata": {},
   "outputs": [
    {
     "name": "stdout",
     "output_type": "stream",
     "text": [
      "Enetr the first number : 4\n",
      "Enter the second number : 6\n",
      "The LCM of 4 and 6 is 12\n"
     ]
    }
   ],
   "source": [
    "#1.\tWrite a Python Program to Find LCM?\n",
    "\n",
    "try:\n",
    "    def calculate_LCM(a,b):\n",
    "        if a > b:\n",
    "            greater = a\n",
    "        else:\n",
    "            greater = b\n",
    "        while (True):\n",
    "            if ((greater % a == 0) and (greater % b == 0)):\n",
    "                LCM = greater\n",
    "                break\n",
    "            greater = greater + 1\n",
    "        return LCM\n",
    "    num1 = int(input(\"Enetr the first number : \"))\n",
    "    num2 = int(input(\"Enter the second number : \"))\n",
    "    print(\"The LCM of\", num1, \"and\", num2, \"is\", calculate_LCM(num1, num2))\n",
    "except:\n",
    "    print(\"LCM of two numbers\")"
   ]
  },
  {
   "cell_type": "code",
   "execution_count": 16,
   "id": "de3653e6",
   "metadata": {},
   "outputs": [
    {
     "name": "stdout",
     "output_type": "stream",
     "text": [
      "Enter the first number : 4\n",
      "Enter the second number : 6\n",
      "The HCF of 4 and 6 is 2\n"
     ]
    }
   ],
   "source": [
    "#2.\tWrite a Python Program to Find HCF?\n",
    "\n",
    "try:\n",
    "    def calculate_HCF (c,d):\n",
    "        if c > d:\n",
    "            smaller = d\n",
    "        else:\n",
    "            smaller = c\n",
    "        for i in range (1, smaller + 1):\n",
    "            if ((c % i == 0 ) and (d % i == 0 )):\n",
    "                HCF = i\n",
    "            \n",
    "        return HCF\n",
    "    num3 = int(input(\"Enter the first number : \"))\n",
    "    num4 = int(input(\"Enter the second number : \"))\n",
    "    print(\"The HCF of\", num3, \"and\", num4, \"is\", calculate_HCF(num3, num4))\n",
    "\n",
    "except:\n",
    "    print((\"HCF of two numbers\"))"
   ]
  },
  {
   "cell_type": "code",
   "execution_count": 3,
   "id": "9bf0106a",
   "metadata": {},
   "outputs": [
    {
     "name": "stdout",
     "output_type": "stream",
     "text": [
      "Enter the number : 4\n",
      "The decimal value of 4 is : \n",
      "0b100 in Binary.\n",
      "0o4 in Octal.\n",
      "0x4 in Hexadecimal.\n"
     ]
    }
   ],
   "source": [
    "#3.\tWrite a Python Program to Convert Decimal to Binary, Octal and Hexadecimal?\n",
    "\n",
    "try:\n",
    "    deci= int(input(\"Enter the number : \"))\n",
    "    print(\"The decimal value of\", deci, \"is : \")\n",
    "    print(bin(deci), \"in Binary.\")\n",
    "    print(oct(deci), \"in Octal.\")\n",
    "    print(hex(deci), \"in Hexadecimal.\")\n",
    "except:\n",
    "    print(\"the numbering system conversion\")\n",
    "    "
   ]
  },
  {
   "cell_type": "code",
   "execution_count": 10,
   "id": "b022af83",
   "metadata": {},
   "outputs": [
    {
     "name": "stdout",
     "output_type": "stream",
     "text": [
      "Please enter a character : A\n",
      "The ASCII value of +char+ is 65\n"
     ]
    }
   ],
   "source": [
    "#4.\tWrite a Python Program To Find ASCII value of a character?\n",
    "\n",
    "try:\n",
    "    char = input(\"Please enter a character : \")\n",
    "    print(\"The ASCII value of\", \"+char+\", \"is\", ord(char) )\n",
    "except:\n",
    "    print(\"The ASCII value of a character\")"
   ]
  },
  {
   "cell_type": "code",
   "execution_count": 9,
   "id": "7ddb49ae",
   "metadata": {},
   "outputs": [
    {
     "name": "stdout",
     "output_type": "stream",
     "text": [
      "Select Operation : \n",
      "1.ADD\n",
      "2.SUBTRACT\n",
      "3.MULTIPLY\n",
      "4.DIVIDE\n",
      "Please enter your choice (1/2/3/4) : 4\n",
      "Enter your first number : 3\n",
      "Enter your second number : 9\n",
      "3 / 9 = 0.3333333333333333\n"
     ]
    }
   ],
   "source": [
    "#5.\tWrite a Python Program to Make a Simple Calculator with 4 basic mathematical operations?\n",
    "\n",
    "try:\n",
    "    def add(e, f):\n",
    "        return e + f\n",
    "    def subtract(e , f):\n",
    "        return e - f\n",
    "    def multiply(e , f):\n",
    "        return e * f\n",
    "    def divide(e, f):\n",
    "        return e / f\n",
    "    \n",
    "    print(\"Select Operation : \")\n",
    "    print(\"1.ADD\")\n",
    "    print(\"2.SUBTRACT\")\n",
    "    print(\"3.MULTIPLY\")\n",
    "    print(\"4.DIVIDE\")\n",
    "    \n",
    "\n",
    "    choice = int(input(\"Please enter your choice (1/2/3/4) : \"))\n",
    "    num7 = int(input(\"Enter your first number : \"))\n",
    "    num8 = int(input(\"Enter your second number : \"))\n",
    "    if choice == 1:\n",
    "        print(num7, \"+\", num8, \"=\", add(num7, num8))\n",
    "    elif choice == 2:\n",
    "        print(num7, \"-\", num8, \"=\", subtract(num7, num8))\n",
    "    elif choice == 3:\n",
    "        print(num7, \"*\", num8, \"=\", multiply(num7, num8))\n",
    "    elif choice == 4:\n",
    "        print(num7, \"/\", num8, \"=\", divide(num7, num8))\n",
    "    else:\n",
    "        print(\"Invalid Input\")\n",
    "except:\n",
    "    print(\"Simple Calculator Formation\")\n",
    "        "
   ]
  }
 ],
 "metadata": {
  "kernelspec": {
   "display_name": "Python 3 (ipykernel)",
   "language": "python",
   "name": "python3"
  },
  "language_info": {
   "codemirror_mode": {
    "name": "ipython",
    "version": 3
   },
   "file_extension": ".py",
   "mimetype": "text/x-python",
   "name": "python",
   "nbconvert_exporter": "python",
   "pygments_lexer": "ipython3",
   "version": "3.9.7"
  }
 },
 "nbformat": 4,
 "nbformat_minor": 5
}
