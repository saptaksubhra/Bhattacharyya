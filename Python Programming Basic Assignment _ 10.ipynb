{
 "cells": [
  {
   "cell_type": "code",
   "execution_count": 3,
   "id": "73323e45",
   "metadata": {},
   "outputs": [
    {
     "name": "stdout",
     "output_type": "stream",
     "text": [
      "The sum of all the elements in the given list is :  55\n"
     ]
    }
   ],
   "source": [
    "#1. Write a Python program to find sum of elements in list?\n",
    "\n",
    "try:\n",
    "    Total = 0\n",
    "    List = [1,2,3,4,5,6,7,8,9,10]\n",
    "    \n",
    "    for element in range(0, len(List)):\n",
    "        Total = Total + List[element]\n",
    "    print(\"The sum of all the elements in the given list is : \", Total)\n",
    "except:\n",
    "    print(\"The summesion of all the elements in a list\")"
   ]
  },
  {
   "cell_type": "code",
   "execution_count": 9,
   "id": "0a81dec2",
   "metadata": {},
   "outputs": [
    {
     "name": "stdout",
     "output_type": "stream",
     "text": [
      "720\n",
      "3840\n",
      "10395\n"
     ]
    }
   ],
   "source": [
    "#2. Write a Python program to Multiply all numbers in the list?\n",
    "\n",
    "try:\n",
    "    def MultiplyList(Myownlist):\n",
    "        result = 1\n",
    "        for a in Myownlist:\n",
    "            result = result * a\n",
    "        return result\n",
    "    List1 = [1,2,3,4,5,6]\n",
    "    List2 = [2,4,6,8,10]\n",
    "    List3 = [3,5,7,9,11]\n",
    "    \n",
    "    print(MultiplyList(List1))\n",
    "    print(MultiplyList(List2))\n",
    "    print(MultiplyList(List3))\n",
    "except:\n",
    "    print(\"Multiplication of all the numbers in a given list\")"
   ]
  },
  {
   "cell_type": "code",
   "execution_count": 11,
   "id": "ccbea94c",
   "metadata": {},
   "outputs": [
    {
     "name": "stdout",
     "output_type": "stream",
     "text": [
      "The smallest element in the given list is :  -8\n"
     ]
    }
   ],
   "source": [
    "#3. Write a Python program to find smallest number in a list?\n",
    "\n",
    "try:\n",
    "    list1 = [3,-8,9,10]\n",
    "    print(\"The smallest element in the given list is : \", min(list1))\n",
    "except:\n",
    "    print(\"The detection of the smallest element in a given list\")\n",
    "    "
   ]
  },
  {
   "cell_type": "code",
   "execution_count": 12,
   "id": "7dc09257",
   "metadata": {},
   "outputs": [
    {
     "name": "stdout",
     "output_type": "stream",
     "text": [
      "The largest element in the given list is : 345\n"
     ]
    }
   ],
   "source": [
    "#4. Write a Python program to find largest number in a list?\n",
    "\n",
    "try:\n",
    "    list2 = [5,100,345,-789]\n",
    "    print(\"The largest element in the given list is :\", max(list2))\n",
    "except:\n",
    "    print(\"The detection of the largest element in the given list\")"
   ]
  },
  {
   "cell_type": "code",
   "execution_count": 35,
   "id": "047172d7",
   "metadata": {},
   "outputs": [
    {
     "name": "stdout",
     "output_type": "stream",
     "text": [
      "The second largest element in the given list is :  67\n"
     ]
    }
   ],
   "source": [
    "#5. Write a Python program to find second largest number in a list?\n",
    "\n",
    "try:\n",
    "    \n",
    "    List3 = [23,67,46,90,-100]\n",
    "    List3.sort()\n",
    "    print(\"The second largest element in the given list is : \", List3[-2])\n",
    "except:\n",
    "    print(\"The detection of the 2nd largest element of a given list\")"
   ]
  },
  {
   "cell_type": "code",
   "execution_count": 36,
   "id": "245e6d18",
   "metadata": {},
   "outputs": [
    {
     "name": "stdout",
     "output_type": "stream",
     "text": [
      "[437, 786, 902]\n"
     ]
    }
   ],
   "source": [
    "#6. Write a Python program to find N largest elements from a list?\n",
    "\n",
    "try:\n",
    "    List4 = [346,786,902,-800,437,289]\n",
    "    n = 3\n",
    "    List4.sort()\n",
    "    print(List4[-3:])\n",
    "except:\n",
    "    print(\"The detection of N number of elements in a given list\")"
   ]
  },
  {
   "cell_type": "code",
   "execution_count": 40,
   "id": "8677e4c1",
   "metadata": {},
   "outputs": [
    {
     "name": "stdout",
     "output_type": "stream",
     "text": [
      "46 56 "
     ]
    }
   ],
   "source": [
    "#7. Write a Python program to print even numbers in a list?\n",
    "\n",
    "try:\n",
    "    List5 = [46,43,37,89,56]\n",
    "    for number in List5:\n",
    "        if number % 2 == 0:\n",
    "            print(number, end =\" \")\n",
    "except:\n",
    "    print(\"Detection of even numbers in a list\")"
   ]
  },
  {
   "cell_type": "code",
   "execution_count": 41,
   "id": "b4360b03",
   "metadata": {},
   "outputs": [
    {
     "name": "stdout",
     "output_type": "stream",
     "text": [
      "43  99  "
     ]
    }
   ],
   "source": [
    "#8. Write a Python program to print odd numbers in a List?\n",
    "\n",
    "try:\n",
    "    List6 = [43,78,42,99]\n",
    "    for number2 in List6:\n",
    "        if number2 % 2 != 0:\n",
    "            print(number2, end = \"  \")\n",
    "except:\n",
    "    print(\"The detection of all odd numbers in a given list\")\n",
    "\n"
   ]
  },
  {
   "cell_type": "code",
   "execution_count": 44,
   "id": "ee4c241a",
   "metadata": {},
   "outputs": [
    {
     "name": "stdout",
     "output_type": "stream",
     "text": [
      "The original list is : [76, [], 79, 49, 999, []]\n",
      "The new list after the removal of empty lists is : [76, 79, 49, 999]\n"
     ]
    }
   ],
   "source": [
    "#9. Write a Python program to Remove empty List from List?\n",
    "\n",
    "try:\n",
    "    List7 = [76, [], 79, 49, 999, []]\n",
    "    print(\"The original list is : \" + str(List7))\n",
    "    rest = [element for element in List7 if element != []]\n",
    "    print(\"The new list after the removal of empty lists is : \" + str(rest))\n",
    "except:\n",
    "    print(\" The removal of empty lists from a list\")"
   ]
  },
  {
   "cell_type": "code",
   "execution_count": 45,
   "id": "680e57b0",
   "metadata": {},
   "outputs": [
    {
     "name": "stdout",
     "output_type": "stream",
     "text": [
      "Original list is :  [5, 9, 100, 1002, 305]\n",
      "After cloning the list is :  [5, 9, 100, 1002, 305]\n"
     ]
    }
   ],
   "source": [
    "#10. Write a Python program to Cloning or Copying a list?\n",
    "\n",
    "try:\n",
    "    List8 = [5,9,100,1002,305]\n",
    "    def cloning_list(List8):\n",
    "        Copied_List = List8[:]\n",
    "        return Copied_List\n",
    "    List9 = cloning_list(List8)\n",
    "    print(\"Original list is : \", List8)\n",
    "    print(\"After cloning the list is : \", List9)\n",
    "except:\n",
    "    print(\"The cloning of a list\")"
   ]
  },
  {
   "cell_type": "code",
   "execution_count": 2,
   "id": "a6486c1e",
   "metadata": {},
   "outputs": [
    {
     "name": "stdout",
     "output_type": "stream",
     "text": [
      "sap has occurred 1 times\n"
     ]
    }
   ],
   "source": [
    "#11. Write a Python program to Count occurrences of an element in a list?\n",
    "\n",
    "try:\n",
    "    def count1(list, a):\n",
    "        return list.count(a)\n",
    "    list = [2,5,6,4,9,3,7,\"sap\",\"ineuron\",\"fsds\",108]\n",
    "    a = \"sap\"\n",
    "    print(\"{} has occurred {} times\" .format(a, count1(list, a)))\n",
    "except:\n",
    "    print(\"Please print the desired output\")"
   ]
  }
 ],
 "metadata": {
  "kernelspec": {
   "display_name": "Python 3 (ipykernel)",
   "language": "python",
   "name": "python3"
  },
  "language_info": {
   "codemirror_mode": {
    "name": "ipython",
    "version": 3
   },
   "file_extension": ".py",
   "mimetype": "text/x-python",
   "name": "python",
   "nbconvert_exporter": "python",
   "pygments_lexer": "ipython3",
   "version": "3.9.7"
  }
 },
 "nbformat": 4,
 "nbformat_minor": 5
}
