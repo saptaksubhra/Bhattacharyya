{
 "cells": [
  {
   "cell_type": "markdown",
   "id": "64d544fe",
   "metadata": {},
   "source": [
    "1.Describe the Quick R-CNN architecture.\n",
    "\n",
    "Quick R-CNN is a single-stage model that is trained end-to-end. It uses a novel region proposal network (RPN) for generating region proposals, which save time compared to traditional algorithms like Selective Search. It uses the ROI Pooling layer to extract a fixed-length feature vector from each region proposal."
   ]
  },
  {
   "cell_type": "markdown",
   "id": "432a5e36",
   "metadata": {},
   "source": [
    "2.Describe two Fast R-CNN loss functions.\n",
    "\n",
    "The first term is the classification loss over 2 classes (There is object or not). The second term is the regression loss of bounding boxes only when there is object (i.e. p_i* =1). Thus, RPN network is to pre-check which location contains object."
   ]
  },
  {
   "cell_type": "markdown",
   "id": "c1e5a29c",
   "metadata": {},
   "source": [
    "3.Describe the DISABILITIES OF FAST R-CNN\n",
    "\n",
    "The disabilities of Fast R-CNN us that most of the time taken by Fast R-CNN during detection is a selective search region proposal generation algorithm. Hence, it is the bottleneck of this architecture which was dealt with in Faster R-CNN.\n",
    "When counting objects with Faster R-CNN, the disability of this approach is mainly its speed, both during the training and during the actual testing while object detection was performed."
   ]
  },
  {
   "cell_type": "markdown",
   "id": "37ab584d",
   "metadata": {},
   "source": [
    "4.Describe how the area proposal network works.\n",
    "\n",
    "A Region Proposal Network or area proposal network, or RPN, is a fully convolutional network that simultaneously predicts object bounds and objectness scores at each position. The RPN is trained end-to-end to generate high-quality region proposals.\n",
    "RPN and algorithms like Fast R-CNN can be merged into a single network by sharing their convolutional features - using the recently popular terminology of neural networks with attention mechanisms, the RPN component tells the unified network where to look.\n",
    "RPNs are designed to efficiently predict region proposals with a wide range of scales and aspect ratios. RPNs use anchor boxes that serve as references at multiple scales and aspect ratios. The scheme can be thought of as a pyramid of regression references, which avoids enumerating images or filters of multiple scales or aspect ratios."
   ]
  },
  {
   "cell_type": "markdown",
   "id": "514be59e",
   "metadata": {},
   "source": [
    "5.Describe how the RoI pooling layer works.\n",
    "\n",
    "The RoI Pooling layer is just a type of max-pooling, where the pool size is dependent on the input size. Doing this ensures that the output is always of the same size. This layer is used because the fully-connected layer always expects the same input size, but input regions to the FC layer may have different sizes.\n",
    "ROI pooling takes every ROI from the input and takes a section of input feature map which corresponds to that ROI and converts that feature-map section into a fixed dimension map."
   ]
  },
  {
   "cell_type": "markdown",
   "id": "b28db83a",
   "metadata": {},
   "source": [
    "6.What are fully convolutional networks and how do they work? (FCNs)\n",
    "\n",
    "Fully Convolutional Networks, or FCNs, are an architecture used mainly for semantic segmentation. They employ solely locally connected layers, such as convolution, pooling and upsampling. Avoiding the use of dense layers means less parameters (making the networks faster to train).\n",
    "\n",
    "How does fully convolutional network work?\n",
    "FCN is a network that does not contain any “Dense” layers (as in traditional CNNs) instead it contains 1x1 convolutions that perform the task of fully connected layers (Dense layers)."
   ]
  },
  {
   "cell_type": "markdown",
   "id": "82be18df",
   "metadata": {},
   "source": [
    "7.What are anchor boxes and how do you use them?\n",
    "\n",
    "Anchor boxes are a set of predefined bounding boxes of a certain height and width. These boxes are defined to capture the scale and aspect ratio of specific object classes we want to detect and are typically chosen based on object sizes in your training datasets."
   ]
  },
  {
   "cell_type": "markdown",
   "id": "40868a49",
   "metadata": {},
   "source": [
    "8.Describe the Single-shot Detector's architecture (SSD)\n",
    "\n",
    "SSD has two components: a backbone model and SSD head. Backbone model usually is a pre-trained image classification network as a feature extractor. This is typically a network like ResNet trained on ImageNet from which the final fully connected classification layer has been removed."
   ]
  },
  {
   "cell_type": "markdown",
   "id": "ddd7831e",
   "metadata": {},
   "source": [
    "9.HOW DOES THE SSD NETWORK PREDICT?\n",
    "\n",
    "SSD uses a matching phase while training, to match the appropriate anchor box with the bounding boxes of each ground truth object within an image. Essentially, the anchor box with the highest degree of overlap with an object is responsible for predicting that object's class and its location."
   ]
  },
  {
   "cell_type": "markdown",
   "id": "43e18033",
   "metadata": {},
   "source": [
    "10.Explain Multi Scale Detections?\n",
    "\n",
    "The MSCNN or Multi Scale Detections consists of a proposal sub-network and a detection sub-network. In the proposal sub-network, detection is performed at multiple output layers, so that receptive fields match objects of different scales. These complementary scale-specific detectors are combined to produce a strong multi-scale object detector."
   ]
  },
  {
   "cell_type": "markdown",
   "id": "b0038f77",
   "metadata": {},
   "source": [
    "11.What are dilated (or atrous) convolutions?\n",
    "\n",
    "Dilated convolution is basically a convolution with a wider kernel created by regularly inserting spaces between the kernel elements."
   ]
  }
 ],
 "metadata": {
  "kernelspec": {
   "display_name": "Python 3 (ipykernel)",
   "language": "python",
   "name": "python3"
  },
  "language_info": {
   "codemirror_mode": {
    "name": "ipython",
    "version": 3
   },
   "file_extension": ".py",
   "mimetype": "text/x-python",
   "name": "python",
   "nbconvert_exporter": "python",
   "pygments_lexer": "ipython3",
   "version": "3.9.7"
  }
 },
 "nbformat": 4,
 "nbformat_minor": 5
}
