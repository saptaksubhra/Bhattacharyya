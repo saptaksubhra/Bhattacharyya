{
 "cells": [
  {
   "cell_type": "markdown",
   "id": "d0618aee",
   "metadata": {},
   "source": [
    "Q1. What is the meaning of multiple inheritance?\n",
    "\n",
    "When a class is derived from more than one parent class or base class , then this is called multiple inheritance and the derived class or sub-class is called child class. In this child class , the properties or features of the parent classes are inherited.And the base class is sometimes named parent class.\n",
    "\n",
    "The syntax of the multiple inheritance is given below."
   ]
  },
  {
   "cell_type": "code",
   "execution_count": null,
   "id": "069f72c0",
   "metadata": {},
   "outputs": [],
   "source": [
    "#Syntax of Multiple Inheritance\n",
    "\n",
    "class Base1:\n",
    "    Body of the class Base1\n",
    "class Base2:\n",
    "    Body of the class Base2\n",
    "    \n",
    "class child(Base1, Base2):\n",
    "    Body of the class child\n"
   ]
  },
  {
   "cell_type": "code",
   "execution_count": 1,
   "id": "373f82a3",
   "metadata": {},
   "outputs": [
    {
     "name": "stdout",
     "output_type": "stream",
     "text": [
      "Male\n",
      "Female\n"
     ]
    }
   ],
   "source": [
    "#Example of Multiple Inheritance\n",
    "# In this example Person class is the parent class or base class and the derived classes are Male  and Female which inherit \n",
    "#the features of the base class Parent.\n",
    "\n",
    "\n",
    "try:\n",
    "    class Person:\n",
    "        def getgender(ponting):\n",
    "            return \"getgender\"\n",
    "        \n",
    "    class Male(Person):\n",
    "        def getgender(ponting):\n",
    "            return \"Male\"\n",
    "        \n",
    "    class Female(Person):\n",
    "        def getgender(ponting):\n",
    "            return \"Female\"\n",
    "        \n",
    "        \n",
    "    Shiva = Male()\n",
    "    Lakshmi = Female()\n",
    "    \n",
    "    print(Shiva.getgender())\n",
    "    print(Lakshmi.getgender())\n",
    "    \n",
    "except:\n",
    "    print(\"Multiple Inheritance\")\n",
    "        "
   ]
  },
  {
   "cell_type": "markdown",
   "id": "8632d391",
   "metadata": {},
   "source": [
    "Q2. What is the concept of delegation?\n",
    "\n",
    "The delegation pattern is an object-orineted design pattern that allows the object composition to reuse the same code as inheritance. Delegation is an integral part of inheritance of a class. and it is also called design pattern.\n",
    "\n",
    "Let's say we have a class human and that is a sub-class of the base class animal. And the method is get_number_of_hands. Any instantiation of the human class can call the method get_number_of_hands."
   ]
  },
  {
   "cell_type": "code",
   "execution_count": 8,
   "id": "7e90f054",
   "metadata": {},
   "outputs": [
    {
     "name": "stdout",
     "output_type": "stream",
     "text": [
      "Rob has 2 hands.\n"
     ]
    }
   ],
   "source": [
    "#Example of Delegation\n",
    "\n",
    "\n",
    "try:\n",
    "    class animal:\n",
    "        def __init__(gili, name, number_of_hands):\n",
    "            gili.name = name\n",
    "            gili.number_of_hands = number_of_hands\n",
    "            \n",
    "        def get_number_of_hands(gili):\n",
    "            print(f\"Rob has {gili.number_of_hands} hands.\")\n",
    "    \n",
    "    class human(animal):\n",
    "        def __init__(gili, name, number_of_hands):\n",
    "            super().__init__(name, number_of_hands)\n",
    "            \n",
    "    Robert = human(\"Rob\", 2)\n",
    "    Robert.get_number_of_hands()\n",
    "except:\n",
    "    print(\"Delegation\")"
   ]
  },
  {
   "cell_type": "markdown",
   "id": "15fe3ebf",
   "metadata": {},
   "source": [
    "In the above example, it would be technically wrong to say that the sub-class human delegates get_number_of_hands method  to main class animal because the sub-class humnan actually inherits the property or featues of base class animal.So,anytime it can reuse the method get_number_of_hands of the base class animal as the child class human inherits the features of the base class animal."
   ]
  },
  {
   "cell_type": "markdown",
   "id": "44fe41ad",
   "metadata": {},
   "source": [
    "Q3. What is the concept of composition?\n",
    "\n",
    "Composition is a fundamental concept of Object-Oriented-Programming. Delegation enables to generate complex types of combined objects of different classes.So, it means that a Composite class can contain the object of another class Component. And this kind of relationship in between Composite and Component calss is called \"Has-A-Relation\"."
   ]
  },
  {
   "cell_type": "code",
   "execution_count": 11,
   "id": "1e5a75e5",
   "metadata": {},
   "outputs": [
    {
     "name": "stdout",
     "output_type": "stream",
     "text": [
      "Component class object is generated.\n",
      "Composite class object'object1' is generated.\n",
      "Composite class method 'method2()' is executed.\n",
      "Component class method'method1()' is executed.\n"
     ]
    }
   ],
   "source": [
    "#Example of Composition\n",
    "try:\n",
    "    \n",
    "    class Component:\n",
    "        def __init__(point):\n",
    "            print(\"Component class object is generated.\")\n",
    "        def method1(point):\n",
    "            print(\"Component class method'method1()' is executed.\")\n",
    "            \n",
    "    class Composite:\n",
    "        def __init__(point):\n",
    "            point.object1 = Component()\n",
    "            print(\"Composite class object'object1' is generated.\")\n",
    "        def method2(point):\n",
    "            print(\"Composite class method 'method2()' is executed.\")\n",
    "            \n",
    "            point.object1.method1()\n",
    "            \n",
    "    object2 = Composite()\n",
    "    object2.method2()\n",
    "    \n",
    "except:\n",
    "    print(\"Composition Example\")\n",
    "            \n",
    "        \n"
   ]
  },
  {
   "cell_type": "markdown",
   "id": "670a9c8e",
   "metadata": {},
   "source": [
    "In the above example, we have generated two class named Component and Composite to show \"Has-A-Relation\" in between Composite and Component class. In the Component class , we have one constructor and one instance method 'method1(). Similarly, in Composite class, we have one constructor in which we have generated an object 'object1' of Component class. Whenever, we generate an object of Composite class, the object of Component class is automatically generated. Now in method2() of Composite class we are calling method1() of Component class buy using instance variable object1 in which reference of Component class is stored. Now, whenever we call method2() of Composite class, method1() of Component class is called automatically. This is the Composition in between Composite class and Component class."
   ]
  },
  {
   "cell_type": "markdown",
   "id": "2707ff83",
   "metadata": {},
   "source": [
    "Q4. What are bound methods and how do we use them?\n",
    "\n",
    "A bound method is the one which is dependent on the instnace of the class of the first argument. It passess the instance as the first argument which is utilised to access the functions and variables. All functions in the class are by default bound methods in Pyhton 3 and newer version of Python."
   ]
  },
  {
   "cell_type": "code",
   "execution_count": 14,
   "id": "fa4a9b18",
   "metadata": {},
   "outputs": [
    {
     "name": "stdout",
     "output_type": "stream",
     "text": [
      "<bound method car.grease of <__main__.car object at 0x0000018244EE95E0>>\n"
     ]
    }
   ],
   "source": [
    "#Example of Bound Method\n",
    "\n",
    "try:\n",
    "    class car:\n",
    "        def grease(sudh, Ferrari):\n",
    "            sudh.ferrari = Ferrari\n",
    "            print(\"Value of Ferrarai is  \", Ferrari)\n",
    "            \n",
    "    obj = car()\n",
    "    \n",
    "    print(obj.grease)\n",
    "except:\n",
    "    print(\"Bound Method\")\n",
    "    "
   ]
  },
  {
   "cell_type": "markdown",
   "id": "94b56f9b",
   "metadata": {},
   "source": [
    "In the above example, obj.grease(Ferrari) is translated by Pyhton as car.grease(obj, Ferrari)\n",
    "The instance 'obj' is automatically passed as the first argument to the function called and hence the first parameter of the function will be utilised to access the variable or function of the object."
   ]
  },
  {
   "cell_type": "markdown",
   "id": "5911e96b",
   "metadata": {},
   "source": [
    "Q5. What is the purpose of pseudoprivate attributes?\n",
    "\n",
    "Pseudoprivate attributes is sometimes  named private attributes really, it's just a way to localize a name to the class that generated it, and does not prevent access by code outside the class. That is, this feature is mostly intended to avoid namespace collisions in instances, not to restrict access to names in general.\n",
    "\n",
    "Psedoprivate attributes are also useful in larger frameworks or tools to avoid introducing new method names  that might accidentally hide the definitions elsewhere in the class tree and to deduce the chance of internal methods being replaced by names defined lower in the tree."
   ]
  }
 ],
 "metadata": {
  "kernelspec": {
   "display_name": "Python 3 (ipykernel)",
   "language": "python",
   "name": "python3"
  },
  "language_info": {
   "codemirror_mode": {
    "name": "ipython",
    "version": 3
   },
   "file_extension": ".py",
   "mimetype": "text/x-python",
   "name": "python",
   "nbconvert_exporter": "python",
   "pygments_lexer": "ipython3",
   "version": "3.9.7"
  }
 },
 "nbformat": 4,
 "nbformat_minor": 5
}
