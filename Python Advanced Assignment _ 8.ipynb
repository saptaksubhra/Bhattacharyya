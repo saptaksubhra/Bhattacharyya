{
 "cells": [
  {
   "cell_type": "markdown",
   "id": "040f9f29",
   "metadata": {},
   "source": [
    "Q1. What are the two latest user-defined exception constraints in Python 3.X?\n",
    "\n",
    "Coders or programmers might name their own excepotions by generating a new exception class. Exceptions are required to be derived from the exception class. Most of the exceptions are named with names that end with Error.\n",
    "\n",
    "The two latest user-defined exception constraints in Python3.X are user-defined exception and deriving error from superclass exception. Super class exceptions are generated when a module requires to handle several distinct errors. The common way of doing so is to generate base class for exceptions defined by that module."
   ]
  },
  {
   "cell_type": "code",
   "execution_count": 3,
   "id": "ffd1cf5b",
   "metadata": {},
   "outputs": [
    {
     "name": "stdout",
     "output_type": "stream",
     "text": [
      "A new exception has occurred. 17\n"
     ]
    }
   ],
   "source": [
    "# Example of creating user-defined exception\n",
    "\n",
    "class MyError(Exception):\n",
    "    def __init__(gili, value):\n",
    "        gili.value = value\n",
    "        \n",
    "    def __str__(gili):\n",
    "        return (repr(gili.value))\n",
    "try:\n",
    "    raise(MyError(7+10))\n",
    "except MyError as error:\n",
    "    print(\"A new exception has occurred.\", error.value)\n",
    "        \n",
    "    "
   ]
  },
  {
   "cell_type": "code",
   "execution_count": 6,
   "id": "58e70168",
   "metadata": {},
   "outputs": [
    {
     "name": "stdout",
     "output_type": "stream",
     "text": [
      "Exception has occurred. It is not allowed.\n"
     ]
    }
   ],
   "source": [
    "# Example deriving error from superclass exception\n",
    "\n",
    "class Error(Exception):\n",
    "    pass\n",
    "class TransitionError(Error):\n",
    "    def __init__(sub, prev, nex, message):\n",
    "        sub.prev = prev\n",
    "        sub.nex = nex\n",
    "        sub.message = message\n",
    "try:\n",
    "    raise( TransitionError(4, 4*8, \"It is not allowed.\"))\n",
    "except TransitionError as error:\n",
    "    print(\"Exception has occurred.\", error.message)\n",
    "    \n"
   ]
  },
  {
   "cell_type": "markdown",
   "id": "50bc8d0f",
   "metadata": {},
   "source": [
    "Q2. How are class-based exceptions that have been raised matched to handlers?\n",
    "\n",
    "The raising of class-based exceptions changes the programme flow. They can either be handled directly or propagated upwards along the call hierarchy. In this way, not every procedure or method has to consider every possible exception situation itself. This supports the separation of concerns within an application. Because the exception can be represented by an object of an exception class, this exception object can gather additional information about the exception situation and transport it to the handler. And that is why class-based exceptions that have been raised matched to handlers."
   ]
  },
  {
   "cell_type": "markdown",
   "id": "ddff4a95",
   "metadata": {},
   "source": [
    "Q3. Describe two methods for attaching context information to exception artefacts.\n",
    "\n",
    "There are three methods for attaching context information to exeception artefacts. Python Enhancement Proposals (PEP) proposes three standard attributes on exception instances. The __context__ attribute is for Implicit Exception Chaining method, the __cause__ atrribute is for Explicit Exception Chaining method and the __traceback__ attribute is for traceback method. A new raise ... from statement sets the __cause__ attribute.\n",
    "\n",
    "During the handling of one exception ( for example exception A), it is possible that another exception (exception B) may occur. If this happens, then  exception B is propagated outward and exception A is lost. In order to debug the problem, it is useful to know about both exceptions. The __context__ attribute retains this information automatically.\n",
    "\n",
    "Sometimes it can be useful for an exception handler to intentionally re-raise an exception, either to provide extra information or to translate an exception to another type. The __cause__ attribute provides an explicit way to record the direct cause of an exception.\n",
    "\n",
    "Let us have a look __context__ attribute or implicit exception chaining method through the below example."
   ]
  },
  {
   "cell_type": "markdown",
   "id": "c2b6a3f6",
   "metadata": {},
   "source": [
    "def compute(a, b):\n",
    "    try:\n",
    "        a/b\n",
    "    except Exception, exc:\n",
    "        log(exc)\n",
    "\n",
    "def log(exc):\n",
    "    file = open('logfile.txt') \n",
    "    print(file, exc)\n",
    "    file.close()\n",
    "    \n",
    "    \n",
    "Calling compute(0, 0) causes a ZeroDivisionError. The compute() function catches this exception and calls log(exc), but the log() function also raises an exception when it tries to write to a file that was not opened for writing.\n"
   ]
  },
  {
   "cell_type": "markdown",
   "id": "b3893826",
   "metadata": {},
   "source": [
    "Explicit Exception Chaining\n",
    "The __cause__ attribute on exception objects is always initialized to None. It is set by a new form of the raise statement:\n",
    "\n",
    "raise EXCEPTION from CAUSE\n",
    "In the following example, a database provides implementations for a few different kinds of storage, with file storage as one kind. The database designer wants errors to propagate as DatabaseError objects so that the client doesn’t have to be aware of the storage-specific details, but doesn’t want to lose the underlying error information."
   ]
  },
  {
   "cell_type": "markdown",
   "id": "d6dee768",
   "metadata": {},
   "source": [
    "class DatabaseError(Exception):\n",
    "    pass\n",
    "\n",
    "class FileDatabase(Database):\n",
    "    def __init__(self, filename):\n",
    "        try:\n",
    "            self.file = open(filename)\n",
    "        except IOError, exc:\n",
    "            raise DatabaseError('failed to open') from exc\n",
    "            \n",
    "            \n",
    "If the call to open() raises an exception, the problem will be reported as a DatabaseError, with a __cause__ attribute that reveals the IOError as the original cause."
   ]
  },
  {
   "cell_type": "markdown",
   "id": "62326773",
   "metadata": {},
   "source": [
    "Q4. Describe two methods for specifying the text of an exception object's error message.\n",
    "\n",
    "An exception is a Python object that represents an error. When an error occurs during the execution of a program, an exception is said to have been raised. Such an exception needs to be handled by the programmerso that the program does not abrupt or terminate abnormally. \n",
    "\n",
    "Commonly occurring exceptions are usually defined in the compiler/interpreter. These are called built-in exceptions.\n",
    "\n",
    "Two such methods for specifying the text of an exception object's error message are syntax error and value error(Built-in exception).\n",
    "Syntax error is raised when there is an error in the programming or the Python code.\n",
    "\n",
    "Value error occurs when a built-in method or operation receives an argument that has the right data type but mismatched or inappropriate values.\n",
    "Let us see those methods through some examples."
   ]
  },
  {
   "cell_type": "code",
   "execution_count": 6,
   "id": "bb6c0f84",
   "metadata": {},
   "outputs": [
    {
     "ename": "SyntaxError",
     "evalue": "invalid syntax (Temp/ipykernel_7356/256715396.py, line 6)",
     "output_type": "error",
     "traceback": [
      "\u001b[1;36m  File \u001b[1;32m\"C:\\Users\\USER\\AppData\\Local\\Temp/ipykernel_7356/256715396.py\"\u001b[1;36m, line \u001b[1;32m6\u001b[0m\n\u001b[1;33m    print'A valiant score'\u001b[0m\n\u001b[1;37m         ^\u001b[0m\n\u001b[1;31mSyntaxError\u001b[0m\u001b[1;31m:\u001b[0m invalid syntax\n"
     ]
    }
   ],
   "source": [
    "# Syntax error \n",
    "\n",
    "def test():\n",
    "    mark = 43\n",
    "    if mark > 16:\n",
    "        print'A valiant score'\n",
    "    "
   ]
  },
  {
   "cell_type": "code",
   "execution_count": 1,
   "id": "4b50b747",
   "metadata": {},
   "outputs": [
    {
     "name": "stdout",
     "output_type": "stream",
     "text": [
      "Please enter an integer: 23.8\n",
      "No valid integer! Please try again ...\n",
      "Please enter an integer: .8\n",
      "No valid integer! Please try again ...\n",
      "Please enter an integer: 9\n",
      "Great, you successfully entered an integer!\n"
     ]
    }
   ],
   "source": [
    "# Value Error\n",
    "while True:\n",
    "    try:\n",
    "        n = input(\"Please enter an integer: \")\n",
    "        n = int(n)\n",
    "        break\n",
    "    except ValueError:\n",
    "        print(\"No valid integer! Please try again ...\")\n",
    "print(\"Great, you successfully entered an integer!\")"
   ]
  },
  {
   "cell_type": "markdown",
   "id": "269c3ae6",
   "metadata": {},
   "source": [
    "Q5. Why do you no longer use string-based exceptions?\n",
    "\n",
    "Exceptions can be class objects or string objects. While traditionally, most exceptions have been string objects, in Python 1.5, all standard exceptions have been converted into class objects, and users are encouraged to do the same. The source code for those exceptions is present in the standard library module exceptions; this module never needs to be imported directly.\n",
    "\n",
    "Two distinct string objects with the same value are considered different exceptions. This is done to force programmers to use exception names rather than their string value when specifying exception handlers. The string value of all built-in exceptions is their name, but this is not a requirement for user-defined exceptions or exceptions defined by library modules.\n",
    "\n",
    "For backward compatibility, when Python is invoked with the -X option, most of the standard exceptions are strings. This option may be used to run code that breaks because of the different semantics of class based exceptions. The -X option will become obsolete in future Python versions, so the recommended solution is to fix the code.\n"
   ]
  }
 ],
 "metadata": {
  "kernelspec": {
   "display_name": "Python 3 (ipykernel)",
   "language": "python",
   "name": "python3"
  },
  "language_info": {
   "codemirror_mode": {
    "name": "ipython",
    "version": 3
   },
   "file_extension": ".py",
   "mimetype": "text/x-python",
   "name": "python",
   "nbconvert_exporter": "python",
   "pygments_lexer": "ipython3",
   "version": "3.9.7"
  }
 },
 "nbformat": 4,
 "nbformat_minor": 5
}
