{
 "cells": [
  {
   "cell_type": "markdown",
   "id": "dc528d45",
   "metadata": {},
   "source": [
    "1. What advantages do Excel spreadsheets have over CSV spreadsheets?\n",
    "\n",
    "Excel files can only be read by applications and not on any other systems, application or data platform. CSV file does not need any specific platform to open, it can also be opened in a simple text editor, and the user can simply read and comprehend it.\n",
    "More memory is consumed in case of excel and less memory is consumed in case of CSV.\n",
    "Excel is larger slower and more complicated as compared to CSV whereas CSV is less complicated and faster in general incomparison with Excel.\n",
    "Text editors can not edit files saved in Excel format also Excel file is password protected.On the other hand, files saved in CSV format cabn be edited by text editors and CSV file is not paswword protected.\n",
    "Excel can be opened with Microsoft office only and does not support any other platform as compared to CSV. CSV format is compatible and can be used on several platforms like notepad, access, etc. when compared to Excel.\n",
    "Excel also provides the user option for external linking of data from other sources, and also, the user can do custom add-ins. No such feature is available in case of CSV format."
   ]
  },
  {
   "cell_type": "markdown",
   "id": "b7f40390",
   "metadata": {},
   "source": [
    "2.What do you pass to csv.reader() and csv.writer() to create reader and writer objects?\n",
    "\n",
    "We pass filename, dialect and optional parameters to csv.reader() to create reader objects.\n",
    "\n",
    "The complete syntax of the csv.reader() is:\n",
    "\n",
    "csv.reader(csvfile, dialect='excel', **optional_parameters)\n",
    "\n",
    "We pass filename, dialect and optional parameters to csv.writer() to create writer objects.\n",
    "\n",
    "The complete syntax of the csv.writer() is:\n",
    "\n",
    "csv.writer(csvfile, dialect='excel', **optional_parameters)\n",
    "\n",
    "\n"
   ]
  },
  {
   "cell_type": "markdown",
   "id": "2bbc0885",
   "metadata": {},
   "source": [
    "3. What modes do File objects for reader and writer objects need to be opened in?\n",
    "\n",
    "In order to open a file for reading or writing purposes, we must use the built-in open() function.\n",
    "\n",
    "The open() function uses two arguments. First is the name of the file and second is for what purpose we want to open it (Such as : Reading or Writing )\n",
    "\n",
    "The syntax in general to open a file object is:\n",
    "\n",
    "file_object = open('filename.file domain name' , 'mode of operation'):\n",
    "\n",
    "More elaboratively we can express this syntax for reading and writing purpose respectively as per below:\n",
    "\n",
    "file 1 = open('spiritual.csv', 'r'):\n",
    "\n",
    "file2 = open('spiritual.csv', 'w'):\n",
    "\n"
   ]
  },
  {
   "cell_type": "markdown",
   "id": "9d5f06a8",
   "metadata": {},
   "source": [
    "4. What method takes a list argument and writes it to a CSV file?\n",
    "\n",
    "csv.writer writerow method takes a list argument and writes it to a CSV file.\n",
    "\n",
    "The syntax has been given here.\n",
    "csvwriter.writerow(row)\n",
    "This above syntax writes the row parameters to the writer's file object formatted in accordance with the current dialect.\n",
    "An illustration has been given below."
   ]
  },
  {
   "cell_type": "code",
   "execution_count": 6,
   "id": "d7c6682d",
   "metadata": {},
   "outputs": [],
   "source": [
    "try:\n",
    "    import csv\n",
    "    l = [['mango', 'persimmons', 'avocado', 'peach', 'apricot']]\n",
    "    \n",
    "    with open('fruit.csv', 'w') as resultant:\n",
    "        output = csv.writer(resultant, dialect = 'excel')\n",
    "        output.writerows(l)\n",
    "except:\n",
    "    print('writerows method')\n",
    "        "
   ]
  },
  {
   "cell_type": "markdown",
   "id": "18e14aaa",
   "metadata": {},
   "source": [
    "5. What do the keyword arguments delimiter and line terminator do?\n",
    "\n",
    "The delimiter is the character that appears between cells on a row. By default, the delimiter for a CSV file is a comma. The line terminator is the character that comes at the end of a row. By default, the line terminator is a newline. \n",
    "Delimiter and Lineterminator hepl us change chracters to different values with the help of csv.writer().\n",
    "\n",
    "It should look like the following example.\n",
    "\n",
    "import csv\n",
    "csvFile = open('example.csv', 'w', newline='')\n",
    "csvWriter = csv.writer(csvFile, delimiter='\\t', lineterminator='\\n\\n')"
   ]
  },
  {
   "cell_type": "markdown",
   "id": "587b137a",
   "metadata": {},
   "source": [
    "6. What function takes a string of JSON data and returns a Python data structure?\n",
    "\n",
    "load() function takes a string of JSON data and returns a Python Data structure.\n"
   ]
  },
  {
   "cell_type": "code",
   "execution_count": 7,
   "id": "afaeda60",
   "metadata": {},
   "outputs": [],
   "source": [
    "# Example of converting JSON data into a Python Data structure\n",
    "\n",
    "try:\n",
    "    import json\n",
    "    \n",
    "    with open('music.csv', 'r') as read:\n",
    "        json.load(read)\n",
    "except:\n",
    "    print('desrialization example')"
   ]
  },
  {
   "cell_type": "markdown",
   "id": "7914a700",
   "metadata": {},
   "source": [
    "7. What function takes a Python data structure and returns a string of JSON data?\n",
    "\n",
    "dump() function takes a Python data structure and returns a string of JSON data."
   ]
  },
  {
   "cell_type": "code",
   "execution_count": 8,
   "id": "a60c0d59",
   "metadata": {},
   "outputs": [],
   "source": [
    "# Example of converting a Python data structure into a JSON data\n",
    "\n",
    "try:\n",
    "    import json\n",
    "    \n",
    "    var1 = {\n",
    "        'classical music':{\n",
    "                           'Album' :'Tabla',\n",
    "                            'Name':'Ustad Zakir Hussain'\n",
    "            \n",
    "            \n",
    "                          }\n",
    "           }\n",
    "    with open('music.csv','w') as m:\n",
    "        json.dump(var1, m)\n",
    "except:\n",
    "    print('Serialization example')"
   ]
  }
 ],
 "metadata": {
  "kernelspec": {
   "display_name": "Python 3 (ipykernel)",
   "language": "python",
   "name": "python3"
  },
  "language_info": {
   "codemirror_mode": {
    "name": "ipython",
    "version": 3
   },
   "file_extension": ".py",
   "mimetype": "text/x-python",
   "name": "python",
   "nbconvert_exporter": "python",
   "pygments_lexer": "ipython3",
   "version": "3.9.7"
  }
 },
 "nbformat": 4,
 "nbformat_minor": 5
}
