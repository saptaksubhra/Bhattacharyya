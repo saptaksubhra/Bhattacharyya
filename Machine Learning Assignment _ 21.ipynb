{
 "cells": [
  {
   "cell_type": "markdown",
   "id": "94f7efc1",
   "metadata": {},
   "source": [
    "1.What is the estimated depth of a Decision Tree trained (unrestricted) on a one million instance training set?\n",
    "\n",
    "Let's say m number of leaves , with log2(m)^3 depth. A binary Decision Tree will end up balanced at the end of training, with one leaf per training instance.\n",
    "log2(10^6) = 20, maybe a bit more. "
   ]
  },
  {
   "cell_type": "markdown",
   "id": "702033d0",
   "metadata": {},
   "source": [
    "2.Is the Gini impurity of a node usually lower or higher than that of its parent? Is it always\n",
    "lower/greater, or is it usually lower/greater?\n",
    "\n",
    "It is generally lower than it's parents.\n",
    "If one child is smaller than the other, it is possible for it to have a higher Gini score than its parent."
   ]
  },
  {
   "cell_type": "markdown",
   "id": "912d2886",
   "metadata": {},
   "source": [
    "3.Explain if its a good idea to reduce max depth if a Decision Tree is overfitting the training set?\n",
    "\n",
    "It is a good idea to reduce max depth if a Decision Tree is overfitting the training set since this will constrain and regularize the model."
   ]
  },
  {
   "cell_type": "markdown",
   "id": "7f16e27a",
   "metadata": {},
   "source": [
    "4.Explain if its a good idea to try scaling the input features if a Decision Tree underfits the training set?\n",
    "\n",
    "Scaling the inputs don't matter because a decision tree's output is not affected by scaling or data being centered."
   ]
  },
  {
   "cell_type": "markdown",
   "id": "83beb060",
   "metadata": {},
   "source": [
    "5.How much time will it take to train another Decision Tree on a training set of 10 million instances\n",
    "if it takes an hour to train a Decision Tree on a training set with 1 million instances?\n",
    "\n",
    "Training time to train another Decision Tree on a training set of 10 million instances = (n X 10m X log(10m)) / (n x m x log(m)) = 10xlog(10m) / log(m) = 11.7 hours ( 1m = 10^6)"
   ]
  },
  {
   "cell_type": "markdown",
   "id": "af3b9c33",
   "metadata": {},
   "source": [
    "6.Will setting presort=True speed up training if your training set has 100,000 instances?\n",
    "\n",
    "It will actually slow down training. Presorting only speeds up data if the dataset is smaller than a few thousand instances."
   ]
  },
  {
   "cell_type": "markdown",
   "id": "1011ce64",
   "metadata": {},
   "source": [
    "7.Follow these steps to train and fine-tune a Decision Tree for the moons dataset:\n",
    "\n",
    "a. To build a moons dataset, use make moons(n samples=10000, noise=0.4).\n",
    "\n",
    "b. Divide the dataset into a training and a test collection with train test split().\n",
    "\n",
    "c. To find good hyperparameters values for a DecisionTreeClassifier, use grid search with cross-\n",
    "validation (with the GridSearchCV class). Try different values for max leaf nodes.\n",
    "\n",
    "d. Use these hyperparameters to train the model on the entire training set, and then assess its\n",
    "output on the test set. You can achieve an accuracy of 85 to 87 percent."
   ]
  },
  {
   "cell_type": "markdown",
   "id": "71b31bd5",
   "metadata": {},
   "source": [
    "Moons dataset is a generated dataset, these types of datasets unlike real world datasets are generated they serve as a great way of testing machine learning algorithms.\n",
    "\n",
    "In this notebook we will be using GridSearchCV to fine-tune a Decision Tree Classifier and testing it out on our generated moons dataset using the make_moons() from sklearn."
   ]
  },
  {
   "cell_type": "code",
   "execution_count": 40,
   "id": "b30efa82",
   "metadata": {},
   "outputs": [],
   "source": [
    "# Importing necessary libraries\n",
    "\n",
    "import numpy as np\n",
    "import matplotlib.pyplot as plt\n",
    "%matplotlib inline"
   ]
  },
  {
   "cell_type": "code",
   "execution_count": 41,
   "id": "e234b6c2",
   "metadata": {},
   "outputs": [],
   "source": [
    "#Visualization\n",
    "# This function will help in the visualization of our dataset\n",
    "\n",
    "def plot_dataset(X, y , axes):\n",
    "    plt.figure(figsize= (10.6))\n",
    "    plt.plot(X[:, 0][y==0], X[:, 1][y==0], \"bs\",alpha = 0.5)\n",
    "    plt.plot(X[:, 0][y==1], X[:, 1][y==1], \"g^\",alpha = 0.2)\n",
    "    plt.axis(axes)\n",
    "    plt.grid(True, which='both')\n",
    "    plt.xlabel(r\"$x_1$\", fontsize=20)\n",
    "    plt.ylabel(r\"$x_2$\", fontsize=20, rotation=0)\n",
    "    "
   ]
  },
  {
   "cell_type": "markdown",
   "id": "a581bad3",
   "metadata": {},
   "source": [
    "Our dataset contains two features  x1  and  x2 , it has ten thousand instances with a Guassian noise of 0.4. it's a binary classification the labels are either 0 or 1."
   ]
  },
  {
   "cell_type": "code",
   "execution_count": 42,
   "id": "3d6820ef",
   "metadata": {},
   "outputs": [],
   "source": [
    "from sklearn.datasets import make_moons\n",
    "\n",
    "X, y = make_moons(n_samples=10000, noise=0.4, random_state=21)"
   ]
  },
  {
   "cell_type": "markdown",
   "id": "1e368927",
   "metadata": {},
   "source": [
    "# Since we have two features it will be easy to visualize the data\n",
    "plot_dataset(X, y, [-3, 5, -3, 3])"
   ]
  },
  {
   "cell_type": "code",
   "execution_count": 43,
   "id": "e56c04e0",
   "metadata": {},
   "outputs": [],
   "source": [
    "#Splitting the dataset into training and testing set:\n",
    "\n",
    "from sklearn.model_selection import train_test_split\n",
    "\n",
    "X_train, X_test, y_train, y_test = train_test_split(X,y, test_size = 0.2)"
   ]
  },
  {
   "cell_type": "code",
   "execution_count": 44,
   "id": "00243196",
   "metadata": {},
   "outputs": [],
   "source": [
    "#Selecting the model\n",
    "from sklearn.tree import DecisionTreeClassifier\n",
    "\n",
    "tree_clf = DecisionTreeClassifier()"
   ]
  },
  {
   "cell_type": "code",
   "execution_count": 45,
   "id": "cec819da",
   "metadata": {},
   "outputs": [],
   "source": [
    "#We have to select the parameters for our GridSearch:\n",
    "\n",
    "from sklearn.model_selection import GridSearchCV\n",
    "\n",
    "parameter = {\n",
    "             'criterion' : [\"gini\", \"entropy\"],\n",
    "             'max_leaf_nodes': list(range(2, 50)), \n",
    "             'min_samples_split': [2, 3, 4]\n",
    "            }"
   ]
  },
  {
   "cell_type": "code",
   "execution_count": 46,
   "id": "a1bda5c8",
   "metadata": {},
   "outputs": [
    {
     "data": {
      "text/plain": [
       "GridSearchCV(cv=5, estimator=DecisionTreeClassifier(), n_jobs=-1,\n",
       "             param_grid={'criterion': ['gini', 'entropy'],\n",
       "                         'max_leaf_nodes': [2, 3, 4, 5, 6, 7, 8, 9, 10, 11, 12,\n",
       "                                            13, 14, 15, 16, 17, 18, 19, 20, 21,\n",
       "                                            22, 23, 24, 25, 26, 27, 28, 29, 30,\n",
       "                                            31, ...],\n",
       "                         'min_samples_split': [2, 3, 4]},\n",
       "             return_train_score=True, scoring='accuracy')"
      ]
     },
     "execution_count": 46,
     "metadata": {},
     "output_type": "execute_result"
    }
   ],
   "source": [
    "#Using a cross validation of 5 and measuring accuracy.\n",
    "\n",
    "clf = GridSearchCV(tree_clf, parameter, cv = 5,scoring = \"accuracy\",return_train_score=True,n_jobs=-1)\n",
    "clf.fit(X_train, y_train)\n"
   ]
  },
  {
   "cell_type": "code",
   "execution_count": 47,
   "id": "400749c4",
   "metadata": {},
   "outputs": [
    {
     "data": {
      "text/plain": [
       "{'criterion': 'entropy', 'max_leaf_nodes': 20, 'min_samples_split': 2}"
      ]
     },
     "execution_count": 47,
     "metadata": {},
     "output_type": "execute_result"
    }
   ],
   "source": [
    "#Getting the best parameter:\n",
    "\n",
    "clf.best_params_"
   ]
  },
  {
   "cell_type": "code",
   "execution_count": 48,
   "id": "1bdbe023",
   "metadata": {},
   "outputs": [
    {
     "name": "stdout",
     "output_type": "stream",
     "text": [
      "0.7706562499999999 {'criterion': 'gini', 'max_leaf_nodes': 2, 'min_samples_split': 2}\n",
      "0.7706562499999999 {'criterion': 'gini', 'max_leaf_nodes': 2, 'min_samples_split': 3}\n",
      "0.7706562499999999 {'criterion': 'gini', 'max_leaf_nodes': 2, 'min_samples_split': 4}\n",
      "0.8221562499999999 {'criterion': 'gini', 'max_leaf_nodes': 3, 'min_samples_split': 2}\n",
      "0.8221562499999999 {'criterion': 'gini', 'max_leaf_nodes': 3, 'min_samples_split': 3}\n",
      "0.8221562499999999 {'criterion': 'gini', 'max_leaf_nodes': 3, 'min_samples_split': 4}\n",
      "0.85415625 {'criterion': 'gini', 'max_leaf_nodes': 4, 'min_samples_split': 2}\n",
      "0.85415625 {'criterion': 'gini', 'max_leaf_nodes': 4, 'min_samples_split': 3}\n",
      "0.85415625 {'criterion': 'gini', 'max_leaf_nodes': 4, 'min_samples_split': 4}\n",
      "0.85415625 {'criterion': 'gini', 'max_leaf_nodes': 5, 'min_samples_split': 2}\n",
      "0.85415625 {'criterion': 'gini', 'max_leaf_nodes': 5, 'min_samples_split': 3}\n",
      "0.85415625 {'criterion': 'gini', 'max_leaf_nodes': 5, 'min_samples_split': 4}\n",
      "0.85415625 {'criterion': 'gini', 'max_leaf_nodes': 6, 'min_samples_split': 2}\n",
      "0.85415625 {'criterion': 'gini', 'max_leaf_nodes': 6, 'min_samples_split': 3}\n",
      "0.85415625 {'criterion': 'gini', 'max_leaf_nodes': 6, 'min_samples_split': 4}\n",
      "0.85415625 {'criterion': 'gini', 'max_leaf_nodes': 7, 'min_samples_split': 2}\n",
      "0.85415625 {'criterion': 'gini', 'max_leaf_nodes': 7, 'min_samples_split': 3}\n",
      "0.85415625 {'criterion': 'gini', 'max_leaf_nodes': 7, 'min_samples_split': 4}\n",
      "0.85415625 {'criterion': 'gini', 'max_leaf_nodes': 8, 'min_samples_split': 2}\n",
      "0.85415625 {'criterion': 'gini', 'max_leaf_nodes': 8, 'min_samples_split': 3}\n",
      "0.85415625 {'criterion': 'gini', 'max_leaf_nodes': 8, 'min_samples_split': 4}\n",
      "0.8554374999999999 {'criterion': 'gini', 'max_leaf_nodes': 9, 'min_samples_split': 2}\n",
      "0.8554374999999999 {'criterion': 'gini', 'max_leaf_nodes': 9, 'min_samples_split': 3}\n",
      "0.8554374999999999 {'criterion': 'gini', 'max_leaf_nodes': 9, 'min_samples_split': 4}\n",
      "0.85684375 {'criterion': 'gini', 'max_leaf_nodes': 10, 'min_samples_split': 2}\n",
      "0.85684375 {'criterion': 'gini', 'max_leaf_nodes': 10, 'min_samples_split': 3}\n",
      "0.85684375 {'criterion': 'gini', 'max_leaf_nodes': 10, 'min_samples_split': 4}\n",
      "0.8581562500000001 {'criterion': 'gini', 'max_leaf_nodes': 11, 'min_samples_split': 2}\n",
      "0.8581562500000001 {'criterion': 'gini', 'max_leaf_nodes': 11, 'min_samples_split': 3}\n",
      "0.8581562500000001 {'criterion': 'gini', 'max_leaf_nodes': 11, 'min_samples_split': 4}\n",
      "0.8581562500000001 {'criterion': 'gini', 'max_leaf_nodes': 12, 'min_samples_split': 2}\n",
      "0.8581562500000001 {'criterion': 'gini', 'max_leaf_nodes': 12, 'min_samples_split': 3}\n",
      "0.8581562500000001 {'criterion': 'gini', 'max_leaf_nodes': 12, 'min_samples_split': 4}\n",
      "0.8590625 {'criterion': 'gini', 'max_leaf_nodes': 13, 'min_samples_split': 2}\n",
      "0.8590625 {'criterion': 'gini', 'max_leaf_nodes': 13, 'min_samples_split': 3}\n",
      "0.8590625 {'criterion': 'gini', 'max_leaf_nodes': 13, 'min_samples_split': 4}\n",
      "0.8590625 {'criterion': 'gini', 'max_leaf_nodes': 14, 'min_samples_split': 2}\n",
      "0.8590625 {'criterion': 'gini', 'max_leaf_nodes': 14, 'min_samples_split': 3}\n",
      "0.8590625 {'criterion': 'gini', 'max_leaf_nodes': 14, 'min_samples_split': 4}\n",
      "0.85975 {'criterion': 'gini', 'max_leaf_nodes': 15, 'min_samples_split': 2}\n",
      "0.85975 {'criterion': 'gini', 'max_leaf_nodes': 15, 'min_samples_split': 3}\n",
      "0.85975 {'criterion': 'gini', 'max_leaf_nodes': 15, 'min_samples_split': 4}\n",
      "0.86096875 {'criterion': 'gini', 'max_leaf_nodes': 16, 'min_samples_split': 2}\n",
      "0.86096875 {'criterion': 'gini', 'max_leaf_nodes': 16, 'min_samples_split': 3}\n",
      "0.86096875 {'criterion': 'gini', 'max_leaf_nodes': 16, 'min_samples_split': 4}\n",
      "0.86165625 {'criterion': 'gini', 'max_leaf_nodes': 17, 'min_samples_split': 2}\n",
      "0.86165625 {'criterion': 'gini', 'max_leaf_nodes': 17, 'min_samples_split': 3}\n",
      "0.86165625 {'criterion': 'gini', 'max_leaf_nodes': 17, 'min_samples_split': 4}\n",
      "0.86303125 {'criterion': 'gini', 'max_leaf_nodes': 18, 'min_samples_split': 2}\n",
      "0.86303125 {'criterion': 'gini', 'max_leaf_nodes': 18, 'min_samples_split': 3}\n",
      "0.86303125 {'criterion': 'gini', 'max_leaf_nodes': 18, 'min_samples_split': 4}\n",
      "0.8636249999999999 {'criterion': 'gini', 'max_leaf_nodes': 19, 'min_samples_split': 2}\n",
      "0.8636249999999999 {'criterion': 'gini', 'max_leaf_nodes': 19, 'min_samples_split': 3}\n",
      "0.8636249999999999 {'criterion': 'gini', 'max_leaf_nodes': 19, 'min_samples_split': 4}\n",
      "0.86440625 {'criterion': 'gini', 'max_leaf_nodes': 20, 'min_samples_split': 2}\n",
      "0.86440625 {'criterion': 'gini', 'max_leaf_nodes': 20, 'min_samples_split': 3}\n",
      "0.86440625 {'criterion': 'gini', 'max_leaf_nodes': 20, 'min_samples_split': 4}\n",
      "0.8654375 {'criterion': 'gini', 'max_leaf_nodes': 21, 'min_samples_split': 2}\n",
      "0.8654375 {'criterion': 'gini', 'max_leaf_nodes': 21, 'min_samples_split': 3}\n",
      "0.8654375 {'criterion': 'gini', 'max_leaf_nodes': 21, 'min_samples_split': 4}\n",
      "0.8656874999999999 {'criterion': 'gini', 'max_leaf_nodes': 22, 'min_samples_split': 2}\n",
      "0.8656874999999999 {'criterion': 'gini', 'max_leaf_nodes': 22, 'min_samples_split': 3}\n",
      "0.8656874999999999 {'criterion': 'gini', 'max_leaf_nodes': 22, 'min_samples_split': 4}\n",
      "0.8658125 {'criterion': 'gini', 'max_leaf_nodes': 23, 'min_samples_split': 2}\n",
      "0.8658125 {'criterion': 'gini', 'max_leaf_nodes': 23, 'min_samples_split': 3}\n",
      "0.8658125 {'criterion': 'gini', 'max_leaf_nodes': 23, 'min_samples_split': 4}\n",
      "0.8669375 {'criterion': 'gini', 'max_leaf_nodes': 24, 'min_samples_split': 2}\n",
      "0.8669375 {'criterion': 'gini', 'max_leaf_nodes': 24, 'min_samples_split': 3}\n",
      "0.8669375 {'criterion': 'gini', 'max_leaf_nodes': 24, 'min_samples_split': 4}\n",
      "0.8673437500000001 {'criterion': 'gini', 'max_leaf_nodes': 25, 'min_samples_split': 2}\n",
      "0.8673437500000001 {'criterion': 'gini', 'max_leaf_nodes': 25, 'min_samples_split': 3}\n",
      "0.8673437500000001 {'criterion': 'gini', 'max_leaf_nodes': 25, 'min_samples_split': 4}\n",
      "0.8679062499999999 {'criterion': 'gini', 'max_leaf_nodes': 26, 'min_samples_split': 2}\n",
      "0.8679062499999999 {'criterion': 'gini', 'max_leaf_nodes': 26, 'min_samples_split': 3}\n",
      "0.8679062499999999 {'criterion': 'gini', 'max_leaf_nodes': 26, 'min_samples_split': 4}\n",
      "0.8682187499999999 {'criterion': 'gini', 'max_leaf_nodes': 27, 'min_samples_split': 2}\n",
      "0.8682187499999999 {'criterion': 'gini', 'max_leaf_nodes': 27, 'min_samples_split': 3}\n",
      "0.8682187499999999 {'criterion': 'gini', 'max_leaf_nodes': 27, 'min_samples_split': 4}\n",
      "0.868375 {'criterion': 'gini', 'max_leaf_nodes': 28, 'min_samples_split': 2}\n",
      "0.868375 {'criterion': 'gini', 'max_leaf_nodes': 28, 'min_samples_split': 3}\n",
      "0.868375 {'criterion': 'gini', 'max_leaf_nodes': 28, 'min_samples_split': 4}\n",
      "0.8690000000000001 {'criterion': 'gini', 'max_leaf_nodes': 29, 'min_samples_split': 2}\n",
      "0.8690000000000001 {'criterion': 'gini', 'max_leaf_nodes': 29, 'min_samples_split': 3}\n",
      "0.8690000000000001 {'criterion': 'gini', 'max_leaf_nodes': 29, 'min_samples_split': 4}\n",
      "0.869375 {'criterion': 'gini', 'max_leaf_nodes': 30, 'min_samples_split': 2}\n",
      "0.869375 {'criterion': 'gini', 'max_leaf_nodes': 30, 'min_samples_split': 3}\n",
      "0.869375 {'criterion': 'gini', 'max_leaf_nodes': 30, 'min_samples_split': 4}\n",
      "0.8695625 {'criterion': 'gini', 'max_leaf_nodes': 31, 'min_samples_split': 2}\n",
      "0.8695625 {'criterion': 'gini', 'max_leaf_nodes': 31, 'min_samples_split': 3}\n",
      "0.8695625 {'criterion': 'gini', 'max_leaf_nodes': 31, 'min_samples_split': 4}\n",
      "0.8696875000000001 {'criterion': 'gini', 'max_leaf_nodes': 32, 'min_samples_split': 2}\n",
      "0.8696875000000001 {'criterion': 'gini', 'max_leaf_nodes': 32, 'min_samples_split': 3}\n",
      "0.8696875000000001 {'criterion': 'gini', 'max_leaf_nodes': 32, 'min_samples_split': 4}\n",
      "0.87003125 {'criterion': 'gini', 'max_leaf_nodes': 33, 'min_samples_split': 2}\n",
      "0.87003125 {'criterion': 'gini', 'max_leaf_nodes': 33, 'min_samples_split': 3}\n",
      "0.87003125 {'criterion': 'gini', 'max_leaf_nodes': 33, 'min_samples_split': 4}\n",
      "0.8704375000000001 {'criterion': 'gini', 'max_leaf_nodes': 34, 'min_samples_split': 2}\n",
      "0.8704375000000001 {'criterion': 'gini', 'max_leaf_nodes': 34, 'min_samples_split': 3}\n",
      "0.8704375000000001 {'criterion': 'gini', 'max_leaf_nodes': 34, 'min_samples_split': 4}\n",
      "0.8708125000000001 {'criterion': 'gini', 'max_leaf_nodes': 35, 'min_samples_split': 2}\n",
      "0.8708125000000001 {'criterion': 'gini', 'max_leaf_nodes': 35, 'min_samples_split': 3}\n",
      "0.8708125000000001 {'criterion': 'gini', 'max_leaf_nodes': 35, 'min_samples_split': 4}\n",
      "0.8710625000000001 {'criterion': 'gini', 'max_leaf_nodes': 36, 'min_samples_split': 2}\n",
      "0.8710625000000001 {'criterion': 'gini', 'max_leaf_nodes': 36, 'min_samples_split': 3}\n",
      "0.8710625000000001 {'criterion': 'gini', 'max_leaf_nodes': 36, 'min_samples_split': 4}\n",
      "0.8713124999999999 {'criterion': 'gini', 'max_leaf_nodes': 37, 'min_samples_split': 2}\n",
      "0.8713124999999999 {'criterion': 'gini', 'max_leaf_nodes': 37, 'min_samples_split': 3}\n",
      "0.8713124999999999 {'criterion': 'gini', 'max_leaf_nodes': 37, 'min_samples_split': 4}\n",
      "0.87178125 {'criterion': 'gini', 'max_leaf_nodes': 38, 'min_samples_split': 2}\n",
      "0.87178125 {'criterion': 'gini', 'max_leaf_nodes': 38, 'min_samples_split': 3}\n",
      "0.87178125 {'criterion': 'gini', 'max_leaf_nodes': 38, 'min_samples_split': 4}\n",
      "0.87190625 {'criterion': 'gini', 'max_leaf_nodes': 39, 'min_samples_split': 2}\n",
      "0.87190625 {'criterion': 'gini', 'max_leaf_nodes': 39, 'min_samples_split': 3}\n",
      "0.87190625 {'criterion': 'gini', 'max_leaf_nodes': 39, 'min_samples_split': 4}\n",
      "0.87228125 {'criterion': 'gini', 'max_leaf_nodes': 40, 'min_samples_split': 2}\n",
      "0.87228125 {'criterion': 'gini', 'max_leaf_nodes': 40, 'min_samples_split': 3}\n",
      "0.87228125 {'criterion': 'gini', 'max_leaf_nodes': 40, 'min_samples_split': 4}\n",
      "0.8725937500000001 {'criterion': 'gini', 'max_leaf_nodes': 41, 'min_samples_split': 2}\n",
      "0.8725937500000001 {'criterion': 'gini', 'max_leaf_nodes': 41, 'min_samples_split': 3}\n",
      "0.8725937500000001 {'criterion': 'gini', 'max_leaf_nodes': 41, 'min_samples_split': 4}\n",
      "0.8730625 {'criterion': 'gini', 'max_leaf_nodes': 42, 'min_samples_split': 2}\n",
      "0.8730625 {'criterion': 'gini', 'max_leaf_nodes': 42, 'min_samples_split': 3}\n",
      "0.8730625 {'criterion': 'gini', 'max_leaf_nodes': 42, 'min_samples_split': 4}\n",
      "0.87321875 {'criterion': 'gini', 'max_leaf_nodes': 43, 'min_samples_split': 2}\n",
      "0.87321875 {'criterion': 'gini', 'max_leaf_nodes': 43, 'min_samples_split': 3}\n",
      "0.87321875 {'criterion': 'gini', 'max_leaf_nodes': 43, 'min_samples_split': 4}\n",
      "0.8735312500000001 {'criterion': 'gini', 'max_leaf_nodes': 44, 'min_samples_split': 2}\n",
      "0.8735312500000001 {'criterion': 'gini', 'max_leaf_nodes': 44, 'min_samples_split': 3}\n",
      "0.8735312500000001 {'criterion': 'gini', 'max_leaf_nodes': 44, 'min_samples_split': 4}\n",
      "0.87384375 {'criterion': 'gini', 'max_leaf_nodes': 45, 'min_samples_split': 2}\n",
      "0.87384375 {'criterion': 'gini', 'max_leaf_nodes': 45, 'min_samples_split': 3}\n",
      "0.87384375 {'criterion': 'gini', 'max_leaf_nodes': 45, 'min_samples_split': 4}\n",
      "0.8741249999999999 {'criterion': 'gini', 'max_leaf_nodes': 46, 'min_samples_split': 2}\n",
      "0.8741249999999999 {'criterion': 'gini', 'max_leaf_nodes': 46, 'min_samples_split': 3}\n",
      "0.8741249999999999 {'criterion': 'gini', 'max_leaf_nodes': 46, 'min_samples_split': 4}\n",
      "0.8745625 {'criterion': 'gini', 'max_leaf_nodes': 47, 'min_samples_split': 2}\n",
      "0.8745625 {'criterion': 'gini', 'max_leaf_nodes': 47, 'min_samples_split': 3}\n",
      "0.8745625 {'criterion': 'gini', 'max_leaf_nodes': 47, 'min_samples_split': 4}\n",
      "0.874875 {'criterion': 'gini', 'max_leaf_nodes': 48, 'min_samples_split': 2}\n",
      "0.874875 {'criterion': 'gini', 'max_leaf_nodes': 48, 'min_samples_split': 3}\n",
      "0.874875 {'criterion': 'gini', 'max_leaf_nodes': 48, 'min_samples_split': 4}\n",
      "0.8750625 {'criterion': 'gini', 'max_leaf_nodes': 49, 'min_samples_split': 2}\n",
      "0.8750625 {'criterion': 'gini', 'max_leaf_nodes': 49, 'min_samples_split': 3}\n",
      "0.8750625 {'criterion': 'gini', 'max_leaf_nodes': 49, 'min_samples_split': 4}\n",
      "0.7693125 {'criterion': 'entropy', 'max_leaf_nodes': 2, 'min_samples_split': 2}\n",
      "0.7693125 {'criterion': 'entropy', 'max_leaf_nodes': 2, 'min_samples_split': 3}\n",
      "0.7693125 {'criterion': 'entropy', 'max_leaf_nodes': 2, 'min_samples_split': 4}\n",
      "0.8243750000000001 {'criterion': 'entropy', 'max_leaf_nodes': 3, 'min_samples_split': 2}\n",
      "0.8243750000000001 {'criterion': 'entropy', 'max_leaf_nodes': 3, 'min_samples_split': 3}\n",
      "0.8243750000000001 {'criterion': 'entropy', 'max_leaf_nodes': 3, 'min_samples_split': 4}\n",
      "0.8532187500000001 {'criterion': 'entropy', 'max_leaf_nodes': 4, 'min_samples_split': 2}\n",
      "0.8532187500000001 {'criterion': 'entropy', 'max_leaf_nodes': 4, 'min_samples_split': 3}\n",
      "0.8532187500000001 {'criterion': 'entropy', 'max_leaf_nodes': 4, 'min_samples_split': 4}\n",
      "0.8532187500000001 {'criterion': 'entropy', 'max_leaf_nodes': 5, 'min_samples_split': 2}\n",
      "0.8532187500000001 {'criterion': 'entropy', 'max_leaf_nodes': 5, 'min_samples_split': 3}\n",
      "0.8532187500000001 {'criterion': 'entropy', 'max_leaf_nodes': 5, 'min_samples_split': 4}\n",
      "0.8532187500000001 {'criterion': 'entropy', 'max_leaf_nodes': 6, 'min_samples_split': 2}\n",
      "0.8532187500000001 {'criterion': 'entropy', 'max_leaf_nodes': 6, 'min_samples_split': 3}\n",
      "0.8532187500000001 {'criterion': 'entropy', 'max_leaf_nodes': 6, 'min_samples_split': 4}\n",
      "0.8532187500000001 {'criterion': 'entropy', 'max_leaf_nodes': 7, 'min_samples_split': 2}\n",
      "0.8532187500000001 {'criterion': 'entropy', 'max_leaf_nodes': 7, 'min_samples_split': 3}\n",
      "0.8532187500000001 {'criterion': 'entropy', 'max_leaf_nodes': 7, 'min_samples_split': 4}\n",
      "0.8532187500000001 {'criterion': 'entropy', 'max_leaf_nodes': 8, 'min_samples_split': 2}\n",
      "0.8532187500000001 {'criterion': 'entropy', 'max_leaf_nodes': 8, 'min_samples_split': 3}\n",
      "0.8532187500000001 {'criterion': 'entropy', 'max_leaf_nodes': 8, 'min_samples_split': 4}\n",
      "0.8532187500000001 {'criterion': 'entropy', 'max_leaf_nodes': 9, 'min_samples_split': 2}\n",
      "0.8532187500000001 {'criterion': 'entropy', 'max_leaf_nodes': 9, 'min_samples_split': 3}\n",
      "0.8532187500000001 {'criterion': 'entropy', 'max_leaf_nodes': 9, 'min_samples_split': 4}\n",
      "0.8532187500000001 {'criterion': 'entropy', 'max_leaf_nodes': 10, 'min_samples_split': 2}\n",
      "0.8532187500000001 {'criterion': 'entropy', 'max_leaf_nodes': 10, 'min_samples_split': 3}\n",
      "0.8532187500000001 {'criterion': 'entropy', 'max_leaf_nodes': 10, 'min_samples_split': 4}\n",
      "0.8532187500000001 {'criterion': 'entropy', 'max_leaf_nodes': 11, 'min_samples_split': 2}\n",
      "0.8532187500000001 {'criterion': 'entropy', 'max_leaf_nodes': 11, 'min_samples_split': 3}\n",
      "0.8532187500000001 {'criterion': 'entropy', 'max_leaf_nodes': 11, 'min_samples_split': 4}\n",
      "0.8532187500000001 {'criterion': 'entropy', 'max_leaf_nodes': 12, 'min_samples_split': 2}\n",
      "0.8532187500000001 {'criterion': 'entropy', 'max_leaf_nodes': 12, 'min_samples_split': 3}\n",
      "0.8532187500000001 {'criterion': 'entropy', 'max_leaf_nodes': 12, 'min_samples_split': 4}\n",
      "0.8535937500000002 {'criterion': 'entropy', 'max_leaf_nodes': 13, 'min_samples_split': 2}\n",
      "0.8535937500000002 {'criterion': 'entropy', 'max_leaf_nodes': 13, 'min_samples_split': 3}\n",
      "0.8535937500000002 {'criterion': 'entropy', 'max_leaf_nodes': 13, 'min_samples_split': 4}\n",
      "0.8538125000000001 {'criterion': 'entropy', 'max_leaf_nodes': 14, 'min_samples_split': 2}\n",
      "0.8538125000000001 {'criterion': 'entropy', 'max_leaf_nodes': 14, 'min_samples_split': 3}\n",
      "0.8538125000000001 {'criterion': 'entropy', 'max_leaf_nodes': 14, 'min_samples_split': 4}\n",
      "0.8553124999999999 {'criterion': 'entropy', 'max_leaf_nodes': 15, 'min_samples_split': 2}\n",
      "0.8553124999999999 {'criterion': 'entropy', 'max_leaf_nodes': 15, 'min_samples_split': 3}\n",
      "0.8553124999999999 {'criterion': 'entropy', 'max_leaf_nodes': 15, 'min_samples_split': 4}\n",
      "0.8553124999999999 {'criterion': 'entropy', 'max_leaf_nodes': 16, 'min_samples_split': 2}\n",
      "0.8553124999999999 {'criterion': 'entropy', 'max_leaf_nodes': 16, 'min_samples_split': 3}\n",
      "0.8553124999999999 {'criterion': 'entropy', 'max_leaf_nodes': 16, 'min_samples_split': 4}\n",
      "0.8569687499999998 {'criterion': 'entropy', 'max_leaf_nodes': 17, 'min_samples_split': 2}\n",
      "0.8569687499999998 {'criterion': 'entropy', 'max_leaf_nodes': 17, 'min_samples_split': 3}\n",
      "0.8569687499999998 {'criterion': 'entropy', 'max_leaf_nodes': 17, 'min_samples_split': 4}\n",
      "0.8591875 {'criterion': 'entropy', 'max_leaf_nodes': 18, 'min_samples_split': 2}\n",
      "0.8591875 {'criterion': 'entropy', 'max_leaf_nodes': 18, 'min_samples_split': 3}\n",
      "0.8591875 {'criterion': 'entropy', 'max_leaf_nodes': 18, 'min_samples_split': 4}\n",
      "0.8605625 {'criterion': 'entropy', 'max_leaf_nodes': 19, 'min_samples_split': 2}\n",
      "0.8605625 {'criterion': 'entropy', 'max_leaf_nodes': 19, 'min_samples_split': 3}\n",
      "0.8605625 {'criterion': 'entropy', 'max_leaf_nodes': 19, 'min_samples_split': 4}\n",
      "0.861 {'criterion': 'entropy', 'max_leaf_nodes': 20, 'min_samples_split': 2}\n",
      "0.861 {'criterion': 'entropy', 'max_leaf_nodes': 20, 'min_samples_split': 3}\n",
      "0.861 {'criterion': 'entropy', 'max_leaf_nodes': 20, 'min_samples_split': 4}\n",
      "0.8610312499999999 {'criterion': 'entropy', 'max_leaf_nodes': 21, 'min_samples_split': 2}\n",
      "0.8610312499999999 {'criterion': 'entropy', 'max_leaf_nodes': 21, 'min_samples_split': 3}\n",
      "0.8610312499999999 {'criterion': 'entropy', 'max_leaf_nodes': 21, 'min_samples_split': 4}\n",
      "0.8618124999999999 {'criterion': 'entropy', 'max_leaf_nodes': 22, 'min_samples_split': 2}\n",
      "0.8618124999999999 {'criterion': 'entropy', 'max_leaf_nodes': 22, 'min_samples_split': 3}\n",
      "0.8618124999999999 {'criterion': 'entropy', 'max_leaf_nodes': 22, 'min_samples_split': 4}\n",
      "0.8619375 {'criterion': 'entropy', 'max_leaf_nodes': 23, 'min_samples_split': 2}\n",
      "0.8619375 {'criterion': 'entropy', 'max_leaf_nodes': 23, 'min_samples_split': 3}\n",
      "0.8619375 {'criterion': 'entropy', 'max_leaf_nodes': 23, 'min_samples_split': 4}\n",
      "0.8622499999999998 {'criterion': 'entropy', 'max_leaf_nodes': 24, 'min_samples_split': 2}\n",
      "0.8622499999999998 {'criterion': 'entropy', 'max_leaf_nodes': 24, 'min_samples_split': 3}\n",
      "0.8622499999999998 {'criterion': 'entropy', 'max_leaf_nodes': 24, 'min_samples_split': 4}\n",
      "0.86290625 {'criterion': 'entropy', 'max_leaf_nodes': 25, 'min_samples_split': 2}\n",
      "0.86290625 {'criterion': 'entropy', 'max_leaf_nodes': 25, 'min_samples_split': 3}\n",
      "0.86290625 {'criterion': 'entropy', 'max_leaf_nodes': 25, 'min_samples_split': 4}\n",
      "0.86290625 {'criterion': 'entropy', 'max_leaf_nodes': 26, 'min_samples_split': 2}\n",
      "0.86290625 {'criterion': 'entropy', 'max_leaf_nodes': 26, 'min_samples_split': 3}\n",
      "0.86290625 {'criterion': 'entropy', 'max_leaf_nodes': 26, 'min_samples_split': 4}\n",
      "0.86328125 {'criterion': 'entropy', 'max_leaf_nodes': 27, 'min_samples_split': 2}\n",
      "0.86328125 {'criterion': 'entropy', 'max_leaf_nodes': 27, 'min_samples_split': 3}\n",
      "0.86328125 {'criterion': 'entropy', 'max_leaf_nodes': 27, 'min_samples_split': 4}\n",
      "0.8634999999999999 {'criterion': 'entropy', 'max_leaf_nodes': 28, 'min_samples_split': 2}\n",
      "0.8634999999999999 {'criterion': 'entropy', 'max_leaf_nodes': 28, 'min_samples_split': 3}\n",
      "0.8634999999999999 {'criterion': 'entropy', 'max_leaf_nodes': 28, 'min_samples_split': 4}\n",
      "0.86446875 {'criterion': 'entropy', 'max_leaf_nodes': 29, 'min_samples_split': 2}\n",
      "0.86446875 {'criterion': 'entropy', 'max_leaf_nodes': 29, 'min_samples_split': 3}\n",
      "0.86446875 {'criterion': 'entropy', 'max_leaf_nodes': 29, 'min_samples_split': 4}\n",
      "0.86465625 {'criterion': 'entropy', 'max_leaf_nodes': 30, 'min_samples_split': 2}\n",
      "0.86465625 {'criterion': 'entropy', 'max_leaf_nodes': 30, 'min_samples_split': 3}\n",
      "0.86465625 {'criterion': 'entropy', 'max_leaf_nodes': 30, 'min_samples_split': 4}\n",
      "0.864875 {'criterion': 'entropy', 'max_leaf_nodes': 31, 'min_samples_split': 2}\n",
      "0.864875 {'criterion': 'entropy', 'max_leaf_nodes': 31, 'min_samples_split': 3}\n",
      "0.864875 {'criterion': 'entropy', 'max_leaf_nodes': 31, 'min_samples_split': 4}\n",
      "0.8655000000000002 {'criterion': 'entropy', 'max_leaf_nodes': 32, 'min_samples_split': 2}\n",
      "0.8655000000000002 {'criterion': 'entropy', 'max_leaf_nodes': 32, 'min_samples_split': 3}\n",
      "0.8655000000000002 {'criterion': 'entropy', 'max_leaf_nodes': 32, 'min_samples_split': 4}\n",
      "0.865625 {'criterion': 'entropy', 'max_leaf_nodes': 33, 'min_samples_split': 2}\n",
      "0.865625 {'criterion': 'entropy', 'max_leaf_nodes': 33, 'min_samples_split': 3}\n",
      "0.865625 {'criterion': 'entropy', 'max_leaf_nodes': 33, 'min_samples_split': 4}\n",
      "0.8662187500000001 {'criterion': 'entropy', 'max_leaf_nodes': 34, 'min_samples_split': 2}\n",
      "0.8662187500000001 {'criterion': 'entropy', 'max_leaf_nodes': 34, 'min_samples_split': 3}\n",
      "0.8662187500000001 {'criterion': 'entropy', 'max_leaf_nodes': 34, 'min_samples_split': 4}\n",
      "0.8666562499999999 {'criterion': 'entropy', 'max_leaf_nodes': 35, 'min_samples_split': 2}\n",
      "0.8666562499999999 {'criterion': 'entropy', 'max_leaf_nodes': 35, 'min_samples_split': 3}\n",
      "0.8666562499999999 {'criterion': 'entropy', 'max_leaf_nodes': 35, 'min_samples_split': 4}\n",
      "0.8670312499999999 {'criterion': 'entropy', 'max_leaf_nodes': 36, 'min_samples_split': 2}\n",
      "0.8670312499999999 {'criterion': 'entropy', 'max_leaf_nodes': 36, 'min_samples_split': 3}\n",
      "0.8670312499999999 {'criterion': 'entropy', 'max_leaf_nodes': 36, 'min_samples_split': 4}\n",
      "0.867625 {'criterion': 'entropy', 'max_leaf_nodes': 37, 'min_samples_split': 2}\n",
      "0.867625 {'criterion': 'entropy', 'max_leaf_nodes': 37, 'min_samples_split': 3}\n",
      "0.867625 {'criterion': 'entropy', 'max_leaf_nodes': 37, 'min_samples_split': 4}\n",
      "0.8678437499999999 {'criterion': 'entropy', 'max_leaf_nodes': 38, 'min_samples_split': 2}\n",
      "0.8678437499999999 {'criterion': 'entropy', 'max_leaf_nodes': 38, 'min_samples_split': 3}\n",
      "0.8678437499999999 {'criterion': 'entropy', 'max_leaf_nodes': 38, 'min_samples_split': 4}\n",
      "0.8678750000000001 {'criterion': 'entropy', 'max_leaf_nodes': 39, 'min_samples_split': 2}\n",
      "0.8678750000000001 {'criterion': 'entropy', 'max_leaf_nodes': 39, 'min_samples_split': 3}\n",
      "0.8678750000000001 {'criterion': 'entropy', 'max_leaf_nodes': 39, 'min_samples_split': 4}\n",
      "0.868 {'criterion': 'entropy', 'max_leaf_nodes': 40, 'min_samples_split': 2}\n",
      "0.868 {'criterion': 'entropy', 'max_leaf_nodes': 40, 'min_samples_split': 3}\n",
      "0.868 {'criterion': 'entropy', 'max_leaf_nodes': 40, 'min_samples_split': 4}\n",
      "0.8680625 {'criterion': 'entropy', 'max_leaf_nodes': 41, 'min_samples_split': 2}\n",
      "0.8680625 {'criterion': 'entropy', 'max_leaf_nodes': 41, 'min_samples_split': 3}\n",
      "0.8680625 {'criterion': 'entropy', 'max_leaf_nodes': 41, 'min_samples_split': 4}\n",
      "0.8680625 {'criterion': 'entropy', 'max_leaf_nodes': 42, 'min_samples_split': 2}\n",
      "0.8680625 {'criterion': 'entropy', 'max_leaf_nodes': 42, 'min_samples_split': 3}\n",
      "0.8680625 {'criterion': 'entropy', 'max_leaf_nodes': 42, 'min_samples_split': 4}\n",
      "0.86815625 {'criterion': 'entropy', 'max_leaf_nodes': 43, 'min_samples_split': 2}\n",
      "0.86815625 {'criterion': 'entropy', 'max_leaf_nodes': 43, 'min_samples_split': 3}\n",
      "0.86815625 {'criterion': 'entropy', 'max_leaf_nodes': 43, 'min_samples_split': 4}\n",
      "0.86825 {'criterion': 'entropy', 'max_leaf_nodes': 44, 'min_samples_split': 2}\n",
      "0.86825 {'criterion': 'entropy', 'max_leaf_nodes': 44, 'min_samples_split': 3}\n",
      "0.86825 {'criterion': 'entropy', 'max_leaf_nodes': 44, 'min_samples_split': 4}\n",
      "0.8683125 {'criterion': 'entropy', 'max_leaf_nodes': 45, 'min_samples_split': 2}\n",
      "0.8683125 {'criterion': 'entropy', 'max_leaf_nodes': 45, 'min_samples_split': 3}\n",
      "0.8683125 {'criterion': 'entropy', 'max_leaf_nodes': 45, 'min_samples_split': 4}\n",
      "0.8684375 {'criterion': 'entropy', 'max_leaf_nodes': 46, 'min_samples_split': 2}\n",
      "0.8684375 {'criterion': 'entropy', 'max_leaf_nodes': 46, 'min_samples_split': 3}\n",
      "0.8684375 {'criterion': 'entropy', 'max_leaf_nodes': 46, 'min_samples_split': 4}\n",
      "0.868625 {'criterion': 'entropy', 'max_leaf_nodes': 47, 'min_samples_split': 2}\n",
      "0.868625 {'criterion': 'entropy', 'max_leaf_nodes': 47, 'min_samples_split': 3}\n",
      "0.868625 {'criterion': 'entropy', 'max_leaf_nodes': 47, 'min_samples_split': 4}\n",
      "0.8686562500000001 {'criterion': 'entropy', 'max_leaf_nodes': 48, 'min_samples_split': 2}\n",
      "0.8686562500000001 {'criterion': 'entropy', 'max_leaf_nodes': 48, 'min_samples_split': 3}\n",
      "0.8686562500000001 {'criterion': 'entropy', 'max_leaf_nodes': 48, 'min_samples_split': 4}\n",
      "0.8688437500000001 {'criterion': 'entropy', 'max_leaf_nodes': 49, 'min_samples_split': 2}\n",
      "0.8688437500000001 {'criterion': 'entropy', 'max_leaf_nodes': 49, 'min_samples_split': 3}\n",
      "0.8688437500000001 {'criterion': 'entropy', 'max_leaf_nodes': 49, 'min_samples_split': 4}\n"
     ]
    }
   ],
   "source": [
    "#Taking a closer look at the training results:\n",
    "\n",
    "cvres = clf.cv_results_\n",
    "for mean_score, params in zip(cvres[\"mean_train_score\"], cvres[\"params\"]):\n",
    "    print(mean_score, params)\n"
   ]
  },
  {
   "cell_type": "code",
   "execution_count": 49,
   "id": "47cd6def",
   "metadata": {},
   "outputs": [
    {
     "data": {
      "text/plain": [
       "0.861375"
      ]
     },
     "execution_count": 49,
     "metadata": {},
     "output_type": "execute_result"
    }
   ],
   "source": [
    "#Getting the training score:\n",
    "clf.score(X_train, y_train)\n"
   ]
  },
  {
   "cell_type": "markdown",
   "id": "524b62ae",
   "metadata": {},
   "source": [
    "We have an accuracy of approximately 86% but accuracy is sometimes not a good measure to use, lets see in terms of  the confusion matrix."
   ]
  },
  {
   "cell_type": "code",
   "execution_count": 50,
   "id": "01205848",
   "metadata": {},
   "outputs": [
    {
     "data": {
      "text/plain": [
       "array([[3538,  431],\n",
       "       [ 678, 3353]], dtype=int64)"
      ]
     },
     "execution_count": 50,
     "metadata": {},
     "output_type": "execute_result"
    }
   ],
   "source": [
    "from sklearn.metrics import confusion_matrix\n",
    "\n",
    "pred = clf.predict(X_train)\n",
    "confusion_matrix(y_train,pred)"
   ]
  },
  {
   "cell_type": "code",
   "execution_count": 51,
   "id": "d22598ef",
   "metadata": {},
   "outputs": [
    {
     "name": "stdout",
     "output_type": "stream",
     "text": [
      "Precision: 0.8860993657505285  Recall:0.8318035226990821\n"
     ]
    }
   ],
   "source": [
    "#Now from the confusion matrix let's get our precision and recall, which are better metrics.\n",
    "\n",
    "from sklearn.metrics import precision_score, recall_score\n",
    "\n",
    "pre = precision_score(y_train, pred)\n",
    "re  = recall_score(y_train, pred)\n",
    "print(f\"Precision: {pre}  Recall:{re}\")"
   ]
  },
  {
   "cell_type": "code",
   "execution_count": 52,
   "id": "f277fa08",
   "metadata": {},
   "outputs": [
    {
     "data": {
      "text/plain": [
       "0.8580934101087652"
      ]
     },
     "execution_count": 52,
     "metadata": {},
     "output_type": "execute_result"
    }
   ],
   "source": [
    "#we have a higher precision than recall but lets combine the two metrics into  F1  score.\n",
    "\n",
    "from sklearn.metrics import f1_score\n",
    "\n",
    "f1_score(y_train, pred)"
   ]
  },
  {
   "cell_type": "code",
   "execution_count": 53,
   "id": "22fe5b5c",
   "metadata": {},
   "outputs": [
    {
     "data": {
      "text/plain": [
       "0.8685"
      ]
     },
     "execution_count": 53,
     "metadata": {},
     "output_type": "execute_result"
    }
   ],
   "source": [
    "#Our  F1  Score and accuracy are almost the same.\n",
    "\n",
    "#Getting the testing score:\n",
    "clf.score(X_test, y_test)"
   ]
  },
  {
   "cell_type": "markdown",
   "id": "2044f690",
   "metadata": {},
   "source": [
    "From the above result, it is evident that we have an accuracy approximately 85%  on the testing set."
   ]
  },
  {
   "cell_type": "markdown",
   "id": "9d39ee47",
   "metadata": {},
   "source": [
    "8.Follow these steps to grow a forest:\n",
    "\n",
    "a. Using the same method as before, create 1,000 subsets of the training set, each containing\n",
    "100 instances chosen at random. You can do this with Scikit-ShuffleSplit Learn's class.\n",
    "\n",
    "b. Using the best hyperparameter values found in the previous exercise, train one Decision\n",
    "Tree on each subset. On the test collection, evaluate these 1,000 Decision Trees. These Decision\n",
    "\n",
    "Trees would likely perform worse than the first Decision Tree, achieving only around 80% accuracy,\n",
    "since they were trained on smaller sets.\n",
    "\n",
    "c. Now the magic begins. Create 1,000 Decision Tree predictions for each test set case, and\n",
    "keep only the most common prediction (you can do this with SciPy&#39;s mode() function). Over the test\n",
    "collection, this method gives you majority-vote predictions.\n",
    "\n",
    "d. On the test range, evaluate these predictions: you should achieve a slightly higher accuracy\n",
    "than the first model (approx 0.5 to 1.5 percent higher). You&#39;ve successfully learned a Random Forest\n",
    "classifier!"
   ]
  },
  {
   "cell_type": "code",
   "execution_count": 19,
   "id": "740d1afb",
   "metadata": {},
   "outputs": [],
   "source": [
    "# To grow a forest\n",
    "# a. Using the same method as before, create 1,000 subsets of the training set, each containing\n",
    "#100 instances chosen at random. You can do this with Scikit-ShuffleSplit Learn's class.\n",
    "\n",
    "from sklearn.model_selection import ShuffleSplit\n",
    "\n",
    "n_trees = 1000\n",
    "n_instances = 100\n",
    "\n",
    "mini_sets = []\n",
    "\n",
    "rs = ShuffleSplit(n_splits=n_trees, test_size=len(X_train) - n_instances,\n",
    "                  random_state=42)\n",
    "\n",
    "for mini_train_index, mini_test_index in rs.split(X_train):\n",
    "    X_mini_train = X_train[mini_train_index]\n",
    "    y_mini_train = y_train[mini_train_index]\n",
    "    mini_sets.append((X_mini_train, y_mini_train))\n"
   ]
  },
  {
   "cell_type": "markdown",
   "id": "b8463090",
   "metadata": {},
   "source": [
    "b. Using the best hyperparameter values found in the previous exercise, train one Decision\n",
    "Tree on each subset. On the test collection, evaluate these 1,000 Decision Trees. These Decision\n",
    "\n",
    "Trees would likely perform worse than the first Decision Tree, achieving only around 80% accuracy,\n",
    "since they were trained on smaller sets."
   ]
  },
  {
   "cell_type": "markdown",
   "id": "3b7c1470",
   "metadata": {},
   "source": [
    "from sklearn.base import clone\n",
    "\n",
    "forest = [clone(grid_search_cv.best_estimator_) for _ in range(n_trees)]\n",
    "\n",
    "accuracy_scores = []\n",
    "\n",
    "for tree, (X_mini_train, y_mini_train) in zip(forest, mini_sets):\n",
    "    tree.fit(X_mini_train, y_mini_train)\n",
    "    \n",
    "    y_pred = tree.predict(X_test)\n",
    "    accuracy_scores.append(accuracy_score(y_test, y_pred))\n",
    "\n",
    "np.mean(accuracy_scores)"
   ]
  },
  {
   "cell_type": "markdown",
   "id": "0ce82bea",
   "metadata": {},
   "source": [
    "0.805671"
   ]
  },
  {
   "cell_type": "markdown",
   "id": "fa460024",
   "metadata": {},
   "source": [
    "c. Now the magic begins. Create 1,000 Decision Tree predictions for each test set case, and\n",
    "keep only the most common prediction (you can do this with SciPy&#39;s mode() function). Over the test\n",
    "collection, this method gives you majority-vote predictions."
   ]
  },
  {
   "cell_type": "markdown",
   "id": "fc8395ef",
   "metadata": {},
   "source": [
    "Y_pred = np.empty([n_trees, len(X_test)], dtype=np.uint8)\n",
    "\n",
    "for tree_index, tree in enumerate(forest):\n",
    "    Y_pred[tree_index] = tree.predict(X_test)\n",
    "from scipy.stats import mode\n",
    "\n",
    "y_pred_majority_votes, n_votes = mode(Y_pred, axis=0)"
   ]
  },
  {
   "cell_type": "markdown",
   "id": "8d2402a7",
   "metadata": {},
   "source": [
    "d. On the test range, evaluate these predictions: you should achieve a slightly higher accuracy\n",
    "than the first model (approx 0.5 to 1.5 percent higher). You&#39;ve successfully learned a Random Forest\n",
    "classifier!"
   ]
  },
  {
   "cell_type": "markdown",
   "id": "4e9b983d",
   "metadata": {},
   "source": [
    "accuracy_score(y_test, y_pred_majority_votes.reshape([-1]))"
   ]
  },
  {
   "cell_type": "markdown",
   "id": "f5a64ca9",
   "metadata": {},
   "source": [
    "0.873"
   ]
  }
 ],
 "metadata": {
  "kernelspec": {
   "display_name": "Python 3 (ipykernel)",
   "language": "python",
   "name": "python3"
  },
  "language_info": {
   "codemirror_mode": {
    "name": "ipython",
    "version": 3
   },
   "file_extension": ".py",
   "mimetype": "text/x-python",
   "name": "python",
   "nbconvert_exporter": "python",
   "pygments_lexer": "ipython3",
   "version": "3.9.7"
  }
 },
 "nbformat": 4,
 "nbformat_minor": 5
}
