{
 "cells": [
  {
   "cell_type": "code",
   "execution_count": 16,
   "id": "090ecb58",
   "metadata": {},
   "outputs": [
    {
     "name": "stdout",
     "output_type": "stream",
     "text": [
      "Requirement already satisfied: mysql-connector-python in c:\\programdata\\anaconda3\\lib\\site-packages (8.0.28)\n",
      "Requirement already satisfied: protobuf>=3.0.0 in c:\\programdata\\anaconda3\\lib\\site-packages (from mysql-connector-python) (3.19.4)\n"
     ]
    }
   ],
   "source": [
    "!pip install mysql-connector-python"
   ]
  },
  {
   "cell_type": "code",
   "execution_count": 17,
   "id": "e870d63f",
   "metadata": {},
   "outputs": [],
   "source": [
    "import mysql.connector as conn"
   ]
  },
  {
   "cell_type": "code",
   "execution_count": 18,
   "id": "0798cc0e",
   "metadata": {},
   "outputs": [],
   "source": [
    "mydb = conn.connect(host= 'localhost', user = 'root', password = 'chanakya')"
   ]
  },
  {
   "cell_type": "code",
   "execution_count": 19,
   "id": "6573fbd0",
   "metadata": {},
   "outputs": [
    {
     "data": {
      "text/plain": [
       "<mysql.connector.connection_cext.CMySQLConnection at 0x1fcbf50c6d0>"
      ]
     },
     "execution_count": 19,
     "metadata": {},
     "output_type": "execute_result"
    }
   ],
   "source": [
    "mydb"
   ]
  },
  {
   "cell_type": "code",
   "execution_count": 20,
   "id": "a23c0bda",
   "metadata": {},
   "outputs": [],
   "source": [
    "cursor = mydb.cursor()"
   ]
  },
  {
   "cell_type": "code",
   "execution_count": 21,
   "id": "cc0459c9",
   "metadata": {},
   "outputs": [],
   "source": [
    "cursor.execute('show databases')"
   ]
  },
  {
   "cell_type": "code",
   "execution_count": 22,
   "id": "31421e5c",
   "metadata": {},
   "outputs": [
    {
     "data": {
      "text/plain": [
       "[('cardataset',),\n",
       " ('information_schema',),\n",
       " ('mysql',),\n",
       " ('mysqlassignment',),\n",
       " ('performance_schema',),\n",
       " ('sakila',),\n",
       " ('saptaksubhra',),\n",
       " ('sys',),\n",
       " ('world',)]"
      ]
     },
     "execution_count": 22,
     "metadata": {},
     "output_type": "execute_result"
    }
   ],
   "source": [
    "cursor.fetchall()"
   ]
  },
  {
   "cell_type": "code",
   "execution_count": 23,
   "id": "dd227add",
   "metadata": {},
   "outputs": [],
   "source": [
    "cursor.execute('use mysqlassignment')"
   ]
  },
  {
   "cell_type": "code",
   "execution_count": 24,
   "id": "1fd34655",
   "metadata": {},
   "outputs": [],
   "source": [
    "cursor.execute('show tables')"
   ]
  },
  {
   "cell_type": "code",
   "execution_count": 25,
   "id": "cca6eac5",
   "metadata": {},
   "outputs": [
    {
     "data": {
      "text/plain": [
       "[('worker',)]"
      ]
     },
     "execution_count": 25,
     "metadata": {},
     "output_type": "execute_result"
    }
   ],
   "source": [
    "cursor.fetchall()"
   ]
  },
  {
   "cell_type": "code",
   "execution_count": 26,
   "id": "14e2089b",
   "metadata": {},
   "outputs": [
    {
     "data": {
      "text/plain": [
       "[(1,\n",
       "  'SubhashChandra',\n",
       "  'Bose',\n",
       "  800000,\n",
       "  datetime.date(2012, 1, 1),\n",
       "  'subhash@infinity.com',\n",
       "  'HR'),\n",
       " (2,\n",
       "  'Lalbahadur',\n",
       "  'Shastri',\n",
       "  700000,\n",
       "  datetime.date(2012, 2, 2),\n",
       "  'shastri@infinity.com',\n",
       "  'Admin'),\n",
       " (3,\n",
       "  'Vishal',\n",
       "  'Singhal',\n",
       "  300000,\n",
       "  datetime.date(2013, 1, 1),\n",
       "  'vishal@infinity.com',\n",
       "  'HR'),\n",
       " (4,\n",
       "  'Amitabh',\n",
       "  'Singh',\n",
       "  500000,\n",
       "  datetime.date(2013, 1, 1),\n",
       "  'amitabh@infinity.com',\n",
       "  'HR'),\n",
       " (5,\n",
       "  'Vivek',\n",
       "  'Bharati',\n",
       "  600000,\n",
       "  datetime.date(2013, 3, 2),\n",
       "  'vivek@infinity.com',\n",
       "  'Admin'),\n",
       " (6,\n",
       "  'Vipul',\n",
       "  'Thakur',\n",
       "  200000,\n",
       "  datetime.date(2015, 1, 1),\n",
       "  'vipul@infinity.com',\n",
       "  'Account'),\n",
       " (7,\n",
       "  'Satish',\n",
       "  'Kaushik',\n",
       "  300000,\n",
       "  datetime.date(2016, 1, 1),\n",
       "  'satish@infinity.com',\n",
       "  'HR'),\n",
       " (8,\n",
       "  'Sandhya',\n",
       "  'Mukherjee',\n",
       "  500000,\n",
       "  datetime.date(2016, 1, 1),\n",
       "  'sandhya@infinity.com',\n",
       "  'Account'),\n",
       " (1,\n",
       "  'SubhashChandra',\n",
       "  'Bose',\n",
       "  800000,\n",
       "  datetime.date(2012, 1, 1),\n",
       "  'subhash@infinity.com',\n",
       "  'HR'),\n",
       " (2,\n",
       "  'Lalbahadur',\n",
       "  'Shastri',\n",
       "  700000,\n",
       "  datetime.date(2012, 2, 2),\n",
       "  'shastri@infinity.com',\n",
       "  'Admin'),\n",
       " (3,\n",
       "  'Vishal',\n",
       "  'Singhal',\n",
       "  300000,\n",
       "  datetime.date(2013, 1, 1),\n",
       "  'vishal@infinity.com',\n",
       "  'HR'),\n",
       " (4,\n",
       "  'Amitabh',\n",
       "  'Singh',\n",
       "  500000,\n",
       "  datetime.date(2013, 1, 1),\n",
       "  'amitabh@infinity.com',\n",
       "  'HR'),\n",
       " (5,\n",
       "  'Vivek',\n",
       "  'Bharati',\n",
       "  600000,\n",
       "  datetime.date(2013, 3, 2),\n",
       "  'vivek@infinity.com',\n",
       "  'Admin'),\n",
       " (6,\n",
       "  'Vipul',\n",
       "  'Thakur',\n",
       "  200000,\n",
       "  datetime.date(2015, 1, 1),\n",
       "  'vipul@infinity.com',\n",
       "  'Account'),\n",
       " (7,\n",
       "  'Satish',\n",
       "  'Kaushik',\n",
       "  300000,\n",
       "  datetime.date(2016, 1, 1),\n",
       "  'satish@infinity.com',\n",
       "  'HR'),\n",
       " (8,\n",
       "  'Sandhya',\n",
       "  'Mukherjee',\n",
       "  500000,\n",
       "  datetime.date(2016, 1, 1),\n",
       "  'sandhya@infinity.com',\n",
       "  'Account'),\n",
       " (1,\n",
       "  'SubhashChandra',\n",
       "  'Bose',\n",
       "  800000,\n",
       "  datetime.date(2012, 1, 1),\n",
       "  'subhash@infinity.com',\n",
       "  'HR')]"
      ]
     },
     "execution_count": 26,
     "metadata": {},
     "output_type": "execute_result"
    }
   ],
   "source": [
    "cursor.execute('select * from mysqlassignment.Worker')\n",
    "cursor.fetchall()"
   ]
  },
  {
   "cell_type": "code",
   "execution_count": 27,
   "id": "0dd9d749",
   "metadata": {},
   "outputs": [
    {
     "data": {
      "text/plain": [
       "[('SubhashChandra',),\n",
       " ('Lalbahadur',),\n",
       " ('Vishal',),\n",
       " ('Amitabh',),\n",
       " ('Vivek',),\n",
       " ('Vipul',),\n",
       " ('Satish',),\n",
       " ('Sandhya',),\n",
       " ('SubhashChandra',),\n",
       " ('Lalbahadur',),\n",
       " ('Vishal',),\n",
       " ('Amitabh',),\n",
       " ('Vivek',),\n",
       " ('Vipul',),\n",
       " ('Satish',),\n",
       " ('Sandhya',),\n",
       " ('SubhashChandra',)]"
      ]
     },
     "execution_count": 27,
     "metadata": {},
     "output_type": "execute_result"
    }
   ],
   "source": [
    "# Q-1. Write an SQL query to print the FIRST_NAME from Worker table after removing white spaces from the right side.\n",
    "\n",
    "cursor.execute('select rtrim(FIRST_NAME) from Worker')\n",
    "cursor.fetchall()"
   ]
  },
  {
   "cell_type": "code",
   "execution_count": 38,
   "id": "810c2aae",
   "metadata": {},
   "outputs": [
    {
     "data": {
      "text/plain": [
       "[('HR', 2), ('Admin', 5), ('Account', 7)]"
      ]
     },
     "execution_count": 38,
     "metadata": {},
     "output_type": "execute_result"
    }
   ],
   "source": [
    "# Q-2. Write an SQL query that fetches the unique values of DEPARTMENT from Worker table and prints its length.\n",
    "\n",
    "cursor.execute('select distinct DEPARTMENT, LENGTH(DEPARTMENT) as DEPARTMENTNameLength from Worker')\n",
    "cursor.fetchall()"
   ]
  },
  {
   "cell_type": "code",
   "execution_count": 43,
   "id": "906b78b9",
   "metadata": {},
   "outputs": [
    {
     "data": {
      "text/plain": [
       "[(800000,)]"
      ]
     },
     "execution_count": 43,
     "metadata": {},
     "output_type": "execute_result"
    }
   ],
   "source": [
    "# Q-3. Write an SQL query to fetch nth max salaries from a table.(Here n = 2)\n",
    "\n",
    "cursor.execute('select SALARY from Worker order by SALARY desc limit 1,1')\n",
    "cursor.fetchall()"
   ]
  }
 ],
 "metadata": {
  "kernelspec": {
   "display_name": "Python 3 (ipykernel)",
   "language": "python",
   "name": "python3"
  },
  "language_info": {
   "codemirror_mode": {
    "name": "ipython",
    "version": 3
   },
   "file_extension": ".py",
   "mimetype": "text/x-python",
   "name": "python",
   "nbconvert_exporter": "python",
   "pygments_lexer": "ipython3",
   "version": "3.9.7"
  }
 },
 "nbformat": 4,
 "nbformat_minor": 5
}
