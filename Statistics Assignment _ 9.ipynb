{
 "cells": [
  {
   "cell_type": "markdown",
   "id": "6db859ca",
   "metadata": {},
   "source": [
    "1.You are going to play 2 games of chess with an opponent whom you have never played\n",
    "against before (for the sake of this problem). Your opponent is equally likely to be a\n",
    "beginner, intermediate, or a master. Depending on which your chances of winning an individual game are 90%, 50%, or 30%, respectively.\n",
    "\n",
    "(a) What is your probability of winning the first game?\n",
    "(b) Congratulations: you won the first game! Given this information, what is the probability\n",
    "that you will also win the second game\n",
    "(c) Explain the distinction between assuming that the outcomes of the games are\n",
    "independent and assuming that they are conditionally independent given the opponent’s\n",
    "skill level. Which of these assumptions seems more reasonable, and why?\n",
    "\n",
    "\n",
    "(a)\n",
    "Let Wi be the event of winning the ith game. By the law of total probability,\n",
    "P(W1) = (0.9+0.5+0.3)/3 = 1.7 / 3 = 17/30.\n",
    "So, our probability of winning the first game is 17 / 30.\n",
    "\n",
    "(b)\n",
    "Mathematically, P(W2|W1) = P(W2, W1)/P(W1). where, W2 is the event of winning the second game and W1 is the event of winning the first game. The denominator is known from solution(a) and the numerator can be found by conditioning on the skill level of the opponent:\n",
    "\n",
    "P(W1,W2) = 1/3 P(W1,W2| beginner) + 1/3 P(W1,W2| intermediate) + 1/3 P(W1,W2| expert)\n",
    "\n",
    "Since W1 and W2 are conditionally independent given the skill level of the\n",
    "opponent, this becomes\n",
    "\n",
    "P(W1,W2)= (0.9^2 + 0.5^2 + 0.3^2) / 3 = (0.81 + 0.25 + 0.09) / 3 = 1.15 /3 = 115 / 300 = 23 /60 \n",
    "\n",
    "So, P(W2|W1) = P(W2,W1) / P(W1) = 23/60 / 17/30 = 23/60 X 30/17 = 23 /34\n",
    "\n",
    "\n",
    "\n",
    "(c)\n",
    "Independence here means that knowing one game’s outcome gives no information about the other game’s outcome, while conditionally independent is the same statement where all probabilities are conditional on the opponent’s\n",
    "skill level. Conditional independence given the opponent’s skill level is a more reasonable assumption here. This is because winning the first game gives information about the opponent’s skill level, which in turn gives information about\n",
    "the result of the second game. That is, if the opponent’s skill level is treated as fixed and known, then it may\n",
    "be reasonable to assume independence of games given this information; with the opponent’s skill level random, earlier games can be used to help conclude the opponent’s skill level, which affects the probabilities for future games."
   ]
  }
 ],
 "metadata": {
  "kernelspec": {
   "display_name": "Python 3 (ipykernel)",
   "language": "python",
   "name": "python3"
  },
  "language_info": {
   "codemirror_mode": {
    "name": "ipython",
    "version": 3
   },
   "file_extension": ".py",
   "mimetype": "text/x-python",
   "name": "python",
   "nbconvert_exporter": "python",
   "pygments_lexer": "ipython3",
   "version": "3.9.7"
  }
 },
 "nbformat": 4,
 "nbformat_minor": 5
}
