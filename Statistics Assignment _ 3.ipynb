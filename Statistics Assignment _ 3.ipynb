{
 "cells": [
  {
   "cell_type": "markdown",
   "id": "406befc6",
   "metadata": {},
   "source": [
    "1.For a group of 7 people, find the probability that all 4 seasons (winter, spring, summer, fall)\n",
    "occur at least once each among their birthdays, assuming that all seasons are equally likely.\n",
    "\n",
    "Let Ai be the event that there are no birthdays in the ith season. The probability that all seasons occur at least once is\n",
    "= 1 - Pr(A1 U A2 U A3 U A4)\n",
    "and it shoud be noted that , A1 inteersection A2 intersection A3 intersection A4 = 0\n",
    "\n",
    "Using the inclusion-exclusion principle and the symmetry of the seasons, we have\n",
    "                        4          3                               3\n",
    "Pr(A1 U A2 U A3 U A4) = Σ Pr(Ai) - Σ    Σ Pr(Ai intersection Aj) + Σ    Σ     Σ Pr (Ai intersection Aj intersection Ak)\n",
    "                        i=1        i =1 j > i                     i =1  j >i k>j\n",
    "= 4Pr(A1) -6Pr(A1 intersection A2) + 4Pr(A1 intersection A2 intersection A3)\n",
    "\n",
    "Now, Pr(A1) = (3/4)^7, Pr(A2) = (2/4)^7, Pr(A3) = (1/4)^7\n",
    "\n",
    "Therefore , Pr(A1 U A2 U A3 U A4) = 4 * (3/4)^7 - 6 * (2/4)^7 + 4* (1/4)^7 = (4 * 3 ^7 -6 * 3^7 + 4 * 1^7 ) /4 ^7\n",
    "\n",
    "The probability that all 4 seasons occur at least once among their birthdays is\n",
    "\n",
    "= 1 - Pr(A1 U A2 U A3 U A4) = 1 - (4 * 3 ^7 -6 * 3^7 + 4 * 1^7 ) /4 ^7 =( 4^7 - 4 * 3 ^7 +6 * 3^7 - 4 ) ~ 0.51\n",
    "                                                                                                        ~"
   ]
  },
  {
   "cell_type": "markdown",
   "id": "684d898c",
   "metadata": {},
   "source": [
    "2.Alice attends a small college in which each class meets only once a week. She is deciding\n",
    "between 30 non-overlapping classes. There are 6 classes to choose from for each day of the\n",
    "week, Monday through Friday. Trusting in the benevolence of randomness, Alice decides to\n",
    "register for 7 randomly selected classes out of the 30, with all choices equally likely. What is\n",
    "the probability that she will have classes every day, Monday through Friday?\n",
    "\n",
    "\n",
    "Here Direct Counting Method has been applied. There are two general ways that Alice can have classes every day: either she\n",
    "has 2 days with 2 classes and 3 days with 1 class on each day, or she has 1 day with 3 classes, and has 1 class on each of\n",
    "the other rest  4 days. The number of possibilities for the first scenario is (5)(6)^2 6^3 and the number of possibilities \n",
    "                                                                               2  2\n",
    "for the second scenario is (5) (6) 6^4.\n",
    "                            1   3    \n",
    "So , the probablility  that she will have classes every day, Monday through Friday is\n",
    "= (5)(6)^2 6^3 + (5) (6) 6^4 / (30/7)  = 114 /377 ~ 0.3023\n",
    "   2  2           1   3                           ~"
   ]
  }
 ],
 "metadata": {
  "kernelspec": {
   "display_name": "Python 3 (ipykernel)",
   "language": "python",
   "name": "python3"
  },
  "language_info": {
   "codemirror_mode": {
    "name": "ipython",
    "version": 3
   },
   "file_extension": ".py",
   "mimetype": "text/x-python",
   "name": "python",
   "nbconvert_exporter": "python",
   "pygments_lexer": "ipython3",
   "version": "3.9.7"
  }
 },
 "nbformat": 4,
 "nbformat_minor": 5
}
