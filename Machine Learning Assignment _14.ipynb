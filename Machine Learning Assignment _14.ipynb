{
 "cells": [
  {
   "cell_type": "markdown",
   "id": "367df03e",
   "metadata": {},
   "source": [
    "1.What is the concept of supervised learning? What is the significance of the name?\n",
    "\n",
    "Supervised learning, also known as supervised machine learning, is a subcategory of machine learning and artificial intelligence. It is defined by its use of labeled datasets to train algorithms that to classify data or predict outcomes accurately. \n",
    "\n",
    "It is called supervised learning because the process of an algorithm learning from the training dataset can be thought of as a teacher supervising the learning process. We know the correct answers, the algorithm iteratively makes predictions on the training data and is corrected by the teacher."
   ]
  },
  {
   "cell_type": "markdown",
   "id": "7a0229b6",
   "metadata": {},
   "source": [
    "2.In the hospital sector, offer an example of supervised learning.\n",
    "\n",
    "Support Vector Machines are the most standard machine learning algorithm that is being used by the healthcare industry ore hospital sector. It uses a supervised learning model for classification, regression, and detection of outlines. "
   ]
  },
  {
   "cell_type": "markdown",
   "id": "eb013a60",
   "metadata": {},
   "source": [
    "3.Give three supervised learning examples.\n",
    "\n",
    "Three supervised learning examples are Linear regression for regression problems, Random forest for classification and regression problems, Support vector machines for classification problems."
   ]
  },
  {
   "cell_type": "markdown",
   "id": "c2e0305e",
   "metadata": {},
   "source": [
    "4.In supervised learning, what are classification and regression?\n",
    "\n",
    "Regression is a supervised machine learning technique which is used to predict continuous values. The ultimate goal of the regression algorithm is to plot a best-fit line or a curve between the data. The three main metrics that are used for evaluating the trained regression model are variance, bias and error.\n",
    "\n",
    "The Classification algorithm is a Supervised Learning technique that is used to identify the category of new observations on the basis of training data. In Classification, a program learns from the given dataset or observations and then classifies new observation into a number of classes or groups."
   ]
  },
  {
   "cell_type": "markdown",
   "id": "2ccb2bc0",
   "metadata": {},
   "source": [
    "5.Give some popular classification algorithms as examples.\n",
    "\n",
    "Some popular classification algorithms as examples are Email Spam Detection, Speech Recognition, Identifications of Cancer tumor cells, Drugs Classification, Biometric Identification."
   ]
  },
  {
   "cell_type": "markdown",
   "id": "0e6db871",
   "metadata": {},
   "source": [
    "6.Briefly describe the SVM model.\n",
    "\n",
    "A support vector machine (SVM) is machine learning algorithm  and linear model that analyzes data for classification and regression analysis. SVM is a supervised learning method that looks at data and sorts it into one of two categories. An SVM outputs a map of the sorted data with the margins between the two as far apart as possible."
   ]
  },
  {
   "cell_type": "markdown",
   "id": "779e2c71",
   "metadata": {},
   "source": [
    "7.In SVM, what is the cost of misclassification ?\n",
    "\n",
    "In cost-sensitive learning instead of each instance being either correctly or incorrectly classified, each class (or instance) is given a misclassification cost. Thus, instead of trying to optimize the accuracy, the problem is then to minimize the total misclassification cost."
   ]
  },
  {
   "cell_type": "markdown",
   "id": "5ac733c7",
   "metadata": {},
   "source": [
    "8.In the SVM model, define Support Vectors.\n",
    "\n",
    "Support vectors are data points that are closer to the hyperplane and influence the position and orientation of the hyperplane. Using these support vectors, we maximize the margin of the classifier. "
   ]
  },
  {
   "cell_type": "markdown",
   "id": "2a627bfa",
   "metadata": {},
   "source": [
    "9.In the SVM model, define the kernel.\n",
    "\n",
    "A kernel is a function used in SVM for helping to solve problems. They provide shortcuts to avoid complex calculations. The amazing thing about kernel is that we can go to higher dimensions and perform smooth calculations with the help of it. We can go up to an infinite number of dimensions using kernels."
   ]
  },
  {
   "cell_type": "markdown",
   "id": "8c3ab6f0",
   "metadata": {},
   "source": [
    "10.What are the factors that influence SVM's effectiveness?\n",
    "\n",
    "The factors that influence SVM's effectiveness are selection of multiclass method, choice of optimizer, and type of the kernel function."
   ]
  },
  {
   "cell_type": "markdown",
   "id": "fa9241ec",
   "metadata": {},
   "source": [
    "11.What are the benefits of using the SVM model?\n",
    "\n",
    "The benefits of using SVM model are :\n",
    "\n",
    "SVM works relatively well when there is a clear margin of separation between classes.\n",
    "SVM is more effective in high dimensional spaces.\n",
    "SVM is effective in cases where the number of dimensions is greater than the number of samples.\n",
    "SVM is relatively memory efficient."
   ]
  },
  {
   "cell_type": "markdown",
   "id": "1310a7fa",
   "metadata": {},
   "source": [
    "12.What are the drawbacks of using the SVM model?\n",
    "\n",
    "SVM algorithm is not suitable for large data sets. SVM does not perform very well when the data set has more noise i.e. target classes are overlapping. In cases where the number of features for each data point exceeds the number of training data samples, the SVM will underperform."
   ]
  },
  {
   "cell_type": "markdown",
   "id": "dacdc734",
   "metadata": {},
   "source": [
    "13.Notes should be written on\n",
    "\n",
    "1.The kNN algorithm has a validation flaw : In cross-validation, instead of splitting the data into two parts, we split it into three parts. Training data, cross-validation data, and test data. Here, we use training data for finding nearest neighbors, we use cross-validation data to find the best value of “K” and finally we test our model on totally unseen test data. This test data is equivalent to the future unseen data points.\n",
    "\n",
    "2.In the kNN algorithm, the k value is chosen. : K is the number of neighborhood points we would take to decide in which class our test data belongs. K should not be taken as even number it should be odd i.e:- 1,3,5,7,9. In KNN algorithm, finding the value of k is not easy. A small value of k means that noise will have a higher influence on the result and a large value make it computationally expensive. \n",
    "\n",
    "3.A decision tree with inductive bias : In case of decision trees, the depth of the tress is the inductive bias. If the depth of the tree is too low, then there is too much generalisation in the model. The inductive bias (also called learning bias) of a learning algorithm is the set of assumptions that the learner uses to predict outputs of given inputs that it has not encountered."
   ]
  },
  {
   "cell_type": "markdown",
   "id": "469d3ace",
   "metadata": {},
   "source": [
    "14.What are some of the benefits of the kNN algorithm?\n",
    "\n",
    "The benefits of KNN algoirithm are :\n",
    "\n",
    "Simple to apply and intuitive to comprehend.\n",
    "Can learn non-linear decision boundaries when used for classfication and regression. Can came up with a highly flexible decision boundary adjusting the value of K.\n",
    "No Training Time for classification/regression : The KNN algorithm has no explicit training step and all the work happens during prediction\n",
    "Constantly evolves with new data: Since there is no explicit training step, as we keep adding new data to the dataset, the prediction is adjusted without having to retrain a new model.\n",
    "Single Hyperparameters: There is a single hyperparameter, the value of K. This makes hyper parameter tuning easy.\n",
    "Choice of distance metric: There are many distance metrics to chose from. Some popular distance metrics used are Euclidean, Manhattan, Minkowski, hamming distance eand so on."
   ]
  },
  {
   "cell_type": "markdown",
   "id": "4e8ea108",
   "metadata": {},
   "source": [
    "15.What are some of the kNN algorithm's drawbacks?\n",
    "\n",
    "The KNN algorithm's drawbacks are :\n",
    "High prediction complexity for large datasets\n",
    "KNN Assumes equal importance to all features\n",
    "Higher prediction complexity with higher dimensions\n",
    "Sensitive to outliers."
   ]
  },
  {
   "cell_type": "markdown",
   "id": "43de14a5",
   "metadata": {},
   "source": [
    "16.Explain the decision tree algorithm in a few words.\n",
    "\n",
    "A decision tree is a type of supervised machine learning used to categorize or make predictions based on how a previous set of questions were answered. The model is a form of supervised learning, meaning that the model is trained and tested on a set of data that contains the desired categorization."
   ]
  },
  {
   "cell_type": "markdown",
   "id": "e283d403",
   "metadata": {},
   "source": [
    "17.What is the difference between a node and a leaf in a decision tree?\n",
    "\n",
    "The root node is just the topmost decision node. In other words, it is where we start traversing the classification tree. The leaf nodes, also called terminal nodes, are nodes that don't split into more nodes. Leaf nodes are where classes are assigned by majority vote."
   ]
  },
  {
   "cell_type": "markdown",
   "id": "74160c11",
   "metadata": {},
   "source": [
    "18.What is a decision tree's entropy?\n",
    "\n",
    "Entropy is an information theory metric that measures the impurity or uncertainty in a group of observations. It determines how a decision tree chooses to split data. "
   ]
  },
  {
   "cell_type": "markdown",
   "id": "d61e7f6d",
   "metadata": {},
   "source": [
    "19.In a decision tree, define knowledge gain.\n",
    "\n",
    "The information or knowledge gain in the decision tree can be defined as the amount of information or knowledge improved in the nodes before splitting them for making further decisions. "
   ]
  },
  {
   "cell_type": "markdown",
   "id": "21e6005e",
   "metadata": {},
   "source": [
    "20.Choose three advantages of the decision tree approach and write them down.\n",
    "\n",
    "Three advantages of decision tree approach:\n",
    "i. Easy to use : Decision trees are easy to use with simple mathematics and without any complex formula.\n",
    "ii. Comprehensive : A significant advantage of a decision tree is that it forces the consideration of all possible outcomes of a decision and traces each path to a conclusion. It creates a comprehensive analysis of the consequences along each branch and identifies decision nodes that need further analysis.\n",
    "iii.Versatility: A multitude of business problems can be analyzed and solved by using decision trees. They are useful tools for business managers, technicians, engineers, medical staff and anyone else who has to make decisions under uncertain conditions."
   ]
  },
  {
   "cell_type": "markdown",
   "id": "969ba4e6",
   "metadata": {},
   "source": [
    "21.Make a list of three flaws in the decision tree process.\n",
    "\n",
    "Three flaws of decision tree process:\n",
    "i. A small change in the data can cause a large change in the structure of the decision tree causing instability.\n",
    "ii. Decision tree often involves or takes higher time to train the model.\n",
    "iii. Decision tree training is relatively expensive as the complexity and time has taken are more."
   ]
  },
  {
   "cell_type": "markdown",
   "id": "28283abe",
   "metadata": {},
   "source": [
    "22.Briefly describe the random forest model.\n",
    "\n",
    "Random forest is a Supervised Machine Learning Algorithm that is used widely in Classification and Regression problems. It builds decision trees on different samples and takes their majority vote for classification and average in case of regression."
   ]
  }
 ],
 "metadata": {
  "kernelspec": {
   "display_name": "Python 3 (ipykernel)",
   "language": "python",
   "name": "python3"
  },
  "language_info": {
   "codemirror_mode": {
    "name": "ipython",
    "version": 3
   },
   "file_extension": ".py",
   "mimetype": "text/x-python",
   "name": "python",
   "nbconvert_exporter": "python",
   "pygments_lexer": "ipython3",
   "version": "3.9.7"
  }
 },
 "nbformat": 4,
 "nbformat_minor": 5
}
