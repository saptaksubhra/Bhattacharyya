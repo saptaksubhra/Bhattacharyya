{
 "cells": [
  {
   "cell_type": "markdown",
   "id": "410feee6",
   "metadata": {},
   "source": [
    "1.A spam filter is designed by looking at commonly occurring phrases in spam. Suppose that\n",
    "80% of email is spam. In 10% of the spam emails, the phrase “free money” is used, whereas\n",
    "this phrase is only used in 1% of non-spam emails. A new email has just arrived, which does\n",
    "mention “free money”. What is the probability that it is spam?\n",
    "\n",
    "Let S be the event that an email is spam and F be the event that an email has\n",
    "the “free money” phrase. Therefore, by Bayes’ Rule, we can say that,\n",
    "P(S|F) = P(F|S)P(S) / P(F) = (0.1 * 0.8) / (0.1 * 0.8 + 0.01 *0.2 )= (80/1000) / (82/1000) = 80 /82 = 40 / 41\n",
    "\n",
    "~ 0.9756\n",
    "~\n",
    "\n",
    "So, the probability that it is spam is 0.9756"
   ]
  }
 ],
 "metadata": {
  "kernelspec": {
   "display_name": "Python 3 (ipykernel)",
   "language": "python",
   "name": "python3"
  },
  "language_info": {
   "codemirror_mode": {
    "name": "ipython",
    "version": 3
   },
   "file_extension": ".py",
   "mimetype": "text/x-python",
   "name": "python",
   "nbconvert_exporter": "python",
   "pygments_lexer": "ipython3",
   "version": "3.9.7"
  }
 },
 "nbformat": 4,
 "nbformat_minor": 5
}
