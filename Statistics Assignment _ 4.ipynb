{
 "cells": [
  {
   "cell_type": "markdown",
   "id": "046101b6",
   "metadata": {},
   "source": [
    "1.Is it possible that an event is independent of itself? If so, when?\n",
    "\n",
    "Let E be an event. If E is independent of itself, then P(E) = P(E intersection E) = P(E)2,\n",
    "so P(E) is 0 or 1. So this is only possible that an event is independent of itself in the extreme cases when the event\n",
    "has probability 0 or 1.\n"
   ]
  },
  {
   "cell_type": "markdown",
   "id": "1c6a8259",
   "metadata": {},
   "source": [
    "2.Is it always true that if A and B are independent events, then Aᶜ and Bᶜ are independent\n",
    "events? Show that it is, or give a counterexample.\n",
    "\n",
    "Yes , it is always true that if A and B are independent events, then Ac and Bc are independent events also because we have mathematically, \n",
    "\n",
    "P(Aᶜ intersection B ᶜ) =1  - P(A U B) = 1 - (P(A) + P(B) - P(A intersection B)) . Since , A and B are two independent events so this equation becomes\n",
    "\n",
    "= 1 - P(A) - P(B) + P(A)P(B) = (1 - P(A)) - P(B)(1 - P(A)) = ( 1 - P(A))(1 - P(B)) = P(Aᶜ)P(Bᶜ)"
   ]
  }
 ],
 "metadata": {
  "kernelspec": {
   "display_name": "Python 3 (ipykernel)",
   "language": "python",
   "name": "python3"
  },
  "language_info": {
   "codemirror_mode": {
    "name": "ipython",
    "version": 3
   },
   "file_extension": ".py",
   "mimetype": "text/x-python",
   "name": "python",
   "nbconvert_exporter": "python",
   "pygments_lexer": "ipython3",
   "version": "3.9.7"
  }
 },
 "nbformat": 4,
 "nbformat_minor": 5
}
