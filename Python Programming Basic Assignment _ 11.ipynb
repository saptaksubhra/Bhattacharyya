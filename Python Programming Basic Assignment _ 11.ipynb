{
 "cells": [
  {
   "cell_type": "code",
   "execution_count": 14,
   "id": "79a1697c",
   "metadata": {},
   "outputs": [
    {
     "name": "stdout",
     "output_type": "stream",
     "text": [
      "Please enter the string : My name is Anthony Gonsalves\n",
      "['Anthony', 'Gonsalves']\n"
     ]
    }
   ],
   "source": [
    "# 1. Write a Python program to find words which are greater than given length k?\n",
    "\n",
    "try:\n",
    "    boom = input(\"Please enter the string : \")\n",
    "    def Str_k(k, boom):\n",
    "        string = []\n",
    "        text_message = boom.split(\" \")\n",
    "        for i in text_message:\n",
    "            if len(i) > k:\n",
    "                string.append(i)\n",
    "        return string\n",
    "    k = 4\n",
    "    print(Str_k(k,boom))\n",
    "except:\n",
    "    print(\"Please print the desired ouput.\")"
   ]
  },
  {
   "cell_type": "code",
   "execution_count": 18,
   "id": "fd36abe3",
   "metadata": {},
   "outputs": [
    {
     "name": "stdout",
     "output_type": "stream",
     "text": [
      "please enter the string : Pythonisawesome\n",
      "Pythoisawesome\n"
     ]
    }
   ],
   "source": [
    "# 2. Write a Python program for removing i-th character from a string?\n",
    "\n",
    "try:\n",
    "    kaboom = input(\"please enter the string : \")\n",
    "    def remove_character(sap, i):\n",
    "        a1 = sap[ :i]\n",
    "        b1 = sap[i + 1: ]\n",
    "        return a1 + b1\n",
    "    \n",
    "    i = 6\n",
    "    print(remove_character(kaboom, i-1))\n",
    "except:\n",
    "    print(\"Please print the desired output.\")"
   ]
  },
  {
   "cell_type": "code",
   "execution_count": 20,
   "id": "5fc85ee8",
   "metadata": {},
   "outputs": [
    {
     "name": "stdout",
     "output_type": "stream",
     "text": [
      "Please enter the string with space : Saptaksubhra Bhattacharyya\n",
      "['Saptaksubhra', 'Bhattacharyya']\n"
     ]
    }
   ],
   "source": [
    "# 3. Write a Python program to split and join a string?\n",
    "\n",
    "#Splitting a string\n",
    "try:\n",
    "    first_string = input(\"Please enter the string with space : \")\n",
    "    print(first_string.split())\n",
    "except:\n",
    "    print(\"Splitting a string\")"
   ]
  },
  {
   "cell_type": "code",
   "execution_count": 23,
   "id": "ea52ec32",
   "metadata": {},
   "outputs": [
    {
     "name": "stdout",
     "output_type": "stream",
     "text": [
      "Please enter the first string : Saptaksubhra\n",
      "Please enter the second string : Bhattacharyya\n",
      "SBhattacharyyaaBhattacharyyapBhattacharyyatBhattacharyyaaBhattacharyyakBhattacharyyasBhattacharyyauBhattacharyyabBhattacharyyahBhattacharyyarBhattacharyyaa\n"
     ]
    }
   ],
   "source": [
    "# Joining of two strings\n",
    "\n",
    "try:\n",
    "    string1 = input(\"Please enter the first string : \")\n",
    "    string2 = input(\"Please enter the second string : \")\n",
    "    New_String = string2.join(string1)\n",
    "    print(New_String)\n",
    "except:\n",
    "    print(\"Joining of two strings\")"
   ]
  },
  {
   "cell_type": "code",
   "execution_count": 26,
   "id": "eddcf1a5",
   "metadata": {},
   "outputs": [
    {
     "data": {
      "text/plain": [
       "str"
      ]
     },
     "execution_count": 26,
     "metadata": {},
     "output_type": "execute_result"
    }
   ],
   "source": [
    "type(New_String)"
   ]
  },
  {
   "cell_type": "code",
   "execution_count": 29,
   "id": "9dc7dc40",
   "metadata": {},
   "outputs": [
    {
     "name": "stdout",
     "output_type": "stream",
     "text": [
      "Please enter the string : 0101\n",
      "The given string is a binary one.\n"
     ]
    }
   ],
   "source": [
    "# 4. Write a Python to check if a given string is binary string or not?\n",
    "\n",
    "try:\n",
    "    string1 = input(\"Please enter the string : \")\n",
    "    a2 = {\"0\", \"1\"}\n",
    "    b2 = set(string1)\n",
    "    \n",
    "    if a2 == b2 or b2 == {\"0\"} or b2 == {\"1\"}:\n",
    "        print(\"The given string is a binary one.\")\n",
    "    else:\n",
    "        print(\"The given string is not a binary one.\")\n",
    "except:\n",
    "    print(\"Detection of a binary string\")"
   ]
  },
  {
   "cell_type": "code",
   "execution_count": 30,
   "id": "bf0b1c00",
   "metadata": {},
   "outputs": [
    {
     "name": "stdout",
     "output_type": "stream",
     "text": [
      "Please enter the string : 01203411\n",
      "The given string is not a binary one.\n"
     ]
    }
   ],
   "source": [
    "try:\n",
    "    string1 = input(\"Please enter the string : \")\n",
    "    a2 = {\"0\", \"1\"}\n",
    "    b2 = set(string1)\n",
    "    \n",
    "    if a2 == b2 or b2 == {\"0\"} or b2 == {\"1\"}:\n",
    "        print(\"The given string is a binary one.\")\n",
    "    else:\n",
    "        print(\"The given string is not a binary one.\")\n",
    "except:\n",
    "    print(\"Detection of a binary string\")"
   ]
  },
  {
   "cell_type": "code",
   "execution_count": 32,
   "id": "6cbfd2f6",
   "metadata": {},
   "outputs": [
    {
     "name": "stdout",
     "output_type": "stream",
     "text": [
      "Please enter the first string : I have got motivation\n",
      "Please enter the second string : I have got inspiration\n",
      "['motivation', 'inspiration']\n"
     ]
    }
   ],
   "source": [
    "# 5. Write a Python program to find uncommon words from two Strings?\n",
    "\n",
    "try:\n",
    "    A = input(\"Please enter the first string : \")\n",
    "    B = input(\"Please enter the second string : \")\n",
    "    \n",
    "    def Uncommon_words(A,B):\n",
    "        Count = {}\n",
    "        for word in A.split():\n",
    "            Count[word]= Count.get(word, 0) + 1\n",
    "            \n",
    "        for word in B.split():\n",
    "            Count[word ] = Count.get(word, 0) + 1\n",
    "            \n",
    "        return [ word for word in Count if Count[word] == 1]\n",
    "    print(Uncommon_words(A,B))\n",
    "    \n",
    "except:\n",
    "    print(\"Please print uncommon words.\")"
   ]
  },
  {
   "cell_type": "code",
   "execution_count": 35,
   "id": "71735a8e",
   "metadata": {},
   "outputs": [
    {
     "name": "stdout",
     "output_type": "stream",
     "text": [
      "Please enter the string : ineuron full stack data science\n",
      "i n e u   l s t a c\n"
     ]
    }
   ],
   "source": [
    "# 6. Write a Python to find all duplicate characters in string?\n",
    "\n",
    "try:\n",
    "    str5 = input(\"Please enter the string : \")\n",
    "    \n",
    "    list5 = []\n",
    "    for character in str5:\n",
    "        if str5.count(character) > 1:\n",
    "            if character not in list5:\n",
    "                list5.append(character)\n",
    "    print(*list5)\n",
    "except:\n",
    "    print(\"Please print the desired result.\")"
   ]
  },
  {
   "cell_type": "code",
   "execution_count": 41,
   "id": "2e2505a9",
   "metadata": {},
   "outputs": [
    {
     "name": "stdout",
     "output_type": "stream",
     "text": [
      "Please enter the string : sa[@#$.com\n",
      "The string is : \n",
      "sa[@#$.com\n",
      "The entered string does contain special characters.\n"
     ]
    }
   ],
   "source": [
    "# 7. Write a Python Program to check if a string contains any special character?\n",
    "\n",
    "try:\n",
    "    import re\n",
    "    my_own_string = input(\"Please enter the string : \")\n",
    "    def check_the_string(my_own_string):\n",
    "        regex =re.compile(\"@#%^&*()><+_-!€:;,.\")\n",
    "        if(regex.search(my_own_string) ==None):\n",
    "            print(\"The entered string does contain special characters.\")\n",
    "        else:\n",
    "            print(\"The given string does not contain any special character.\")\n",
    "    print(\"The string is : \")\n",
    "    print(my_own_string)\n",
    "    check_the_string(my_own_string)\n",
    "except:\n",
    "    print(\"Please print the result.\")"
   ]
  }
 ],
 "metadata": {
  "kernelspec": {
   "display_name": "Python 3 (ipykernel)",
   "language": "python",
   "name": "python3"
  },
  "language_info": {
   "codemirror_mode": {
    "name": "ipython",
    "version": 3
   },
   "file_extension": ".py",
   "mimetype": "text/x-python",
   "name": "python",
   "nbconvert_exporter": "python",
   "pygments_lexer": "ipython3",
   "version": "3.9.7"
  }
 },
 "nbformat": 4,
 "nbformat_minor": 5
}
