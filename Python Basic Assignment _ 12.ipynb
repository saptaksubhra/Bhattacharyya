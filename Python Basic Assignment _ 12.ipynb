{
 "cells": [
  {
   "cell_type": "markdown",
   "id": "a02ff5d5",
   "metadata": {},
   "source": [
    "1. In what modes should the PdfFileReader() and PdfFileWriter() File objects will be opened?\n",
    "\n",
    "These files will be opened in binary mode. read binary (rb) for PdfFileReader() and write binary (wb) for PdfFileWriter()\n",
    "Below has been mentioned how to install PDF using pip command.\n"
   ]
  },
  {
   "cell_type": "code",
   "execution_count": 4,
   "id": "f06d8817",
   "metadata": {},
   "outputs": [
    {
     "name": "stdout",
     "output_type": "stream",
     "text": [
      "Requirement already satisfied: PyPDF2 in c:\\programdata\\anaconda3\\lib\\site-packages (1.26.0)\n",
      "Note: you may need to restart the kernel to use updated packages.\n"
     ]
    }
   ],
   "source": [
    "pip install PyPDF2"
   ]
  },
  {
   "cell_type": "markdown",
   "id": "4c513b0d",
   "metadata": {},
   "source": [
    "2. From a PdfFileReader object, how do you get a Page object for page 5?\n",
    "\n",
    "Calling getPage(4) will return a page object for page 5 as page 0 is the first page."
   ]
  },
  {
   "cell_type": "code",
   "execution_count": 8,
   "id": "213af792",
   "metadata": {},
   "outputs": [
    {
     "name": "stdout",
     "output_type": "stream",
     "text": [
      "pdf opn\n"
     ]
    }
   ],
   "source": [
    "# Illustration\n",
    "\n",
    "try:\n",
    "    import PyPDF2 as pdf\n",
    "    pdffileobj = open('wholesaledealer.pdf', 'rb')\n",
    "    pdfreader = pdf.PdfFileReader(pdffileobj)\n",
    "    pageobj = pdfreader.getPage(4)\n",
    "    pageobj.extractText()\n",
    "except:\n",
    "    print('pdf opn')"
   ]
  },
  {
   "cell_type": "code",
   "execution_count": 9,
   "id": "fea03f5a",
   "metadata": {},
   "outputs": [
    {
     "name": "stdout",
     "output_type": "stream",
     "text": [
      "pdf operation\n"
     ]
    }
   ],
   "source": [
    "#3. What PdfFileReader variable stores the number of pages in the PDF document?\n",
    "try:\n",
    "    import PyPDF2 as pdf\n",
    "    pdffileobj = open(\"wholesaledealer.pdf\",'rb')\n",
    "    pdfreader = pdf.PdfFileReader(pdffileobj)\n",
    "    pdfreader.numPages\n",
    "except:\n",
    "    print('pdf operation')"
   ]
  },
  {
   "cell_type": "markdown",
   "id": "a166cb14",
   "metadata": {},
   "source": [
    "4. If a PdfFileReader object’s PDF is encrypted with the password swordfish, what must you do before you can obtain Page objects from it?\n",
    "\n",
    " Before we have the page object, the pdf has to be decrypted first by calling decrypt('swordfish').\n"
   ]
  },
  {
   "cell_type": "markdown",
   "id": "d437921d",
   "metadata": {},
   "source": [
    "5. What methods do you use to rotate a page?\n",
    "\n",
    "pageobj.rotateClockwise(270)\n",
    "\n",
    "The rotateClockwise() and rotateCounterClockwise() are the methods which we use to rotate a page. The degrees to rotate is passed as an integer argument.\n"
   ]
  },
  {
   "cell_type": "markdown",
   "id": "9d346675",
   "metadata": {},
   "source": [
    "6. What is the difference between a Run object and a Paragraph object?\n",
    "\n",
    "Paragraph Object : A document contains multiple paragraphs. A paragraph begins on a new line and contains multiple runs. The Document object contains a list of Paragraph objects for the paragraphs in the document. (A new paragraph begins whenever the user presses ENTER or RETURN while typing in a Word document.)\n",
    "\n",
    "\n",
    "Run Object : Runs are contiguous groups of characters within a paragraph with the same style\n"
   ]
  },
  {
   "cell_type": "markdown",
   "id": "dbde4dae",
   "metadata": {},
   "source": [
    "7. How do you obtain a list of Paragraph objects for a Document object that’s stored in a variable named doc?"
   ]
  },
  {
   "cell_type": "code",
   "execution_count": 2,
   "id": "58281712",
   "metadata": {},
   "outputs": [
    {
     "name": "stdout",
     "output_type": "stream",
     "text": [
      "Collecting python-docx\n",
      "  Downloading python-docx-0.8.11.tar.gz (5.6 MB)\n",
      "Requirement already satisfied: lxml>=2.3.2 in c:\\programdata\\anaconda3\\lib\\site-packages (from python-docx) (4.6.3)\n",
      "Building wheels for collected packages: python-docx\n",
      "  Building wheel for python-docx (setup.py): started\n",
      "  Building wheel for python-docx (setup.py): finished with status 'done'\n",
      "  Created wheel for python-docx: filename=python_docx-0.8.11-py3-none-any.whl size=184508 sha256=11f03b49f79e11b091bcbf1ef54b5a0012bc3fb64323e78c43cdb0a16a293097\n",
      "  Stored in directory: c:\\users\\user\\appdata\\local\\pip\\cache\\wheels\\83\\8b\\7c\\09ae60c42c7ba4ed2dddaf2b8b9186cb105255856d6ed3dba5\n",
      "Successfully built python-docx\n",
      "Installing collected packages: python-docx\n",
      "Successfully installed python-docx-0.8.11\n",
      "Note: you may need to restart the kernel to use updated packages.\n"
     ]
    }
   ],
   "source": [
    "pip install python-docx"
   ]
  },
  {
   "cell_type": "code",
   "execution_count": 4,
   "id": "362d9dd1",
   "metadata": {},
   "outputs": [
    {
     "name": "stdout",
     "output_type": "stream",
     "text": [
      "exception handling\n"
     ]
    }
   ],
   "source": [
    "try:\n",
    "    \n",
    "    import docx\n",
    "    doc = docx.Document('sap.docx')\n",
    "    doc.paragraphs\n",
    "except:\n",
    "    print('exception handling')"
   ]
  },
  {
   "cell_type": "markdown",
   "id": "037c6833",
   "metadata": {},
   "source": [
    "8. What type of object has bold, underline, italic, strike, and outline variables?\n",
    "\n",
    "A Run object has bold, underline,italic,strike and outline variables."
   ]
  },
  {
   "cell_type": "markdown",
   "id": "79532032",
   "metadata": {},
   "source": [
    "9. What is the difference between False, True, and None for the bold variable?\n",
    "\n",
    "Runs can be further styled using text attributes. Each attribute can be set to one of three values:\n",
    "True (the attribute is always enabled, no matter what other styles are applied to the run),\n",
    "False (the attribute is always disabled),\n",
    "None (defaults to whatever the run’s style is set to)\n",
    "\n",
    "True always makes the Run object bolded and False makes it always non-bolded, no matter what the style’s bold setting is. None will make the Run object just use the style’s bold setting."
   ]
  },
  {
   "cell_type": "markdown",
   "id": "216682c6",
   "metadata": {},
   "source": [
    "10. How do you create a Document object for a new Word document?\n",
    "\n",
    "We create a Document object for a new Word document by Calling the docx.Document() function.\n"
   ]
  },
  {
   "cell_type": "code",
   "execution_count": 7,
   "id": "ed60b7b0",
   "metadata": {},
   "outputs": [],
   "source": [
    "# 11. How do you add a paragraph with the text 'Hello, there!' to a Document object stored in a variable named doc?\n",
    "\n",
    "try:\n",
    "    import docx\n",
    "    doc = docx.Document()\n",
    "\n",
    "    doc.add_paragraph('Hello there!')\n",
    "    doc.save('hellothere.docx')\n",
    "except:\n",
    "    print('word document')\n"
   ]
  },
  {
   "cell_type": "markdown",
   "id": "2b6307cf",
   "metadata": {},
   "source": [
    "12. What integers represent the levels of headings available in Word documents?\n",
    "\n",
    "integer from 0 to 4\n",
    "The arguments to add_heading() are a string of the heading text and an integer from 0 to 4. The integer 0 makes the heading the Title style, which is used for the top of the document. Integers 1 to 4 are for various heading levels, with 1 being the main heading and 4 being the lowest subheading.\n"
   ]
  }
 ],
 "metadata": {
  "kernelspec": {
   "display_name": "Python 3 (ipykernel)",
   "language": "python",
   "name": "python3"
  },
  "language_info": {
   "codemirror_mode": {
    "name": "ipython",
    "version": 3
   },
   "file_extension": ".py",
   "mimetype": "text/x-python",
   "name": "python",
   "nbconvert_exporter": "python",
   "pygments_lexer": "ipython3",
   "version": "3.9.7"
  }
 },
 "nbformat": 4,
 "nbformat_minor": 5
}
