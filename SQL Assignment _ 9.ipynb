{
 "cells": [
  {
   "cell_type": "code",
   "execution_count": 1,
   "id": "d1edc776",
   "metadata": {},
   "outputs": [
    {
     "name": "stdout",
     "output_type": "stream",
     "text": [
      "Requirement already satisfied: mysql-connector-python in c:\\programdata\\anaconda3\\lib\\site-packages (8.0.28)\n",
      "Requirement already satisfied: protobuf>=3.0.0 in c:\\programdata\\anaconda3\\lib\\site-packages (from mysql-connector-python) (3.19.4)\n"
     ]
    }
   ],
   "source": [
    "!pip install mysql-connector-python"
   ]
  },
  {
   "cell_type": "code",
   "execution_count": 2,
   "id": "caf4d088",
   "metadata": {},
   "outputs": [],
   "source": [
    "import mysql.connector as conn"
   ]
  },
  {
   "cell_type": "code",
   "execution_count": 3,
   "id": "7d98e8b9",
   "metadata": {},
   "outputs": [],
   "source": [
    "mydb = conn.connect(host= 'localhost', user = 'root', password = 'chanakya')"
   ]
  },
  {
   "cell_type": "code",
   "execution_count": 4,
   "id": "d8e62434",
   "metadata": {},
   "outputs": [
    {
     "data": {
      "text/plain": [
       "<mysql.connector.connection_cext.CMySQLConnection at 0x18c127d5880>"
      ]
     },
     "execution_count": 4,
     "metadata": {},
     "output_type": "execute_result"
    }
   ],
   "source": [
    "mydb"
   ]
  },
  {
   "cell_type": "code",
   "execution_count": 5,
   "id": "bab9194f",
   "metadata": {},
   "outputs": [],
   "source": [
    "cursor = mydb.cursor()"
   ]
  },
  {
   "cell_type": "code",
   "execution_count": 6,
   "id": "dcb544b1",
   "metadata": {},
   "outputs": [],
   "source": [
    "cursor.execute('show databases')"
   ]
  },
  {
   "cell_type": "code",
   "execution_count": 7,
   "id": "ee54735d",
   "metadata": {},
   "outputs": [
    {
     "data": {
      "text/plain": [
       "[('cardataset',),\n",
       " ('information_schema',),\n",
       " ('mysql',),\n",
       " ('mysqlassignment',),\n",
       " ('performance_schema',),\n",
       " ('sakila',),\n",
       " ('saptaksubhra',),\n",
       " ('sys',),\n",
       " ('world',)]"
      ]
     },
     "execution_count": 7,
     "metadata": {},
     "output_type": "execute_result"
    }
   ],
   "source": [
    "cursor.fetchall()"
   ]
  },
  {
   "cell_type": "code",
   "execution_count": 8,
   "id": "1822c73a",
   "metadata": {},
   "outputs": [],
   "source": [
    "cursor.execute('use mysqlassignment')"
   ]
  },
  {
   "cell_type": "code",
   "execution_count": 9,
   "id": "646c4dd1",
   "metadata": {},
   "outputs": [],
   "source": [
    "cursor.execute('show tables')"
   ]
  },
  {
   "cell_type": "code",
   "execution_count": 10,
   "id": "282e0264",
   "metadata": {},
   "outputs": [
    {
     "data": {
      "text/plain": [
       "[('employees',), ('worker',), ('worker1',), ('worker2',), ('workerclone',)]"
      ]
     },
     "execution_count": 10,
     "metadata": {},
     "output_type": "execute_result"
    }
   ],
   "source": [
    "cursor.fetchall()"
   ]
  },
  {
   "cell_type": "code",
   "execution_count": 11,
   "id": "c5be70c2",
   "metadata": {},
   "outputs": [],
   "source": [
    "cursor.execute('select * from mysqlassignment.Worker')"
   ]
  },
  {
   "cell_type": "code",
   "execution_count": 12,
   "id": "6bcf4e97",
   "metadata": {},
   "outputs": [
    {
     "data": {
      "text/plain": [
       "[(1,\n",
       "  'SubhashChandra',\n",
       "  'Bose',\n",
       "  800000,\n",
       "  datetime.date(2012, 1, 1),\n",
       "  'subhash@infinity.com',\n",
       "  'HR'),\n",
       " (2,\n",
       "  'Lalbahadur',\n",
       "  'Shastri',\n",
       "  700000,\n",
       "  datetime.date(2012, 2, 2),\n",
       "  'shastri@infinity.com',\n",
       "  'Admin'),\n",
       " (3,\n",
       "  'Vishal',\n",
       "  'Singhal',\n",
       "  300000,\n",
       "  datetime.date(2013, 1, 1),\n",
       "  'vishal@infinity.com',\n",
       "  'HR'),\n",
       " (4,\n",
       "  'Amitabh',\n",
       "  'Singh',\n",
       "  500000,\n",
       "  datetime.date(2013, 1, 1),\n",
       "  'amitabh@infinity.com',\n",
       "  'HR'),\n",
       " (5,\n",
       "  'Vivek',\n",
       "  'Bharati',\n",
       "  600000,\n",
       "  datetime.date(2013, 3, 2),\n",
       "  'vivek@infinity.com',\n",
       "  'Admin'),\n",
       " (6,\n",
       "  'Vipul',\n",
       "  'Thakur',\n",
       "  200000,\n",
       "  datetime.date(2015, 1, 1),\n",
       "  'vipul@infinity.com',\n",
       "  'Account'),\n",
       " (7,\n",
       "  'Satish',\n",
       "  'Kaushik',\n",
       "  300000,\n",
       "  datetime.date(2016, 1, 1),\n",
       "  'satish@infinity.com',\n",
       "  'HR'),\n",
       " (8,\n",
       "  'Sandhya',\n",
       "  'Mukherjee',\n",
       "  500000,\n",
       "  datetime.date(2016, 1, 1),\n",
       "  'sandhya@infinity.com',\n",
       "  'Account'),\n",
       " (1,\n",
       "  'SubhashChandra',\n",
       "  'Bose',\n",
       "  800000,\n",
       "  datetime.date(2012, 1, 1),\n",
       "  'subhash@infinity.com',\n",
       "  'HR'),\n",
       " (2,\n",
       "  'Lalbahadur',\n",
       "  'Shastri',\n",
       "  700000,\n",
       "  datetime.date(2012, 2, 2),\n",
       "  'shastri@infinity.com',\n",
       "  'Admin'),\n",
       " (3,\n",
       "  'Vishal',\n",
       "  'Singhal',\n",
       "  300000,\n",
       "  datetime.date(2013, 1, 1),\n",
       "  'vishal@infinity.com',\n",
       "  'HR'),\n",
       " (4,\n",
       "  'Amitabh',\n",
       "  'Singh',\n",
       "  500000,\n",
       "  datetime.date(2013, 1, 1),\n",
       "  'amitabh@infinity.com',\n",
       "  'HR'),\n",
       " (5,\n",
       "  'Vivek',\n",
       "  'Bharati',\n",
       "  600000,\n",
       "  datetime.date(2013, 3, 2),\n",
       "  'vivek@infinity.com',\n",
       "  'Admin'),\n",
       " (6,\n",
       "  'Vipul',\n",
       "  'Thakur',\n",
       "  200000,\n",
       "  datetime.date(2015, 1, 1),\n",
       "  'vipul@infinity.com',\n",
       "  'Account'),\n",
       " (7,\n",
       "  'Satish',\n",
       "  'Kaushik',\n",
       "  300000,\n",
       "  datetime.date(2016, 1, 1),\n",
       "  'satish@infinity.com',\n",
       "  'HR'),\n",
       " (8,\n",
       "  'Sandhya',\n",
       "  'Mukherjee',\n",
       "  500000,\n",
       "  datetime.date(2016, 1, 1),\n",
       "  'sandhya@infinity.com',\n",
       "  'Account'),\n",
       " (1,\n",
       "  'SubhashChandra',\n",
       "  'Bose',\n",
       "  800000,\n",
       "  datetime.date(2012, 1, 1),\n",
       "  'subhash@infinity.com',\n",
       "  'HR')]"
      ]
     },
     "execution_count": 12,
     "metadata": {},
     "output_type": "execute_result"
    }
   ],
   "source": [
    "cursor.fetchall()"
   ]
  },
  {
   "cell_type": "code",
   "execution_count": 13,
   "id": "61f2ab45",
   "metadata": {},
   "outputs": [],
   "source": [
    "# Q-17. Write an SQL query to show the top n (say 10) records of a table.\n",
    "\n",
    "cursor.execute('select * from Worker order by SALARY DESC limit 10')"
   ]
  },
  {
   "cell_type": "code",
   "execution_count": 14,
   "id": "f2d2a120",
   "metadata": {},
   "outputs": [
    {
     "data": {
      "text/plain": [
       "[(1,\n",
       "  'SubhashChandra',\n",
       "  'Bose',\n",
       "  800000,\n",
       "  datetime.date(2012, 1, 1),\n",
       "  'subhash@infinity.com',\n",
       "  'HR'),\n",
       " (1,\n",
       "  'SubhashChandra',\n",
       "  'Bose',\n",
       "  800000,\n",
       "  datetime.date(2012, 1, 1),\n",
       "  'subhash@infinity.com',\n",
       "  'HR'),\n",
       " (1,\n",
       "  'SubhashChandra',\n",
       "  'Bose',\n",
       "  800000,\n",
       "  datetime.date(2012, 1, 1),\n",
       "  'subhash@infinity.com',\n",
       "  'HR'),\n",
       " (2,\n",
       "  'Lalbahadur',\n",
       "  'Shastri',\n",
       "  700000,\n",
       "  datetime.date(2012, 2, 2),\n",
       "  'shastri@infinity.com',\n",
       "  'Admin'),\n",
       " (2,\n",
       "  'Lalbahadur',\n",
       "  'Shastri',\n",
       "  700000,\n",
       "  datetime.date(2012, 2, 2),\n",
       "  'shastri@infinity.com',\n",
       "  'Admin'),\n",
       " (5,\n",
       "  'Vivek',\n",
       "  'Bharati',\n",
       "  600000,\n",
       "  datetime.date(2013, 3, 2),\n",
       "  'vivek@infinity.com',\n",
       "  'Admin'),\n",
       " (5,\n",
       "  'Vivek',\n",
       "  'Bharati',\n",
       "  600000,\n",
       "  datetime.date(2013, 3, 2),\n",
       "  'vivek@infinity.com',\n",
       "  'Admin'),\n",
       " (4,\n",
       "  'Amitabh',\n",
       "  'Singh',\n",
       "  500000,\n",
       "  datetime.date(2013, 1, 1),\n",
       "  'amitabh@infinity.com',\n",
       "  'HR'),\n",
       " (8,\n",
       "  'Sandhya',\n",
       "  'Mukherjee',\n",
       "  500000,\n",
       "  datetime.date(2016, 1, 1),\n",
       "  'sandhya@infinity.com',\n",
       "  'Account'),\n",
       " (4,\n",
       "  'Amitabh',\n",
       "  'Singh',\n",
       "  500000,\n",
       "  datetime.date(2013, 1, 1),\n",
       "  'amitabh@infinity.com',\n",
       "  'HR')]"
      ]
     },
     "execution_count": 14,
     "metadata": {},
     "output_type": "execute_result"
    }
   ],
   "source": [
    "cursor.fetchall()"
   ]
  },
  {
   "cell_type": "code",
   "execution_count": 24,
   "id": "506519e9",
   "metadata": {},
   "outputs": [],
   "source": [
    "# Q-18. Write an SQL query to determine the nth (say n=5) highest salary from a table.\n",
    "cursor.execute('select SALARY from Worker order by SALARY desc limit 4,1')\n",
    "\n"
   ]
  },
  {
   "cell_type": "code",
   "execution_count": 25,
   "id": "e6e0a20b",
   "metadata": {},
   "outputs": [
    {
     "data": {
      "text/plain": [
       "[(700000,)]"
      ]
     },
     "execution_count": 25,
     "metadata": {},
     "output_type": "execute_result"
    }
   ],
   "source": [
    "cursor.fetchall()"
   ]
  }
 ],
 "metadata": {
  "kernelspec": {
   "display_name": "Python 3 (ipykernel)",
   "language": "python",
   "name": "python3"
  },
  "language_info": {
   "codemirror_mode": {
    "name": "ipython",
    "version": 3
   },
   "file_extension": ".py",
   "mimetype": "text/x-python",
   "name": "python",
   "nbconvert_exporter": "python",
   "pygments_lexer": "ipython3",
   "version": "3.9.7"
  }
 },
 "nbformat": 4,
 "nbformat_minor": 5
}
