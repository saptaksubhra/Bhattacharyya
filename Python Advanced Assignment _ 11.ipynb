{
 "cells": [
  {
   "cell_type": "markdown",
   "id": "9ac2a1bc",
   "metadata": {},
   "source": [
    "Q1. What is the concept of a metaclass?\n",
    "\n",
    "In Python, a metaclass is a class of a class which depicts the behaviour of the class. A class itself is an instance of a metaclass. A class in Python defines how the instance of the class will behave. In Python, we can customize the class creation process by passing the metaclass keyword in the class definition. This can also be done by inheriting a class that has already passed in this keyword.\n",
    "\n",
    " Now, let us see how we can customise our own metaclassess through the below example."
   ]
  },
  {
   "cell_type": "code",
   "execution_count": 1,
   "id": "8f8cfd97",
   "metadata": {},
   "outputs": [
    {
     "name": "stdout",
     "output_type": "stream",
     "text": [
      "<class 'type'>\n",
      "<class '__main__.MyMeta'>\n",
      "<class '__main__.MyMeta'>\n"
     ]
    }
   ],
   "source": [
    "try:\n",
    "    class MyMeta(type):\n",
    "        pass\n",
    "    class MyClass(metaclass = MyMeta):\n",
    "        pass\n",
    "    class MySubClass(MyClass):\n",
    "        pass\n",
    "    print(type(MyMeta))\n",
    "    print(type(MyClass))\n",
    "    print(type(MySubClass))\n",
    "except:\n",
    "    print(\"Customised MetaClass\")"
   ]
  },
  {
   "cell_type": "markdown",
   "id": "178bd6b5",
   "metadata": {},
   "source": [
    "We can see from the above example that the type of class My Meta is type and type of MyClass and MySubClass is MyMeta. When we are goiing to define a class and no metaclass is defined the the defualt metaclass type will be used. If a metaclass is given and  it is not an instance of type() then it is utilised directly as metaclass."
   ]
  },
  {
   "cell_type": "markdown",
   "id": "9a089752",
   "metadata": {},
   "source": [
    "Q2. What is the best way to declare a class's metaclass?\n",
    "\n",
    "The best way to declare a class's metclass is by creating custom metaclasses. The following methods can be implemented in terms of creating custom metclasses in Python."
   ]
  },
  {
   "cell_type": "code",
   "execution_count": 2,
   "id": "552e91e6",
   "metadata": {},
   "outputs": [
    {
     "name": "stdout",
     "output_type": "stream",
     "text": [
      "<class 'type'>\n",
      "<class '__main__.MyMeta'>\n",
      "<class '__main__.MyMeta'>\n"
     ]
    }
   ],
   "source": [
    "# By using metaclass keyword\n",
    "\n",
    "try:\n",
    "    class MyMeta(type):\n",
    "        pass\n",
    "    class MyClass(metaclass = MyMeta):\n",
    "        pass\n",
    "    class MySubClass(MyClass):\n",
    "        pass\n",
    "    print(type(MyMeta))\n",
    "    print(type(MyClass))\n",
    "    print(type(MySubClass))\n",
    "except:\n",
    "    print(\"Customised MetaClass\")\n"
   ]
  },
  {
   "cell_type": "markdown",
   "id": "efdc82f5",
   "metadata": {},
   "source": [
    "In Python, we can customize the class creation process by passing the metaclass keyword in the class definition. This can also be done by inheriting a class that has already passed in this keyword. We can see from the above example that the type of class My Meta is type and type of MyClass and MySubClass is MyMeta. When we are goiing to define a class and no metaclass is defined the the defualt metaclass type will be used. If a metaclass is given and  it is not an instance of type() then it is utilised directly as metaclass."
   ]
  },
  {
   "cell_type": "markdown",
   "id": "406e21fe",
   "metadata": {},
   "source": [
    "Another way to customise metclasses is by __new__ and __init__method"
   ]
  },
  {
   "cell_type": "code",
   "execution_count": 3,
   "id": "c7929e04",
   "metadata": {},
   "outputs": [],
   "source": [
    "try:\n",
    "    class meta1(type):\n",
    "        def __new__(cl, name, bases,dictionary):\n",
    "            pass\n",
    "    class meta2(type):\n",
    "        def __init__(po, name, bases, dictionary):\n",
    "            pass\n",
    "except:\n",
    "    print('customising metaclass')"
   ]
  },
  {
   "cell_type": "markdown",
   "id": "fbbb2ac1",
   "metadata": {},
   "source": [
    "__new__ method is used when we need to define dict or bases tuplesbefore the class is created.The return the new value of __new__ is an instance of cl.__new__ allows subclasses of immutable types to customize instance creation. It can be overridden in custom metaclasses to customize class creation. __init__ is usually called after the object has been created so as to initialize it."
   ]
  },
  {
   "cell_type": "markdown",
   "id": "1d4e3ecb",
   "metadata": {},
   "source": [
    "Q3. How do class decorators overlap with metaclasses for handling classes?\n",
    "\n",
    "Decorators are simpler and more limited and should be preferred whwnever the desired outcome can be achieved with either a metaclass or a class decorator. We can do anything or any operation with a class decorator as well as with custome metaclass by just implementing the functionality of the decorator function. There are many things we can do in a custom metaclass but not in a decorator unless the decorator internally generates and applies a custom metaclass. But that is not the proper way. The usage of metaclass affects its children class while the decorator affects only the current class."
   ]
  },
  {
   "cell_type": "code",
   "execution_count": 7,
   "id": "b257c1d1",
   "metadata": {},
   "outputs": [
    {
     "name": "stdout",
     "output_type": "stream",
     "text": [
      "43\n"
     ]
    }
   ],
   "source": [
    "# Example of class decorators overlap with metaclasses for handling classes\n",
    "\n",
    "try:\n",
    "    def decocls(cls):\n",
    "        cls.fun1 = lambda self: 36\n",
    "        \n",
    "        return cls\n",
    "\n",
    "\n",
    "    @decocls\n",
    "    class Cls1:\n",
    "        pass\n",
    "\n",
    "\n",
    "    class Cls1_1(Cls1):\n",
    "        def fun1(self):\n",
    "            return 43\n",
    "\n",
    "\n",
    "    obj1_1 = Cls1_1()\n",
    "    print(obj1_1.fun1())\n",
    "except:\n",
    "    print('exception handling')"
   ]
  },
  {
   "cell_type": "code",
   "execution_count": 10,
   "id": "8be73f63",
   "metadata": {},
   "outputs": [],
   "source": [
    "#Q4. How do class decorators overlap with metaclasses for handling instances?\n",
    "\n",
    "try:\n",
    "    class FilterClass(type):\n",
    "        \n",
    "        @classmethod\n",
    "        def __prepare__(name, bases, **kwds):\n",
    "            \n",
    "            return collections.OrderedDict()\n",
    "\n",
    "    def __new__(metacls, name, bases, namespace, **kwds):\n",
    "        result = type.__new__(metacls, name, bases, dict(namespace))\n",
    "        result._filters = [\n",
    "            value for value in namespace.values() if hasattr(value, '_filter')]\n",
    "        return result\n",
    "except:\n",
    "    print('exception handling')\n"
   ]
  },
  {
   "cell_type": "markdown",
   "id": "2586c762",
   "metadata": {},
   "source": [
    "In the above example,  we want to define in our metaclass is __new__. Just like happens for the instantiation of classes, this method is invoked by Python to get a new instance of the metaclass, and is run before __init__. Its signature has to be __new__(metacls, name, bases, namespace, **kwds) and the result shall be an instance of the metaclass. As for its normal class counterpart (after all a metaclass is a class), __new__() usually wraps the same method of the parent class, type in this case, adding its own customizations."
   ]
  }
 ],
 "metadata": {
  "kernelspec": {
   "display_name": "Python 3 (ipykernel)",
   "language": "python",
   "name": "python3"
  },
  "language_info": {
   "codemirror_mode": {
    "name": "ipython",
    "version": 3
   },
   "file_extension": ".py",
   "mimetype": "text/x-python",
   "name": "python",
   "nbconvert_exporter": "python",
   "pygments_lexer": "ipython3",
   "version": "3.9.7"
  }
 },
 "nbformat": 4,
 "nbformat_minor": 5
}
