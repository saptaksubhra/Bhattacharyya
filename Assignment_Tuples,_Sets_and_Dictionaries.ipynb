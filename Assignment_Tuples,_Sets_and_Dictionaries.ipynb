{
  "nbformat": 4,
  "nbformat_minor": 0,
  "metadata": {
    "kernelspec": {
      "display_name": "Python 3",
      "language": "python",
      "name": "python3"
    },
    "language_info": {
      "codemirror_mode": {
        "name": "ipython",
        "version": 3
      },
      "file_extension": ".py",
      "mimetype": "text/x-python",
      "name": "python",
      "nbconvert_exporter": "python",
      "pygments_lexer": "ipython3",
      "version": "3.7.4"
    },
    "colab": {
      "name": "Assignment - Tuples, Sets and Dictionaries.ipynb",
      "provenance": [],
      "collapsed_sections": [],
      "include_colab_link": true
    }
  },
  "cells": [
    {
      "cell_type": "markdown",
      "metadata": {
        "id": "view-in-github",
        "colab_type": "text"
      },
      "source": [
        "<a href=\"https://colab.research.google.com/github/saptaksubhra/Bhattacharyya/blob/main/Assignment_Tuples%2C_Sets_and_Dictionaries.ipynb\" target=\"_parent\"><img src=\"https://colab.research.google.com/assets/colab-badge.svg\" alt=\"Open In Colab\"/></a>"
      ]
    },
    {
      "cell_type": "markdown",
      "metadata": {
        "id": "8WbUJEVzs8Bx"
      },
      "source": [
        "## <u>While doing this assignment only use those concepts which have been taught till now</u>"
      ]
    },
    {
      "cell_type": "markdown",
      "metadata": {
        "id": "KjPWYK0Rs8By"
      },
      "source": [
        "## <u>Problem 1</u>\n",
        "\n",
        "### Another measure of average\n",
        "\n",
        "* Mode is defined as the value that appears most often in a set of data values. Mode corresponds to the most frequent value.\n",
        "* You are given a list of numbers and you need to calculate the mode of this list"
      ]
    },
    {
      "cell_type": "code",
      "metadata": {
        "id": "34TbaGurs8Bz"
      },
      "source": [
        "# A list containing average daily temperature over 10 days\n",
        "temperatures = [34, 40, 29, 33, 42, 40, 39, 34, 34,33 ]"
      ],
      "execution_count": 2,
      "outputs": []
    },
    {
      "cell_type": "code",
      "metadata": {
        "id": "N1Yhpkiws8B3"
      },
      "source": [
        "# Step 1 : Find the unique set of values. Store this in a list\n",
        "unique_temperatures = set(temperatures)\n",
        "ut = list(unique_temperatures)"
      ],
      "execution_count": 15,
      "outputs": []
    },
    {
      "cell_type": "code",
      "metadata": {
        "id": "KpMdlB5Fs8B8",
        "outputId": "f6127ffe-14e9-4bc6-b794-bbcbe7eebec3",
        "colab": {
          "base_uri": "https://localhost:8080/"
        }
      },
      "source": [
        "# Print the unique temperature list\n",
        "ut\n"
      ],
      "execution_count": 16,
      "outputs": [
        {
          "output_type": "execute_result",
          "data": {
            "text/plain": [
              "[33, 34, 39, 40, 42, 29]"
            ]
          },
          "metadata": {},
          "execution_count": 16
        }
      ]
    },
    {
      "cell_type": "code",
      "metadata": {
        "id": "J7CyJi_Ls8B_"
      },
      "source": [
        "# Step 2 : Create an empty dictionary which will contain the unique temperatures as keys and their counts in the original temperatures list as values\n",
        "temp_dict = {}\n",
        "\n",
        "# Set the values for each key separately\n",
        "# First key\n",
        "\n",
        "temp_dict = {ut[0]:temperatures.count(ut[0])}\n",
        "\n",
        "# Second key\n",
        "\n",
        "temp_dict.update({ut[1]:temperatures.count(ut[1])})\n",
        "\n",
        "# Third key\n",
        "\n",
        "temp_dict.update({ut[2]:temperatures.count(ut[2])})\n",
        "\n",
        "\n",
        "# Fourth key\n",
        "\n",
        "temp_dict.update({ut[3]:temperatures.count(ut[3])})\n",
        "\n",
        "\n",
        "\n",
        "# Fifth key\n",
        "\n",
        "temp_dict.update({ut[4]:temperatures.count(ut[4])})\n",
        "\n",
        "\n",
        "# Sixth key\n",
        "temp_dict.update({ut[5]:temperatures.count(ut[5])})\n"
      ],
      "execution_count": 19,
      "outputs": []
    },
    {
      "cell_type": "code",
      "source": [
        "temp_dict"
      ],
      "metadata": {
        "id": "dD0cRoz89WFB",
        "outputId": "8fa44ba8-a2ab-4d07-a65e-8a906202be6d",
        "colab": {
          "base_uri": "https://localhost:8080/"
        }
      },
      "execution_count": 20,
      "outputs": [
        {
          "output_type": "execute_result",
          "data": {
            "text/plain": [
              "{29: 1, 33: 2, 34: 3, 39: 1, 40: 2, 42: 1}"
            ]
          },
          "metadata": {},
          "execution_count": 20
        }
      ]
    },
    {
      "cell_type": "code",
      "metadata": {
        "id": "4-ZxbmMxtWfQ",
        "outputId": "679b61a5-c52b-48db-a195-df5bf54d0cd7",
        "colab": {
          "base_uri": "https://localhost:8080/"
        }
      },
      "source": [
        "# Step 3: Store the dictionary values in a list\n",
        "temp_dict_frequencies = list(temp_dict.values())\n",
        "\n",
        "# Print the list of dictionary values\n",
        "print(temp_dict_frequencies)\n",
        "\n",
        "# Find the index of the most frequent temperature value\n",
        "\n",
        "maximum_count = max(temp_dict_frequencies)\n",
        "most_frequent_temp_index = temp_dict_frequencies.index(maximum_count)\n",
        "\n",
        "# Print the index\n",
        "\n",
        "print(most_frequent_temp_index)\n"
      ],
      "execution_count": 22,
      "outputs": [
        {
          "output_type": "stream",
          "name": "stdout",
          "text": [
            "[2, 3, 1, 2, 1, 1]\n",
            "1\n"
          ]
        }
      ]
    },
    {
      "cell_type": "code",
      "metadata": {
        "id": "riu9mZhcwBY6",
        "outputId": "0c75e50c-68a6-42c9-ac94-d012142352ab",
        "colab": {
          "base_uri": "https://localhost:8080/"
        }
      },
      "source": [
        "# Step 4 : Create the list of dictionary keys\n",
        "temp_dict_keys = list(temp_dict.keys())\n",
        "\n",
        "# Print the list of dictionary keys\n",
        "\n",
        "print(temp_dict_keys)\n",
        "\n",
        "\n",
        "# Calculate the mode temperature\n",
        "mode_temp = temp_dict_keys[most_frequent_temp_index]\n",
        "\n",
        "print(mode_temp)"
      ],
      "execution_count": 24,
      "outputs": [
        {
          "output_type": "stream",
          "name": "stdout",
          "text": [
            "[33, 34, 39, 40, 42, 29]\n",
            "34\n"
          ]
        }
      ]
    },
    {
      "cell_type": "markdown",
      "metadata": {
        "id": "5qd8g8UUs8CM"
      },
      "source": [
        "## <u>Problem 2 </u>\n",
        "\n",
        "### Challenging the immutability of tuples\n",
        "\n",
        "You are given a list of tuples. You need to replace the last element of the last tuple"
      ]
    },
    {
      "cell_type": "code",
      "metadata": {
        "id": "FBJy9Sq_s8CN"
      },
      "source": [
        "# Input list of tuples\n",
        "\n",
        "list_of_tuples = [(10,20,30),(30,40,50),(50,60,70)]\n",
        "\n",
        "\n",
        "# Expected output : Replace the last element 70 with 100\n",
        "# output_list = [(10,20,30),(30,40,50),(50,60,100)]"
      ],
      "execution_count": 26,
      "outputs": []
    },
    {
      "cell_type": "code",
      "metadata": {
        "id": "UNtYax1as8CR",
        "outputId": "80d0285c-80a4-4bfe-cbd1-8efc23b3e22e",
        "colab": {
          "base_uri": "https://localhost:8080/"
        }
      },
      "source": [
        "# Your code here \n",
        "\n",
        "tup = list_of_tuples[:-1] + [list_of_tuples[2][:-1] + (100,)]\n",
        "\n",
        "\n",
        "\n",
        "# Print the output list\n",
        "print(tup)"
      ],
      "execution_count": 27,
      "outputs": [
        {
          "output_type": "stream",
          "name": "stdout",
          "text": [
            "[(10, 20, 30), (30, 40, 50), (50, 60, 100)]\n"
          ]
        }
      ]
    },
    {
      "cell_type": "markdown",
      "metadata": {
        "id": "ejRCi-vTs8CU"
      },
      "source": [
        "## <u> Problem 3 </u>\n",
        "\n",
        "Natural Language Processing or NLP is one of the most promising fields in Machine Learning. Most of the times in NLP we deal with the textual data (a bunch of strings). Sometimes when we are processing the text, it is a common practice to get rid of some set of stop words from our original text. By default stop words are very common words used in English language such as and, or, punctuations etc.\n",
        "\n",
        "In this exercise, you are provided with a default set of stop words and you need to add some extra set of custom words."
      ]
    },
    {
      "cell_type": "code",
      "metadata": {
        "id": "C5olNuDGs8CU",
        "outputId": "2b5c8887-ab0b-413f-da78-a849cfdb9152",
        "colab": {
          "base_uri": "https://localhost:8080/"
        }
      },
      "source": [
        "# A sample sentence \n",
        "\n",
        "sentence = 'Hello, good morning folks! Today we will announce the half yearly performance results of the company. Due to the ongoing COVID-19 pandemic, our profits have declined by 60% as compared to the last half yearly results'\n",
        "\n",
        "# Print your sentence\n",
        "\n",
        "print(sentence)\n"
      ],
      "execution_count": 35,
      "outputs": [
        {
          "output_type": "stream",
          "name": "stdout",
          "text": [
            "Hello, good morning folks! Today we will announce the half yearly performance results of the company. Due to the ongoing COVID-19 pandemic, our profits have declined by 60% as compared to the last half yearly results\n"
          ]
        }
      ]
    },
    {
      "cell_type": "code",
      "metadata": {
        "id": "B4afm8gCs8CY"
      },
      "source": [
        "# Default set of stop words \n",
        "stop_words = {\"i\", \"me\", \"my\", \"myself\", \"we\", \"our\", \"ours\", \"ourselves\", \"you\", \"your\", \"yours\", \"yourself\", \n",
        "              \"yourselves\", \"he\", \"him\", \"his\", \"himself\", \"she\", \"her\", \"hers\", \"herself\", \"it\", \"its\", \"itself\",\n",
        "              \"they\", \"them\", \"their\", \"theirs\", \"themselves\", \"what\", \"which\", \"who\", \"whom\", \"this\", \"that\",\n",
        "              \"these\", \"those\", \"am\", \"is\", \"are\", \"was\", \"were\", \"be\", \"been\", \"being\", \"have\", \"has\", \"had\",\n",
        "              \"having\", \"do\", \"does\", \"did\", \"doing\", \"a\", \"an\", \"the\", \"and\", \"but\", \"if\", \"or\", \"because\",\n",
        "              \"as\", \"until\", \"while\", \"of\", \"at\", \"by\", \"for\", \"with\", \"about\", \"against\", \"between\", \"into\",\n",
        "              \"through\", \"during\", \"before\", \"after\", \"above\", \"below\", \"to\", \"from\", \"up\", \"down\", \"in\", \"out\", \n",
        "              \"on\", \"off\", \"over\", \"under\", \"again\", \"further\", \"then\", \"once\", \"here\", \"there\", \"when\", \"where\",\n",
        "              \"why\", \"how\", \"all\", \"any\", \"both\", \"each\", \"few\", \"more\", \"most\", \"other\", \"some\", \"such\", \"no\",\n",
        "              \"nor\", \"not\", \"only\", \"own\", \"same\", \"so\", \"than\", \"too\", \"very\", \"s\", \"t\", \"can\", \"will\", \"just\",\n",
        "              \"don\", \"should\", \"now\"}\n"
      ],
      "execution_count": 36,
      "outputs": []
    },
    {
      "cell_type": "code",
      "metadata": {
        "id": "evgHHnRks8Cc",
        "outputId": "a22d8b7b-9d8a-4a84-b393-bc389ceab8f9",
        "colab": {
          "base_uri": "https://localhost:8080/"
        }
      },
      "source": [
        "# Update the set of stop words by adding the custom stop words\n",
        "custom_stop_words = [\"hello\",\"good\",\"morning\",\"half\",\"yearly\"]\n",
        "\n",
        "# Your code here\n",
        "stop_words.update(custom_stop_words)\n",
        "\n",
        "\n",
        "# Print the updated stop words\n",
        "\n",
        "print(stop_words)\n",
        "\n",
        "\n"
      ],
      "execution_count": 40,
      "outputs": [
        {
          "output_type": "stream",
          "name": "stdout",
          "text": [
            "{'too', 'ourselves', 'any', 'from', 'itself', 'against', 'further', 'on', 'again', 'more', 'their', 'how', 'and', 'nor', 'up', 'all', 'where', 'through', 'above', 'being', 'if', 'over', 'hello', 'some', 'what', 'here', 'himself', 'when', 'yourself', 'its', 'am', 'they', 'these', 'had', 'do', 'each', 'now', 'she', 'the', 'morning', 'why', 'have', 'a', 'don', 'yours', 'few', 'with', 'were', 'just', 'his', 'an', 'off', 'or', 'he', 'into', 'myself', 'below', 'such', 'good', 'that', 'before', 'there', 'your', 'no', 'we', 'themselves', 'so', 'herself', 'who', 'down', 'which', 'did', 'other', 'of', 'those', 'doing', 'was', 'this', 't', 'between', 'only', 'theirs', 'having', 'them', 'in', 'then', 'i', 'same', 'you', 'about', 'yearly', 'until', 'most', 'out', 'during', 'after', 'should', 'my', 'me', 'once', 'both', 'will', 'be', 'him', 'half', 'can', 'yourselves', 'because', 'are', 'ours', 'while', 'hers', 'her', 'it', 'whom', 'is', 'for', 'at', 'own', 'has', 's', 'as', 'but', 'under', 'by', 'not', 'very', 'our', 'been', 'to', 'than', 'does'}\n"
          ]
        }
      ]
    },
    {
      "cell_type": "code",
      "metadata": {
        "id": "1QbZrotrtIE3",
        "outputId": "513b2dfd-306a-41e5-9dce-ecf3dca36eeb",
        "colab": {
          "base_uri": "https://localhost:8080/"
        }
      },
      "source": [
        "# Do the same task another way. Keep in mind to use the original set of stop_words for this piece of code\n",
        "\n",
        "updated_stop_words = list(stop_words) + custom_stop_words\n",
        "\n",
        "# Print the updated stop words\n",
        "\n",
        "print(set(updated_stop_words))\n"
      ],
      "execution_count": 42,
      "outputs": [
        {
          "output_type": "stream",
          "name": "stdout",
          "text": [
            "{'too', 'ourselves', 'any', 'from', 'itself', 'against', 'further', 'on', 'again', 'more', 'their', 'how', 'and', 'nor', 'up', 'all', 'where', 'through', 'above', 'being', 'if', 'over', 'hello', 'some', 'what', 'here', 'himself', 'when', 'yourself', 'its', 'now', 'am', 'they', 'these', 'had', 'do', 'each', 'she', 'the', 'morning', 'why', 'have', 'a', 'don', 'yours', 'few', 'with', 'were', 'just', 'his', 'an', 'off', 'or', 'he', 'into', 'myself', 'below', 'such', 'good', 'that', 'before', 'there', 'your', 'no', 'we', 'themselves', 'so', 'herself', 'who', 'down', 'which', 'did', 'other', 'of', 'those', 'doing', 'was', 'this', 't', 'between', 'only', 'theirs', 'having', 'them', 'in', 'then', 'i', 'same', 'you', 'about', 'yearly', 'until', 'most', 'out', 'during', 'after', 'should', 'my', 'me', 'once', 'both', 'will', 'be', 'him', 'half', 'can', 'yourselves', 'because', 'are', 'ours', 'while', 'hers', 'her', 'it', 'whom', 'is', 'for', 'at', 'own', 'has', 's', 'as', 'but', 'under', 'by', 'not', 'very', 'our', 'been', 'to', 'than', 'does'}\n"
          ]
        }
      ]
    },
    {
      "cell_type": "markdown",
      "metadata": {
        "id": "P1rOYC8Is8Cf"
      },
      "source": [
        "## <u>Problem 4</u>\n",
        "\n",
        " Write a Python script to check whether a given key already exists in a dictionary. If it does, drop that key from the dictionary. If it does not, add that key and corresponding value to the dictionary"
      ]
    },
    {
      "cell_type": "code",
      "metadata": {
        "id": "ySeGyCtCs8Cg"
      },
      "source": [
        "# Your dictionary\n",
        "employee_dict = {'Name':'Sanket','Skills':['Python','Machine Learning','Deep Learning'],'Band':6.0,\n",
        "                 'Promotion Year':[2016,2018,2020]}"
      ],
      "execution_count": 63,
      "outputs": []
    },
    {
      "cell_type": "code",
      "metadata": {
        "id": "MI7mOHaqs8Cj",
        "outputId": "0c9adc1e-d26b-4825-e6f3-b371b1702ec6",
        "colab": {
          "base_uri": "https://localhost:8080/"
        }
      },
      "source": [
        "# Check if the key 'Employee_ID' is present in the dictionary. Hint : use a boolean variable to store this value\n",
        "\n",
        "'Employee_ID' in  employee_dict\n",
        "\n",
        "\n",
        "# If not present add this key to this dictionary and the corresponding value to be 4503233\n",
        "\n",
        "employee_dict.update({'Employee_ID' : 4503233})\n",
        "\n",
        "employee_dict\n"
      ],
      "execution_count": 64,
      "outputs": [
        {
          "output_type": "execute_result",
          "data": {
            "text/plain": [
              "{'Band': 6.0,\n",
              " 'Employee_ID': 4503233,\n",
              " 'Name': 'Sanket',\n",
              " 'Promotion Year': [2016, 2018, 2020],\n",
              " 'Skills': ['Python', 'Machine Learning', 'Deep Learning']}"
            ]
          },
          "metadata": {},
          "execution_count": 64
        }
      ]
    },
    {
      "cell_type": "code",
      "metadata": {
        "id": "ARPbZfY8s8Co",
        "outputId": "463fc858-6051-4e3c-b171-65b8e530693b",
        "colab": {
          "base_uri": "https://localhost:8080/"
        }
      },
      "source": [
        "# Check if the key 'Band' is present in the dictionary.\n",
        "\n",
        "'Band' in employee_dict\n",
        "\n",
        "\n",
        "\n"
      ],
      "execution_count": 65,
      "outputs": [
        {
          "output_type": "execute_result",
          "data": {
            "text/plain": [
              "True"
            ]
          },
          "metadata": {},
          "execution_count": 65
        }
      ]
    },
    {
      "cell_type": "code",
      "source": [
        "# If present, drop this key from the dictionary\n",
        "\n",
        "employee_dict.pop('Band')"
      ],
      "metadata": {
        "id": "FrA6-pRyfQKv",
        "outputId": "19490222-85a9-49ee-d294-d8ee5a6fcfc6",
        "colab": {
          "base_uri": "https://localhost:8080/"
        }
      },
      "execution_count": 66,
      "outputs": [
        {
          "output_type": "execute_result",
          "data": {
            "text/plain": [
              "6.0"
            ]
          },
          "metadata": {},
          "execution_count": 66
        }
      ]
    },
    {
      "cell_type": "code",
      "metadata": {
        "id": "lUDbbyXmulzh",
        "outputId": "23ee9a6a-a6ff-43bd-aca7-b33ec5e3b168",
        "colab": {
          "base_uri": "https://localhost:8080/"
        }
      },
      "source": [
        "# Print the updated dictionary\n",
        "employee_dict"
      ],
      "execution_count": 67,
      "outputs": [
        {
          "output_type": "execute_result",
          "data": {
            "text/plain": [
              "{'Employee_ID': 4503233,\n",
              " 'Name': 'Sanket',\n",
              " 'Promotion Year': [2016, 2018, 2020],\n",
              " 'Skills': ['Python', 'Machine Learning', 'Deep Learning']}"
            ]
          },
          "metadata": {},
          "execution_count": 67
        }
      ]
    },
    {
      "cell_type": "code",
      "source": [
        ""
      ],
      "metadata": {
        "id": "sjb8mygpfJcO"
      },
      "execution_count": null,
      "outputs": []
    }
  ]
}