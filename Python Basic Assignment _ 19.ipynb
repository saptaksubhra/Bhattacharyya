{
 "cells": [
  {
   "cell_type": "code",
   "execution_count": 22,
   "id": "87d80b51",
   "metadata": {},
   "outputs": [
    {
     "name": "stdout",
     "output_type": "stream",
     "text": [
      "<class '__main__.Thing'>\n"
     ]
    }
   ],
   "source": [
    "# 1. Make a class called Thing with no contents and print it. Then, create an object called example\n",
    "# from this class and also print it. Are the printed values the same or different?\n",
    "\n",
    "try:\n",
    "    class Thing:\n",
    "        pass\n",
    "        \n",
    "    print(Thing)\n",
    "        \n",
    "        \n",
    "except:\n",
    "    print(\"None\")"
   ]
  },
  {
   "cell_type": "code",
   "execution_count": 27,
   "id": "ef2c2719",
   "metadata": {},
   "outputs": [
    {
     "name": "stdout",
     "output_type": "stream",
     "text": [
      "<__main__.Thing object at 0x000001C949BC1FD0>\n"
     ]
    }
   ],
   "source": [
    "try:\n",
    "      class Thing:\n",
    "            example = Thing()\n",
    "            print(example)\n",
    "except:\n",
    "    print(\"None\")"
   ]
  },
  {
   "cell_type": "markdown",
   "id": "fe16f995",
   "metadata": {},
   "source": [
    "The printed values are not the same."
   ]
  },
  {
   "cell_type": "code",
   "execution_count": 1,
   "id": "50777606",
   "metadata": {},
   "outputs": [
    {
     "name": "stdout",
     "output_type": "stream",
     "text": [
      "abc\n"
     ]
    }
   ],
   "source": [
    "# 2. Create a new class called Thing2 and add the value 'abc' to the letters class attribute. Letters\n",
    "# should be printed.\n",
    "\n",
    "try:\n",
    "    class Thing2:\n",
    "        Letters = 'abc'\n",
    "    print(Thing2.Letters)\n",
    "except:\n",
    "    print(\"exception handling\")\n",
    "        "
   ]
  },
  {
   "cell_type": "code",
   "execution_count": 10,
   "id": "d99366ac",
   "metadata": {},
   "outputs": [],
   "source": [
    "# 3. Make yet another class called, of course, Thing3. This time, assign the value 'xyz' to an instance\n",
    "# (object) attribute called letters. Print letters. Do you need to make an object from the class to do this?\n",
    "\n",
    "try:\n",
    "    class Thing3:\n",
    "        def __init__(sap):\n",
    "            sap.letters = 'xyz'\n",
    "except:\n",
    "    print(\"Exception Handling\")"
   ]
  },
  {
   "cell_type": "markdown",
   "id": "679ef426",
   "metadata": {},
   "source": [
    "The variable letters belongs to any object made from class Thing3 and not the class Thing3  itself."
   ]
  },
  {
   "cell_type": "code",
   "execution_count": 11,
   "id": "dfe05b80",
   "metadata": {},
   "outputs": [
    {
     "ename": "AttributeError",
     "evalue": "type object 'Thing3' has no attribute 'letters'",
     "output_type": "error",
     "traceback": [
      "\u001b[1;31m---------------------------------------------------------------------------\u001b[0m",
      "\u001b[1;31mAttributeError\u001b[0m                            Traceback (most recent call last)",
      "\u001b[1;32m~\\AppData\\Local\\Temp/ipykernel_8016/3268624487.py\u001b[0m in \u001b[0;36m<module>\u001b[1;34m\u001b[0m\n\u001b[1;32m----> 1\u001b[1;33m \u001b[0mprint\u001b[0m\u001b[1;33m(\u001b[0m\u001b[0mThing3\u001b[0m\u001b[1;33m.\u001b[0m\u001b[0mletters\u001b[0m\u001b[1;33m)\u001b[0m\u001b[1;33m\u001b[0m\u001b[1;33m\u001b[0m\u001b[0m\n\u001b[0m",
      "\u001b[1;31mAttributeError\u001b[0m: type object 'Thing3' has no attribute 'letters'"
     ]
    }
   ],
   "source": [
    "print(Thing3.letters)"
   ]
  },
  {
   "cell_type": "code",
   "execution_count": 4,
   "id": "609f6e31",
   "metadata": {},
   "outputs": [
    {
     "name": "stdout",
     "output_type": "stream",
     "text": [
      "xyz\n"
     ]
    }
   ],
   "source": [
    "var = Thing3()\n",
    "print(var.letters)"
   ]
  },
  {
   "cell_type": "code",
   "execution_count": 4,
   "id": "a6f6b53c",
   "metadata": {},
   "outputs": [],
   "source": [
    "# 4. Create an Element class with the instance attributes name, symbol, and number. Create a class\n",
    "# object with the values 'Hydrogen', 'H', and 1.\n",
    "\n",
    "try:\n",
    "    class Element:\n",
    "        def __init__(lamborghini, name, symbol, number):\n",
    "            lamborghini.name = name\n",
    "            lamborghini.symbol = symbol\n",
    "            lamborghini.number = number\n",
    "    Hydrophobia = Element(\"Hydrogen\", \"H\", 1)\n",
    "except:\n",
    "    print(\"Print just none.\")"
   ]
  },
  {
   "cell_type": "code",
   "execution_count": 5,
   "id": "ab4ba838",
   "metadata": {},
   "outputs": [],
   "source": [
    " #5. Make a dictionary with these keys and values:'name': 'Hydrogen', 'symbol': 'H', 'number': 1. Then,\n",
    "#create an object called hydrogen from class Element using this dictionary.\n",
    "\n",
    "dictio = {'name':'Hydorgen', 'symbol':'H', 'number':1}\n",
    "\n"
   ]
  },
  {
   "cell_type": "code",
   "execution_count": 6,
   "id": "eb155671",
   "metadata": {},
   "outputs": [
    {
     "data": {
      "text/plain": [
       "'Hydorgen'"
      ]
     },
     "execution_count": 6,
     "metadata": {},
     "output_type": "execute_result"
    }
   ],
   "source": [
    "hydrogen = Element(dictio['name'], dictio['symbol'], dictio['number'] )\n",
    "hydrogen.name"
   ]
  },
  {
   "cell_type": "code",
   "execution_count": 7,
   "id": "b8c6858f",
   "metadata": {},
   "outputs": [
    {
     "data": {
      "text/plain": [
       "1"
      ]
     },
     "execution_count": 7,
     "metadata": {},
     "output_type": "execute_result"
    }
   ],
   "source": [
    "hydrogen.number"
   ]
  },
  {
   "cell_type": "code",
   "execution_count": 8,
   "id": "8dbdfd95",
   "metadata": {},
   "outputs": [
    {
     "data": {
      "text/plain": [
       "'H'"
      ]
     },
     "execution_count": 8,
     "metadata": {},
     "output_type": "execute_result"
    }
   ],
   "source": [
    "hydrogen.symbol"
   ]
  },
  {
   "cell_type": "code",
   "execution_count": 11,
   "id": "b4ebe57b",
   "metadata": {},
   "outputs": [
    {
     "data": {
      "text/plain": [
       "'Hydorgen'"
      ]
     },
     "execution_count": 11,
     "metadata": {},
     "output_type": "execute_result"
    }
   ],
   "source": [
    "# We can also initialise the object directly from the dictionary itslef because its key names match the arguments to __init__.\n",
    "\n",
    "hydrogen = Element(**dictio)\n",
    "hydrogen.name"
   ]
  },
  {
   "cell_type": "code",
   "execution_count": 12,
   "id": "01f2d383",
   "metadata": {},
   "outputs": [
    {
     "name": "stdout",
     "output_type": "stream",
     "text": [
      "name = Hydorgen, symbol =H, number = 1\n"
     ]
    }
   ],
   "source": [
    "# 6. For the Element class, define a method called dump() that prints the values of the object’s\n",
    "#attributes (name, symbol, and number). Create the hydrogen object from this new definition and\n",
    "#use dump() to print its attributes.\n",
    "\n",
    "try:\n",
    "    class Element:\n",
    "        def __init__(onzo, name, symbol, number):\n",
    "            onzo.name = name\n",
    "            onzo.symbol = symbol\n",
    "            onzo.number = number\n",
    "        def dump(onzo):\n",
    "            print(\"name = %s, symbol =%s, number = %s\" %(onzo.name, onzo.symbol, onzo.number))\n",
    "    hydrogen = Element(**dictio)\n",
    "    hydrogen.dump()\n",
    "except:\n",
    "    print(\"Print the result.\")"
   ]
  },
  {
   "cell_type": "code",
   "execution_count": 13,
   "id": "50d8235e",
   "metadata": {},
   "outputs": [
    {
     "name": "stdout",
     "output_type": "stream",
     "text": [
      "<__main__.Element object at 0x000001C949CAE940>\n"
     ]
    }
   ],
   "source": [
    "# 7. Call print(hydrogen). In the definition of Element, change the name of method dump to __str__,\n",
    "# create a new hydrogen object, and call print(hydrogen) again.\n",
    "\n",
    "print(hydrogen)"
   ]
  },
  {
   "cell_type": "code",
   "execution_count": 15,
   "id": "39c4008c",
   "metadata": {},
   "outputs": [
    {
     "name": "stdout",
     "output_type": "stream",
     "text": [
      "name = Hydorgen, symbol = H, number = 1\n"
     ]
    }
   ],
   "source": [
    "try:\n",
    "    class Element:\n",
    "        def __init__(onzo, name, symbol, number):\n",
    "            onzo.name = name\n",
    "            onzo.symbol = symbol\n",
    "            onzo.number = number\n",
    "        def __str__(onzo):\n",
    "            return(\"name = %s, symbol = %s, number = %s\" %(onzo.name, onzo.symbol,onzo.number))\n",
    "    hydrogen = Element(**dictio)\n",
    "    print(hydrogen)\n",
    "except:\n",
    "    print(\"The new method has been created successfully.\")"
   ]
  },
  {
   "cell_type": "code",
   "execution_count": 16,
   "id": "0f34053e",
   "metadata": {},
   "outputs": [
    {
     "name": "stdout",
     "output_type": "stream",
     "text": [
      "Exception handling\n"
     ]
    }
   ],
   "source": [
    "# 8. Modify Element to make the attributes name, symbol, and number private. Define a getter\n",
    "# property for each to return its value.\n",
    "\n",
    "try:\n",
    "    class Element:\n",
    "        def __init__(onzo, name, symbol, number):\n",
    "            onzo.name = name\n",
    "            onzo.symbol = symbol\n",
    "            onzo.number = number\n",
    "        @property\n",
    "        def name(onzo):\n",
    "            return onzo.__name\n",
    "        @property\n",
    "        def symbol(onzo):\n",
    "            return onzo.__symbol\n",
    "        @property\n",
    "        def number(onzo):\n",
    "            return onzo.__number\n",
    "    hydrogen = Element(\"Hydrogen\",\"H\",1)\n",
    "except:\n",
    "    print(\"Exception handling\")"
   ]
  },
  {
   "cell_type": "code",
   "execution_count": 17,
   "id": "82aeb68d",
   "metadata": {},
   "outputs": [
    {
     "data": {
      "text/plain": [
       "'Hydorgen'"
      ]
     },
     "execution_count": 17,
     "metadata": {},
     "output_type": "execute_result"
    }
   ],
   "source": [
    "hydrogen.name"
   ]
  },
  {
   "cell_type": "code",
   "execution_count": 18,
   "id": "45e5afca",
   "metadata": {},
   "outputs": [
    {
     "data": {
      "text/plain": [
       "'H'"
      ]
     },
     "execution_count": 18,
     "metadata": {},
     "output_type": "execute_result"
    }
   ],
   "source": [
    "hydrogen.symbol"
   ]
  },
  {
   "cell_type": "code",
   "execution_count": 19,
   "id": "fe8ec275",
   "metadata": {},
   "outputs": [
    {
     "data": {
      "text/plain": [
       "1"
      ]
     },
     "execution_count": 19,
     "metadata": {},
     "output_type": "execute_result"
    }
   ],
   "source": [
    "hydrogen.number"
   ]
  },
  {
   "cell_type": "code",
   "execution_count": 28,
   "id": "fc92ad28",
   "metadata": {},
   "outputs": [
    {
     "name": "stdout",
     "output_type": "stream",
     "text": [
      "berries\n",
      "clover\n",
      "campers\n"
     ]
    }
   ],
   "source": [
    "# 9. Define three classes: Bear, Rabbit, and Octothorpe. For each, define only one method: eats(). This\n",
    "# should return 'berries'(Bear), 'clover'(Rabbit), or 'campers'(Octothorpe). Create one object from\n",
    "# each and print what it eats.\n",
    "\n",
    "try:\n",
    "    class Bear:\n",
    "        def eats(mit):\n",
    "            return 'berries'\n",
    "        \n",
    "    class Rabbit:\n",
    "        def eats(mit):\n",
    "            return 'clover'\n",
    "   \n",
    "    class Octothorpe:\n",
    "        def eats(mit):\n",
    "            return 'campers'\n",
    "        \n",
    "\n",
    "    A = Bear()\n",
    "    B= Rabbit()\n",
    "    C = Octothorpe()\n",
    "   \n",
    "    print(A.eats())\n",
    "    print(B.eats())\n",
    "    print(C.eats())\n",
    "except:\n",
    "    print(\"New creation\")\n",
    "    \n",
    "\n"
   ]
  },
  {
   "cell_type": "code",
   "execution_count": 43,
   "id": "f04b34f4",
   "metadata": {},
   "outputs": [
    {
     "name": "stdout",
     "output_type": "stream",
     "text": [
      "The attachments are : \n",
      "           My laser , to disintegrate.\n",
      "           My claw , to crush.\n",
      "           My smartphone, to ring.\n"
     ]
    }
   ],
   "source": [
    " #10. Define these classes: Laser, Claw, and SmartPhone. Each has only one method: does(). This\n",
    "#returns 'disintegrate'(Laser), 'crush'(Claw), or 'ring'(SmartPhone). Then, define the class Robot that\n",
    "#has one instance (object) of each of these. Define a does() method for the Robot that prints what its\n",
    "#component objects do.\n",
    "\n",
    "try:\n",
    "    class Laser:\n",
    "        def does(oxford):\n",
    "            return 'disintegrate'\n",
    "    class Claw:\n",
    "        def does(oxford):\n",
    "            return 'crush'\n",
    "    class Smartphone:\n",
    "        def does(oxford):\n",
    "            return 'ring'\n",
    "    \n",
    "    class Robot:\n",
    "        def __init__(oxford):\n",
    "            oxford.laser = Laser()\n",
    "            oxford.claw = Claw()\n",
    "            oxford.smartphone = Smartphone()\n",
    "            \n",
    "        def does(oxford):\n",
    "            return '''The attachments are : \n",
    "            My laser , to %s.\n",
    "            My claw , to %s.\n",
    "            My smartphone, to %s.'''  % (oxford.laser.does(), oxford.claw.does(), oxford.smartphone.does())\n",
    "      \n",
    "    rob = Robot()\n",
    "    print(rob.does())\n",
    "  \n",
    "            \n",
    "except:\n",
    "    print(\"It is safe.\")\n",
    "            \n",
    "    "
   ]
  }
 ],
 "metadata": {
  "kernelspec": {
   "display_name": "Python 3 (ipykernel)",
   "language": "python",
   "name": "python3"
  },
  "language_info": {
   "codemirror_mode": {
    "name": "ipython",
    "version": 3
   },
   "file_extension": ".py",
   "mimetype": "text/x-python",
   "name": "python",
   "nbconvert_exporter": "python",
   "pygments_lexer": "ipython3",
   "version": "3.9.7"
  }
 },
 "nbformat": 4,
 "nbformat_minor": 5
}
