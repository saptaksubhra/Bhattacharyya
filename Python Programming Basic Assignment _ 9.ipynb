{
 "cells": [
  {
   "cell_type": "code",
   "execution_count": 3,
   "id": "1c7400d7",
   "metadata": {},
   "outputs": [
    {
     "name": "stdout",
     "output_type": "stream",
     "text": [
      "Please enter the number : 135\n",
      "The entered number is Disarium number.\n"
     ]
    }
   ],
   "source": [
    "#1.\tWrite a Python program to check if the given number is a Disarium Number?\n",
    "\n",
    "try:\n",
    "    import math\n",
    "    number = int(input(\"Please enter the number : \"))\n",
    "    rem = sum = 0\n",
    "    len1 = len(str(number))\n",
    "    n = number\n",
    "    \n",
    "    while (number > 0):\n",
    "        rem = number % 10\n",
    "        sum = sum + int(rem**len1)\n",
    "        number = number // 10\n",
    "        len1 = len1 - 1\n",
    "    if (sum==n):\n",
    "        print(\"The entered number is Disarium number.\")\n",
    "    else:\n",
    "        print(\"The entered number is not a Disarium number.\")\n",
    "except:\n",
    "    print(\"Detection of Disarium number\")"
   ]
  },
  {
   "cell_type": "code",
   "execution_count": 2,
   "id": "05e00ae6",
   "metadata": {},
   "outputs": [
    {
     "name": "stdout",
     "output_type": "stream",
     "text": [
      "All the Disarium numbers between 1 and 100 are : \n",
      "1\n",
      "2\n",
      "3\n",
      "4\n",
      "5\n",
      "6\n",
      "7\n",
      "8\n",
      "9\n",
      "89\n"
     ]
    }
   ],
   "source": [
    "#2.\tWrite a Python program to print all disarium numbers between 1 to 100?\n",
    "\n",
    "try:\n",
    "    def Calculate_length(u):\n",
    "        Length = 0\n",
    "        while(u!=0):\n",
    "            Length = Length + 1\n",
    "            u = u//10\n",
    "        return Length\n",
    "    def Sum_of_digits(num):\n",
    "        rema = summe = 0\n",
    "        len2 =Calculate_length(num)\n",
    "        while(num>0):\n",
    "            rema = num%10\n",
    "            summe = summe +(rema**len2)\n",
    "            num = num//10\n",
    "            len2 = len2 -1\n",
    "        return summe\n",
    "    output = 0\n",
    "    print(\"All the Disarium numbers between 1 and 100 are : \")\n",
    "    \n",
    "    for i in range(1,101):\n",
    "        output = Sum_of_digits(i)\n",
    "        if(output == i):\n",
    "            print(i)\n",
    "except:\n",
    "    print(\"Printing Disarim numbers between 1 and 100\")\n",
    "            "
   ]
  },
  {
   "cell_type": "code",
   "execution_count": 3,
   "id": "1c5cf2bf",
   "metadata": {},
   "outputs": [
    {
     "name": "stdout",
     "output_type": "stream",
     "text": [
      "32 is a Happy Number.\n"
     ]
    }
   ],
   "source": [
    "#3.\tWrite a Python program to check if the given number is Happy Number?\n",
    "\n",
    "try:\n",
    "    def Is_happy_number(num):\n",
    "        rem = sum = 0\n",
    "        while(num>0):\n",
    "            rem = num%10\n",
    "            sum = sum + (rem*rem)\n",
    "            num = num//10\n",
    "        return sum\n",
    "    num = 32\n",
    "    result = num\n",
    "    while(result != 1 and result != 4):\n",
    "        result = Is_happy_number(result)\n",
    "        if(result == 1):\n",
    "            print(str(num), \"is a Happy Number.\")\n",
    "        elif(result == 4):\n",
    "            print(str(num), \"is an Unhappy Number.\")\n",
    "except:\n",
    "    print(\"Detection of Happy Number\")\n",
    "            "
   ]
  },
  {
   "cell_type": "code",
   "execution_count": 2,
   "id": "67049f26",
   "metadata": {},
   "outputs": [
    {
     "name": "stdout",
     "output_type": "stream",
     "text": [
      "All Happy Numbers between 1 and 100 are : \n",
      "1\n",
      "7\n",
      "10\n",
      "13\n",
      "19\n",
      "23\n",
      "28\n",
      "31\n",
      "32\n",
      "44\n",
      "49\n",
      "68\n",
      "70\n",
      "79\n",
      "82\n",
      "86\n",
      "91\n",
      "94\n",
      "97\n",
      "100\n"
     ]
    }
   ],
   "source": [
    "#4.\tWrite a Python program to print all happy numbers between 1 and 100?\n",
    "\n",
    "try:\n",
    "    def Is_happy_number(num):\n",
    "        rem = sum = 0\n",
    "        while(num>0):\n",
    "            rem = num%10\n",
    "            sum = sum + (rem*rem)\n",
    "            num = num//10\n",
    "        return sum\n",
    "    print(\"All Happy Numbers between 1 and 100 are : \")\n",
    "    \n",
    "    for i in range(1, 101):\n",
    "        result1 = i\n",
    "        while(result1 != 1 and result1 != 4):\n",
    "            result1 = Is_happy_number(result1)\n",
    "        if (result1 == 1):\n",
    "            print(i)\n",
    "except:\n",
    "    print(\"Detection of all the Happy Numbers between 1 and 100 \")"
   ]
  },
  {
   "cell_type": "code",
   "execution_count": 9,
   "id": "28f37f84",
   "metadata": {},
   "outputs": [
    {
     "name": "stdout",
     "output_type": "stream",
     "text": [
      "Please enter the number : 120\n",
      "120 is a Harshad Number.\n"
     ]
    }
   ],
   "source": [
    "#5.\tWrite a Python program to determine whether the given number is a Harshad Number?\n",
    "\n",
    "try:\n",
    "    num = int(input(\"Please enter the number : \"))\n",
    "    \n",
    "    rem = sum = 0\n",
    "    n = num\n",
    "    while(num>0):\n",
    "        rem = num % 10\n",
    "        sum = sum + rem\n",
    "        num = num//10\n",
    "    \n",
    "    if(n % sum == 0):\n",
    "        print(str(n), \"is a Harshad Number.\")\n",
    "    else:\n",
    "        print(str(n), \"is not Harshad Number.\")\n",
    "\n",
    "except:\n",
    "    print(\"Detection of Harshad Number\")\n",
    "            \n",
    "        "
   ]
  },
  {
   "cell_type": "code",
   "execution_count": 11,
   "id": "44e84fe4",
   "metadata": {},
   "outputs": [
    {
     "name": "stdout",
     "output_type": "stream",
     "text": [
      "All Pronic Numbers between 1 and 100 are : \n",
      "2\n",
      "6\n",
      "12\n",
      "20\n",
      "30\n",
      "42\n",
      "56\n",
      "72\n",
      "90\n"
     ]
    }
   ],
   "source": [
    "#6.\tWrite a Python program to print all pronic numbers between 1 and 100?\n",
    "\n",
    "try:\n",
    "    def Is_Pronic_Number(num):\n",
    "        Bool = False\n",
    "        for i in range(1, num+1):\n",
    "            if(i*(i+1) == num):\n",
    "                Bool = True\n",
    "                break\n",
    "        return Bool\n",
    "    print(\"All Pronic Numbers between 1 and 100 are : \")\n",
    "    \n",
    "    for j in range(1, 101):\n",
    "        if(Is_Pronic_Number(j)):\n",
    "            print(j)\n",
    "except:\n",
    "    print(\"Printing All Pronic Numbers between 1 and 100\")"
   ]
  }
 ],
 "metadata": {
  "kernelspec": {
   "display_name": "Python 3 (ipykernel)",
   "language": "python",
   "name": "python3"
  },
  "language_info": {
   "codemirror_mode": {
    "name": "ipython",
    "version": 3
   },
   "file_extension": ".py",
   "mimetype": "text/x-python",
   "name": "python",
   "nbconvert_exporter": "python",
   "pygments_lexer": "ipython3",
   "version": "3.9.7"
  }
 },
 "nbformat": 4,
 "nbformat_minor": 5
}
