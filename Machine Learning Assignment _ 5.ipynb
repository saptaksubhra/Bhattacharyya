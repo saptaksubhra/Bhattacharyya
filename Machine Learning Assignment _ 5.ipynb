{
 "cells": [
  {
   "cell_type": "markdown",
   "id": "6494d6c7",
   "metadata": {},
   "source": [
    "1.What are the key tasks that machine learning entails? What does data pre-processing imply?\n",
    "\n",
    "A machine learning task is the type of prediction or inference being made, based on the problem or question that is being asked, and the available data. For example, the classification task assigns data to categories, and the clustering task groups data according to similarity. The most common or key tasks that machine learning entails are classification , regression and clustering.\n",
    "\n",
    "Data preprocessing in Machine Learning implies to the technique of preparing (cleaning and organizing) the raw data to make it suitable for building and training Machine Learning models."
   ]
  },
  {
   "cell_type": "markdown",
   "id": "4fff00f6",
   "metadata": {},
   "source": [
    "2.Describe quantitative and qualitative data in depth. Make a distinction between the two.\n",
    "\n",
    "Quantitative data is countable or measurable, relating to numbers. Qualitative data is descriptive, relating to language.\n",
    "uantitative data tells us how many, how much, or how often and Qualitative data can help us to understand the “why” or “how” behind certain behaviors.\n",
    "Quantitative data is fixed and “universal,” while qualitative data is subjective and dynamic. \n",
    "Quantitative data is gathered by measuring and counting. Qualitative data is collected by interviewing and observing.\n",
    "Quantitative data is analyzed using statistical analysis, while qualitative data is analyzed by grouping it in terms of meaningful categories.\n",
    "Example of Quantitative data : I am 5 feet and 9 inches tall. My best friend has one older sibling and two younger siblings.\n",
    "Example of Qualitative Data : My friend has got blue eyes. Johnny is very humerous. Jim Carrey has a good sense of humor."
   ]
  },
  {
   "cell_type": "markdown",
   "id": "38998c7c",
   "metadata": {},
   "source": [
    "3.Create a basic data collection that includes some sample records. Have at least one attribute from each of the machine learning data types.\n",
    "\n",
    "There are ten basic techniques to prepare dataset in machine learning.\n",
    "Articulate the problem early.\n",
    "Establish data collection mechanisms. ...\n",
    "Check your data quality.\n",
    "Format data to make it consistent.\n",
    "Reduce data.\n",
    "Complete data cleaning.\n",
    "Create new features out of existing ones.\n",
    "Join transactional and attribute data\n",
    "Rescaling data\n",
    "Discretize data"
   ]
  },
  {
   "cell_type": "markdown",
   "id": "d30d71ab",
   "metadata": {},
   "source": [
    "4.What are the various causes of machine learning data issues? What are the ramifications?\n",
    "\n",
    "The various causes of machine learning data issues are : Slow application and result, irrelevant features, Lack of Explainability, Process Complexity of Machine Learning, Data bias, lack of skilled resources, customer segmentation, having bad recommendations, maintenance and monitoring, Overfitting and underfitting, Poor quality of data, Non-representative training data, Insufficient training data.\n",
    "\n",
    "In philosophy and artificial intelligence (especially, knowledge based systems), the ramification problem is concerned with the indirect consequences of an action. It might also be posed as how to represent what happens implicitly due to an action or how to control the secondary and tertiary effects of an action."
   ]
  },
  {
   "cell_type": "markdown",
   "id": "b5696b6f",
   "metadata": {},
   "source": [
    "5.Demonstrate various approaches to categorical data exploration with appropriate examples.\n",
    "\n",
    "Cramer-V correlation between all Categorical columns: Cramer-V is a very useful data exploration technique to find the correlation between categorical variables. And the result of Cramer-V can also be visualised using heat-map.\n",
    "\n",
    "Correlation between two specific categorical columns: Once we check correlation between categorical columns using Cramer-V correlation matrix, we can further explore correlation between any two categorical columns. This can be done using a bubble plot between the two columns with size of the bubble indicating the number of occurrences.\n",
    "\n",
    "Example of categorical data or variables are race , sex , age group, educational level."
   ]
  },
  {
   "cell_type": "markdown",
   "id": "14eadbdd",
   "metadata": {},
   "source": [
    "6.How would the learning activity be affected if certain variables have missing values? Having said that, what can be done about it?\n",
    "\n",
    "Missing values in datasets can cause the complication in data handling and analysis, loss of information and efficiency, and can produce biased results. Missing data can reduce the statistical power of a study leading to invalid conclusions.\n",
    "\n",
    "This are seven ways to handle missing values in the dataset:\n",
    "\n",
    "Deleting Rows with missing values\n",
    "Impute missing values for continuous variable\n",
    "Impute missing values for categorical variable\n",
    "Other Imputation Methods\n",
    "Using Algorithms that support missing values\n",
    "Prediction of missing values\n",
    "Imputation using Deep Learning Library — Datawig"
   ]
  },
  {
   "cell_type": "markdown",
   "id": "18cc1828",
   "metadata": {},
   "source": [
    "7.Describe the various methods for dealing with missing data values in depth.\n",
    "\n",
    "There are seven various methods for dealing with missing data values in depth.\n",
    "These are :\n",
    "Deleting Rows with missing values\n",
    "Impute missing values for continuous variable\n",
    "Impute missing values for categorical variable\n",
    "Other Imputation Methods\n",
    "Using Algorithms that support missing values\n",
    "Prediction of missing values\n",
    "Imputation using Deep Learning Library — Datawig"
   ]
  },
  {
   "cell_type": "markdown",
   "id": "8573eb46",
   "metadata": {},
   "source": [
    "8.What are the various data pre-processing techniques? Explain dimensionality reduction and function selection in a few words.\n",
    "\n",
    "The various data pre-processing techniques are :\n",
    "\n",
    "Data Cleaning: Real-world data tend to be incomplete, noisy, and inconsistent. Data Cleaning/Cleansing routines attempt to fill in missing values, smooth out noise while identifying outliers, and correct inconsistencies in the data.\n",
    "\n",
    "Data Integration : Data Integration is involved in data analysis task which combines data from multiple sources into a coherent data store, as in data warehousing.\n",
    "\n",
    "Data Transformation : Data are transformed into appropriate forms of mining. Data Transformation involves the following:\n",
    "Normalization. smoothing , aggregation and generalisation of the data.\n",
    "\n",
    "Data Reduction : Complex data analysis and mining on huge amounts of data may take a very long time, making such analysis impractical or infeasible. Data Reduction techniques are helpful in analysing the reduced representation of the data set without compromising the integrity of the original data and yet producing the qualitative knowledge.\n",
    "\n",
    "Feature selection or function selection is simply selecting and excluding given features without changing them. Dimensionality reduction transforms features into a lower dimension.\n"
   ]
  },
  {
   "cell_type": "markdown",
   "id": "13720900",
   "metadata": {},
   "source": [
    "9.\n",
    "i. What is the IQR? What criteria are used to assess it?\n",
    "\n",
    "Range would be difficult to extrapolate. The interquartile range is similar to the range but less sensitive to outliers . The interquartile range is calculated in almost the same way as the range. First of all we need to find the median value or middle value of the lower and upper half of the data. The values are quartile 1 (Q1) and quartile 3 (Q3). Now we need to subtract first quartile from the third quartile. And that is IQR ( The Interquartile Range). The equation of IQR is :\n",
    "IQR = Q3 - Q1\n",
    "\n",
    "The criterias which are used to assess it is to find the median value or middle value of the lower and upper half of the data. The values are quartile 1 (Q1) and quartile 3 (Q3) and then  need to subtract first quartile from the third quartile. \n",
    "\n",
    "ii. Describe the various components of a box plot in detail? When will the lower whisker\n",
    "surpass the upper whisker in length? How can box plots be used to identify outliers?\n",
    "\n",
    "Box plots (also called box-and-whisker plots or box-whisker plots) give a good graphical image of the concentration of the data. They also show how far the extreme values are from most of the data. A box plot is constructed from five values: the minimum value, the first quartile, the median, the third quartile, and the maximum value. We use these values to compare how close other data values are to them.\n",
    "\n",
    "To construct a box plot, we use a horizontal or vertical number line and a rectangular box. The smallest and largest data values label the endpoints of the axis. The first quartile marks one end of the box and the third quartile marks the other end of the box. Approximately the middle 50 percent of the data fall inside the box. The “whiskers” extend from the ends of the box to the smallest and largest data values. The median or second quartile can be between the first and third quartiles, or it can be one, or the other, or both. The box plot gives a good, quick picture of the data.\n",
    "\n",
    "When there is a situation called negatively skewed then the lower whisker surpasses the upper whisker in length.\n",
    "\n",
    "In dataset of values, any value which is more than the upper limit or less than the lower limit will be conssidered as outliers. And with this principle, a box plot can be used to identify outliers.  Only the data that lies within Lower and upper limit are statistically considered normal and thus can be used for further observation or study.\n",
    "\n",
    "Let's take an example.\n",
    "Suppose there are n number of values present in a dataset.The median (Q2) is the middile or mid value of that dadaset. \n",
    "Mathematically, Q2 = (n + 1)/2 th term\n",
    "Lower Quartile is Q1 and that is the median of the lower half of the dataset.\n",
    "Q1 = (n + 1)/4 th term\n",
    "\n",
    "Upper Quartile is Q3 which is the median of upper half of the dataset.\n",
    "Q3 = 3*(n + 1)/4 th term\n",
    "\n",
    "Now Interquartile range (IQR) is (Q3 - Q1). Lower Limit = Q1 – 1.5 IQR. Upper Limit = Q3 + 1.5 IQR\n",
    "\n",
    "The dataset is : 1,2,3,4,5,6,7,8,9, 10, 11 here n = 11, Q2 or median = (11 + 1) /2 = 6 th term and that is 6, Q1 or lower quartile =(11 + 1)/4 = 3 rd term = 3, Q3 or upper quartile = 3 *(11 + 1)/4 = 9 th term = 9 Now IQR = Q3 - Q1 = 9 - 3 = 6\n",
    "Lower Limit = Q1 - 1.5IQR = 3 - 1.5 *6 = 3 - 9 = -6 and Upper Limit = Q3 + 1.5*IQR = 9 + 1.5 *6= 9 + 9 = 18\n",
    "Hence it is clear that any range above 18 or below -6 are outliers. But such values do not exist in the given dataset.But, if any such values exist in the dataset then those values could have been outliers.\n"
   ]
  },
  {
   "cell_type": "markdown",
   "id": "70399f5f",
   "metadata": {},
   "source": [
    "10.Make brief notes on any two of the following:\n",
    "\n",
    "1.Data collected at regular intervals\n",
    "\n",
    "2.The gap between the quartiles : Quartiles are used to calculate the interquartile range, which is a measure of variability around the median. The interquartile range is simply calculated as the difference between the first and third quartile: Q3–Q1. In effect, it is the range of the middle half of the data that shows how spread out the data is.\n",
    "\n",
    "3.Use a cross-tab : A crosstab is a table showing the relationship between two or more variables. Where the table only shows the relationship between two categorical variables, a crosstab is also known as a contingency table. The key decisions when creating a cross-tab are :\n",
    "In addition to selecting which variables to include in a crosstab, it is also necessary to work out which statistics to show. A second key decision is how to show statistical significance. In commercial research, the rows of a crosstab are historically referred to as stubs and the columns as banners."
   ]
  },
  {
   "cell_type": "markdown",
   "id": "70265922",
   "metadata": {},
   "source": [
    "11.Make a comparison between:\n",
    "\n",
    "1.Data with nominal and ordinal values : Nominal and ordinal are two of the four levels of measurement. Nominal level data can only be classified, while ordinal level data can be classified and ordered.\n",
    "\n",
    "2.Histogram and box plot : Histograms and box plots are very similar in that they both help to visualize and describe numeric data. Although histograms are better in determining the underlying distribution of the data, box plots allow us to compare multiple data sets better than histograms as they are less detailed and take up less space.\n",
    "\n",
    "3.The average and median : A mean or the average is computed by adding up all the values and dividing that score by the number of values. The Median is the number found at the exact middle of the set of values. A median can be computed by listing all numbers in ascending order and then locating the number in the centre of that distribution."
   ]
  }
 ],
 "metadata": {
  "kernelspec": {
   "display_name": "Python 3 (ipykernel)",
   "language": "python",
   "name": "python3"
  },
  "language_info": {
   "codemirror_mode": {
    "name": "ipython",
    "version": 3
   },
   "file_extension": ".py",
   "mimetype": "text/x-python",
   "name": "python",
   "nbconvert_exporter": "python",
   "pygments_lexer": "ipython3",
   "version": "3.9.7"
  }
 },
 "nbformat": 4,
 "nbformat_minor": 5
}
