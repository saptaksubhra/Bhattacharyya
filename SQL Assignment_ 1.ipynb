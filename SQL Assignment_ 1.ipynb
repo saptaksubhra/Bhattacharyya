{
 "cells": [
  {
   "cell_type": "code",
   "execution_count": 3,
   "id": "401a28dc",
   "metadata": {},
   "outputs": [
    {
     "name": "stdout",
     "output_type": "stream",
     "text": [
      "Requirement already satisfied: mysql-connector-python in c:\\programdata\\anaconda3\\lib\\site-packages (8.0.28)\n",
      "Requirement already satisfied: protobuf>=3.0.0 in c:\\programdata\\anaconda3\\lib\\site-packages (from mysql-connector-python) (3.19.4)\n"
     ]
    }
   ],
   "source": [
    "!pip install mysql-connector-python"
   ]
  },
  {
   "cell_type": "code",
   "execution_count": 30,
   "id": "beca056c",
   "metadata": {},
   "outputs": [],
   "source": [
    "import mysql.connector as conn"
   ]
  },
  {
   "cell_type": "code",
   "execution_count": 31,
   "id": "d7990fa8",
   "metadata": {},
   "outputs": [],
   "source": [
    "mydb = conn.connect(host = 'localhost', user = 'root', password = 'chanakya' )"
   ]
  },
  {
   "cell_type": "code",
   "execution_count": 32,
   "id": "9ab50af8",
   "metadata": {},
   "outputs": [
    {
     "data": {
      "text/plain": [
       "<mysql.connector.connection_cext.CMySQLConnection at 0x2aa0d109b20>"
      ]
     },
     "execution_count": 32,
     "metadata": {},
     "output_type": "execute_result"
    }
   ],
   "source": [
    "mydb"
   ]
  },
  {
   "cell_type": "code",
   "execution_count": 33,
   "id": "e4c93712",
   "metadata": {},
   "outputs": [],
   "source": [
    "cursor = mydb.cursor()"
   ]
  },
  {
   "cell_type": "code",
   "execution_count": 34,
   "id": "9f38afef",
   "metadata": {},
   "outputs": [],
   "source": [
    "cursor.execute('show databases')"
   ]
  },
  {
   "cell_type": "code",
   "execution_count": 35,
   "id": "3cb6ee60",
   "metadata": {},
   "outputs": [
    {
     "data": {
      "text/plain": [
       "[('cardataset',),\n",
       " ('information_schema',),\n",
       " ('mysql',),\n",
       " ('mysqlassignment',),\n",
       " ('performance_schema',),\n",
       " ('sakila',),\n",
       " ('saptaksubhra',),\n",
       " ('sys',),\n",
       " ('world',)]"
      ]
     },
     "execution_count": 35,
     "metadata": {},
     "output_type": "execute_result"
    }
   ],
   "source": [
    "cursor.fetchall()"
   ]
  },
  {
   "cell_type": "code",
   "execution_count": 36,
   "id": "19b1ac66",
   "metadata": {},
   "outputs": [],
   "source": [
    "cursor = mydb.cursor()"
   ]
  },
  {
   "cell_type": "code",
   "execution_count": 37,
   "id": "eea9d32f",
   "metadata": {},
   "outputs": [
    {
     "ename": "DatabaseError",
     "evalue": "1007 (HY000): Can't create database 'mysqlassignment'; database exists",
     "output_type": "error",
     "traceback": [
      "\u001b[1;31m---------------------------------------------------------------------------\u001b[0m",
      "\u001b[1;31mMySQLInterfaceError\u001b[0m                       Traceback (most recent call last)",
      "\u001b[1;32mC:\\ProgramData\\Anaconda3\\lib\\site-packages\\mysql\\connector\\connection_cext.py\u001b[0m in \u001b[0;36mcmd_query\u001b[1;34m(self, query, raw, buffered, raw_as_string)\u001b[0m\n\u001b[0;32m    522\u001b[0m                 \u001b[0mquery\u001b[0m \u001b[1;33m=\u001b[0m \u001b[0mquery\u001b[0m\u001b[1;33m.\u001b[0m\u001b[0mencode\u001b[0m\u001b[1;33m(\u001b[0m\u001b[1;34m'utf-8'\u001b[0m\u001b[1;33m)\u001b[0m\u001b[1;33m\u001b[0m\u001b[1;33m\u001b[0m\u001b[0m\n\u001b[1;32m--> 523\u001b[1;33m             self._cmysql.query(query,\n\u001b[0m\u001b[0;32m    524\u001b[0m                                \u001b[0mraw\u001b[0m\u001b[1;33m=\u001b[0m\u001b[0mraw\u001b[0m\u001b[1;33m,\u001b[0m \u001b[0mbuffered\u001b[0m\u001b[1;33m=\u001b[0m\u001b[0mbuffered\u001b[0m\u001b[1;33m,\u001b[0m\u001b[1;33m\u001b[0m\u001b[1;33m\u001b[0m\u001b[0m\n",
      "\u001b[1;31mMySQLInterfaceError\u001b[0m: Can't create database 'mysqlassignment'; database exists",
      "\nDuring handling of the above exception, another exception occurred:\n",
      "\u001b[1;31mDatabaseError\u001b[0m                             Traceback (most recent call last)",
      "\u001b[1;32m~\\AppData\\Local\\Temp/ipykernel_11936/501885818.py\u001b[0m in \u001b[0;36m<module>\u001b[1;34m\u001b[0m\n\u001b[1;32m----> 1\u001b[1;33m \u001b[0mcursor\u001b[0m\u001b[1;33m.\u001b[0m\u001b[0mexecute\u001b[0m\u001b[1;33m(\u001b[0m\u001b[1;34m\"create database mysqlassignment\"\u001b[0m\u001b[1;33m)\u001b[0m\u001b[1;33m\u001b[0m\u001b[1;33m\u001b[0m\u001b[0m\n\u001b[0m",
      "\u001b[1;32mC:\\ProgramData\\Anaconda3\\lib\\site-packages\\mysql\\connector\\cursor_cext.py\u001b[0m in \u001b[0;36mexecute\u001b[1;34m(self, operation, params, multi)\u001b[0m\n\u001b[0;32m    267\u001b[0m \u001b[1;33m\u001b[0m\u001b[0m\n\u001b[0;32m    268\u001b[0m         \u001b[1;32mtry\u001b[0m\u001b[1;33m:\u001b[0m\u001b[1;33m\u001b[0m\u001b[1;33m\u001b[0m\u001b[0m\n\u001b[1;32m--> 269\u001b[1;33m             result = self._cnx.cmd_query(stmt, raw=self._raw,\n\u001b[0m\u001b[0;32m    270\u001b[0m                                          \u001b[0mbuffered\u001b[0m\u001b[1;33m=\u001b[0m\u001b[0mself\u001b[0m\u001b[1;33m.\u001b[0m\u001b[0m_buffered\u001b[0m\u001b[1;33m,\u001b[0m\u001b[1;33m\u001b[0m\u001b[1;33m\u001b[0m\u001b[0m\n\u001b[0;32m    271\u001b[0m                                          raw_as_string=self._raw_as_string)\n",
      "\u001b[1;32mC:\\ProgramData\\Anaconda3\\lib\\site-packages\\mysql\\connector\\connection_cext.py\u001b[0m in \u001b[0;36mcmd_query\u001b[1;34m(self, query, raw, buffered, raw_as_string)\u001b[0m\n\u001b[0;32m    526\u001b[0m                                query_attrs=self._query_attrs)\n\u001b[0;32m    527\u001b[0m         \u001b[1;32mexcept\u001b[0m \u001b[0mMySQLInterfaceError\u001b[0m \u001b[1;32mas\u001b[0m \u001b[0mexc\u001b[0m\u001b[1;33m:\u001b[0m\u001b[1;33m\u001b[0m\u001b[1;33m\u001b[0m\u001b[0m\n\u001b[1;32m--> 528\u001b[1;33m             raise errors.get_mysql_exception(exc.errno, msg=exc.msg,\n\u001b[0m\u001b[0;32m    529\u001b[0m                                              sqlstate=exc.sqlstate)\n\u001b[0;32m    530\u001b[0m         \u001b[1;32mexcept\u001b[0m \u001b[0mAttributeError\u001b[0m\u001b[1;33m:\u001b[0m\u001b[1;33m\u001b[0m\u001b[1;33m\u001b[0m\u001b[0m\n",
      "\u001b[1;31mDatabaseError\u001b[0m: 1007 (HY000): Can't create database 'mysqlassignment'; database exists"
     ]
    }
   ],
   "source": [
    "cursor.execute(\"create database mysqlassignment\")"
   ]
  },
  {
   "cell_type": "code",
   "execution_count": 38,
   "id": "d8730513",
   "metadata": {},
   "outputs": [
    {
     "ename": "ProgrammingError",
     "evalue": "1050 (42S01): Table 'worker' already exists",
     "output_type": "error",
     "traceback": [
      "\u001b[1;31m---------------------------------------------------------------------------\u001b[0m",
      "\u001b[1;31mMySQLInterfaceError\u001b[0m                       Traceback (most recent call last)",
      "\u001b[1;32mC:\\ProgramData\\Anaconda3\\lib\\site-packages\\mysql\\connector\\connection_cext.py\u001b[0m in \u001b[0;36mcmd_query\u001b[1;34m(self, query, raw, buffered, raw_as_string)\u001b[0m\n\u001b[0;32m    522\u001b[0m                 \u001b[0mquery\u001b[0m \u001b[1;33m=\u001b[0m \u001b[0mquery\u001b[0m\u001b[1;33m.\u001b[0m\u001b[0mencode\u001b[0m\u001b[1;33m(\u001b[0m\u001b[1;34m'utf-8'\u001b[0m\u001b[1;33m)\u001b[0m\u001b[1;33m\u001b[0m\u001b[1;33m\u001b[0m\u001b[0m\n\u001b[1;32m--> 523\u001b[1;33m             self._cmysql.query(query,\n\u001b[0m\u001b[0;32m    524\u001b[0m                                \u001b[0mraw\u001b[0m\u001b[1;33m=\u001b[0m\u001b[0mraw\u001b[0m\u001b[1;33m,\u001b[0m \u001b[0mbuffered\u001b[0m\u001b[1;33m=\u001b[0m\u001b[0mbuffered\u001b[0m\u001b[1;33m,\u001b[0m\u001b[1;33m\u001b[0m\u001b[1;33m\u001b[0m\u001b[0m\n",
      "\u001b[1;31mMySQLInterfaceError\u001b[0m: Table 'worker' already exists",
      "\nDuring handling of the above exception, another exception occurred:\n",
      "\u001b[1;31mProgrammingError\u001b[0m                          Traceback (most recent call last)",
      "\u001b[1;32m~\\AppData\\Local\\Temp/ipykernel_11936/3915495197.py\u001b[0m in \u001b[0;36m<module>\u001b[1;34m\u001b[0m\n\u001b[1;32m----> 1\u001b[1;33m \u001b[0mcursor\u001b[0m\u001b[1;33m.\u001b[0m\u001b[0mexecute\u001b[0m\u001b[1;33m(\u001b[0m\u001b[1;34m'create table mysqlassignment.Worker(WORKER_ID INT(5), FIRST_NAME VARCHAR(20), LAST_NAME VARCHAR(20), SALARY INT(30), DATE_OF_JOINING DATE, EMAIL_ID VARCHAR(20), DEPARTMENT VARCHAR(20))'\u001b[0m\u001b[1;33m)\u001b[0m\u001b[1;33m\u001b[0m\u001b[1;33m\u001b[0m\u001b[0m\n\u001b[0m",
      "\u001b[1;32mC:\\ProgramData\\Anaconda3\\lib\\site-packages\\mysql\\connector\\cursor_cext.py\u001b[0m in \u001b[0;36mexecute\u001b[1;34m(self, operation, params, multi)\u001b[0m\n\u001b[0;32m    267\u001b[0m \u001b[1;33m\u001b[0m\u001b[0m\n\u001b[0;32m    268\u001b[0m         \u001b[1;32mtry\u001b[0m\u001b[1;33m:\u001b[0m\u001b[1;33m\u001b[0m\u001b[1;33m\u001b[0m\u001b[0m\n\u001b[1;32m--> 269\u001b[1;33m             result = self._cnx.cmd_query(stmt, raw=self._raw,\n\u001b[0m\u001b[0;32m    270\u001b[0m                                          \u001b[0mbuffered\u001b[0m\u001b[1;33m=\u001b[0m\u001b[0mself\u001b[0m\u001b[1;33m.\u001b[0m\u001b[0m_buffered\u001b[0m\u001b[1;33m,\u001b[0m\u001b[1;33m\u001b[0m\u001b[1;33m\u001b[0m\u001b[0m\n\u001b[0;32m    271\u001b[0m                                          raw_as_string=self._raw_as_string)\n",
      "\u001b[1;32mC:\\ProgramData\\Anaconda3\\lib\\site-packages\\mysql\\connector\\connection_cext.py\u001b[0m in \u001b[0;36mcmd_query\u001b[1;34m(self, query, raw, buffered, raw_as_string)\u001b[0m\n\u001b[0;32m    526\u001b[0m                                query_attrs=self._query_attrs)\n\u001b[0;32m    527\u001b[0m         \u001b[1;32mexcept\u001b[0m \u001b[0mMySQLInterfaceError\u001b[0m \u001b[1;32mas\u001b[0m \u001b[0mexc\u001b[0m\u001b[1;33m:\u001b[0m\u001b[1;33m\u001b[0m\u001b[1;33m\u001b[0m\u001b[0m\n\u001b[1;32m--> 528\u001b[1;33m             raise errors.get_mysql_exception(exc.errno, msg=exc.msg,\n\u001b[0m\u001b[0;32m    529\u001b[0m                                              sqlstate=exc.sqlstate)\n\u001b[0;32m    530\u001b[0m         \u001b[1;32mexcept\u001b[0m \u001b[0mAttributeError\u001b[0m\u001b[1;33m:\u001b[0m\u001b[1;33m\u001b[0m\u001b[1;33m\u001b[0m\u001b[0m\n",
      "\u001b[1;31mProgrammingError\u001b[0m: 1050 (42S01): Table 'worker' already exists"
     ]
    }
   ],
   "source": [
    "cursor.execute('create table mysqlassignment.Worker(WORKER_ID INT(5), FIRST_NAME VARCHAR(20), LAST_NAME VARCHAR(20), SALARY INT(30), DATE_OF_JOINING DATE, EMAIL_ID VARCHAR(20), DEPARTMENT VARCHAR(20))')"
   ]
  },
  {
   "cell_type": "code",
   "execution_count": 40,
   "id": "3cf6382f",
   "metadata": {},
   "outputs": [],
   "source": [
    "cursor.execute('use mysqlassignment')"
   ]
  },
  {
   "cell_type": "code",
   "execution_count": 41,
   "id": "bad00c2d",
   "metadata": {},
   "outputs": [],
   "source": [
    "cursor.execute('show tables')"
   ]
  },
  {
   "cell_type": "code",
   "execution_count": 42,
   "id": "a14d6e61",
   "metadata": {},
   "outputs": [
    {
     "data": {
      "text/plain": [
       "[('worker',)]"
      ]
     },
     "execution_count": 42,
     "metadata": {},
     "output_type": "execute_result"
    }
   ],
   "source": [
    "cursor.fetchall()"
   ]
  },
  {
   "cell_type": "code",
   "execution_count": 43,
   "id": "afdefc94",
   "metadata": {},
   "outputs": [],
   "source": [
    "cursor.execute('insert into mysqlassignment.Worker values(001, \"SubhashChandra\", \"Bose\", 800000,\"2012-01-01\", \"subhash@infinity.com\", \"HR\")')"
   ]
  },
  {
   "cell_type": "code",
   "execution_count": 44,
   "id": "f56d0bd1",
   "metadata": {},
   "outputs": [],
   "source": [
    "mydb.commit()"
   ]
  },
  {
   "cell_type": "code",
   "execution_count": 18,
   "id": "f8fd9481",
   "metadata": {},
   "outputs": [],
   "source": [
    "cursor.execute('insert into mysqlassignment.Worker values(002, \"Lalbahadur\", \"Shastri\", 700000,\"2012-02-02\", \"shastri@infinity.com\", \"Admin\")')"
   ]
  },
  {
   "cell_type": "code",
   "execution_count": 19,
   "id": "a9e27583",
   "metadata": {},
   "outputs": [],
   "source": [
    "cursor.execute('insert into mysqlassignment.Worker values(003, \"Vishal\", \"Singhal\",300000,\"2013-01-01\", \"vishal@infinity.com\", \"HR\")')\n",
    "cursor.execute('insert into mysqlassignment.Worker values(004, \"Amitabh\", \"Singh\",500000,\"2013-01-01\", \"amitabh@infinity.com\", \"HR\")')\n",
    "cursor.execute('insert into mysqlassignment.Worker values(005, \"Vivek\", \"Bharati\",600000,\"2013-03-02\", \"vivek@infinity.com\", \"Admin\")')\n",
    "cursor.execute('insert into mysqlassignment.Worker values(006, \"Vipul\", \"Thakur\",200000,\"2015-01-01\", \"vipul@infinity.com\", \"Account\")')\n",
    "cursor.execute('insert into mysqlassignment.Worker values(007, \"Satish\", \"Kaushik\",300000,\"2016-01-01\", \"satish@infinity.com\", \"HR\")')\n",
    "cursor.execute('insert into mysqlassignment.Worker values(008, \"Sandhya\", \"Mukherjee\",500000,\"2016-01-01\", \"sandhya@infinity.com\", \"Account\")')\n"
   ]
  },
  {
   "cell_type": "code",
   "execution_count": 45,
   "id": "0f974692",
   "metadata": {},
   "outputs": [],
   "source": [
    "mydb.commit()"
   ]
  },
  {
   "cell_type": "code",
   "execution_count": 46,
   "id": "5d8c64e4",
   "metadata": {},
   "outputs": [],
   "source": [
    "cursor.execute(\"select * from mysqlassignment.Worker\")"
   ]
  },
  {
   "cell_type": "code",
   "execution_count": 47,
   "id": "05a677d8",
   "metadata": {},
   "outputs": [
    {
     "data": {
      "text/plain": [
       "[(1,\n",
       "  'SubhashChandra',\n",
       "  'Bose',\n",
       "  800000,\n",
       "  datetime.date(2012, 1, 1),\n",
       "  'subhash@infinity.com',\n",
       "  'HR'),\n",
       " (2,\n",
       "  'Lalbahadur',\n",
       "  'Shastri',\n",
       "  700000,\n",
       "  datetime.date(2012, 2, 2),\n",
       "  'shastri@infinity.com',\n",
       "  'Admin'),\n",
       " (3,\n",
       "  'Vishal',\n",
       "  'Singhal',\n",
       "  300000,\n",
       "  datetime.date(2013, 1, 1),\n",
       "  'vishal@infinity.com',\n",
       "  'HR'),\n",
       " (4,\n",
       "  'Amitabh',\n",
       "  'Singh',\n",
       "  500000,\n",
       "  datetime.date(2013, 1, 1),\n",
       "  'amitabh@infinity.com',\n",
       "  'HR'),\n",
       " (5,\n",
       "  'Vivek',\n",
       "  'Bharati',\n",
       "  600000,\n",
       "  datetime.date(2013, 3, 2),\n",
       "  'vivek@infinity.com',\n",
       "  'Admin'),\n",
       " (6,\n",
       "  'Vipul',\n",
       "  'Thakur',\n",
       "  200000,\n",
       "  datetime.date(2015, 1, 1),\n",
       "  'vipul@infinity.com',\n",
       "  'Account'),\n",
       " (7,\n",
       "  'Satish',\n",
       "  'Kaushik',\n",
       "  300000,\n",
       "  datetime.date(2016, 1, 1),\n",
       "  'satish@infinity.com',\n",
       "  'HR'),\n",
       " (8,\n",
       "  'Sandhya',\n",
       "  'Mukherjee',\n",
       "  500000,\n",
       "  datetime.date(2016, 1, 1),\n",
       "  'sandhya@infinity.com',\n",
       "  'Account'),\n",
       " (1,\n",
       "  'SubhashChandra',\n",
       "  'Bose',\n",
       "  800000,\n",
       "  datetime.date(2012, 1, 1),\n",
       "  'subhash@infinity.com',\n",
       "  'HR'),\n",
       " (2,\n",
       "  'Lalbahadur',\n",
       "  'Shastri',\n",
       "  700000,\n",
       "  datetime.date(2012, 2, 2),\n",
       "  'shastri@infinity.com',\n",
       "  'Admin'),\n",
       " (3,\n",
       "  'Vishal',\n",
       "  'Singhal',\n",
       "  300000,\n",
       "  datetime.date(2013, 1, 1),\n",
       "  'vishal@infinity.com',\n",
       "  'HR'),\n",
       " (4,\n",
       "  'Amitabh',\n",
       "  'Singh',\n",
       "  500000,\n",
       "  datetime.date(2013, 1, 1),\n",
       "  'amitabh@infinity.com',\n",
       "  'HR'),\n",
       " (5,\n",
       "  'Vivek',\n",
       "  'Bharati',\n",
       "  600000,\n",
       "  datetime.date(2013, 3, 2),\n",
       "  'vivek@infinity.com',\n",
       "  'Admin'),\n",
       " (6,\n",
       "  'Vipul',\n",
       "  'Thakur',\n",
       "  200000,\n",
       "  datetime.date(2015, 1, 1),\n",
       "  'vipul@infinity.com',\n",
       "  'Account'),\n",
       " (7,\n",
       "  'Satish',\n",
       "  'Kaushik',\n",
       "  300000,\n",
       "  datetime.date(2016, 1, 1),\n",
       "  'satish@infinity.com',\n",
       "  'HR'),\n",
       " (8,\n",
       "  'Sandhya',\n",
       "  'Mukherjee',\n",
       "  500000,\n",
       "  datetime.date(2016, 1, 1),\n",
       "  'sandhya@infinity.com',\n",
       "  'Account'),\n",
       " (1,\n",
       "  'SubhashChandra',\n",
       "  'Bose',\n",
       "  800000,\n",
       "  datetime.date(2012, 1, 1),\n",
       "  'subhash@infinity.com',\n",
       "  'HR')]"
      ]
     },
     "execution_count": 47,
     "metadata": {},
     "output_type": "execute_result"
    }
   ],
   "source": [
    "cursor.fetchall()"
   ]
  },
  {
   "cell_type": "code",
   "execution_count": 67,
   "id": "01c141e8",
   "metadata": {},
   "outputs": [],
   "source": [
    "#Q-1. Write an SQL query to fetch “FIRST_NAME” from Worker table using the alias name as \"WORKER_NAME\".\n",
    "\n",
    "cursor.execute(\"select FIRST_NAME as WORKER_NAME from Worker\")"
   ]
  },
  {
   "cell_type": "code",
   "execution_count": 68,
   "id": "c8ed8336",
   "metadata": {},
   "outputs": [
    {
     "data": {
      "text/plain": [
       "[('SubhashChandra',),\n",
       " ('Lalbahadur',),\n",
       " ('Vishal',),\n",
       " ('Amitabh',),\n",
       " ('Vivek',),\n",
       " ('Vipul',),\n",
       " ('Satish',),\n",
       " ('Sandhya',),\n",
       " ('SubhashChandra',),\n",
       " ('Lalbahadur',),\n",
       " ('Vishal',),\n",
       " ('Amitabh',),\n",
       " ('Vivek',),\n",
       " ('Vipul',),\n",
       " ('Satish',),\n",
       " ('Sandhya',),\n",
       " ('SubhashChandra',)]"
      ]
     },
     "execution_count": 68,
     "metadata": {},
     "output_type": "execute_result"
    }
   ],
   "source": [
    "cursor.fetchall()"
   ]
  },
  {
   "cell_type": "code",
   "execution_count": 71,
   "id": "ea09d9c2",
   "metadata": {},
   "outputs": [],
   "source": [
    "# Q-2. Write an SQL query to fetch unique values of DEPARTMENT from Worker table.\n",
    "\n",
    "cursor.execute('select distinct DEPARTMENT from Worker')"
   ]
  },
  {
   "cell_type": "code",
   "execution_count": 72,
   "id": "9fde10d8",
   "metadata": {},
   "outputs": [
    {
     "data": {
      "text/plain": [
       "[('HR',), ('Admin',), ('Account',)]"
      ]
     },
     "execution_count": 72,
     "metadata": {},
     "output_type": "execute_result"
    }
   ],
   "source": [
    "cursor.fetchall()"
   ]
  },
  {
   "cell_type": "code",
   "execution_count": 74,
   "id": "8ee46916",
   "metadata": {},
   "outputs": [
    {
     "data": {
      "text/plain": [
       "[(8,\n",
       "  'Sandhya',\n",
       "  'Mukherjee',\n",
       "  500000,\n",
       "  datetime.date(2016, 1, 1),\n",
       "  'sandhya@infinity.com',\n",
       "  'Account'),\n",
       " (8,\n",
       "  'Sandhya',\n",
       "  'Mukherjee',\n",
       "  500000,\n",
       "  datetime.date(2016, 1, 1),\n",
       "  'sandhya@infinity.com',\n",
       "  'Account'),\n",
       " (7,\n",
       "  'Satish',\n",
       "  'Kaushik',\n",
       "  300000,\n",
       "  datetime.date(2016, 1, 1),\n",
       "  'satish@infinity.com',\n",
       "  'HR'),\n",
       " (7,\n",
       "  'Satish',\n",
       "  'Kaushik',\n",
       "  300000,\n",
       "  datetime.date(2016, 1, 1),\n",
       "  'satish@infinity.com',\n",
       "  'HR'),\n",
       " (6,\n",
       "  'Vipul',\n",
       "  'Thakur',\n",
       "  200000,\n",
       "  datetime.date(2015, 1, 1),\n",
       "  'vipul@infinity.com',\n",
       "  'Account')]"
      ]
     },
     "execution_count": 74,
     "metadata": {},
     "output_type": "execute_result"
    }
   ],
   "source": [
    "# Q-3. Write an SQL query to show the last 5 record from a table.\n",
    "\n",
    "cursor.execute('select * from Worker order by WORKER_ID desc limit 5')\n",
    "cursor.fetchall()"
   ]
  },
  {
   "cell_type": "code",
   "execution_count": null,
   "id": "fd112d76",
   "metadata": {},
   "outputs": [],
   "source": []
  }
 ],
 "metadata": {
  "kernelspec": {
   "display_name": "Python 3 (ipykernel)",
   "language": "python",
   "name": "python3"
  },
  "language_info": {
   "codemirror_mode": {
    "name": "ipython",
    "version": 3
   },
   "file_extension": ".py",
   "mimetype": "text/x-python",
   "name": "python",
   "nbconvert_exporter": "python",
   "pygments_lexer": "ipython3",
   "version": "3.9.7"
  }
 },
 "nbformat": 4,
 "nbformat_minor": 5
}
