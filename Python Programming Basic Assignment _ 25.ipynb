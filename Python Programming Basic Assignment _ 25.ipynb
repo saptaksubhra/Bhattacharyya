{
 "cells": [
  {
   "cell_type": "markdown",
   "id": "26aec603",
   "metadata": {},
   "source": [
    "Question1\n",
    "Create a function that takes three integer arguments (a, b, c) and returns the amount of\n",
    "integers which are of equal value.\n",
    "Examples\n",
    "equal(3, 4, 3) ➞ 2\n",
    "equal(1, 1, 1) ➞ 3\n",
    "equal(3, 4, 1) ➞ 0\n",
    "Notes\n",
    "Your function must return 0, 2 or 3."
   ]
  },
  {
   "cell_type": "code",
   "execution_count": 82,
   "id": "40ee9c55",
   "metadata": {},
   "outputs": [
    {
     "name": "stdout",
     "output_type": "stream",
     "text": [
      "2\n",
      "3\n",
      "0\n"
     ]
    }
   ],
   "source": [
    "try:\n",
    "    def equal(a,b,c):\n",
    "        number = 0\n",
    "        if a==b and a==c:\n",
    "            number = 3\n",
    "        elif a==b or a==c:\n",
    "            number = 2\n",
    "        else:\n",
    "            number = 0\n",
    "        return number\n",
    "    print(equal(3,4,3))\n",
    "    print(equal(1,1,1))\n",
    "    print(equal(3,4,1))\n",
    "except:\n",
    "    print(\"Equlaity checking\")"
   ]
  },
  {
   "cell_type": "markdown",
   "id": "003d14e0",
   "metadata": {},
   "source": [
    "Question2\n",
    "Write a function that converts a dictionary into a list of keys-values tuples.\n",
    "Examples\n",
    "dict_to_list({\n",
    "\"D\": 1,\n",
    "\"B\": 2,\n",
    "\"C\": 3\n",
    "}) ➞ [(\"B\", 2), (\"C\", 3), (\"D\", 1)]\n",
    "dict_to_list({\n",
    "\"likes\": 2,\n",
    "\"dislikes\": 3,\n",
    "\"followers\": 10\n",
    "}) ➞ [(\"dislikes\", 3), (\"followers\", 10), (\"likes\", 2)]\n",
    "Notes\n",
    "Return the elements in the list in alphabetical order."
   ]
  },
  {
   "cell_type": "code",
   "execution_count": 4,
   "id": "a3092d0c",
   "metadata": {},
   "outputs": [
    {
     "name": "stdout",
     "output_type": "stream",
     "text": [
      "[('D', 1), ('B', 2), ('C', 3)]\n"
     ]
    }
   ],
   "source": [
    "try:\n",
    "    d1 = {\"D\": 1,\"B\": 2,\"C\": 3}\n",
    "    l = zip(d1.keys(), d1.values())\n",
    "    l1 = list(l)\n",
    "    print(l1)\n",
    "except:\n",
    "    print('zip method')"
   ]
  },
  {
   "cell_type": "code",
   "execution_count": 5,
   "id": "4850738d",
   "metadata": {},
   "outputs": [
    {
     "name": "stdout",
     "output_type": "stream",
     "text": [
      "[('D', 1), ('B', 2), ('C', 3)]\n"
     ]
    }
   ],
   "source": [
    "try:\n",
    "    d1 = {\"D\": 1,\"B\": 2,\"C\": 3}\n",
    "    l2 = list(d1.items())\n",
    "    print(l2)\n",
    "except:\n",
    "    print('items method')"
   ]
  },
  {
   "cell_type": "code",
   "execution_count": 6,
   "id": "45b59e3e",
   "metadata": {},
   "outputs": [
    {
     "name": "stdout",
     "output_type": "stream",
     "text": [
      "[('likes', 2), ('dislikes', 3), ('followers', 10)]\n"
     ]
    }
   ],
   "source": [
    "try:\n",
    "    d2 = {\"likes\": 2,\"dislikes\": 3,\"followers\": 10}\n",
    "    l3 = [(i,j) for i, j in d2.items()]\n",
    "    print(l3)\n",
    "except:\n",
    "    print('list comprehension')"
   ]
  },
  {
   "cell_type": "markdown",
   "id": "71458932",
   "metadata": {},
   "source": [
    "Question3\n",
    "Write a function that creates a dictionary with each (key, value) pair being the (lower case,\n",
    "upper case) versions of a letter, respectively.\n",
    "Examples\n",
    "mapping([\"p\", \"s\"]) ➞ { \"p\": \"P\", \"s\": \"S\" }\n",
    "\n",
    "mapping([\"a\", \"b\", \"c\"]) ➞ { \"a\": \"A\", \"b\": \"B\", \"c\": \"C\" }\n",
    "mapping([\"a\", \"v\", \"y\", \"z\" ➞ {\"a\": \"A\", \"v\": \"V\", \"y\":\"Y\" \"z\": \"Z\" }\n",
    "Notes\n",
    "All of the letters in the input list will always be lowercase."
   ]
  },
  {
   "cell_type": "code",
   "execution_count": 78,
   "id": "100b3ece",
   "metadata": {},
   "outputs": [
    {
     "name": "stdout",
     "output_type": "stream",
     "text": [
      "{'p': 'P', 's': 'S'}\n",
      "{'a': 'A', 'b': 'B', 'c': 'C'}\n",
      "{'a': 'A', 'v': 'V', 'y': 'Y', 'z': 'Z'}\n"
     ]
    }
   ],
   "source": [
    "    \n",
    "l= ['p','s']\n",
    "dict((i, i.upper()) for i in l)\n",
    "print(dict((i, i.upper()) for i in l))\n",
    "\n",
    "l1= ['a','b','c']\n",
    "dict((i, i.upper()) for i in l1)\n",
    "print(dict((i, i.upper()) for i in l1))\n",
    "\n",
    "l2= [\"a\", \"v\", \"y\", \"z\"]\n",
    "dict((i, i.upper()) for i in l2)\n",
    "print(dict((i, i.upper()) for i in l2))\n"
   ]
  },
  {
   "cell_type": "markdown",
   "id": "03d2cabf",
   "metadata": {},
   "source": [
    "Question4\n",
    "Write a function, that replaces all vowels in a string with a specified vowel.\n",
    "Examples\n",
    "vow_replace(\"apples and bananas\", \"u\" ➞\"upplus und bununus\"\n",
    "vow_replace(\"cheese casserole\", \"o\") ➞ \"chooso cossorolo\"\n",
    "vow_replace(\"stuffed jalapeno poppers\" \"e\" ➞ \"steffed jelepene peppers\"\n",
    "Notes\n",
    "All words will be lowercase. Y is not considered a vowel."
   ]
  },
  {
   "cell_type": "code",
   "execution_count": 24,
   "id": "2ca89fe6",
   "metadata": {},
   "outputs": [
    {
     "name": "stdout",
     "output_type": "stream",
     "text": [
      "\n",
      "The given input string is :  apples and bananas\n",
      "The given specified character is :  u\n",
      "After the replacement of vowels with specified character is :  upplus und bununus\n",
      "\n",
      "The given input string is :  cheese casserole\n",
      "The given specified character is :  o\n",
      "After the replacement of vowels with specified character is :  chooso cossorolo\n",
      "\n",
      "The given input string is :  stuffed jalapeno poppers\n",
      "The given specified character is :  e\n",
      "After the replacement of vowels with specified character is :  steffed jelepene peppers\n"
     ]
    }
   ],
   "source": [
    "try:\n",
    "    def vow_replace(string,B):\n",
    "        vowels =\"AEIOUaeiou\"\n",
    "        \n",
    "        for element in vowels:\n",
    "            string = string.replace(element, B)\n",
    "        return string\n",
    "    \n",
    "    input_string = \"apples and bananas\"\n",
    "    B = \"u\"\n",
    "    print(\"\\nThe given input string is : \", input_string)\n",
    "    print(\"The given specified character is : \", B)\n",
    "    print(\"After the replacement of vowels with specified character is : \", vow_replace(input_string,B))\n",
    "    \n",
    "    \n",
    "    \n",
    "    input_string = \"cheese casserole\"\n",
    "    B = \"o\"\n",
    "    print(\"\\nThe given input string is : \", input_string)\n",
    "    print(\"The given specified character is : \", B)\n",
    "    print(\"After the replacement of vowels with specified character is : \", vow_replace(input_string,B))\n",
    "    \n",
    "    \n",
    "    input_string = \"stuffed jalapeno poppers\"\n",
    "    B = \"e\"\n",
    "    print(\"\\nThe given input string is : \", input_string)\n",
    "    print(\"The given specified character is : \", B)\n",
    "    print(\"After the replacement of vowels with specified character is : \", vow_replace(input_string,B))\n",
    "    \n",
    "except:\n",
    "    print('string operation')\n",
    "    "
   ]
  },
  {
   "cell_type": "markdown",
   "id": "801aff95",
   "metadata": {},
   "source": [
    "Question5\n",
    "Create a function that takes a string as input and capitalizes a letter if its ASCII code is even\n",
    "and returns its lower case version if its ASCII code is odd.\n",
    "Examples\n",
    "ascii_capitalize(\"to be or not to be!\" ➞ \"To Be oR NoT To Be!\"\n",
    "ascii_capitalize(\"THE LITTLE MERMAID\") ➞ \"THe LiTTLe meRmaiD\"\n",
    "ascii_capitalize(\"Oh what a beautiful morning.\") ➞ \"oH wHaT a BeauTiFuL\n",
    "moRNiNg.\""
   ]
  },
  {
   "cell_type": "code",
   "execution_count": 45,
   "id": "a11b5a3c",
   "metadata": {},
   "outputs": [
    {
     "name": "stdout",
     "output_type": "stream",
     "text": [
      "To bE Or nOt tO Be!\n",
      "ThE LiTtLe mErMaId\n",
      "Oh wHaT A BeAuTiFuL MoRnInG.\n"
     ]
    }
   ],
   "source": [
    "def ascii_capitalize(string):\n",
    "        \n",
    "    res = []\n",
    "\n",
    "    for index, i in enumerate(string):\n",
    "        \n",
    "        if index % 2 == 0:\n",
    "            \n",
    "            res.append(i.upper())\n",
    "        else:\n",
    "            \n",
    "            res.append(i.lower())\n",
    "    return ''.join(res)\n",
    "print(ascii_capitalize('to be or not to be!'))\n",
    "print(ascii_capitalize('THE LITTLE MERMAID'))\n",
    "print(ascii_capitalize('Oh what a beautiful morning.'))"
   ]
  }
 ],
 "metadata": {
  "kernelspec": {
   "display_name": "Python 3 (ipykernel)",
   "language": "python",
   "name": "python3"
  },
  "language_info": {
   "codemirror_mode": {
    "name": "ipython",
    "version": 3
   },
   "file_extension": ".py",
   "mimetype": "text/x-python",
   "name": "python",
   "nbconvert_exporter": "python",
   "pygments_lexer": "ipython3",
   "version": "3.9.7"
  }
 },
 "nbformat": 4,
 "nbformat_minor": 5
}
