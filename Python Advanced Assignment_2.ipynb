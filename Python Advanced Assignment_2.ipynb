{
 "cells": [
  {
   "cell_type": "markdown",
   "id": "201595ab",
   "metadata": {},
   "source": [
    "Q1. What is the relationship between classes and modules?\n",
    "\n",
    "A class is used to define a blueprint for a given object in Python, whereas a module is used to reuse a given piece of code inside another programme. A class is more of a unit and a module is a loose collection of stuffs like variables , functions or even classes. Classes in the project can have access to the functions and variable of the module in a public module."
   ]
  },
  {
   "cell_type": "markdown",
   "id": "90872946",
   "metadata": {},
   "source": [
    "Q2. How do you make instances and classes?\n",
    "\n",
    "To make instances of a class we call the class by using class name and pass in whatever arguments its __init__ method accepts. This __init__ is constructor of the class.\n",
    "\n",
    "We call the reserved keyword class and then the classname to create a class in Python.\n",
    "\n",
    "For Example: In the below exmpale a class named z has been created by using keyword class which is a reserved keyword in Python to generate a class. And a new instance named An_Instance has been created by calling the class z.__init__ method has been introduced to pass the parameter(data) in the cosnstructor of the class z.\n"
   ]
  },
  {
   "cell_type": "code",
   "execution_count": 17,
   "id": "fe828c84",
   "metadata": {},
   "outputs": [
    {
     "name": "stdout",
     "output_type": "stream",
     "text": [
      "ineuron\n"
     ]
    }
   ],
   "source": [
    "try:\n",
    "    class z:\n",
    "        def __init__(sap, data):\n",
    "            sap.data = \"ineuron\"\n",
    "    An_Instance = z(\"ineuron\")\n",
    "    print(An_Instance.data)\n",
    "except:\n",
    "    print(\"Print the isntance of the class\")\n",
    "        "
   ]
  },
  {
   "cell_type": "markdown",
   "id": "42c1e892",
   "metadata": {},
   "source": [
    "Q3. Where and how should be class attributes created?\n",
    "\n",
    "Class attributes belong to the class itself and those will be shared by all the instances.\n",
    "Class attributes are defined in the class body parts usually at the top for legibility. Class attributes can be accessed by using class name as well as object with dot notation. For example: classname.class_attribute or object.class_attribute\n",
    "It has been exemplified below."
   ]
  },
  {
   "cell_type": "code",
   "execution_count": 25,
   "id": "22020b16",
   "metadata": {},
   "outputs": [
    {
     "name": "stdout",
     "output_type": "stream",
     "text": [
      "1\n",
      "2\n",
      "2\n"
     ]
    }
   ],
   "source": [
    "try:\n",
    "    class simpleclass():\n",
    "        count1 = 0 # Class Attribute\n",
    "        def increase(sub):\n",
    "            simpleclass.count1 = simpleclass.count1 + 1\n",
    "            \n",
    "    # Calling increase() on an object\n",
    "    simple1 = simpleclass()\n",
    "    simple1.increase()\n",
    "    print(simple1.count1)\n",
    "    \n",
    "    simple2 = simpleclass() #Calling increase on one more object\n",
    "    simple2.increase()\n",
    "    print(simple2.count1)\n",
    "    print(simpleclass.count1)\n",
    "except:\n",
    "    print(\"Class Attribute Execution\")"
   ]
  },
  {
   "cell_type": "markdown",
   "id": "e9f30976",
   "metadata": {},
   "source": [
    " Q4. Where and how are instance attributes created?\n",
    "\n",
    "Instance attributes can be created inside a constructor by using self parameter which is a pointer. It can be accessed by using dot notation. For example: object.instance_attribute \n",
    "The following example is for instance attribute."
   ]
  },
  {
   "cell_type": "code",
   "execution_count": 32,
   "id": "010f51ec",
   "metadata": {},
   "outputs": [],
   "source": [
    "try:\n",
    "    class people:\n",
    "    def __init__(self, male, female):\n",
    "        self.male = male\n",
    "        self.female = female\n",
    "    def test(self):\n",
    "        print(\"This is my method in my class people\")\n",
    "\n",
    "name = people(\"sap\", \"alice\")\n",
    "except:\n",
    "    print(\"Please print the instnace attribute\")"
   ]
  },
  {
   "cell_type": "code",
   "execution_count": 33,
   "id": "714fbb6d",
   "metadata": {},
   "outputs": [
    {
     "name": "stdout",
     "output_type": "stream",
     "text": [
      "This is my method in my class people\n"
     ]
    }
   ],
   "source": [
    "name.test()"
   ]
  },
  {
   "cell_type": "code",
   "execution_count": 34,
   "id": "fa28723e",
   "metadata": {},
   "outputs": [
    {
     "data": {
      "text/plain": [
       "'sap'"
      ]
     },
     "execution_count": 34,
     "metadata": {},
     "output_type": "execute_result"
    }
   ],
   "source": [
    "name.male"
   ]
  },
  {
   "cell_type": "code",
   "execution_count": 35,
   "id": "f5ab5159",
   "metadata": {},
   "outputs": [
    {
     "data": {
      "text/plain": [
       "'alice'"
      ]
     },
     "execution_count": 35,
     "metadata": {},
     "output_type": "execute_result"
    }
   ],
   "source": [
    "name.female"
   ]
  },
  {
   "cell_type": "markdown",
   "id": "9dddbd89",
   "metadata": {},
   "source": [
    "Q5. What does the term \"self\" in a Python class mean?\n",
    "\n",
    "\"self\" represents the instance of the class. By using the \"self\" keyword we can access the attributes and methods of the class in python. It binds the attributes with the given arguments."
   ]
  },
  {
   "cell_type": "markdown",
   "id": "b30dd28b",
   "metadata": {},
   "source": [
    "Q6. How does a Python class handle operator overloading?\n",
    "\n",
    "To perform operator overloading, Python provides some special function or magic function that is automatically invoked when it is associated with that particular operator. For example, when we use + operator, the magic method __add__ is automatically invoked in which the operation for + operator is defined.\n",
    "\n",
    "The below example is to illustrate how to overload a binary + opeartor."
   ]
  },
  {
   "cell_type": "code",
   "execution_count": 14,
   "id": "a5fe9afa",
   "metadata": {},
   "outputs": [
    {
     "name": "stdout",
     "output_type": "stream",
     "text": [
      "7.0\n",
      "SaptakiNeuron\n"
     ]
    }
   ],
   "source": [
    "try:\n",
    "    class Addition:\n",
    "        def __init__(subhra, var1):\n",
    "            subhra.var1 = var1\n",
    "            #Adding up two objects\n",
    "        def __add__(subhra, var2):\n",
    "            return subhra.var1 + var2.var1\n",
    "        \n",
    "    object1 = Addition(4.5)\n",
    "    object2 = Addition(2.5)\n",
    "    Object1 = object1 + object2\n",
    "    object3 = Addition(\"Saptak\")\n",
    "    object4 = Addition(\"iNeuron\")\n",
    "    Object2 = object3 + object4 \n",
    "    \n",
    "    print(Object1)\n",
    "    print(Object2)\n",
    "except:\n",
    "    print(\"Please print the operator overloading output\")\n",
    "        "
   ]
  },
  {
   "cell_type": "markdown",
   "id": "a885f376",
   "metadata": {},
   "source": [
    "Q7. When do you consider allowing operator overloading of your classes?\n",
    "\n",
    "In Python operators work for built-in classes. For example : the '+' operator will perform arithmetic addition operation on two numbers, concatenate two strings, merge two lists. This Python feature that allows  the same operator to perform different operations in accordance with the context is named operator overloading. Let us consider thwo objects which are physical represntation of a class and those two objects are user-defined data type. Now if we are going to add up those two objects with binary '+' opeartor then it throws back an error, because the compiler does not know how to add up two objects. In that scenario, operator overloading comes into pictures to accomplish this task. The below example is to perform addition operation of two complex numbers by using binary '+' opeartor overloading."
   ]
  },
  {
   "cell_type": "code",
   "execution_count": 6,
   "id": "fdc8a5ed",
   "metadata": {},
   "outputs": [
    {
     "name": "stdout",
     "output_type": "stream",
     "text": [
      "(4, 6)\n"
     ]
    }
   ],
   "source": [
    "try:\n",
    "    class complex_number:\n",
    "        def __init__(sim, r , i):\n",
    "            sim.r = r\n",
    "            sim.i = i\n",
    "        #adding up two objects\n",
    "        def __add__(sim, another):\n",
    "            return sim.r + another.r, sim.i + another.i\n",
    "    \n",
    "    object1 = complex_number(1,2)\n",
    "    object2 = complex_number(3,4)\n",
    "    object_output = object1 + object2\n",
    "    print(object_output)\n",
    "    \n",
    "except Exception as operator_overloading:\n",
    "    print(\"operator_overloading\")"
   ]
  },
  {
   "cell_type": "markdown",
   "id": "4cd0923e",
   "metadata": {},
   "source": [
    "Q8. What is the most popular form of operator overloading?\n",
    "\n",
    "One of the most popular form of operator overloading is Addition'+' operator. It opeartes on two integers , two lists, two strings. In accordance with the data type, the '+' opeartor performs different operations. It performs addition opeartion on two integers, concatenation on two strings, merges two lists. The below example is to perform addition opeartion on two integers by using'+' operator overloading."
   ]
  },
  {
   "cell_type": "code",
   "execution_count": 13,
   "id": "3b077aca",
   "metadata": {},
   "outputs": [
    {
     "name": "stdout",
     "output_type": "stream",
     "text": [
      " Volume is 79\n"
     ]
    }
   ],
   "source": [
    "try:\n",
    "    class google:\n",
    "        def __init__(pointer, vol):\n",
    "            pointer.vol = vol\n",
    "            \n",
    "        def __str__(pointer):\n",
    "            return \" Volume is \" +str(pointer.vol)\n",
    "        \n",
    "        def __add__(pointer, oth):\n",
    "            vol = pointer.vol + oth.vol\n",
    "            return google(vol)\n",
    "    goog1 = google(36)\n",
    "    goog2 = google(43)\n",
    "        \n",
    "    Google_Output = goog1 + goog2\n",
    "    print(Google_Output)\n",
    "except:\n",
    "    print(\" Please print the desired output\")"
   ]
  },
  {
   "cell_type": "markdown",
   "id": "fc1558e1",
   "metadata": {},
   "source": [
    "Q9. What are the two most important concepts to grasp in order to comprehend Python OOP code?\n",
    "\n",
    "In order to improve robust and well-designed software products with Python, it is very important to get a comprensive understanding of OOPs concept. And the two most important concepts to grab in order to understand Python OOP code are Polymorphism and Inheritance.\n",
    "\n",
    "Inheritance is a process by which one class inherits the properties and methods of another class. The class which inherits the properties and methods of another class is named child class and the class whose properties and methods are inherited is known as parent class. A child class can have its own properties and methods along with the inherited properties and methods from a parent class.\n",
    "\n",
    "Polymorphism is a Greek word.Poly menas many and morph means forms. So, Polymorphism means having many forms. In OOPs concept it refers to the functions having the same names but carrying different functionalities.\n",
    "\n",
    "\n",
    "Inheritance and Polymorphism have been exemplified below."
   ]
  },
  {
   "cell_type": "code",
   "execution_count": 8,
   "id": "08e9012d",
   "metadata": {},
   "outputs": [
    {
     "name": "stdout",
     "output_type": "stream",
     "text": [
      "The Mercedez BenZ car provides the mileage of 49.99 km/hr.\n",
      "The BMW X7 car provides the mileage of 43.7 km/hr.\n",
      "This is the descrition method of class BMW.\n"
     ]
    }
   ],
   "source": [
    "# Example of Inheritance\n",
    "\n",
    "\n",
    "try:\n",
    "    class car: #parent class\n",
    "        def __init__(point, brand_name, mileage):\n",
    "            point.brand_name = brand_name\n",
    "            point.mileage = mileage\n",
    "            \n",
    "        def description(point):\n",
    "            return f\"The {point.brand_name} car provides the mileage of {point.mileage} km/hr.\"\n",
    "\n",
    "    \n",
    "    class Mercedez(car): #child class\n",
    "        pass\n",
    "    class BMW(car):     #Child Class\n",
    "        def Description_of_BMW(point):\n",
    "            return \"This is the descrition method of class BMW.\"\n",
    "    \n",
    "    mercedez = Mercedez(\"Mercedez BenZ\", 49.99)\n",
    "    print(mercedez.description())\n",
    "    \n",
    "    bmw = BMW(\"BMW X7\", 43.7)\n",
    "    print(bmw.description())\n",
    "    print(bmw.Description_of_BMW())\n",
    "        \n",
    "\n",
    "except:\n",
    "    print(\"Exemplification of  inheritance\")"
   ]
  },
  {
   "cell_type": "markdown",
   "id": "f11b5a9b",
   "metadata": {},
   "source": [
    "In the above example, parent class has been created named car and child class are BMW and Mercedez. No additional features and methods have been provided in child class Mercedez and one additional method has been provided in child calss BMW. Here the instance method description() of the parent class car is accessible by the objects of child classes with the help of mercedez.description() and bmw.description() and also seperate method of child class BMW is accessible by using bmw.Description_of_BMW()"
   ]
  },
  {
   "cell_type": "code",
   "execution_count": 4,
   "id": "dd16fec3",
   "metadata": {},
   "outputs": [
    {
     "name": "stdout",
     "output_type": "stream",
     "text": [
      "This is the description function of class Mercedez.\n",
      "This is the decscription function of class BMW.\n"
     ]
    }
   ],
   "source": [
    "# Example of Polymorphism\n",
    "\n",
    "try:\n",
    "    class Mercedez:\n",
    "        def description(pointing):\n",
    "            print(\"This is the description function of class Mercedez.\")\n",
    "    \n",
    "    class BMW:\n",
    "        def description(pointing):\n",
    "            print(\"This is the decscription function of class BMW.\")\n",
    "    mercedez1 = Mercedez()\n",
    "    bmw1 = BMW()\n",
    "    \n",
    "    for car in (mercedez1, bmw1):\n",
    "        car.description()\n",
    "except:\n",
    "    print(\"Exemplification of Polymorphism\")"
   ]
  },
  {
   "cell_type": "markdown",
   "id": "9556f9f5",
   "metadata": {},
   "source": [
    "In the above example, when the function is called by using the object or variable bmw1 then the function of class BMW is called and when the function is called by using the varible or object mercedez1 then the function of the class Mercedez is called."
   ]
  }
 ],
 "metadata": {
  "kernelspec": {
   "display_name": "Python 3 (ipykernel)",
   "language": "python",
   "name": "python3"
  },
  "language_info": {
   "codemirror_mode": {
    "name": "ipython",
    "version": 3
   },
   "file_extension": ".py",
   "mimetype": "text/x-python",
   "name": "python",
   "nbconvert_exporter": "python",
   "pygments_lexer": "ipython3",
   "version": "3.9.7"
  }
 },
 "nbformat": 4,
 "nbformat_minor": 5
}
