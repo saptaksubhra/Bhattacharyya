{
 "cells": [
  {
   "cell_type": "markdown",
   "id": "36ab4e5d",
   "metadata": {},
   "source": [
    "Q1. What is the difference between __getattr__ and __getattribute__?\n",
    "\n",
    "These two methods are applied as methods of a class. __getattribute__ is always called. __getattribute__ is used to find an attribute of a class. It wil raise an AttributeError if it fails. And if it fails then __getattr__ is applied by the class. So, __getattr__ is called for attributes that do not actually exist on a class. Th syntax of __getattribute__ is given below.\n",
    "\n",
    "def __getattribute__(self, name):\n",
    "This is called unconditionally to apply attribute access for instances of the class. If the class defines __getattr__(), the latter will not be called until and unless __getattribute__ calls it explicitly or raises an AttributeError.\n",
    "The syntax for __getattr__ is as follows:\n",
    "def __getattr__(self, name):"
   ]
  },
  {
   "cell_type": "code",
   "execution_count": 10,
   "id": "f441513c",
   "metadata": {},
   "outputs": [
    {
     "name": "stdout",
     "output_type": "stream",
     "text": [
      "gross value\n",
      "googlegross2\n",
      "{'gross': 'gross value'}\n"
     ]
    }
   ],
   "source": [
    "# Example of __getattr__\n",
    "\n",
    "try:\n",
    "    class net:\n",
    "        \n",
    "        def __getattr__(sundar, pichai):\n",
    "            \n",
    "            return (\"google\"  +pichai)\n",
    "    \n",
    "    a = net()\n",
    "    a.gross = \"gross value\"\n",
    "    \n",
    "    print(a.gross)\n",
    "    print(a.gross2)\n",
    "    print(a.__dict__)\n",
    "except:\n",
    "    print(\"__getattr__\")\n",
    "    \n",
    "    \n",
    "    \n",
    "    "
   ]
  },
  {
   "cell_type": "markdown",
   "id": "e16bfb95",
   "metadata": {},
   "source": [
    "In the above example, Python can find the value of \"gross\", therefore it prints the value of \"gross\". But, \"gross2\" can not be found so __getattr__ is invoked. If we print a.__dict__ , we can find \"gross\" and the value of \"gross\"."
   ]
  },
  {
   "cell_type": "code",
   "execution_count": 11,
   "id": "5e60e802",
   "metadata": {},
   "outputs": [
    {
     "name": "stdout",
     "output_type": "stream",
     "text": [
      "yahoooocross\n",
      "yahoooocross2\n",
      "yahoooo__dict__\n"
     ]
    }
   ],
   "source": [
    "# Example of __getattribute__\n",
    "\n",
    "try:\n",
    "    class net:\n",
    "        def __getattr__(sundar, pichai):\n",
    "            return(\"google\" +pichai)\n",
    "        \n",
    "        def __getattribute__(larry, page):\n",
    "            return (\"yahoooo\" +page)\n",
    "    b = net()\n",
    "    b.cross = \"cross value\"\n",
    "    \n",
    "    print(b.cross)\n",
    "    print(b.cross2)\n",
    "    print(b.__dict__)\n",
    "except:\n",
    "    print(\"__getattribute__\")\n",
    "        \n",
    "    "
   ]
  },
  {
   "cell_type": "markdown",
   "id": "2ad93cfb",
   "metadata": {},
   "source": [
    "In the above example, even if have assigned a value \"cross value\" to the attribute \"cross\", __getattribute__ is invoked first. Python does not even try to find \"cross\". \"cross2\" does not exist. __getattribute__ is also called here instead of __getattr__.\n",
    "If we see the result of b.__dict__ then , we can decide that again __getattribute__ is invoked first having the highest priority."
   ]
  },
  {
   "cell_type": "markdown",
   "id": "24b68812",
   "metadata": {},
   "source": [
    "Q2. What is the difference between properties and descriptors?\n",
    "\n",
    "Descriptors are low-level mechanism that lets us hook into an object's mechanism having accessed. On the other hand, properties are high-level implementation of descriptors.  So, that means that properties are applied using descriptors."
   ]
  },
  {
   "cell_type": "code",
   "execution_count": 3,
   "id": "554ea1ef",
   "metadata": {},
   "outputs": [
    {
     "name": "stdout",
     "output_type": "stream",
     "text": [
      "Putin over Putin\n"
     ]
    }
   ],
   "source": [
    "# Example of Descriptor\n",
    "# In this below exmaple a data descriptor sets and returns value normally and prints a message logging their access.\n",
    "try:\n",
    "    \n",
    "    class descriptor(object):\n",
    "        \n",
    "        def __init__(point, name = \" \"):\n",
    "            \n",
    "            point.name = name\n",
    "        def __get__(point, obj, objtype):\n",
    "            return \"{} over {}\".format(point.name, point.name)\n",
    "        def __set__(point, obj, name):\n",
    "            if isinstance(name, str):\n",
    "                point.name = name\n",
    "            else:\n",
    "                raise TypeError(\"Name should be strong only.\")\n",
    "    class greek(object):\n",
    "        \n",
    "        name = descriptor()\n",
    "        \n",
    "    a = greek()\n",
    "    a.name = \"Putin\"\n",
    "    print(a.name)\n",
    "except:\n",
    "    print(\"Descriptor Example\")"
   ]
  },
  {
   "cell_type": "code",
   "execution_count": 14,
   "id": "27976bcc",
   "metadata": {},
   "outputs": [
    {
     "name": "stdout",
     "output_type": "stream",
     "text": [
      "Getting the value\n",
      "TrinityWharf\n",
      "Setting the value to Auckland on the map\n",
      "Deleting the value\n"
     ]
    }
   ],
   "source": [
    "# Example of Property\n",
    "\n",
    "try:\n",
    "    \n",
    "    class second:\n",
    "        \n",
    "        def __init__(po, value):\n",
    "            \n",
    "            po._value = value\n",
    "        def getvalue(po):\n",
    "            print(\"Getting the value\")\n",
    "            return po._value\n",
    "        def setvalue(po, value):\n",
    "            print(\"Setting the value to \" +value)\n",
    "            po._value = value\n",
    "        def delvalue(po):\n",
    "            print(\"Deleting the value\")\n",
    "            del po._value\n",
    "        value= property(getvalue, setvalue, delvalue)\n",
    "    A = second(\"TrinityWharf\")\n",
    "    print(A.value)\n",
    "    \n",
    "    A.value = \"Auckland on the map\"\n",
    "    del A.value\n",
    "except:\n",
    "    print(\"Example of Property\")"
   ]
  },
  {
   "cell_type": "markdown",
   "id": "753c9771",
   "metadata": {},
   "source": [
    "Q3. What are the key differences in functionality between __getattr__ and __getattribute__, as well as\n",
    "properties and descriptors?\n",
    "\n",
    "The key differences in terms of functionality between __getattr__ and __getattribute__ is that __getattribute is called first having the highest priority and it is irrespcetive of the existence of the attribute. And __getattr__ is called last having the lowest priority, if Python can not find the attribute. So, in short __getattr__ is invoked or used if the attribute is not found in an usual way. __getattribute__ is invoked even before looking at the actual attributes on the object.\n",
    "\n",
    "Descriptors are low-level mechanism that lets us hook into an object's mechanism having accessed. On the other hand, properties are high-level implementation of descriptors.  So, that means that properties are applied using descriptors."
   ]
  }
 ],
 "metadata": {
  "kernelspec": {
   "display_name": "Python 3 (ipykernel)",
   "language": "python",
   "name": "python3"
  },
  "language_info": {
   "codemirror_mode": {
    "name": "ipython",
    "version": 3
   },
   "file_extension": ".py",
   "mimetype": "text/x-python",
   "name": "python",
   "nbconvert_exporter": "python",
   "pygments_lexer": "ipython3",
   "version": "3.9.7"
  }
 },
 "nbformat": 4,
 "nbformat_minor": 5
}
