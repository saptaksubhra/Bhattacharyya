{
 "cells": [
  {
   "cell_type": "markdown",
   "id": "736d6746",
   "metadata": {},
   "source": [
    "Question 1:\n",
    "Please write a program using generator to print the numbers which can be divisible by 5 and\n",
    "7 between 0 and n in comma separated form while n is input by console.\n",
    "Example:\n",
    "If the following n is given as input to the program:\n",
    "100\n",
    "Then, the output of the program should be:\n",
    "0,35,70"
   ]
  },
  {
   "cell_type": "code",
   "execution_count": 2,
   "id": "aa4a866c",
   "metadata": {},
   "outputs": [
    {
     "name": "stdout",
     "output_type": "stream",
     "text": [
      "Please enter the value of n : 100\n",
      "0 , 35 , 70\n"
     ]
    }
   ],
   "source": [
    "try:\n",
    "    def generator(n):\n",
    "        for i in range(n+1):\n",
    "            if i % 5 == 0 and i % 7 == 0:\n",
    "                yield i\n",
    "    n = int(input(\"Please enter the value of n : \"))\n",
    "    values = []\n",
    "    for i in generator(n):\n",
    "        values.append(str(i))\n",
    "    print(\" , \".join(values))\n",
    "except:\n",
    "    print(\"Exception Handling\")"
   ]
  },
  {
   "cell_type": "markdown",
   "id": "4ba2a65a",
   "metadata": {},
   "source": [
    "Question 2:\n",
    "Please write a program using generator to print the even numbers between 0 and n in comma\n",
    "separated form while n is input by console.\n",
    "Example:\n",
    "If the following n is given as input to the program:\n",
    "10\n",
    "Then, the output of the program should be:\n",
    "0,2,4,6,8,10"
   ]
  },
  {
   "cell_type": "code",
   "execution_count": 3,
   "id": "32085816",
   "metadata": {},
   "outputs": [
    {
     "name": "stdout",
     "output_type": "stream",
     "text": [
      " Please enter the value of n : 10\n",
      "0 , 2 , 4 , 6 , 8 , 10\n"
     ]
    }
   ],
   "source": [
    "try:\n",
    "    def evengenerator1(n):\n",
    "        i = 0\n",
    "        while i <= n:\n",
    "            if i % 2 ==0:\n",
    "                yield i\n",
    "            i = i + 1\n",
    "    n = int(input(\" Please enter the value of n : \"))\n",
    "    values1 = []\n",
    "    for i in evengenerator1(n):\n",
    "        values1.append(str(i))\n",
    "    print(\" , \".join(values1))\n",
    "except:\n",
    "    print(\"Exception Handling\")\n",
    "            \n",
    "        "
   ]
  },
  {
   "cell_type": "markdown",
   "id": "15f66aa4",
   "metadata": {},
   "source": [
    "Question 3:\n",
    "The Fibonacci Sequence is computed based on the following formula:\n",
    "f(n)=0 if n=0\n",
    "f(n)=1 if n=1\n",
    "f(n)=f(n-1)+f(n-2) if n>1\n",
    "Please write a program using list comprehension to print the Fibonacci Sequence in comma\n",
    "separated form with a given n input by console.\n",
    "Example:\n",
    "If the following n is given as input to the program:\n",
    "7\n",
    "\n",
    "Then, the output of the program should be:\n",
    "0,1,1,2,3,5,8,13"
   ]
  },
  {
   "cell_type": "code",
   "execution_count": 4,
   "id": "cba48ea8",
   "metadata": {},
   "outputs": [
    {
     "name": "stdout",
     "output_type": "stream",
     "text": [
      " Please enter the value of n : 7\n",
      "0 , 1 , 1 , 2 , 3 , 5 , 8 , 13\n"
     ]
    }
   ],
   "source": [
    "try:\n",
    "    def f(n):\n",
    "        if n == 0:\n",
    "            return 0\n",
    "        elif n == 1:\n",
    "            return 1\n",
    "        else:\n",
    "            return f(n-1)+f(n-2)\n",
    "        \n",
    "    n = int(input(\" Please enter the value of n : \"))\n",
    "    values2 = [str(f(x)) for x in range(0, n+1)]\n",
    "    print(\" , \".join(values2))\n",
    "except:\n",
    "    print(\"Exception Handling\")"
   ]
  },
  {
   "cell_type": "markdown",
   "id": "7d71c2be",
   "metadata": {},
   "source": [
    "Question 4:\n",
    "Assuming that we have some email addresses in the \"username@companyname.com\"format,\n",
    "please write program to print the user name of a given email address. Both user names and\n",
    "company names are composed of letters only.\n",
    "Example:\n",
    "If the following email address is given as input to the program:\n",
    "john@google.com\n",
    "Then, the output of the program should be:\n",
    "john"
   ]
  },
  {
   "cell_type": "code",
   "execution_count": 20,
   "id": "f92ccc90",
   "metadata": {},
   "outputs": [
    {
     "name": "stdout",
     "output_type": "stream",
     "text": [
      " Please enter the email address : john@google.com\n",
      "['john']\n"
     ]
    }
   ],
   "source": [
    "try:\n",
    "    import re\n",
    "    Email_Address = input(\" Please enter the email address : \")\n",
    "    Pattern = \"(\\w+)@\\w+.com\"\n",
    "    \n",
    "    Result = re.findall(Pattern, Email_Address)\n",
    "    print(Result)\n",
    "except:\n",
    "    print(\" Exception Handling\")"
   ]
  },
  {
   "cell_type": "markdown",
   "id": "feace692",
   "metadata": {},
   "source": [
    "Question 5:\n",
    "Define a class named Shape and its subclass Square. The Square class has an init function\n",
    "which takes a length as argument. Both classes have a area function which can print the area\n",
    "of the shape where Shape's area is 0 by default."
   ]
  },
  {
   "cell_type": "code",
   "execution_count": 23,
   "id": "e0869b4f",
   "metadata": {},
   "outputs": [
    {
     "name": "stdout",
     "output_type": "stream",
     "text": [
      "100\n"
     ]
    }
   ],
   "source": [
    "try:\n",
    "    class Shape():\n",
    "        def __init__(ineuron):\n",
    "            pass\n",
    "        def area(ineuron):\n",
    "            return 0\n",
    "    class Square(Shape):\n",
    "        def __init__(ineuron, length):\n",
    "            Shape.__init__(ineuron)\n",
    "            ineuron.length = length\n",
    "                \n",
    "        def area(ineuron):\n",
    "            return ineuron.length*ineuron.length\n",
    "    Resultant_Area = Square(10)\n",
    "    print(Resultant_Area.area())\n",
    "    \n",
    "except:\n",
    "    print(\"Please print the resultant area.\")"
   ]
  }
 ],
 "metadata": {
  "kernelspec": {
   "display_name": "Python 3 (ipykernel)",
   "language": "python",
   "name": "python3"
  },
  "language_info": {
   "codemirror_mode": {
    "name": "ipython",
    "version": 3
   },
   "file_extension": ".py",
   "mimetype": "text/x-python",
   "name": "python",
   "nbconvert_exporter": "python",
   "pygments_lexer": "ipython3",
   "version": "3.9.7"
  }
 },
 "nbformat": 4,
 "nbformat_minor": 5
}
