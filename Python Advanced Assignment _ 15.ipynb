{
 "cells": [
  {
   "cell_type": "markdown",
   "id": "0d58469f",
   "metadata": {},
   "source": [
    "1. What are the new features added in Python 3.8 version?\n",
    "\n",
    "Python 3.8 contains many small improvements over the earlier versions. The new features addaed to Python3.8 version are\n",
    "\n",
    "Positional-only Parameters(/): This parameter indicates that some function parameters must be specified positionally and can not be used as keyword arguments."
   ]
  },
  {
   "cell_type": "code",
   "execution_count": 1,
   "id": "dc61fc8c",
   "metadata": {},
   "outputs": [
    {
     "name": "stdout",
     "output_type": "stream",
     "text": [
      "79\n",
      "187\n"
     ]
    },
    {
     "ename": "TypeError",
     "evalue": "add() got some positional-only arguments passed as keyword arguments: 'a, b'",
     "output_type": "error",
     "traceback": [
      "\u001b[1;31m---------------------------------------------------------------------------\u001b[0m",
      "\u001b[1;31mTypeError\u001b[0m                                 Traceback (most recent call last)",
      "\u001b[1;32m~\\AppData\\Local\\Temp/ipykernel_3288/3115829101.py\u001b[0m in \u001b[0;36m<module>\u001b[1;34m\u001b[0m\n\u001b[0;32m      7\u001b[0m \u001b[0mprint\u001b[0m\u001b[1;33m(\u001b[0m\u001b[0madd\u001b[0m\u001b[1;33m(\u001b[0m\u001b[1;36m36\u001b[0m\u001b[1;33m,\u001b[0m \u001b[1;36m43\u001b[0m\u001b[1;33m)\u001b[0m\u001b[1;33m)\u001b[0m\u001b[1;33m\u001b[0m\u001b[1;33m\u001b[0m\u001b[0m\n\u001b[0;32m      8\u001b[0m \u001b[0mprint\u001b[0m\u001b[1;33m(\u001b[0m\u001b[0madd\u001b[0m\u001b[1;33m(\u001b[0m\u001b[1;36m36\u001b[0m\u001b[1;33m,\u001b[0m \u001b[1;36m43\u001b[0m\u001b[1;33m,\u001b[0m \u001b[1;36m108\u001b[0m\u001b[1;33m)\u001b[0m\u001b[1;33m)\u001b[0m\u001b[1;33m\u001b[0m\u001b[1;33m\u001b[0m\u001b[0m\n\u001b[1;32m----> 9\u001b[1;33m \u001b[0mprint\u001b[0m\u001b[1;33m(\u001b[0m\u001b[0madd\u001b[0m\u001b[1;33m(\u001b[0m\u001b[0ma\u001b[0m \u001b[1;33m=\u001b[0m \u001b[1;36m36\u001b[0m\u001b[1;33m,\u001b[0m \u001b[0mb\u001b[0m \u001b[1;33m=\u001b[0m \u001b[1;36m43\u001b[0m\u001b[1;33m)\u001b[0m\u001b[1;33m)\u001b[0m\u001b[1;33m\u001b[0m\u001b[1;33m\u001b[0m\u001b[0m\n\u001b[0m",
      "\u001b[1;31mTypeError\u001b[0m: add() got some positional-only arguments passed as keyword arguments: 'a, b'"
     ]
    }
   ],
   "source": [
    "# Example\n",
    "# Arguments before / are considered as positional arguments \n",
    "# The marker \"/\" signifies that passing values of a and b can only be done positionally, but not using keyword arguments.\n",
    "\n",
    "def add(a, b, /, c = 0):\n",
    "    A = a + b + c\n",
    "    return A\n",
    "print(add(36, 43))\n",
    "print(add(36, 43, 108))\n",
    "print(add(a = 36, b = 43))"
   ]
  },
  {
   "cell_type": "markdown",
   "id": "77009f93",
   "metadata": {},
   "source": [
    "reversed() function: This function works with a dictionary. reversed() can be used for accessing elements in reverse order of insertion."
   ]
  },
  {
   "cell_type": "code",
   "execution_count": 10,
   "id": "4b767eea",
   "metadata": {},
   "outputs": [
    {
     "data": {
      "text/plain": [
       "[('w', 16), ('v', 8), ('u', 3)]"
      ]
     },
     "execution_count": 10,
     "metadata": {},
     "output_type": "execute_result"
    }
   ],
   "source": [
    "# Example of reversed()\n",
    "\n",
    "my_own_dict = dict(u = 3, v = 8 , w = 16)\n",
    "    \n",
    "list(reversed(my_own_dict))\n",
    "list(reversed(my_own_dict.items()))"
   ]
  },
  {
   "cell_type": "markdown",
   "id": "cccb7589",
   "metadata": {},
   "source": [
    "csv module : The csv.DictReader returns instances of dictionary instead of a 'collections.OrderedDict'.\n",
    "pow() function: In the three argument form of pow(), when the exponent is -1, it calculates the modular multiplicative inverse of 43 modulo 36. "
   ]
  },
  {
   "cell_type": "code",
   "execution_count": 14,
   "id": "cd3d9a33",
   "metadata": {},
   "outputs": [
    {
     "name": "stdout",
     "output_type": "stream",
     "text": [
      "31\n"
     ]
    }
   ],
   "source": [
    "print(pow(43, -1, 36))"
   ]
  },
  {
   "cell_type": "markdown",
   "id": "1b0c0048",
   "metadata": {},
   "source": [
    "There is no need of parentheses in case of yield and return statement to return multiple values."
   ]
  },
  {
   "cell_type": "code",
   "execution_count": 16,
   "id": "d45cb82a",
   "metadata": {},
   "outputs": [
    {
     "name": "stdout",
     "output_type": "stream",
     "text": [
      "('father,', 'Mother,', 'Son,', 'Daughter')\n"
     ]
    }
   ],
   "source": [
    "\n",
    "# Example\n",
    "\n",
    "def parse(family_member):\n",
    "    lastname, *members = family_member.split()\n",
    "    return lastname.lower(), *members\n",
    "\n",
    "print(parse(\"Father, Mother, Son, Daughter\"))"
   ]
  },
  {
   "cell_type": "markdown",
   "id": "3478d16e",
   "metadata": {},
   "source": [
    "Syntax Warning: If we miss out on some indentation to write code in a prgramming then, in that case instaed of throwing TypeError in the console, it displays an infomative syuntax warning like the following example."
   ]
  },
  {
   "cell_type": "code",
   "execution_count": 37,
   "id": "e43e65d2",
   "metadata": {},
   "outputs": [
    {
     "name": "stderr",
     "output_type": "stream",
     "text": [
      "<>:1: SyntaxWarning: 'tuple' object is not callable; perhaps you missed a comma?\n",
      "<>:1: SyntaxWarning: 'tuple' object is not callable; perhaps you missed a comma?\n",
      "C:\\Users\\USER\\AppData\\Local\\Temp/ipykernel_3288/1389102424.py:1: SyntaxWarning: 'tuple' object is not callable; perhaps you missed a comma?\n",
      "  t = [(3,6,1,5) (43,28,26,36)],\n"
     ]
    },
    {
     "ename": "TypeError",
     "evalue": "'tuple' object is not callable",
     "output_type": "error",
     "traceback": [
      "\u001b[1;31m---------------------------------------------------------------------------\u001b[0m",
      "\u001b[1;31mTypeError\u001b[0m                                 Traceback (most recent call last)",
      "\u001b[1;32m~\\AppData\\Local\\Temp/ipykernel_3288/1389102424.py\u001b[0m in \u001b[0;36m<module>\u001b[1;34m\u001b[0m\n\u001b[1;32m----> 1\u001b[1;33m \u001b[0mt\u001b[0m \u001b[1;33m=\u001b[0m \u001b[1;33m[\u001b[0m\u001b[1;33m(\u001b[0m\u001b[1;36m3\u001b[0m\u001b[1;33m,\u001b[0m\u001b[1;36m6\u001b[0m\u001b[1;33m,\u001b[0m\u001b[1;36m1\u001b[0m\u001b[1;33m,\u001b[0m\u001b[1;36m5\u001b[0m\u001b[1;33m)\u001b[0m \u001b[1;33m(\u001b[0m\u001b[1;36m43\u001b[0m\u001b[1;33m,\u001b[0m\u001b[1;36m28\u001b[0m\u001b[1;33m,\u001b[0m\u001b[1;36m26\u001b[0m\u001b[1;33m,\u001b[0m\u001b[1;36m36\u001b[0m\u001b[1;33m)\u001b[0m\u001b[1;33m]\u001b[0m\u001b[1;33m,\u001b[0m\u001b[1;33m\u001b[0m\u001b[1;33m\u001b[0m\u001b[0m\n\u001b[0m",
      "\u001b[1;31mTypeError\u001b[0m: 'tuple' object is not callable"
     ]
    }
   ],
   "source": [
    "t = [(3,6,1,5) (43,28,26,36)],"
   ]
  },
  {
   "cell_type": "markdown",
   "id": "bcf85030",
   "metadata": {},
   "source": [
    "Dictionary Comprehension : This is modified so that the key will be computed first and then the value."
   ]
  },
  {
   "cell_type": "code",
   "execution_count": 1,
   "id": "beb2e61c",
   "metadata": {},
   "outputs": [
    {
     "name": "stdout",
     "output_type": "stream",
     "text": [
      "Name : Kohli\n",
      "Salary : 10000000\n"
     ]
    }
   ],
   "source": [
    "# Example of Dictionary Comprehension\n",
    "\n",
    "d = {input(\"Name : \"), input(\"Salary : \")}"
   ]
  },
  {
   "cell_type": "markdown",
   "id": "7c18f636",
   "metadata": {},
   "source": [
    "2. What is monkey patching in Python?\n",
    "\n",
    "Monkey patching refers to dynamic modifications of a class or module. In Python, we can actually change the behaviour of the code at run-time. Monkey patching only can be possible in case of dynamic programming language. In Monkey patching, we reopen the existing classess or modules during the run-time and chnage the behaviour of the class or code. But we should be very cautios during that process, and we shoud not execute this process unless we really nedd to do it. Since Python is dyanmic programming language and classess are mutable so we can reopen those classess and modify and even replace those."
   ]
  },
  {
   "cell_type": "code",
   "execution_count": 25,
   "id": "a3194644",
   "metadata": {},
   "outputs": [
    {
     "data": {
      "text/plain": [
       "151"
      ]
     },
     "execution_count": 25,
     "metadata": {},
     "output_type": "execute_result"
    }
   ],
   "source": [
    "# Example of Monkey Patching\n",
    "\n",
    "class MonkeyPatching:\n",
    "    def __init__(nz, number):\n",
    "        nz.number = number\n",
    "    def add(nz, other):\n",
    "        return (nz.number + other)\n",
    "obj = MonkeyPatching(43)\n",
    "obj.add(108)"
   ]
  },
  {
   "cell_type": "markdown",
   "id": "37110897",
   "metadata": {},
   "source": [
    "3. What is the difference between a shallow copy and deep copy?\n",
    "\n",
    "Shallow copy is faster and deep copy is comparatively slower.\n",
    "shallow copy stores the copy of the original object and points the references to the object whereas deep copy stores the copy of the original object and recursively copies the objects too.\n",
    "shallow copy stores up the references of the objects to the original memory address and deep copy stores up the copies of the object's value.\n",
    "The reflection of changes made to the new or copied object in the original object happens in case of shallow copy but deep copy does not reflect changes made to the copied or new object in the orginal object."
   ]
  },
  {
   "cell_type": "code",
   "execution_count": 32,
   "id": "d6228c67",
   "metadata": {},
   "outputs": [
    {
     "name": "stdout",
     "output_type": "stream",
     "text": [
      "Old list is : [[36, 43, 108], [1008, 99, 108]]\n",
      "New list is  : [[36, 43, 108], [1008, 99, 108]]\n"
     ]
    }
   ],
   "source": [
    "# Copying a list using shallow copy\n",
    "\n",
    "import copy\n",
    "\n",
    "old_list= [[36,43,108], [1008,99,108]]\n",
    "\n",
    "new_list = copy.copy(old_list)\n",
    "\n",
    "print(\"Old list is :\", old_list)\n",
    "print(\"New list is  :\", new_list)"
   ]
  },
  {
   "cell_type": "code",
   "execution_count": 33,
   "id": "8ccbbba5",
   "metadata": {},
   "outputs": [
    {
     "name": "stdout",
     "output_type": "stream",
     "text": [
      "Old list is :  [[99, 108, 1008], [44, 43, 49]]\n",
      "New list is :  [[99, 108, 1008], [44, 43, 49]]\n"
     ]
    }
   ],
   "source": [
    "# Copying a list using deep copy\n",
    "import copy\n",
    "\n",
    "old_list = [[99,108,1008], [44,43,49]]\n",
    "new_list = copy.deepcopy(old_list)\n",
    "\n",
    "print(\"Old list is : \", old_list)\n",
    "print(\"New list is : \", new_list)"
   ]
  },
  {
   "cell_type": "markdown",
   "id": "5103fb3a",
   "metadata": {},
   "source": [
    "4. What is the maximum possible length of an identifier?\n",
    "\n",
    "The maximum possible length of an identifier in Python is 79 characters.\n",
    "Python when combined with identifier is case-sensitive.\n",
    "When writing or using identifiers in Python, it has a maximum of 79 characters.\n",
    "Unlikely, Python gives the identifiers unlimited length.\n",
    "However, the layout of PEP-8 prevents the user from breaking the rules and includes a 79-character limit."
   ]
  },
  {
   "cell_type": "markdown",
   "id": "f7f80446",
   "metadata": {},
   "source": [
    "5. What is generator comprehension?\n",
    "\n",
    "A generator comprehension is a single-line specification to define a generator in Python. It is very important to learn the syntax of generator comprehension in order to write simple and legible code.\n",
    "But generator comprehension is not the only method to define generators in Python.\n",
    "The syntax of generator comprehension is given below.\n",
    "\n",
    "(<expression> for <var> in <iterable> [if <condition>])"
   ]
  },
  {
   "cell_type": "markdown",
   "id": "a10a8f01",
   "metadata": {},
   "source": [
    "We can feed this generator to any function that accepts iterables. For example if we can feed gen to the function sum which sumsup the contents of the iterable."
   ]
  },
  {
   "cell_type": "code",
   "execution_count": 2,
   "id": "8f65d79e",
   "metadata": {},
   "outputs": [
    {
     "data": {
      "text/plain": [
       "100"
      ]
     },
     "execution_count": 2,
     "metadata": {},
     "output_type": "execute_result"
    }
   ],
   "source": [
    "# Example of generator comprehension\n",
    "gen = (i**3 for i in range(5))\n",
    "sum(gen)\n"
   ]
  }
 ],
 "metadata": {
  "kernelspec": {
   "display_name": "Python 3 (ipykernel)",
   "language": "python",
   "name": "python3"
  },
  "language_info": {
   "codemirror_mode": {
    "name": "ipython",
    "version": 3
   },
   "file_extension": ".py",
   "mimetype": "text/x-python",
   "name": "python",
   "nbconvert_exporter": "python",
   "pygments_lexer": "ipython3",
   "version": "3.9.7"
  }
 },
 "nbformat": 4,
 "nbformat_minor": 5
}
