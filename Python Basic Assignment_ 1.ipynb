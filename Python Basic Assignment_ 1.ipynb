{
 "cells": [
  {
   "cell_type": "code",
   "execution_count": null,
   "id": "b91cff2c",
   "metadata": {},
   "outputs": [],
   "source": [
    "1. In the below elements which of them are values or an expression? eg:- values can be integer or string and expressions will be mathematical operators.\n",
    "    \n",
    "    * -- expression\n",
    "'hello'--value\n",
    "-87.8-- value\n",
    "- expression\n",
    "/ expression\n",
    "+\texpression\n",
    "6 value\n"
   ]
  },
  {
   "cell_type": "markdown",
   "id": "5034fe91",
   "metadata": {},
   "source": [
    "2. What is the difference between string and variable?\n",
    "\n",
    "A variable is basically the name of the location in the primary memory or RAM of our computer. This can be chosen by us. It can be an integer, float, or a string. Whereas anything we assign to a variable using quotes (single or double) will be considered as a string.Thus, a string is one of several types of a variable.\n",
    "\n",
    "For example\n",
    "a=\"5\" or b='sap' is a string\n",
    "\n",
    "but c=16 is a variable because in this example, the variable c is created when we assign the value 16 to it, meaning that a memory address is allocated to store the value 16."
   ]
  },
  {
   "cell_type": "markdown",
   "id": "f7aec14f",
   "metadata": {},
   "source": [
    "3. Describe three different data types.\n",
    "\n",
    "Three types of data types are integer, float, string.\n",
    "\n",
    "integer :It is the most common numeric data type used to store numbers without a fractional component.\n",
    "Such as: 1 ,2, 6 these are integers.\n",
    "\n",
    "Floating Point (float)\n",
    "It is also a numeric data type used to store numbers that may have a fractional component.\n",
    "\n",
    "Such  as: 3.6, 7.86 these are floating point.\n",
    "\n",
    "String (str or text)\n",
    "It is a sequence of characters and the most commonly used data type to store text. Additionally, a string can also include digits and symbols, however, it is always treated as text. String is always inside double or single quotes. \n",
    "\n",
    "For example: \"sap\",'12' these are string\n",
    "\n",
    "\n"
   ]
  },
  {
   "cell_type": "markdown",
   "id": "96dfa461",
   "metadata": {},
   "source": [
    "4. What is an expression made up of? What do all expressions do?\n",
    "\n",
    "An expression is a combination of values, variables, operators, and calls to functions.\n",
    "\n",
    "All expressions evaluate down to a single value.\n",
    "\n",
    "\n"
   ]
  },
  {
   "cell_type": "markdown",
   "id": "7bb879fd",
   "metadata": {},
   "source": [
    "5. This assignment statements, like spam = 10. What is the difference between an expression and a statement?\n",
    "\n",
    "A statement is a complete line of code that performs some action, while an expression is any section of the code that evaluates to a value. Expressions can be combined “horizontally” into larger expressions using operators, while statements can only be combined “vertically” by writing one after another, or with block constructs. Every expression can be used as a statement (whose effect is to evaluate the expression and ignore the resulting value), but most statements cannot be used as expressions.\n",
    "\n"
   ]
  },
  {
   "cell_type": "markdown",
   "id": "ead79729",
   "metadata": {},
   "source": [
    "6.After running the following code, what does the variable bacon contain?\n",
    "bacon = 22\n",
    "bacon + 1\n",
    "\n",
    "The bacon variable contains 23\n",
    "\n"
   ]
  },
  {
   "cell_type": "markdown",
   "id": "3840ee4f",
   "metadata": {},
   "source": [
    "7.What should the values of the following two terms be?\n",
    "'spam' + 'spamspam'\n",
    "answer: 'spamspamspam'\n",
    "\n",
    "\n",
    "\n",
    "'spam' * 3\n",
    "\n",
    "\n",
    "answer:'spamspamspam'\n"
   ]
  },
  {
   "cell_type": "markdown",
   "id": "a77a2e5a",
   "metadata": {},
   "source": [
    "8.Why is eggs a valid variable name while 100 is invalid?\n",
    "\n",
    "Variable names cannot begin with a number. That is why eggs is a valid variable name whereas 100 is inavlid. 100 is an integer.\n",
    "\n"
   ]
  },
  {
   "cell_type": "markdown",
   "id": "fff1b8b7",
   "metadata": {},
   "source": [
    "9. What three functions can be used to get the integer, floating-point number, or string version of a value?\n",
    "\n",
    "The int(), float(), and str() functions will evaluate to the integer, floating-point number, and string versions of the value passed to them respectively."
   ]
  },
  {
   "cell_type": "markdown",
   "id": "cb74d67d",
   "metadata": {},
   "source": [
    "10. Why does this expression cause an error? How can you fix it?\n",
    "'I have eaten ' + 99 + ' burritos.'\n",
    "\n",
    "The expression causes an error because 99 is an integer, and only strings can be concatenated to other strings with the + operator. The correct way is 'I have eaten ' + str(99) + ' burritos.'.\n"
   ]
  }
 ],
 "metadata": {
  "kernelspec": {
   "display_name": "Python 3 (ipykernel)",
   "language": "python",
   "name": "python3"
  },
  "language_info": {
   "codemirror_mode": {
    "name": "ipython",
    "version": 3
   },
   "file_extension": ".py",
   "mimetype": "text/x-python",
   "name": "python",
   "nbconvert_exporter": "python",
   "pygments_lexer": "ipython3",
   "version": "3.9.7"
  }
 },
 "nbformat": 4,
 "nbformat_minor": 5
}
