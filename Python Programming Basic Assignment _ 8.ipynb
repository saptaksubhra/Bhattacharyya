{
 "cells": [
  {
   "cell_type": "code",
   "execution_count": 2,
   "id": "45face69",
   "metadata": {},
   "outputs": [
    {
     "name": "stdout",
     "output_type": "stream",
     "text": [
      "[11, 13, 15]\n",
      "[17, 19, 21]\n",
      "[23, 25, 27]\n"
     ]
    }
   ],
   "source": [
    "#1.\tWrite a Python Program to Add Two Matrices?\n",
    "\n",
    "try:\n",
    "    a = [[1,2,3],[4,5,6],[7,8,9]]\n",
    "    b = [[10,11,12],[13,14,15],[16,17,18]]\n",
    "    output = [[0,0,0],[0,0,0],[0,0,0]]\n",
    "    for i in range(len(a)):\n",
    "        for j in range (len(a[0])):\n",
    "            output[i][j] = a[i][j] + b[i][j]\n",
    "    for c in output:\n",
    "        print(c)\n",
    "except:\n",
    "    print(\"Addition of two matrices\")\n"
   ]
  },
  {
   "cell_type": "code",
   "execution_count": 4,
   "id": "89fdff29",
   "metadata": {},
   "outputs": [
    {
     "name": "stdout",
     "output_type": "stream",
     "text": [
      "[84, 90, 96]\n",
      "[201, 216, 231]\n",
      "[318, 342, 366]\n"
     ]
    }
   ],
   "source": [
    "#2.\tWrite a Python Program to Multiply Two Matrices?\n",
    "\n",
    "try:\n",
    "    \n",
    "    a = [[1,2,3],[4,5,6],[7,8,9]]  # 3x3 Matrix\n",
    "    b = [[10,11,12],[13,14,15],[16,17,18]]   #3x3 Matrix\n",
    "    output = [[0,0,0],[0,0,0],[0,0,0]]  #Output is 3x3 Matrix\n",
    "    \n",
    "    for i in range(len(a)):\n",
    "        for j in range (len(b[0])):\n",
    "            for k in range(len(b)):\n",
    "            \n",
    "                output[i][j] = output[i][j] + a[i][k] * b[k][j]\n",
    "    for d in output:\n",
    "        print(d)\n",
    "except:\n",
    "    print(\"Multiplication of two matrices\")\n",
    "    "
   ]
  },
  {
   "cell_type": "code",
   "execution_count": 13,
   "id": "933343fd",
   "metadata": {},
   "outputs": [
    {
     "name": "stdout",
     "output_type": "stream",
     "text": [
      "[1, 3, 5]\n",
      "[2, 4, 6]\n"
     ]
    }
   ],
   "source": [
    "#3.\tWrite a Python Program to Transpose a Matrix?\n",
    "\n",
    "try:\n",
    "    A = [[1,2],[3,4],[5,6]]\n",
    "    \n",
    "    Result = [[0,0,0],[0,0,0]]\n",
    "    for i in range(len(A)):\n",
    "        for j in range(len(A[0])):\n",
    "            Result[j][i] = A[i][j]\n",
    "    for output in Result:\n",
    "        print(output)\n",
    "except:\n",
    "    print(\"Transposing a matrix\")"
   ]
  },
  {
   "cell_type": "code",
   "execution_count": 14,
   "id": "3bf47d37",
   "metadata": {},
   "outputs": [
    {
     "name": "stdout",
     "output_type": "stream",
     "text": [
      "Please enter a string : A quick brown fox jumps over the lazy dog.\n",
      "The sorted words are : \n",
      "a\n",
      "brown\n",
      "dog.\n",
      "fox\n",
      "jumps\n",
      "lazy\n",
      "over\n",
      "quick\n",
      "the\n"
     ]
    }
   ],
   "source": [
    "#4.\tWrite a Python Program to Sort Words in Alphabetic Order?\n",
    "\n",
    "try:\n",
    "    my_string = input(\"Please enter a string : \")\n",
    "    \n",
    "    words = [word.lower() for word in my_string.split()]\n",
    "    \n",
    "    words.sort()\n",
    "    \n",
    "    print(\"The sorted words are : \")\n",
    "    \n",
    "    for word in words:\n",
    "        print(word)\n",
    "except:\n",
    "    print(\"Sorting of words in alphabetice manner\")\n",
    "        "
   ]
  },
  {
   "cell_type": "code",
   "execution_count": 5,
   "id": "a1f4d26f",
   "metadata": {},
   "outputs": [
    {
     "name": "stdout",
     "output_type": "stream",
     "text": [
      "Please enter a string with punctuation marks : Such as: Bat, ball, Wicket.\n",
      "Such as Bat ball Wicket\n"
     ]
    }
   ],
   "source": [
    "#5.\tWrite a Python Program to Remove Punctuation From a String?\n",
    "\n",
    "try:\n",
    "    punctuations = '''!()-[]{};:'\"\\,<>./?@#$%^&*_~'''\n",
    "    my_input_string = input(\"Please enter a string with punctuation marks : \")\n",
    "    \n",
    "    no_punctuation = \"\"\n",
    "    for character in my_input_string:\n",
    "        if character not in punctuations:\n",
    "            no_punctuation = no_punctuation + character\n",
    "    print(no_punctuation)\n",
    "    \n",
    "except:\n",
    "    print(\"Removing punctuation marks from a string\")"
   ]
  }
 ],
 "metadata": {
  "kernelspec": {
   "display_name": "Python 3 (ipykernel)",
   "language": "python",
   "name": "python3"
  },
  "language_info": {
   "codemirror_mode": {
    "name": "ipython",
    "version": 3
   },
   "file_extension": ".py",
   "mimetype": "text/x-python",
   "name": "python",
   "nbconvert_exporter": "python",
   "pygments_lexer": "ipython3",
   "version": "3.9.7"
  }
 },
 "nbformat": 4,
 "nbformat_minor": 5
}
