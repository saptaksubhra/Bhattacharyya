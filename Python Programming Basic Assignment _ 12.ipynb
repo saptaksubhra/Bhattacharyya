{
 "cells": [
  {
   "cell_type": "code",
   "execution_count": 21,
   "id": "0afdf7bd",
   "metadata": {},
   "outputs": [
    {
     "name": "stdout",
     "output_type": "stream",
     "text": [
      "The dictionary is :  {'How': [1, 2, 3], 'are': [4, 5, 6], 'you': [7, 8, 9], 'doing': [10, 11, 12]}\n",
      "The unique values are :  [1, 2, 3, 4, 5, 6, 7, 8, 9, 10, 11, 12]\n"
     ]
    }
   ],
   "source": [
    "# 1. Write a Python program to Extract Unique values dictionary values?\n",
    "\n",
    "try:\n",
    "    My_Dictionary = {\"How\":[1,2,3], \"are\":[4,5,6],\"you\":[7,8,9],\"doing\":[10,11,12]}\n",
    "    print(\"The dictionary is : \", My_Dictionary)\n",
    "    \n",
    "    Result = list(sorted({element for value in My_Dictionary.values() for element in value}))\n",
    "    print(\"The unique values are : \", Result)\n",
    "except:\n",
    "    print(\"Dictionary unique values\")\n"
   ]
  },
  {
   "cell_type": "code",
   "execution_count": 22,
   "id": "5b387490",
   "metadata": {},
   "outputs": [
    {
     "name": "stdout",
     "output_type": "stream",
     "text": [
      "The sum of all items in a dictionary is :  6752\n"
     ]
    }
   ],
   "source": [
    "# 2. Write a Python program to find the sum of all items in a dictionary?\n",
    "\n",
    "try:\n",
    "    def Return_the_Sum(My_Dictionary):\n",
    "        l5 = []\n",
    "        for i in My_Dictionary:\n",
    "            l5.append(My_Dictionary[i])\n",
    "        Ultimate_Sum = sum(l5)\n",
    "        return Ultimate_Sum\n",
    "    \n",
    "    Dictionary = {\"Ineuron\":5033, \"Sap\":786, \"FSDS\":933}\n",
    "    print(\"The sum of all items in a dictionary is : \", Return_the_Sum(Dictionary))\n",
    "except:\n",
    "    print(\"Please print the sum of all the values in a dictionary.\")"
   ]
  },
  {
   "cell_type": "code",
   "execution_count": 23,
   "id": "1d03c8f2",
   "metadata": {},
   "outputs": [
    {
     "name": "stdout",
     "output_type": "stream",
     "text": [
      "{'u': 734, 'v': 756, 'w': 16, 'x': 36}\n"
     ]
    }
   ],
   "source": [
    "# 3. Write a Python program to Merging two Dictionaries?\n",
    "\n",
    "try:\n",
    "    def Merging(Dict1, Dict2):\n",
    "        Result = {**Dict1, **Dict2}\n",
    "        return Result\n",
    "    Dict1 = {\"u\":734,\"v\":756}\n",
    "    Dict2 = {\"w\":16, \"x\":36}\n",
    "    \n",
    "    Dictionary3 =Merging(Dict1, Dict2)\n",
    "    print(Dictionary3)\n",
    "except:\n",
    "    print(\"Merging of two dictionaries\")"
   ]
  },
  {
   "cell_type": "code",
   "execution_count": 24,
   "id": "0fdc7089",
   "metadata": {},
   "outputs": [
    {
     "name": "stdout",
     "output_type": "stream",
     "text": [
      "The original dictionary is : {'Month_number': [1, 2, 3, 4, 5], 'Month_name': ['Jan', 'Feb', 'Mar', 'Apr', 'May']}\n",
      "Flat dictionary is : {1: 'Jan', 2: 'Feb', 3: 'Mar', 4: 'Apr', 5: 'May'}\n"
     ]
    }
   ],
   "source": [
    "# 4. Write a Python program to convert key-values list to flat dictionary?\n",
    "\n",
    "try:\n",
    "    from itertools import product\n",
    "    Dict16 = {\"Month_number\":[1,2,3,4,5], \"Month_name\": ['Jan','Feb','Mar','Apr','May'] }\n",
    "    print(\"The original dictionary is :\", Dict16)\n",
    "    \n",
    "    result = dict(zip(Dict16['Month_number'], Dict16['Month_name']))\n",
    "    \n",
    "    print(\"Flat dictionary is :\", result)\n",
    "\n",
    "except:\n",
    "    print(\"The flat dictionary\")\n",
    "    \n",
    "    "
   ]
  },
  {
   "cell_type": "code",
   "execution_count": 25,
   "id": "826a4314",
   "metadata": {},
   "outputs": [
    {
     "name": "stdout",
     "output_type": "stream",
     "text": [
      "The final dictionary is :  OrderedDict([('Mar', '3'), ('Jan', '1'), ('Feb', '2')])\n"
     ]
    }
   ],
   "source": [
    "# 5. Write a Python program to insertion at the beginning in OrderedDict?\n",
    "\n",
    "try:\n",
    "    from collections import OrderedDict\n",
    "    Ordered_Dictionary = OrderedDict([(\"Jan\", \"1\"), (\"Feb\", \"2\")])\n",
    "    \n",
    "    Ordered_Dictionary.update({\"Mar\":\"3\"})\n",
    "    \n",
    "    Ordered_Dictionary.move_to_end(\"Mar\", last = False)\n",
    "    print(\"The final dictionary is : \", Ordered_Dictionary)\n",
    "except:\n",
    "    print(\"Ordered Dictionary\")"
   ]
  },
  {
   "cell_type": "code",
   "execution_count": 26,
   "id": "04ebe1f6",
   "metadata": {},
   "outputs": [
    {
     "name": "stdout",
     "output_type": "stream",
     "text": [
      "True\n",
      "False\n",
      "False\n"
     ]
    }
   ],
   "source": [
    "# 6. Write a Python program to check order of character in string using OrderedDict()?\n",
    "try:\n",
    "    from collections import OrderedDict\n",
    "    \n",
    "    def Check_the_order(my_input, my_pattern):\n",
    "        dictionary = OrderedDict.fromkeys(my_input)\n",
    "        \n",
    "        pattern_length = 0\n",
    "        \n",
    "        for key, value in dictionary.items():\n",
    "            if(key == my_pattern[pattern_length]):\n",
    "                pattern_length = pattern_length + 1\n",
    "                \n",
    "            if(pattern_length == (len(my_pattern))):\n",
    "                return True\n",
    "        return False\n",
    "    \n",
    "    my_input = \"engineers rock\"\n",
    "    my_pattern = \"egr\"\n",
    "    print(Check_the_order(my_input, my_pattern))\n",
    "    \n",
    "    my_input1 = 'study today'\n",
    "    my_pattern1 = 'Day'\n",
    "    print(Check_the_order(my_input1, my_pattern1))\n",
    "    \n",
    "    my_input2 = 'Ordered dictionary'\n",
    "    my_pattern2 = 'ord'\n",
    "    print(Check_the_order(my_input2, my_pattern2))\n",
    "    \n",
    "    \n",
    "except:\n",
    "    print(\"The implementation Ordered Dictionary\")\n",
    "        "
   ]
  },
  {
   "cell_type": "code",
   "execution_count": 27,
   "id": "cb2e5399",
   "metadata": {},
   "outputs": [
    {
     "name": "stdout",
     "output_type": "stream",
     "text": [
      "The result is sorted on the basis of keys.\n",
      "(1, 786) (2, 799) (3, 56) (4, 108) (5, 1008) "
     ]
    }
   ],
   "source": [
    "# 7. Write a Python program to sort Python Dictionaries by Key or Value?\n",
    "\n",
    "\n",
    "# sorted on the basis of keys\n",
    "try:\n",
    "    key_val = {}\n",
    "    \n",
    "    key_val[2] = 799\n",
    "    key_val[3] = 56\n",
    "    key_val[1] = 786\n",
    "    key_val[4] = 108\n",
    "    key_val[5] = 1008\n",
    "    \n",
    "    print(\"The result is sorted on the basis of keys.\")\n",
    "    \n",
    "    for i in sorted(key_val):\n",
    "        print((i, key_val[i]), end = \" \")\n",
    "        \n",
    "except:\n",
    "    print(\" The result is key oriented. \")\n",
    "    \n",
    "    "
   ]
  },
  {
   "cell_type": "code",
   "execution_count": 28,
   "id": "ac850148",
   "metadata": {},
   "outputs": [
    {
     "name": "stdout",
     "output_type": "stream",
     "text": [
      "The result is sorted on the basis of values.\n",
      "[(3, 56), (4, 108), (1, 786), (2, 799), (5, 1008)]\n"
     ]
    }
   ],
   "source": [
    "# Sorted on the basis of values\n",
    "\n",
    "try:\n",
    "    \n",
    "    key_val = {}\n",
    "    \n",
    "    key_val[2] = 799\n",
    "    key_val[3] = 56\n",
    "    key_val[1] = 786\n",
    "    key_val[4] = 108\n",
    "    key_val[5] = 1008\n",
    "    \n",
    "    print(\"The result is sorted on the basis of values.\")\n",
    "    \n",
    "    print(sorted(key_val.items(), key = lambda keyvalue: (keyvalue[1], keyvalue[0])))\n",
    "    \n",
    "except:\n",
    "    print(\"The result is value oriented.\")\n",
    "    \n",
    "    \n",
    "    "
   ]
  }
 ],
 "metadata": {
  "kernelspec": {
   "display_name": "Python 3 (ipykernel)",
   "language": "python",
   "name": "python3"
  },
  "language_info": {
   "codemirror_mode": {
    "name": "ipython",
    "version": 3
   },
   "file_extension": ".py",
   "mimetype": "text/x-python",
   "name": "python",
   "nbconvert_exporter": "python",
   "pygments_lexer": "ipython3",
   "version": "3.9.7"
  }
 },
 "nbformat": 4,
 "nbformat_minor": 5
}
