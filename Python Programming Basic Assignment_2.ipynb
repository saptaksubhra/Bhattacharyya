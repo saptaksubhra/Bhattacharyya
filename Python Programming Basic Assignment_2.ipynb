{
 "cells": [
  {
   "cell_type": "code",
   "execution_count": 1,
   "id": "ed13230c",
   "metadata": {},
   "outputs": [
    {
     "name": "stdout",
     "output_type": "stream",
     "text": [
      "Enter the value in Kilometres: 12.8\n",
      "0.2f Kilometres is equal to 0.2f Miles (12.8, 8.0)\n"
     ]
    }
   ],
   "source": [
    "#1.\tWrite a Python program to convert kilometers to miles?\n",
    "\n",
    "try:\n",
    "    Kilometres=float(input(\"Enter the value in Kilometres: \"))\n",
    "    Conversion_factor=0.625\n",
    "    Miles=Kilometres*Conversion_factor\n",
    "    print(\"0.2f Kilometres is equal to 0.2f Miles\", (Kilometres, Miles))\n",
    "except:\n",
    "    print(\" 0.2f Kilometres is equal to 0.2f Miles\", (Kilometres, Miles))\n",
    "\n"
   ]
  },
  {
   "cell_type": "code",
   "execution_count": 13,
   "id": "138a2ac8",
   "metadata": {},
   "outputs": [
    {
     "name": "stdout",
     "output_type": "stream",
     "text": [
      "Please enter the temeprature in degree Celsius : 43.97\n",
      "43.97 degree Celsius is equal to 111.15 degree Fahrenheit\n"
     ]
    }
   ],
   "source": [
    "#2.\tWrite a Python program to convert Celsius to Fahrenheit?\n",
    "\n",
    "try:\n",
    "    Celsius = float(input(\"Please enter the temeprature in degree Celsius : \"))\n",
    "    Fahrenheit = (Celsius * 1.8) + 32\n",
    "    print(\"%0.2f degree Celsius is equal to %0.2f degree Fahrenheit\" %(Celsius, Fahrenheit))\n",
    "except:\n",
    "    print(\"Conversion of Celsius temperature to Fahrenheit Temperature\")"
   ]
  },
  {
   "cell_type": "code",
   "execution_count": 12,
   "id": "d0520b34",
   "metadata": {},
   "outputs": [
    {
     "name": "stdout",
     "output_type": "stream",
     "text": [
      "Enter year: 2022\n",
      "Enter month: 1\n",
      "    January 2022\n",
      "Mo Tu We Th Fr Sa Su\n",
      "                1  2\n",
      " 3  4  5  6  7  8  9\n",
      "10 11 12 13 14 15 16\n",
      "17 18 19 20 21 22 23\n",
      "24 25 26 27 28 29 30\n",
      "31\n",
      "\n"
     ]
    }
   ],
   "source": [
    "#3.\tWrite a Python program to display calendar?\n",
    "\n",
    "try:\n",
    "    import calendar\n",
    "    \n",
    "    year=int(input(\"Enter year: \"))\n",
    "    month=int(input(\"Enter month: \"))\n",
    "    print(calendar.month(year,month))\n",
    "except:\n",
    "    print(calendar.month(year,month))"
   ]
  },
  {
   "cell_type": "code",
   "execution_count": 6,
   "id": "d34c2309",
   "metadata": {},
   "outputs": [
    {
     "name": "stdout",
     "output_type": "stream",
     "text": [
      "The solution is {0} and {1} ((-1-1.4142135623730951j), (-1+1.4142135623730951j))\n"
     ]
    }
   ],
   "source": [
    "#4.\tWrite a Python program to solve quadratic equation?\n",
    "\n",
    "try:\n",
    "   # The standard form of a quardratic equation is ax^2+bx+c=0, where a,b, and c are real numbers and a is not equal to 0\n",
    "    \n",
    "    #import complex math module\n",
    "    import cmath\n",
    "    a=1\n",
    "    b=2\n",
    "    c=3\n",
    "    d=(b**2)-(4*a*c)\n",
    "    root1=(-b-cmath.sqrt(d))/2*a\n",
    "    root2=(-b+cmath.sqrt(d))/2*a\n",
    "    print(\"The solution is {0} and {1}\", (root1, root2))\n",
    "except:\n",
    "    print(\"The solution is {0} and {1}\", (root1, root2))"
   ]
  },
  {
   "cell_type": "code",
   "execution_count": 23,
   "id": "940e5163",
   "metadata": {},
   "outputs": [
    {
     "name": "stdout",
     "output_type": "stream",
     "text": [
      "Value of c: 16\n",
      "Value of d: 15\n"
     ]
    }
   ],
   "source": [
    "#5.\tWrite a Python program to swap two variables without temp variable?\n",
    "\n",
    "# Swapping of two variables without using third variable\n",
    "\n",
    "try:\n",
    "    c=15\n",
    "    d=16\n",
    "    c,d=d,c\n",
    "    print(\"Value of c:\", c)\n",
    "    print(\"Value of d:\", d)\n",
    "except:\n",
    "    print(\"Value of c:\", c)\n",
    "    print(\"Value of d:\", d)\n",
    "\n"
   ]
  }
 ],
 "metadata": {
  "kernelspec": {
   "display_name": "Python 3 (ipykernel)",
   "language": "python",
   "name": "python3"
  },
  "language_info": {
   "codemirror_mode": {
    "name": "ipython",
    "version": 3
   },
   "file_extension": ".py",
   "mimetype": "text/x-python",
   "name": "python",
   "nbconvert_exporter": "python",
   "pygments_lexer": "ipython3",
   "version": "3.9.7"
  }
 },
 "nbformat": 4,
 "nbformat_minor": 5
}
