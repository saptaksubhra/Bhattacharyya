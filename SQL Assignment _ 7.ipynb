{
 "cells": [
  {
   "cell_type": "code",
   "execution_count": 12,
   "id": "6c575479",
   "metadata": {},
   "outputs": [
    {
     "name": "stdout",
     "output_type": "stream",
     "text": [
      "Requirement already satisfied: mysql-connector-python in c:\\programdata\\anaconda3\\lib\\site-packages (8.0.28)\n",
      "Requirement already satisfied: protobuf>=3.0.0 in c:\\programdata\\anaconda3\\lib\\site-packages (from mysql-connector-python) (3.19.4)\n"
     ]
    }
   ],
   "source": [
    "!pip install mysql-connector-python"
   ]
  },
  {
   "cell_type": "code",
   "execution_count": 13,
   "id": "dbcbc884",
   "metadata": {},
   "outputs": [],
   "source": [
    "import mysql.connector as conn"
   ]
  },
  {
   "cell_type": "code",
   "execution_count": 14,
   "id": "ecb8ca67",
   "metadata": {},
   "outputs": [],
   "source": [
    "mydb = conn.connect(host = 'localhost', user = 'root', password = 'chanakya')"
   ]
  },
  {
   "cell_type": "code",
   "execution_count": 15,
   "id": "05370f57",
   "metadata": {},
   "outputs": [
    {
     "data": {
      "text/plain": [
       "<mysql.connector.connection_cext.CMySQLConnection at 0x2643c47b1c0>"
      ]
     },
     "execution_count": 15,
     "metadata": {},
     "output_type": "execute_result"
    }
   ],
   "source": [
    "mydb"
   ]
  },
  {
   "cell_type": "code",
   "execution_count": 18,
   "id": "a6ba9d89",
   "metadata": {},
   "outputs": [],
   "source": [
    "cursor = mydb.cursor()"
   ]
  },
  {
   "cell_type": "code",
   "execution_count": 19,
   "id": "4598b25a",
   "metadata": {},
   "outputs": [],
   "source": [
    "cursor.execute('show databases')"
   ]
  },
  {
   "cell_type": "code",
   "execution_count": 20,
   "id": "29b0e4e0",
   "metadata": {},
   "outputs": [
    {
     "data": {
      "text/plain": [
       "[('cardataset',),\n",
       " ('information_schema',),\n",
       " ('mysql',),\n",
       " ('mysqlassignment',),\n",
       " ('performance_schema',),\n",
       " ('sakila',),\n",
       " ('saptaksubhra',),\n",
       " ('sys',),\n",
       " ('world',)]"
      ]
     },
     "execution_count": 20,
     "metadata": {},
     "output_type": "execute_result"
    }
   ],
   "source": [
    "cursor.fetchall()"
   ]
  },
  {
   "cell_type": "code",
   "execution_count": 33,
   "id": "5cf3593d",
   "metadata": {},
   "outputs": [],
   "source": [
    "cursor.execute('use mysqlassignment')"
   ]
  },
  {
   "cell_type": "code",
   "execution_count": 34,
   "id": "7dfbad28",
   "metadata": {},
   "outputs": [],
   "source": [
    "cursor.execute('show tables')"
   ]
  },
  {
   "cell_type": "code",
   "execution_count": 35,
   "id": "afa74ebd",
   "metadata": {},
   "outputs": [
    {
     "data": {
      "text/plain": [
       "[('worker',), ('worker1',), ('worker2',), ('worker3',), ('workerclone',)]"
      ]
     },
     "execution_count": 35,
     "metadata": {},
     "output_type": "execute_result"
    }
   ],
   "source": [
    "cursor.fetchall()"
   ]
  },
  {
   "cell_type": "code",
   "execution_count": 24,
   "id": "6ae94642",
   "metadata": {},
   "outputs": [
    {
     "data": {
      "text/plain": [
       "[(1,\n",
       "  'SubhashChandra',\n",
       "  'Bose',\n",
       "  800000,\n",
       "  datetime.date(2012, 1, 1),\n",
       "  'subhash@infinity.com',\n",
       "  'HR'),\n",
       " (3,\n",
       "  'Vishal',\n",
       "  'Singhal',\n",
       "  300000,\n",
       "  datetime.date(2013, 1, 1),\n",
       "  'vishal@infinity.com',\n",
       "  'HR'),\n",
       " (5,\n",
       "  'Vivek',\n",
       "  'Bharati',\n",
       "  600000,\n",
       "  datetime.date(2013, 3, 2),\n",
       "  'vivek@infinity.com',\n",
       "  'Admin'),\n",
       " (7,\n",
       "  'Satish',\n",
       "  'Kaushik',\n",
       "  300000,\n",
       "  datetime.date(2016, 1, 1),\n",
       "  'satish@infinity.com',\n",
       "  'HR'),\n",
       " (1,\n",
       "  'SubhashChandra',\n",
       "  'Bose',\n",
       "  800000,\n",
       "  datetime.date(2012, 1, 1),\n",
       "  'subhash@infinity.com',\n",
       "  'HR'),\n",
       " (3,\n",
       "  'Vishal',\n",
       "  'Singhal',\n",
       "  300000,\n",
       "  datetime.date(2013, 1, 1),\n",
       "  'vishal@infinity.com',\n",
       "  'HR'),\n",
       " (5,\n",
       "  'Vivek',\n",
       "  'Bharati',\n",
       "  600000,\n",
       "  datetime.date(2013, 3, 2),\n",
       "  'vivek@infinity.com',\n",
       "  'Admin'),\n",
       " (7,\n",
       "  'Satish',\n",
       "  'Kaushik',\n",
       "  300000,\n",
       "  datetime.date(2016, 1, 1),\n",
       "  'satish@infinity.com',\n",
       "  'HR'),\n",
       " (1,\n",
       "  'SubhashChandra',\n",
       "  'Bose',\n",
       "  800000,\n",
       "  datetime.date(2012, 1, 1),\n",
       "  'subhash@infinity.com',\n",
       "  'HR')]"
      ]
     },
     "execution_count": 24,
     "metadata": {},
     "output_type": "execute_result"
    }
   ],
   "source": [
    "# Q-13. Write an SQL query to show only odd rows from a table.\n",
    "\n",
    "cursor.execute('select * from Worker where mod(WORKER_ID, 2) <> 0')\n",
    "cursor.fetchall()"
   ]
  },
  {
   "cell_type": "code",
   "execution_count": 36,
   "id": "94cede44",
   "metadata": {},
   "outputs": [
    {
     "ename": "ProgrammingError",
     "evalue": "1050 (42S01): Table 'workerclone' already exists",
     "output_type": "error",
     "traceback": [
      "\u001b[1;31m---------------------------------------------------------------------------\u001b[0m",
      "\u001b[1;31mMySQLInterfaceError\u001b[0m                       Traceback (most recent call last)",
      "\u001b[1;32mC:\\ProgramData\\Anaconda3\\lib\\site-packages\\mysql\\connector\\connection_cext.py\u001b[0m in \u001b[0;36mcmd_query\u001b[1;34m(self, query, raw, buffered, raw_as_string)\u001b[0m\n\u001b[0;32m    522\u001b[0m                 \u001b[0mquery\u001b[0m \u001b[1;33m=\u001b[0m \u001b[0mquery\u001b[0m\u001b[1;33m.\u001b[0m\u001b[0mencode\u001b[0m\u001b[1;33m(\u001b[0m\u001b[1;34m'utf-8'\u001b[0m\u001b[1;33m)\u001b[0m\u001b[1;33m\u001b[0m\u001b[1;33m\u001b[0m\u001b[0m\n\u001b[1;32m--> 523\u001b[1;33m             self._cmysql.query(query,\n\u001b[0m\u001b[0;32m    524\u001b[0m                                \u001b[0mraw\u001b[0m\u001b[1;33m=\u001b[0m\u001b[0mraw\u001b[0m\u001b[1;33m,\u001b[0m \u001b[0mbuffered\u001b[0m\u001b[1;33m=\u001b[0m\u001b[0mbuffered\u001b[0m\u001b[1;33m,\u001b[0m\u001b[1;33m\u001b[0m\u001b[1;33m\u001b[0m\u001b[0m\n",
      "\u001b[1;31mMySQLInterfaceError\u001b[0m: Table 'workerclone' already exists",
      "\nDuring handling of the above exception, another exception occurred:\n",
      "\u001b[1;31mProgrammingError\u001b[0m                          Traceback (most recent call last)",
      "\u001b[1;32m~\\AppData\\Local\\Temp/ipykernel_15008/4072834554.py\u001b[0m in \u001b[0;36m<module>\u001b[1;34m\u001b[0m\n\u001b[0;32m      1\u001b[0m \u001b[1;31m# Q-14. Write an SQL query to clone a new table from another table.\u001b[0m\u001b[1;33m\u001b[0m\u001b[1;33m\u001b[0m\u001b[0m\n\u001b[0;32m      2\u001b[0m \u001b[1;33m\u001b[0m\u001b[0m\n\u001b[1;32m----> 3\u001b[1;33m \u001b[0mcursor\u001b[0m\u001b[1;33m.\u001b[0m\u001b[0mexecute\u001b[0m\u001b[1;33m(\u001b[0m\u001b[1;34m'create table WorkerClone like Worker'\u001b[0m\u001b[1;33m)\u001b[0m\u001b[1;33m\u001b[0m\u001b[1;33m\u001b[0m\u001b[0m\n\u001b[0m\u001b[0;32m      4\u001b[0m \u001b[0mcursor\u001b[0m\u001b[1;33m.\u001b[0m\u001b[0mfetchall\u001b[0m\u001b[1;33m(\u001b[0m\u001b[1;33m)\u001b[0m\u001b[1;33m\u001b[0m\u001b[1;33m\u001b[0m\u001b[0m\n",
      "\u001b[1;32mC:\\ProgramData\\Anaconda3\\lib\\site-packages\\mysql\\connector\\cursor_cext.py\u001b[0m in \u001b[0;36mexecute\u001b[1;34m(self, operation, params, multi)\u001b[0m\n\u001b[0;32m    267\u001b[0m \u001b[1;33m\u001b[0m\u001b[0m\n\u001b[0;32m    268\u001b[0m         \u001b[1;32mtry\u001b[0m\u001b[1;33m:\u001b[0m\u001b[1;33m\u001b[0m\u001b[1;33m\u001b[0m\u001b[0m\n\u001b[1;32m--> 269\u001b[1;33m             result = self._cnx.cmd_query(stmt, raw=self._raw,\n\u001b[0m\u001b[0;32m    270\u001b[0m                                          \u001b[0mbuffered\u001b[0m\u001b[1;33m=\u001b[0m\u001b[0mself\u001b[0m\u001b[1;33m.\u001b[0m\u001b[0m_buffered\u001b[0m\u001b[1;33m,\u001b[0m\u001b[1;33m\u001b[0m\u001b[1;33m\u001b[0m\u001b[0m\n\u001b[0;32m    271\u001b[0m                                          raw_as_string=self._raw_as_string)\n",
      "\u001b[1;32mC:\\ProgramData\\Anaconda3\\lib\\site-packages\\mysql\\connector\\connection_cext.py\u001b[0m in \u001b[0;36mcmd_query\u001b[1;34m(self, query, raw, buffered, raw_as_string)\u001b[0m\n\u001b[0;32m    526\u001b[0m                                query_attrs=self._query_attrs)\n\u001b[0;32m    527\u001b[0m         \u001b[1;32mexcept\u001b[0m \u001b[0mMySQLInterfaceError\u001b[0m \u001b[1;32mas\u001b[0m \u001b[0mexc\u001b[0m\u001b[1;33m:\u001b[0m\u001b[1;33m\u001b[0m\u001b[1;33m\u001b[0m\u001b[0m\n\u001b[1;32m--> 528\u001b[1;33m             raise errors.get_mysql_exception(exc.errno, msg=exc.msg,\n\u001b[0m\u001b[0;32m    529\u001b[0m                                              sqlstate=exc.sqlstate)\n\u001b[0;32m    530\u001b[0m         \u001b[1;32mexcept\u001b[0m \u001b[0mAttributeError\u001b[0m\u001b[1;33m:\u001b[0m\u001b[1;33m\u001b[0m\u001b[1;33m\u001b[0m\u001b[0m\n",
      "\u001b[1;31mProgrammingError\u001b[0m: 1050 (42S01): Table 'workerclone' already exists"
     ]
    }
   ],
   "source": [
    "# Q-14. Write an SQL query to clone a new table from another table.\n",
    "\n",
    "cursor.execute('create table WorkerClone like Worker')\n",
    "cursor.fetchall()"
   ]
  },
  {
   "cell_type": "code",
   "execution_count": 41,
   "id": "151a2ab0",
   "metadata": {},
   "outputs": [],
   "source": [
    "cursor.execute(\"select * from mysqlassignment.WorkerClone\")"
   ]
  },
  {
   "cell_type": "code",
   "execution_count": 42,
   "id": "cf09c67e",
   "metadata": {},
   "outputs": [
    {
     "data": {
      "text/plain": [
       "[]"
      ]
     },
     "execution_count": 42,
     "metadata": {},
     "output_type": "execute_result"
    }
   ],
   "source": [
    "cursor.fetchall()"
   ]
  }
 ],
 "metadata": {
  "kernelspec": {
   "display_name": "Python 3 (ipykernel)",
   "language": "python",
   "name": "python3"
  },
  "language_info": {
   "codemirror_mode": {
    "name": "ipython",
    "version": 3
   },
   "file_extension": ".py",
   "mimetype": "text/x-python",
   "name": "python",
   "nbconvert_exporter": "python",
   "pygments_lexer": "ipython3",
   "version": "3.9.7"
  }
 },
 "nbformat": 4,
 "nbformat_minor": 5
}
