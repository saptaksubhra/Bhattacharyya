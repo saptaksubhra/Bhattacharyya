{
 "cells": [
  {
   "cell_type": "code",
   "execution_count": 3,
   "id": "80ed6afd",
   "metadata": {},
   "outputs": [
    {
     "name": "stdout",
     "output_type": "stream",
     "text": [
      "Enter the number : 6\n",
      "The factorial of 6 is 720\n"
     ]
    }
   ],
   "source": [
    "#1.\tWrite a Python Program to Find the Factorial of a Number?\n",
    "\n",
    "\n",
    "num = int(input(\"Enter the number : \"))\n",
    "factorial = 1\n",
    "\n",
    "if num < 0:\n",
    "    print(\"Sorry, factorial is not possible in case of negative numbers\")\n",
    "elif num == 0:\n",
    "    print(\"Factorial of 0 is 1\")\n",
    "else:\n",
    "    for i in range(1, num + 1):\n",
    "            factorial = factorial*i\n",
    "    print(\"The factorial of\", num, \"is\", factorial)\n",
    "\n",
    "    \n"
   ]
  },
  {
   "cell_type": "code",
   "execution_count": 19,
   "id": "b224f09c",
   "metadata": {},
   "outputs": [
    {
     "name": "stdout",
     "output_type": "stream",
     "text": [
      "Enter the multiplication table of :8\n",
      "8 X 1 = 8\n",
      "8 X 2 = 16\n",
      "8 X 3 = 24\n",
      "8 X 4 = 32\n",
      "8 X 5 = 40\n",
      "8 X 6 = 48\n",
      "8 X 7 = 56\n",
      "8 X 8 = 64\n",
      "8 X 9 = 72\n",
      "8 X 10 = 80\n"
     ]
    }
   ],
   "source": [
    "#2.\tWrite a Python Program to Display the multiplication Table?\n",
    "\n",
    "try:\n",
    "    number= int(input(\"Enter the multiplication table of :\"))\n",
    "    \n",
    "    for i in range(1,11):\n",
    "        print(number, \"X\", i, \"=\", number*i)\n",
    "except:\n",
    "    print(\" Print the multiplication table of the given number\")\n",
    "\n"
   ]
  },
  {
   "cell_type": "code",
   "execution_count": 49,
   "id": "89c94d94",
   "metadata": {},
   "outputs": [],
   "source": [
    "#3.\tWrite a Python Program to Print the Fibonacci sequence?\n",
    "\n",
    "\n",
    "def fib(n):\n",
    "    a=1\n",
    "    b=1\n",
    "    output= []\n",
    "    for i in range(n):\n",
    "        output.append(a)\n",
    "        a,b = b, a+b\n",
    "    return output\n"
   ]
  },
  {
   "cell_type": "code",
   "execution_count": 51,
   "id": "58cda0d2",
   "metadata": {},
   "outputs": [
    {
     "data": {
      "text/plain": [
       "[1, 1, 2, 3, 5]"
      ]
     },
     "execution_count": 51,
     "metadata": {},
     "output_type": "execute_result"
    }
   ],
   "source": [
    " fib(5)"
   ]
  },
  {
   "cell_type": "code",
   "execution_count": 5,
   "id": "34805a57",
   "metadata": {},
   "outputs": [
    {
     "name": "stdout",
     "output_type": "stream",
     "text": [
      "Enter the number : 153\n",
      "153 is an Armstrong number\n"
     ]
    }
   ],
   "source": [
    "#4.\tWrite a Python Program to Check Armstrong Number?\n",
    "\n",
    "try:\n",
    "    number = int(input(\"Enter the number : \"))\n",
    "    sum = 0\n",
    "    temp = number\n",
    "    while temp > 0:\n",
    "        digit = temp % 10\n",
    "        sum = sum + digit**3\n",
    "        temp = temp // 10\n",
    "    if number == sum:\n",
    "        print(number, \"is an Armstrong number\")\n",
    "    else:\n",
    "        print(number, \"is not an Armstrong number\")\n",
    "except:\n",
    "    print(\"Armstrong number detection\")"
   ]
  },
  {
   "cell_type": "code",
   "execution_count": 3,
   "id": "3ad3fed5",
   "metadata": {},
   "outputs": [
    {
     "name": "stdout",
     "output_type": "stream",
     "text": [
      "Enter lower range: 150\n",
      "Enter upper range: 1000\n",
      "153\n",
      "370\n",
      "371\n",
      "407\n"
     ]
    }
   ],
   "source": [
    "#5.\tWrite a Python Program to Find Armstrong Number in an Interval?\n",
    "\n",
    "try:\n",
    "    lower_value = int(input(\"Enter lower range: \"))\n",
    "    upper_value = int(input(\"Enter upper range: \"))\n",
    "    \n",
    "    for number in range(lower_value, upper_value + 1):\n",
    "        sum = 0\n",
    "        temp = number\n",
    "        while temp > 0:\n",
    "            digit = temp % 10\n",
    "            sum = sum + digit**3\n",
    "            temp = temp // 10\n",
    "        if number == sum:\n",
    "            print (number)\n",
    "except:\n",
    "    print(\" Armstrong number detection in an interval\")\n",
    "            "
   ]
  },
  {
   "cell_type": "code",
   "execution_count": 4,
   "id": "1e8ed263",
   "metadata": {},
   "outputs": [
    {
     "name": "stdout",
     "output_type": "stream",
     "text": [
      "Enter a number : 10\n",
      "The sum is :  55\n"
     ]
    }
   ],
   "source": [
    "#6.\tWrite a Python Program to Find the Sum of Natural Numbers?\n",
    "\n",
    "try:\n",
    "    num5=int(input(\"Enter a number : \"))\n",
    "    if num5 < 0:\n",
    "        print(\"Enter a positive number : \")\n",
    "    else:\n",
    "        sum5 = 0\n",
    "        while (num5 > 0):\n",
    "            sum5= sum5 + num5\n",
    "            num5= num5 - 1\n",
    "    print(\"The sum is : \", sum5)\n",
    "except:\n",
    "    print(\"The sum of natural numbers\")"
   ]
  }
 ],
 "metadata": {
  "kernelspec": {
   "display_name": "Python 3 (ipykernel)",
   "language": "python",
   "name": "python3"
  },
  "language_info": {
   "codemirror_mode": {
    "name": "ipython",
    "version": 3
   },
   "file_extension": ".py",
   "mimetype": "text/x-python",
   "name": "python",
   "nbconvert_exporter": "python",
   "pygments_lexer": "ipython3",
   "version": "3.9.7"
  }
 },
 "nbformat": 4,
 "nbformat_minor": 5
}
