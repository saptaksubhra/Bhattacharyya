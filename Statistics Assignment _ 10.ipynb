{
 "cells": [
  {
   "cell_type": "markdown",
   "id": "5bc7c2bd",
   "metadata": {},
   "source": [
    "1.A chicken lays n eggs. Each egg independently does or doesn’t hatch, with probability p of\n",
    "hatching. For each egg that hatches, the chick does or doesn’t survive (independently of the\n",
    "other eggs), with probability s of survival. Let N ⇠ Bin(n, p) be the number of eggs which\n",
    "hatch, X be the number of chicks which survive, and Y be the number of chicks which hatch\n",
    "but don’t survive (so X + Y = N). Find the marginal PMF of X, and the joint PMF of X and Y .\n",
    "Are they independent?\n",
    "\n",
    "The eggs can be thought of as independent Bernoulli trials with probability ps of success for each. Here, X and Y are not independent, unlike in the chicken-egg problem from class (where N was Poisson). This follows immediately from thinking about an extreme case : if X = n, then \n",
    "clearly Y = 0. So they are not independent: P (Y = 0) < 1, while P (Y = 0|X = n) = 1.\n",
    "\n",
    "To ﬁnd the joint distribution, condition on N and note that only the N = i + j \n",
    "term is nonzero: for any nonnegative integers i, j with i + j <= n,\n",
    "\n",
    "P(X = i, Y = j) = P( X = i, Y = j|N = i + j) P(N= i + j) = P( X = i|N = i + j) P(N= i + j)\n",
    "\n",
    "= (i + j)s^i(1 - s)^j ( n  ) p^i + j (1 -p)^n - i - j\n",
    "     i                i + j\n",
    "     \n",
    "= n! / i! j! (n - i - j)! (ps)^i (p(1 - s ))^j (1 - p) ^n - i - j\n",
    "\n",
    "If we let Z be the number of eggs which don’t hatch, then from the above we have that (X,Y,Z ) has a Multinomial(n, (ps, p(1 - s), (1 - p)) distribution, which makes sense intuitively since each egg independently falls into 1 of 3 \n",
    "categories: hatch-and-survive, hatch-and-don’t-survive, and don’t-hatch, with probabilities ps, p(1 - s), 1 -p respectively.\n"
   ]
  }
 ],
 "metadata": {
  "kernelspec": {
   "display_name": "Python 3 (ipykernel)",
   "language": "python",
   "name": "python3"
  },
  "language_info": {
   "codemirror_mode": {
    "name": "ipython",
    "version": 3
   },
   "file_extension": ".py",
   "mimetype": "text/x-python",
   "name": "python",
   "nbconvert_exporter": "python",
   "pygments_lexer": "ipython3",
   "version": "3.9.7"
  }
 },
 "nbformat": 4,
 "nbformat_minor": 5
}
