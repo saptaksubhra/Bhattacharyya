{
 "cells": [
  {
   "cell_type": "markdown",
   "id": "98d64609",
   "metadata": {},
   "source": [
    "Q1. Is an assignment operator like += only for show? Is it possible that it would lead to faster results\n",
    "at the runtime?\n",
    "\n",
    "The Python += operator lets us add two values together and assign the resultant value to a variable. This operator is often referred to as the addition assignment operator. It is shorter than adding two numbers together and then assigning the resulting value using both a + and an = sign separately. So, this is not only for show.\n",
    "\n",
    "If we compare between assignment and comparison , comparison  can be faster if this code is executed on multiple variables allocated at scattered addresses in memory. With comparison we will only read data from memory to the processor cache, and if we don't change the variable value when the cache decides to to flush the line it will see that the line was not changed and there's no need to write it back to the memory. This can speed up execution. So, it is not possible that assignment operator would lead to faster results at the runtime.\n"
   ]
  },
  {
   "cell_type": "markdown",
   "id": "420f0450",
   "metadata": {},
   "source": [
    "Q2. What is the smallest number of statements you'd have to write in most programming languages to\n",
    "replace the Python expression a, b = a + b, a?\n",
    "\n",
    "To replace the Python expression we use different built-in functions like join(), isdigit(), filter(), lambda, sub(), .replace() of regex module. Let us see thriugh a small example."
   ]
  },
  {
   "cell_type": "code",
   "execution_count": 12,
   "id": "b34ccd49",
   "metadata": {},
   "outputs": [
    {
     "name": "stdout",
     "output_type": "stream",
     "text": [
      "-a- -b-\n"
     ]
    }
   ],
   "source": [
    "# replace() method\n",
    "\n",
    "try:\n",
    "    s ='a b'\n",
    "    print(s.replace('', '-'))\n",
    "except:\n",
    "    print('replace method')"
   ]
  },
  {
   "cell_type": "markdown",
   "id": "66370073",
   "metadata": {},
   "source": [
    "Q3. In Python, what is the most effective way to set a list of 100 integers to 0?\n",
    "\n",
    "There are so many ways to set a list of 100 integers to 0. Such as, for loop, list comprehension, by using * operator , by using itertools module. The most effective and simplest way to accomplish this task is by using * operator. It is the fastest way as well. Let us see through the example."
   ]
  },
  {
   "cell_type": "code",
   "execution_count": 20,
   "id": "e5369892",
   "metadata": {},
   "outputs": [
    {
     "name": "stdout",
     "output_type": "stream",
     "text": [
      "[0, 0, 0, 0, 0, 0, 0, 0, 0, 0, 0, 0, 0, 0, 0, 0, 0, 0, 0, 0, 0, 0, 0, 0, 0, 0, 0, 0, 0, 0, 0, 0, 0, 0, 0, 0, 0, 0, 0, 0, 0, 0, 0, 0, 0, 0, 0, 0, 0, 0, 0, 0, 0, 0, 0, 0, 0, 0, 0, 0, 0, 0, 0, 0, 0, 0, 0, 0, 0, 0, 0, 0, 0, 0, 0, 0, 0, 0, 0, 0, 0, 0, 0, 0, 0, 0, 0, 0, 0, 0, 0, 0, 0, 0, 0, 0, 0, 0, 0, 0]\n"
     ]
    }
   ],
   "source": [
    "try:\n",
    "    L = [0] * 100\n",
    "    print(L)\n",
    "except:\n",
    "    print('* operator method')"
   ]
  },
  {
   "cell_type": "code",
   "execution_count": 9,
   "id": "26781a8e",
   "metadata": {},
   "outputs": [
    {
     "name": "stdout",
     "output_type": "stream",
     "text": [
      "[1, 1, 1, 1, 1, 1, 1, 1, 1, 1, 1, 1, 1, 1, 1, 1, 1, 1, 1, 1, 1, 1, 1, 1, 1, 1, 1, 1, 1, 1, 1, 1, 1, 1, 1, 1, 1, 1, 1, 1, 1, 1, 1, 1, 1, 1, 1, 1, 1, 1, 1, 1, 1, 1, 1, 1, 1, 1, 1, 1, 1, 1, 1, 1, 1, 1, 1, 1, 1, 1, 1, 1, 1, 1, 1, 1, 1, 1, 1, 1, 1, 1, 1, 1, 1, 1, 1, 1, 1, 1, 1, 1, 1, 1, 1, 1, 1, 1, 1]\n",
      "[2, 2, 2, 2, 2, 2, 2, 2, 2, 2, 2, 2, 2, 2, 2, 2, 2, 2, 2, 2, 2, 2, 2, 2, 2, 2, 2, 2, 2, 2, 2, 2, 2, 2, 2, 2, 2, 2, 2, 2, 2, 2, 2, 2, 2, 2, 2, 2, 2, 2, 2, 2, 2, 2, 2, 2, 2, 2, 2, 2, 2, 2, 2, 2, 2, 2, 2, 2, 2, 2, 2, 2, 2, 2, 2, 2, 2, 2, 2, 2, 2, 2, 2, 2, 2, 2, 2, 2, 2, 2, 2, 2, 2, 2, 2, 2, 2, 2, 2]\n",
      "[3, 3, 3, 3, 3, 3, 3, 3, 3, 3, 3, 3, 3, 3, 3, 3, 3, 3, 3, 3, 3, 3, 3, 3, 3, 3, 3, 3, 3, 3, 3, 3, 3, 3, 3, 3, 3, 3, 3, 3, 3, 3, 3, 3, 3, 3, 3, 3, 3, 3, 3, 3, 3, 3, 3, 3, 3, 3, 3, 3, 3, 3, 3, 3, 3, 3, 3, 3, 3, 3, 3, 3, 3, 3, 3, 3, 3, 3, 3, 3, 3, 3, 3, 3, 3, 3, 3, 3, 3, 3, 3, 3, 3, 3, 3, 3, 3, 3, 3]\n",
      "[1, 1, 1, 1, 1, 1, 1, 1, 1, 1, 1, 1, 1, 1, 1, 1, 1, 1, 1, 1, 1, 1, 1, 1, 1, 1, 1, 1, 1, 1, 1, 1, 1, 1, 1, 1, 1, 1, 1, 1, 1, 1, 1, 1, 1, 1, 1, 1, 1, 1, 1, 1, 1, 1, 1, 1, 1, 1, 1, 1, 1, 1, 1, 1, 1, 1, 1, 1, 1, 1, 1, 1, 1, 1, 1, 1, 1, 1, 1, 1, 1, 1, 1, 1, 1, 1, 1, 1, 1, 1, 1, 1, 1, 1, 1, 1, 1, 1, 1, 2, 2, 2, 2, 2, 2, 2, 2, 2, 2, 2, 2, 2, 2, 2, 2, 2, 2, 2, 2, 2, 2, 2, 2, 2, 2, 2, 2, 2, 2, 2, 2, 2, 2, 2, 2, 2, 2, 2, 2, 2, 2, 2, 2, 2, 2, 2, 2, 2, 2, 2, 2, 2, 2, 2, 2, 2, 2, 2, 2, 2, 2, 2, 2, 2, 2, 2, 2, 2, 2, 2, 2, 2, 2, 2, 2, 2, 2, 2, 2, 2, 2, 2, 2, 2, 2, 2, 2, 2, 2, 2, 2, 2, 2, 2, 2, 2, 2, 2, 3, 3, 3, 3, 3, 3, 3, 3, 3, 3, 3, 3, 3, 3, 3, 3, 3, 3, 3, 3, 3, 3, 3, 3, 3, 3, 3, 3, 3, 3, 3, 3, 3, 3, 3, 3, 3, 3, 3, 3, 3, 3, 3, 3, 3, 3, 3, 3, 3, 3, 3, 3, 3, 3, 3, 3, 3, 3, 3, 3, 3, 3, 3, 3, 3, 3, 3, 3, 3, 3, 3, 3, 3, 3, 3, 3, 3, 3, 3, 3, 3, 3, 3, 3, 3, 3, 3, 3, 3, 3, 3, 3, 3, 3, 3, 3, 3, 3, 3]\n"
     ]
    }
   ],
   "source": [
    "# Q4. What is the most effective way to initialise a list of 99 integers that repeats the sequence 1, 2, 3?\n",
    "# S If necessary, show step-by-step instructions on how to accomplish this.\n",
    "try:\n",
    "    \n",
    "    n = 99\n",
    "    l1 = [1] * n\n",
    "    print(l1)\n",
    "\n",
    "    n = 99\n",
    "    l2 = [2] * n\n",
    "    print(l2)\n",
    "\n",
    "    n = 99\n",
    "    l3 = [3] * n\n",
    "    print(l3)\n",
    "    \n",
    "    print(l1 + l2 + l3)\n",
    "except:\n",
    "    print('* operator')"
   ]
  },
  {
   "cell_type": "markdown",
   "id": "c508d722",
   "metadata": {},
   "source": [
    "The * operator is the most effective way to initialse a list of 99 integers that repeats the sequence of 1, 2, 3' s."
   ]
  },
  {
   "cell_type": "code",
   "execution_count": 2,
   "id": "34066dc3",
   "metadata": {},
   "outputs": [
    {
     "name": "stdout",
     "output_type": "stream",
     "text": [
      "[2, 4, 6, 8, 10]\n",
      "[3, 6, 9, 12, 15]\n",
      "[4, 8, 12, 16, 20]\n"
     ]
    }
   ],
   "source": [
    "# Q5. If you're using IDLE to run a Python application, explain how to print a multidimensional list as efficiently?\n",
    "\n",
    "try:\n",
    "    a = [[2, 4, 6, 8, 10], [3, 6, 9, 12, 15], [4, 8, 12, 16, 20]]\n",
    "    for i in a:\n",
    "        \n",
    "        print(i)\n",
    "except:\n",
    "    print('multidimensional list')\n"
   ]
  },
  {
   "cell_type": "markdown",
   "id": "0c269498",
   "metadata": {},
   "source": [
    "Q6. Is it possible to use list comprehension with a string? If so, how can you go about doing it?\n",
    "\n",
    "List comprehension is possible in case of string list. Let us see thorugh the following example."
   ]
  },
  {
   "cell_type": "code",
   "execution_count": 15,
   "id": "f1e5d925",
   "metadata": {},
   "outputs": [
    {
     "name": "stdout",
     "output_type": "stream",
     "text": [
      "['Rudra', 'Aghori', 'Ranapratap']\n"
     ]
    }
   ],
   "source": [
    "try:\n",
    "    names1 = ['Billy','Gilly','Rudra','Aghori','Ranapratap']\n",
    "    names2 = [s for s in names1 if 'r' in s]\n",
    "    print(names2)\n",
    "except:\n",
    "    print('string list comprehension')"
   ]
  },
  {
   "cell_type": "markdown",
   "id": "980303af",
   "metadata": {},
   "source": [
    "From the above programme , we can see that if 'r' in s returns True if an element contains character 'r'. So the new list contains those names or elements that contain character 'r'. \n",
    "Let us see list comprehension through string only."
   ]
  },
  {
   "cell_type": "code",
   "execution_count": 17,
   "id": "42be0809",
   "metadata": {},
   "outputs": [
    {
     "name": "stdout",
     "output_type": "stream",
     "text": [
      "['B', 'H', 'A', 'R', 'A', 'T']\n"
     ]
    }
   ],
   "source": [
    "try:\n",
    "    string = 'BHARAT'\n",
    "    NEW = [char for char in 'BHARAT']\n",
    "    print(NEW)\n",
    "except:\n",
    "    print('List comprehension of string')"
   ]
  },
  {
   "cell_type": "markdown",
   "id": "d64a4b98",
   "metadata": {},
   "source": [
    "Q7. From the command line, how do you get support with a user-written Python programme? Is this\n",
    "possible from inside IDLE?\n",
    "\n",
    "To run Python scripts with the python command, we need to open a command-line and type in the word python, or python3 if we have both versions, followed by the path to our script, just like below:\n",
    "\n",
    "$ python3 hello.py\n",
    "Hi there!\n",
    "\n",
    "If everything works fine after pressing enter , we will be able to see the phrase 'Hi there!' on our screen . That means we have just run our first Python script.\n",
    "\n",
    "When developing larger and more complex applications, it is recommended that we should use an integrated development environment (IDE) or an advanced text editor.\n",
    "Most of these programs offer the possibility of running your scripts from inside the environment itself. It is common for them to include a Run or Build command, which is usually available from the tool bar or from the main menu.\n",
    "Python’s standard distribution includes IDLE as the default IDE, and we can use it to write, debug, modify, and run our modules and scripts. So, this is possible from inside IDLE.\n"
   ]
  },
  {
   "cell_type": "markdown",
   "id": "b656aadc",
   "metadata": {},
   "source": [
    " Q8. Functions are said to be “first-class objects” in Python but not in most other languages, such as\n",
    " C++ or Java. What can you do in Python with a function (callable object) that you can't do in C or C++?\n",
    "\n",
    "In general, a callable is something that can be called. This built-in method in Python checks and returns True if the object passed appears to be callable, and if the object passed appears to be not callable then it returns False.\n",
    "Syntax:\n",
    "callable(object)\n",
    "The callable() method takes only one argument, an object and returns one of the two values: True or False\n",
    "Let us see through the following example."
   ]
  },
  {
   "cell_type": "code",
   "execution_count": 11,
   "id": "26d1d607",
   "metadata": {},
   "outputs": [
    {
     "name": "stdout",
     "output_type": "stream",
     "text": [
      "True\n",
      "False\n"
     ]
    }
   ],
   "source": [
    "\n",
    "try:\n",
    "    # When object is callable\n",
    "    def shiv():\n",
    "        return 108\n",
    "    durga = shiv\n",
    "    print(callable(durga))\n",
    "    \n",
    "    asura = 11 * 11\n",
    "    print(callable(asura))\n",
    "except:\n",
    "    print('callable object')"
   ]
  },
  {
   "cell_type": "markdown",
   "id": "2e769bfa",
   "metadata": {},
   "source": [
    "From the above example, we can see that in the first scenario, it return True because durga is an object passed to the callable function shiv. In the second scenario, asura is not a callable object so it returns False. \n",
    "And this callable () method is not possible in case of c or c++."
   ]
  },
  {
   "cell_type": "markdown",
   "id": "f6533730",
   "metadata": {},
   "source": [
    "Q9. How do you distinguish between a wrapper, a wrapped feature, and a decorator?\n",
    "\n",
    "Wrappers around the functions are also knows as decorators which are a very powerful and useful tool in Python since it allows programmers to modify the behavior of function or class. Decorators allow us to wrap another function in order to extend the behavior of the wrapped function, without permanently modifying it. In Decorators, functions are taken as the argument into another function and then called inside the wrapper function. And wrapped feature in Python is wrap (text) Wraps the single paragraph in text (a string) so every line is at most width characters long. All wrapping options are taken from instance attributes of the TextWrapper instance. Returns a list of output lines, without final newlines.\n",
    "The syntaxes for both wrapper and decorators are given below.\n",
    "\n",
    "@wrapper\n",
    "def function(n):\n",
    "    statements(s)\n",
    "    \n",
    "and the above syntax is similar to the below syntax.\n",
    "\n",
    "def function(n):\n",
    "    statement(s)\n",
    "\n",
    "function = wrapper(function)"
   ]
  },
  {
   "cell_type": "markdown",
   "id": "32069b0f",
   "metadata": {},
   "source": [
    "Q10. If a function is a generator function, what does it return?\n",
    "\n",
    "A generator is a special type of function which does not return a single value, instead, it returns an iterator object with a sequence of values. In a generator function, a yield statement is used rather than a return statement. The following is a simple generator function."
   ]
  },
  {
   "cell_type": "code",
   "execution_count": 9,
   "id": "42386cf2",
   "metadata": {},
   "outputs": [],
   "source": [
    "try:\n",
    "    def mygen():\n",
    "        print('1st element')\n",
    "        yield 36\n",
    "        \n",
    "        print('2nd element')\n",
    "        yield 43\n",
    "        \n",
    "        print('3rd element')\n",
    "        yield 108\n",
    "        \n",
    "        print('4th element')\n",
    "        yield 786\n",
    "        \n",
    "        print('5th element')\n",
    "        yield 1008\n",
    "        \n",
    "    gen = mygen()\n",
    "    \n",
    "except:\n",
    "    print('generator function')"
   ]
  },
  {
   "cell_type": "code",
   "execution_count": 10,
   "id": "8dc5a3df",
   "metadata": {},
   "outputs": [
    {
     "name": "stdout",
     "output_type": "stream",
     "text": [
      "1st element\n"
     ]
    },
    {
     "data": {
      "text/plain": [
       "36"
      ]
     },
     "execution_count": 10,
     "metadata": {},
     "output_type": "execute_result"
    }
   ],
   "source": [
    "next(gen)"
   ]
  },
  {
   "cell_type": "code",
   "execution_count": 8,
   "id": "ee6993b6",
   "metadata": {},
   "outputs": [
    {
     "name": "stdout",
     "output_type": "stream",
     "text": [
      "4th element\n"
     ]
    },
    {
     "data": {
      "text/plain": [
       "786"
      ]
     },
     "execution_count": 8,
     "metadata": {},
     "output_type": "execute_result"
    }
   ],
   "source": [
    "next(gen)"
   ]
  },
  {
   "cell_type": "code",
   "execution_count": 7,
   "id": "b5e901b8",
   "metadata": {},
   "outputs": [
    {
     "name": "stdout",
     "output_type": "stream",
     "text": [
      "3rd element\n"
     ]
    },
    {
     "data": {
      "text/plain": [
       "108"
      ]
     },
     "execution_count": 7,
     "metadata": {},
     "output_type": "execute_result"
    }
   ],
   "source": [
    "next(gen)"
   ]
  },
  {
   "cell_type": "markdown",
   "id": "c4c97b3d",
   "metadata": {},
   "source": [
    "In the above example, the mygenerator() function is a generator function. It uses yield instead of return keyword. So, this will return the value against the yield keyword each time it is called. return keyword can not be included in a generator function. If we include it then  it will terminate the function."
   ]
  },
  {
   "cell_type": "markdown",
   "id": "30d80253",
   "metadata": {},
   "source": [
    "Q11. What is the one improvement that must be made to a function in order for it to become a\n",
    "generator function in the Python language?\n",
    "\n",
    "It is very simple to create a function as well as a generator function. The one improvement that must be made in order to make a normal function avaialable as a generator function is by adding a yield statement to a normal function instead of return function. If a function contains at least ione yield statement then that function becomes a generator function. Both yield and return will return some value from a function. But the main differenec is that while a return statement terminates a function entirely, yield statement pauses the function saving all its states and later continues from there on successive calls."
   ]
  },
  {
   "cell_type": "markdown",
   "id": "12e49334",
   "metadata": {},
   "source": [
    "Q12. Identify at least one benefit of generators.\n",
    "Generators allow us to declare a function that behaves like an iterator. They allow programmers to make an iterator in a fast, easy, and clean way. One of the advantages of the generator over the iterator is that elements are generated dynamically. Since the next item is generated only after the first is consumed, it is more memory efficient as compared to the iterator."
   ]
  }
 ],
 "metadata": {
  "kernelspec": {
   "display_name": "Python 3 (ipykernel)",
   "language": "python",
   "name": "python3"
  },
  "language_info": {
   "codemirror_mode": {
    "name": "ipython",
    "version": 3
   },
   "file_extension": ".py",
   "mimetype": "text/x-python",
   "name": "python",
   "nbconvert_exporter": "python",
   "pygments_lexer": "ipython3",
   "version": "3.9.7"
  }
 },
 "nbformat": 4,
 "nbformat_minor": 5
}
