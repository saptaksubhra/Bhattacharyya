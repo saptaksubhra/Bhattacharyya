{
 "cells": [
  {
   "cell_type": "code",
   "execution_count": 19,
   "id": "5517df1b",
   "metadata": {},
   "outputs": [
    {
     "name": "stdout",
     "output_type": "stream",
     "text": [
      "Requirement already satisfied: mysql-connector-python in c:\\programdata\\anaconda3\\lib\\site-packages (8.0.28)\n",
      "Requirement already satisfied: protobuf>=3.0.0 in c:\\programdata\\anaconda3\\lib\\site-packages (from mysql-connector-python) (3.19.4)\n"
     ]
    }
   ],
   "source": [
    "!pip install mysql-connector-python"
   ]
  },
  {
   "cell_type": "code",
   "execution_count": 20,
   "id": "0b86c106",
   "metadata": {},
   "outputs": [],
   "source": [
    "import mysql.connector as conn"
   ]
  },
  {
   "cell_type": "code",
   "execution_count": 21,
   "id": "058837bc",
   "metadata": {},
   "outputs": [],
   "source": [
    "mydb = conn.connect(host = 'localhost', user = 'root', password ='chanakya')"
   ]
  },
  {
   "cell_type": "code",
   "execution_count": 22,
   "id": "4bf4b8d8",
   "metadata": {},
   "outputs": [
    {
     "data": {
      "text/plain": [
       "<mysql.connector.connection_cext.CMySQLConnection at 0x247f77d6700>"
      ]
     },
     "execution_count": 22,
     "metadata": {},
     "output_type": "execute_result"
    }
   ],
   "source": [
    "mydb"
   ]
  },
  {
   "cell_type": "code",
   "execution_count": 23,
   "id": "6efd2c52",
   "metadata": {},
   "outputs": [],
   "source": [
    "cursor = mydb.cursor()"
   ]
  },
  {
   "cell_type": "code",
   "execution_count": 24,
   "id": "ecf2d347",
   "metadata": {},
   "outputs": [],
   "source": [
    "cursor.execute('show databases')"
   ]
  },
  {
   "cell_type": "code",
   "execution_count": 25,
   "id": "8b8003b4",
   "metadata": {},
   "outputs": [
    {
     "data": {
      "text/plain": [
       "[('cardataset',),\n",
       " ('information_schema',),\n",
       " ('mysql',),\n",
       " ('mysqlassignment',),\n",
       " ('performance_schema',),\n",
       " ('sakila',),\n",
       " ('saptaksubhra',),\n",
       " ('sys',),\n",
       " ('world',)]"
      ]
     },
     "execution_count": 25,
     "metadata": {},
     "output_type": "execute_result"
    }
   ],
   "source": [
    "cursor.fetchall()"
   ]
  },
  {
   "cell_type": "code",
   "execution_count": 26,
   "id": "be49c926",
   "metadata": {},
   "outputs": [],
   "source": [
    "cursor.execute('use mysqlassignment')"
   ]
  },
  {
   "cell_type": "code",
   "execution_count": 27,
   "id": "9ca22660",
   "metadata": {},
   "outputs": [],
   "source": [
    "cursor.execute('show tables')"
   ]
  },
  {
   "cell_type": "code",
   "execution_count": 28,
   "id": "70c72b58",
   "metadata": {},
   "outputs": [
    {
     "data": {
      "text/plain": [
       "[('worker',)]"
      ]
     },
     "execution_count": 28,
     "metadata": {},
     "output_type": "execute_result"
    }
   ],
   "source": [
    "cursor.fetchall()"
   ]
  },
  {
   "cell_type": "code",
   "execution_count": 29,
   "id": "8786879b",
   "metadata": {},
   "outputs": [],
   "source": [
    "cursor.execute('select * from mysqlassignment.Worker')"
   ]
  },
  {
   "cell_type": "code",
   "execution_count": 30,
   "id": "bb15d3b6",
   "metadata": {},
   "outputs": [
    {
     "data": {
      "text/plain": [
       "[(1,\n",
       "  'SubhashChandra',\n",
       "  'Bose',\n",
       "  800000,\n",
       "  datetime.date(2012, 1, 1),\n",
       "  'subhash@infinity.com',\n",
       "  'HR'),\n",
       " (2,\n",
       "  'Lalbahadur',\n",
       "  'Shastri',\n",
       "  700000,\n",
       "  datetime.date(2012, 2, 2),\n",
       "  'shastri@infinity.com',\n",
       "  'Admin'),\n",
       " (3,\n",
       "  'Vishal',\n",
       "  'Singhal',\n",
       "  300000,\n",
       "  datetime.date(2013, 1, 1),\n",
       "  'vishal@infinity.com',\n",
       "  'HR'),\n",
       " (4,\n",
       "  'Amitabh',\n",
       "  'Singh',\n",
       "  500000,\n",
       "  datetime.date(2013, 1, 1),\n",
       "  'amitabh@infinity.com',\n",
       "  'HR'),\n",
       " (5,\n",
       "  'Vivek',\n",
       "  'Bharati',\n",
       "  600000,\n",
       "  datetime.date(2013, 3, 2),\n",
       "  'vivek@infinity.com',\n",
       "  'Admin'),\n",
       " (6,\n",
       "  'Vipul',\n",
       "  'Thakur',\n",
       "  200000,\n",
       "  datetime.date(2015, 1, 1),\n",
       "  'vipul@infinity.com',\n",
       "  'Account'),\n",
       " (7,\n",
       "  'Satish',\n",
       "  'Kaushik',\n",
       "  300000,\n",
       "  datetime.date(2016, 1, 1),\n",
       "  'satish@infinity.com',\n",
       "  'HR'),\n",
       " (8,\n",
       "  'Sandhya',\n",
       "  'Mukherjee',\n",
       "  500000,\n",
       "  datetime.date(2016, 1, 1),\n",
       "  'sandhya@infinity.com',\n",
       "  'Account'),\n",
       " (1,\n",
       "  'SubhashChandra',\n",
       "  'Bose',\n",
       "  800000,\n",
       "  datetime.date(2012, 1, 1),\n",
       "  'subhash@infinity.com',\n",
       "  'HR'),\n",
       " (2,\n",
       "  'Lalbahadur',\n",
       "  'Shastri',\n",
       "  700000,\n",
       "  datetime.date(2012, 2, 2),\n",
       "  'shastri@infinity.com',\n",
       "  'Admin'),\n",
       " (3,\n",
       "  'Vishal',\n",
       "  'Singhal',\n",
       "  300000,\n",
       "  datetime.date(2013, 1, 1),\n",
       "  'vishal@infinity.com',\n",
       "  'HR'),\n",
       " (4,\n",
       "  'Amitabh',\n",
       "  'Singh',\n",
       "  500000,\n",
       "  datetime.date(2013, 1, 1),\n",
       "  'amitabh@infinity.com',\n",
       "  'HR'),\n",
       " (5,\n",
       "  'Vivek',\n",
       "  'Bharati',\n",
       "  600000,\n",
       "  datetime.date(2013, 3, 2),\n",
       "  'vivek@infinity.com',\n",
       "  'Admin'),\n",
       " (6,\n",
       "  'Vipul',\n",
       "  'Thakur',\n",
       "  200000,\n",
       "  datetime.date(2015, 1, 1),\n",
       "  'vipul@infinity.com',\n",
       "  'Account'),\n",
       " (7,\n",
       "  'Satish',\n",
       "  'Kaushik',\n",
       "  300000,\n",
       "  datetime.date(2016, 1, 1),\n",
       "  'satish@infinity.com',\n",
       "  'HR'),\n",
       " (8,\n",
       "  'Sandhya',\n",
       "  'Mukherjee',\n",
       "  500000,\n",
       "  datetime.date(2016, 1, 1),\n",
       "  'sandhya@infinity.com',\n",
       "  'Account'),\n",
       " (1,\n",
       "  'SubhashChandra',\n",
       "  'Bose',\n",
       "  800000,\n",
       "  datetime.date(2012, 1, 1),\n",
       "  'subhash@infinity.com',\n",
       "  'HR')]"
      ]
     },
     "execution_count": 30,
     "metadata": {},
     "output_type": "execute_result"
    }
   ],
   "source": [
    "cursor.fetchall()"
   ]
  },
  {
   "cell_type": "code",
   "execution_count": 31,
   "id": "6ceebdfb",
   "metadata": {},
   "outputs": [
    {
     "data": {
      "text/plain": [
       "[('SubhAshChAndrA',),\n",
       " ('LAlbAhAdur',),\n",
       " ('VishAl',),\n",
       " ('AmitAbh',),\n",
       " ('Vivek',),\n",
       " ('Vipul',),\n",
       " ('SAtish',),\n",
       " ('SAndhyA',),\n",
       " ('SubhAshChAndrA',),\n",
       " ('LAlbAhAdur',),\n",
       " ('VishAl',),\n",
       " ('AmitAbh',),\n",
       " ('Vivek',),\n",
       " ('Vipul',),\n",
       " ('SAtish',),\n",
       " ('SAndhyA',),\n",
       " ('SubhAshChAndrA',)]"
      ]
     },
     "execution_count": 31,
     "metadata": {},
     "output_type": "execute_result"
    }
   ],
   "source": [
    "# Q-1. Write an SQL query to print the FIRST_NAME from Worker table after replacing ‘a’ with ‘A’.\n",
    "\n",
    "cursor.execute('select replace(FIRST_NAME, \"a\", \"A\") from Worker')\n",
    "cursor.fetchall()"
   ]
  },
  {
   "cell_type": "markdown",
   "id": "0f36bb08",
   "metadata": {},
   "source": [
    "#Q-2. Write an SQL query to print all Worker details from the Worker table order by FIRST_NAME Ascending and DEPARTMENT Descending."
   ]
  },
  {
   "cell_type": "code",
   "execution_count": 34,
   "id": "51b8d1e6",
   "metadata": {},
   "outputs": [
    {
     "data": {
      "text/plain": [
       "[(4,\n",
       "  'Amitabh',\n",
       "  'Singh',\n",
       "  500000,\n",
       "  datetime.date(2013, 1, 1),\n",
       "  'amitabh@infinity.com',\n",
       "  'HR'),\n",
       " (4,\n",
       "  'Amitabh',\n",
       "  'Singh',\n",
       "  500000,\n",
       "  datetime.date(2013, 1, 1),\n",
       "  'amitabh@infinity.com',\n",
       "  'HR'),\n",
       " (2,\n",
       "  'Lalbahadur',\n",
       "  'Shastri',\n",
       "  700000,\n",
       "  datetime.date(2012, 2, 2),\n",
       "  'shastri@infinity.com',\n",
       "  'Admin'),\n",
       " (2,\n",
       "  'Lalbahadur',\n",
       "  'Shastri',\n",
       "  700000,\n",
       "  datetime.date(2012, 2, 2),\n",
       "  'shastri@infinity.com',\n",
       "  'Admin'),\n",
       " (8,\n",
       "  'Sandhya',\n",
       "  'Mukherjee',\n",
       "  500000,\n",
       "  datetime.date(2016, 1, 1),\n",
       "  'sandhya@infinity.com',\n",
       "  'Account'),\n",
       " (8,\n",
       "  'Sandhya',\n",
       "  'Mukherjee',\n",
       "  500000,\n",
       "  datetime.date(2016, 1, 1),\n",
       "  'sandhya@infinity.com',\n",
       "  'Account'),\n",
       " (7,\n",
       "  'Satish',\n",
       "  'Kaushik',\n",
       "  300000,\n",
       "  datetime.date(2016, 1, 1),\n",
       "  'satish@infinity.com',\n",
       "  'HR'),\n",
       " (7,\n",
       "  'Satish',\n",
       "  'Kaushik',\n",
       "  300000,\n",
       "  datetime.date(2016, 1, 1),\n",
       "  'satish@infinity.com',\n",
       "  'HR'),\n",
       " (1,\n",
       "  'SubhashChandra',\n",
       "  'Bose',\n",
       "  800000,\n",
       "  datetime.date(2012, 1, 1),\n",
       "  'subhash@infinity.com',\n",
       "  'HR'),\n",
       " (1,\n",
       "  'SubhashChandra',\n",
       "  'Bose',\n",
       "  800000,\n",
       "  datetime.date(2012, 1, 1),\n",
       "  'subhash@infinity.com',\n",
       "  'HR'),\n",
       " (1,\n",
       "  'SubhashChandra',\n",
       "  'Bose',\n",
       "  800000,\n",
       "  datetime.date(2012, 1, 1),\n",
       "  'subhash@infinity.com',\n",
       "  'HR'),\n",
       " (6,\n",
       "  'Vipul',\n",
       "  'Thakur',\n",
       "  200000,\n",
       "  datetime.date(2015, 1, 1),\n",
       "  'vipul@infinity.com',\n",
       "  'Account'),\n",
       " (6,\n",
       "  'Vipul',\n",
       "  'Thakur',\n",
       "  200000,\n",
       "  datetime.date(2015, 1, 1),\n",
       "  'vipul@infinity.com',\n",
       "  'Account'),\n",
       " (3,\n",
       "  'Vishal',\n",
       "  'Singhal',\n",
       "  300000,\n",
       "  datetime.date(2013, 1, 1),\n",
       "  'vishal@infinity.com',\n",
       "  'HR'),\n",
       " (3,\n",
       "  'Vishal',\n",
       "  'Singhal',\n",
       "  300000,\n",
       "  datetime.date(2013, 1, 1),\n",
       "  'vishal@infinity.com',\n",
       "  'HR'),\n",
       " (5,\n",
       "  'Vivek',\n",
       "  'Bharati',\n",
       "  600000,\n",
       "  datetime.date(2013, 3, 2),\n",
       "  'vivek@infinity.com',\n",
       "  'Admin'),\n",
       " (5,\n",
       "  'Vivek',\n",
       "  'Bharati',\n",
       "  600000,\n",
       "  datetime.date(2013, 3, 2),\n",
       "  'vivek@infinity.com',\n",
       "  'Admin')]"
      ]
     },
     "execution_count": 34,
     "metadata": {},
     "output_type": "execute_result"
    }
   ],
   "source": [
    "cursor.execute('select * from Worker order by FIRST_NAME asc, DEPARTMENT desc')\n",
    "cursor.fetchall()"
   ]
  },
  {
   "cell_type": "code",
   "execution_count": 35,
   "id": "9fcfd5fd",
   "metadata": {},
   "outputs": [
    {
     "data": {
      "text/plain": [
       "[('SubhashChandra', 800000),\n",
       " ('SubhashChandra', 800000),\n",
       " ('SubhashChandra', 800000)]"
      ]
     },
     "execution_count": 35,
     "metadata": {},
     "output_type": "execute_result"
    }
   ],
   "source": [
    "# Q-3. Write an SQL query to fetch the names of workers who earn the highest salary.\n",
    "\n",
    "cursor.execute('select FIRST_NAME, SALARY from Worker where SALARY=(select max(SALARY) from Worker)')\n",
    "cursor.fetchall()"
   ]
  }
 ],
 "metadata": {
  "kernelspec": {
   "display_name": "Python 3 (ipykernel)",
   "language": "python",
   "name": "python3"
  },
  "language_info": {
   "codemirror_mode": {
    "name": "ipython",
    "version": 3
   },
   "file_extension": ".py",
   "mimetype": "text/x-python",
   "name": "python",
   "nbconvert_exporter": "python",
   "pygments_lexer": "ipython3",
   "version": "3.9.7"
  }
 },
 "nbformat": 4,
 "nbformat_minor": 5
}
