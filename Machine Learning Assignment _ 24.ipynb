{
 "cells": [
  {
   "cell_type": "markdown",
   "id": "cd7cacd1",
   "metadata": {},
   "source": [
    "1.What is your definition of clustering? What are a few clustering algorithms you might think of?\n",
    "\n",
    "Clustering is the task of dividing the population or data points into a number of groups such that data points in the same groups are more similar to other data points in the same group than those in other groups. \n",
    "\n",
    "Few clustering algorithms are : \n",
    "\n",
    "Affinity Propagation\n",
    "Agglomerative Clustering\n",
    "BIRCH\n",
    "DBSCAN\n",
    "K-Means\n",
    "Mini-Batch K-Means\n",
    "Mean Shift\n",
    "OPTICS\n",
    "Spectral Clustering\n",
    "Mixture of Gaussians"
   ]
  },
  {
   "cell_type": "markdown",
   "id": "419e7455",
   "metadata": {},
   "source": [
    "2.What are some of the most popular clustering algorithm applications?\n",
    "\n",
    "Some of the most popular clustering alogorithm applications are :\n",
    "\n",
    "K-Means Algorithm, Mean-Shift Algorithm, DBSCAN Algorithm, Expectation-Maximization Clustering using Gaussian Mixture Models, Agglomerative Hierarchical Algorithm."
   ]
  },
  {
   "cell_type": "markdown",
   "id": "739d6cac",
   "metadata": {},
   "source": [
    "3.When using K-Means, describe two strategies for selecting the appropriate number of clusters.\n",
    "\n",
    "Two strategies or methods for selecting the appropriate number of clusters when using K-means are Elbow Curve Method and Silhouette analysis.\n",
    "\n",
    "Elbow Curve Method : The elbow method runs k-means clustering on the dataset for a range of values of k (say 1 to 10).\n",
    "Perform K-means clustering with all these different values of K. For each of the K values, we calculate average distances to the centroid across all data points.Plot these points and find the point where the average distance from the centroid falls suddenly (“Elbow”).\n",
    "\n",
    "Let's see Elbow Curve Method in terms of graph and Python programming"
   ]
  },
  {
   "cell_type": "code",
   "execution_count": 3,
   "id": "5e85866b",
   "metadata": {},
   "outputs": [
    {
     "data": {
      "image/png": "[encoded data removed]",
      "text/plain": [
       "<Figure size 432x288 with 1 Axes>"
      ]
     },
     "metadata": {
      "needs_background": "light"
     },
     "output_type": "display_data"
    }
   ],
   "source": [
    "try:\n",
    "    import pandas as pd\n",
    "    import matplotlib.pyplot as plt\n",
    "    import seaborn as sns\n",
    "    import sklearn\n",
    "    from sklearn.cluster import KMeans\n",
    "    from sklearn.metrics import silhouette_score\n",
    "    X = [3, 1, 1, 2, 1, 6, 6, 6, 5, 6, 7, 8, 9, 8, 10, 9, 8]\n",
    "    Y = [5, 4, 5, 6, 5, 12, 1, 7, 6, 7, 1, 2, 8, 2, 3, 2, 3]\n",
    "    plt.scatter(X,Y)\n",
    "    plt.show()\n",
    "except:\n",
    "    print('Elbow Curve Method')"
   ]
  },
  {
   "cell_type": "markdown",
   "id": "eec13d91",
   "metadata": {},
   "source": [
    "Now we can calculate optimal K with the help of Elbow method."
   ]
  },
  {
   "cell_type": "markdown",
   "id": "0a9629aa",
   "metadata": {},
   "source": [
    "Silhouette analysis :\n",
    "The silhouette coefficient is a measure of how similar a data point is within-cluster (cohesion) compared to other clusters (separation).\n",
    "\n",
    "Select a range of values of k (say 1 to 10).\n",
    "Plot Silhouette coefﬁcient for each value of K.\n",
    "The equation for calculating the silhouette coefﬁcient for a particular data point:\n",
    "\n",
    "silhouette score\n",
    "S(i) is the silhouette coefficient of the data point i.\n",
    "a(i) is the average distance between i and all the other data points in the cluster to which i belongs.\n",
    "b(i) is the average distance from i to all clusters to which i does not belong.\n",
    "\n",
    "We will then calculate the average_silhouette for every k.\n",
    "\n",
    "Average silhouette = mean{S(i)}\n",
    "Then plot the graph between average_silhouette and K."
   ]
  },
  {
   "cell_type": "markdown",
   "id": "7119f045",
   "metadata": {},
   "source": [
    "4.What is back- propagation and how does it work? Why would you do it, and how would you do it?\n",
    "\n",
    "Back-propagation is the essence of neural net training. It is the practice of fine-tuning the weights of a neural net based on the error rate (i.e. loss) obtained in the previous epoch (i.e. iteration). \n",
    "\n",
    "The backpropagation algorithm works by computing the gradient of the loss function with respect to each weight by the chain rule, computing the gradient one layer at a time, iterating backward from the last layer to avoid redundant calculations of intermediate terms in the chain rule.\n",
    "\n",
    "We would do or use back-propagation or backward propagation because it is an important mathematical tool for improving the accuracy of predictions in data mining and machine learning. Essentially, backpropagation is an algorithm used to calculate derivatives quickly.\n",
    "\n",
    "We would do back-propagation by the practice of fine-tuning the weights of a neural net based on the error rate (i.e. loss) obtained in the previous epoch (i.e. iteration). Proper tuning of the weights ensures lower error rates, making the model reliable by increasing its generalization."
   ]
  },
  {
   "cell_type": "markdown",
   "id": "7d88dec4",
   "metadata": {},
   "source": [
    "5.Provide two examples of clustering algorithms that can handle large datasets. And two that look\n",
    "for high-density areas?\n",
    "\n",
    "Two examples of clustering algorithms that can handle large datasets are K-means algorithm with prioritizing speed ( such as : K-medians technique ) and Hadoop MapReduce standard K-means clustering algorithm.\n",
    "\n",
    "Two examples of clustering algorithms that look for high-density areas are Graph-based clustering  and DBSCAN."
   ]
  },
  {
   "cell_type": "markdown",
   "id": "41afada3",
   "metadata": {},
   "source": [
    "6.Can you think of a scenario in which constructive learning will be advantageous? How can you go\n",
    "about putting it into action?\n",
    "\n",
    "The scenario is based on a student agency where constructivism or constructive leraning will be advantageous through self-guided exploration, reflection, and evaluation.\n",
    "\n",
    "Advantages of constructive learning : \n",
    "It’s active.\n",
    "It promotes student agency.\n",
    "It develops advanced skills such as critical thinking, analysis, evaluation, and creation.\n",
    "It promotes diverse viewpoints.\n",
    "It encourages students to reflect, evaluate their work, and identify intermediary skills to acquire based on their requirements.\n",
    "It reflects our modern world’s vast access to content.\n",
    "Students learn more, and enjoy learning more when they are actively involved, rather than passive listeners.\n",
    "\n",
    "There are several ways to put constructive learning into action.\n",
    "\n",
    "Ask students to construct their own definition.\n",
    "Ask students to draw their own connections between concepts.\n",
    "Ask students to analyze a complex issue by constructing a report.\n",
    "Allow students to search the internet for source materials.\n",
    "Encourage students to reflect on their progress and identify the skills they need to develop in order to improve."
   ]
  },
  {
   "cell_type": "markdown",
   "id": "4d46caa0",
   "metadata": {},
   "source": [
    "7.How do you tell the difference between anomaly and novelty detection?\n",
    "\n",
    "Both novelty detection and outlier detection are used to detect anomalies. Outlier detection is an unsupervised anomaly detection algorithm. Novelty detection is a semi-supervised anomaly detection algorithm."
   ]
  },
  {
   "cell_type": "markdown",
   "id": "64621fba",
   "metadata": {},
   "source": [
    "8.What is a Gaussian mixture, and how does it work? What are some of the things you can do about\n",
    "it?\n",
    "\n",
    "A Gaussian mixture model is a probabilistic model that assumes all the data points are generated from a mixture of a finite number of Gaussian distributions with unknown parameters.\n",
    "\n",
    "Gaussian Mixture Models (GMMs) assume that there are a certain number of Gaussian distributions, and each of these distributions represent a cluster. Hence, a Gaussian Mixture Model tends to group the data points belonging to a single distribution together.\n",
    "\n",
    "Gaussian mixture models (GMMs) are a type of machine learning algorithm. They are used to classify data into different categories based on the probability distribution. Gaussian mixture models can be used in many different areas, including finance, marketing."
   ]
  },
  {
   "cell_type": "markdown",
   "id": "09297b1e",
   "metadata": {},
   "source": [
    "9.When using a Gaussian mixture model, can you name two techniques for determining the correct\n",
    "number of clusters?\n",
    "\n",
    "Two techniques for determining the correct number of clusters are Silhouette score and Distance between GMMs when using a Gaussian mixture model.\n",
    "\n",
    "Silhouette score : This score consider two measures. \n",
    "The mean distance between a sample and all other points in the same cluster.\n",
    "The mean distance between a sample and all other points in the next nearest cluster.\n",
    "It means that it checks how much the clusters are compact and well separated. The more the score is near to one, the better the clustering is.\n",
    "\n",
    "Distance between GMMs:\n",
    "Here we form two datasets, each with a half randomly choose amount of data. We will then check how much the GMMs trained on the two sets are similar, for each configuration.\n"
   ]
  }
 ],
 "metadata": {
  "kernelspec": {
   "display_name": "Python 3 (ipykernel)",
   "language": "python",
   "name": "python3"
  },
  "language_info": {
   "codemirror_mode": {
    "name": "ipython",
    "version": 3
   },
   "file_extension": ".py",
   "mimetype": "text/x-python",
   "name": "python",
   "nbconvert_exporter": "python",
   "pygments_lexer": "ipython3",
   "version": "3.9.7"
  }
 },
 "nbformat": 4,
 "nbformat_minor": 5
}
