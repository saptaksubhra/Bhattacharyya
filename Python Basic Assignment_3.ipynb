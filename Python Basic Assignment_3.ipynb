{
 "cells": [
  {
   "cell_type": "markdown",
   "id": "79869932",
   "metadata": {},
   "source": [
    "1. Why are functions advantageous to have in your programs?\n",
    "\n",
    "Use of functions enhances the readability of a program. A big code is always difficult to read. Breaking the code in smaller Functions keeps the program organized, easy to understand and makes it reusable.\n"
   ]
  },
  {
   "cell_type": "markdown",
   "id": "7f33c9c2",
   "metadata": {},
   "source": [
    "2. When does the code in a function run: when it's specified or when it's called?\n",
    "\n",
    "The code inside a function is executed when the function is invoked. It is common to use the term \"call a function\" instead of \"invoke a function\".\n",
    "So, the code in a function runs when it is called.\n"
   ]
  },
  {
   "cell_type": "markdown",
   "id": "409f87ca",
   "metadata": {},
   "source": [
    "3. What statement creates a function?\n",
    "\n",
    "The 'def' keyword is a statement for defining a function in Python. We can start a function by 'def' keyword, followed by a funtion name with round brackets and a colon.\n",
    "\n",
    "For example\n",
    "def f1():\n",
    "Here 'def' is the keyword and 'f1' is the function name."
   ]
  },
  {
   "cell_type": "markdown",
   "id": "d9bd6aa1",
   "metadata": {},
   "source": [
    "4.What is the difference between a function and a function call?\n",
    "\n",
    "A function call means  calling that function. There is no use of that function unless that function is called. So the difference between the function and function call is, a function is a procedure to achieve a particular output while function call is using this function to achieve that task."
   ]
  },
  {
   "cell_type": "markdown",
   "id": "23ee5e7f",
   "metadata": {},
   "source": [
    "5. How many global scopes are there in a Python program? How many local scopes?\n",
    "\n",
    "There is one global scope in a Python programme and a local scope is created whenever a function is called."
   ]
  },
  {
   "cell_type": "markdown",
   "id": "b604bead",
   "metadata": {},
   "source": [
    "6. What happens to variables in a local scope when the function call returns?\n",
    "\n",
    "When a function returns, the local scope is destroyed, and all the variables in it are forgotten."
   ]
  },
  {
   "cell_type": "markdown",
   "id": "c471ddbe",
   "metadata": {},
   "source": [
    "7. What is the concept of a return value? Is it possible to have a return value in an expression?\n",
    "\n",
    "A return value is the value that a function call evaluates to. Like any value, a return value can be used as part of an expression.\n",
    "\n"
   ]
  },
  {
   "cell_type": "markdown",
   "id": "5b5ba4ef",
   "metadata": {},
   "source": [
    "8. If a function does not have a return statement, what is the return value of a call to that function?\n",
    "\n",
    "If there is no return statement for a function, its return value is None."
   ]
  },
  {
   "cell_type": "markdown",
   "id": "5e62d46b",
   "metadata": {},
   "source": [
    "9. How do you make a function variable refer to the global variable?\n",
    "\n",
    "A global statement will force a variable in a function to refer to the global variable."
   ]
  },
  {
   "cell_type": "markdown",
   "id": "d6b25b79",
   "metadata": {},
   "source": [
    "10. What is the datatype none ?\n",
    "\n",
    "The datatype of none is nonetype."
   ]
  },
  {
   "cell_type": "markdown",
   "id": "ced85a55",
   "metadata": {},
   "source": [
    "11. What does the sentence import areallyourpetsnamederic do?\n",
    "\n",
    "That import statement imports a module named areallyourpetsnamederic.( But this is not a real Python module.)"
   ]
  },
  {
   "cell_type": "markdown",
   "id": "10cba26c",
   "metadata": {},
   "source": [
    "12. If you had a bacon() feature in a spam module, what would you call it after importing spam?\n",
    "\n",
    "This function can be called with spam.bacon()."
   ]
  },
  {
   "cell_type": "markdown",
   "id": "d5356d66",
   "metadata": {},
   "source": [
    "13. What can you do to save a programme from crashing if it encounters an error?\n",
    "\n",
    "Place the line of code that might cause an error in a try clause."
   ]
  },
  {
   "cell_type": "markdown",
   "id": "04b7930a",
   "metadata": {},
   "source": [
    "14. What is the purpose of the try clause? What is the purpose of the except clause?\n",
    "\n",
    "The code that could potentially cause an error goes in the try clause.\n",
    "\n",
    "The code that executes if an error happens goes in the except clause."
   ]
  }
 ],
 "metadata": {
  "kernelspec": {
   "display_name": "Python 3 (ipykernel)",
   "language": "python",
   "name": "python3"
  },
  "language_info": {
   "codemirror_mode": {
    "name": "ipython",
    "version": 3
   },
   "file_extension": ".py",
   "mimetype": "text/x-python",
   "name": "python",
   "nbconvert_exporter": "python",
   "pygments_lexer": "ipython3",
   "version": "3.9.7"
  }
 },
 "nbformat": 4,
 "nbformat_minor": 5
}
