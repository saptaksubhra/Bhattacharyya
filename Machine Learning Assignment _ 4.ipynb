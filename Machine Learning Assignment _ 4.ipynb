{
 "cells": [
  {
   "cell_type": "markdown",
   "id": "32285112",
   "metadata": {},
   "source": [
    "1.What are the key tasks involved in getting ready to work with machine learning modeling?\n",
    "\n",
    "There are seven key tasks involved in getting ready to work with machine learning modeling.\n",
    "\n",
    "Those key tasks are :\n",
    "i.Collecting data : Given the problem we want to solve, you will have to investigate and obtain data that you will use to feed your machine. The quality and quantity of information you get are very important since it will directly impact how well or badly your model will work. \n",
    "\n",
    "ii. Preparing Data : This is a good time to visualize our data and check if there are correlations between the different characteristics that we obtained. It will be necessary to make a selection of characteristics since the ones we choose will directly impact the execution times and the results. \n",
    "\n",
    "iii. Choosing the model: There are several models that we can choose in accordance with the objective that we might have. We will use algorithms of classification, prediction, linear regression, clustering. There are various models to be used depending on the data we are going to process such as images, sound, text, and numerical values.\n",
    "\n",
    "iv. Training our machine model : We will need to train the datasets to run smoothly and see an incremental improvement in the prediction rate. \n",
    "\n",
    "v. Evaluating the model : We will have to check the machine created against our evaluation data set that contains inputs that the model does not know and verify the precision of our already trained model. In general if the accuracy is less than or equal to 50% then the model is of no use and if the accuracy is greater than or equal to 90% then the model is useful.\n",
    "\n",
    "vi. Parameter Tuning : If during the evaluation period  we did not obtain good predictions and our precision is not the minimum desired, it is possible that we have overfitting or underfitting problems and we must return to the training step before making a new configuration of parameters in our model.\n",
    "\n",
    "vii. Prediction : In the is step we are  ready to use our Machine Learning model concluded results in real-life scenarios."
   ]
  },
  {
   "cell_type": "markdown",
   "id": "3a067f19",
   "metadata": {},
   "source": [
    "2.What are the different forms of data used in machine learning? Give a specific example for each of them.\n",
    "\n",
    "The different forms of data used in machine learning are categorized into 4 basic types from a Machine Learning perspective: numerical data, categorical data, time-series data, and text data.\n",
    "\n",
    "Examples of numerical data : height, weight, age, number of movies watched, IQ.\n",
    "Examples of categorical data : race, sex, age group, and educational level. \n",
    "Example of time-series data : Weather records, economic indicators and patient health evolution metrics.\n",
    "Example of test data : call center transcripts, online reviews, customer surveys, and other text documents."
   ]
  },
  {
   "cell_type": "markdown",
   "id": "451cf999",
   "metadata": {},
   "source": [
    "3.Distinguish:\n",
    "\n",
    "1.Numeric vs. categorical attributes : Categorical data refers to a data type that can be stored and identified based on the names or labels given to them. Numerical data refers to the data that is in the form of numbers, and not in any language or descriptive form. Also known as qualitative data as it qualifies data before classifying it.\n",
    "\n",
    "2.Feature selection vs. dimensionality reduction : Feature selection is simply selecting and excluding given features without changing them. Dimensionality reduction transforms features into a lower dimension."
   ]
  },
  {
   "cell_type": "markdown",
   "id": "c952cb9e",
   "metadata": {},
   "source": [
    "4.Make quick notes on any two of the following:\n",
    "\n",
    "1.The histogram : A histogram is a graphical representation that organizes a group of data points into user-specified ranges. Similar in appearance to a bar graph, the histogram condenses a data series into an easily interpreted visual by taking many data points and grouping them into logical ranges or bins. \n",
    "\n",
    "2.Use a scatter plot : Scatter plots shows how much one variable is affected by another variable or the relationship between those two variables with the help of dots in two dimensions. Scatter plots are very much like line graphs in the concept that they use horizontal and vertical axes to plot data points.\n",
    "\n",
    "\n",
    "3.PCA (Personal Computer Aid)"
   ]
  },
  {
   "cell_type": "markdown",
   "id": "ad7e88c4",
   "metadata": {},
   "source": [
    "5.Why is it necessary to investigate data? Is there a discrepancy in how qualitative and quantitative\n",
    "data are explored?\n",
    "\n",
    "If our data set is in a mess, building models will not help us solve our problem. That means taking garbage in and taking garbage out. In order to build a powerful machine learning algorithm we need to investigate data and that is possible by exploring and understanding our data set before we define a predictive task and solve it.\n",
    "\n",
    "There is discrepancy in how qualitative and quantitative data are explored. Quantitative data are data about numeric variables (e.g. how many; how much; or how often). Qualitative data are measuresd in terms of 'types' and may be represented by a name, symbol, or a number code."
   ]
  },
  {
   "cell_type": "markdown",
   "id": "88ff90c6",
   "metadata": {},
   "source": [
    "6.What are the various histogram shapes? What exactly are ‘bins'?\n",
    "\n",
    "The various histogram shapes are Normal Distribution, Skewed Distribution, Double-Peaked or Bimodal Distribution, Plateau or Multimodal Distribution, Edge Peak Distribution, Comb Distribution, Truncated or Heart-Cut Distribution, Dog Food Distribution.\n",
    "A histogram displays numerical data by grouping data into \"bins\" of equal width. Each bin is plotted as a bar whose height corresponds to how many data points are in that bin. Bins are also sometimes called \"intervals\", \"classes\", or \"buckets\". There are general rules to choose bins. and those are:\n",
    "Bins should be of the same size, should be choosen between 5 and 20 bins, it should include all data even outliers, boundaries for bins should land at whole numbers whenever possible.And if possible we try to make our data evenly divisible by number of bins. Let's we have 16 pieces of data then we should choose 8 number of bins instead of 9 or 10."
   ]
  },
  {
   "cell_type": "markdown",
   "id": "ae5a78e9",
   "metadata": {},
   "source": [
    "7.How do we deal with data outliers?\n",
    "\n",
    "There are five ways to deal with data outliers and those are:\n",
    "\n",
    "i. Setting up a filter in our testing tool\n",
    "ii. Remove or change outliers during post-test analysis\n",
    "iii. Changing the value of outliers\n",
    "iv. Considering the underlying distribution\n",
    "v. Considering the value of mild outliers"
   ]
  },
  {
   "cell_type": "markdown",
   "id": "146ade47",
   "metadata": {},
   "source": [
    "8.What are the various central inclination measures? Why does mean vary too much from median in certain data sets?\n",
    "\n",
    "A measure of central tendency or central inclination is an important aspect of quantitative data. It is an estimation of a “typical” value. Three of the many ways to measure central tendency  or inclination are the mean, median and mode. There are other measures, such as a trimmed mean.\n",
    "\n",
    "Mean varies too much from median in certain data sets. Mean is so much higher in values than median because he mean finds the average of all the values, both high and low, the few outlying data points on the high end cause the mean to increase, making it higher than the median."
   ]
  },
  {
   "cell_type": "markdown",
   "id": "2bed1355",
   "metadata": {},
   "source": [
    "9.Describe how a scatter plot can be used to investigate bivariate relationships. Is it possible to find outliers using a scatter plot?\n",
    "\n",
    "Scatterplots are useful for identifying relationships in bivariate data. In considering the relationship between two quantitative variables, we can sometimes identify one of the variables as the independent variable and the other variable as dependent variable. There are few bivariate relationships avaialable once the scatter plot hets used. One is no relationship. A bivariate data set shows no relationship if the scatterplot is just random, with no tilt (ie, slanting neither upward nor downward as you move from left to right). The case of no relationship is a special linear relationship that is neither increasing nor decreasing. Such a scatterplot may look like a cloud that is either circular or oval-shaped. Example is short-term momentum and the stock market.\n",
    "\n",
    "Another one is linear relationship. Some kinds of bivariate data sets are easier to analyze than others. Those with a linear relationship are the easiest. This relationship plays the same special role for bivariate data that the normal distribution plays for univariate data. A bivariate data set shows a linear relationship if the scatterplot shows points bunched randomly around a straight line.  Example is Economic activity and the populatin of the United States.\n",
    "\n",
    "It is possible  to find outliers using a scatter plot if there is a regression line on a scatter plot, we can identify outliers. An outlier for a scatter plot is the point or points that are farthest from the regression line. There is at least one outlier on a scatter plot in most cases, and there is usually only one outlier."
   ]
  },
  {
   "cell_type": "markdown",
   "id": "bffb6f8e",
   "metadata": {},
   "source": [
    "10.Describe how cross-tabs can be used to figure out how two variables are related.\n",
    "\n",
    "Cross tabulation is a method to quantitatively analyze the relationship between multiple variables.It is also  known as contingency tables or cross-tabs, cross tabulation groups variables to understand the correlation between different variables. It also shows how correlations change from one variable grouping to another. It is usually used in statistical analysis to find patterns, trends, and probabilities within raw data. So ,in case of two variables it groups two variables to understand the correlation between the two variables. It also shows how correlations change between two variables."
   ]
  }
 ],
 "metadata": {
  "kernelspec": {
   "display_name": "Python 3 (ipykernel)",
   "language": "python",
   "name": "python3"
  },
  "language_info": {
   "codemirror_mode": {
    "name": "ipython",
    "version": 3
   },
   "file_extension": ".py",
   "mimetype": "text/x-python",
   "name": "python",
   "nbconvert_exporter": "python",
   "pygments_lexer": "ipython3",
   "version": "3.9.7"
  }
 },
 "nbformat": 4,
 "nbformat_minor": 5
}
