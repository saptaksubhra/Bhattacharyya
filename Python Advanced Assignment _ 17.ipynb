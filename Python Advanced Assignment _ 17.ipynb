{
 "cells": [
  {
   "cell_type": "markdown",
   "id": "6f6e2b09",
   "metadata": {},
   "source": [
    "Q1. Explain the difference between greedy and non-greedy syntax with visual terms in as few words\n",
    "as possible. What is the bare minimum effort required to transform a greedy pattern into a non-greedy\n",
    "one? What characters or characters can you introduce or change?\n",
    "\n",
    "The usual rule for matching in Regular Expressions is sometimes called “left-most longest“ and that is called Perl(Beacuse the Perl pattern matching is greedy.) which is greedy matching. It means that the parser tries to match as much as possible. And when it is \"left most shortetst or minimal match that is called non-greedy matching. So , the basic difference between  greedy and non-greedy is that the greedy match will try to match as many repetitions of the quantified pattern as possible and the non-greedy match will try to match as few repetitions of the quantified pattern as possible. Greedy quantifiers or syntaxes are *, ?, +, {a}, {a,b}. And the non-greedy quantifiers are the combinations of these greedy quantifiers. Such as: '??', '*?', '+?', {a,b}?\n",
    "\n",
    "The bare minimum effort required to transform a greedy pattern into a non-greedy pattern is by using '?' at the end of Regular Expression i.e '*?' matches the smallest number of instances of the preceding subexpression that will allow the overall match to succeed. Similarly, '+?' matches at least one instance, but no more than necessary to allow the overall match to succeed, and '??' matches either zero or one instances, with a preference for zero.These are the cahracters we can introduce.\n",
    "Let us have some example in terms of greedy and non-greedsy matching."
   ]
  },
  {
   "cell_type": "code",
   "execution_count": 25,
   "id": "8590aab8",
   "metadata": {},
   "outputs": [
    {
     "name": "stdout",
     "output_type": "stream",
     "text": [
      "['AAAAA', '']\n",
      "['A', 'A', 'A', 'A', 'A', '']\n",
      "['AAAAA']\n",
      "['AAAA']\n",
      "['AAAA', 'A']\n"
     ]
    }
   ],
   "source": [
    "# Example of Greedy Matching\n",
    "\n",
    "try:\n",
    "    \n",
    "    import re\n",
    "    print(re.findall('A*', 'AAAAA'))\n",
    "    \n",
    "    print(re.findall('A?', 'AAAAA'))\n",
    "    \n",
    "    print(re.findall('A+','AAAAA'))\n",
    "    \n",
    "    print(re.findall('A{4}', 'AAAAA'))\n",
    "    \n",
    "    print(re.findall('A{1,4}', 'AAAAA'))\n",
    "except:\n",
    "    print('greedy matching')\n"
   ]
  },
  {
   "cell_type": "code",
   "execution_count": 26,
   "id": "6102a28a",
   "metadata": {},
   "outputs": [
    {
     "name": "stdout",
     "output_type": "stream",
     "text": [
      "['', 'A', '', 'A', '', 'A', '', 'A', '', 'A', '']\n",
      "['A', 'A', 'A', 'A', 'A']\n",
      "['', 'A', '', 'A', '', 'A', '', 'A', '', 'A', '']\n"
     ]
    }
   ],
   "source": [
    "# Example of Non-greedy Mathcing\n",
    "\n",
    "try:\n",
    "    import re\n",
    "    print(re.findall('A*?','AAAAA'))\n",
    "    \n",
    "    print(re.findall('A+?','AAAAA'))\n",
    "    \n",
    "    print(re.findall('A??', 'AAAAA'))\n",
    "except:\n",
    "    print('Non-greedy matching')"
   ]
  },
  {
   "cell_type": "markdown",
   "id": "d78aeed5",
   "metadata": {},
   "source": [
    "Q2. When exactly does greedy versus non-greedy make a difference?  What if you're looking for a\n",
    "non-greedy match but the only one available is greedy?\n",
    "\n",
    "Greedy quantifiers or syntaxes are *, ?, +, {a}, {a,b}. And the non-greedy quantifiers are the combinations of these greedy quantifiers. Such as: '??', '*?', '+?', {a,b}? So once these combinations are done and applied on string then it reflects different ouputs. Because the basic difference between  greedy and non-greedy is that the greedy match will try to match as many repetitions of the quantified pattern as possible and the non-greedy match will try to match as few repetitions of the quantified pattern as possible.  Let us see through some examples."
   ]
  },
  {
   "cell_type": "code",
   "execution_count": 27,
   "id": "42ed684e",
   "metadata": {},
   "outputs": [
    {
     "name": "stdout",
     "output_type": "stream",
     "text": [
      "['AAAAA', '']\n",
      "['A', 'A', 'A', 'A', 'A', '']\n",
      "['AAAAA']\n",
      "['AAAA']\n",
      "['AAAA', 'A']\n"
     ]
    }
   ],
   "source": [
    "# Example of Greedy Matching\n",
    "\n",
    "try:\n",
    "    \n",
    "    import re\n",
    "    print(re.findall('A*', 'AAAAA'))\n",
    "    \n",
    "    print(re.findall('A?', 'AAAAA'))\n",
    "    \n",
    "    print(re.findall('A+','AAAAA'))\n",
    "    \n",
    "    print(re.findall('A{4}', 'AAAAA'))\n",
    "    \n",
    "    print(re.findall('A{1,4}', 'AAAAA'))\n",
    "except:\n",
    "    print('greedy matching')\n"
   ]
  },
  {
   "cell_type": "code",
   "execution_count": 28,
   "id": "3e1a68d4",
   "metadata": {},
   "outputs": [
    {
     "name": "stdout",
     "output_type": "stream",
     "text": [
      "['', 'A', '', 'A', '', 'A', '', 'A', '', 'A', '']\n",
      "['A', 'A', 'A', 'A', 'A']\n",
      "['', 'A', '', 'A', '', 'A', '', 'A', '', 'A', '']\n"
     ]
    }
   ],
   "source": [
    "# Example of Non-greedy Mathcing\n",
    "\n",
    "try:\n",
    "    import re\n",
    "    print(re.findall('A*?','AAAAA'))\n",
    "    \n",
    "    print(re.findall('A+?','AAAAA'))\n",
    "    \n",
    "    print(re.findall('A??', 'AAAAA'))\n",
    "except:\n",
    "    print('Non-greedy matching')"
   ]
  },
  {
   "cell_type": "markdown",
   "id": "f0c99786",
   "metadata": {},
   "source": [
    "If we are looking for non-greedy match and the only one is available is greedy match then we can convert greedy to non-greedy by the combinations of greedy quantifiers or syntaxes. One example has been given below in terms of greedy and non-greedy match."
   ]
  },
  {
   "cell_type": "code",
   "execution_count": 29,
   "id": "f83b431b",
   "metadata": {},
   "outputs": [
    {
     "name": "stdout",
     "output_type": "stream",
     "text": [
      "['AAAAA', '']\n",
      "['', 'A', '', 'A', '', 'A', '', 'A', '', 'A', '']\n"
     ]
    }
   ],
   "source": [
    "try:\n",
    "    import re\n",
    "    print(re.findall('A*', 'AAAAA')) # Greedy matching\n",
    "    \n",
    "    print(re.findall('A*?','AAAAA')) # Non-greedy matching\n",
    "except:\n",
    "    print('conversion from greedy to non-greedy matching')\n",
    "    "
   ]
  },
  {
   "cell_type": "markdown",
   "id": "a5cd479b",
   "metadata": {},
   "source": [
    "Q3. In a simple match of a string, which looks only for one match and does not do any replacement, is\n",
    "the use of a nontagged group likely to make any practical difference?\n",
    "\n",
    " In a simple match of a string, which looks only for one match and does not do any replacement,\n",
    "the use of a nontagged group is likely to make practical difference but that can be done only by ignoring the non-tagged group. Let us see step by step with the help of examples.\n",
    "The following example illustrates how to use the tagged groups to capture the major and minor versions of Python in the string \"Python 3.9\""
   ]
  },
  {
   "cell_type": "code",
   "execution_count": 74,
   "id": "2af4c33f",
   "metadata": {},
   "outputs": [
    {
     "name": "stdout",
     "output_type": "stream",
     "text": [
      "3.9\n",
      "3\n",
      "9\n"
     ]
    }
   ],
   "source": [
    "try:\n",
    "    str1 = 'Python 3.9'\n",
    "    pattern = '(\\d+)\\.(\\d+)'\n",
    "    match = re.search(pattern , str1)\n",
    "    print(match.group())\n",
    "    \n",
    "    for i in match.groups():\n",
    "        print(i)\n",
    "except:\n",
    "    print('Tagged group')\n",
    "        "
   ]
  },
  {
   "cell_type": "markdown",
   "id": "be40dc78",
   "metadata": {},
   "source": [
    "Now if we do not want to capture the digits before the literal character(.)then , we can use a non-tagging group like the below."
   ]
  },
  {
   "cell_type": "code",
   "execution_count": 75,
   "id": "32fc9ded",
   "metadata": {},
   "outputs": [
    {
     "name": "stdout",
     "output_type": "stream",
     "text": [
      "3.9\n",
      "9\n"
     ]
    }
   ],
   "source": [
    "try:\n",
    "    str1 = 'Python 3.9'\n",
    "    pattern = '(?:\\d+)\\.(\\d+)'\n",
    "    match = re.search(pattern , str1)\n",
    "    print(match.group())\n",
    "    \n",
    "    for i in match.groups():\n",
    "        print(i)\n",
    "except:\n",
    "    print('Tagged group')\n",
    "        "
   ]
  },
  {
   "cell_type": "markdown",
   "id": "36beb04c",
   "metadata": {},
   "source": [
    "In the above example we have used non-tagging group (?:\\d+) for the first group not to capture the digits before the literal character(.) But to get the same output as the above example we can ignore the non-tagged group in the first place like the below."
   ]
  },
  {
   "cell_type": "code",
   "execution_count": 76,
   "id": "c4f4c65d",
   "metadata": {},
   "outputs": [
    {
     "name": "stdout",
     "output_type": "stream",
     "text": [
      "3.9\n",
      "9\n"
     ]
    }
   ],
   "source": [
    "try:\n",
    "    str1 = 'Python 3.9'\n",
    "    pattern = '\\d+\\.(\\d+)'\n",
    "    match = re.search(pattern , str1)\n",
    "    print(match.group())\n",
    "    \n",
    "    for i in match.groups():\n",
    "        print(i)\n",
    "except:\n",
    "    print('Tagged group')\n",
    "        "
   ]
  },
  {
   "cell_type": "markdown",
   "id": "71485998",
   "metadata": {},
   "source": [
    "So, from the above example we can say that In a simple match of a string, which looks only for one match and does not do any replacement, the use of a nontagged group is likely to make practical difference but that can be done only by ignoring the non-tagged group."
   ]
  },
  {
   "cell_type": "markdown",
   "id": "f4d21f54",
   "metadata": {},
   "source": [
    "Q4. Describe a scenario in which using a nontagged category would have a significant impact on the\n",
    "program's outcomes.\n",
    "\n",
    "The following example illustrates how to use the tagged groups to capture the major and minor versions of Python in the string \"Python 3.9\""
   ]
  },
  {
   "cell_type": "code",
   "execution_count": 77,
   "id": "e8869a8b",
   "metadata": {},
   "outputs": [
    {
     "name": "stdout",
     "output_type": "stream",
     "text": [
      "3.9\n",
      "3\n",
      "9\n"
     ]
    }
   ],
   "source": [
    "try:\n",
    "    str1 = 'Python 3.9'\n",
    "    pattern = '(\\d+)\\.(\\d+)'\n",
    "    match = re.search(pattern , str1)\n",
    "    print(match.group())\n",
    "    \n",
    "    for i in match.groups():\n",
    "        print(i)\n",
    "except:\n",
    "    print('Tagged group')\n",
    "        "
   ]
  },
  {
   "cell_type": "markdown",
   "id": "5babe5ed",
   "metadata": {},
   "source": [
    "Now if we do not want to capture the digits before the literal character(.)then , we can use a non-tagging group like the below. And in this scenario, using a nontagged category would have a significant impact on the program's outcomes. But to get the same output as the below example we will have to  ignore the non-tagged group in the first place otherwise it is not possible to get the same output as below with the help of tagged group."
   ]
  },
  {
   "cell_type": "code",
   "execution_count": 78,
   "id": "3f1ce920",
   "metadata": {},
   "outputs": [
    {
     "name": "stdout",
     "output_type": "stream",
     "text": [
      "3.9\n",
      "9\n"
     ]
    }
   ],
   "source": [
    "try:\n",
    "    str1 = 'Python 3.9'\n",
    "    pattern = '(?:\\d+)\\.(\\d+)'\n",
    "    match = re.search(pattern , str1)\n",
    "    print(match.group())\n",
    "    \n",
    "    for i in match.groups():\n",
    "        print(i)\n",
    "except:\n",
    "    print('Tagged group')\n",
    "        "
   ]
  },
  {
   "cell_type": "markdown",
   "id": "aaa499d0",
   "metadata": {},
   "source": [
    "Q5. Unlike a normal regex pattern, a look-ahead condition does not consume the characters it\n",
    "examines. Describe a situation in which this could make a difference in the results of your\n",
    "programme.\n",
    "\n",
    "The situation is when we use look-ahead and negative look-ahead condition together in the same programme then that could make a difference in the results of our programme. This time around in the below example the result is the same as the output \"woman\" is not followed by lowercase letters '\"woman\" is the search string."
   ]
  },
  {
   "cell_type": "code",
   "execution_count": 83,
   "id": "5455c5df",
   "metadata": {},
   "outputs": [
    {
     "name": "stdout",
     "output_type": "stream",
     "text": [
      "Positive Look-ahead: woman\n",
      "Negative Look-ahead: woman\n"
     ]
    }
   ],
   "source": [
    "try:\n",
    "    import re\n",
    "  \n",
    "    example1 = re.search('woman(?=[a-z])',\n",
    "                     'woman for womanizer')\n",
    "    print('Positive Look-ahead:', example1.group())\n",
    "  \n",
    "    example2 = re.search('woman(?![a-z])',\n",
    "                     'woman007')\n",
    "    print('Negative Look-ahead:', example2.group())\n",
    "except:\n",
    "    print('positive and negative look-ahead')"
   ]
  },
  {
   "cell_type": "markdown",
   "id": "58b47ada",
   "metadata": {},
   "source": [
    "Q6. In standard expressions, what is the difference between positive look-ahead and negative look-\n",
    "ahead?\n",
    "\n",
    "Look-ahead or positive look-ahead is used as an assertion in Python regular expressions to determine success or failure whether the pattern is ahead i.e to the right of the parser’s current position. They don’t match anything. Hence, they are called as zero-width assertions. The syntax of positive look-ahead is:\n",
    "\n",
    "(?=<lookahead_regex>)\n",
    "\n",
    "Positive look-ahead is important when we don’t want the output to return lookahead portion present in search string but want to use it to match pattern which is followed by a particular section. \n",
    "\n",
    "Negative lookahead is opposite of lookahead. It is to assure that the search string is not followed by <lookahead_regex>. The ysntax of negative look-ahead is : (?!<lookahead_regex>) "
   ]
  },
  {
   "cell_type": "code",
   "execution_count": 84,
   "id": "9ff380c1",
   "metadata": {},
   "outputs": [
    {
     "name": "stdout",
     "output_type": "stream",
     "text": [
      "Positive Look-ahead: human\n",
      "Negative Look-ahead: human\n"
     ]
    }
   ],
   "source": [
    "# Example of positive look-ahead and negative look-ahead\n",
    "\n",
    "try:\n",
    "    import re\n",
    "  \n",
    "    example1 = re.search('human(?=[a-z])',\n",
    "                     'human for humanoid')\n",
    "    print('Positive Look-ahead:', example1.group())\n",
    "  \n",
    "    example2 = re.search('human(?![a-z])',\n",
    "                     'human786')\n",
    "    print('Negative Look-ahead:', example2.group())\n",
    "except:\n",
    "    print('positive and negative look-ahead')"
   ]
  },
  {
   "cell_type": "markdown",
   "id": "e3781bce",
   "metadata": {},
   "source": [
    "In the above example, the output is human because search string human here is not followed by lowercase letters."
   ]
  },
  {
   "cell_type": "markdown",
   "id": "9e66f7e2",
   "metadata": {},
   "source": [
    "Q7. What is the benefit of referring to groups by name rather than by number in a standard  expression?\n",
    "\n",
    "The benefit of referring to groups by name is that it makes the code more readable and more organised rather than by numberin a stnadard expression. For example, if an user enters his or her birthday then he or she will have to enter according to day, month , year. Using the group() function in Python, without named groups, the first match (the month) would be referenced using the statement, group(1). The second match (the day) would be referenced using the statement, group(2). The third match (the year) would be referenced using the statment, group(3). By default, groups, without names, are referenced according to numerical order starting with 1. Let's say we have a regular expression that has 3 subexpressions. Now, with named groups, we can name each match in the regular expression. So instead of referencing matches of the regular expression with numbers (group(1), group(2), or group(3)), we can reference matches with names, such as group('month'), group('day'), group('year'). By seeing, group(1) we really do not know what it represents.But, if we see group(month) then we can say it refers to month. The example has been given below."
   ]
  },
  {
   "cell_type": "code",
   "execution_count": 56,
   "id": "a3a23b58",
   "metadata": {},
   "outputs": [
    {
     "name": "stdout",
     "output_type": "stream",
     "text": [
      "Month is:  November\n",
      "Day is:  16\n",
      "Year is :  1989\n"
     ]
    }
   ],
   "source": [
    "try:\n",
    "    import re\n",
    "\n",
    "    str1= \"November 16, 1989\"\n",
    "\n",
    "    regex= r\"^(?P<month>\\w+)\\s(?P<day>\\d+)\\,?\\s(?P<year>\\d+)\"\n",
    "\n",
    "    match= re.search(regex, str1)\n",
    "\n",
    "    print(\"Month is: \", match.group('month'))\n",
    "    print(\"Day is: \", match.group('day'))\n",
    "    print(\"Year is : \", match.group('year'))\n",
    "except:\n",
    "    print('Referring to groups by name in regex')\n"
   ]
  },
  {
   "cell_type": "markdown",
   "id": "92741777",
   "metadata": {},
   "source": [
    "Q8. Can you identify repeated items within a target string using named groups, as in \"The cow jumped over the moon\"?\n",
    "\n",
    "The regex_replace function transforms the given into a new string. It has the following syntax:\n",
    "\n",
    "regex_replace(target_string, regex_obj, replacement_pattern_str)\n",
    "The replacement_pattern_str is a string that can contain the following special sequences (in addition to ordinary characters). $& Refers to the entire matched string. $n Refers to the nth group within the matched string. For example, “$1” refers to the first group of characters tagged by the regex object; “$2” refers to the second group of tagged characters (if there is one), and so on and so forth. The example that follows should clarify. $$ A literal dollar sign ($)\n",
    "\n",
    "The following declarations set up a search-and-replace designed to fix the repeated-word pattern, replacing it, where found, with one copy of the word. But since in the given string \"The cow jumped over the moon\", there is no repeated item so there is no need to implement regex_replace function."
   ]
  },
  {
   "cell_type": "markdown",
   "id": "9fd0e268",
   "metadata": {},
   "source": [
    "Q9. When parsing a string, what is at least one thing that the Scanner interface does for you that the\n",
    "re.findall feature does not?\n",
    "\n",
    "When parsing a string the scanner interface is perfromed by re.search() method.  This method either returns None(In case there is no match in pattern) or re.matchobject that contains information about the matching part of the string. This method stops after the first match, so this is the best method suited for testing a regular expression more than extracting data. On the other hand, re.findall() method returns all non-overlapping matches of pattern in a string as a list of strings.The string is scanned from left to right the matches are returned in the same order as it is found. Two examples have been given below interms of both methods."
   ]
  },
  {
   "cell_type": "code",
   "execution_count": 67,
   "id": "2d67d2f9",
   "metadata": {},
   "outputs": [
    {
     "name": "stdout",
     "output_type": "stream",
     "text": [
      "Match at index 14 26\n",
      "Full match is : September 06\n",
      "Month is : September\n",
      "Year is : 06\n"
     ]
    }
   ],
   "source": [
    "# Example of re.serach() method\n",
    "\n",
    "try:\n",
    "    import re\n",
    "    regex = r'([a-zA-Z]+) (\\d+)'\n",
    "    match = re.search(regex, 'I was born on September 06.')\n",
    "    \n",
    "    if match!= None:\n",
    "        print(\"Match at index %s %s\" %(match.start() , match.end()))\n",
    "        \n",
    "        print(\"Full match is : %s\" %(match.group(0)))\n",
    "        \n",
    "        print(\"Month is : %s\" %(match.group(1)))\n",
    "        \n",
    "        print(\"Year is : %s\" %(match.group(2)))\n",
    "        \n",
    "    else:\n",
    "        print(\"The match is not found in regex pattern.\")\n",
    "except:\n",
    "    print('re.search() method')"
   ]
  },
  {
   "cell_type": "code",
   "execution_count": 69,
   "id": "abec71a6",
   "metadata": {},
   "outputs": [
    {
     "name": "stdout",
     "output_type": "stream",
     "text": [
      "['007', '700']\n"
     ]
    }
   ],
   "source": [
    "# Example of re.findall() method\n",
    "\n",
    "try:\n",
    "    import re\n",
    "    str2 = 'James Bond 007 Daniel Craig 700'\n",
    "    regex = '\\d+'\n",
    "    match = re.findall(regex, str2)\n",
    "    print(match)\n",
    "except:\n",
    "    print('re.findall() method')"
   ]
  },
  {
   "cell_type": "markdown",
   "id": "6841d913",
   "metadata": {},
   "source": [
    "Q10. Does a scanner object have to be named scanner?\n",
    "\n",
    "A scanner object does not have to be named scanner. To create an object of Scanner class, we usually pass the predefined object System.in, which represents the standard input stream. We may pass an object of class File if we want to read input from a file. To read strings, we use nextLine(). To read a single character, we use next(). The Scanner allows us to read the input of various primitive data types like int, float, strings."
   ]
  },
  {
   "cell_type": "markdown",
   "id": "a34ef736",
   "metadata": {},
   "source": [
    "int age = scanner.nextInt()\n",
    "scanner.nextLine()\n",
    "String name = scanner.nextLine()\n",
    "int yearOfBirth = scanner.nextInt()"
   ]
  }
 ],
 "metadata": {
  "kernelspec": {
   "display_name": "Python 3 (ipykernel)",
   "language": "python",
   "name": "python3"
  },
  "language_info": {
   "codemirror_mode": {
    "name": "ipython",
    "version": 3
   },
   "file_extension": ".py",
   "mimetype": "text/x-python",
   "name": "python",
   "nbconvert_exporter": "python",
   "pygments_lexer": "ipython3",
   "version": "3.9.7"
  }
 },
 "nbformat": 4,
 "nbformat_minor": 5
}
