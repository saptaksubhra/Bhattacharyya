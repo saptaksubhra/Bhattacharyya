{
 "cells": [
  {
   "cell_type": "markdown",
   "id": "cf6d8a19",
   "metadata": {},
   "source": [
    "1.Define the Bayesian interpretation of probability.\n",
    "\n",
    "Bayesian probability is an interpretation of the concept of probability, in which, instead of frequency or propensity of some phenomenon, probability is interpreted as reasonable expectation representing a state of knowledge or as quantification of a personal belief.\n",
    "The Bayesian interpretation of probability can be seen as an extension of propositional logic that enables reasoning with hypotheses; that means with propositions whose truth or falsity is unknown. In the Bayesian view, a probability is assigned to a hypothesis, whereas under frequentist inference, a hypothesis is typically tested without being assigned a probability."
   ]
  },
  {
   "cell_type": "markdown",
   "id": "0edd0b5c",
   "metadata": {},
   "source": [
    "2.Define probability of a union of two events with equation.\n",
    "\n",
    "The probability of the union of two events E and F (written as E∪F ) equals the sum of the probability of E and the probability of F minus the probability of E and F occurring together ( which is called the intersection of E and F and is written as E∩F ).\n",
    "\n",
    " P(E∪F)=P(E)+P(F)−P(E∩F)"
   ]
  },
  {
   "cell_type": "markdown",
   "id": "90ad8ca7",
   "metadata": {},
   "source": [
    "3.What is joint probability? What is its formula?\n",
    "\n",
    "A joint probability, in probability theory, refers to the probability that two events will both occur. In other words, joint probability is the likelihood of two events occurring together.\n",
    "\n",
    "Formula for Joint Probability\n",
    " \n",
    "\n",
    "Joint Probability = P(A ⋂ B) = P(A) X P(B)\n",
    "Where:\n",
    "\n",
    "P(A ⋂ B) is the notation for the joint probability of event “A” and “B”.\n",
    "P(A) is the probability of event “A” occurring.\n",
    "P(B) is the probability of event “B” occurring."
   ]
  },
  {
   "cell_type": "markdown",
   "id": "d3667d26",
   "metadata": {},
   "source": [
    "4.What is chain rule of probability?\n",
    "\n",
    "In probability theory, the chain rule (also called the general product rule permits the calculation of any member of the joint distribution of a set of random variables using only conditional probabilities. The rule is useful in the study of Bayesian networks, which describe a probability distribution in terms of conditional probabilities.\n",
    "\n",
    "The chain rule for two random events A and B says\n",
    "\n",
    "P(A ⋂ B) = P(B|A).P(A)"
   ]
  },
  {
   "cell_type": "markdown",
   "id": "9689f419",
   "metadata": {},
   "source": [
    "5.What is conditional probability means? What is the formula of it?\n",
    "\n",
    "Conditional probability is defined as the likelihood of an event or outcome occurring, based on the occurrence of a previous event or outcome. Conditional probability is calculated by multiplying the probability of the preceding event by the updated probability of the succeeding, or conditional, event.\n",
    "\n",
    "Conditional Probability Formula\n",
    "P(B|A) = P(A and B) / P(A)\n",
    "Or:\n",
    "P(B|A) = P(A∩B) / P(A)\n",
    "Where\n",
    "P = Probability\n",
    "A = Event A\n",
    "B = Event B\n"
   ]
  },
  {
   "cell_type": "markdown",
   "id": "16bb53b7",
   "metadata": {},
   "source": [
    "6.What are continuous random variables?\n",
    "\n",
    "A continuous random variable is one which takes an infinite number of possible values. Continuous random variables are usually measurements. Examples include height, weight, the amount of sugar in an apple or in a mandarine, the time required to run a mile, mass, density, volume, distance, temperature."
   ]
  },
  {
   "cell_type": "markdown",
   "id": "3dbe2ad8",
   "metadata": {},
   "source": [
    "7.What are Bernoulli distributions? What is the formula of it?\n",
    "\n",
    "A Bernoulli distribution is a discrete probability distribution for a Bernoulli trial — a random experiment that has only two outcomes (usually called a “Success” or a “Failure”). For example, the probability of getting a heads (a “success”) while flipping a coin is 0.5. The probability of “failure” is 1 – P (1 minus the probability of success, which also equals 0.5 for a coin toss). It is a special case of the binomial distribution for n = 1. In other words, it is a binomial distribution with a single trial (e.g. a single coin toss).\n",
    "\n",
    "The formula of Bernoulli Distribution\n",
    "\n",
    "The mean of a Bernoulli distribution is E[X] = p and the variance, Var[X] = p(1-p). Bernoulli distribution is a special case of binomial distribution when only 1 trial is conducted.\n",
    "f(k;p) =pk + (1-p)(1-k)\n",
    "p\t=\tprobability\n",
    "k\t=\tpossible outcomes\n",
    "f\t=\tprobability mass function"
   ]
  },
  {
   "cell_type": "markdown",
   "id": "ccbb8674",
   "metadata": {},
   "source": [
    "8.What is binomial distribution? What is the formula?\n",
    "\n",
    " A binomial distribution can be thought of as simply the probability of a SUCCESS or FAILURE outcome in an experiment or survey that is repeated multiple times. The binomial is a type of distribution that has two possible outcomes (the prefix “bi” means two, or twice).\n",
    " \n",
    " Binomial Distribution Formula\n",
    "Binomial Distribution\tP(x) = nCx · p^x (1 − p)^n−x\n",
    "Or,\tP(r) = [n!/r!(n−r)!]· pr (1 − p)n−r\n",
    "Where,\n",
    "\n",
    "n = Total number of events\n",
    "r (or) x = Total number of successful events.\n",
    "p = Probability of success on a single trial.\n",
    "nCr = [n!/r!(n−r)!]\n",
    "1 – p = Probability of failure."
   ]
  },
  {
   "cell_type": "markdown",
   "id": "4a6cf837",
   "metadata": {},
   "source": [
    "9.What is Poisson distribution? What is the formula?\n",
    "\n",
    "A Poisson distribution is a tool that helps to predict the probability of certain events happening when you know how often the event has occurred. It gives us the probability of a given number of events happening in a fixed interval of time.\n",
    "\n",
    "The Poisson Distribution pmf is: P(x; μ) = (e^-μ) (μ^x) / x!\n",
    "\n",
    "Where:\n",
    "\n",
    "The symbol “!” is a factorial.\n",
    "μ (the expected number of occurrences) is sometimes written as λ. Sometimes called the event rate or rate parameter."
   ]
  },
  {
   "cell_type": "markdown",
   "id": "01dbe8fe",
   "metadata": {},
   "source": [
    "10.Define covariance.\n",
    "Covariance is a measure of how much two random variables vary together. It's similar to variance, where variance tells us how a single variable varies, co variance tells us how two variables vary together. \n",
    "\n",
    "The formula is:\n",
    "Cov(X,Y) = Σ E((X – μ) E(Y – ν)) / n-1 where:\n",
    "\n",
    "X is a random variable\n",
    "E(X) = μ is the expected value (the mean) of the random variable X and\n",
    "E(Y) = ν is the expected value (the mean) of the random variable Y\n",
    "n = the number of items in the data set.\n",
    "Σ summation notation."
   ]
  },
  {
   "cell_type": "markdown",
   "id": "0a79fff7",
   "metadata": {},
   "source": [
    "11.Define correlation\n",
    "\n",
    "Correlation is a statistical measure (expressed as a number) that describes the size and direction of a relationship between two or more variables. A correlation between variables, however, does not automatically mean that the change in one variable is the cause of the change in the values of the other variable."
   ]
  },
  {
   "cell_type": "markdown",
   "id": "4b983b86",
   "metadata": {},
   "source": [
    "12.Define sampling with replacement.Give example.\n",
    "\n",
    "Sampling with replacement is used to find probability with replacement. In other words, you want to find the probability of some event where there’s a number of balls, cards or other objects, and you replace the item each time you choose one.\n",
    "\n",
    "Let’s say you had a population of 7 people, and you wanted to sample 2. Their names are:\n",
    "\n",
    "Abraham\n",
    "Linclon\n",
    "Quenton\n",
    "Meena\n",
    "Hardy\n",
    "Laurel\n",
    "Kallis\n",
    "\n",
    "\n",
    "You could put their names in a hat. If you sample with replacement, you would choose one person’s name, put that person’s name back in the hat, and then choose another name. The possibilities for your two-name sample are:\n",
    "\n",
    "Abraham Abraham\n",
    "Abraham Lincoln\n",
    "Abraham Quenton\n",
    "Lincoln Quenton\n",
    "Lincoln Meena\n",
    "Lincon Hardy\n",
    "....and son on."
   ]
  },
  {
   "cell_type": "markdown",
   "id": "a5529818",
   "metadata": {},
   "source": [
    "13.What is sampling without replacement? Give example.\n",
    "\n",
    "In sampling without replacement, each sample unit of the population has only one chance to be selected in the sample. For example, if one draws a simple random sample such that no unit occurs more than one time in the sample, the sample is drawn without replacement. \n",
    "\n",
    "We can consider the population of potato sacks, each of which has either 12, 13, 14, 15, 16, 17, or 18 potatoes, and all the values are equally likely. Suppose that, in this population, there is exactly one sack with each number. So the whole population has seven sacks. If I sample two without replacement, then I first pick one (say 14). I had a 1/7 probability of choosing that one. Then I pick another. At this point, there are only six possibilities: 12, 13, 15, 16, 17, and 18. So there are only 42 different possibilities here (again assuming that we distinguish between the first and the second.) They are: (12,13), (12,14), (12,15), (12,16), (12,17), (12,18), (13,12), (13,14), (13,15), and so on."
   ]
  },
  {
   "cell_type": "markdown",
   "id": "5de3e3b4",
   "metadata": {},
   "source": [
    "14.What is hypothesis? Give example.\n",
    "\n",
    "A hypothesis is a potential explanation for something that happens or that we observe and think to be true. It can also be used to determine the relationship between two or more variables that we think might be related to each other.\n",
    "\n",
    "Hypotheses are usually written as if/then statements, such as if someone consumes a lot of sugar, then they will develop Diabetes in their bodies. These statements identify specific variables (in this case, consuming a large amount of sugar) and propose a result (in this case, developing Diabetes in their bodies)."
   ]
  }
 ],
 "metadata": {
  "kernelspec": {
   "display_name": "Python 3 (ipykernel)",
   "language": "python",
   "name": "python3"
  },
  "language_info": {
   "codemirror_mode": {
    "name": "ipython",
    "version": 3
   },
   "file_extension": ".py",
   "mimetype": "text/x-python",
   "name": "python",
   "nbconvert_exporter": "python",
   "pygments_lexer": "ipython3",
   "version": "3.9.7"
  }
 },
 "nbformat": 4,
 "nbformat_minor": 5
}
