{
 "cells": [
  {
   "cell_type": "markdown",
   "id": "7b10d1ba",
   "metadata": {},
   "source": [
    "1.What are the key reasons for reducing the dimensionality of a dataset? What are the major disadvantages?\n",
    "\n",
    "The key reasons for dimensionality reduction are: To speed up a subsequent training algorithm (in some cases it may even remove noise and redundant features, making the training algorithm perform better). To visualize the data and gain insights on the most important features. Simply to save space (compression). The major disadvantages are: Some information is lost, possibly degrading the performance of subsequent training algorithms. It can be computationally intensive. — It adds some complexity to Machine Learning pipelines. Transformed features are often hard to interpret."
   ]
  },
  {
   "cell_type": "markdown",
   "id": "477915c1",
   "metadata": {},
   "source": [
    "2.What is the dimensionality curse?\n",
    "\n",
    "The dimensionality curse refers to the fact that many problems that do not exist in low-dimensional space arise in high-dimensional space. In Machine Learning, one common manifestation is the fact that randomly sampled highdimensional vectors are generally very inadequate, increasing the risk of overfitting and making it very difficult to identify patterns in the data without having plenty of training data."
   ]
  },
  {
   "cell_type": "markdown",
   "id": "3ecbff60",
   "metadata": {},
   "source": [
    "3.Tell if its possible to reverse the process of reducing the dimensionality of a dataset? If so, how\n",
    "can you go about doing it? If not, what is the reason?\n",
    "\n",
    "It is almost always impossible to reverse the process of reducing the dimensionality of a dataset because some information gets lost during dimensionality reduction. Moreover, while some algorithms (such as PCA) have a simple reverse transformation procedure that can reconstruct a dataset relatively similar to the original, other algorithms (such as T-SNE) do not."
   ]
  },
  {
   "cell_type": "markdown",
   "id": "51991b27",
   "metadata": {},
   "source": [
    "4.Can PCA be utilized to reduce the dimensionality of a nonlinear dataset with a lot of variables?\n",
    "\n",
    "PCA can be used to significantly reduce the dimensionality of most datasets, even if they are highly nonlinear, because it can at least get rid of useless dimensions. However, if there are no useless dimensions—for example, the Swiss roll—then reducing dimensionality with PCA will lose too much information. "
   ]
  },
  {
   "cell_type": "markdown",
   "id": "da31358f",
   "metadata": {},
   "source": [
    "5.Assume you're running PCA on a 1,000-dimensional dataset with a 95 percent explained variance\n",
    "ratio. What is the number of dimensions that the resulting dataset would have?\n",
    "\n",
    "It depends upon the dataset. Let's have a look at two examples. First, suppose the dataset is composed of points that are almost perfectly aligned. In this case, PCA can reduce the dataset down to just one dimension while still preserving 95% of the variance. Now imagine that the dataset is composed of perfectly random points, scattered all around the 1,000 dimensions. In this case all 1,000 dimensions are required to preserve 95% of the variance. So the answer is, it depends on the dataset, and it could be any number between 1 and 1,000. Plotting the explained variance as a function of the number of dimensions is one way to get a rough idea of the dataset’s intrinsic dimensionality."
   ]
  },
  {
   "cell_type": "markdown",
   "id": "ca34099e",
   "metadata": {},
   "source": [
    "6.Will you use vanilla PCA, incremental PCA, randomized PCA, or kernel PCA in which situations?\n",
    "\n",
    "Regular PCA is the default one, but it works only if the dataset fits in memory. Incremental PCA is useful for large datasets that don’t fit in memory, but it is slower than regular PCA, so if the dataset fits in memory we should prefer regular PCA. Incremental PCA is also useful for online tasks, when we need to apply PCA on the fly, every time a new instance arrives. Randomized PCA is useful when we want to considerably reduce dimensionality and the dataset fits in memory and  in this case, it is much faster than regular PCA.  Kernel PCA is useful for nonlinear datasets."
   ]
  },
  {
   "cell_type": "markdown",
   "id": "188b085f",
   "metadata": {},
   "source": [
    "7.How do you assess a dimensionality reduction algorithm's success on your dataset?\n",
    "\n",
    "Basically, a dimensionality reduction algorithm performs well if it eliminates a lot of dimensions from the dataset without losing too much information. One way to measure this is to implement the reverse transformation and measure the reconstruction error. However, not all dimensionality reduction algorithms provide a reverse transformation. Alternatively, if we are using dimensionality reduction as a preprocessing step before another Machine Learning algorithm (e.g., a Random Forest classifier), then we can simply measure the performance of that second algorithm; if dimensionality reduction did not lose too much information, then the algorithm should perform just as well as when using the original dataset."
   ]
  },
  {
   "cell_type": "markdown",
   "id": "b73b4aa9",
   "metadata": {},
   "source": [
    "8.Is it logical to use two different dimensionality reduction algorithms in a chain?\n",
    "\n",
    "It is logical to use two different dimensionality reduction algorithms in a chain. A common example is using PCA to quickly get rid of a large number of useless dimensions, then applying another much slower dimensionality reduction algorithm, such as LLE. This two-step approach will likely give in the same performance as using LLE only, but in a fraction of the time."
   ]
  }
 ],
 "metadata": {
  "kernelspec": {
   "display_name": "Python 3 (ipykernel)",
   "language": "python",
   "name": "python3"
  },
  "language_info": {
   "codemirror_mode": {
    "name": "ipython",
    "version": 3
   },
   "file_extension": ".py",
   "mimetype": "text/x-python",
   "name": "python",
   "nbconvert_exporter": "python",
   "pygments_lexer": "ipython3",
   "version": "3.9.7"
  }
 },
 "nbformat": 4,
 "nbformat_minor": 5
}
