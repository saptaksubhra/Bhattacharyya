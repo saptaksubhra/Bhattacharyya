{
 "cells": [
  {
   "cell_type": "markdown",
   "id": "2cfee604",
   "metadata": {},
   "source": [
    "#1. To what does a relative path refer?\n",
    "\n",
    "A relative path refers to a location that is relative to a current directory. For example: Absolute path: C:/users/admin/docs/stuff.txt. If my PWD is C:/users/admin/ , then the relative path to stuff.txt would be: docs/stuff.txt. Note, PWD (Present Working Directory) + relative path = absolute path.\n"
   ]
  },
  {
   "cell_type": "markdown",
   "id": "6fc85a7a",
   "metadata": {},
   "source": [
    "#2. What does an absolute path start with your operating system?\n",
    "\n",
    "An absolute path refers to the complete details required to locate a file or folder, starting from the root element and ending with the other subdirectories. Absolute paths are used in websites and operating systems for locating files and folders. An absolute path is also known as an absolute pathname or full path."
   ]
  },
  {
   "cell_type": "markdown",
   "id": "f4df637b",
   "metadata": {},
   "source": [
    "#3. What do the functions os.getcwd() and os.chdir() do?\n",
    "\n",
    "getcwd() : CWD stands for Current Working Directory. This function allows us to see what our current working directory is. chdir(\"path-to-dir\") : Short for Change Directory, this function allows us to set the current working directory to a path of our choice."
   ]
  },
  {
   "cell_type": "markdown",
   "id": "4c48ffb4",
   "metadata": {},
   "source": [
    "#4. What are the . and .. folders?\n",
    "\n",
    "The . is the current directory, while .. signifies the parent directory. It makes things quicker at the command line as well so that we don't need to type out."
   ]
  },
  {
   "cell_type": "markdown",
   "id": "638fcd62",
   "metadata": {},
   "source": [
    "#5. In C:\\bacon\\eggs\\spam.txt, which part is the dir name, and which part is the base name?\n",
    "\n",
    "C:\\bacon\\eggs is the dir name, while spam.txt is the base name."
   ]
  },
  {
   "cell_type": "markdown",
   "id": "40c4f39e",
   "metadata": {},
   "source": [
    "#6. What are the three “mode” arguments that can be passed to the open() function?\n",
    "\n",
    "The access modes available for the open() function are as follows:\n",
    "r : Opens the file in read-only mode. \n",
    "rb : Opens the file as read-only in binary format and starts reading from the beginning of the file.\n",
    "r+ : Opens a file for reading and writing operation, placing the pointer at the beginning of the file."
   ]
  },
  {
   "cell_type": "markdown",
   "id": "2b653d1e",
   "metadata": {},
   "source": [
    "#7. What happens if an existing file is opened in write mode?\n",
    "\n",
    "\"w\" is specified to open a file in write mode and it generates an empty file for output operations after specifying mode \"w\".If a file with the same names already exists then its contents are discarded and the file is treated as new empty file."
   ]
  },
  {
   "cell_type": "markdown",
   "id": "e7de9666",
   "metadata": {},
   "source": [
    "#8. How do you tell the difference between read() and readlines()?\n",
    "\n",
    "read() reads the entire file each time it is usually used to place the contents of the file into a string variable.\n",
    "\n",
    "readlines() method reads  all lines of the entire file, save in a list variable, each line as an element, but reading a big file will compare memory."
   ]
  },
  {
   "cell_type": "markdown",
   "id": "0b2cd893",
   "metadata": {},
   "source": [
    "#9. What data structure does a shelf value resemble?\n",
    "\n",
    "A shelf value resembles a dictionary value; it has keys and values, along with keys() and values() methods that work similarly to the dictionary methods of the same names.\n"
   ]
  }
 ],
 "metadata": {
  "kernelspec": {
   "display_name": "Python 3 (ipykernel)",
   "language": "python",
   "name": "python3"
  },
  "language_info": {
   "codemirror_mode": {
    "name": "ipython",
    "version": 3
   },
   "file_extension": ".py",
   "mimetype": "text/x-python",
   "name": "python",
   "nbconvert_exporter": "python",
   "pygments_lexer": "ipython3",
   "version": "3.9.7"
  }
 },
 "nbformat": 4,
 "nbformat_minor": 5
}
