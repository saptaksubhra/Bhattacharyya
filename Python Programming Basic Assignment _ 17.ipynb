{
 "cells": [
  {
   "cell_type": "markdown",
   "id": "705d3eec",
   "metadata": {},
   "source": [
    "Question1. Create a function that takes three arguments a, b, c and returns the sum of the\n",
    "numbers that are evenly divided by c from the range a, b inclusive.\n",
    "Examples\n",
    "evenly_divisible(1, 10, 20) ➞ 0\n",
    "# No number between 1 and 10 can be evenly divided by 20.\n",
    "evenly_divisible(1, 10, 2) ➞ 30\n",
    "# 2 + 4 + 6 + 8 + 10 = 30\n",
    "evenly_divisible(1, 10, 3) ➞ 18\n",
    "# 3 + 6 + 9 = 18"
   ]
  },
  {
   "cell_type": "code",
   "execution_count": 5,
   "id": "d2a9f907",
   "metadata": {},
   "outputs": [
    {
     "name": "stdout",
     "output_type": "stream",
     "text": [
      "0\n",
      "30\n",
      "18\n"
     ]
    }
   ],
   "source": [
    "def DivisibleSum(a, b, c):\n",
    " \n",
    "\n",
    "    sum = 0\n",
    " \n",
    "   \n",
    "    for i in range(a, b + 1):\n",
    " \n",
    "        \n",
    "        if (i % c == 0):\n",
    "            sum =sum + i\n",
    " \n",
    "    \n",
    "    return sum\n",
    " \n",
    "# Driver code\n",
    "if __name__==\"__main__\":\n",
    "     \n",
    " \n",
    "    a = 1\n",
    "    b = 10\n",
    "    c = 20\n",
    "    print(DivisibleSum(a, b, c))\n",
    "    \n",
    "    a = 1\n",
    "    b = 10\n",
    "    c = 2\n",
    "    print(DivisibleSum(a, b, c))\n",
    "     \n",
    "        \n",
    "    a = 1\n",
    "    b = 10\n",
    "    c = 3\n",
    "    print(DivisibleSum(a, b, c))\n",
    "     \n",
    "     "
   ]
  },
  {
   "cell_type": "markdown",
   "id": "b194906e",
   "metadata": {},
   "source": [
    "Question2. Create a function that returns True if a given inequality expression is correct and\n",
    "False otherwise.\n",
    "Examples\n",
    "correct_signs(\"3 < 7 < 11\") ➞ True\n",
    "correct_signs(\"13 > 44 > 33 > 1\") ➞ False\n",
    "correct_signs(\"1 < 2 < 6 < 9 > 3\") ➞ True"
   ]
  },
  {
   "cell_type": "code",
   "execution_count": 7,
   "id": "354b3cc8",
   "metadata": {},
   "outputs": [
    {
     "name": "stdout",
     "output_type": "stream",
     "text": [
      "True\n",
      "False\n",
      "True\n"
     ]
    }
   ],
   "source": [
    "try:\n",
    "    def correct_signs(a):\n",
    "        RegularExpression =eval(a) # To Evaluate the Inequality Expression\n",
    "        \n",
    "        if RegularExpression:\n",
    "            return True\n",
    "        else:\n",
    "            return False\n",
    "    \n",
    "    print(correct_signs(\"3 < 7 < 11\"))\n",
    "    \n",
    "    print(correct_signs(\"13 > 44 > 33 > 1\"))\n",
    "        \n",
    "    print(correct_signs(\"1 < 2 < 6 < 9 > 3\"))\n",
    "    \n",
    "except:\n",
    "    print(\"Inequality Expression\")\n",
    "        "
   ]
  },
  {
   "cell_type": "markdown",
   "id": "b0ea073e",
   "metadata": {},
   "source": [
    "Question3. Create a function that replaces all the vowels in a string with a specified character.\n",
    "Examples\n",
    "replace_vowels(\"the aardvark\", \"#\") ➞ \"th# ##rdv#rk\"\n",
    "replace_vowels(\"minnie mouse\", \"?\") ➞ \"m?nn?? m??s?\"\n",
    "replace_vowels(\"shakespeare\", \"*\") ➞ \"sh*k*sp**r*\""
   ]
  },
  {
   "cell_type": "code",
   "execution_count": 14,
   "id": "e8a38a20",
   "metadata": {},
   "outputs": [
    {
     "name": "stdout",
     "output_type": "stream",
     "text": [
      "Given String : the aardvark\n",
      "Given Specified Character :  #\n",
      "After replacing vowels with the specified character is :  t h #   # # r d v # r k\n",
      "Given String : minnie mouse\n",
      "Given Specified Character :  ?\n",
      "After replacing vowels with the specified character is :  m ? n n ? ?   m ? ? s ?\n",
      "Given String : shakespeare\n",
      "Given Specified Character :  *\n",
      "After replacing vowels with the specified character is :  s h * k * s p * * r *\n"
     ]
    }
   ],
   "source": [
    "try:\n",
    "    \n",
    "    def replace_vowels(strtest, b):\n",
    "        List_of_vowels = [\"a\",\"e\", \"i\", \"o\", \"u\", \"A\", \"E\", \"I\", \"O\", \"U\"]\n",
    "        \n",
    "        NewString = []\n",
    "        \n",
    "        StringList= list(strtest)\n",
    "        \n",
    "        for character in StringList:\n",
    "            for character2 in List_of_vowels:\n",
    "                if character == character2:\n",
    "                    NewString.append(b)\n",
    "                    break\n",
    "            else:\n",
    "                NewString.append(character)\n",
    "        return (\" \".join(NewString))\n",
    "    \n",
    "    String = \"the aardvark\"\n",
    "    b = \"#\"\n",
    "    print(\"Given String :\", String)\n",
    "    print(\"Given Specified Character : \", b)\n",
    "    print(\"After replacing vowels with the specified character is : \", replace_vowels(String, b))\n",
    "    \n",
    "    String = \"minnie mouse\"\n",
    "    b = \"?\"\n",
    "    print(\"Given String :\", String)\n",
    "    print(\"Given Specified Character : \", b)\n",
    "    print(\"After replacing vowels with the specified character is : \", replace_vowels(String, b))\n",
    "    \n",
    "    String = \"shakespeare\"\n",
    "    b = \"*\"\n",
    "    print(\"Given String :\", String)\n",
    "    print(\"Given Specified Character : \", b)\n",
    "    print(\"After replacing vowels with the specified character is : \", replace_vowels(String, b))\n",
    "except:\n",
    "    print(\"Replacement of vowels from a string\")"
   ]
  },
  {
   "cell_type": "markdown",
   "id": "a72c0c65",
   "metadata": {},
   "source": [
    "Question4. Write a function that calculates the factorial of a number recursively.\n",
    "Examples\n",
    "factorial(5) ➞ 120\n",
    "factorial(3) ➞ 6\n",
    "factorial(1) ➞ 1\n",
    "factorial(0) ➞ 1"
   ]
  },
  {
   "cell_type": "code",
   "execution_count": 3,
   "id": "b76a9de6",
   "metadata": {},
   "outputs": [
    {
     "name": "stdout",
     "output_type": "stream",
     "text": [
      "The factorial of :  0 is 1\n",
      "The factorial of :  1 is 1\n",
      "The factorial of :  3 is 6\n",
      "The factorial of :  5 is 120\n"
     ]
    }
   ],
   "source": [
    "try:\n",
    "    def factorial(n):\n",
    "        if n == 0:\n",
    "            return 1\n",
    "        else:\n",
    "            return n * factorial(n-1)\n",
    "    \n",
    "    Number = 0\n",
    "    print(\"The factorial of : \", Number,\"is\", factorial(Number))\n",
    "    \n",
    "    Number = 1\n",
    "    print(\"The factorial of : \", Number, \"is\", factorial(Number))\n",
    "    \n",
    "    Number = 3\n",
    "    print(\"The factorial of : \", Number, \"is\", factorial(Number))\n",
    "    \n",
    "    Number = 5\n",
    "    print(\"The factorial of : \", Number, \"is\", factorial(Number))\n",
    "except:\n",
    "    print(\" Factorial of a given number\")"
   ]
  },
  {
   "cell_type": "markdown",
   "id": "f76d0ae8",
   "metadata": {},
   "source": [
    "Question 5\n",
    "Hamming distance is the number of characters that differ between two strings.\n",
    "To illustrate:\n",
    "String1: \"abcbba\"\n",
    "String2: \"abcbda\"\n",
    "Hamming Distance: 1 - \"b\" vs. \"d\" is the only difference.\n",
    "Create a function that computes the hamming distance between two strings.\n",
    "Examples\n",
    "hamming_distance(\"abcde\", \"bcdef\") ➞ 5\n",
    "hamming_distance(\"abcde\", \"abcde\") ➞ 0\n",
    "hamming_distance(\"strong\", \"strung\") ➞ 1"
   ]
  },
  {
   "cell_type": "code",
   "execution_count": 4,
   "id": "8d250d39",
   "metadata": {},
   "outputs": [
    {
     "name": "stdout",
     "output_type": "stream",
     "text": [
      "5\n",
      "0\n",
      "1\n"
     ]
    }
   ],
   "source": [
    "try:\n",
    "    def hamming_distance(str1, str2):\n",
    "        i = 0\n",
    "        count = 0\n",
    "        \n",
    "        while (i < len(str1)):\n",
    "            if(str1[i] != str2[i]):\n",
    "                count = count + 1\n",
    "            i = i + 1\n",
    "        return count\n",
    "    \n",
    "   \n",
    "    str1 = \"abcde\"\n",
    "    str2 = \"bcdef\"\n",
    "    print(hamming_distance(str1, str2))\n",
    "    \n",
    "    str1 = \"abcde\"\n",
    "    str2 = \"abcde\"\n",
    "    print(hamming_distance(str1, str2))\n",
    "    \n",
    "    str1 = \"strong\"\n",
    "    str2 = \"strung\"\n",
    "    print(hamming_distance(str1, str2))\n",
    "    \n",
    "    \n",
    "except:\n",
    "    print(\"Hamming Distance\")"
   ]
  }
 ],
 "metadata": {
  "kernelspec": {
   "display_name": "Python 3 (ipykernel)",
   "language": "python",
   "name": "python3"
  },
  "language_info": {
   "codemirror_mode": {
    "name": "ipython",
    "version": 3
   },
   "file_extension": ".py",
   "mimetype": "text/x-python",
   "name": "python",
   "nbconvert_exporter": "python",
   "pygments_lexer": "ipython3",
   "version": "3.9.7"
  }
 },
 "nbformat": 4,
 "nbformat_minor": 5
}
