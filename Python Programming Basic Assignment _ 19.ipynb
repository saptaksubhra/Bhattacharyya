{
 "cells": [
  {
   "cell_type": "markdown",
   "id": "67f35361",
   "metadata": {},
   "source": [
    "Question1\n",
    "Create a function that takes a string and returns a string in which each character is repeated\n",
    "once.\n",
    "Examples\n",
    "double_char(\"String\") ➞ \"SSttrriinngg\"\n",
    "double_char(\"Hello World!\") ➞ \"HHeelllloo WWoorrlldd!!\"\n",
    "double_char(\"1234!_\") ➞ \"11223344!!__ \""
   ]
  },
  {
   "cell_type": "code",
   "execution_count": 57,
   "id": "43ce70b7",
   "metadata": {},
   "outputs": [
    {
     "data": {
      "text/plain": [
       "'SSttrriinngg'"
      ]
     },
     "execution_count": 57,
     "metadata": {},
     "output_type": "execute_result"
    }
   ],
   "source": [
    "\n",
    "def double_char(text, n):\n",
    "    return ''.join([x * n for x in text])\n",
    "\n",
    "double_char(\"String\", 2)\n",
    "    \n",
    "    "
   ]
  },
  {
   "cell_type": "code",
   "execution_count": 58,
   "id": "257dbc1b",
   "metadata": {},
   "outputs": [
    {
     "data": {
      "text/plain": [
       "'HHeelllloo  WWoorrlldd!!'"
      ]
     },
     "execution_count": 58,
     "metadata": {},
     "output_type": "execute_result"
    }
   ],
   "source": [
    "def double_char(text, n):\n",
    "    return ''.join([x * n for x in text])\n",
    "\n",
    "double_char(\"Hello World!\", 2)\n",
    "    "
   ]
  },
  {
   "cell_type": "code",
   "execution_count": 60,
   "id": "6911644f",
   "metadata": {},
   "outputs": [
    {
     "data": {
      "text/plain": [
       "'11223344!!'"
      ]
     },
     "execution_count": 60,
     "metadata": {},
     "output_type": "execute_result"
    }
   ],
   "source": [
    "def double_char(text, n):\n",
    "    return ''.join([x * n for x in text])\n",
    "\n",
    "double_char(\"1234!\", 2)\n",
    "    "
   ]
  },
  {
   "cell_type": "code",
   "execution_count": 55,
   "id": "c7f51dd2",
   "metadata": {},
   "outputs": [
    {
     "name": "stdout",
     "output_type": "stream",
     "text": [
      "SSttrriinngg\n",
      "HHeelllloo  WWoorrlldd!!\n",
      "11223344!!\n"
     ]
    }
   ],
   "source": [
    "def double_char(text, n):\n",
    "    return ''.join([x * n for x in text])\n",
    "\n",
    "print(double_char(\"String\", 2))\n",
    "\n",
    "def double_char(text, n):\n",
    "    return ''.join([x * n for x in text])\n",
    "\n",
    "print(double_char(\"Hello World!\", 2))\n",
    "\n",
    "def double_char(text, n):\n",
    "    return ''.join([x * n for x in text])\n",
    "\n",
    "print(double_char(\"1234!\", 2))\n",
    "    "
   ]
  },
  {
   "cell_type": "markdown",
   "id": "67a7a2af",
   "metadata": {},
   "source": [
    "Question2\n",
    "Create a function that reverses a boolean value and returns the string \"boolean expected\"\n",
    "if another variable type is given.\n",
    "Examples\n",
    "reverse(True) ➞ False\n",
    "reverse(False) ➞ True\n",
    "reverse(0) ➞ \"boolean expected\"\n",
    "reverse(None) ➞ \"boolean expected\""
   ]
  },
  {
   "cell_type": "code",
   "execution_count": 69,
   "id": "1c23fe27",
   "metadata": {},
   "outputs": [
    {
     "name": "stdout",
     "output_type": "stream",
     "text": [
      "False\n",
      "True\n",
      "boolean expected\n",
      "boolean expected\n"
     ]
    }
   ],
   "source": [
    "try:\n",
    "    def reverse(a):\n",
    "        if a == bool:\n",
    "            return not a\n",
    "        else:\n",
    "            return \"boolean expected\"\n",
    "        \n",
    "    def reverse(a):\n",
    "        if instance(a, bool):\n",
    "            return not a\n",
    "        else:\n",
    "            return \"boolean expected\"\n",
    "    \n",
    "    def reverse(a = None):\n",
    "        return not a if type(a) == bool else \"boolean expected\"\n",
    "    \n",
    "    print(reverse(True))\n",
    "    print(reverse(False))\n",
    "    print(reverse(0))\n",
    "    print(reverse(None))\n",
    "except:\n",
    "    print(\"Boolean Operation\")\n",
    "        \n",
    "        "
   ]
  },
  {
   "cell_type": "markdown",
   "id": "dc18a3a2",
   "metadata": {},
   "source": [
    "Question3\n",
    "Create a function that returns the thickness (in meters) of a piece of paper after folding it n\n",
    "number of times. The paper starts off with a thickness of 0.5mm.\n",
    "Examples\n",
    "num_layers(1) ➞ \"0.001m\"\n",
    "# Paper folded once is 1mm (equal to 0.001m)\n",
    "num_layers(4) ➞ \"0.008m\"\n",
    "# Paper folded 4 times is 8mm (equal to 0.008m)\n",
    "num_layers(21) ➞ \"1048.576m\"\n",
    "# Paper folded 21 times is 1048576mm (equal to 1048.576m)"
   ]
  },
  {
   "cell_type": "code",
   "execution_count": 2,
   "id": "346c268a",
   "metadata": {},
   "outputs": [
    {
     "name": "stdout",
     "output_type": "stream",
     "text": [
      "1048.576\n"
     ]
    }
   ],
   "source": [
    "try:\n",
    "    def num_layers(a):\n",
    "        thickness = 0.5\n",
    "        for _ in range(a):\n",
    "            thickness = thickness*2\n",
    "        return thickness / 1000\n",
    "    print(num_layers(21))\n",
    "except:\n",
    "    print(\"Mathematical opeartion\")"
   ]
  },
  {
   "cell_type": "code",
   "execution_count": 3,
   "id": "d2547946",
   "metadata": {},
   "outputs": [
    {
     "name": "stdout",
     "output_type": "stream",
     "text": [
      "0.001\n"
     ]
    }
   ],
   "source": [
    "try:\n",
    "    def num_layers(a):\n",
    "        thickness = 0.5\n",
    "        for _ in range(a):\n",
    "            thickness = thickness*2\n",
    "        return thickness / 1000\n",
    "    print(num_layers(1))\n",
    "except:\n",
    "    print(\"Mathematical opeartion\")"
   ]
  },
  {
   "cell_type": "code",
   "execution_count": 4,
   "id": "562a11a7",
   "metadata": {},
   "outputs": [
    {
     "name": "stdout",
     "output_type": "stream",
     "text": [
      "0.008\n"
     ]
    }
   ],
   "source": [
    "try:\n",
    "    def num_layers(a):\n",
    "        thickness = 0.5\n",
    "        for _ in range(a):\n",
    "            thickness = thickness*2\n",
    "        return thickness / 1000\n",
    "    print(num_layers(4))\n",
    "except:\n",
    "    print(\"Mathematical opeartion\")"
   ]
  },
  {
   "cell_type": "markdown",
   "id": "4204ddf2",
   "metadata": {},
   "source": [
    "Question4\n",
    "\n",
    "Create a function that takes a single string as argument and returns an ordered list containing\n",
    "the indices of all capital letters in the string.\n",
    "Examples\n",
    "index_of_caps(\"eDaBiT\") ➞ [1, 3, 5]\n",
    "index_of_caps(\"eQuINoX\") ➞ [1, 3, 4, 6]\n",
    "index_of_caps(\"determine\") ➞ []\n",
    "index_of_caps(\"STRIKE\") ➞ [0, 1, 2, 3, 4, 5]\n",
    "index_of_caps(\"sUn\") ➞ [1]"
   ]
  },
  {
   "cell_type": "code",
   "execution_count": 13,
   "id": "43ccb898",
   "metadata": {},
   "outputs": [
    {
     "name": "stdout",
     "output_type": "stream",
     "text": [
      "[0, 1, 2, 3, 4, 5]\n"
     ]
    }
   ],
   "source": [
    "try:\n",
    "    word = 'STRIKE'\n",
    "    def index_of_caps(word):\n",
    "        \n",
    "        return [i for (i, c) in enumerate(word) if c.isupper()]\n",
    "    print(index_of_caps(word))\n",
    "except:\n",
    "    print('magical operation')"
   ]
  },
  {
   "cell_type": "code",
   "execution_count": 17,
   "id": "7494f6c7",
   "metadata": {},
   "outputs": [
    {
     "name": "stdout",
     "output_type": "stream",
     "text": [
      "[1, 3, 5]\n"
     ]
    }
   ],
   "source": [
    "try:\n",
    "    word = 'eDaBiT'\n",
    "    def index_of_caps(word):\n",
    "        return [i for (i, c) in enumerate(word) if c.isupper()]\n",
    "    print(index_of_caps(word))\n",
    "except:\n",
    "    print('exception handling')"
   ]
  },
  {
   "cell_type": "code",
   "execution_count": 18,
   "id": "9a0aa984",
   "metadata": {},
   "outputs": [
    {
     "name": "stdout",
     "output_type": "stream",
     "text": [
      "[1, 3, 4, 6]\n"
     ]
    }
   ],
   "source": [
    "try:\n",
    "    word = \"eQuINoX\"\n",
    "    def index_of_caps(word):\n",
    "        return [i for (i, c) in enumerate(word) if c.isupper()]\n",
    "    print(index_of_caps(word))\n",
    "except:\n",
    "    print('exception handling')"
   ]
  },
  {
   "cell_type": "code",
   "execution_count": 19,
   "id": "339a8ae3",
   "metadata": {},
   "outputs": [
    {
     "name": "stdout",
     "output_type": "stream",
     "text": [
      "[]\n"
     ]
    }
   ],
   "source": [
    "try:\n",
    "    word = \"determine\"\n",
    "    def index_of_caps(word):\n",
    "        return [i for (i, c) in enumerate(word) if c.isupper()]\n",
    "    print(index_of_caps(word))\n",
    "except:\n",
    "    print('exception handling')"
   ]
  },
  {
   "cell_type": "code",
   "execution_count": 20,
   "id": "f0f88d48",
   "metadata": {},
   "outputs": [
    {
     "name": "stdout",
     "output_type": "stream",
     "text": [
      "[1]\n"
     ]
    }
   ],
   "source": [
    "try:\n",
    "    word = \"sUn\"\n",
    "    def index_of_caps(word):\n",
    "        return [i for (i, c) in enumerate(word) if c.isupper()]\n",
    "    print(index_of_caps(word))\n",
    "except:\n",
    "    print('exception handling')"
   ]
  },
  {
   "cell_type": "markdown",
   "id": "362e9116",
   "metadata": {},
   "source": [
    "Question5\n",
    "Using list comprehensions, create a function that finds all even numbers from 1 to the given\n",
    "number.\n",
    "Examples\n",
    "find_even_nums(8) ➞ [2, 4, 6, 8]\n",
    "find_even_nums(4) ➞ [2, 4]\n",
    "find_even_nums(2) ➞ [2]"
   ]
  },
  {
   "cell_type": "code",
   "execution_count": 50,
   "id": "42a05bf5",
   "metadata": {},
   "outputs": [
    {
     "name": "stdout",
     "output_type": "stream",
     "text": [
      "[2, 4, 6, 8]\n"
     ]
    }
   ],
   "source": [
    "try:\n",
    "    n = 8\n",
    "    def find_even_nums(n):\n",
    "        \n",
    "        return [i for i in range(1,9) if i % 2 == 0]\n",
    "    print(find_even_nums(n))\n",
    "except:\n",
    "    print('accomplished')\n",
    "    "
   ]
  },
  {
   "cell_type": "code",
   "execution_count": 51,
   "id": "c4176d23",
   "metadata": {},
   "outputs": [
    {
     "name": "stdout",
     "output_type": "stream",
     "text": [
      "[2, 4]\n"
     ]
    }
   ],
   "source": [
    "try:\n",
    "    n = 4\n",
    "    def find_even_nums(n):\n",
    "        \n",
    "        return [i for i in range(1,5) if i % 2 == 0]\n",
    "    print(find_even_nums(n))\n",
    "except:\n",
    "    print('accomplished')\n",
    "    "
   ]
  },
  {
   "cell_type": "code",
   "execution_count": 53,
   "id": "f7a30f4c",
   "metadata": {},
   "outputs": [
    {
     "name": "stdout",
     "output_type": "stream",
     "text": [
      "[2]\n"
     ]
    }
   ],
   "source": [
    "try:\n",
    "    n = 8\n",
    "    def find_even_nums(n):\n",
    "        \n",
    "        return [i for i in range(1,3) if i % 2 == 0]\n",
    "    print(find_even_nums(n))\n",
    "except:\n",
    "    print('accomplished')\n",
    "    "
   ]
  }
 ],
 "metadata": {
  "kernelspec": {
   "display_name": "Python 3 (ipykernel)",
   "language": "python",
   "name": "python3"
  },
  "language_info": {
   "codemirror_mode": {
    "name": "ipython",
    "version": 3
   },
   "file_extension": ".py",
   "mimetype": "text/x-python",
   "name": "python",
   "nbconvert_exporter": "python",
   "pygments_lexer": "ipython3",
   "version": "3.9.7"
  }
 },
 "nbformat": 4,
 "nbformat_minor": 5
}
