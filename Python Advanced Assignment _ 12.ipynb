{
 "cells": [
  {
   "cell_type": "markdown",
   "id": "93633603",
   "metadata": {},
   "source": [
    "Q1. Does assigning a value to a string's indexed character violate Python's string immutability?\n",
    "\n",
    "Assigning a value to string's indexde character violate Python's immutability as string is immutable."
   ]
  },
  {
   "cell_type": "code",
   "execution_count": 53,
   "id": "dbb79d01",
   "metadata": {},
   "outputs": [
    {
     "ename": "TypeError",
     "evalue": "'str' object does not support item assignment",
     "output_type": "error",
     "traceback": [
      "\u001b[1;31m---------------------------------------------------------------------------\u001b[0m",
      "\u001b[1;31mTypeError\u001b[0m                                 Traceback (most recent call last)",
      "\u001b[1;32m~\\AppData\\Local\\Temp/ipykernel_404/1142574183.py\u001b[0m in \u001b[0;36m<module>\u001b[1;34m\u001b[0m\n\u001b[0;32m      2\u001b[0m \u001b[1;33m\u001b[0m\u001b[0m\n\u001b[0;32m      3\u001b[0m \u001b[0mst5\u001b[0m \u001b[1;33m=\u001b[0m \u001b[1;34m\"twocandan\"\u001b[0m\u001b[1;33m\u001b[0m\u001b[1;33m\u001b[0m\u001b[0m\n\u001b[1;32m----> 4\u001b[1;33m \u001b[0mst5\u001b[0m\u001b[1;33m[\u001b[0m\u001b[1;36m5\u001b[0m\u001b[1;33m]\u001b[0m\u001b[1;33m=\u001b[0m \u001b[1;34m\"B\"\u001b[0m\u001b[1;33m\u001b[0m\u001b[1;33m\u001b[0m\u001b[0m\n\u001b[0m\u001b[0;32m      5\u001b[0m \u001b[0mprint\u001b[0m\u001b[1;33m(\u001b[0m\u001b[0mst5\u001b[0m\u001b[1;33m)\u001b[0m\u001b[1;33m\u001b[0m\u001b[1;33m\u001b[0m\u001b[0m\n",
      "\u001b[1;31mTypeError\u001b[0m: 'str' object does not support item assignment"
     ]
    }
   ],
   "source": [
    "# Example of string's immutability\n",
    "\n",
    "st5 = \"twocandan\"\n",
    "st5[5]= \"B\"\n",
    "print(st5)"
   ]
  },
  {
   "cell_type": "markdown",
   "id": "b108fa3b",
   "metadata": {},
   "source": [
    "Q2. Does using the += operator to concatenate strings violate Python&#39;s string immutability? Why or\n",
    "why not?\n",
    "\n",
    "Normally, += on immutable objects is supposed to generate a new object before clearing the reference to the old object, so the new and old objects should have overlapping lifetimes, forbidding equal id values. With the optimization in place, the string after the += has the same ID as the string before the +=."
   ]
  },
  {
   "cell_type": "markdown",
   "id": "7841c949",
   "metadata": {},
   "source": [
    "Q3. In Python, how many different ways are there to index a character?\n",
    "\n",
    "There are two ways to index a character in Python. One is positive indexing  and another is negative indexing. Positive indexing is accessing characters by positive index number and negative indexing is accessing characters by negative index number.\n",
    "\n",
    "The example has been given below.\n"
   ]
  },
  {
   "cell_type": "code",
   "execution_count": 64,
   "id": "0ced2d02",
   "metadata": {},
   "outputs": [
    {
     "name": "stdout",
     "output_type": "stream",
     "text": [
      "e\n",
      "R\n"
     ]
    }
   ],
   "source": [
    "try:\n",
    "    st1 = \"Welcome to RugExpo\"\n",
    "    print(st1[6])\n",
    "    print(st1[-7])\n",
    "    \n",
    "except:\n",
    "    print(\"Positive and Negative indexing\")"
   ]
  },
  {
   "cell_type": "markdown",
   "id": "f4678d4f",
   "metadata": {},
   "source": [
    "Q4. What is the relationship between indexing and slicing?\n",
    "\n",
    "Indexing means referring to an element of an iterable by its position within the iterable. Slicing means getting a subset of elements from an iterable based on their indices. In slicing string, we create a substring, which is essentially a string that exists within another string. We use slicing when we require a part of string and not the complete string and when a reqire a particular elemet from an iterable we do indexing."
   ]
  },
  {
   "cell_type": "code",
   "execution_count": 56,
   "id": "5743e8f3",
   "metadata": {},
   "outputs": [
    {
     "name": "stdout",
     "output_type": "stream",
     "text": [
      "l\n",
      "g\n"
     ]
    }
   ],
   "source": [
    "# Example of Indexing and Slicing\n",
    "try:\n",
    "    st1 = \"Welcome to RugExpo\"\n",
    "    print(st1[2])\n",
    "    print(st1[-5])\n",
    "    \n",
    "except:\n",
    "    print(\"Positive indexing\")\n"
   ]
  },
  {
   "cell_type": "code",
   "execution_count": 58,
   "id": "a591055a",
   "metadata": {},
   "outputs": [
    {
     "name": "stdout",
     "output_type": "stream",
     "text": [
      "Wel\n",
      "eo\n",
      "aaBo\n"
     ]
    }
   ],
   "source": [
    "try:\n",
    "    \n",
    "    st4 = \"Welcome to Bharat\"\n",
    "    print(st4[:3])\n",
    "    print(st4[1:6:3])\n",
    "    print(st4[-2: -10: -2])\n",
    "except:\n",
    "    print(\"Slicing Operation\")"
   ]
  },
  {
   "cell_type": "markdown",
   "id": "81d09c5e",
   "metadata": {},
   "source": [
    "Q5. What is an indexed character's exact data type? What is the data form of a slicing-generated\n",
    "substring?\n",
    "\n",
    "An indexed character's exact data type is a string a data type as there is no character data type in Python. A character is a string of length one. It is represented by str class.\n",
    "\n",
    "The data form of a slicing-generated substring is also a string.\n"
   ]
  },
  {
   "cell_type": "code",
   "execution_count": 59,
   "id": "d3395414",
   "metadata": {},
   "outputs": [
    {
     "data": {
      "text/plain": [
       "'B'"
      ]
     },
     "execution_count": 59,
     "metadata": {},
     "output_type": "execute_result"
    }
   ],
   "source": [
    "# Example\n",
    "\n",
    "str1 = \"Bharat\"\n",
    "str1[0]"
   ]
  },
  {
   "cell_type": "code",
   "execution_count": 60,
   "id": "f4a8f4ab",
   "metadata": {},
   "outputs": [
    {
     "data": {
      "text/plain": [
       "str"
      ]
     },
     "execution_count": 60,
     "metadata": {},
     "output_type": "execute_result"
    }
   ],
   "source": [
    "type(str1[0])"
   ]
  },
  {
   "cell_type": "code",
   "execution_count": 61,
   "id": "317f3f7c",
   "metadata": {},
   "outputs": [
    {
     "name": "stdout",
     "output_type": "stream",
     "text": [
      "Wel\n",
      "eo\n",
      "aaBo\n"
     ]
    }
   ],
   "source": [
    "try:\n",
    "    \n",
    "    st4 = \"Welcome to Bharat\"\n",
    "    print(st4[:3])\n",
    "    print(st4[1:6:3])\n",
    "    print(st4[-2: -10: -2])\n",
    "except:\n",
    "    print(\"Slicing Operation\")"
   ]
  },
  {
   "cell_type": "code",
   "execution_count": 63,
   "id": "ff45cbfb",
   "metadata": {},
   "outputs": [
    {
     "data": {
      "text/plain": [
       "str"
      ]
     },
     "execution_count": 63,
     "metadata": {},
     "output_type": "execute_result"
    }
   ],
   "source": [
    "type(st4[-2:-10: -2])"
   ]
  },
  {
   "cell_type": "markdown",
   "id": "2e422a40",
   "metadata": {},
   "source": [
    "Q6. What is the relationship between string and character \"types\" in Python?\n",
    "\n",
    "In Python, strings are arrays of bytes representing Unicode characters. Python does not have a character data type, a single character is simply a string with a length of one. Square brackets can be used to access elements of the string."
   ]
  },
  {
   "cell_type": "code",
   "execution_count": 65,
   "id": "1e7adf38",
   "metadata": {},
   "outputs": [
    {
     "name": "stdout",
     "output_type": "stream",
     "text": [
      "e\n",
      "a\n"
     ]
    }
   ],
   "source": [
    "# Example of String and character(also a string with a length of 1)\n",
    "try:\n",
    "    st1 = \"Welcome to PaknSave\"\n",
    "    print(st1[6])\n",
    "    print(st1[-7])\n",
    "    \n",
    "except:\n",
    "    print(\"Positive and Negative indexing\")"
   ]
  },
  {
   "cell_type": "code",
   "execution_count": 69,
   "id": "40f0e133",
   "metadata": {},
   "outputs": [
    {
     "name": "stdout",
     "output_type": "stream",
     "text": [
      "<class 'str'>\n",
      "1\n"
     ]
    }
   ],
   "source": [
    "str0 = \"B\"\n",
    "str8 =\"\"\n",
    "print(type(str8))\n",
    "print(len(str0))"
   ]
  },
  {
   "cell_type": "markdown",
   "id": "6233a821",
   "metadata": {},
   "source": [
    "Q7. Identify at least two operators and one method that allow you to combine one or more smaller\n",
    "strings to create a larger string.\n",
    "\n",
    "The two operators are + operator and % operator and the method is join() method to combine one or more smaller strings to create a larger string."
   ]
  },
  {
   "cell_type": "code",
   "execution_count": 71,
   "id": "cb4923bf",
   "metadata": {},
   "outputs": [
    {
     "name": "stdout",
     "output_type": "stream",
     "text": [
      "Hi there\n"
     ]
    }
   ],
   "source": [
    "# Example of + operator\n",
    "\n",
    "try:\n",
    "    str11 = \"Hi\"\n",
    "    str12 = \" there\"\n",
    "    \n",
    "    print(str11 + str12)\n",
    "except:\n",
    "    print(\"+ Operator\")\n",
    "    "
   ]
  },
  {
   "cell_type": "code",
   "execution_count": 73,
   "id": "b7931c08",
   "metadata": {},
   "outputs": [
    {
     "name": "stdout",
     "output_type": "stream",
     "text": [
      "Hi  there\n"
     ]
    }
   ],
   "source": [
    "# Example of % operator\n",
    "\n",
    "try:\n",
    "    str11 = \"Hi\"\n",
    "    str12 = \" there\"\n",
    "    \n",
    "    print(\"% s % s\" %(str11 , str12))\n",
    "except:\n",
    "    print(\"% Operator\")\n",
    "    "
   ]
  },
  {
   "cell_type": "code",
   "execution_count": 75,
   "id": "9ecff2cd",
   "metadata": {},
   "outputs": [
    {
     "name": "stdout",
     "output_type": "stream",
     "text": [
      "Hi  there\n"
     ]
    }
   ],
   "source": [
    "# Example of join() method\n",
    "\n",
    "try:\n",
    "    str11 = \"Hi\"\n",
    "    str12 = \" there\"\n",
    "    \n",
    "    print(\" \" .join([str11 , str12]))\n",
    "except:\n",
    "    print(\"Join Method\")\n",
    "    "
   ]
  },
  {
   "cell_type": "markdown",
   "id": "8aa8de8f",
   "metadata": {},
   "source": [
    "Q8. What is the benefit of first checking the target string with in or not in before using the index\n",
    "method to find a substring?\n",
    "\n",
    "The benefit of first checking the target string with in or not in before using the index method to find a substring is that index() raises an exception and that exception can be handled by try except block. On the other hand, find() method helps find the substring from a given string. But, if the substring is not found from a given string then it simply returns -1."
   ]
  },
  {
   "cell_type": "code",
   "execution_count": 76,
   "id": "e732e76f",
   "metadata": {},
   "outputs": [
    {
     "data": {
      "text/plain": [
       "9"
      ]
     },
     "execution_count": 76,
     "metadata": {},
     "output_type": "execute_result"
    }
   ],
   "source": [
    "# example \n",
    "\n",
    "st16 = \"Where do you go ?\"\n",
    "\n",
    "st16.find(\"you\")"
   ]
  },
  {
   "cell_type": "code",
   "execution_count": 77,
   "id": "fa4abc61",
   "metadata": {},
   "outputs": [
    {
     "data": {
      "text/plain": [
       "-1"
      ]
     },
     "execution_count": 77,
     "metadata": {},
     "output_type": "execute_result"
    }
   ],
   "source": [
    "st16 = \"Where do you go ?\"\n",
    "\n",
    "st16.find(\"come\")"
   ]
  },
  {
   "cell_type": "code",
   "execution_count": 78,
   "id": "fef62860",
   "metadata": {},
   "outputs": [
    {
     "data": {
      "text/plain": [
       "9"
      ]
     },
     "execution_count": 78,
     "metadata": {},
     "output_type": "execute_result"
    }
   ],
   "source": [
    "st16 = \"Where do you go ?\"\n",
    "\n",
    "st16.index(\"you\")"
   ]
  },
  {
   "cell_type": "code",
   "execution_count": 79,
   "id": "514cf3d6",
   "metadata": {},
   "outputs": [
    {
     "ename": "ValueError",
     "evalue": "substring not found",
     "output_type": "error",
     "traceback": [
      "\u001b[1;31m---------------------------------------------------------------------------\u001b[0m",
      "\u001b[1;31mValueError\u001b[0m                                Traceback (most recent call last)",
      "\u001b[1;32m~\\AppData\\Local\\Temp/ipykernel_404/3940140126.py\u001b[0m in \u001b[0;36m<module>\u001b[1;34m\u001b[0m\n\u001b[0;32m      1\u001b[0m \u001b[0mst16\u001b[0m \u001b[1;33m=\u001b[0m \u001b[1;34m\"Where do you go ?\"\u001b[0m\u001b[1;33m\u001b[0m\u001b[1;33m\u001b[0m\u001b[0m\n\u001b[0;32m      2\u001b[0m \u001b[1;33m\u001b[0m\u001b[0m\n\u001b[1;32m----> 3\u001b[1;33m \u001b[0mst16\u001b[0m\u001b[1;33m.\u001b[0m\u001b[0mindex\u001b[0m\u001b[1;33m(\u001b[0m\u001b[1;34m\"come\"\u001b[0m\u001b[1;33m)\u001b[0m\u001b[1;33m\u001b[0m\u001b[1;33m\u001b[0m\u001b[0m\n\u001b[0m",
      "\u001b[1;31mValueError\u001b[0m: substring not found"
     ]
    }
   ],
   "source": [
    "st16 = \"Where do you go ?\"\n",
    "\n",
    "st16.index(\"come\")"
   ]
  },
  {
   "cell_type": "code",
   "execution_count": 81,
   "id": "ff811b03",
   "metadata": {},
   "outputs": [
    {
     "name": "stdout",
     "output_type": "stream",
     "text": [
      "Exception handling is successful and the substring is not found.\n"
     ]
    }
   ],
   "source": [
    "try:\n",
    "    st16 = \"Where do you go ?\"\n",
    "\n",
    "    st16.index(\"come\")\n",
    "except ValueError:\n",
    "    print(\"Exception handling is successful and the substring is not found.\")"
   ]
  },
  {
   "cell_type": "markdown",
   "id": "d793a1c0",
   "metadata": {},
   "source": [
    "Q9. Which operators and built-in string methods produce simple Boolean (true/false) results?\n",
    "\n",
    "Boolean operators are AND , OR, NOT, ==(equivalent), !=(not equivalent) which produce simple Boolean results.\n",
    "Some of the examples are given below in terms of the Boolean operators which produce simple Boolean results."
   ]
  },
  {
   "cell_type": "code",
   "execution_count": 4,
   "id": "dd96d5e3",
   "metadata": {},
   "outputs": [
    {
     "name": "stdout",
     "output_type": "stream",
     "text": [
      "True\n",
      "Atleast one number has Boolean value as True.\n"
     ]
    }
   ],
   "source": [
    "# Example of OR operator\n",
    "\n",
    "try:\n",
    "    a = 1\n",
    "    b= 2 \n",
    "    c = 3\n",
    "    if a > b or b < c:\n",
    "        print(True)\n",
    "    else:\n",
    "        print(False)\n",
    "    if a or b or c:\n",
    "        print(\"Atleast one number has Boolean value as True.\")\n",
    "except:\n",
    "    print(\"OR operator\")\n",
    "\n"
   ]
  },
  {
   "cell_type": "code",
   "execution_count": 6,
   "id": "daa5be46",
   "metadata": {},
   "outputs": [
    {
     "name": "stdout",
     "output_type": "stream",
     "text": [
      "False\n",
      "Atleast one number has Boolean value as False. \n"
     ]
    }
   ],
   "source": [
    "# Example of AND operator\n",
    "\n",
    "try:\n",
    "    a = 0\n",
    "    b = 2\n",
    "    c = 3\n",
    "    if a> b and b < c:\n",
    "        print(True)\n",
    "    else:\n",
    "        print(False)\n",
    "    if a and b and c:\n",
    "        print(\"All the numbers have  Boolean value as True.\")\n",
    "    else:\n",
    "        print(\"Atleast one number has Boolean value as False. \")\n",
    "except:\n",
    "    print(\"AND operator\")"
   ]
  },
  {
   "cell_type": "markdown",
   "id": "b8d238ee",
   "metadata": {},
   "source": [
    "The built-in string methods which produce Boolean results are isalnum(), isalpha(), isdigit(), istitle(), isupper(), islower() and many more.\n",
    "The example are given below."
   ]
  },
  {
   "cell_type": "code",
   "execution_count": 13,
   "id": "56b703d8",
   "metadata": {},
   "outputs": [
    {
     "name": "stdout",
     "output_type": "stream",
     "text": [
      "False\n",
      "False\n",
      "False\n",
      "True\n",
      "False\n",
      "False\n"
     ]
    }
   ],
   "source": [
    "my_own_string = \"Hi There\"\n",
    "\n",
    "print(my_own_string.isalnum())  #check if all char are numbers\n",
    "print(my_own_string.isalpha())  #check if all char in the string are alphabetic\n",
    "print(my_own_string.isdigit())  #test if string contains digits\n",
    "print(my_own_string.istitle())  #test if string contains title words\n",
    "print(my_own_string.isupper())  #test if string contains upper case\n",
    "print(my_own_string.islower())  #test if string contains lower case"
   ]
  }
 ],
 "metadata": {
  "kernelspec": {
   "display_name": "Python 3 (ipykernel)",
   "language": "python",
   "name": "python3"
  },
  "language_info": {
   "codemirror_mode": {
    "name": "ipython",
    "version": 3
   },
   "file_extension": ".py",
   "mimetype": "text/x-python",
   "name": "python",
   "nbconvert_exporter": "python",
   "pygments_lexer": "ipython3",
   "version": "3.9.7"
  }
 },
 "nbformat": 4,
 "nbformat_minor": 5
}
