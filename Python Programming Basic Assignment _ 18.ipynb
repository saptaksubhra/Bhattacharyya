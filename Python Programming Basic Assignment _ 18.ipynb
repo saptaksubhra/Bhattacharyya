{
 "cells": [
  {
   "cell_type": "markdown",
   "id": "55615e9a",
   "metadata": {},
   "source": [
    "Question 1\n",
    "Create a function that takes a list of non-negative integers and strings and return a new list\n",
    "without the strings.\n",
    "Examples\n",
    "filter_list([1, 2, \"a\", \"b\"]) ➞ [1, 2]\n",
    "filter_list([1, \"a\", \"b\", 0, 15]) ➞ [1, 0, 15]\n",
    "filter_list([1, 2, \"aasf\",\" 1\", \"123\", 123]) ➞ [1, 2, 123]"
   ]
  },
  {
   "cell_type": "code",
   "execution_count": 2,
   "id": "89d3df23",
   "metadata": {},
   "outputs": [
    {
     "name": "stdout",
     "output_type": "stream",
     "text": [
      "[1, 2, 123]\n"
     ]
    }
   ],
   "source": [
    "try:\n",
    "    List = [1, 2, \"aasf\",\" 1\", \"123\", 123]\n",
    "    \n",
    "    def filter_list(List):\n",
    "        NewList = []\n",
    "        for i in List:\n",
    "            if type(i) == int:\n",
    "                NewList.append(i)\n",
    "        return NewList\n",
    "    \n",
    "    print(filter_list(List))\n",
    "except:\n",
    "    print(\"List Slicing Operation\")\n",
    "                "
   ]
  },
  {
   "cell_type": "markdown",
   "id": "f4d176dc",
   "metadata": {},
   "source": [
    "Question 2\n",
    "The \"Reverser\" takes a string as input and returns that string in reverse order, with the\n",
    "opposite case.\n",
    "Examples\n",
    "reverse(\"Hello World\") ➞ \"DLROw OLLEh\"\n",
    "reverse(\"ReVeRsE\") ➞ \"eSrEvEr\"\n",
    "reverse(\"Radar\") ➞ \"RADAr\""
   ]
  },
  {
   "cell_type": "code",
   "execution_count": 34,
   "id": "91bf7964",
   "metadata": {},
   "outputs": [
    {
     "name": "stdout",
     "output_type": "stream",
     "text": [
      "The original string is :  Hello World\n",
      "The Reversed string is :  DLROw OLLEh\n",
      "The original string is :  ReVeRsE\n",
      "The Reversed string is :  eSrEvEr\n",
      "The original string is :  Radar\n",
      "The Reversed string is :  RADAr\n"
     ]
    }
   ],
   "source": [
    "try:\n",
    "    def Reverser(string):\n",
    "        string = string[::-1]\n",
    "        return string\n",
    "    s = \"Hello World\"\n",
    "    s1 = s.swapcase()\n",
    "    \n",
    "    print(\"The original string is : \", end= \" \")\n",
    "    print(s)\n",
    "    print(\"The Reversed string is : \", end =\" \")\n",
    "    print(Reverser(s1))\n",
    "    \n",
    "    \n",
    "    s2 = \"ReVeRsE\"\n",
    "    s3 = s2.swapcase()\n",
    "    \n",
    "    print(\"The original string is : \", end= \" \")\n",
    "    print(s2)\n",
    "    print(\"The Reversed string is : \", end =\" \")\n",
    "    print(Reverser(s3))\n",
    "    \n",
    "    s4 = \"Radar\"\n",
    "    s5 = s4.swapcase()\n",
    "    \n",
    "    print(\"The original string is : \", end= \" \")\n",
    "    print(s4)\n",
    "    print(\"The Reversed string is : \", end =\" \")\n",
    "    print(Reverser(s5))\n",
    "except:\n",
    "    print(\"String Opeartion\")"
   ]
  },
  {
   "cell_type": "markdown",
   "id": "62cc2ec5",
   "metadata": {},
   "source": [
    "Question 3\n",
    "You can assign variables from lists like this:\n",
    "lst = [1, 2, 3, 4, 5, 6]\n",
    "first = lst[0]\n",
    "middle = lst[1:-1]\n",
    "last = lst[-1]\n",
    "print(first) ➞ outputs 1\n",
    "print(middle) ➞ outputs [2, 3, 4, 5]\n",
    "print(last) ➞ outputs 6\n",
    "With Python 3, you can assign variables from lists in a much more succinct way. Create\n",
    "variables first, middle and last from the given list using destructuring assignment\n",
    "(check the Resources tab for some examples), where:\n",
    "first ➞ 1\n",
    "middle ➞ [2, 3, 4, 5]\n",
    "last ➞ 6\n",
    "\n",
    "Your task is to unpack the list writeyourcodehere into three variables, being first,\n",
    "middle, and last, with middle being everything in between the first and last element. Then\n",
    "print all three variables."
   ]
  },
  {
   "cell_type": "code",
   "execution_count": 43,
   "id": "cea5839b",
   "metadata": {},
   "outputs": [
    {
     "name": "stdout",
     "output_type": "stream",
     "text": [
      "1 [2, 3, 4, 5] 6\n",
      "1\n",
      "[2, 3, 4, 5]\n",
      "6\n"
     ]
    }
   ],
   "source": [
    "try:\n",
    "    writeyourcodehere = first, *middle, last = [1,2,3,4,5,6]\n",
    "    \n",
    "    print(first, middle,last)\n",
    "    \n",
    "    print(first)\n",
    "    \n",
    "    print(middle)\n",
    "    \n",
    "    print(last)\n",
    "    \n",
    "         \n",
    "except:\n",
    "    print(\"Destructuring of List\")"
   ]
  },
  {
   "cell_type": "markdown",
   "id": "ce8a7689",
   "metadata": {},
   "source": [
    "Question 4\n",
    "Write a function that calculates the factorial of a number recursively.\n",
    "Examples\n",
    "factorial(5) ➞ 120\n",
    "factorial(3) ➞ 6\n",
    "factorial(1) ➞ 1\n",
    "factorial(0) ➞ 1"
   ]
  },
  {
   "cell_type": "code",
   "execution_count": 44,
   "id": "35eca28b",
   "metadata": {},
   "outputs": [
    {
     "name": "stdout",
     "output_type": "stream",
     "text": [
      "Factorial of 5 is 120\n",
      "Factorial of 3 is 6\n",
      "Factorial of 1 is 1\n",
      "Factorial of 0 is 1\n"
     ]
    }
   ],
   "source": [
    "try:\n",
    "    def factorial(n):\n",
    "        if n == 0:\n",
    "            return 1\n",
    "        else:\n",
    "            return n * factorial(n-1)\n",
    "        \n",
    "    number = 5\n",
    "    print(\"Factorial of\", number, \"is\", factorial(number))\n",
    "    \n",
    "    number = 3\n",
    "    print(\"Factorial of\", number, \"is\", factorial(number))\n",
    "    \n",
    "    number = 1\n",
    "    print(\"Factorial of\", number, \"is\", factorial(number))\n",
    "    \n",
    "    number = 0\n",
    "    print(\"Factorial of\", number, \"is\", factorial(number))\n",
    "    \n",
    "except:\n",
    "    print(\"Factorial with Recursive\")\n",
    "    \n",
    "    \n",
    "    \n",
    "    \n",
    "    "
   ]
  },
  {
   "cell_type": "markdown",
   "id": "77045731",
   "metadata": {},
   "source": [
    "Question 5\n",
    "Write a function that moves all elements of one type to the end of the list.\n",
    "Examples\n",
    "move_to_end([1, 3, 2, 4, 4, 1], 1) ➞ [3, 2, 4, 4, 1, 1]\n",
    "# Move all the 1s to the end of the array.\n",
    "move_to_end([7, 8, 9, 1, 2, 3, 4], 9) ➞ [7, 8, 1, 2, 3, 4, 9]\n",
    "move_to_end([\"a\", \"a\", \"a\", \"b\"], \"a\") ➞ [\"b\", \"a\", \"a\", \"a\"]"
   ]
  },
  {
   "cell_type": "code",
   "execution_count": 9,
   "id": "96543c30",
   "metadata": {},
   "outputs": [
    {
     "name": "stdout",
     "output_type": "stream",
     "text": [
      "The original list is :[1, 3, 2, 4, 4, 1]\n",
      "The sorted list is now : [3, 2, 4, 4, 1, 1]\n"
     ]
    }
   ],
   "source": [
    "#Using append() + pop() + index()\n",
    "\n",
    "try:\n",
    "    List = [1,3,2,4,4,1]\n",
    "    \n",
    "    print(\"The original list is :\" +str(List))\n",
    "    \n",
    "    List.append(List.pop(List.index(1)))\n",
    "    \n",
    "    print(\"The sorted list is now : \" +str(List))\n",
    "except:\n",
    "    print(\" Sorting of List\")\n",
    "    \n",
    "    "
   ]
  },
  {
   "cell_type": "code",
   "execution_count": 16,
   "id": "e0e13ac6",
   "metadata": {},
   "outputs": [
    {
     "name": "stdout",
     "output_type": "stream",
     "text": [
      "The original list is : [7, 8, 9, 1, 2, 3, 4]\n",
      "The sorted list is now : [7, 8, 1, 2, 3, 4, 9]\n"
     ]
    }
   ],
   "source": [
    "try:\n",
    "    List1 = [7,8,9,1,2,3,4]\n",
    "    print(\"The original list is : \" +str(List1))\n",
    "    List1.append(List1.pop(List1.index(9)))\n",
    "    print(\"The sorted list is now : \" +str(List1))\n",
    "except:\n",
    "    print(\"Sorting of List\")"
   ]
  }
 ],
 "metadata": {
  "kernelspec": {
   "display_name": "Python 3 (ipykernel)",
   "language": "python",
   "name": "python3"
  },
  "language_info": {
   "codemirror_mode": {
    "name": "ipython",
    "version": 3
   },
   "file_extension": ".py",
   "mimetype": "text/x-python",
   "name": "python",
   "nbconvert_exporter": "python",
   "pygments_lexer": "ipython3",
   "version": "3.9.7"
  }
 },
 "nbformat": 4,
 "nbformat_minor": 5
}
