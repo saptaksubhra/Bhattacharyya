{
 "cells": [
  {
   "cell_type": "markdown",
   "id": "01fa071d",
   "metadata": {},
   "source": [
    "1. What is the concept of an abstract superclass?\n",
    "\n",
    "Abstract Superclass is a common superclass for several subclasses. It factors up common behavior and defines the methods they all respond to. Methods that subclasses should implement are declared abstract. The abc module defines ABCMeta class which is a metaclass for defining abstract base class. Following example defines Shape class as an abstract base class using ABCMeta. The shape class has area() method decorated by abstractmethod. "
   ]
  },
  {
   "cell_type": "code",
   "execution_count": 11,
   "id": "4776867c",
   "metadata": {},
   "outputs": [
    {
     "name": "stdout",
     "output_type": "stream",
     "text": [
      "area:  688\n"
     ]
    }
   ],
   "source": [
    "import abc\n",
    "class Shape(metaclass=abc.ABCMeta):\n",
    "    @abc.abstractmethod\n",
    "    def area(self):\n",
    "        pass\n",
    "class Rectangle(Shape):\n",
    "    def __init__(self, x,y):\n",
    "        self.l = x\n",
    "        self.b=y\n",
    "    def area(self):\n",
    "        return self.l*self.b\n",
    "r = Rectangle(16,43)\n",
    "print ('area: ',r.area())\n"
   ]
  },
  {
   "cell_type": "markdown",
   "id": "5c59ace8",
   "metadata": {},
   "source": [
    "2. What happens when a class statement's top level contains a basic assignment statement?\n",
    "\n",
    "If the object is a class instance and the attribute reference occurs on both sides of the assignment operator, the right-hand side expression can access either an instance attribute or a class attribute. The left-hand side target is always set as an instance attribute, creating it if necessary. Thus, the two occurrences do not necessarily refer to the same attribute: if the right-hand side expression refers to a class attribute, the left-hand side creates a new instance attribute as the target of the assignment:\n",
    "\n",
    "It is exemplified below."
   ]
  },
  {
   "cell_type": "markdown",
   "id": "1d1e4290",
   "metadata": {},
   "source": [
    "class cl:\n",
    "    a = 16  #class variable\n",
    "instant = cl()\n",
    "instant.a = instant.a + 1  # writes instant.a as 17 leaving Cl.a as 16"
   ]
  },
  {
   "cell_type": "markdown",
   "id": "470bec80",
   "metadata": {},
   "source": [
    "3. Why does a class need to manually call a superclass's __init__ method?\n",
    "\n",
    "It is because one equires to define something that is not done in the base-class' __init__ , and the only possibility to gain that is to put its execution in a derived-class' __init__ function."
   ]
  },
  {
   "cell_type": "markdown",
   "id": "9792d9e9",
   "metadata": {},
   "source": [
    "4. How can you augment, instead of completely replacing, an inherited method?\n",
    "\n",
    "The good way to do augmentation instead of completely replacing an inherited method in Python is by calling to the original version directly with augmented arguments as shown below:\n",
    "\n",
    "class Manager(Person):\n",
    "    def givehike(pointer, percent, bonus= 43):\n",
    "        \n",
    "        Person.givehike(pointer, percent + bonus)"
   ]
  },
  {
   "cell_type": "markdown",
   "id": "db1a1fd5",
   "metadata": {},
   "source": [
    "This code leverages the fact that a class method can always be called either through an instance or through the class. In more symbolic terms, a normal method call of this form:\n",
    "\n",
    "instance.method(args...) is automatically translated by Python into this equivalent form:\n",
    "\n",
    "class.method(instance, args...)"
   ]
  },
  {
   "cell_type": "markdown",
   "id": "7cd2e9ee",
   "metadata": {},
   "source": [
    "5. How is the local scope of a class different from that of a function?\n",
    "\n",
    "Functions are available after we define them by using in-built keyword def and classess are available after we define them by using in-built keyword class.\n",
    "\n",
    "The local scope or function scope is a Python scope created at function calls. Every time we call a function, we’re also creating a new local scope. On the other hand, we can think of each def statement and lambda expression as a blueprint for new local scopes. These local scopes will come into existence whenever we call the function at hand.\n",
    "\n",
    "When we define a class, we’re creating a new local Python scope. The names assigned at the top level of the class live in this local scope. The names that we assigned inside a class statement don’t clash with names elsewhere. Unlike functions, the class local scope isn’t created at call time, but at execution time.\n"
   ]
  }
 ],
 "metadata": {
  "kernelspec": {
   "display_name": "Python 3 (ipykernel)",
   "language": "python",
   "name": "python3"
  },
  "language_info": {
   "codemirror_mode": {
    "name": "ipython",
    "version": 3
   },
   "file_extension": ".py",
   "mimetype": "text/x-python",
   "name": "python",
   "nbconvert_exporter": "python",
   "pygments_lexer": "ipython3",
   "version": "3.9.7"
  }
 },
 "nbformat": 4,
 "nbformat_minor": 5
}
