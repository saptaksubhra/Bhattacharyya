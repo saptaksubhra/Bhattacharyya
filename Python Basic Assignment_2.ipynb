{
 "cells": [
  {
   "cell_type": "markdown",
   "id": "58b150e4",
   "metadata": {},
   "source": [
    "1.What are the two values of the Boolean data type? How do you write them?\n",
    "\n",
    "There are two values of the Boolean data type. Those can be written as:\n",
    "\n",
    "True\n",
    "\n",
    "False\n"
   ]
  },
  {
   "cell_type": "markdown",
   "id": "831a79d9",
   "metadata": {},
   "source": [
    "2. What are the three different types of Boolean operators?\n",
    "\n",
    "The three different types of Boolean operators are: AND, OR, and NOT\n",
    "\n"
   ]
  },
  {
   "cell_type": "markdown",
   "id": "21b1d22a",
   "metadata": {},
   "source": [
    "3. Make a list of each Boolean operator's truth tables (i.e. every possible combination of Boolean values for the operator and what it evaluate ).\n",
    "\n",
    "Truth Table\n",
    "boolean algebra AND gate truth table\t\n",
    "A\tB\tQ\n",
    "0\t0\t0\n",
    "0\t1\t0\n",
    "1\t0\t0\n",
    "1\t1\t1\n",
    "Boolean Expression Q = A.B\tRead as A AND B gives Q\n",
    "\n",
    "\n",
    "Truth Table\n",
    "boolean algebra OR gate truth table\n",
    "A\tB\tQ\n",
    "0\t0\t0\n",
    "0\t1\t1\n",
    "1\t0\t1\n",
    "1\t1\t1\n",
    "Boolean Expression Q = A+B\tRead as A OR B gives Q\n",
    "\n",
    "Truth Table\n",
    "boolean algebra NOT gate truth table\t\n",
    "A\tQ\n",
    "0\t1\n",
    "1\t0\n",
    "Boolean Expression Q = NOT A   Read as inversion of A gives Q\n",
    "\n",
    "\n",
    "\n"
   ]
  },
  {
   "cell_type": "markdown",
   "id": "90fa6ba5",
   "metadata": {},
   "source": [
    "4. What are the values of the following expressions?\n",
    "(5 > 4) and (3 == 5)\n",
    "not (5 > 4)\n",
    "(5 > 4) or (3 == 5)\n",
    "not ((5 > 4) or (3 == 5))\n",
    "(True and True) and (True == False)\n",
    "(not False) or (not True)\n"
   ]
  },
  {
   "cell_type": "markdown",
   "id": "6b7b0ff6",
   "metadata": {},
   "source": [
    "5. What are the six comparison operators? \n",
    "\n",
    "Six main comparison operators are: equal to (==), not equal to (!=), greater than (>), greater than or equal to (>=), less than (<), and less than or equal to (<=). \n",
    "\n"
   ]
  },
  {
   "cell_type": "markdown",
   "id": "2c343114",
   "metadata": {},
   "source": [
    " 6. How do you tell the difference between the equal to and assignment operators?Describe a condition and when you would use one.\n",
    "\n",
    "\n",
    " A single equal mark is used to assign a value to a variable, whereas two consecutive equal marks is used to check whether 2 expressions give the same value .So\n",
    "\n",
    "= is an assignment operator  and \n",
    "\n",
    "== is an equality operator.\n",
    "\n",
    "For example, a=2 here  2 is assigned to variable a. So here = is an assignment operator.\n",
    "\n",
    "On the other hand , b=2, c=3\n",
    "\n",
    "(a==b) is True as we have assigned equal values to variables a and b.\n",
    "\n",
    "(b==c) is False as we have assigned different values to variables b and c.\n",
    "\n",
    "Here == is an equality operator.\n",
    "\n",
    "\n",
    "\n",
    "\n",
    "\n"
   ]
  },
  {
   "cell_type": "markdown",
   "id": "b41dd02d",
   "metadata": {},
   "source": [
    "7. Identify the three blocks in this code:\n",
    "spam = 0\n",
    "if spam == 10:\n",
    "print('eggs')\n",
    "if spam > 5:\n",
    "print('bacon')\n",
    "else:\n",
    "print('ham')\n",
    "print('spam')\n",
    "print('spam')\n",
    "\n",
    "The three bolcks are inside if and else statement.\n",
    "print('eggs') is inside if statement.\n",
    "\n",
    "print('bacon') is inside if statement.\n",
    "\n",
    "print('ham') is isnside else statement."
   ]
  },
  {
   "cell_type": "code",
   "execution_count": 12,
   "id": "2a07fe19",
   "metadata": {},
   "outputs": [
    {
     "name": "stdout",
     "output_type": "stream",
     "text": [
      "ham\n",
      "spam\n",
      "spam\n"
     ]
    }
   ],
   "source": [
    "spam = 0\n",
    "if spam == 10:\n",
    "    print('eggs')\n",
    "if spam > 5:\n",
    "    print('bacon')\n",
    "else:\n",
    "    print('ham')\n",
    "    print('spam')\n",
    "    print('spam')\n"
   ]
  },
  {
   "cell_type": "markdown",
   "id": "c29d28c5",
   "metadata": {},
   "source": [
    "8. Write code that prints Hello if 1 is stored in spam, prints Howdy if 2 is stored in spam, and prints Greetings! if anything else is stored in spam.\n"
   ]
  },
  {
   "cell_type": "code",
   "execution_count": 13,
   "id": "a98936eb",
   "metadata": {},
   "outputs": [
    {
     "name": "stdout",
     "output_type": "stream",
     "text": [
      "Greetings!\n"
     ]
    }
   ],
   "source": [
    "#The Code\n",
    "\n",
    "if spam == 1:\n",
    "    print('Hello')\n",
    "elif spam == 2:\n",
    "    print('Howdy')\n",
    "else:\n",
    "    print('Greetings!')\n"
   ]
  },
  {
   "cell_type": "markdown",
   "id": "b3c2ccdc",
   "metadata": {},
   "source": [
    "9.If your programme is stuck in an endless loop, what keys you’ll press?\n",
    "\n",
    "If the programme is stuck in an infinite loop , then we'll press CTRL-C\n",
    "\n"
   ]
  },
  {
   "cell_type": "markdown",
   "id": "d68098ac",
   "metadata": {},
   "source": [
    "10. How can you tell the difference between break and continue?\n",
    "\n",
    "The 'break'stops the continuation of the loop whereas the 'continue' does not stop the continuation of loop and it stops the current.\n",
    "'Break' early terminates the loop and 'Continue' causes the early execution of the next iteration.\n",
    "\n",
    "'Break'  eliminates the execution of remaining iteration of loop but 'Continue' terminates only the current iteration of loop.\n",
    "\n"
   ]
  },
  {
   "cell_type": "markdown",
   "id": "d41014ec",
   "metadata": {},
   "source": [
    "11. In a for loop, what is the difference between range(10), range(0, 10), and range(0, 10, 1)?\n",
    "\n",
    "They all do the same thing. The range(10) call ranges from 0 up to (but not including the upper bound) 10, range(0, 10) explicitly tells the loop to start at 0, and range(0, 10, 1) explicitly tells the loop to increase the variable by 1 on each iteration. That is the jump size of the variable after each iteration and that is by default the jump size in case of range(10) and range (0,10) though the jump size has not been mentioned in both cases.\n",
    "\n",
    "\n"
   ]
  },
  {
   "cell_type": "code",
   "execution_count": 7,
   "id": "6b93e598",
   "metadata": {},
   "outputs": [
    {
     "data": {
      "text/plain": [
       "range(0, 10)"
      ]
     },
     "execution_count": 7,
     "metadata": {},
     "output_type": "execute_result"
    }
   ],
   "source": [
    "range(0,10)"
   ]
  },
  {
   "cell_type": "code",
   "execution_count": 8,
   "id": "046c27b3",
   "metadata": {},
   "outputs": [
    {
     "data": {
      "text/plain": [
       "range(0, 10)"
      ]
     },
     "execution_count": 8,
     "metadata": {},
     "output_type": "execute_result"
    }
   ],
   "source": [
    "range(0,10,1)"
   ]
  },
  {
   "cell_type": "code",
   "execution_count": 6,
   "id": "22b62385",
   "metadata": {},
   "outputs": [
    {
     "data": {
      "text/plain": [
       "range(0, 10)"
      ]
     },
     "execution_count": 6,
     "metadata": {},
     "output_type": "execute_result"
    }
   ],
   "source": [
    "range(10)"
   ]
  },
  {
   "cell_type": "markdown",
   "id": "77502e19",
   "metadata": {},
   "source": [
    "12. Write a short program that prints the numbers 1 to 10 using a for loop. Then write an equivalent program that prints the numbers 1 to 10 using a while loop."
   ]
  },
  {
   "cell_type": "code",
   "execution_count": 4,
   "id": "e6f2d80a",
   "metadata": {},
   "outputs": [
    {
     "name": "stdout",
     "output_type": "stream",
     "text": [
      "1\n",
      "2\n",
      "3\n",
      "4\n",
      "5\n",
      "6\n",
      "7\n",
      "8\n",
      "9\n",
      "10\n"
     ]
    }
   ],
   "source": [
    "# Using a for loop\n",
    "for i in range(1,11):\n",
    "    print(i)"
   ]
  },
  {
   "cell_type": "code",
   "execution_count": 6,
   "id": "d5e2a63e",
   "metadata": {},
   "outputs": [
    {
     "name": "stdout",
     "output_type": "stream",
     "text": [
      "1\n",
      "2\n",
      "3\n",
      "4\n",
      "5\n",
      "6\n",
      "7\n",
      "8\n",
      "9\n",
      "10\n"
     ]
    }
   ],
   "source": [
    "# Using a while loop\n",
    "a=1\n",
    "while (a<=10):\n",
    "    print(a)\n",
    "    a=a+1\n",
    "    "
   ]
  },
  {
   "cell_type": "markdown",
   "id": "9263b49a",
   "metadata": {},
   "source": [
    "13. If you had a function named bacon() inside a module named spam, how would you call it after importing spam?\n",
    "\n",
    "This function can be called with spam.bacon()."
   ]
  }
 ],
 "metadata": {
  "kernelspec": {
   "display_name": "Python 3 (ipykernel)",
   "language": "python",
   "name": "python3"
  },
  "language_info": {
   "codemirror_mode": {
    "name": "ipython",
    "version": 3
   },
   "file_extension": ".py",
   "mimetype": "text/x-python",
   "name": "python",
   "nbconvert_exporter": "python",
   "pygments_lexer": "ipython3",
   "version": "3.9.7"
  }
 },
 "nbformat": 4,
 "nbformat_minor": 5
}
