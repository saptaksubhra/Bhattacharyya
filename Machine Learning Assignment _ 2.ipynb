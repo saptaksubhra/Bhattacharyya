{
 "cells": [
  {
   "cell_type": "markdown",
   "id": "19360c36",
   "metadata": {},
   "source": [
    "1. What is the concept of human learning? Please give two examples.\n",
    "\n",
    "It is the form of learning which requires higher order mental processes like thinking, reasoning, intelligence, etc. \n",
    "Two examples of human learning are given below.\n",
    "\n",
    "We learn different concepts since childhood days. For example, if we see a crocodile and attach the term crocodile, we learn that the word crocodile refers to a particular animal. \n",
    "\n",
    "When we see a Maruti car and attach the term 'Maruti', we learn that the word Maruti refers to a particular car or vehicle."
   ]
  },
  {
   "cell_type": "markdown",
   "id": "71efbe84",
   "metadata": {},
   "source": [
    "2. What different forms of human learning are there? Are there any machine learning equivalents?\n",
    "\n",
    "There are three types machine learning. Such as: Supervised, unsupervised and reinforcement learning . Now their human learning theory equivalents are also explained.\n",
    "\n",
    "Supervised learning is similar to concept learning, where a person is required to classify new objects into existing categories, by matching the features of the new objects to examples .\n",
    "\n",
    "In case of Unsupervised learning, Artificial neural networks follow the neuronal principle of Hebbian learning, where the algorithm centres on inputs with similar properties, just like how neurons that activate simultaneously strengthen the synaptic link between each other.\n",
    "\n",
    "Reinforcement learning is inspired by the reward system of operant conditioning."
   ]
  },
  {
   "cell_type": "markdown",
   "id": "7caa87f2",
   "metadata": {},
   "source": [
    "3. What is machine learning, and how does it work? What are the key responsibilities of machine learning?\n",
    "\n",
    "Machine learning is a subfield of artificial intelligence, which is broadly defined as the capability of a machine to imitate intelligent human behavior. Artificial intelligence systems are used to perform complex operations in such a way that it is similar to how a human being solves problems.\n",
    "\n",
    "Machine learning is a form of artificial intelligence (AI) that teaches computers to think in a similar way to how humans do: Learning and improving upon past experiences. It works by exploring data and identifying patterns, and involves minimal human intervention.\n",
    "\n",
    "The key responsibilities of machine learning are the types of predictions or inferences being made, based on the problem or question that is being asked, and the available data. For example, the classification task assigns data to categories, and the clustering task groups data according to similarity."
   ]
  },
  {
   "cell_type": "markdown",
   "id": "8ddbb78c",
   "metadata": {},
   "source": [
    "4. Define the terms \"penalty\" and \"reward\" in the context of reinforcement learning.\n",
    "\n",
    "Agents are trained on the basis of reward and penalty or punishment mechanism in the context of reinforcement learning. 'Reward' is received when the agent performs correctly and 'penalty' is received when the agent perform incorrectly."
   ]
  },
  {
   "cell_type": "markdown",
   "id": "b3a1792f",
   "metadata": {},
   "source": [
    "5. Explain the term \"learning as a search\"?\n",
    "\n",
    "The implementation of machine learning is best thought of as search problem for the best mapping of inputs to outputs given the knowledge and resources available to us for a given project. Machine learning is used at almost every part of the stack at major search engines like Google or Bing. Anything that requires some sort of “intelligence” is often solved using machine learning. Google services, for example, the image search and translation tools use sophisticated machine learning. This allows the computer to see, listen and speak in much the same way as humans do. Google uses machine learning algorithms to provide its customers with a valuable and personalized experience."
   ]
  },
  {
   "cell_type": "markdown",
   "id": "3b8f060b",
   "metadata": {},
   "source": [
    "6. What are the various goals of machine learning? What is the relationship between these and human learning?\n",
    "\n",
    "The main goal of machine learning is to give computers the ability to learn itself without being explicitly programmed. It identifies patterns from preprocessed data and make decisions with minimal human intervention.\n",
    "\n",
    "The realtionship between machine learning and human learning:\n",
    "Humans acquire knowledge through experience either directly or shared by others. Machines acquire knowledge through experience shared in the form of past data.\n",
    "Human Intelligence aims to adapt to new environments by utilizing a combination of different cognitive processes and Artificial Intelligence ( part of Machine Learning) aims to build machines that can mimic human behavior and perform human-like actions."
   ]
  },
  {
   "cell_type": "markdown",
   "id": "d93a5c04",
   "metadata": {},
   "source": [
    "7. Illustrate the various elements of machine learning using a real-life illustration.\n",
    "\n",
    "The various elements of machine learning are :\n",
    "Representation: what the model looks like; how knowledge is represented. Sometimes we might want to think of our data in terms of individuals (like in k-nearest neighbors) or like in a graph (like in Bayesian networks).\n",
    "Evaluation: how good models are differentiated; how programs are evaluated. This evaluation is done using an evaluation function (also known as an objective function or scoring function). Examples include accuracy and squared error.\n",
    "Optimization: the process for finding good models; how programs are generated. Using the evaluation function from above, we need to find the learner with the best score from this evaluation function using a choice of optimization technique. Examples are a greedy search and gradient descent."
   ]
  },
  {
   "cell_type": "markdown",
   "id": "17a73efc",
   "metadata": {},
   "source": [
    "8. Provide an example of the abstraction method.\n",
    "\n",
    "Abstraction method is defined as dealing with ideas instead of events. In terms of artificial intelligence, it means worrying more about what the right algorithm is and less about how to apply it.\n",
    "\n",
    "The most widely used abstraction approaches or examples are feature selection and feature discretization, and they are exemplified on a very simple task, and R programs are given as possible operationalization of the abstraction. The Filter, Wrapper and Embedded approaches, used for feature selection, can be extended to include many other types of abstractions, in both propositional and relational learning."
   ]
  },
  {
   "cell_type": "markdown",
   "id": "7143abbf",
   "metadata": {},
   "source": [
    "9. What is the concept of generalization? What function does it play in the machine learning process?\n",
    "\n",
    "Generalization refers to our model's ability to adapt properly to new model, previously unseen data, drawn from the same distribution as the one used to generate the model.\n",
    "\n",
    "Generalization plays central role to the success of a model as far as the machine learning is concerned. If a model has been trained too well on training data, it will be unable to generalize. It will make inaccurate predictions on the basis of  given new data, making the model useless even though it is able to make accurate predictions for the training data."
   ]
  },
  {
   "cell_type": "markdown",
   "id": "3b2f1d61",
   "metadata": {},
   "source": [
    "10. What is classification, exactly? What are the main distinctions between classification and regression?\n",
    "\n",
    "Classification refers to a predictive modeling problem where a class label is predicted for a given example of input data.\n",
    "Example: If it is spam or not.\n",
    "\n",
    "Distinction between Classification and Regression :\n",
    "Classification is the task of predicting a discrete class label.Regression is the task of predicting a continuous quantity.\n",
    "A classification algorithm may predict a continuous value, but the continuous value is in the form of a probability for a class label. A regression algorithm may predict a discrete value, but the discrete value in the form of an integer quantity."
   ]
  },
  {
   "cell_type": "markdown",
   "id": "07f951cf",
   "metadata": {},
   "source": [
    "11. What is regression, and how does it work? Give an example of a real-world problem that was solved using regression.\n",
    "\n",
    "Regression is a technique for investigating the relationship between independent variables and a dependent variable. Independent variable is named feature and dependent variable is called outcome. It's used as a method for predictive modelling in machine learning, in which an algorithm is used to predict continuous outcomes.\n",
    "\n",
    "Regression analysis consists of a set of machine learning methods that allow us to predict a continuous outcome variable (y) based on the value of one or multiple predictor variables (x). In a nutshell, the goal of regression model is to build a mathematical equation that defines y as a function of the x variables.\n",
    "\n",
    "Medical researchers often use regression( Linear Regression ) to understand the relationship between drug dosage and blood pressure of patients. For example, researchers might administer various dosages of a certain drug to patients and observe how their blood pressure responds or reacts."
   ]
  },
  {
   "cell_type": "markdown",
   "id": "69cdaa97",
   "metadata": {},
   "source": [
    "12. Describe the clustering mechanism in detail.\n",
    "\n",
    "Clustering is the task of dividing the population or data points into a number of groups so that the data points in the same groups are more similar to other data points in the same group and dissimilar to the data points in other groups. It is basically a collection of objects on the basis of similarity and dissimilarity between them. \n",
    "\n",
    "There are several fields where Clustering is applied are :\n",
    "Marketing , Insurance, Bilology, Libraries, City Planning, Earthquake studies."
   ]
  },
  {
   "cell_type": "markdown",
   "id": "184d5365",
   "metadata": {},
   "source": [
    "13. Make brief observations on two of the following topics:\n",
    "\n",
    "i. Machine learning algorithms are used\n",
    "ii. Studying under supervision\n",
    "iii. Studying without supervision\n",
    "iv. Reinforcement learning is a form of learning based on positive reinforcement.\n",
    "\n",
    "i. Machine learning algorithms are used:\n",
    "\n",
    "Basically, machine learning uses programmed algorithms that receive and analyse input data to predict output values within an acceptable range. If new data is fed to these algorithms, they learn and optimise their operations to improve performance, developing intelligence over time.\n",
    "\n",
    "iv. Reinforcement learning is a form of learning based on positive reinforcement:\n",
    "\n",
    "Reinforcement learning is an area of Mcahine learning and it is about taking a suitable action to maximise reward in a particular situation. There are some main points in terms of reinforcement learning given below.\n",
    "\n",
    "Input: The input should be an initial state from which the model will start\n",
    "Output: There are many possible outputs as there are a variety of solutions to a particular problem\n",
    "Training: The training is based upon the input, The model will return a state and the user will decide to reward or punish the model based on its output.\n",
    "The model keeps continues to learn.\n",
    "The best solution is decided based on the maximum reward.\n",
    "\n",
    "In case of positive reinforcement one of the advantages is to maximize performance and in case of reinforcement learning the best solution comes on the basis of maximum reward or performance and this is similar to positive reinforcement learning. That is why Reinforcement learning is a form of learning based on positive reinforcement."
   ]
  }
 ],
 "metadata": {
  "kernelspec": {
   "display_name": "Python 3 (ipykernel)",
   "language": "python",
   "name": "python3"
  },
  "language_info": {
   "codemirror_mode": {
    "name": "ipython",
    "version": 3
   },
   "file_extension": ".py",
   "mimetype": "text/x-python",
   "name": "python",
   "nbconvert_exporter": "python",
   "pygments_lexer": "ipython3",
   "version": "3.9.7"
  }
 },
 "nbformat": 4,
 "nbformat_minor": 5
}
