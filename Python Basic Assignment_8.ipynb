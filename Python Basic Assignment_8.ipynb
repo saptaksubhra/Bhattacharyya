{
 "cells": [
  {
   "cell_type": "markdown",
   "id": "2fa711ea",
   "metadata": {},
   "source": [
    "1. Is the Python Standard Library included with PyInputPlus?\n",
    "\n",
    "PyInputPlus is a Python module used for taking inputs with additional validation features. PyInputPlus will keep asking the user for text until and unless they enter valid input.\n",
    "\n",
    "PyInputPlus is not a part of the Python Standard Library.\n",
    "\n",
    "Installation of PyInputPlus is done through pip command as mentioned below.\n",
    "\n",
    "pip install PyInputPlus\n",
    "\n",
    "Some functions which are frequently used in terms of taking various types of input are inputNum(), inputStr(), inputInt(), inputFloat().\n",
    "One example has been set below with respect to interger input operation.\n",
    "\n"
   ]
  },
  {
   "cell_type": "code",
   "execution_count": 1,
   "id": "61526d63",
   "metadata": {},
   "outputs": [
    {
     "name": "stdout",
     "output_type": "stream",
     "text": [
      "Requirement already satisfied: PyInputPlus in c:\\programdata\\anaconda3\\lib\\site-packages (0.2.12)\n",
      "Requirement already satisfied: stdiomask>=0.0.3 in c:\\programdata\\anaconda3\\lib\\site-packages (from PyInputPlus) (0.0.6)\n",
      "Requirement already satisfied: pysimplevalidate>=0.2.7 in c:\\programdata\\anaconda3\\lib\\site-packages (from PyInputPlus) (0.2.12)\n",
      "Note: you may need to restart the kernel to use updated packages.\n"
     ]
    }
   ],
   "source": [
    "pip install PyInputPlus"
   ]
  },
  {
   "cell_type": "code",
   "execution_count": 4,
   "id": "49054285",
   "metadata": {},
   "outputs": [
    {
     "name": "stdout",
     "output_type": "stream",
     "text": [
      "Please provide an integer : 4\n",
      "4\n"
     ]
    }
   ],
   "source": [
    "# Example\n",
    "\n",
    "try:\n",
    "    import pyinputplus as pyip\n",
    "    ip = pyip.inputInt(prompt = \"Please provide an integer : \", default = 0 , limit = 5)\n",
    "    print(ip)\n",
    "except:\n",
    "    print(\"PyInputPlus operation\")"
   ]
  },
  {
   "cell_type": "code",
   "execution_count": 9,
   "id": "d9c1cffa",
   "metadata": {},
   "outputs": [
    {
     "name": "stdout",
     "output_type": "stream",
     "text": [
      "Please enter an Integer... 10\n",
      "Number must be less than 9.\n",
      "Please enter an Integer... 9\n",
      "Number must be less than 9.\n",
      "Please enter an Integer... 8\n",
      "8\n"
     ]
    }
   ],
   "source": [
    "#The min and max parameters can be used to set lower and upper bounds for the input. \n",
    "#Similarly, the greaterThan and lessThan parameters are used to set the external bounds.\n",
    "try:\n",
    "    import pyinputplus as pyip\n",
    "    inpu = pyip.inputInt(prompt = \"Please enter an Integer... \",\n",
    "                    min = 4, lessThan = 9 )\n",
    "    print(inpu)\n",
    "except:\n",
    "    print('PyInputPlus Operation')"
   ]
  },
  {
   "cell_type": "markdown",
   "id": "9e4849c6",
   "metadata": {},
   "source": [
    "2. Why is PyInputPlus commonly imported with import pyinputplus as pypi?\n",
    "\n",
    "We can import the module with import pyinputplus as pypi so that we can enter a shorter name or alias when calling the module's functions. pypi alias in the import statement refrains us from typing PyInputPlus each time we want to call a PyInputPlus function. PyInputplus has functions for entering a variety of inputs. Such as : strings, integers, floats, Booleans, emails, files, yes/no."
   ]
  },
  {
   "cell_type": "markdown",
   "id": "b7a76483",
   "metadata": {},
   "source": [
    "3. How do you distinguish between inputInt() and inputFloat()?\n",
    "\n",
    "inputint() takes  an integer value and also takes up additional parameters. Such as: 'min', 'max', 'greater than', 'less than' for bounds. It always returns an integer value.\n",
    "Whereas, inputfloat() alwyas takes a floating point number or integer value and returns a floating point numeric value."
   ]
  },
  {
   "cell_type": "code",
   "execution_count": 10,
   "id": "17bbebff",
   "metadata": {},
   "outputs": [
    {
     "name": "stdout",
     "output_type": "stream",
     "text": [
      "Please provide an integer : 6\n",
      "6\n"
     ]
    }
   ],
   "source": [
    "# Example of inputInt()\n",
    "\n",
    "try:\n",
    "    import pyinputplus as pypi\n",
    "    ip = pyip.inputInt(prompt = \"Please provide an integer : \", default = 0 , limit = 8)\n",
    "    print(ip)\n",
    "except:\n",
    "    print(\"PyInputPlus operation\")\n"
   ]
  },
  {
   "cell_type": "code",
   "execution_count": 11,
   "id": "16fca853",
   "metadata": {},
   "outputs": [
    {
     "name": "stdout",
     "output_type": "stream",
     "text": [
      "7.86\n"
     ]
    }
   ],
   "source": [
    "# Example of inputFloat()\n",
    "\n",
    "try:\n",
    "    import pyinputplus as pypi\n",
    "    pypi.inputFloat()\n",
    "except:\n",
    "    print('floatInput() operation is handled')"
   ]
  },
  {
   "cell_type": "markdown",
   "id": "be763418",
   "metadata": {},
   "source": [
    "4. Using PyInputPlus, how do you ensure that the user enters a whole number between 0 and 99?\n",
    "\n",
    "The min and max parameters can be used to set lower and upper bounds for the input. \n",
    "Similarly, the greaterThan and lessThan parameters are used to set the external bounds.\n"
   ]
  },
  {
   "cell_type": "code",
   "execution_count": 13,
   "id": "e154035a",
   "metadata": {},
   "outputs": [
    {
     "name": "stdout",
     "output_type": "stream",
     "text": [
      "Please enter an Integer... 100\n",
      "Number must be at maximum 99.\n",
      "Please enter an Integer... 43\n",
      "43\n"
     ]
    }
   ],
   "source": [
    "# Example of min and max parameters\n",
    "try:\n",
    "    import pyinputplus as pyip\n",
    "    inputing = pyip.inputInt(prompt = \"Please enter an Integer... \", min = 0, max = 99 )\n",
    "    print(inputing)\n",
    "except:\n",
    "    print('PyInputPlus Operation')"
   ]
  },
  {
   "cell_type": "markdown",
   "id": "6507b59c",
   "metadata": {},
   "source": [
    "5. What is transferred to the keyword arguments allowRegexes and blockRegexes?\n",
    "\n",
    "A list of regular expression strings is transferred to the keyyword arguments allowRegexes and blockRegexes to determine what the PyInputPlus function will accept or reject as valid input. For example, if we enter the following code into the interactive shell so that inputNum() will accept Roman numerals in addition to the usual numbers.\n",
    "\n",
    "This regex affects only what letters the inputNum() function will accept from the user, the function will still accept Roman numerals with invalid ordering such as 'XVX' or 'MILLI' because the r'(I|V|X|L|C|D|M)+' regular expression accepts those strings."
   ]
  },
  {
   "cell_type": "code",
   "execution_count": 14,
   "id": "a892c00b",
   "metadata": {},
   "outputs": [
    {
     "name": "stdout",
     "output_type": "stream",
     "text": [
      "A\n",
      "'A' is not a number.\n",
      "XVI\n"
     ]
    }
   ],
   "source": [
    "# example of allowRegexes\n",
    "try:\n",
    "    import pyinputplus as pypi\n",
    "    output = pyip.inputNum(allowRegexes= [r'(I|V|X|L|C|D|M)+', r'zero'])\n",
    "except:\n",
    "    print('allowRegexes operation')"
   ]
  },
  {
   "cell_type": "markdown",
   "id": "9b450139",
   "metadata": {},
   "source": [
    "We can also specify a list of regular expression strings that a PyInputPlus function would not accept by using the blockRegexes keyword argument. Enter the following into the interactive shell so that inputNum() wonuld not accept even numbers:"
   ]
  },
  {
   "cell_type": "code",
   "execution_count": 16,
   "id": "f1df3d62",
   "metadata": {},
   "outputs": [
    {
     "name": "stdout",
     "output_type": "stream",
     "text": [
      "28\n",
      "This response is invalid.\n",
      "43\n"
     ]
    }
   ],
   "source": [
    "# Example of blockRegexes\n",
    "try:\n",
    "    import pyinputplus as pypi\n",
    "    output1 = pyip.inputNum(blockRegexes= [r'[0246810]$'])\n",
    "except:\n",
    "    print('blockRegexes operation')\n"
   ]
  },
  {
   "cell_type": "markdown",
   "id": "daf7799a",
   "metadata": {},
   "source": [
    "6. If a blank input is entered three times, what does inputStr(limit=3) do?\n",
    "\n",
    " If a blank input is entered three times it raises a RetryLimitException exception."
   ]
  },
  {
   "cell_type": "code",
   "execution_count": 17,
   "id": "0b0e9360",
   "metadata": {},
   "outputs": [
    {
     "name": "stdout",
     "output_type": "stream",
     "text": [
      "\n",
      "Blank values are not allowed.\n",
      "\n",
      "Blank values are not allowed.\n",
      "\n",
      "Blank values are not allowed.\n",
      "RetryLimitException\n"
     ]
    }
   ],
   "source": [
    "# Example\n",
    "try:\n",
    "    import pyinputplus as pypi\n",
    "    resultant =pypi.inputStr(limit= 3)\n",
    "except:\n",
    "    print('RetryLimitException')"
   ]
  },
  {
   "cell_type": "markdown",
   "id": "3e9ac163",
   "metadata": {},
   "source": [
    "7. If blank input is entered three times, what does inputStr(limit=3, default='hello') do?\n",
    "\n",
    "When we use limit keyword argument and also pass a default keyword argument, then the function return the default value instead of raising an exception."
   ]
  },
  {
   "cell_type": "code",
   "execution_count": 25,
   "id": "107ecd50",
   "metadata": {},
   "outputs": [
    {
     "name": "stdout",
     "output_type": "stream",
     "text": [
      "\n",
      "Blank values are not allowed.\n",
      "\n",
      "Blank values are not allowed.\n",
      "\n",
      "Blank values are not allowed.\n",
      "hello\n"
     ]
    }
   ],
   "source": [
    "#Example\n",
    "\n",
    "try:\n",
    "    import pyinputplus as pypi\n",
    "    Final_Countdown = pypi.inputStr(limit = 3, default = 'hello')\n",
    "    print(Final_Countdown)\n",
    "\n",
    "except:\n",
    "    print(\"Exception handling is accomplished.\")"
   ]
  }
 ],
 "metadata": {
  "kernelspec": {
   "display_name": "Python 3 (ipykernel)",
   "language": "python",
   "name": "python3"
  },
  "language_info": {
   "codemirror_mode": {
    "name": "ipython",
    "version": 3
   },
   "file_extension": ".py",
   "mimetype": "text/x-python",
   "name": "python",
   "nbconvert_exporter": "python",
   "pygments_lexer": "ipython3",
   "version": "3.9.7"
  }
 },
 "nbformat": 4,
 "nbformat_minor": 5
}
