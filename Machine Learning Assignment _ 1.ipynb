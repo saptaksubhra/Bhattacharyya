{
 "cells": [
  {
   "cell_type": "markdown",
   "id": "54ae2331",
   "metadata": {},
   "source": [
    "1.What does one mean by the term \"machine learning\"?\n",
    "\n",
    "Machine learning is a subfield of artificial intelligence, which is broadly defined as the capability of a machine to imitate intelligent human behavior. Artificial intelligence systems are used to perform complex operations in such a way that it is similar to how a human being solves problems.\n",
    "\n",
    "One example of machine learning is image recognition in the real world. It identifies an object as a digital image on the basis of the intesnsity of the pixels in black and white images or colour images."
   ]
  },
  {
   "cell_type": "markdown",
   "id": "a5e32dd5",
   "metadata": {},
   "source": [
    "2.Can you think of 4 distinct types of issues where it shines?\n",
    "\n",
    "4 distinct types of issues where machine learning shines are cancer diagnosis, spam mail detection in email, automatic driving vehicles and fradulent credit card transactions."
   ]
  },
  {
   "cell_type": "markdown",
   "id": "e8b69fd3",
   "metadata": {},
   "source": [
    "3.What is a labeled training set, and how does it work?\n",
    "\n",
    "A labeled training set is a collection of data where one of the features of the data indicates the class the training example belongs to. A labeled training set works in supervised learning algorithms."
   ]
  },
  {
   "cell_type": "markdown",
   "id": "b10b9e10",
   "metadata": {},
   "source": [
    "4.What are the two most important tasks that are supervised?\n",
    "\n",
    "The two most important tasks that are supervised are regression and classification. In a regression problem our prediction is a scalar value  and in case of classification problem, the result is either 0 or 1."
   ]
  },
  {
   "cell_type": "markdown",
   "id": "d1652fb9",
   "metadata": {},
   "source": [
    "5.Can you think of four examples of unsupervised tasks?\n",
    "\n",
    "Four examples of unsupervised tasks are dimensionality reduction, clustering, visualization and association rule learning."
   ]
  },
  {
   "cell_type": "markdown",
   "id": "c616f019",
   "metadata": {},
   "source": [
    "6.State the machine learning model that would be best to make a robot walk through various\n",
    "unfamiliar terrains?\n",
    "\n",
    "The best machine learning model or algorithm would be reinforcement learning approach to make a robot walk throgh various unfamiliar terrains.This laeraning approach is a system where  an agent observes the environment, selects and performs actions, then recieves a reward or punishment on the basis of the result of the action. Over time the agent learns by itself what is the most productive strategy."
   ]
  },
  {
   "cell_type": "markdown",
   "id": "feb414d9",
   "metadata": {},
   "source": [
    "7.Which algorithm will you use to divide your customers into different groups?\n",
    "\n",
    "We would use some sort of clustering algorithm that can find the decision boundaries in the groups automatically. This is an unsupervised approach. However, if we already know the categories of our customers, then we would choose a supervised approach and go with a classification algorithm."
   ]
  },
  {
   "cell_type": "markdown",
   "id": "de803915",
   "metadata": {},
   "source": [
    "8.Will you consider the problem of spam detection to be a supervised or unsupervised learning\n",
    "problem?\n",
    "\n",
    "We would frame it as a supervised learning problem because human beings have a general idea about what spam is and what spam is not."
   ]
  },
  {
   "cell_type": "markdown",
   "id": "0ea36b40",
   "metadata": {},
   "source": [
    "9.What is the concept of an online learning system?\n",
    "\n",
    "An online learning system learns from new data on-the-fly. As a consequence, the system is trained incrementally either by using one example at a time or using a mini-batch approach. This keeps each learning step cheap and memory efficient."
   ]
  },
  {
   "cell_type": "markdown",
   "id": "c28ef86e",
   "metadata": {},
   "source": [
    "10.What is out-of-core learning, and how does it differ from core learning?\n",
    "\n",
    "Out-of-core leanring means to the machine learning algorithms working with data that cannot fit into the memory of a single machine, but that can easily fit into some data storage such as local hard disk or web repository.\n",
    "Core Machine Learning Framework enables developers to integrate their machine learning models into iOS implementations. The underlying technologies powering Core ML are both CPU and GPU. Notably, the machine models run on respective devices allowing local analysis of data."
   ]
  },
  {
   "cell_type": "markdown",
   "id": "15eb972a",
   "metadata": {},
   "source": [
    "11.What kind of learning algorithm makes predictions using a similarity measure?\n",
    "\n",
    "Instance -based learning algorithms make predictions using a similarity measure.  In an instance-based learning system, the algorithm learns the examples by heart, then uses the similarity measure to generalize."
   ]
  },
  {
   "cell_type": "markdown",
   "id": "161face7",
   "metadata": {},
   "source": [
    "12.What's the difference between a model parameter and a hyperparameter in a learning\n",
    "algorithm?\n",
    "\n",
    "A hyperparameter is a parameter of the learning algorithm, not the model. For example, in a simple linear regression problem our model is parameterized by theta which is a vector of weights. In order to find the best values for theta we have a cost function which is run repeatedly by the gradient descent algorithm. Gradient descent has a hyperparameter called alpha which is the learning rate of the algorithm."
   ]
  },
  {
   "cell_type": "markdown",
   "id": "e2a99117",
   "metadata": {},
   "source": [
    "13.What are the criteria that model-based learning algorithms look for? What is the most popular\n",
    "method they use to achieve success? What method do they use to make predictions?\n",
    "\n",
    "The goal for a model-based algorithm is to be able to generalize to new examples. To do this, model based algorithms search for optimal values for the model's parameters, often called theta. This searching, or \"learning\", is what machine learning is all about. Model-based system learn by minimizing a cost function that measures how bad the system is at making predicitons on new data, plus a penalty for model complexity if the model is regularized. To make a prediction, a new instance's features are fed into a hypothesis function which uses the minimized theta found by repeatedly running the cost function."
   ]
  },
  {
   "cell_type": "markdown",
   "id": "54dc2428",
   "metadata": {},
   "source": [
    "14.Can you name four of the most important Machine Learning challenges?\n",
    "\n",
    "1. Poor Quality of Data\n",
    "Data plays a significant role in the machine learning process. One of the significant issues that machine learning professionals face is the absence of good quality data. \n",
    "2. Machine Learning is a Complex Process\n",
    "The machine learning industry is young and is continuously changing. Rapid hit and trial experiments are being carried on. The process is transforming, and hence there are high chances of error which makes the learning complex.\n",
    "3. Lack of Training Data\n",
    "The most important task we need to do in the machine learning process is to train the data to achieve an accurate output. Less amount training data will produce inaccurate or too biased predictions.\n",
    "4. Slow Implementation\n",
    "This is one of the common issues faced by machine learning professionals. The machine learning models are highly efficient in providing accurate results, but it takes a tremendous amount of time. Slow programs, data overload, and excessive requirements usually take a lot of time to provide accurate results."
   ]
  },
  {
   "cell_type": "markdown",
   "id": "b2b02e0a",
   "metadata": {},
   "source": [
    "15.What happens if the model performs well on the training data but fails to generalize the results\n",
    "to new situations? Can you think of three different options?\n",
    "\n",
    "This is a case where the model is overfitting the training data. To couteract overfitting, we can reduce the complexity of the model by removing features or constraining the parameters. Three different options are that we can collect more data, we can reduce noisiness in the data by fixing errors and removing outliers."
   ]
  },
  {
   "cell_type": "markdown",
   "id": "f2fdb568",
   "metadata": {},
   "source": [
    "16.What exactly is a test set, and why would you need one?\n",
    "\n",
    "The test set is a separate set of data used to test the model after completing the training. It provides an unbiased final model performance metric in terms of accuracy, precision. \n",
    "We would need test set when we want to know how well our model generalizes to new cases, we prefer to use a test set instead of actually deploying the system. To build the test set we split the training data (50-50, 60-40, 80-20 are common splits) into a training set and test set. Our model is training with the training set. Then we use the model to run predictions on the test set. Our error rate on the test set is called the generalization error or out-of-sample error. This error tells us how well our model performs on examples it has never seen before."
   ]
  },
  {
   "cell_type": "markdown",
   "id": "2469a46b",
   "metadata": {},
   "source": [
    "17.What is a validation set's purpose?\n",
    "\n",
    "The purpose of validation set is that validation data provides the first test against unseen data, allowing data scientists to evaluate how well the model makes predictions based on the new data. Not all data scientists use validation data, but it can provide some helpful information to optimize hyperparameters, which influence how the model assesses data."
   ]
  },
  {
   "cell_type": "markdown",
   "id": "d9885c75",
   "metadata": {},
   "source": [
    "18.What precisely is the train-dev kit, when will you need it, how do you put it to use?\n",
    "\n",
    "A validation data set or train-dev kit is a data-set of examples used to tune the hyperparameters (i.e. the architecture) of a classifier. It is sometimes also named the development set or the \"dev set\".\n",
    "\n",
    "We need train-dev kit to to rank the models in terms of their accuracy and helps us decide which model to proceed further with. \n",
    "\n",
    "We put train-dev kit to use by ranking all our models in terms of their accuracy and pick up the best performing model."
   ]
  },
  {
   "cell_type": "markdown",
   "id": "4e0d6e3f",
   "metadata": {},
   "source": [
    "19.What could go wrong if you use the test set to tune hyperparameters?\n",
    "\n",
    "If we use the test set to tune hyperparameters then we actually give the model a chance to see the test data and to improve a bias towards this test data. So, we actually lose the possibility to find out how good our model would actually be on unseen data."
   ]
  }
 ],
 "metadata": {
  "kernelspec": {
   "display_name": "Python 3 (ipykernel)",
   "language": "python",
   "name": "python3"
  },
  "language_info": {
   "codemirror_mode": {
    "name": "ipython",
    "version": 3
   },
   "file_extension": ".py",
   "mimetype": "text/x-python",
   "name": "python",
   "nbconvert_exporter": "python",
   "pygments_lexer": "ipython3",
   "version": "3.9.7"
  }
 },
 "nbformat": 4,
 "nbformat_minor": 5
}
