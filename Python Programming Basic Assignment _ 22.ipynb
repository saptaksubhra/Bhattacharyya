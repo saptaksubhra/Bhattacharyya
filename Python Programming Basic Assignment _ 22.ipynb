{
 "cells": [
  {
   "cell_type": "markdown",
   "id": "6938399a",
   "metadata": {},
   "source": [
    " Question1\n",
    "Create a function that takes three parameters where:\n",
    " x is the start of the range (inclusive).\n",
    " y is the end of the range (inclusive).\n",
    " n is the divisor to be checked against.\n",
    "Return an ordered list with numbers in the range that are divisible by the third parameter n.\n",
    "Return an empty list if there are no numbers that are divisible by n.\n",
    "Examples\n",
    "list_operation(1, 10, 3) ➞ [3, 6, 9]\n",
    "list_operation(7, 9, 2) ➞ [8]\n",
    "list_operation(15, 20, 7) ➞ []"
   ]
  },
  {
   "cell_type": "code",
   "execution_count": 12,
   "id": "8727a304",
   "metadata": {},
   "outputs": [
    {
     "name": "stdout",
     "output_type": "stream",
     "text": [
      "Enter lower range number:1\n",
      "Enter upper range number:10\n",
      "Enter the number to be divided by:3\n",
      "3\n",
      "6\n",
      "9\n"
     ]
    }
   ],
   "source": [
    "try:\n",
    "    x=int(input(\"Enter lower range number:\"))\n",
    "    y=int(input(\"Enter upper range number:\"))\n",
    "    n=int(input(\"Enter the number to be divided by:\"))\n",
    "    for i in range(x,y+1):\n",
    "        if(i%n==0):\n",
    "            print(i)\n",
    "except:\n",
    "    print('list operation')\n"
   ]
  },
  {
   "cell_type": "code",
   "execution_count": 13,
   "id": "c1210d7a",
   "metadata": {},
   "outputs": [
    {
     "name": "stdout",
     "output_type": "stream",
     "text": [
      "Enter lower range number:7\n",
      "Enter upper range number:9\n",
      "Enter the number to be divided by:2\n",
      "8\n"
     ]
    }
   ],
   "source": [
    "try:\n",
    "    x=int(input(\"Enter lower range number:\"))\n",
    "    y=int(input(\"Enter upper range number:\"))\n",
    "    n=int(input(\"Enter the number to be divided by:\"))\n",
    "    for i in range(x,y+1):\n",
    "        if(i%n==0):\n",
    "            print(i)\n",
    "except:\n",
    "    print('list operation')\n"
   ]
  },
  {
   "cell_type": "code",
   "execution_count": 8,
   "id": "54b65e24",
   "metadata": {},
   "outputs": [
    {
     "name": "stdout",
     "output_type": "stream",
     "text": [
      "Enter lower range number:15\n",
      "Enter upper range number:20\n",
      "Enter the number to be divided by:7\n"
     ]
    }
   ],
   "source": [
    "\n",
    "try:\n",
    "    x=int(input(\"Enter lower range number:\"))\n",
    "    y=int(input(\"Enter upper range number:\"))\n",
    "    n=int(input(\"Enter the number to be divided by:\"))\n",
    "    for i in range(x,y+1):\n",
    "        if(i%n==0):\n",
    "            print(i)\n",
    "except:\n",
    "    print('list operation')\n",
    "\n"
   ]
  },
  {
   "cell_type": "markdown",
   "id": "ba774701",
   "metadata": {},
   "source": [
    "Question2\n",
    "Create a function that takes in two lists and returns True if the second list follows the first list\n",
    "by one element, and False otherwise. In other words, determine if the second list is the first\n",
    "list shifted to the right by 1.\n",
    "Examples\n",
    "simon_says([1, 2], [5, 1]) ➞ True\n",
    "simon_says([1, 2], [5, 5]) ➞ False\n",
    "simon_says([1, 2, 3, 4, 5], [0, 1, 2, 3, 4]) ➞ True\n",
    "simon_says([1, 2, 3, 4, 5], [5, 5, 1, 2, 3]) ➞ False\n",
    "Notes\n",
    " Both input lists will be of the same length, and will have a minimum length of 2.\n",
    " The values of the 0-indexed element in the second list and the n-1th indexed element\n",
    "in the first list do not matter."
   ]
  },
  {
   "cell_type": "code",
   "execution_count": 25,
   "id": "c5030e35",
   "metadata": {},
   "outputs": [
    {
     "name": "stdout",
     "output_type": "stream",
     "text": [
      "True\n",
      "False\n",
      "True\n",
      "True\n"
     ]
    }
   ],
   "source": [
    "try:\n",
    "    def simon_says(l1, l2):\n",
    "        result = False\n",
    "        for i in l1:\n",
    "            for j in l2:\n",
    "                if i == j:\n",
    "                    result= True\n",
    "                    return result\n",
    "        return result\n",
    "    print(simon_says([1,2], [5,1]))\n",
    "    print(simon_says([1,2],[5,5]))\n",
    "    print(simon_says([1,2,3,4,5],[0,1,2,3,4]))\n",
    "    print(simon_says([1,2,3,4,5],[5,5,1,2,3]))\n",
    "except:\n",
    "    print('list operation')"
   ]
  },
  {
   "cell_type": "markdown",
   "id": "8576578b",
   "metadata": {},
   "source": [
    "Question3\n",
    "A group of friends have decided to start a secret society. The name will be the first letter of\n",
    "each of their names, sorted in alphabetical order.\n",
    "Create a function that takes in a list of names and returns the name of the secret society.\n",
    "\n",
    "Examples\n",
    "society_name([\"Adam\", \"Sarah\", \"Malcolm\"]) ➞ \"AMS\"\n",
    "society_name([\"Harry\", \"Newt\", \"Luna\", \"Cho\"]) ➞ \"CHLN\"\n",
    "society_name([\"Phoebe\", \"Chandler\", \"Rachel\", \"Ross\", \"Monica\", \"Joey\"])"
   ]
  },
  {
   "cell_type": "code",
   "execution_count": 24,
   "id": "ece613c9",
   "metadata": {},
   "outputs": [
    {
     "name": "stdout",
     "output_type": "stream",
     "text": [
      "ASM\n"
     ]
    }
   ],
   "source": [
    "def society_name(s):\n",
    " \n",
    "    result = \"\"\n",
    " \n",
    "    \n",
    "    v = True\n",
    "    for i in range(len(s)):\n",
    "         \n",
    "       \n",
    "        if (s[i] == ' '):\n",
    "            v = True\n",
    " \n",
    "        \n",
    "        elif (s[i] != ' ' and v == True):\n",
    "            result =result + (s[i])\n",
    "            v = False\n",
    " \n",
    "    return result\n",
    " \n",
    "\n",
    "if __name__ == \"__main__\":\n",
    "     \n",
    "    s = \"Adam Sarah Malcolm\"\n",
    "print(society_name(s))\n"
   ]
  },
  {
   "cell_type": "markdown",
   "id": "9090c7c1",
   "metadata": {},
   "source": [
    "Question4\n",
    "An isogram is a word that has no duplicate letters. Create a function that takes a string and\n",
    "returns either True or False depending on whether or not it's an \"isogram\".\n",
    "Examples\n",
    "is_isogram(\"Algorism\") ➞ True\n",
    "is_isogram(\"PasSword\") ➞ False\n",
    "# Not case sensitive.\n",
    "is_isogram(\"Consecutive\") ➞ False\n",
    "Notes\n",
    " Ignore letter case (should not be case sensitive).\n",
    " All test cases contain valid one word strings."
   ]
  },
  {
   "cell_type": "code",
   "execution_count": 12,
   "id": "3b159f7e",
   "metadata": {},
   "outputs": [
    {
     "name": "stdout",
     "output_type": "stream",
     "text": [
      "True\n",
      "False\n",
      "False\n"
     ]
    }
   ],
   "source": [
    "try:\n",
    "    def is_isogram(s):\n",
    "        s1 = s.lower()\n",
    "        l = []\n",
    "        for letter in s1:\n",
    "            if letter.isalpha():\n",
    "                if letter in l:\n",
    "                    return False\n",
    "                l.append(letter)\n",
    "        return True\n",
    "    if __name__ =='__main__':\n",
    "        print(is_isogram('Algorism'))\n",
    "        print(is_isogram('PasSword'))\n",
    "        print(is_isogram('Consecutive'))\n",
    "except:\n",
    "    print('Isogram checking')"
   ]
  },
  {
   "cell_type": "markdown",
   "id": "711571f9",
   "metadata": {},
   "source": [
    "Question5\n",
    "Create a function that takes a string and returns True or False, depending on whether the\n",
    "characters are in order or not.\n",
    "Examples\n",
    "is_in_order(\"abc\") ➞ True\n",
    "is_in_order(\"edabit\") ➞ False\n",
    "is_in_order(\"123\") ➞ True\n",
    "is_in_order(\"xyzz\") ➞ True\n",
    "Notes\n",
    "You don't have to handle empty strings."
   ]
  },
  {
   "cell_type": "code",
   "execution_count": 10,
   "id": "4632df1b",
   "metadata": {},
   "outputs": [
    {
     "name": "stdout",
     "output_type": "stream",
     "text": [
      "True\n",
      "False\n",
      "True\n",
      "True\n"
     ]
    }
   ],
   "source": [
    "try:\n",
    "    def is_in_order(s):\n",
    "        \n",
    "        n = len(s)\n",
    "        for i in range(1, n):\n",
    "            if (s[i] < s[i-1]):\n",
    "                return False\n",
    "            return True\n",
    "    if __name__ ==\"__main__\":\n",
    "            s ='abc'\n",
    "            if(is_in_order(s)):\n",
    "                print('True')\n",
    "            else:\n",
    "                print('False')\n",
    "                \n",
    "            s = 'edabit'\n",
    "            if(is_in_order(s)):\n",
    "                print('True')\n",
    "            else:\n",
    "                print('False')\n",
    "                \n",
    "            s = '123'\n",
    "            if(is_in_order(s)):\n",
    "                print('True')\n",
    "            else:\n",
    "                print('False')\n",
    "                \n",
    "                s = 'xyzz'\n",
    "            if(is_in_order(s)):\n",
    "                print('True')\n",
    "            else:\n",
    "                print('False')\n",
    "except:\n",
    "    print('alphabetical order of string')"
   ]
  }
 ],
 "metadata": {
  "kernelspec": {
   "display_name": "Python 3 (ipykernel)",
   "language": "python",
   "name": "python3"
  },
  "language_info": {
   "codemirror_mode": {
    "name": "ipython",
    "version": 3
   },
   "file_extension": ".py",
   "mimetype": "text/x-python",
   "name": "python",
   "nbconvert_exporter": "python",
   "pygments_lexer": "ipython3",
   "version": "3.9.7"
  }
 },
 "nbformat": 4,
 "nbformat_minor": 5
}
