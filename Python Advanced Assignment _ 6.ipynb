{
 "cells": [
  {
   "cell_type": "markdown",
   "id": "a0847452",
   "metadata": {},
   "source": [
    "Q1. Describe three applications for exception processing.\n",
    "\n",
    "Three applications of exeception processing are:\n",
    "ZeroDivision Error: It happens when a number is being divided by zero.\n",
    "\n",
    "Indentation Error: This error happens when wrong indentation is given in the programme.\n",
    "\n",
    "Name Error: when a name is not found inside a programme either local or global."
   ]
  },
  {
   "cell_type": "code",
   "execution_count": 1,
   "id": "32c9cec0",
   "metadata": {},
   "outputs": [
    {
     "ename": "ZeroDivisionError",
     "evalue": "division by zero",
     "output_type": "error",
     "traceback": [
      "\u001b[1;31m---------------------------------------------------------------------------\u001b[0m",
      "\u001b[1;31mZeroDivisionError\u001b[0m                         Traceback (most recent call last)",
      "\u001b[1;32m~\\AppData\\Local\\Temp/ipykernel_11852/3841816768.py\u001b[0m in \u001b[0;36m<module>\u001b[1;34m\u001b[0m\n\u001b[0;32m      3\u001b[0m \u001b[0mFinal_Countdown\u001b[0m \u001b[1;33m=\u001b[0m \u001b[1;36m1000\u001b[0m\u001b[1;33m\u001b[0m\u001b[1;33m\u001b[0m\u001b[0m\n\u001b[0;32m      4\u001b[0m \u001b[1;33m\u001b[0m\u001b[0m\n\u001b[1;32m----> 5\u001b[1;33m \u001b[0mHyperpanda\u001b[0m \u001b[1;33m=\u001b[0m \u001b[0mFinal_Countdown\u001b[0m\u001b[1;33m/\u001b[0m \u001b[1;36m0\u001b[0m\u001b[1;33m\u001b[0m\u001b[1;33m\u001b[0m\u001b[0m\n\u001b[0m\u001b[0;32m      6\u001b[0m \u001b[0mprint\u001b[0m\u001b[1;33m(\u001b[0m\u001b[0mHyperpanda\u001b[0m\u001b[1;33m)\u001b[0m\u001b[1;33m\u001b[0m\u001b[1;33m\u001b[0m\u001b[0m\n",
      "\u001b[1;31mZeroDivisionError\u001b[0m: division by zero"
     ]
    }
   ],
   "source": [
    "# Example of Zero Division Error\n",
    "\n",
    "Final_Countdown = 1000\n",
    "\n",
    "Hyperpanda = Final_Countdown/ 0\n",
    "print(Hyperpanda)"
   ]
  },
  {
   "cell_type": "code",
   "execution_count": 2,
   "id": "0cd97891",
   "metadata": {},
   "outputs": [
    {
     "ename": "SyntaxError",
     "evalue": "invalid syntax (Temp/ipykernel_11852/3417765768.py, line 4)",
     "output_type": "error",
     "traceback": [
      "\u001b[1;36m  File \u001b[1;32m\"C:\\Users\\USER\\AppData\\Local\\Temp/ipykernel_11852/3417765768.py\"\u001b[1;36m, line \u001b[1;32m4\u001b[0m\n\u001b[1;33m    if (amt > 1008)\u001b[0m\n\u001b[1;37m                   ^\u001b[0m\n\u001b[1;31mSyntaxError\u001b[0m\u001b[1;31m:\u001b[0m invalid syntax\n"
     ]
    }
   ],
   "source": [
    "# Example of IndentationError or Syntax Error\n",
    "\n",
    "amt = 1008\n",
    "if (amt > 1008)\n",
    "print(amt)"
   ]
  },
  {
   "cell_type": "code",
   "execution_count": 1,
   "id": "053f88be",
   "metadata": {},
   "outputs": [
    {
     "name": "stdout",
     "output_type": "stream",
     "text": [
      "Micky\n"
     ]
    },
    {
     "ename": "NameError",
     "evalue": "name 'arthur' is not defined",
     "output_type": "error",
     "traceback": [
      "\u001b[1;31m---------------------------------------------------------------------------\u001b[0m",
      "\u001b[1;31mNameError\u001b[0m                                 Traceback (most recent call last)",
      "\u001b[1;32m~\\AppData\\Local\\Temp/ipykernel_12636/866081366.py\u001b[0m in \u001b[0;36m<module>\u001b[1;34m\u001b[0m\n\u001b[0;32m      2\u001b[0m \u001b[1;33m\u001b[0m\u001b[0m\n\u001b[0;32m      3\u001b[0m \u001b[0mMicky\u001b[0m \u001b[1;33m=\u001b[0m \u001b[0minput\u001b[0m\u001b[1;33m(\u001b[0m\u001b[1;33m)\u001b[0m\u001b[1;33m\u001b[0m\u001b[1;33m\u001b[0m\u001b[0m\n\u001b[1;32m----> 4\u001b[1;33m \u001b[0mprint\u001b[0m\u001b[1;33m(\u001b[0m\u001b[0marthur\u001b[0m\u001b[1;33m)\u001b[0m\u001b[1;33m\u001b[0m\u001b[1;33m\u001b[0m\u001b[0m\n\u001b[0m",
      "\u001b[1;31mNameError\u001b[0m: name 'arthur' is not defined"
     ]
    }
   ],
   "source": [
    "# Example of Name Error\n",
    "\n",
    "Micky = input()\n",
    "print(arthur)"
   ]
  },
  {
   "cell_type": "markdown",
   "id": "effb26f4",
   "metadata": {},
   "source": [
    "Q2. What happens if you don't do something extra to treat an exception?\n",
    "\n",
    "When an exception occurres and if we don't handle it, the program terminates abruptly and the code past the line that caused the exception will not get executed."
   ]
  },
  {
   "cell_type": "code",
   "execution_count": null,
   "id": "9e933a2f",
   "metadata": {},
   "outputs": [],
   "source": [
    "# Example of Zero Division Error\n",
    "\n",
    "Final_Countdown = 1000\n",
    "\n",
    "Hyperpanda = Final_Countdown/ 0\n",
    "print(Hyperpanda)"
   ]
  },
  {
   "cell_type": "markdown",
   "id": "6e9278d4",
   "metadata": {},
   "source": [
    "As we can see in the above example, an exception error has occurred and it is showing as zerodivision error. That is why the print function is not printing any output."
   ]
  },
  {
   "cell_type": "markdown",
   "id": "393d65d2",
   "metadata": {},
   "source": [
    "Q3. What are your options for recovering from an exception in your script?\n",
    "The options for recovering from an exception in my script has been given below with the syntax first.\n"
   ]
  },
  {
   "cell_type": "markdown",
   "id": "9cbe84b4",
   "metadata": {},
   "source": [
    "try:\n",
    "    \"Execute operation here.\"\n",
    "except:\n",
    "    \"If there is any exception, then execute this block.\"\n",
    "else:\n",
    "    \"If there is no exception then execute this block.\""
   ]
  },
  {
   "cell_type": "markdown",
   "id": "fc313863",
   "metadata": {},
   "source": [
    "A single statement in try block can have multiple except statements. After the execept block else block comes into picture. The statement in the else block will execute if the statement in the try block will be executed and will not raise an execption."
   ]
  },
  {
   "cell_type": "code",
   "execution_count": 3,
   "id": "03bfe22b",
   "metadata": {},
   "outputs": [
    {
     "name": "stdout",
     "output_type": "stream",
     "text": [
      "Content has been written in the file test6 successfully.\n"
     ]
    }
   ],
   "source": [
    "# This is the example to open and write content in a file and then close it .\n",
    "\n",
    "try:\n",
    "    fl = open(\"test6\", \"w\")\n",
    "    fl.write(\"This is my file to write and for exception handling\")\n",
    "except:\n",
    "    print(\" Can not read data from the file.\")\n",
    "else:\n",
    "    print(\"Content has been written in the file test6 successfully.\")\n",
    "    fl.close()"
   ]
  },
  {
   "cell_type": "markdown",
   "id": "7e49c8f5",
   "metadata": {},
   "source": [
    "In the above example, try block did not raise any exception and the statement inside try block has been executed and that is why except block did not come into picture. And as try blcok statement has been executed and did not raise an exception so, statement in else block has been executed and\\ printed."
   ]
  },
  {
   "cell_type": "code",
   "execution_count": 4,
   "id": "3620838d",
   "metadata": {},
   "outputs": [
    {
     "name": "stdout",
     "output_type": "stream",
     "text": [
      "Can not read data from the file.\n"
     ]
    }
   ],
   "source": [
    "# This is the example to open and read a file and here we do not have the permission to write, therefore it raises an exception.\n",
    "try:\n",
    "    fl = open(\"test6\", 'r')\n",
    "    fl.write(\"This the file for exception handling.\")\n",
    "except:\n",
    "    print('Can not read data from the file.')\n",
    "else:\n",
    "    print('Conatent has been written inside the file test6 successfully. ')"
   ]
  },
  {
   "cell_type": "markdown",
   "id": "48c6d819",
   "metadata": {},
   "source": [
    "In the above example, try block did raise an exception as the file has the permission to read no to write something in it. Soexcept block has come into picture andhas executed whatever information has been written inside the except block and then printed that information."
   ]
  },
  {
   "cell_type": "markdown",
   "id": "8652eef0",
   "metadata": {},
   "source": [
    "Q4. Describe two methods for triggering exceptions in your script.\n",
    "\n",
    "There are two methods by which we can trigger exceptions in our script. One is try and the other is raise.\n",
    "try method catches exceptions raised by the programme. And raise triggers an exception manually using custom exceptions.\n",
    "The principle of try method is as follows:\n",
    "let us assume that there is a datatype with few elements in it.Next, the line that causes an exception is kept inside try block. If there is no exception the except blcok will skip and will not execute the statement inside except block and logical flow will continue until the last element of that given datatype. But, if an exception occurs then the except blcok will cathc it.\n"
   ]
  },
  {
   "cell_type": "markdown",
   "id": "df5521bf",
   "metadata": {},
   "source": [
    "raise  is a keyword and raising exceptions is a manual procedure by which we can optionally pass values to the exception to clarify the reason why it was raised."
   ]
  },
  {
   "cell_type": "code",
   "execution_count": 22,
   "id": "e1425f1b",
   "metadata": {},
   "outputs": [
    {
     "name": "stdout",
     "output_type": "stream",
     "text": [
      "Please provide a positive number : -10\n",
      "It is not a positive number.\n"
     ]
    }
   ],
   "source": [
    "# Example of Raising exceptions in Python with raise keyword\n",
    "\n",
    "try:\n",
    "    a = int (input(\"Please provide a positive number : \"))\n",
    "    if a <= 0:\n",
    "        raise ValueError('It is not a positive number.')\n",
    "except ValueError as val:\n",
    "    print(val)\n"
   ]
  },
  {
   "cell_type": "markdown",
   "id": "c8aaee75",
   "metadata": {},
   "source": [
    "Q5. Identify two methods for specifying actions to be executed at termination time, regardless of\n",
    "whether or not an exception exists.\n",
    "\n",
    "The two methods for specifying actions to be executed at termination or runtime, irrespective of whether an exception occurrs or not are try and finally statement.\n",
    "\n",
    "try statement includes a keyword try , followed by a colon(:) and a suite of code or statement inside try block in which exceptions might occur or not. This has one or more clauses.\n",
    "\n",
    "If the statement inside try block exewcutes then it will go to else block if the else block exists inside the programme. But if eny excpetion occurs during the execution of the code inside try block, then the programme control will be transferred to except block to execute the statement inside except block.\n",
    "Syntax of try statement has been given here.\n",
    " Syntax:\n",
    " try:\n",
    " statement(s)\n",
    "\n",
    "And finally block will execute bydefault irrespective of an exception being thrown or not. finally block is an optional part of a programme and is intended to define clean-up actions which shoud be executed in all conditions.\n"
   ]
  },
  {
   "cell_type": "code",
   "execution_count": 27,
   "id": "884fa05f",
   "metadata": {},
   "outputs": [
    {
     "name": "stdout",
     "output_type": "stream",
     "text": [
      "This is just a test, not an acid test.\n",
      "Welcome Aboard!\n"
     ]
    }
   ],
   "source": [
    "try:\n",
    "    print('This is just a test, not an acid test.')\n",
    "finally:\n",
    "    print('Welcome Aboard!')"
   ]
  }
 ],
 "metadata": {
  "kernelspec": {
   "display_name": "Python 3 (ipykernel)",
   "language": "python",
   "name": "python3"
  },
  "language_info": {
   "codemirror_mode": {
    "name": "ipython",
    "version": 3
   },
   "file_extension": ".py",
   "mimetype": "text/x-python",
   "name": "python",
   "nbconvert_exporter": "python",
   "pygments_lexer": "ipython3",
   "version": "3.9.7"
  }
 },
 "nbformat": 4,
 "nbformat_minor": 5
}
