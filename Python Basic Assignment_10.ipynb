{
 "cells": [
  {
   "cell_type": "markdown",
   "id": "f375ae11",
   "metadata": {},
   "source": [
    "1. How do you distinguish between shutil.copy() and shutil.copytree()?\n",
    "\n",
    "shutil. copy() will copy a single file, whereas shutil. copytree() will copy an entire folder and every folder and file contained in it."
   ]
  },
  {
   "cell_type": "markdown",
   "id": "2fb7123c",
   "metadata": {},
   "source": [
    "2. What function is used to rename files?\n",
    "\n",
    "os. rename() method in Python is used to rename a file or directory."
   ]
  },
  {
   "cell_type": "markdown",
   "id": "2d2e8b5f",
   "metadata": {},
   "source": [
    "3. What is the difference between the delete functions in the send2trash and shutil modules?\n",
    "\n",
    "The send2trash functions will move a file or folder to the recycle bin, while shutil functions will permanently delete files and folders."
   ]
  },
  {
   "cell_type": "markdown",
   "id": "de7143eb",
   "metadata": {},
   "source": [
    "4.ZipFile objects have a close() method just like File objects’ close() method. What ZipFile method is equivalent to File objects’ open() method?\n",
    "\n",
    "A ZipFile object is made by calling ZipFile constructor which accepts zip file name and mode parameters. We create a ZipFile object in READ mode and name it as zip. printdir() method prints a table of contents for the archive.\n"
   ]
  },
  {
   "cell_type": "code",
   "execution_count": 3,
   "id": "00a5f6ab",
   "metadata": {},
   "outputs": [
    {
     "name": "stdout",
     "output_type": "stream",
     "text": [
      "Looking in C:\\Users\\USER\\RandomFolder for files with extensions of .php,.py\n"
     ]
    }
   ],
   "source": [
    "#5. Create a programme that searches a folder tree for files with a certain file extension (such as .pdf or .jpg). Copy these files from whatever location they are in to a new folder.\n",
    "\n",
    "try:\n",
    "    import os, shutil\n",
    "    def SelectCopy(Folder, extensions, DestinationFolder):\n",
    "        Folder = os.path.abspath(Folder)\n",
    "        DestinationFolder = os.path.abspath(DestinationFolder)\n",
    "        print(\"Looking in\", Folder, \"for files with extensions of\", \",\".join(extensions))\n",
    "        for FolderName , Subfolders, Filenames in os.walk(Folder):\n",
    "            for FileName in Filenames:\n",
    "                Name, Extension = os.path.splittext(FileName)\n",
    "                if Extension in extensions:\n",
    "                    fileAbsPath = FolderName + os.path.sep + FileName\n",
    "                    print(\"Copying\", fileAbsPath, \"to\", DestinationFolder)\n",
    "                    shutil.copy(fileAbsPath, DestinationFolder)\n",
    "\n",
    "    extensions = [\".php\",\".py\"]\n",
    "    Folder = \"RandomFolder\"\n",
    "    DestinationFolder = \"SelectiveFolder\"\n",
    "    SelectCopy(Folder, extensions, DestinationFolder)\n",
    "except:\n",
    "    print(\"Please print the desired result\")"
   ]
  }
 ],
 "metadata": {
  "kernelspec": {
   "display_name": "Python 3 (ipykernel)",
   "language": "python",
   "name": "python3"
  },
  "language_info": {
   "codemirror_mode": {
    "name": "ipython",
    "version": 3
   },
   "file_extension": ".py",
   "mimetype": "text/x-python",
   "name": "python",
   "nbconvert_exporter": "python",
   "pygments_lexer": "ipython3",
   "version": "3.9.7"
  }
 },
 "nbformat": 4,
 "nbformat_minor": 5
}
