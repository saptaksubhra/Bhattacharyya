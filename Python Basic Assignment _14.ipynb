{
 "cells": [
  {
   "cell_type": "markdown",
   "id": "22485e38",
   "metadata": {},
   "source": [
    "1. What does RGBA stand for?\n",
    "RGBA(Red-Green-Blue-Alpha) The format of the RGBA Value. RGBA tuples are 4-tuples where the respective tuple components represent red, green, blue, and alpha (opacity) values for a color. Each value is a floating point number between 0.0 and 1.0. For example, the tuple (1, 0, 0, 1) represents an opaque red, while (0, 1, 0, 0.5) represents a half transparent green.\n"
   ]
  },
  {
   "cell_type": "code",
   "execution_count": 4,
   "id": "24910ad3",
   "metadata": {},
   "outputs": [
    {
     "name": "stdout",
     "output_type": "stream",
     "text": [
      "Requirement already satisfied: Pillow in c:\\programdata\\anaconda3\\lib\\site-packages (8.4.0)\n"
     ]
    }
   ],
   "source": [
    "#2. From the Pillow module, how do you get the RGBA value of any images?\n",
    "\n",
    "!pip install Pillow"
   ]
  },
  {
   "cell_type": "code",
   "execution_count": 6,
   "id": "4f3daa90",
   "metadata": {},
   "outputs": [
    {
     "data": {
      "text/plain": [
       "(255, 0, 0, 255)"
      ]
     },
     "execution_count": 6,
     "metadata": {},
     "output_type": "execute_result"
    }
   ],
   "source": [
    "from PIL import ImageColor\n",
    "ImageColor.getcolor('red', 'RGBA')"
   ]
  },
  {
   "cell_type": "markdown",
   "id": "c725c710",
   "metadata": {},
   "source": [
    "From the above illustration we can see that to get RGBA value of any image from the Pillow module, ImageColor.getColor() function has been used. Pillow offers this function so that we dont need to memorize RGBA values of the colours we want to use.  This function takes a colur string name as its first argument and \"RGBA\" string as its second argument and returns a RGBA tuple."
   ]
  },
  {
   "cell_type": "markdown",
   "id": "ba577dac",
   "metadata": {},
   "source": [
    "3. What is a box tuple, and how does it work?\n",
    "\n",
    "Many of Pillow's functions and methods take a box tuple argument. This means Pillow is expecting a tuple of four integer coordinates that represent a rectangular region in an image.\n",
    "\n",
    "Tuples are used to store multiple items in a single variable. Tuple is one of 4 built-in data types in Python used to store collections of data, the other 3 are List, Set, and Dictionary, all with different qualities and usage. A tuple is a collection which is ordered and unchangeable or immutable."
   ]
  },
  {
   "cell_type": "code",
   "execution_count": 13,
   "id": "bdb99b19",
   "metadata": {},
   "outputs": [
    {
     "name": "stdout",
     "output_type": "stream",
     "text": [
      "The width of the image is :  1920\n",
      "The height of the image is :  1280\n"
     ]
    }
   ],
   "source": [
    "#4. Use your image and load in notebook then, How can you find out the width and height of an Image object?\n",
    "\n",
    "try:\n",
    "    from PIL import Image\n",
    "    filepath = 'greek.jpg'\n",
    "    image2 = Image.open(filepath)\n",
    "    width = image2.width\n",
    "    height = image2.height\n",
    "    print('The width of the image is : ', width)\n",
    "    print('The height of the image is : ', height)\n",
    "except:\n",
    "    print('image file processing')\n",
    "\n"
   ]
  },
  {
   "cell_type": "markdown",
   "id": "cff9ee70",
   "metadata": {},
   "source": [
    "5. What method would you call to get Image object for a 100×100 image, excluding the lower-left quarter of it?\n",
    "\n",
    "To get Image object for a 100 x100 image, we can use NumPy and Pillow as it has been illustrated in the below example."
   ]
  },
  {
   "cell_type": "code",
   "execution_count": 29,
   "id": "ea3b1732",
   "metadata": {},
   "outputs": [],
   "source": [
    "try:\n",
    "    \n",
    "    import numpy\n",
    "    from PIL import Image\n",
    "\n",
    "    iarray = numpy.random.rand(100,100,3) * 255\n",
    "    im = Image.fromarray(iarray.astype('uint8')).convert('RGBA')\n",
    "    im.save('result_image.png')\n",
    "except:\n",
    "    print('image creation')"
   ]
  },
  {
   "cell_type": "code",
   "execution_count": 8,
   "id": "01be6398",
   "metadata": {},
   "outputs": [],
   "source": [
    "#6. After making changes to an Image object, how could you save it as an image file?\n",
    "\n",
    "from PIL import Image\n",
    "import PIL\n",
    "\n",
    "image1 = Image.open(r\"C:\\Users\\USER\\Desktop\\Miscellaneous\\waterfall.jpg\")\n",
    "image1 = image1.save('greek.jpg')"
   ]
  },
  {
   "cell_type": "markdown",
   "id": "940c2964",
   "metadata": {},
   "source": [
    "7. What module contains Pillow’s shape-drawing code?\n",
    "\n",
    "ImageDraw module of the Python image processing library Pillow (PIL) provides many methods for drawing figures, such as : circles, squares, and straight lines."
   ]
  },
  {
   "cell_type": "markdown",
   "id": "6f73f4b6",
   "metadata": {},
   "source": [
    "8. Image objects do not have drawing methods. What kind of object does? How do you get this kind of object?\n",
    "\n",
    "Thed kind of object which have drawing methods are circles, rectangles, ellipse, squares, straight lines.\n",
    "\n",
    "ImageDraw module of the Python image processing library Pillow (PIL) provides many methods for drawing figures, such as circles, squares, and straight lines.\n",
    "Below is the illustration to draw an ellipse with ImageDraw module of Python image pricessing library Pillow(PIL)."
   ]
  },
  {
   "cell_type": "code",
   "execution_count": 30,
   "id": "df44263f",
   "metadata": {},
   "outputs": [],
   "source": [
    "try:\n",
    "    from PIL import Image, ImageDraw\n",
    "\n",
    "    ima = Image.new('RGB', (500, 300), (128, 128, 128))\n",
    "    draw = ImageDraw.Draw(ima)\n",
    "\n",
    "    draw.ellipse((100, 100, 150, 200), fill=(255, 0, 0), outline=(0, 0, 0))\n",
    "except:\n",
    "    print('exception handling')"
   ]
  },
  {
   "cell_type": "markdown",
   "id": "9afb631f",
   "metadata": {},
   "source": [
    "The wand.drawing module provides some basic drawing functions. wand.drawing.Drawing object buffers instructions for drawing shapes into images, and then it can draw these shapes into zero or more images.\n",
    "\n",
    "Syntax : with Drawing() as draw:"
   ]
  }
 ],
 "metadata": {
  "kernelspec": {
   "display_name": "Python 3 (ipykernel)",
   "language": "python",
   "name": "python3"
  },
  "language_info": {
   "codemirror_mode": {
    "name": "ipython",
    "version": 3
   },
   "file_extension": ".py",
   "mimetype": "text/x-python",
   "name": "python",
   "nbconvert_exporter": "python",
   "pygments_lexer": "ipython3",
   "version": "3.9.7"
  }
 },
 "nbformat": 4,
 "nbformat_minor": 5
}
