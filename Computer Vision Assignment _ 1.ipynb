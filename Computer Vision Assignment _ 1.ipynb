{
 "cells": [
  {
   "cell_type": "markdown",
   "id": "84dda55e",
   "metadata": {},
   "source": [
    "1.What exactly is a feature?\n",
    "\n",
    "In computer vision, a feature is a measurable piece of data in your image which is unique to this specific object. It may be a distinct color in an image or a specific shape such as a line, edge, or an image segment. A good feature is used to distinguish objects from one another."
   ]
  },
  {
   "cell_type": "markdown",
   "id": "0f138a33",
   "metadata": {},
   "source": [
    "2.For a top edge detector, write out the convolutional kernel matrix.\n",
    "\n",
    "In image processing, a kernel, convolution matrix, or mask is a small matrix used for blurring, sharpening, embossing, edge detection, and more. This is accomplished by doing a convolution between the kernel and an image.\n",
    "The general expression of a convolution is\n",
    "                    a  b\n",
    "g(x,y)= ω * f(x,y)= Σ  Σ ω(dx, dy)f(x - dx, y - dy)\n",
    "                 dx=-a dy=-b\n",
    "where , g(x,y) is the filtered image, f(x,y)} is the original image,  ω  is the filter kernel. Every element of the filter kernel is considered by -a <=dx <=a and -b <= dy <= b. \n",
    "\n",
    "The origin is the position of the kernel which is above (conceptually) the current output pixel. This could be outside of the actual kernel, though usually it corresponds to one of the kernel elements. For a symmetric kernel, the origin is usually the center element.\n",
    "Convolution is the process of adding each element of the image to its local neighbors, weighted by the kernel. This is related to a form of mathematical convolution. The matrix operation being performed—convolution—is not traditional matrix multiplication, despite being similarly denoted by *."
   ]
  },
  {
   "cell_type": "markdown",
   "id": "6fdb7660",
   "metadata": {},
   "source": [
    "3.Describe the mathematical operation that a 3x3 kernel performs on a single pixel in an image.\n",
    "\n",
    "A convolution is done by multiplying a pixel’s and its neighboring pixels color value by a matrix\n",
    "Kernel: A kernel is a (usually) small matrix of numbers that is used in image convolutions.\n",
    "Differently sized kernels containing different patterns of numbers produce different results under convolution.\n",
    "The size of a kernel is arbitrary but 3x3 is often used.\n",
    "\n",
    "Example kernel:\n",
    "\n",
    "0 1 0\n",
    "1 1 1\n",
    "0 1 0\n",
    "\n",
    "Convolution Formula :\n",
    "      q   q\n",
    "V = | Σ ( Σf ij d ij) | / |F|\n",
    "     i=1  j=1\n",
    "\n",
    "where, fij = the coefficient of convolution kernel at position i,j\n",
    "       dij = the data value of the pixel that corresponds to fij\n",
    "       q = the dimension of the kernel, assumption is on the basis of a square kernel (if q = 3 , the kernel is 3X3)\n",
    "       F = either the sum of the coefficients of the kernel is 1 or 0\n",
    "       V = the output of the pixel value"
   ]
  },
  {
   "cell_type": "markdown",
   "id": "3b268586",
   "metadata": {},
   "source": [
    "4.What is the significance of a convolutional kernel added to a 3x3 matrix of zeroes?\n",
    "\n",
    "The Convolution Matrix filter uses a first matrix which is the Image to be treated. The image is a bi-dimensional collection of pixels in rectangular coordinates. The used kernel depends on the effect you want.\n",
    "GIMP uses 5x5 or 3x3 matrices. We will consider only 3x3 matrices, they are the most used and they are enough for all effects you want. If all border values of a kernel are set to zero, then system will consider it as a 3x3 matrix.\n",
    "The filter studies successively every pixel of the image. For each of them, which we will call the “initial pixel”, it multiplies the value of this pixel and values of the 8 surrounding pixels by the kernel corresponding value. Then it adds the results, and the initial pixel is set to this final result value.\n",
    "\n",
    "A simple example is given below:\n",
    "\n",
    "35 36 37 38 39\n",
    "\n",
    "40 41 42 43 44         0 1 0\n",
    "\n",
    "45 46 47 48 49   = >   0 0 0    = 42\n",
    "\n",
    "50 51 52 53 54         0 0 0\n",
    "\n",
    "55 56 67 68 69\n",
    "\n",
    "\n",
    "On the left is the image matrix: each pixel is marked with its value. The initial pixel has a red border. The kernel action area has a green border. In the middle is the kernel and, on the right is the convolution result.\n",
    "Here is what happened: the filter read successively, from left to right and from top to bottom, all the pixels of the kernel action area. It multiplied the value of each of them by the kernel corresponding value and added results. The initial pixel has become 42: (40 * 0)+(42 * 1)+(46*0) + (46 * 0)+(50 * 0)+(55 * 0) + (52* 0)+(56*0)+(58*0) = 42. (the filter doesn't work on the image but on a copy). As a graphical result, the initial pixel moved a pixel downwards"
   ]
  },
  {
   "cell_type": "markdown",
   "id": "c13814eb",
   "metadata": {},
   "source": [
    "5.What exactly is padding?\n",
    "\n",
    "Padding is a term relevant to convolutional neural networks as it refers to the amount of pixels added to an image when it is being processed by the kernel of a CNN. For example, if the padding in a CNN is set to zero, then every pixel value that is added will be of value zero."
   ]
  },
  {
   "cell_type": "markdown",
   "id": "ff07676c",
   "metadata": {},
   "source": [
    "6.What is the concept of stride?\n",
    "\n",
    "Stride is a component of convolutional neural networks, or neural networks tuned for the compression of images and video data. Stride is a parameter of the neural network's filter that modifies the amount of movement over the image or video."
   ]
  },
  {
   "cell_type": "markdown",
   "id": "c69d9bea",
   "metadata": {},
   "source": [
    "7.What are the shapes of PyTorch's 2D convolution's input and weight parameters?\n",
    "\n",
    "To perform convolution operation there is a function Conv2D in PyTorch.\n",
    "Below are the syntax and parameters of the Conv2D PyTorch function.\n",
    "\n",
    "Syntax of Conv2D\n",
    "torch.nn.Conv2d(in_channels: int, out_channels: int, kernel_size: Union[T, Tuple[T, T]], stride: Union[T, Tuple[T, T]] = 1, padding: Union[T, Tuple[T, T]] = 0, dilation: Union[T, Tuple[T, T]] = 1, groups: int = 1, bias: bool = True, padding_mode: str = 'zeros')\n",
    "Parameters :\n",
    "in_channels (int) – Number of channels in the input image\n",
    "out_channels (int) – Number of channels produced by the convolution\n",
    "kernel_size (int or tuple) – Size of the convolving kernel\n",
    "stride (int or tuple, optional) – Stride of the convolution. Default: 1\n",
    "padding (int or tuple, optional) – Zero-padding added to both sides of the input. Default: 0\n",
    "padding_mode (string, optional) – ‘zeros’, ‘reflect’, ‘replicate’ or ‘circular’. Default: ‘zeros’\n",
    "dilation (int or tuple, optional) – Spacing between kernel elements. Default: 1\n",
    "groups (int, optional) – Number of blocked connections from input channels to output channels. Default: 1\n",
    "bias (bool, optional) – If True, adds a learnable bias to the output. Default: True\n",
    "Example of using Conv2D in PyTorch\n",
    "Let us first import the required torch libraries as shown below.\n",
    "\n",
    "import torch \n",
    "import torch.nn as nn\n",
    "#We now create the instance of Conv2D function by passing the required parameters including square kernel size of 3×3 and #stride = 1. We then apply this convolution to randomly generated input data.\n",
    "In [2]:\n",
    "m = nn.Conv2d(2, 28, 3, stride=1)\n",
    "\n",
    "input = torch.randn(20, 2, 50, 50)\n",
    "\n",
    "output = m(input)"
   ]
  },
  {
   "cell_type": "markdown",
   "id": "27c27a13",
   "metadata": {},
   "source": [
    "8.What exactly is a channel?\n",
    "\n",
    "Typically, a channel refers to a certain component that defines pixel values in a digital image. A color image, for example is an aggregate of three channels (red, green and blue). The color data of an image is stored in three arrays of values, known as channels."
   ]
  },
  {
   "cell_type": "markdown",
   "id": "963a184b",
   "metadata": {},
   "source": [
    "9.Explain relationship between matrix multiplication and a convolution?\n",
    "\n",
    "Now to compute the convolution/correlation, we use matrix multiplication as a tool, just like we use variable multiplication for calculating variance or mean in 1 signal case. In multi dimension case(x,y,z,...) we use matrix usually instead of variables to make our computations easy(especially on computers).\n",
    "\n",
    "Now in frequency domain:\n",
    "\n",
    "For calculating, convolution, in time domain, we had to flip and then slide(slide means that each and every element of variable needs to be slided) which is computationally very expensive. Instead, in frequency domain, the same result as that of convolution is achieved just by multiplication and when our signal is in freq. domain, we simply multiply the signal(X)-which is matrix with Signal(Y), which is also a matrix.\n",
    "\n",
    "So, now we will be able to understand that, convolution is same as matrix multiplication(where matrix X and Y matrix of signal) but only in case of frequency domain."
   ]
  }
 ],
 "metadata": {
  "kernelspec": {
   "display_name": "Python 3 (ipykernel)",
   "language": "python",
   "name": "python3"
  },
  "language_info": {
   "codemirror_mode": {
    "name": "ipython",
    "version": 3
   },
   "file_extension": ".py",
   "mimetype": "text/x-python",
   "name": "python",
   "nbconvert_exporter": "python",
   "pygments_lexer": "ipython3",
   "version": "3.9.7"
  }
 },
 "nbformat": 4,
 "nbformat_minor": 5
}
