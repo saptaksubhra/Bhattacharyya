{
 "cells": [
  {
   "cell_type": "markdown",
   "id": "f2bd1ac6",
   "metadata": {},
   "source": [
    "1.Give an example of 3 events A, B, C which are pairwise independent but not independent.\n",
    "Hint: find an example where whether C occurs is completely determined if we know whether\n",
    "A occurred and whether B occurred, but completely undetermined if we know only one of\n",
    "these things.\n",
    "\n",
    "Let us consider two fair and independent coin tosses. Let A be the event that the first toss is Head, B be the event that the second toss is Head, and C be the event that the two tosses have the same result.\n",
    "\n",
    "Then A , B , C are dependent events since P(A inteersection B intersection C) = P(A intersection B) = P(A)P(B) = 1/4 not equal to 1/8 = P(A)P(B)P(C) but they are pairwise independent. Event A and event B are independent by definition. And A and C are independent because P(A intersection C) = P(A intersection B) = 1/4 = P(A)P(C).\n",
    "Similarly, event B and C are independent and mathematicaly we can say that, \n",
    "\n",
    "P(B intersection C) = P(A intersection B) = 1/4 = P(B)P(C)."
   ]
  },
  {
   "cell_type": "markdown",
   "id": "54261173",
   "metadata": {},
   "source": [
    "2.A bag contains one marble which is either green or blue, with equal probabilities. A green\n",
    "marble is put in the bag (so there are 2 marbles now), and then a random marble is taken\n",
    "out. The marble taken out is green. What is the probability that the remaining marble is also\n",
    "green?\n",
    "\n",
    "Let A be the event that the initial marble is green, B be the event that the taken marble is green, and C be the event that the remaining marble is green. We need to find P(C|B) as that is the the probablility that the remaining last marble in the bag is green also.\n",
    "\n",
    "So. mathematically, P(C|B) = P(C|B,A)P(A|B) + P(C|B,Aᶜ)P(Aᶜ|B) = 1 * P(A|B)+ 0 * P(Aᶜ|B).\n",
    "\n",
    "Now to find P(A|B) we use Bayes' rule:\n",
    "\n",
    "P(A|B) = P(B|A) P(A) / P(B) = 1/2 / (P(B|A)P(A) + P(B|Aᶜ)P(Aᶜ)) = 1/2 / (1/2 + 1/4) = 1/2 /3/4 = 2/3\n",
    "\n",
    "Therefore, P(C|B) = 2/3"
   ]
  }
 ],
 "metadata": {
  "kernelspec": {
   "display_name": "Python 3 (ipykernel)",
   "language": "python",
   "name": "python3"
  },
  "language_info": {
   "codemirror_mode": {
    "name": "ipython",
    "version": 3
   },
   "file_extension": ".py",
   "mimetype": "text/x-python",
   "name": "python",
   "nbconvert_exporter": "python",
   "pygments_lexer": "ipython3",
   "version": "3.9.7"
  }
 },
 "nbformat": 4,
 "nbformat_minor": 5
}
