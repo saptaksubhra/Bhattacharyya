{
 "cells": [
  {
   "cell_type": "markdown",
   "id": "3475829e",
   "metadata": {},
   "source": [
    "1.Create a function in python to read the text file and replace specific content of the file.\n",
    "\n",
    "File name : example.txt\n",
    "\n",
    "Origin file content : This is a placement assignment\n",
    "\n",
    "Replace string :Placement should be replaced by screening.\n",
    "\n",
    "Replaced file content : This is a screening assignment"
   ]
  },
  {
   "cell_type": "code",
   "execution_count": 9,
   "id": "5e6b463b",
   "metadata": {},
   "outputs": [
    {
     "name": "stdout",
     "output_type": "stream",
     "text": [
      "Please enter the text to be replaced : This is a placement assignment\n",
      "Please enter the replaced text : This is a screening assignment\n",
      "This is a screening assignment"
     ]
    }
   ],
   "source": [
    "try:\n",
    "    import sys\n",
    "    import fileinput\n",
    "    \n",
    "    a = input (\"Please enter the text to be replaced : \")\n",
    "    b = input (\"Please enter the replaced text : \")\n",
    "    \n",
    "    for i in fileinput.input(files = 'example.txt'):\n",
    "        i = i.replace(a , b)\n",
    "        sys.stdout.write(i)\n",
    "except:\n",
    "    print('Replacement of file text')"
   ]
  },
  {
   "cell_type": "markdown",
   "id": "fa7bc8ff",
   "metadata": {},
   "source": [
    "2.Demonstrate use of abstract class, multiple inheritance and decorator in python using examples."
   ]
  },
  {
   "cell_type": "markdown",
   "id": "90a3e56e",
   "metadata": {},
   "source": [
    "Abstract class in Python with examples : An abstract class can be defined as a blueprint for other classes. It allowes us to create a set of methods that must be created within any child classes built from the abstract class. An abstract class can also be defined as a class having one or more abstract methods. It has a declaration but does not have an application. An abstract class is used when designing larger functional units. By default, Python does not provide abstract classes. Python comes with a module that provides the base for defining Abstract Base classes(ABC) and that module name is ABC. ABC works by decorating methods of the base class as abstract and then registering concrete classes as implementations of the abstract base. A method becomes abstract when decorated with the keyword @abstractmethod.  Below is the illustration of Abstract class."
   ]
  },
  {
   "cell_type": "code",
   "execution_count": 5,
   "id": "d97ac3b2",
   "metadata": {},
   "outputs": [
    {
     "name": "stdout",
     "output_type": "stream",
     "text": [
      "It has 3 sides.\n",
      "It has 4 sides.\n",
      "It has 5 sides.\n",
      "It has 6 sides.\n"
     ]
    }
   ],
   "source": [
    "# Python programme demonstrating abstract base class\n",
    "try:\n",
    "    from abc import ABC, abstractmethod\n",
    "    class polygon(ABC):\n",
    "        @abstractmethod\n",
    "        def number_of_sides(self):\n",
    "            pass\n",
    "        \n",
    "    class triangle(polygon):\n",
    "        #overriding the abstract method\n",
    "        def number_of_sides(self):\n",
    "            print('It has 3 sides.')\n",
    "        \n",
    "    class quadrilateral(polygon):\n",
    "        #overriding abstract method\n",
    "        def number_of_sides(self):\n",
    "            print(\"It has 4 sides.\")\n",
    "            \n",
    "    class pentagon(polygon):\n",
    "        #overriding the abstract method\n",
    "        def number_of_sides(self):\n",
    "            print('It has 5 sides.')\n",
    "            \n",
    "        \n",
    "    class hexagon(polygon):\n",
    "        #overriding the abtsrcat method\n",
    "        def number_of_sides(self):\n",
    "            print('It has 6 sides.')\n",
    "        \n",
    "    #driver code\n",
    "    \n",
    "    t = triangle()\n",
    "    t.number_of_sides()\n",
    "    \n",
    "    q = quadrilateral()\n",
    "    q.number_of_sides()\n",
    "    \n",
    "    p = pentagon()\n",
    "    p.number_of_sides()\n",
    "    \n",
    "    h = hexagon()\n",
    "    h.number_of_sides()\n",
    "    \n",
    "except:\n",
    "    print('demonstration of abstract class')"
   ]
  },
  {
   "cell_type": "code",
   "execution_count": 7,
   "id": "01dd870e",
   "metadata": {},
   "outputs": [
    {
     "name": "stdout",
     "output_type": "stream",
     "text": [
      "Human being is the best creation of the almighty.\n",
      "It can live both in land and water.\n",
      "It can live on a mixed diet.\n"
     ]
    }
   ],
   "source": [
    "# python programme demonstrating abstract base class\n",
    "\n",
    "try:\n",
    "    from abc import ABC , abstractmethod\n",
    "    \n",
    "    class animal(ABC):\n",
    "        def movement(self):\n",
    "            pass\n",
    "        \n",
    "    class human(animal):\n",
    "        def movement(self):\n",
    "            print('Human being is the best creation of the almighty.')\n",
    "            \n",
    "    class reptile(animal):\n",
    "        def movment(self):\n",
    "            print(\"It can crawl.\")\n",
    "            \n",
    "    class amphibian(animal):\n",
    "        def movement(self):\n",
    "            print('It can live both in land and water.')\n",
    "            \n",
    "    class omnivorous(animal):\n",
    "        def movement(self):\n",
    "            print('It can live on a mixed diet.')\n",
    "            \n",
    "    # driver code\n",
    "    \n",
    "    h = human()\n",
    "    h.movement()\n",
    "    \n",
    "    r = reptile()\n",
    "    r.movement()\n",
    "    \n",
    "    a = amphibian()\n",
    "    a.movement()\n",
    "    \n",
    "    o = omnivorous()\n",
    "    o.movement()\n",
    "except:\n",
    "    print('The demonstration of abstract class')"
   ]
  },
  {
   "cell_type": "markdown",
   "id": "e6e30005",
   "metadata": {},
   "source": [
    "Multiple Inheritance : Inheritance is a process by which the child class inherits the property of the parent class. When a sub-class or child class is derived from more than one parent class or base class then it is called multiple inheritance. The derived class inherits all the properities of the base class."
   ]
  },
  {
   "cell_type": "code",
   "execution_count": 16,
   "id": "f100d8ab",
   "metadata": {},
   "outputs": [
    {
     "name": "stdout",
     "output_type": "stream",
     "text": [
      "This is child class1.\n"
     ]
    }
   ],
   "source": [
    "# The demonstration of multiple inheritance when the method is overridden in both child classes\n",
    "\n",
    "try:\n",
    "    class parent:\n",
    "        def method(self):\n",
    "            print('This is parent class.')\n",
    "            \n",
    "    class child_class1:\n",
    "        def method(self):\n",
    "            print('This is child class1.')\n",
    "            \n",
    "    class child_class2:\n",
    "        def method(self):\n",
    "            print('This is child class2.')\n",
    "            \n",
    "    class child_class3(child_class1, child_class2):\n",
    "        pass\n",
    "    \n",
    "    obj = child_class3()\n",
    "    obj.method()\n",
    "except:\n",
    "    print('Demonstration of Multiple Inheritance')\n",
    "        "
   ]
  },
  {
   "cell_type": "markdown",
   "id": "a941a76e",
   "metadata": {},
   "source": [
    "In the above example, when we call obj.method() then the output becomes 'This is child class1' and in this scenario, child_class3 has been declared as child_class3(child_class1, child_class2). But, if we declare child_class3 as child_class3(child_class2, child_class1) then the output will become \"This is child class2.'. This is depicted in the example below."
   ]
  },
  {
   "cell_type": "code",
   "execution_count": 17,
   "id": "a0cb8ae3",
   "metadata": {},
   "outputs": [
    {
     "name": "stdout",
     "output_type": "stream",
     "text": [
      "This is child class2.\n"
     ]
    }
   ],
   "source": [
    "try:\n",
    "    class parent:\n",
    "        def method(self):\n",
    "            print('This is parent class.')\n",
    "            \n",
    "    class child_class1:\n",
    "        def method(self):\n",
    "            print('This is child class1.')\n",
    "            \n",
    "    class child_class2:\n",
    "        def method(self):\n",
    "            print('This is child class2.')\n",
    "            \n",
    "    class child_class3(child_class2, child_class1):\n",
    "        pass\n",
    "    \n",
    "    obj= child_class3()\n",
    "    obj.method()\n",
    "except:\n",
    "    print('Demonstration of multiple inheritance')"
   ]
  },
  {
   "cell_type": "code",
   "execution_count": 20,
   "id": "6842ff47",
   "metadata": {},
   "outputs": [
    {
     "name": "stdout",
     "output_type": "stream",
     "text": [
      "This is child class1.\n"
     ]
    }
   ],
   "source": [
    "# The demonstration of multiple inheritance when the method is overridden in one of the child classes\n",
    "\n",
    "try:\n",
    "    class parent:\n",
    "        def method(self):\n",
    "            print('This is parent class.')\n",
    "            \n",
    "    class child_class1:\n",
    "        def method(self):\n",
    "            print('This is child class1.')\n",
    "            \n",
    "    class child_class2:\n",
    "        pass\n",
    "    \n",
    "    class child_class3(child_class2, child_class1):\n",
    "        pass\n",
    "    \n",
    "    obj = child_class3()\n",
    "    obj.method()\n",
    "except:\n",
    "    print('Demonstration of multiple inheritance')"
   ]
  },
  {
   "cell_type": "code",
   "execution_count": 23,
   "id": "0f281b59",
   "metadata": {},
   "outputs": [
    {
     "name": "stdout",
     "output_type": "stream",
     "text": [
      "This is child class3.\n",
      "This is child class1.\n",
      "This is child class2.\n",
      "This is parent class.\n"
     ]
    }
   ],
   "source": [
    "# Demonstration of multiple inheritance when every class defines the same method\n",
    "\n",
    "try:\n",
    "    class parent:\n",
    "        def method(self):\n",
    "            print('This is parent class.')\n",
    "            \n",
    "    class child_class1:\n",
    "        def method(self):\n",
    "            print('This is child class1.')\n",
    "            \n",
    "    class child_class2:\n",
    "        def method(self):\n",
    "            print('This is child class2.')\n",
    "            \n",
    "    class child_class3(child_class1, child_class2):\n",
    "        def method(self):\n",
    "            print('This is child class3.')\n",
    "            \n",
    "    obj = child_class3()\n",
    "    obj.method()\n",
    "    \n",
    "    child_class1.method(obj)\n",
    "    child_class2.method(obj)\n",
    "    parent.method(obj)\n",
    "except:\n",
    "    print('multiple inheritance')"
   ]
  },
  {
   "cell_type": "markdown",
   "id": "cf6f5ec0",
   "metadata": {},
   "source": [
    "Decorator ia a very useful and powerful tool which helps us in modifying the beahviour of function  or class. In decorators, function is taken as argument into another function and then called inside the wrapper function."
   ]
  },
  {
   "cell_type": "code",
   "execution_count": 30,
   "id": "2f4f4003",
   "metadata": {},
   "outputs": [
    {
     "name": "stdout",
     "output_type": "stream",
     "text": [
      "This is before execution of the function.\n",
      "This function is to be used inside the wrapper function.\n",
      "This after the execution of the function.\n"
     ]
    }
   ],
   "source": [
    "try:\n",
    "    # defining a decorator\n",
    "    def decorator(func):\n",
    "        def inner():\n",
    "            # inner is a wrapper function in which the argument is called\n",
    "            # inner function can have access to the outer function ' func'\n",
    "            print(\"This is before execution of the function.\")\n",
    "            \n",
    "            func()   # calling the actual function inside the wrapper function\n",
    "            \n",
    "            print(\"This after the execution of the function.\")\n",
    "            \n",
    "        return inner\n",
    "    def function_to_be_used():\n",
    "        #defining a function inside to be called inside wrapper function\n",
    "        print(\"This function is to be used inside the wrapper function.\")\n",
    "            \n",
    "        # passing function_to_be_used inside the decorator to control its behaviour\n",
    "        \n",
    "    function_to_be_used = decorator(function_to_be_used)\n",
    "        \n",
    "    # Now calling the function\n",
    "    function_to_be_used()\n",
    "except:\n",
    "    print('demonstration of decorator')"
   ]
  },
  {
   "cell_type": "code",
   "execution_count": null,
   "id": "5efd2033",
   "metadata": {},
   "outputs": [],
   "source": []
  }
 ],
 "metadata": {
  "kernelspec": {
   "display_name": "Python 3 (ipykernel)",
   "language": "python",
   "name": "python3"
  },
  "language_info": {
   "codemirror_mode": {
    "name": "ipython",
    "version": 3
   },
   "file_extension": ".py",
   "mimetype": "text/x-python",
   "name": "python",
   "nbconvert_exporter": "python",
   "pygments_lexer": "ipython3",
   "version": "3.9.7"
  }
 },
 "nbformat": 4,
 "nbformat_minor": 5
}
