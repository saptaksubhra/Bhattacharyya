{
 "cells": [
  {
   "cell_type": "markdown",
   "id": "5f9dc5ba",
   "metadata": {},
   "source": [
    "Q1. In Python 3.X, what are the names and functions of string object types?\n",
    "\n",
    "Method\t                     Description\n",
    "capitalize()\tConverts the first character to upper case\n",
    "casefold()\t    Converts string into lower case\n",
    "center()\t    Returns a centered string\n",
    "count()\t        Returns the number of times a specified value occurs in a string\n",
    "encode()\t    Returns an encoded version of the string\n",
    "endswith()\t    Returns true if the string ends with the specified value\n",
    "expandtabs()\tSets the tab size of the string\n",
    "find()\t        Searches the string for a specified value and returns the position of where it was found\n",
    "format()\t    Formats specified values in a string\n",
    "format_map()\tFormats specified values in a string\n",
    "index()\t        Searches the string for a specified value and returns the position of where it was found\n",
    "isalnum()\t    Returns True if all characters in the string are alphanumeric\n",
    "isalpha()\t    Returns True if all characters in the string are in the alphabet\n",
    "isascii()\t    Returns True if all characters in the string are ascii characters\n",
    "isdecimal()\t    Returns True if all characters in the string are decimals\n",
    "isdigit()\t    Returns True if all characters in the string are digits\n",
    "isidentifier()\tReturns True if the string is an identifier\n",
    "islower()\t    Returns True if all characters in the string are lower case\n",
    "isnumeric()\t    Returns True if all characters in the string are numeric\n",
    "isprintable()\tReturns True if all characters in the string are printable\n",
    "isspace()\t    Returns True if all characters in the string are whitespaces\n",
    "istitle()\t    Returns True if the string follows the rules of a title\n",
    "isupper()\t    Returns True if all characters in the string are upper case\n",
    "join()\t        Converts the elements of an iterable into a string\n",
    "ljust()\t        Returns a left justified version of the string\n",
    "lower()\t        Converts a string into lower case\n",
    "lstrip()\t    Returns a left trim version of the string\n",
    "maketrans()\t    Returns a translation table to be used in translations\n",
    "partition()   \tReturns a tuple where the string is parted into three parts\n",
    "replace()\t    Returns a string where a specified value is replaced with a specified value\n",
    "rfind()\t        Searches the string for a specified value and returns the last position of where it was found\n",
    "rindex()\t    Searches the string for a specified value and returns the last position of where it was found\n",
    "rjust()\t        Returns a right justified version of the string\n",
    "rpartition()\tReturns a tuple where the string is parted into three parts\n",
    "rsplit()\t    Splits the string at the specified separator, and returns a list\n",
    "rstrip()\t    Returns a right trim version of the string\n",
    "split()\t        Splits the string at the specified separator, and returns a list\n",
    "splitlines()\tSplits the string at line breaks and returns a list\n",
    "startswith()\tReturns true if the string starts with the specified value\n",
    "strip()\t        Returns a trimmed version of the string\n",
    "swapcase()\t    Swaps cases, lower case becomes upper case and upper case becomes lower case\n",
    "title()\t        Converts the first character of each word to upper case\n",
    "translate()\t    Returns a translated string\n",
    "upper()      \tConverts a string into upper case\n",
    "zfill()     \tFills the string with a specified number of 0 values at the beginning"
   ]
  },
  {
   "cell_type": "markdown",
   "id": "4009cf2e",
   "metadata": {},
   "source": [
    "Q2. How do the string forms in Python 3.X vary in terms of operations?\n",
    "\n",
    "The string forms in Python 3.X vary in terms of operations with the help of the below mentioned functions.\n",
    "\n",
    "upper():  This function converts all lowercase characters into uppercase of a given string.\n",
    "lower(): This function actually converts all uppercase chracters into lowercase characters of a given string.\n",
    "title(): this function converts the given string into a title case.\n"
   ]
  },
  {
   "cell_type": "code",
   "execution_count": 6,
   "id": "051ebaa9",
   "metadata": {},
   "outputs": [
    {
     "name": "stdout",
     "output_type": "stream",
     "text": [
      "\n",
      " Converted string is : \n",
      "TIT FOR TAT\n",
      "\n",
      " Converted string is : \n",
      "tit for tat\n",
      "\n",
      " Converted string is : \n",
      "Tit For Tat\n",
      "\n",
      " Original string is : \n",
      "Tit For Tat\n"
     ]
    }
   ],
   "source": [
    "# The variance in terms of opeartions of string forms in Python3.X with example\n",
    "\n",
    "string = \"Tit For Tat\"\n",
    "\n",
    "print(\"\\n Converted string is : \")\n",
    "print(string.upper())\n",
    "\n",
    "print(\"\\n Converted string is : \")\n",
    "print(string.lower())\n",
    "\n",
    "print(\"\\n Converted string is : \")\n",
    "print(string.title())\n",
    "\n",
    "print(\"\\n Original string is : \")\n",
    "print(string)"
   ]
  },
  {
   "cell_type": "markdown",
   "id": "6cee8f2b",
   "metadata": {},
   "source": [
    "Q3. In 3.X, how do you put non-ASCII Unicode characters in a string?\n",
    "\n",
    "In order to use non-ASCII Unicode characters, Python needs explicit encoding and decoding of strings into Unicode. In IBM SPSS Modeler, Python scripts are assumed to be encoded in UTF-8, which is a standard Unicode encoding that supports non-ASCII characters."
   ]
  },
  {
   "cell_type": "markdown",
   "id": "6b8695c5",
   "metadata": {},
   "source": [
    "Q4. In Python 3.X, what are the key differences between text-mode and binary-mode files?\n",
    "\n",
    "Bits represent character in case of text-mode file and bits represnt a custom data in case of binary-mode file. Text file can only store text in a file and binary file can story different types of data(Such as : Audio, text, image) in a single file. Mostly .txt and .rtf are used as extensions to text files. Binary filse can have any application defined extension. Text files are used to store data more user friendly. Binary files are used to store data more compactly. In the text file, a special character whose ASCII value is 26 inserted after the last character to mark the end of file. In the binary file no such character is present.\n"
   ]
  },
  {
   "cell_type": "markdown",
   "id": "c5c6a4b8",
   "metadata": {},
   "source": [
    "Q5. How can you interpret a Unicode text file containing text encoded in a different encoding than\n",
    "your platform's default?\n",
    "\n",
    "The key difference is that the default text processing behaviour in Python 3 aims to detect text encoding problems as soon as possible - either when reading improperly encoded text (indicated by UnicodeDecodeError) or when being asked to write out a text sequence that cannot be correctly represented in the target encoding (indicated by UnicodeEncodeError). Python 3 does provide a number of mechanisms for relaxing the default strict checks in order to handle various text processing use cases (in particular, use cases where “best effort” processing is acceptable, and strict correctness is not needed). "
   ]
  },
  {
   "cell_type": "markdown",
   "id": "b122064e",
   "metadata": {},
   "source": [
    "Q6. What is the best way to make a Unicode text file in a particular encoding format?\n",
    "\n",
    "We should use str.encode() and file.write() to make a unicode text file in aparticular encoding format.\n"
   ]
  },
  {
   "cell_type": "code",
   "execution_count": 2,
   "id": "e52f91ca",
   "metadata": {},
   "outputs": [
    {
     "name": "stdout",
     "output_type": "stream",
     "text": [
      "iNeuron\n"
     ]
    }
   ],
   "source": [
    "# The example of making a unicode text file in particluar encoding format\n",
    "\n",
    "UnicodeText = u'iNeuron'\n",
    "EncodedUnicode = UnicodeText.encode(\"utf8\")\n",
    "\n",
    "File = open(\"test20.txt\", \"wb\")\n",
    "\n",
    "File.write(EncodedUnicode)\n",
    "\n",
    "File = open(\"test20.txt\", \"r\")\n",
    "contents = File.read()\n",
    "\n",
    "print(contents)"
   ]
  },
  {
   "cell_type": "markdown",
   "id": "fc3d8db6",
   "metadata": {},
   "source": [
    "Q7. What qualifies ASCII text as a form of Unicode text?\n",
    "\n",
    "Unicode can be applied by different character encodings. The Unicode standard defines Unicode Transformation Formats (UTF): UTF-8, UTF-16, and UTF-32, and several other encodings. The most commonly used encodings are UTF-8, UTF-16, and the obsolete UCS-2. The first 128 Unicode code points represent the ASCII characters, which means that any ASCII text is also a UTF-8 text.\n",
    "UCS-2 uses two bytes (16 bits) for each character but can only encode the first 65,536 code points, the so-called Basic Multilingual Plane (BMP). "
   ]
  },
  {
   "cell_type": "markdown",
   "id": "eff7eafb",
   "metadata": {},
   "source": [
    "Q8. How much of an effect does the change in string types in Python 3.X have on your code?\n",
    "\n",
    "The effect of change in string data type in Python3.X in terms of our code are possible with several built-in functions. Strings can be manipulated and modified by built-in functions. Now, let us take some exmaples through which we can realise that how the built-in functions can change in string datatypes with respect to diiferent operations.\n"
   ]
  },
  {
   "cell_type": "code",
   "execution_count": 14,
   "id": "04bdedea",
   "metadata": {},
   "outputs": [
    {
     "name": "stdout",
     "output_type": "stream",
     "text": [
      "SACHIN TENDULKAR\n",
      "sachin tendulkar\n",
      "Sachin Tendulkar\n",
      "True\n",
      "S  a  c  h  i  n     T  e  n  d  u  l  k  a  r\n",
      "r  a  k  l  u  d  n  e  T     n  i  h  c  a  S\n",
      "['Sachin', 'Tendulkar']\n"
     ]
    }
   ],
   "source": [
    "str1 = \"Sachin Tendulkar\"\n",
    "print(str1.upper())\n",
    "print(str1.lower())\n",
    "print(str1.title())\n",
    "print(str1.istitle())\n",
    "print(\"  \".join(str1))\n",
    "print(\"  \".join(reversed(str1)))\n",
    "print(str1.split())"
   ]
  },
  {
   "cell_type": "code",
   "execution_count": 8,
   "id": "c250b161",
   "metadata": {},
   "outputs": [
    {
     "name": "stdout",
     "output_type": "stream",
     "text": [
      "True\n",
      "False\n"
     ]
    }
   ],
   "source": [
    "num = '43'\n",
    "word ='grammer'\n",
    "print(num.isnumeric())\n",
    "print(word.isnumeric())"
   ]
  },
  {
   "cell_type": "code",
   "execution_count": 10,
   "id": "2164ac4f",
   "metadata": {},
   "outputs": [
    {
     "data": {
      "text/plain": [
       "16"
      ]
     },
     "execution_count": 10,
     "metadata": {},
     "output_type": "execute_result"
    }
   ],
   "source": [
    "len(str1)"
   ]
  }
 ],
 "metadata": {
  "kernelspec": {
   "display_name": "Python 3 (ipykernel)",
   "language": "python",
   "name": "python3"
  },
  "language_info": {
   "codemirror_mode": {
    "name": "ipython",
    "version": 3
   },
   "file_extension": ".py",
   "mimetype": "text/x-python",
   "name": "python",
   "nbconvert_exporter": "python",
   "pygments_lexer": "ipython3",
   "version": "3.9.7"
  }
 },
 "nbformat": 4,
 "nbformat_minor": 5
}
