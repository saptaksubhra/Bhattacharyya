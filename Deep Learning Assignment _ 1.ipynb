{
 "cells": [
  {
   "cell_type": "markdown",
   "id": "3a9544e3",
   "metadata": {},
   "source": [
    "1.What is the function of a summation junction of a neuron? What is threshold activation function?\n",
    "\n",
    "A summation junction for the input signals is weighted by the respective synaptic weight. The function of it is to combine linear combiner of the weighted input signals.\n",
    "\n",
    "A threshold activation function (or simply the activation function, also known as squashing function) results in an output signal only when an input signal exceeding a specific threshold value comes as an input. It is similar in behaviour to the biological neuron which transmits the signal only when the total input signal meets the firing threshold."
   ]
  },
  {
   "cell_type": "markdown",
   "id": "505205f1",
   "metadata": {},
   "source": [
    "2.What is a step function? What is the difference of step function with threshold function?\n",
    "\n",
    "A step function is a function like that used by the original Perceptron. The output is a certain value, A1, if the input sum is above a certain threshold and A0 if the input sum is below a certain threshold. The values used by the Perceptron are A1 = 1 and A0 = 0.\n",
    "\n",
    "Binary step function is a threshold-based activation function which means after a certain threshold neuron is activated and below the said threshold neuron is deactivated whereas A step function is a function like that used by the original Perceptron. The output is a certain value, A1, if the input sum is above a certain threshold and A0 if the input sum is below a certain threshold."
   ]
  },
  {
   "cell_type": "markdown",
   "id": "61b008f8",
   "metadata": {},
   "source": [
    "3.Explain the McCulloch–Pitts model of neuron.\n",
    "\n",
    "This is simplified model of real neurons, known as Threshold Logic Unit. A set of synapsesc (i.e connections) brings the activations from the other neurons. A processing unit sums the inputs, the applies the non-linear activation funcation (i.e threshold / transfer function). A output line transmit the result to other neurons. The mcculloch pitts neuron model is extremely simplifield model of real biological neurons. some of its missing features includes: non-binary inputs-outputs, non-linear summation, smoothe thresholding , non-deterministic and tempory information processing.\n",
    "\n",
    "It is inspired by Biological Neural network.\n",
    "It allows only Binary Value(0,1).\n",
    "It has threshold function as activation function.\n",
    "It is first mathematical model of Biological Neuron"
   ]
  },
  {
   "cell_type": "markdown",
   "id": "c488602b",
   "metadata": {},
   "source": [
    "4.Explain the ADALINE network model.\n",
    "\n",
    "MADALINE (Many ADALINE) is a three-layer (input, hidden, output), fully connected, feed-forward artificial neural network architecture for classification that uses ADALINE units in its hidden and output layers, i.e. its activation function is the sign function. The three-layer network uses memistors."
   ]
  },
  {
   "cell_type": "markdown",
   "id": "6852ff4c",
   "metadata": {},
   "source": [
    "5.What is the constraint of a simple perceptron? Why it may fail with a real-world data set?\n",
    "\n",
    "A simple perceptron have the following constraints: First, the output values of a perceptron can take on only one of two values (0 or 1) because of the hard-limit transfer function. Second, perceptrons can only classify linearly separable sets of vectors. \n",
    "\n",
    "Perceptrons only represent linearly separable problems. Perceptron may fail with real-world dataset as they fail to converge if the training examples are not linearly separable."
   ]
  },
  {
   "cell_type": "markdown",
   "id": "07340940",
   "metadata": {},
   "source": [
    "6.What is linearly inseparable problem? What is the role of the hidden layer?\n",
    "\n",
    "Clearly not all decision problems are linearly separable: they cannot be solved using a linear decision boundary. Problems like these are termed linearly inseparable. For example, XOR is a lineraly inseparable problem.\n",
    "\n",
    "A hidden layer in an artificial neural network is a layer in between input layers and output layers, where artificial neurons take in a set of weighted inputs and produce an output through an activation function."
   ]
  },
  {
   "cell_type": "markdown",
   "id": "75993146",
   "metadata": {},
   "source": [
    "7.Explain XOR problem in case of a simple perceptron.\n",
    "\n",
    "A \"single-layer\" perceptron can't apply XOR. The reason is because the classes in XOR are not linearly separable. We cannot draw a straight line to separate the points (0,0),(1,1) from the points (0,1),(1,0). This led to invention of multi-layer networks."
   ]
  },
  {
   "cell_type": "markdown",
   "id": "97c17ebc",
   "metadata": {},
   "source": [
    "8.Design a multi-layer perceptron to implement A XOR B.\n",
    "\n",
    "The truth table for a two-input XOR-Gate is given below:\n",
    "\n",
    "x1\tx2\ty\n",
    "0\t0\t0\n",
    "0\t1\t1\n",
    "1\t0\t1\n",
    "1\t1\t0\n",
    "\n",
    "Let's desiogn  a multi-layer perceptron to implement A XOR B by using Python"
   ]
  },
  {
   "cell_type": "code",
   "execution_count": 8,
   "id": "4eb26b12",
   "metadata": {},
   "outputs": [
    {
     "name": "stdout",
     "output_type": "stream",
     "text": [
      "XOR(0, 0) = 0\n",
      "XOR(0, 1) = 1\n",
      "XOR(1, 0) = 1\n",
      "XOR(1, 1) = 0\n"
     ]
    }
   ],
   "source": [
    "import numpy as np\n",
    "  \n",
    "# define Unit Step Function\n",
    "def unitStep(v):\n",
    "    if v >= 0:\n",
    "        return 1\n",
    "    else:\n",
    "        return 0\n",
    "#design Perceptron Model\n",
    "def perceptronModel(x, w, b):\n",
    "    v = np.dot(w, x) + b\n",
    "    y = unitStep(v)\n",
    "    return y\n",
    "  \n",
    "# NOT Logic Function\n",
    "# wNOT = -1, bNOT = 0.5\n",
    "def NOT_logicFunction(x):\n",
    "    wNOT = -1\n",
    "    bNOT = 0.5\n",
    "    return perceptronModel(x, wNOT, bNOT)\n",
    "  \n",
    "# AND Logic Function\n",
    "# here w1 = wAND1 = 1, \n",
    "# w2 = wAND2 = 1, bAND = -1.5\n",
    "def AND_logicFunction(x):\n",
    "    w = np.array([1, 1])\n",
    "    bAND = -1.5\n",
    "    return perceptronModel(x, w, bAND)\n",
    "  \n",
    "# OR Logic Function\n",
    "# w1 = 1, w2 = 1, bOR = -0.5\n",
    "def OR_logicFunction(x):\n",
    "    w = np.array([1, 1])\n",
    "    bOR = -0.5\n",
    "    return perceptronModel(x, w, bOR)\n",
    "  \n",
    "# XOR Logic Function\n",
    "# with AND, OR and NOT  \n",
    "# function calls in sequence\n",
    "def XOR_logicFunction(x):\n",
    "    y1 = AND_logicFunction(x)\n",
    "    y2 = OR_logicFunction(x)\n",
    "    y3 = NOT_logicFunction(y1)\n",
    "    final_x = np.array([y2, y3])\n",
    "    finalOutput = AND_logicFunction(final_x)\n",
    "    return finalOutput\n",
    "  \n",
    "# testing the Perceptron Model\n",
    "test1 = np.array([0, 0])\n",
    "test2 = np.array([0, 1])\n",
    "test3 = np.array([1, 0])\n",
    "test4 = np.array([1, 1])\n",
    "  \n",
    "print(\"XOR({}, {}) = {}\".format(0, 0, XOR_logicFunction(test1)))\n",
    "print(\"XOR({}, {}) = {}\".format(0, 1, XOR_logicFunction(test2)))\n",
    "print(\"XOR({}, {}) = {}\".format(1, 0, XOR_logicFunction(test3)))\n",
    "print(\"XOR({}, {}) = {}\".format(1, 1, XOR_logicFunction(test4)))"
   ]
  },
  {
   "cell_type": "markdown",
   "id": "2dd31766",
   "metadata": {},
   "source": [
    "9.Explain the single-layer feed forward architecture of ANN.\n",
    "\n",
    "In this type of network, we have only two layers input layer and output layer but the input layer does not count because no computation is performed in this layer. The output layer is formed when different weights are applied on input nodes and the cumulative effect per node is taken."
   ]
  },
  {
   "cell_type": "markdown",
   "id": "16644347",
   "metadata": {},
   "source": [
    "10.Explain the competitive network architecture of ANN.\n",
    "\n",
    "An Artificial Neural Network (ANN) is an information processing paradigm that is inspired by the brain. ANNs, like people, learn by examples. An ANN is configured for a specific application, such as pattern recognition or data classification, through a learning process. Learning largely involves adjustments to the synaptic connections that exist between the neurons. "
   ]
  },
  {
   "cell_type": "markdown",
   "id": "c8e66d1b",
   "metadata": {},
   "source": [
    "11.Consider a multi-layer feed forward neural network. Enumerate and explain steps in the backpropagation algorithm used to train the network.\n",
    "\n",
    "We can consider a Neural Network: It contains the following:\n",
    "\n",
    "two inputs\n",
    "two hidden neurons\n",
    "two output neurons\n",
    "two biases\n",
    "\n",
    "The steps are mentioned below in Backpropagation.\n",
    "Step — 1: Forward Propagation : We will start by propagating forward. We will repeat this process for the output layer neurons, using the output from the hidden layer neurons as inputs. \n",
    "Step — 2: Backward Propagation : Now, we will propagate backwards. This way we will try to reduce the error by changing the values of weights and biases.\n",
    "Step — 3: Putting all the values together and calculating the updated weight value : Now, let’s put all the values together.\n",
    "Similarly, we can calculate the other weight values as well.\n",
    "After that we will again propagate forward and calculate the output. Again, we will calculate the error.\n",
    "If the error is minimum we will stop right there, else we will again propagate backwards and update the weight values.\n",
    "This process will keep on repeating until error becomes minimum."
   ]
  },
  {
   "cell_type": "markdown",
   "id": "9bdf0676",
   "metadata": {},
   "source": [
    "12.What are the advantages and disadvantages of neural networks?\n",
    "\n",
    "Advantages : \n",
    "Having fault tolerance , Having a distributed memory, Gradual Corruption, ability to make machine learning, Storing up information on the entire network, ability to work with the incomplete knowledge, parallel processing capability.\n",
    "\n",
    "Disadvantages: \n",
    " Hardware dependence, Determination of proper network structure,  Unexplained behavior of the network, Difficulty of showing the problem to the network, The unkwon duration of the network."
   ]
  },
  {
   "cell_type": "markdown",
   "id": "92c6f028",
   "metadata": {},
   "source": [
    "13.Write short notes on any two of the following:\n",
    "\n",
    "1.Biological neuron : In the biological systems, a neuron is a cell just like any other cell of the body, which has a DNA code and is generated in the same way as the other cells. Though it might have different DNA, the function is similar in all the organisms. Biological neuron models, also known as a spiking neuron models, are mathematical descriptions of the properties of certain cells in the nervous system that generate sharp electrical potentials across their cell membrane, roughly one millisecond in duration, called action potentials or spikes.\n",
    "\n",
    "2.ReLU function : ReLU stands for rectified linear activation unit and is considered one of the few milestones in the deep learning revolution. It is simple yet really better than its predecessor activation functions such as sigmoid or tanh. ReLU activation function formula : f(x)=max(0,x)\n",
    "ReLU function is its derivative both are monotonic. The function returns 0 if it receives any negative input, but for any positive value x, it returns that value back. Thus it gives an output that has a range from 0 to infinity. Now, let's see how Relu function works by giving some inputs  to the ReLU activation function and see how it transforms them and then we will plot them also. ReLU is used as a default activation function and nowadays and it is the most commonly used activation function in neural networks, especially in CNNs.\n",
    "\n",
    "\n",
    "3.Single-layer feed forward ANN\n",
    "4.Gradient descent\n",
    "5.Recurrent networks"
   ]
  },
  {
   "cell_type": "code",
   "execution_count": 1,
   "id": "75c0a9c2",
   "metadata": {},
   "outputs": [],
   "source": [
    "# Operation of ReLU function\n",
    "\n",
    "try:\n",
    "    def ReLU(x):\n",
    "        if x > 0:\n",
    "            return x\n",
    "        else:\n",
    "            return 0\n",
    "except:\n",
    "    print('ReLU function operation')"
   ]
  },
  {
   "cell_type": "code",
   "execution_count": 5,
   "id": "9cc9395a",
   "metadata": {},
   "outputs": [
    {
     "data": {
      "image/png": "[encoded data removed]",
      "text/plain": [
       "<Figure size 432x288 with 1 Axes>"
      ]
     },
     "metadata": {},
     "output_type": "display_data"
    }
   ],
   "source": [
    "# Now, we store numbers from -16 to 16 in a list called input_series and next we apply ReLU to all these numbers and plot them\n",
    "\n",
    "try:\n",
    "    from matplotlib import pyplot\n",
    "    pyplot.style.use('ggplot')\n",
    "    input_series = [x for x in range(-16,16)]\n",
    "    output_series = [ReLU(x) for x in input_series]\n",
    "    pyplot.plot(input_series, output_series)\n",
    "    pyplot.show()\n",
    "except:\n",
    "    print('actual implementaion of ReLU function')"
   ]
  }
 ],
 "metadata": {
  "kernelspec": {
   "display_name": "Python 3 (ipykernel)",
   "language": "python",
   "name": "python3"
  },
  "language_info": {
   "codemirror_mode": {
    "name": "ipython",
    "version": 3
   },
   "file_extension": ".py",
   "mimetype": "text/x-python",
   "name": "python",
   "nbconvert_exporter": "python",
   "pygments_lexer": "ipython3",
   "version": "3.9.7"
  }
 },
 "nbformat": 4,
 "nbformat_minor": 5
}
