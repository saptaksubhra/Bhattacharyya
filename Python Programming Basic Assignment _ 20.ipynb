{
 "cells": [
  {
   "cell_type": "markdown",
   "id": "337c49f3",
   "metadata": {},
   "source": [
    "Question1\n",
    "Create a function that takes a list of strings and integers, and filters out the list so that it\n",
    "returns a list of integers only.\n",
    "Examples\n",
    "filter_list([1, 2, 3, \"a\", \"b\", 4]) ➞ [1, 2, 3, 4]\n",
    "filter_list([\"A\", 0, \"Edabit\", 1729, \"Python\", \"1729\"]) ➞ [0, 1729]\n",
    "filter_list([\"Nothing\", \"here\"]) ➞ []"
   ]
  },
  {
   "cell_type": "code",
   "execution_count": 3,
   "id": "c57450ea",
   "metadata": {},
   "outputs": [
    {
     "name": "stdout",
     "output_type": "stream",
     "text": [
      "[1, 2, 3, 4]\n"
     ]
    }
   ],
   "source": [
    "try:\n",
    "    L1= [1,2,3,\"a\",\"b\",4]\n",
    "    def filter_list(L1):\n",
    "        New_List = []\n",
    "        for i in L1:\n",
    "            if type(i) == int:\n",
    "                New_List.append(i)\n",
    "        return New_List\n",
    "    print(filter_list(L1))\n",
    "except:\n",
    "    print(\"List operation\")"
   ]
  },
  {
   "cell_type": "code",
   "execution_count": 9,
   "id": "6003fe6d",
   "metadata": {},
   "outputs": [
    {
     "name": "stdout",
     "output_type": "stream",
     "text": [
      "[0, 1729]\n"
     ]
    }
   ],
   "source": [
    "try:\n",
    "    L2= [\"A\", 0, \"Edabit\", 1729, \"Python\", \"1729\"]\n",
    "    def filter_list(L2):\n",
    "        New_List = []\n",
    "        for i in L2:\n",
    "            if type(i) == int:\n",
    "                New_List.append(i)\n",
    "        return New_List\n",
    "    print(filter_list(L2))\n",
    "except:\n",
    "    print(\"List operation\")"
   ]
  },
  {
   "cell_type": "code",
   "execution_count": 10,
   "id": "b30540e0",
   "metadata": {},
   "outputs": [
    {
     "name": "stdout",
     "output_type": "stream",
     "text": [
      "[]\n"
     ]
    }
   ],
   "source": [
    "try:\n",
    "    L3 = [\"Nothing \", \"here\"]\n",
    "    def filter_list(L3):\n",
    "        New_List = []\n",
    "        for i in L3:\n",
    "            if type(i) == int:\n",
    "                New_List.append(i)\n",
    "        return New_List\n",
    "    print(filter_list(L3))\n",
    "except:\n",
    "    print('List Operation')"
   ]
  },
  {
   "cell_type": "markdown",
   "id": "d503bd76",
   "metadata": {},
   "source": [
    "Question2\n",
    "Given a list of numbers, create a function which returns the list but with each element's\n",
    "index in the list added to itself. This means you add 0 to the number at index 0, add 1 to the\n",
    "number at index 1, etc...\n",
    "Examples\n",
    "add_indexes([0, 0, 0, 0, 0]) ➞ [0, 1, 2, 3, 4]\n",
    "add_indexes([1, 2, 3, 4, 5]) ➞ [1, 3, 5, 7, 9]\n",
    "add_indexes([5, 4, 3, 2, 1]) ➞ [5, 5, 5, 5, 5]"
   ]
  },
  {
   "cell_type": "code",
   "execution_count": 3,
   "id": "467cc1b9",
   "metadata": {},
   "outputs": [
    {
     "name": "stdout",
     "output_type": "stream",
     "text": [
      "Final list is :  [1, 3, 5, 7, 9]\n"
     ]
    }
   ],
   "source": [
    "try:\n",
    "    def add_indexes(l, ind):\n",
    "        resultant = []\n",
    "        for ele1, ele2 in zip(l, ind):\n",
    "            resultant.append(ele1 + ele2)\n",
    "        return resultant\n",
    "    if __name__ == '__main__':\n",
    "        l = [1,2,3,4,5]\n",
    "        ind = [0,1,2,3,4]\n",
    "    print('Final list is : ', add_indexes(l, ind))\n",
    "except:\n",
    "    print('list operation')"
   ]
  },
  {
   "cell_type": "code",
   "execution_count": 4,
   "id": "a124ce6d",
   "metadata": {},
   "outputs": [
    {
     "name": "stdout",
     "output_type": "stream",
     "text": [
      "Final list is :  [0, 1, 2, 3, 4]\n"
     ]
    }
   ],
   "source": [
    "try:\n",
    "    def add_indexes(l, ind):\n",
    "        resultant = []\n",
    "        for ele1, ele2 in zip(l, ind):\n",
    "            resultant.append(ele1 + ele2)\n",
    "        return resultant\n",
    "    if __name__ == '__main__':\n",
    "        l = [0,0,0,0,0]\n",
    "        ind = [0,1,2,3,4]\n",
    "    print('Final list is : ', add_indexes(l, ind))\n",
    "except:\n",
    "    print('list operation')"
   ]
  },
  {
   "cell_type": "code",
   "execution_count": 5,
   "id": "171ee0e9",
   "metadata": {},
   "outputs": [
    {
     "name": "stdout",
     "output_type": "stream",
     "text": [
      "Final list is :  [5, 5, 5, 5, 5]\n"
     ]
    }
   ],
   "source": [
    "try:\n",
    "    def add_indexes(l, ind):\n",
    "        resultant = []\n",
    "        for ele1, ele2 in zip(l, ind):\n",
    "            resultant.append(ele1 + ele2)\n",
    "        return resultant\n",
    "    if __name__ == '__main__':\n",
    "        l = [5,4,3,2,1]\n",
    "        ind = [0,1,2,3,4]\n",
    "    print('Final list is : ', add_indexes(l, ind))\n",
    "except:\n",
    "    print('list operation')"
   ]
  },
  {
   "cell_type": "markdown",
   "id": "c4763ac7",
   "metadata": {},
   "source": [
    "Question3\n",
    "Create a function that takes the height and radius of a cone as arguments and returns the\n",
    "volume of the cone rounded to the nearest hundredth. See the resources tab for the formula.\n",
    "\n",
    "Examples\n",
    "cone_volume(2,3) ➞ 12.57\n",
    "\n",
    "cone_volume(6,15) ➞ 565.49\n",
    "cone_volume(0,18) ➞ 0"
   ]
  },
  {
   "cell_type": "code",
   "execution_count": 18,
   "id": "a351b93f",
   "metadata": {},
   "outputs": [
    {
     "name": "stdout",
     "output_type": "stream",
     "text": [
      "Please enter the radius : 6\n",
      "Please enter the height : 15\n",
      "Volume of cone is 565.49 \n"
     ]
    }
   ],
   "source": [
    "try:\n",
    "    import math\n",
    "    pi = math.pi\n",
    "    \n",
    "    def cone_volume(r, h):\n",
    "        return (1/3)* pi *r * r * h\n",
    "    \n",
    "    r = int(input(\"Please enter the radius : \"))\n",
    "    h = int(input(\"Please enter the height : \"))\n",
    "    \n",
    "    \n",
    "    \n",
    "    print(\"Volume of cone is {:0.2f} \" .format(cone_volume(r, h)))\n",
    "except:\n",
    "    print(\"Volume of a Cone\")"
   ]
  },
  {
   "cell_type": "code",
   "execution_count": 16,
   "id": "24889780",
   "metadata": {},
   "outputs": [
    {
     "name": "stdout",
     "output_type": "stream",
     "text": [
      "Please enter the radius : 2\n",
      "Please enter the height : 3\n",
      "Volume of cone is 12.57 \n"
     ]
    }
   ],
   "source": [
    "try:\n",
    "    import math\n",
    "    pi = math.pi\n",
    "    \n",
    "    def cone_volume(r, h):\n",
    "        return (1/3)* pi *r * r * h\n",
    "    \n",
    "    r = int(input(\"Please enter the radius : \"))\n",
    "    h = int(input(\"Please enter the height : \"))\n",
    "    \n",
    "    \n",
    "    \n",
    "    print(\"Volume of cone is {:0.2f} \" .format(cone_volume(r, h)))\n",
    "except:\n",
    "    print(\"Volume of a Cone\")"
   ]
  },
  {
   "cell_type": "markdown",
   "id": "e788946a",
   "metadata": {},
   "source": [
    "Question4\n",
    "This Triangular Number Sequence is generated from a pattern of dots that form a triangle.\n",
    "The first 5 numbers of the sequence, or dots, are:\n",
    "1, 3, 6, 10, 15\n",
    "This means that the first triangle has just one dot, the second one has three dots, the third one\n",
    "has 6 dots and so on.\n",
    "Write a function that gives the number of dots with its corresponding triangle number of the\n",
    "sequence.\n",
    "Examples\n",
    "triangle(1) ➞ 1\n",
    "triangle(6) ➞ 21\n",
    "triangle(215) ➞ 23220"
   ]
  },
  {
   "cell_type": "code",
   "execution_count": 33,
   "id": "de616f89",
   "metadata": {},
   "outputs": [
    {
     "name": "stdout",
     "output_type": "stream",
     "text": [
      "1  "
     ]
    }
   ],
   "source": [
    "try:\n",
    "    def triangle(n):\n",
    "        for i in range(1, n+1):\n",
    "            print(i*(i+1)//2, end = '  ')\n",
    "    n = 1\n",
    "    triangle(n)\n",
    "except:\n",
    "    print('Mission Triangle')"
   ]
  },
  {
   "cell_type": "code",
   "execution_count": 35,
   "id": "924da03f",
   "metadata": {},
   "outputs": [
    {
     "name": "stdout",
     "output_type": "stream",
     "text": [
      "1  3  6  10  15  21  "
     ]
    }
   ],
   "source": [
    "try:\n",
    "    def triangle(n):\n",
    "        for i in range(1, n+1):\n",
    "            print(i*(i+1)//2, end = \"  \")\n",
    "    n = 6\n",
    "    triangle(n)\n",
    "except:\n",
    "    print('Mission Triangle')"
   ]
  },
  {
   "cell_type": "code",
   "execution_count": 36,
   "id": "64c1c4ef",
   "metadata": {},
   "outputs": [
    {
     "name": "stdout",
     "output_type": "stream",
     "text": [
      "1  3  6  10  15  21  28  36  45  55  66  78  91  105  120  136  153  171  190  210  231  253  276  300  325  351  378  406  435  465  496  528  561  595  630  666  703  741  780  820  861  903  946  990  1035  1081  1128  1176  1225  1275  1326  1378  1431  1485  1540  1596  1653  1711  1770  1830  1891  1953  2016  2080  2145  2211  2278  2346  2415  2485  2556  2628  2701  2775  2850  2926  3003  3081  3160  3240  3321  3403  3486  3570  3655  3741  3828  3916  4005  4095  4186  4278  4371  4465  4560  4656  4753  4851  4950  5050  5151  5253  5356  5460  5565  5671  5778  5886  5995  6105  6216  6328  6441  6555  6670  6786  6903  7021  7140  7260  7381  7503  7626  7750  7875  8001  8128  8256  8385  8515  8646  8778  8911  9045  9180  9316  9453  9591  9730  9870  10011  10153  10296  10440  10585  10731  10878  11026  11175  11325  11476  11628  11781  11935  12090  12246  12403  12561  12720  12880  13041  13203  13366  13530  13695  13861  14028  14196  14365  14535  14706  14878  15051  15225  15400  15576  15753  15931  16110  16290  16471  16653  16836  17020  17205  17391  17578  17766  17955  18145  18336  18528  18721  18915  19110  19306  19503  19701  19900  20100  20301  20503  20706  20910  21115  21321  21528  21736  21945  22155  22366  22578  22791  23005  23220  "
     ]
    }
   ],
   "source": [
    "try:\n",
    "    def triangle(n):\n",
    "        for i in range(1, n+1):\n",
    "            print(i*(i+1)//2, end = \"  \")\n",
    "    n = 215\n",
    "    triangle(n)\n",
    "except:\n",
    "    print('Mission Triangle')"
   ]
  },
  {
   "cell_type": "markdown",
   "id": "ba322d0c",
   "metadata": {},
   "source": [
    "Question5\n",
    "Create a function that takes a list of numbers between 1 and 10 (excluding one number) and\n",
    "returns the missing number.\n",
    "Examples\n",
    "missing_num([1, 2, 3, 4, 6, 7, 8, 9, 10]) ➞ 5\n",
    "missing_num([7, 2, 3, 6, 5, 9, 1, 4, 8]) ➞ 10\n",
    "missing_num([10, 5, 1, 2, 4, 6, 8, 3, 9]) ➞ 7"
   ]
  },
  {
   "cell_type": "code",
   "execution_count": 20,
   "id": "2b5b9913",
   "metadata": {},
   "outputs": [
    {
     "name": "stdout",
     "output_type": "stream",
     "text": [
      "5.0\n"
     ]
    }
   ],
   "source": [
    "try:\n",
    "    def missing_num(a):\n",
    "        n = len(a)\n",
    "        tot = (n + 1)*(n + 2)/ 2\n",
    "        summation = sum(a)\n",
    "        return tot - summation\n",
    "    \n",
    "    a = [1,2,3,4,6,7,8,9,10]\n",
    "    missing = missing_num(a)\n",
    "    print(missing)\n",
    "except:\n",
    "    print('Tracing a missing')"
   ]
  },
  {
   "cell_type": "code",
   "execution_count": 21,
   "id": "66135dae",
   "metadata": {},
   "outputs": [
    {
     "name": "stdout",
     "output_type": "stream",
     "text": [
      "10.0\n"
     ]
    }
   ],
   "source": [
    "try:\n",
    "    def missing_num(a):\n",
    "        n = len(a)\n",
    "        tot = (n + 1)*(n + 2)/ 2\n",
    "        summation = sum(a)\n",
    "        return tot - summation\n",
    "    \n",
    "    a = [7, 2, 3, 6, 5, 9, 1, 4, 8]\n",
    "    missing = missing_num(a)\n",
    "    print(missing)\n",
    "except:\n",
    "    print('Tracing a missing')"
   ]
  },
  {
   "cell_type": "code",
   "execution_count": 22,
   "id": "1ca0cff4",
   "metadata": {},
   "outputs": [
    {
     "name": "stdout",
     "output_type": "stream",
     "text": [
      "7.0\n"
     ]
    }
   ],
   "source": [
    "try:\n",
    "    def missing_num(a):\n",
    "        n = len(a)\n",
    "        tot = (n+1)*(n+2)/2\n",
    "        summation = sum(a)\n",
    "        return tot - summation\n",
    "    a = [10, 5, 1, 2, 4, 6, 8, 3, 9]\n",
    "    missing = missing_num(a)\n",
    "    print(missing)\n",
    "except:\n",
    "    print('Tracing a mssing')"
   ]
  }
 ],
 "metadata": {
  "kernelspec": {
   "display_name": "Python 3 (ipykernel)",
   "language": "python",
   "name": "python3"
  },
  "language_info": {
   "codemirror_mode": {
    "name": "ipython",
    "version": 3
   },
   "file_extension": ".py",
   "mimetype": "text/x-python",
   "name": "python",
   "nbconvert_exporter": "python",
   "pygments_lexer": "ipython3",
   "version": "3.9.7"
  }
 },
 "nbformat": 4,
 "nbformat_minor": 5
}
