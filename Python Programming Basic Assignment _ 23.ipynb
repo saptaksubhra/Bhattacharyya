{
 "cells": [
  {
   "cell_type": "markdown",
   "id": "ff8a1ab8",
   "metadata": {},
   "source": [
    "Question 1\n",
    "Create a function that takes a number as an argument and returns True or False depending\n",
    "on whether the number is symmetrical or not. A number is symmetrical when it is the same as\n",
    "its reverse.\n",
    "Examples\n",
    "is_symmetrical(7227) ➞ True\n",
    "is_symmetrical(12567) ➞ False\n",
    "is_symmetrical(44444444) ➞ True\n",
    "is_symmetrical(9939) ➞ False\n",
    "is_symmetrical(1112111) ➞ True"
   ]
  },
  {
   "cell_type": "code",
   "execution_count": 1,
   "id": "9c3e5eb9",
   "metadata": {},
   "outputs": [
    {
     "name": "stdout",
     "output_type": "stream",
     "text": [
      "True\n",
      "False\n",
      "True\n",
      "False\n",
      "True\n"
     ]
    }
   ],
   "source": [
    "try:\n",
    "    def is_symmetrical(a):\n",
    "        return str(a) == str(a)[::-1]\n",
    "    print(is_symmetrical(7227))\n",
    "    print(is_symmetrical(12567))\n",
    "    print(is_symmetrical(44444444))\n",
    "    print(is_symmetrical(9939))\n",
    "    print(is_symmetrical(1112111))\n",
    "except:\n",
    "    print('symmetrical numbers')"
   ]
  },
  {
   "cell_type": "markdown",
   "id": "9a2180c5",
   "metadata": {},
   "source": [
    "Question 2\n",
    "Given a string of numbers separated by a comma and space, return the product of the\n",
    "numbers.\n",
    "Examples\n",
    "multiply_nums(\"2, 3\") ➞ 6\n",
    "multiply_nums(\"1, 2, 3, 4\") ➞ 24\n",
    "multiply_nums(\"54, 75, 453, 0\") ➞ 0\n",
    "multiply_nums(\"10, -2\") ➞ -20"
   ]
  },
  {
   "cell_type": "markdown",
   "id": "11efc908",
   "metadata": {},
   "source": [
    "Question 3\n",
    "Create a function that squares every digit of a number.\n",
    "\n",
    "Examples\n",
    "square_digits(9119) ➞ 811181\n",
    "square_digits(2483) ➞ 416649\n",
    "square_digits(3212) ➞ 9414\n",
    "Notes\n",
    "The function receives an integer and must return an integer."
   ]
  },
  {
   "cell_type": "code",
   "execution_count": 59,
   "id": "927baee9",
   "metadata": {},
   "outputs": [
    {
     "name": "stdout",
     "output_type": "stream",
     "text": [
      "811181\n"
     ]
    }
   ],
   "source": [
    "def square_digits(num):\n",
    "    num = str(num)\n",
    "    result = ''\n",
    "    for i in num:\n",
    "        result += str(int(i)**2)\n",
    "    return int(result)\n",
    "var = square_digits(9119)\n",
    "print(var)\n"
   ]
  },
  {
   "cell_type": "code",
   "execution_count": 60,
   "id": "faa731a5",
   "metadata": {},
   "outputs": [
    {
     "name": "stdout",
     "output_type": "stream",
     "text": [
      "416649\n"
     ]
    }
   ],
   "source": [
    "def square_digits(num):\n",
    "    num = str(num)\n",
    "    result = ''\n",
    "    for i in num:\n",
    "        result += str(int(i)**2)\n",
    "    return int(result)\n",
    "var = square_digits(2483)\n",
    "print(var)\n"
   ]
  },
  {
   "cell_type": "code",
   "execution_count": 62,
   "id": "a87b4464",
   "metadata": {},
   "outputs": [
    {
     "name": "stdout",
     "output_type": "stream",
     "text": [
      "9414\n"
     ]
    }
   ],
   "source": [
    "def square_digits(num):\n",
    "    num = str(num)\n",
    "    result = ''\n",
    "    for i in num:\n",
    "        result += str(int(i)**2)\n",
    "    return int(result)\n",
    "var = square_digits(3212)\n",
    "print(var)\n"
   ]
  },
  {
   "cell_type": "markdown",
   "id": "51855b66",
   "metadata": {},
   "source": [
    "Question 4\n",
    "Create a function that sorts a list and removes all duplicate items from it.\n",
    "Examples\n",
    "setify([1, 3, 3, 5, 5]) ➞ [1, 3, 5]\n",
    "setify([4, 4, 4, 4]) ➞ [4]\n",
    "setify([5, 7, 8, 9, 10, 15]) ➞ [5, 7, 8, 9, 10, 15]\n",
    "setify([3, 3, 3, 2, 1]) ➞ [1, 2, 3]"
   ]
  },
  {
   "cell_type": "code",
   "execution_count": 17,
   "id": "0adbfbf6",
   "metadata": {},
   "outputs": [
    {
     "name": "stdout",
     "output_type": "stream",
     "text": [
      "[1, 3, 5]\n"
     ]
    }
   ],
   "source": [
    "try:\n",
    "    def setify(n):\n",
    "        \n",
    "        return list(dict.fromkeys(n))\n",
    "\n",
    "    mylist = setify([1,3,3,5,5])\n",
    "\n",
    "    print(mylist)\n",
    "except:\n",
    "    print('list sorting')"
   ]
  },
  {
   "cell_type": "code",
   "execution_count": 18,
   "id": "a050935c",
   "metadata": {},
   "outputs": [
    {
     "name": "stdout",
     "output_type": "stream",
     "text": [
      "[4]\n"
     ]
    }
   ],
   "source": [
    "try:\n",
    "    def setify(n):\n",
    "        \n",
    "        return list(dict.fromkeys(n))\n",
    "\n",
    "    mylist = setify([4,4,4,4])\n",
    "\n",
    "    print(mylist)\n",
    "except:\n",
    "    print('list sorting')"
   ]
  },
  {
   "cell_type": "code",
   "execution_count": 19,
   "id": "0e489db7",
   "metadata": {},
   "outputs": [
    {
     "name": "stdout",
     "output_type": "stream",
     "text": [
      "[5, 7, 8, 9, 10, 15]\n"
     ]
    }
   ],
   "source": [
    "try:\n",
    "    def setify(n):\n",
    "        \n",
    "        return list(dict.fromkeys(n))\n",
    "\n",
    "    mylist = setify([5, 7, 8, 9, 10, 15])\n",
    "\n",
    "    print(mylist)\n",
    "except:\n",
    "    print('list sorting')"
   ]
  },
  {
   "cell_type": "markdown",
   "id": "a00589f1",
   "metadata": {},
   "source": [
    "Question 5\n",
    "Create a function that returns the mean of all digits.\n",
    "Examples\n",
    "mean(42) ➞ 3\n",
    "mean(12345) ➞ 3\n",
    "mean(666) ➞ 6\n",
    "Notes\n",
    " The mean of all digits is the sum of digits / how many digits there are (e.g. mean of digits in\n",
    "512 is (5+1+2)/3(number of digits) = 8/3=2).\n",
    " The mean will always be an integer."
   ]
  },
  {
   "cell_type": "code",
   "execution_count": 31,
   "id": "ac1b1f55",
   "metadata": {},
   "outputs": [
    {
     "name": "stdout",
     "output_type": "stream",
     "text": [
      "3.0\n"
     ]
    }
   ],
   "source": [
    "def average(*args):\n",
    "    return sum(args, 0.0) / len(args)\n",
    "print(average(*[1,2,3,4,5]))\n",
    "\n"
   ]
  },
  {
   "cell_type": "code",
   "execution_count": 32,
   "id": "730f9fc1",
   "metadata": {},
   "outputs": [
    {
     "name": "stdout",
     "output_type": "stream",
     "text": [
      "3.0\n"
     ]
    }
   ],
   "source": [
    "def average(*args):\n",
    "    return sum(args, 0.0) / len(args)\n",
    "print(average(*[4,2]))\n"
   ]
  },
  {
   "cell_type": "code",
   "execution_count": 33,
   "id": "eb717c5b",
   "metadata": {},
   "outputs": [
    {
     "name": "stdout",
     "output_type": "stream",
     "text": [
      "6.0\n"
     ]
    }
   ],
   "source": [
    "def average(*args):\n",
    "    return sum(args, 0.0) / len(args)\n",
    "print(average(*[6,6,6]))\n"
   ]
  }
 ],
 "metadata": {
  "kernelspec": {
   "display_name": "Python 3 (ipykernel)",
   "language": "python",
   "name": "python3"
  },
  "language_info": {
   "codemirror_mode": {
    "name": "ipython",
    "version": 3
   },
   "file_extension": ".py",
   "mimetype": "text/x-python",
   "name": "python",
   "nbconvert_exporter": "python",
   "pygments_lexer": "ipython3",
   "version": "3.9.7"
  }
 },
 "nbformat": 4,
 "nbformat_minor": 5
}
