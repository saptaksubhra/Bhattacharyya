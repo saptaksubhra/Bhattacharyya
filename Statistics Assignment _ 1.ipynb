{
 "cells": [
  {
   "cell_type": "markdown",
   "id": "f454aeda",
   "metadata": {},
   "source": [
    "1.Harvard Law School courses often have assigned seating to facilitate the “Socratic method.”\n",
    "Suppose that there are 100 first year Harvard Law students, and each takes two courses:\n",
    "Torts and Contracts. Both are held in the same lecture hall (which has 100 seats), and the\n",
    "seating is uniformly random and independent for the two courses.\n",
    "(a) Find the probability that no one has the same seat for both courses (exactly; you should\n",
    "leave your answer as a sum).\n",
    "(b) Find a simple but accurate approximation to the probability that no one has the same\n",
    "seat for both courses.\n",
    "(c) Find a simple but accurate approximation to the probability that at least two students\n",
    "have the same seat for both courses.\n",
    "\n",
    "\n",
    "(a) Here, the random variable X that marks the number students whichj take the same in both classes. If we denote with Si that ith student has the same seat then we have the following.\n",
    "P(X=0) = 1 - P(X>=1) = 1 - P(UiSi)\n",
    "Now, using the uncusion-exclusion formula and symmetry we have here,\n",
    "P(USi) = Σ(-1)^i-1(100)P(Intersection k =1 to i Sk)\n",
    "  i      i          i\n",
    "The probability that first i students sit on their seats is = (100-i)!/100!\n",
    "                                                  100\n",
    "Therefore, P(USi) = Σ(-1)^i-1(100)(100-i)!/100! = Σ   (-1)^i-1/i!\n",
    "             i      i          i                 i =1\n",
    "                         100             100\n",
    "Ultimately, P(X=0) = 1 - Σ (-1)^i-1/i! = Σ   (-1)i/i!\n",
    "                        i =1             i =0\n",
    "                        \n",
    "                                                                                          100\n",
    "(b) The indicator random variable = Ii which indicates if Sihas happenedthen we have  X = Σ Ii\n",
    "                                                                                          i =1\n",
    "We know that P(Ii) = 1/100 and the approximate value of P((Ii= 1) intersection(Ik =1)) = 1/100 x1/99 ~ (1/100)^2 = P(Ii=1).P(Ik=1).\n",
    "Now we can consider these as independent random variables. Then , we can approximate X with Poisson distribution with parameter λ = E(X) = 100 E(I1) = 1. Therefore, P(X=0) ~ 1^0 *e^-1/0!~ 1/e^1~ 1/2.71~0.369~ 0.37 (After rounding off).\n",
    " \n",
    "(c)  In this case, by using Poisson approximation we can obtain P(X>=2) = 1 - P(X=0) - P(X=1) ~ 1 - e^-1 - e^-1 = 1- 2e^-1 = 1 - 2/e^1 = 1 - 2/2.71 = 1-0.73 = 0.27"
   ]
  },
  {
   "cell_type": "markdown",
   "id": "39ac9c4a",
   "metadata": {},
   "source": [
    "2.There are 100 passengers lined up to board an airplane with 100 seats (with each seat\n",
    "assigned to one of the passengers). The first passenger in line crazily decides to sit in a\n",
    "randomly chosen seat (with all seats equally likely). Each subsequent passenger takes his or\n",
    "her assigned seat if available, and otherwise sits in a random available seat. What is the\n",
    "probability that the last passenger in line gets to sit in his or her assigned seat?\n",
    "\n",
    "\n",
    "Let’s first consider a special case where there are only 2 people (Alec and Stewart) and 2 seats on the airplane. Alec picks a seat at random. The only way Stewart gets to pick his designated seat is if Alec correctly picks his. Since there are only 2 choices for Alec he picks his own seat correctly with probability =1/2\n",
    "\n",
    "Therefore P(P( Stewart gets his seat)=P()=P(Alec chooses his own seat)=1/2)=1/2\n",
    "\n",
    "Now lets consider one more special case where we now have 3 people (Alec, Stewart and Pablo) boarding the flight in that order and Alec picking a random seat first up. In this scenario, Pablos gets to sit on his designated seat in one of the following two possibilities:\n",
    "\n",
    "Alec picks his own seat.\n",
    "Alec picks Stewart’s seat and Stewart picks Alec’s seat.\n",
    "In all other cases the probability of Pablo picking his seat is 0. So we have :\n",
    "\n",
    "P(P( Pablo gets his seat )=P()=P( Alec picks his own seat )+P()+P( Alec picks Stewart’s seat )∗P()∗P( Stewart picks Alec’s seat))\n",
    "\n",
    "This reduces to :\n",
    "\n",
    "P(P( Pablo gets his seat )=1/3+(1/3)∗(1/2)=(1/3+1/6)=1/2. So in case of 100 passengers the probablility that the last passenger in line gets to sit in his or ger assigned seat is 1/2."
   ]
  }
 ],
 "metadata": {
  "kernelspec": {
   "display_name": "Python 3 (ipykernel)",
   "language": "python",
   "name": "python3"
  },
  "language_info": {
   "codemirror_mode": {
    "name": "ipython",
    "version": 3
   },
   "file_extension": ".py",
   "mimetype": "text/x-python",
   "name": "python",
   "nbconvert_exporter": "python",
   "pygments_lexer": "ipython3",
   "version": "3.9.7"
  }
 },
 "nbformat": 4,
 "nbformat_minor": 5
}
