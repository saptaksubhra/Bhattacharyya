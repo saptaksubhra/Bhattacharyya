{
 "cells": [
  {
   "cell_type": "markdown",
   "id": "cb84fdd8",
   "metadata": {},
   "source": [
    "Q1. What is the benefit of regular expressions?\n",
    "\n",
    "A Regular Expression is used for identifying a search pattern in a text string. It also helps in finding out the correctness of the data and even operations such as finding, replacing and formatting the data is possible. These are the benefits of regular expressions in Python."
   ]
  },
  {
   "cell_type": "markdown",
   "id": "49ef1f22",
   "metadata": {},
   "source": [
    "Q2. Describe the difference between the effects of \"(ab)c+\" and \"a(bc)+.\" Which of these, if any, is the unqualified pattern \"abc+\"?"
   ]
  },
  {
   "cell_type": "markdown",
   "id": "9c9db1ec",
   "metadata": {},
   "source": [
    "Q3. How much do you need to use the following sentence while using regular expressions?\n",
    "\n",
    "import re\n",
    "\n",
    "Python provides a re module that supports the use of regex or regular expressions in Python. Its primary function is to offer a search, where it takes a regular expression and a string. Here, it either returns the first match or else none. Before doing that operation we need to import re module first or at the outset of the programme. So the following sentences import re  we need to use once and at the beginning  of the programme while using regular expressions.\n",
    "One example has been given below."
   ]
  },
  {
   "cell_type": "code",
   "execution_count": 9,
   "id": "7c7d3379",
   "metadata": {},
   "outputs": [
    {
     "name": "stdout",
     "output_type": "stream",
     "text": [
      "start index 0\n",
      "end index 9\n"
     ]
    }
   ],
   "source": [
    "try:\n",
    "    import re\n",
    "    string = 'Education is for everyone.'\n",
    "\n",
    "    match = re.search(r'Education', string)\n",
    "    print('start index', match.start())\n",
    "    print('end index', match.end())\n",
    "except:\n",
    "    print('regular expression')"
   ]
  },
  {
   "cell_type": "markdown",
   "id": "3f14dcdf",
   "metadata": {},
   "source": [
    "Q4. Which characters have special significance in square brackets when expressing a range, and\n",
    "under what circumstances?\n",
    "In regex square bracket is a metacharacter. It is a character that is interpreted in a special way by a RegExengine. Square brackets signifies a set of characters we wish to match. So, the string characters and integers inside the square bracket have special significance when expressing a range.\n",
    "\n",
    "For example, [ABC] will match if the string we are trying to match contains any of the A, B or C.\n",
    "The expression is [ABC] and if the string is A then there is one match, if the string is AB then it is 2 matches. \n",
    "We can alos specify a range od characters using - inside square brackets. Such as[A-D] is same as [ABCD]. Also[1-5] is same as [12345].\n",
    "\n",
    "The circumstance is when square brackets match something that we don't know about a string we're looking for. If we are searching for a name in a string but we're not sure of the exact name, we could use instead of that letter a square bracket. Everything we put inside these brackets are alternatives in place of one character."
   ]
  },
  {
   "cell_type": "markdown",
   "id": "89f437a9",
   "metadata": {},
   "source": [
    "Q5. How does compiling a regular-expression object benefit you?\n",
    "\n",
    "The re.complie() method helps us combine a regular expression pattern into pattern objects which can be used to match pattern. It also helps to search a pattern again without rewriting it. This is the benefit of compiling a regular-expression object. One example has been given below in relation to this."
   ]
  },
  {
   "cell_type": "code",
   "execution_count": 13,
   "id": "c0510133",
   "metadata": {},
   "outputs": [
    {
     "name": "stdout",
     "output_type": "stream",
     "text": [
      "['ineuron']\n",
      "['ineuron']\n"
     ]
    }
   ],
   "source": [
    "try:\n",
    "    import re\n",
    "    pattern = re.compile('ineuron')\n",
    "    output1 = pattern.findall('ineuron is the most affordable edtech platform.')\n",
    "    print (output1)\n",
    "    output2 =pattern.findall('oneneuron is under ineuron.')\n",
    "    print(output2)\n",
    "except:\n",
    "    print('compiling method in regex')"
   ]
  },
  {
   "cell_type": "markdown",
   "id": "1cc7f880",
   "metadata": {},
   "source": [
    "Q6. What are some examples of how to use the match object returned by re.match and re.search?\n",
    "\n",
    "The re.search() and re.match() both are functions of re module in python. These functions are very efficient and fast for searching in strings. The function searches for some substring in a string and returns a match object if found, else it returns none.\n",
    "\n",
    "But there is a difference between the use of both functions. Both functions return the first match of a substring found in the string, but re.match() searches only from the beginning of the string and return match object if found. But if a match of substring is found somewhere in the middle of the string, it returns none. \n",
    "While re.search() searches for the whole string even if the string contains multi-lines and tries to find a match of the substring in all the lines of string.\n",
    "\n",
    "Lets us see the difference between thsese two functions' functionalities through some examples."
   ]
  },
  {
   "cell_type": "code",
   "execution_count": 18,
   "id": "f0ebaed3",
   "metadata": {},
   "outputs": [
    {
     "name": "stdout",
     "output_type": "stream",
     "text": [
      "Looking for \"Python programming\" in \"Python programming is very interesting\" :  Yahhoo a match is found !\n",
      "Looking for \"Gurudev\" in \"Python programming is very interesting\" :  Alas! no match is found.\n"
     ]
    }
   ],
   "source": [
    "# Example of re.search()\n",
    "\n",
    "try:\n",
    "    import re\n",
    "    patterns = ['Python programming', 'Gurudev']\n",
    "    text = 'Python programming is very interesting'\n",
    "    \n",
    "    for i in patterns:\n",
    "        print('Looking for \"%s\" in \"%s\" : ' %(i, text), end = \" \")\n",
    "        \n",
    "        if re.search(i, text):\n",
    "            print(\"Yahoo a match is found !\")\n",
    "        else:\n",
    "            print('Alas! no match is found.')\n",
    "except:\n",
    "    print(\"re.search method\")\n",
    "            \n",
    "    \n",
    "    "
   ]
  },
  {
   "cell_type": "code",
   "execution_count": 21,
   "id": "b706ce84",
   "metadata": {},
   "outputs": [
    {
     "name": "stdout",
     "output_type": "stream",
     "text": [
      "Cell\n"
     ]
    }
   ],
   "source": [
    "# Example of re.match()\n",
    "#Print the part of the string where there was a match.\n",
    "\n",
    "#The regular expression looks for any words that starts with an upper case \"C\":\n",
    "\n",
    "try:\n",
    "    import re\n",
    "    text = 'Hell in a Cell'\n",
    "    \n",
    "    result = re.search(r\"\\bC\\w+\", text)\n",
    "    print(result.group())\n",
    "except:\n",
    "    print('re.match method')"
   ]
  },
  {
   "cell_type": "markdown",
   "id": "708e1696",
   "metadata": {},
   "source": [
    "Q7. What is the difference between using a vertical bar (|) as an alteration and using square brackets\n",
    "as a character set?\n",
    "\n",
    "In a regular expression it is denoted with a vertical line character | or vertical bar. Square brackets allow only characters or character classes. Alternation allows any expression in case of a vertical bar."
   ]
  },
  {
   "cell_type": "markdown",
   "id": "807c2c8d",
   "metadata": {},
   "source": [
    "Q8. In regular-expression search patterns, why is it necessary to use the raw-string indicator (r)? In  \n",
    "replacement strings?\n",
    "\n",
    "In regular-expression search patterns, it is necessary to use the raw-string indicator (r) because in accordance with Python documents, raw string notation (r\"text\") keeps regular expressions meaningful and confusion-free. Without it, every backslash ('\\') in a regular expression would have to be prefixed with another one to escape it. For example, the two following lines of code are functionally identical.\n",
    "\n",
    "re.match(r\"\\W(.)\\1\\W\", \" ff \")\n",
    "_sre.SRE_Match object; span=(0, 5), match=' ff '\n",
    "\n",
    "re.match(\"\\\\W(.)\\\\1\\\\W\", \" ff \")\n",
    "<_sre.SRE_Match object; span=(0, 5), match=' ff '>\n",
    "\n",
    "And in replacement Strings:\n",
    "When we want to match a literal backslash, it must be escaped in the regular expression. With raw string notation, this means r\"\\\\\". Without raw string notation, we must use \"\\\\\\\\\", making the following lines of code functionally identical.\n",
    "\n",
    "re.match(r\"\\\\\", r\"\\\\\")\n",
    "<_sre.SRE_Match object; span=(0, 3), match='\\\\'>\n",
    "\n",
    "re.match(\"\\\\\\\\\", r\"\\\\\")\n",
    "<_sre.SRE_Match object; span=(0, 3), match='\\\\'>\n"
   ]
  }
 ],
 "metadata": {
  "kernelspec": {
   "display_name": "Python 3 (ipykernel)",
   "language": "python",
   "name": "python3"
  },
  "language_info": {
   "codemirror_mode": {
    "name": "ipython",
    "version": 3
   },
   "file_extension": ".py",
   "mimetype": "text/x-python",
   "name": "python",
   "nbconvert_exporter": "python",
   "pygments_lexer": "ipython3",
   "version": "3.9.7"
  }
 },
 "nbformat": 4,
 "nbformat_minor": 5
}
