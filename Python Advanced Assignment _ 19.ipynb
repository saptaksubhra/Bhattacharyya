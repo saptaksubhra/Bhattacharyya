{
 "cells": [
  {
   "cell_type": "markdown",
   "id": "a04508ac",
   "metadata": {},
   "source": [
    "Q1. Define the relationship between a class and its instances. Is it a one-to-one or a one-to-many\n",
    "partnership, for example?\n",
    "\n",
    "A class is a set of entities which are the instnaces of that class. An entity can be an instance of many classes which are called its types and a class can be a type of many classes. A class can also be an instance. Such as an instance of a class of classes(metaclass). A frame denoting a class is called a class frame and an frame denoting an entity which is an instance of a class is named as instance frame.\n",
    "\n",
    "If we are going to exemplify one to one partnership or relationship then id proof (such as : passport) and people is real life example of one to one relationship where each person has one passport from a specific country and that particular passport is intended for that specific person from that particular country.\n",
    "Another example of one to one relationship country-flag. each country has its own flag and that flag symbolises or belongs to that particular country.\n",
    "\n",
    "Here are some examples of one to many partnership or realtionship in real life.\n",
    "\n",
    "People-Addresses (Each person can live at one address, but each address can house one or more people.)\n",
    "Owners-Pets (Each pet has one owner, but each owner can have one or more pets.)\n",
    "Farmer-Equipment (Each piece of farming equipment is owned by one farmer, but each farmer can own many pieces of equipment.)"
   ]
  },
  {
   "cell_type": "markdown",
   "id": "89dda21a",
   "metadata": {},
   "source": [
    "Q2. What kind of data is held only in an instance?\n",
    "\n",
    "Instance variables are held only in an instance. Instance variables are owned by instances of the class. This means that for each object or instance of a class, the instance variables are different. In the following example, human is a class and name and age are instance variables. When we create a human object, we will have to define these variables, which are passed as parameters within the constructor method or another method. The output we receive is made up of the values of the variables that we initialized for the object instance of humanoid."
   ]
  },
  {
   "cell_type": "code",
   "execution_count": 3,
   "id": "3f582c1a",
   "metadata": {},
   "outputs": [
    {
     "name": "stdout",
     "output_type": "stream",
     "text": [
      "Shivaji\n",
      "786\n"
     ]
    }
   ],
   "source": [
    "try:\n",
    "    class human:\n",
    "        def __init__(suddhi, name, age):\n",
    "            suddhi.name = name\n",
    "            suddhi.age = age\n",
    "            \n",
    "    humanoid = human('Shivaji', 786)\n",
    "    \n",
    "    print(humanoid.name)\n",
    "    print(humanoid.age)\n",
    "except:\n",
    "    print('instance variable')\n",
    "    \n",
    "            \n",
    "        "
   ]
  },
  {
   "cell_type": "markdown",
   "id": "e1ea4db0",
   "metadata": {},
   "source": [
    "Q3. What kind of knowledge is stored in a class?\n",
    "\n",
    "Data is stored in a class because class provides a means of bundling  data and functionality together. Creating a new class menas creating a new object. allowing new instances of that type to be made. That object can contain arbitrary amount and types of data."
   ]
  },
  {
   "cell_type": "markdown",
   "id": "721b2320",
   "metadata": {},
   "source": [
    "Q4. What exactly is a method, and how is it different from a regular function?\n",
    "\n",
    "Methods represent the behavior of an Object.\n",
    "A method is a piece of code that is associated with an object and operates upon the data of that object. In most cases, a method is identical to a function. But stil there are differences between method and function.\n",
    "             \t                                                    \n",
    "Methods definitions are always present inside a class.\tWe don’t need a class to define a function.\n",
    "Methods are associated with the objects of the class they belong to.\tFunctions are disassociated with any object.\n",
    "A method is called ‘on’ an object. We cannot invoke it just by its name\tWe can invoke a function just by its name.\n",
    "Methods can operate on the data of the object they associate with\tFunctions operate on the data you pass to them as arguments.\n",
    "Methods are dependent on the class they belong to.\tFunctions are independent entities in a program.\n",
    "A method requires to have ‘self’ as its first argument and self is a pointer.\tFunctions do not require any ‘self’ argument. They can have zero or more arguments.\n"
   ]
  },
  {
   "cell_type": "markdown",
   "id": "41a646f6",
   "metadata": {},
   "source": [
    "Q5. Is inheritance supported in Python, and if so, what is the syntax?\n",
    "\n",
    "Inheritance is supported in Python. In Python's oops concepts, Python not only supports inhertiance but multiple inheritance. The syntax of inheritance in Python is:\n",
    "\n",
    "class BaseClass:\n",
    "class DerivedClass(BaseClass):"
   ]
  },
  {
   "cell_type": "markdown",
   "id": "66d8e420",
   "metadata": {},
   "source": [
    "Q6. How much encapsulation (making instance or class variables private) does Python support?\n",
    "\n",
    "Python does not have the private keyword, unlike some other object oriented languages, but encapsulation can be done with notion or notation. This is encapsulation.\n",
    "Instead, it relies upon the convention: a class variable that should not directly be accessed should be prefixed with an underscore. The following example will show the encapsulation in Python for variables."
   ]
  },
  {
   "cell_type": "code",
   "execution_count": 2,
   "id": "6d78b9a8",
   "metadata": {},
   "outputs": [
    {
     "name": "stdout",
     "output_type": "stream",
     "text": [
      "1008\n",
      "43\n",
      "encapsulation\n"
     ]
    }
   ],
   "source": [
    "try:\n",
    "    class mit():\n",
    "        def __init__(self, student, teacher, admin):\n",
    "            self.student = student\n",
    "            self._teacher = teacher\n",
    "            self.__admin = admin\n",
    "            \n",
    "    class mitsolan():\n",
    "        pass\n",
    "    obj = mit(1008, 43,16)\n",
    "    print(obj.student)\n",
    "    print(obj._teacher)\n",
    "    print(obj.__admin)\n",
    "except:\n",
    "    print('encapsulation')"
   ]
  },
  {
   "cell_type": "code",
   "execution_count": 3,
   "id": "e04189fd",
   "metadata": {},
   "outputs": [
    {
     "name": "stdout",
     "output_type": "stream",
     "text": [
      "1008\n",
      "43\n"
     ]
    },
    {
     "ename": "AttributeError",
     "evalue": "'mit' object has no attribute '__admin'",
     "output_type": "error",
     "traceback": [
      "\u001b[1;31m---------------------------------------------------------------------------\u001b[0m",
      "\u001b[1;31mAttributeError\u001b[0m                            Traceback (most recent call last)",
      "\u001b[1;32m~\\AppData\\Local\\Temp/ipykernel_10556/3345700022.py\u001b[0m in \u001b[0;36m<module>\u001b[1;34m\u001b[0m\n\u001b[0;32m     13\u001b[0m \u001b[0mprint\u001b[0m\u001b[1;33m(\u001b[0m\u001b[0mobj\u001b[0m\u001b[1;33m.\u001b[0m\u001b[0mstudent\u001b[0m\u001b[1;33m)\u001b[0m\u001b[1;33m\u001b[0m\u001b[1;33m\u001b[0m\u001b[0m\n\u001b[0;32m     14\u001b[0m \u001b[0mprint\u001b[0m\u001b[1;33m(\u001b[0m\u001b[0mobj\u001b[0m\u001b[1;33m.\u001b[0m\u001b[0m_teacher\u001b[0m\u001b[1;33m)\u001b[0m\u001b[1;33m\u001b[0m\u001b[1;33m\u001b[0m\u001b[0m\n\u001b[1;32m---> 15\u001b[1;33m \u001b[0mprint\u001b[0m\u001b[1;33m(\u001b[0m\u001b[0mobj\u001b[0m\u001b[1;33m.\u001b[0m\u001b[0m__admin\u001b[0m\u001b[1;33m)\u001b[0m\u001b[1;33m\u001b[0m\u001b[1;33m\u001b[0m\u001b[0m\n\u001b[0m",
      "\u001b[1;31mAttributeError\u001b[0m: 'mit' object has no attribute '__admin'"
     ]
    }
   ],
   "source": [
    "class mit():\n",
    "    \n",
    "    def __init__(self, student, teacher, admin):\n",
    "        \n",
    "        self.student = student\n",
    "        self._teacher = teacher\n",
    "        self.__admin = admin\n",
    "            \n",
    "class mitsolan():\n",
    "    \n",
    "    pass\n",
    "obj = mit(1008, 43,16)\n",
    "print(obj.student)\n",
    "print(obj._teacher)\n",
    "print(obj.__admin)"
   ]
  },
  {
   "cell_type": "markdown",
   "id": "35fadd46",
   "metadata": {},
   "source": [
    "From the above programming. we can say that the first one encapsulation has been implemented with exception handling. So it is not printing the thitd variable named admin insted it is printing what is written inside except clause.But if we see the encapsulation without exception handling then we can see that the third variable admin's value is not getting printed instead it is showing attribute error.\n",
    "So , from the above programme we can conclude that there are three typews of variables available in terms of encapsulation in Python. Those are public, protected and private variable. student is a public variable. We can access this variable inside the parent class , subclass and even outside the function. Then comes protected variable and in this case teacher is the protected variable and we can access the variable with a underscore inside the parent class and its sub class. And the third one is private variable which is accessible only from the parent class and not from the sub class even. But that is not possible with a double score only. The correct syntax to have access to that private variable is : \n",
    "\n",
    "object._parentClass__variable\n",
    "let us see that through the following commands. But this is possible only with the parent calss if we want to have the access to that private variable  but not possible with sub class. But sub class will help us have access to the protected variable with single underscore."
   ]
  },
  {
   "cell_type": "code",
   "execution_count": 4,
   "id": "4ecde75b",
   "metadata": {},
   "outputs": [
    {
     "data": {
      "text/plain": [
       "16"
      ]
     },
     "execution_count": 4,
     "metadata": {},
     "output_type": "execute_result"
    }
   ],
   "source": [
    "obj._mit__admin"
   ]
  },
  {
   "cell_type": "code",
   "execution_count": 5,
   "id": "6a6e6568",
   "metadata": {},
   "outputs": [
    {
     "ename": "AttributeError",
     "evalue": "'mit' object has no attribute 'mitsolan__admin'",
     "output_type": "error",
     "traceback": [
      "\u001b[1;31m---------------------------------------------------------------------------\u001b[0m",
      "\u001b[1;31mAttributeError\u001b[0m                            Traceback (most recent call last)",
      "\u001b[1;32m~\\AppData\\Local\\Temp/ipykernel_10556/2627239776.py\u001b[0m in \u001b[0;36m<module>\u001b[1;34m\u001b[0m\n\u001b[1;32m----> 1\u001b[1;33m \u001b[0mobj\u001b[0m\u001b[1;33m.\u001b[0m\u001b[0mmitsolan__admin\u001b[0m\u001b[1;33m\u001b[0m\u001b[1;33m\u001b[0m\u001b[0m\n\u001b[0m",
      "\u001b[1;31mAttributeError\u001b[0m: 'mit' object has no attribute 'mitsolan__admin'"
     ]
    }
   ],
   "source": [
    "obj.mitsolan__admin"
   ]
  },
  {
   "cell_type": "code",
   "execution_count": 6,
   "id": "fa60abda",
   "metadata": {},
   "outputs": [
    {
     "data": {
      "text/plain": [
       "43"
      ]
     },
     "execution_count": 6,
     "metadata": {},
     "output_type": "execute_result"
    }
   ],
   "source": [
    "obj._teacher"
   ]
  },
  {
   "cell_type": "markdown",
   "id": "c11198df",
   "metadata": {},
   "source": [
    "Q7. How do you distinguish between a class variable and an instance variable?\n",
    "\n",
    "The value of instance variable is instance-oriented and shared among instances. Class variable defines the specific property for a class. Instance variable belongs to one specific class and can not be shared between classes. Class variable can be shared between class and its subclasses. Instance variable is created whn an instance of the class is created. Class variable is created when the programme starts to execute. Instance variable reatins value as long as the object exists. Class variable retains values until the programme terminates. Instance variable can be accessed directly by calling variable names inside the class. Class variable can be accessed by calling with the class name. Instance variables are declared without using static keyword. And class variable are declared by using keyword static. "
   ]
  },
  {
   "cell_type": "markdown",
   "id": "b610fd34",
   "metadata": {},
   "source": [
    "Q8. When, if ever, can self be included in a class's method definitions?\n",
    "\n",
    "Whenver we are creating a class, the very next step is to create a constructor and instance method. And in that constructor and instance method one parameter shuld be passed as an argument mandatorily otherwise it will raise an error.Also self points to current object. It binds the attributes with the given arguments.Self is a pointer.\n",
    "The reason you we to use self is because Python does not use the syntax to refer to instance attributes. "
   ]
  },
  {
   "cell_type": "code",
   "execution_count": 7,
   "id": "f80c7666",
   "metadata": {},
   "outputs": [
    {
     "name": "stdout",
     "output_type": "stream",
     "text": [
      "The address of self is : 1707388330384\n",
      "The address of class object is :  1707388330384\n"
     ]
    }
   ],
   "source": [
    "# Example of self\n",
    "\n",
    "try:\n",
    "    class harvard:\n",
    "        def __init__(self):\n",
    "            \n",
    "            print(\"The address of self is :\", id(self))\n",
    "    obj = harvard()\n",
    "    print(\"The address of class object is : \", id(obj))\n",
    "except:\n",
    "    print(\"self help\")\n",
    "                "
   ]
  },
  {
   "cell_type": "markdown",
   "id": "666498b6",
   "metadata": {},
   "source": [
    "From the above programme , we can say that self and obj is pointing to the same object. Another thing is that self is not a keyword in Python and there is no hard and fast rule to use self pointer as a first argument in instance method and constructor . It can be any name or any variable. Let us exemplify through the following programme."
   ]
  },
  {
   "cell_type": "code",
   "execution_count": 8,
   "id": "844a95a0",
   "metadata": {},
   "outputs": [
    {
     "name": "stdout",
     "output_type": "stream",
     "text": [
      "We have used another pointer instead of self.\n"
     ]
    }
   ],
   "source": [
    "try:\n",
    "    class super:\n",
    "        def __init__(instead_of_self):\n",
    "            print(\"We have used another pointer instead of self.\")\n",
    "    A = super()\n",
    "except:\n",
    "    print('self is not a built_in keyword in Python.')"
   ]
  },
  {
   "cell_type": "markdown",
   "id": "d9e4af94",
   "metadata": {},
   "source": [
    "Q9. What is the difference between the _ _add_ _ and the _ _radd_ _ methods?\n",
    "\n",
    "There is no difference between __add__ and __radd__ method. If we consider two dataframes a and b. So one method does a + b and the other does b + a. Let us see through the example.\n",
    "The radd() method adds each value in the DataFrame with a specified value.\n",
    "\n",
    "This method is called reverse add method, and is similar to the add() method, but instead of calculating 100 + 43 it calculates 43 + 100, which in this case will give the same result.\n",
    "\n",
    "But we should keep in mind that the specified value must be an object that can be added to the values of the DataFrame. It can be a constant number like the one in the example, or it can be a list-like object like a list [36,43] or a tuple {\"points\": 1008, \"total\": 10000}, or a  Pandas Series or another DataFrame, that fits with the original DataFrame."
   ]
  },
  {
   "cell_type": "code",
   "execution_count": 8,
   "id": "db238bdf",
   "metadata": {},
   "outputs": [
    {
     "name": "stdout",
     "output_type": "stream",
     "text": [
      "   points  total\n",
      "0      53   3543\n",
      "1     143  34043\n",
      "2    1043   1051\n"
     ]
    }
   ],
   "source": [
    "import pandas as pd\n",
    "\n",
    "Data = {\n",
    "  \"points\": [10, 100, 1000],\n",
    "  \"total\": [3500, 34000, 1008]\n",
    "}\n",
    "df = pd.DataFrame(Data)\n",
    "print(df.radd(43))  # Adding 43 to to each value in the DataFrame\n",
    "\n"
   ]
  },
  {
   "cell_type": "markdown",
   "id": "195561dd",
   "metadata": {},
   "source": [
    "Q10. When is it necessary to use a reflection method? When do you not need it, even though you\n",
    "support the operation in question?\n",
    "\n",
    "Reflection means the ability of code to examine attributes about objects that might be passed as parameters to a function. Such as: if we write type(obj) function then Python will return an object which represents the type of obj.\n",
    "Reflection method is necessary to write a recursive function that will work for data types like strings, lists, or any other sequence which support concatenation and slicing. For example, if we type str() then we get an empty string which is same as writing \"\" or if we srite list() then we get an empty list which is same as writing [].\n",
    "Let's see the reflection method throuh the following example."
   ]
  },
  {
   "cell_type": "code",
   "execution_count": 4,
   "id": "f8a9cd6c",
   "metadata": {},
   "outputs": [
    {
     "name": "stdout",
     "output_type": "stream",
     "text": [
      "taT rof tiT\n",
      "[1008, 108, 43, 36]\n"
     ]
    }
   ],
   "source": [
    "def reverse(seq): \n",
    "    sequence_type = type(seq) \n",
    "    empty_sequence = sequence_type() \n",
    "      \n",
    "    if seq == empty_sequence: \n",
    "        return empty_sequence \n",
    "      \n",
    "    rest = reverse(seq[1:]) \n",
    "    first_sequence = seq[0:1] \n",
    "      \n",
    "    # Combine the result \n",
    "    final_result = rest + first_sequence\n",
    "      \n",
    "    return final_result \n",
    "  \n",
    "\n",
    "\n",
    "print(reverse(\"Tit for Tat\"))\n",
    "print(reverse([36,43,108,1008])) "
   ]
  },
  {
   "cell_type": "markdown",
   "id": "7a4ecd96",
   "metadata": {},
   "source": [
    "We need refelection method to enable functions such as : type(), callable(), isinstance(), dir(), getattr(). The functionalities of some of those above mentioned functions are examplified below."
   ]
  },
  {
   "cell_type": "markdown",
   "id": "7740fff9",
   "metadata": {},
   "source": [
    "callable() function means anything that can be called.  A class can be made callable by providing a __call__() method. The callable() method returns True if the object passed appears callable. If not, it returns False."
   ]
  },
  {
   "cell_type": "code",
   "execution_count": 5,
   "id": "1dc9614f",
   "metadata": {},
   "outputs": [
    {
     "name": "stdout",
     "output_type": "stream",
     "text": [
      "True\n"
     ]
    }
   ],
   "source": [
    "try:\n",
    "    class oxford:\n",
    "        def __call__(pointer):\n",
    "            print('Auckland on the map')\n",
    "    print(callable(oxford))\n",
    "except:\n",
    "    print(\"callable\")"
   ]
  },
  {
   "cell_type": "markdown",
   "id": "eb8d849d",
   "metadata": {},
   "source": [
    "type() :If a single argument (object) is passed to type() built-in function, it returns type of the given object. "
   ]
  },
  {
   "cell_type": "code",
   "execution_count": 7,
   "id": "fcefd1dc",
   "metadata": {},
   "outputs": [
    {
     "name": "stdout",
     "output_type": "stream",
     "text": [
      "<class 'int'>\n",
      "<class 'str'>\n",
      "<class 'list'>\n"
     ]
    }
   ],
   "source": [
    "try:\n",
    "    a = 43\n",
    "    b = 'alic in wonderland'\n",
    "    c = [89,98,108]\n",
    "    print(type(a))\n",
    "    print(type(b))\n",
    "    print(type(c))\n",
    "except:\n",
    "    print('type  function')\n",
    "    "
   ]
  },
  {
   "cell_type": "markdown",
   "id": "08581c36",
   "metadata": {},
   "source": [
    "Q11. What is the _ _iadd_ _ method called?\n",
    "\n",
    "Python's object.__add__(self, other) method returns a new object which is the sum of the two objects. It applies the addition operator + in Python. This method is called Dunder method or Double Underscore Method or magic method. The syntax of Dunder Method is :\n",
    "object.__add__(self, other)\n",
    "In the below example, a class data has been customed and we overwrite __add__() method so that a new data object will be created with the value being the sum of the values of the two operands a and b of class data."
   ]
  },
  {
   "cell_type": "code",
   "execution_count": 6,
   "id": "2277cab5",
   "metadata": {},
   "outputs": [
    {
     "name": "stdout",
     "output_type": "stream",
     "text": [
      "79\n",
      "<class '__main__.data'>\n"
     ]
    }
   ],
   "source": [
    "try:\n",
    "    class data:\n",
    "        def __init__(pot, val):\n",
    "            pot.val = val\n",
    "        def __add__(pot, other):\n",
    "            return data(pot.val + other.val)\n",
    "    a = data(43)\n",
    "    b = data(36)\n",
    "    c = a + b\n",
    "    print(c.val)\n",
    "    print(type(c))\n",
    "except:\n",
    "    print('dunder method')\n",
    "            "
   ]
  },
  {
   "cell_type": "markdown",
   "id": "8f8e4d16",
   "metadata": {},
   "source": [
    "We have defined Dunder method so that the resultin sum of two data objects is a data object itself."
   ]
  },
  {
   "cell_type": "markdown",
   "id": "63fba9ce",
   "metadata": {},
   "source": [
    "Q12. Is the _ _init_ _ method inherited by subclasses? What do you do if you need to customize its\n",
    "behavior within a subclass?\n",
    "\n",
    "No __init__ method is not inherited by subclasses. If both the subclass and the superclass has a constructor, then the object of the subclass is created through the constructor of the subclass. We can call the constructor of the parent calss inside constructor of the subclass by writing parentclass. __init__(self, args) and calling the custom method of the parent class inside the custom method of the child class by writing parent class.custom methof of parent class(self).\n",
    "\n",
    "If we need to customise the behaviour of __init__ method within a subclass we can use the super() function for calling the constructor and methods of the parent class inside the child class insted of parentclass. __init__. The super() function returns a parent class object and can be used to access the attributes or methods of the parent class inside the child class.\n"
   ]
  }
 ],
 "metadata": {
  "kernelspec": {
   "display_name": "Python 3 (ipykernel)",
   "language": "python",
   "name": "python3"
  },
  "language_info": {
   "codemirror_mode": {
    "name": "ipython",
    "version": 3
   },
   "file_extension": ".py",
   "mimetype": "text/x-python",
   "name": "python",
   "nbconvert_exporter": "python",
   "pygments_lexer": "ipython3",
   "version": "3.9.7"
  }
 },
 "nbformat": 4,
 "nbformat_minor": 5
}
