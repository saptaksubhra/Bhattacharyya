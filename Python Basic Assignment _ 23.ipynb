{
 "cells": [
  {
   "cell_type": "code",
   "execution_count": 1,
   "id": "07a2bbb3",
   "metadata": {},
   "outputs": [
    {
     "name": "stdout",
     "output_type": "stream",
     "text": [
      "1 2 8\n"
     ]
    }
   ],
   "source": [
    "#1. What is the result of the code, and why?\n",
    "\n",
    "def func(a, b=6, c=8):\n",
    "    \n",
    "    print(a, b, c)\n",
    "func(1, 2)"
   ]
  },
  {
   "cell_type": "markdown",
   "id": "9513fb10",
   "metadata": {},
   "source": [
    "If we have some functions with many parameters and we want to specify only some of those, then we can give values for such parameters by naming those. This is called keyword arguments and we use the name (keyword) instead of the position to specify the arguments to the function.\n",
    "\n",
    "In the above programme the function has been named as func with three parameters (a,b, c). a is without a default argument value and parameters b and c get argument values 6 and 8 respectively.\n",
    "\n",
    "So, in case of func(1,2) parameter a gets the value 1, parameter b gets the value 2 and parameter gets the default value 8. Since, we have passed or assigned  two argument values , parameters a and b will get those two values due to positions of those arguments. And print () function will print the values of those parameters which are passed to print() function. Here, three parameters (a,b,c) of func() have been passed to print() function. So, print () function will print values of three parameters (a,b,c).\n",
    "Hence we have got the result of func(1,2) as 1,2 8"
   ]
  },
  {
   "cell_type": "code",
   "execution_count": 2,
   "id": "405e9822",
   "metadata": {},
   "outputs": [
    {
     "name": "stdout",
     "output_type": "stream",
     "text": [
      "1 2 3\n"
     ]
    }
   ],
   "source": [
    "# 2. What is the result of this code, and why?\n",
    "def func(a, b, c=5):\n",
    "    \n",
    "    print(a, b, c)\n",
    "func(1, c=3, b=2)"
   ]
  },
  {
   "cell_type": "markdown",
   "id": "d54d6d11",
   "metadata": {},
   "source": [
    "In the above programme, three parameters are a,b,c and the function is func. Parameters a and b are without default argument values and c gets argument value 5. So, func(1, c =3, b =2) will print 1,2,3 as a gets the value of 1 due to the position of the argument and b and c get the value of 2 and 3 respectively due to naming or keyword arguments.  b will be printed before c as b has been defined before c in the function definition of function func(). "
   ]
  },
  {
   "cell_type": "code",
   "execution_count": 11,
   "id": "744d9a0c",
   "metadata": {},
   "outputs": [
    {
     "name": "stdout",
     "output_type": "stream",
     "text": [
      "1 (2, 3)\n"
     ]
    }
   ],
   "source": [
    "# 3. How about this code: what is its result, and why?\n",
    "def func(a, *pargs):\n",
    "    \n",
    "    print(a, pargs)\n",
    "func(1, 2, 3)"
   ]
  },
  {
   "cell_type": "markdown",
   "id": "db5b7a71",
   "metadata": {},
   "source": [
    "In the above programming, a will get the value of 1 due to the position of the argument. This operator(*) is called Asterisk (*) operator and this operator is used to indicate that the function will accept arbitrary number of arguments. In Python this operator allows us to enable various operations more than just multiplying the two numbers. So, *pargs will take values 2 and 3 together and return a tuple as we can see in the output of the above programme."
   ]
  },
  {
   "cell_type": "code",
   "execution_count": 14,
   "id": "1ea97ebd",
   "metadata": {},
   "outputs": [
    {
     "name": "stdout",
     "output_type": "stream",
     "text": [
      "1 {'c': 3, 'b': 2}\n"
     ]
    }
   ],
   "source": [
    "# 4. What does this code print, and why?\n",
    "def func(a, **kargs):\n",
    "    \n",
    "    print(a, kargs)\n",
    "func(a=1, c=3, b=2)"
   ]
  },
  {
   "cell_type": "markdown",
   "id": "5b935191",
   "metadata": {},
   "source": [
    "In the above programming, a will get the value of 1 due to the position of the argument and c and b will return a dictionary.\n",
    "If we are uncertain about how many keyword arguments have to be passed to a function in the program, then we can use an argument with the double(**) asterisks as a prefix to the argument which allows us to pass an arbitrary number of keyword arguments into our function. This allows the function to receive a dictionary of arguments and it can then access the items accordingly. So , **kwargs will return c and b and their corresponding values in the form a dictionary as it has reflected in the output console."
   ]
  },
  {
   "cell_type": "code",
   "execution_count": 25,
   "id": "8c532c1b",
   "metadata": {},
   "outputs": [
    {
     "name": "stdout",
     "output_type": "stream",
     "text": [
      "1 5 6 5\n"
     ]
    }
   ],
   "source": [
    "# 5. What gets printed by this, and explain?\n",
    "def func(a, b, c=8, d=5):\n",
    "    print(a, b, c, d)\n",
    "func(1, *(5, 6))"
   ]
  },
  {
   "cell_type": "markdown",
   "id": "9a9f3472",
   "metadata": {},
   "source": [
    "In the above programming, a will get the value of 1 due to the position of the argument. print() function will print the corresponding values of all the parameters given inside print() function. *(5,6) will print the value of b and c respectively and c will get the value of 6 as it has been assigned to c due to naming. And d will get the default value 5."
   ]
  },
  {
   "cell_type": "code",
   "execution_count": 26,
   "id": "4304c267",
   "metadata": {},
   "outputs": [
    {
     "data": {
      "text/plain": [
       "(1, ['x'], {'a': 'y'})"
      ]
     },
     "execution_count": 26,
     "metadata": {},
     "output_type": "execute_result"
    }
   ],
   "source": [
    "# 6. what is the result of this, and explain?\n",
    "def func(a, b, c): a = 2; b[0] = 'x'; c['a'] = 'y'\n",
    "l=1; m=[1]; n={'a':0}\n",
    "func(l, m, n)\n",
    "\n",
    "l, m, n"
   ]
  },
  {
   "cell_type": "markdown",
   "id": "07c5a3b2",
   "metadata": {},
   "source": [
    "In the above programming, a corresponds to parameter l and l will get the value of 1 as the new value has been assigned to l. b corresponds to b[0] and m. So m will be replaced with new value 'x' and c corresponds to c['a'] and that value is 'y'. n has value in the form a dictionary. Again c['a'] = 'y'. So, 0 value will take the new value 'y' and n will be printed in the form of a key-value pair i,e. dictionary."
   ]
  }
 ],
 "metadata": {
  "kernelspec": {
   "display_name": "Python 3 (ipykernel)",
   "language": "python",
   "name": "python3"
  },
  "language_info": {
   "codemirror_mode": {
    "name": "ipython",
    "version": 3
   },
   "file_extension": ".py",
   "mimetype": "text/x-python",
   "name": "python",
   "nbconvert_exporter": "python",
   "pygments_lexer": "ipython3",
   "version": "3.9.7"
  }
 },
 "nbformat": 4,
 "nbformat_minor": 5
}
