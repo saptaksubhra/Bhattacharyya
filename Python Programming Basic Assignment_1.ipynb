{
 "cells": [
  {
   "cell_type": "code",
   "execution_count": 20,
   "id": "eb0b6187",
   "metadata": {},
   "outputs": [
    {
     "name": "stdout",
     "output_type": "stream",
     "text": [
      "Hello Python\n"
     ]
    }
   ],
   "source": [
    "#1.\tWrite a Python program to print \"Hello Python\"?\n",
    "\n",
    "try:\n",
    "    f=open(\"test1.txt\",\"r\")\n",
    "    f.write(\"Hello Python\")\n",
    "except Exception as Saptak:\n",
    "    print(\"Hello Python\")"
   ]
  },
  {
   "cell_type": "code",
   "execution_count": 24,
   "id": "465428dc",
   "metadata": {},
   "outputs": [
    {
     "data": {
      "text/plain": [
       "str"
      ]
     },
     "execution_count": 24,
     "metadata": {},
     "output_type": "execute_result"
    }
   ],
   "source": [
    "type(\"Hello Python\")"
   ]
  },
  {
   "cell_type": "code",
   "execution_count": 6,
   "id": "baccc1c8",
   "metadata": {},
   "outputs": [
    {
     "name": "stdout",
     "output_type": "stream",
     "text": [
      "Enter First Number:64\n",
      "Enter Second Number:52\n",
      "\n",
      "Addition Result is =  116\n"
     ]
    }
   ],
   "source": [
    "#2.\tWrite a Python program to do arithmetical operations addition and division.?\n",
    "\n",
    "#Addition Operation\n",
    "\n",
    "try:\n",
    "\n",
    "\n",
    "    numOne = int(input(\"Enter First Number:\"))\n",
    "    numTwo = int(input(\"Enter Second Number:\"))\n",
    "    Addition = numOne+numTwo\n",
    "    print(\"\\nAddition Result is = \", Addition)\n",
    "except:\n",
    "    print(\"Addition result is =\", Addition)\n",
    "\n",
    "\n",
    "\n",
    "\n"
   ]
  },
  {
   "cell_type": "code",
   "execution_count": 1,
   "id": "0344429c",
   "metadata": {},
   "outputs": [
    {
     "name": "stdout",
     "output_type": "stream",
     "text": [
      "Enter the first number:20\n",
      "Enter the second number:3\n",
      "Division result is = 6.666666666666667\n"
     ]
    }
   ],
   "source": [
    "#Division Operation\n",
    "try:\n",
    "    \n",
    "    a=int(input(\"Enter the first number:\"))\n",
    "    b=int(input(\"Enter the second number:\"))\n",
    "    Division=a/b\n",
    "    print(\"Division result is =\",Division)\n",
    "except:\n",
    "    print(\"Division operation\")"
   ]
  },
  {
   "cell_type": "code",
   "execution_count": 9,
   "id": "1a3ec01c",
   "metadata": {},
   "outputs": [
    {
     "name": "stdout",
     "output_type": "stream",
     "text": [
      "Enter the first side:2\n",
      "Enter the second side:1\n",
      "Enter the third side:5\n",
      "The area of a triangle is = 6.5812232905440915\n"
     ]
    }
   ],
   "source": [
    "#3.\tWrite a Python program to find the area of a triangle?\n",
    "\n",
    "try:\n",
    "    a=float(input(\"Enter the first side:\"))\n",
    "    b=float(input(\"Enter the second side:\"))\n",
    "    c=float(input(\"Enter the third side:\"))\n",
    "    s=a+b+c/2\n",
    "    Area = (s*(s-a)*(s-b)*(s-c))**0.5\n",
    "    print(\"The area of a triangle is =\", Area)\n",
    "except:\n",
    "    print(\"The area of a triangle is =\", Area)"
   ]
  },
  {
   "cell_type": "code",
   "execution_count": 2,
   "id": "39350a3a",
   "metadata": {},
   "outputs": [
    {
     "name": "stdout",
     "output_type": "stream",
     "text": [
      "Value of a: 2\n",
      "Value of b: 1\n"
     ]
    }
   ],
   "source": [
    "#4.\tWrite a Python program to swap two variables?\n",
    "\n",
    "# Swapping of two variables using third variable\n",
    "\n",
    "try:\n",
    "    a=1\n",
    "    b=2\n",
    "    c=a\n",
    "    a=b\n",
    "    b=c\n",
    "    \n",
    "    print(\"Value of a:\", a)\n",
    "    print(\"Value of b:\", b)\n",
    "    \n",
    "except:\n",
    "    \n",
    "        print(\"Swapping of two variables using third variable\")\n",
    "        \n",
    "    \n"
   ]
  },
  {
   "cell_type": "code",
   "execution_count": 3,
   "id": "6d0d3617",
   "metadata": {},
   "outputs": [
    {
     "name": "stdout",
     "output_type": "stream",
     "text": [
      "Value of c: 6\n",
      "Value of d: 5\n"
     ]
    }
   ],
   "source": [
    "# Swapping of two variables without using third variable\n",
    "\n",
    "try:\n",
    "    c=5\n",
    "    d=6\n",
    "    c,d=d,c\n",
    "    print(\"Value of c:\", c)\n",
    "    print(\"Value of d:\", d)\n",
    "except:\n",
    "    print(\"Swapping of two variables without using third variable\")\n",
    "    \n",
    "    "
   ]
  },
  {
   "cell_type": "code",
   "execution_count": 5,
   "id": "55a928ba",
   "metadata": {},
   "outputs": [
    {
     "name": "stdout",
     "output_type": "stream",
     "text": [
      "4\n"
     ]
    }
   ],
   "source": [
    "#5.\tWrite a Python program to generate a random number?\n",
    "\n",
    "# Programme to generate a random number between 0 and 5\n",
    "\n",
    "try:\n",
    "    import random\n",
    "    print(random.randint(0,5))\n",
    "except:\n",
    "    print(random.randint(0,5))"
   ]
  }
 ],
 "metadata": {
  "kernelspec": {
   "display_name": "Python 3 (ipykernel)",
   "language": "python",
   "name": "python3"
  },
  "language_info": {
   "codemirror_mode": {
    "name": "ipython",
    "version": 3
   },
   "file_extension": ".py",
   "mimetype": "text/x-python",
   "name": "python",
   "nbconvert_exporter": "python",
   "pygments_lexer": "ipython3",
   "version": "3.9.7"
  }
 },
 "nbformat": 4,
 "nbformat_minor": 5
}
