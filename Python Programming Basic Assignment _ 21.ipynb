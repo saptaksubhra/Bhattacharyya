{
 "cells": [
  {
   "cell_type": "markdown",
   "id": "26fc9efc",
   "metadata": {},
   "source": [
    "Question1\n",
    "Write a function that takes a list and a number as arguments. Add the number to the end of\n",
    "the list, then remove the first element of the list. The function should then return the updated\n",
    "list.\n",
    "Examples\n",
    "next_in_line([5, 6, 7, 8, 9], 1) ➞ [6, 7, 8, 9, 1]\n",
    "next_in_line([7, 6, 3, 23, 17], 10) ➞ [6, 3, 23, 17, 10]\n",
    "next_in_line([1, 10, 20, 42 ], 6) ➞ [10, 20, 42, 6]\n",
    "next_in_line([], 6) ➞ \"No list has been selected\""
   ]
  },
  {
   "cell_type": "code",
   "execution_count": 14,
   "id": "dbb443f9",
   "metadata": {},
   "outputs": [
    {
     "name": "stdout",
     "output_type": "stream",
     "text": [
      "The new list after appending is :  [5, 6, 7, 8, 9, 1]\n",
      "The new list after deletion is : [6, 7, 8, 9, 1]\n"
     ]
    }
   ],
   "source": [
    "try:\n",
    "    def next_in_line():\n",
    "        \n",
    "        l1 = [5,6,7,8,9]\n",
    "        l1.append(1)\n",
    "        print(\"The new list after appending is : \", l1)\n",
    "        del l1[0]\n",
    "        print(\"The new list after deletion is :\", l1)\n",
    "    if __name__ == '__main__':\n",
    "        \n",
    "        next_in_line()\n",
    "except:\n",
    "    print('List operation')\n",
    "    "
   ]
  },
  {
   "cell_type": "code",
   "execution_count": 38,
   "id": "6771900f",
   "metadata": {},
   "outputs": [
    {
     "name": "stdout",
     "output_type": "stream",
     "text": [
      "The new list after appending is :  [7, 6, 3, 23, 17, 10]\n",
      "The new list after deletion is : [6, 3, 23, 17, 10]\n"
     ]
    }
   ],
   "source": [
    "try:\n",
    "    def next_in_line():\n",
    "        \n",
    "        l1 = [7,6,3,23,17]\n",
    "        l1.append(10)\n",
    "        print(\"The new list after appending is : \", l1)\n",
    "        del l1[0]\n",
    "        print(\"The new list after deletion is :\", l1)\n",
    "    if __name__ == '__main__':\n",
    "        \n",
    "        next_in_line()\n",
    "except:\n",
    "    print('List operation')\n",
    "    "
   ]
  },
  {
   "cell_type": "code",
   "execution_count": 39,
   "id": "0b4604e0",
   "metadata": {},
   "outputs": [
    {
     "name": "stdout",
     "output_type": "stream",
     "text": [
      "The new list after appending is :  [6]\n",
      "The new list after deletion is : []\n"
     ]
    }
   ],
   "source": [
    "try:\n",
    "    def next_in_line():\n",
    "        \n",
    "        l1 = []\n",
    "        l1.append(6)\n",
    "        print(\"The new list after appending is : \", l1)\n",
    "        del l1[0]\n",
    "        print(\"The new list after deletion is :\", l1)\n",
    "    if __name__ == '__main__':\n",
    "        \n",
    "        next_in_line()\n",
    "except:\n",
    "    print('List operation')\n",
    "    "
   ]
  },
  {
   "cell_type": "code",
   "execution_count": 18,
   "id": "2e298243",
   "metadata": {},
   "outputs": [
    {
     "name": "stdout",
     "output_type": "stream",
     "text": [
      "The new list after appending is :  [1, 10, 20, 42, 6]\n",
      "The new list after deletion is : [10, 20, 42, 6]\n"
     ]
    }
   ],
   "source": [
    "try:\n",
    "    def next_in_line():\n",
    "        \n",
    "        l1 = [1,10,20,42]\n",
    "        l1.append(6)\n",
    "        print(\"The new list after appending is : \", l1)\n",
    "        del l1[0]\n",
    "        print(\"The new list after deletion is :\", l1)\n",
    "    if __name__ == '__main__':\n",
    "        \n",
    "        next_in_line()\n",
    "except:\n",
    "    print('List operation')\n",
    "    "
   ]
  },
  {
   "cell_type": "markdown",
   "id": "aafa10fc",
   "metadata": {},
   "source": [
    "Question2\n",
    "Create the function that takes a list of dictionaries and returns the sum of people's budgets.\n",
    "Examples\n",
    "get_budgets([\n",
    "{ \"name\": \"John\", \"age\": 21, \"budget\": 23000 },\n",
    "{ \"name\": \"Steve\", \"age\": 32, \"budget\": 40000 },\n",
    "{ \"name\": \"Martin\", \"age\": 16, \"budget\": 2700 }\n",
    "]) ➞ 65700\n",
    "get_budgets([\n",
    "{ \"name\": \"John\", \"age\": 21, \"budget\": 29000 },\n",
    "{ \"name\": \"Steve\", \"age\": 32, \"budget\": 32000 },\n",
    "{ \"name\": \"Martin\", \"age\": 16, \"budget\": 1600 }\n",
    "]) ➞ 62600"
   ]
  },
  {
   "cell_type": "code",
   "execution_count": 19,
   "id": "2810fd55",
   "metadata": {},
   "outputs": [
    {
     "name": "stdout",
     "output_type": "stream",
     "text": [
      "65700\n"
     ]
    }
   ],
   "source": [
    "get_budgets=([\n",
    "{ \"name\": \"John\", \"age\": 21, \"budget\": 23000 },\n",
    "{ \"name\": \"Steve\", \"age\": 32, \"budget\": 40000 },\n",
    "{ \"name\": \"Martin\", \"age\": 16, \"budget\": 2700 }\n",
    "]) \n",
    "import operator\n",
    "get_budgets = sum(map(operator.itemgetter('budget'),get_budgets))\n",
    "print(get_budgets)"
   ]
  },
  {
   "cell_type": "code",
   "execution_count": 10,
   "id": "64e47c40",
   "metadata": {},
   "outputs": [
    {
     "name": "stdout",
     "output_type": "stream",
     "text": [
      "62600\n"
     ]
    }
   ],
   "source": [
    "\n",
    "get_budgets =([\n",
    "{ \"name\": \"John\", \"age\": 21, \"budget\": 29000 },\n",
    "{ \"name\": \"Steve\", \"age\": 32, \"budget\": 32000 },\n",
    "{ \"name\": \"Martin\", \"age\": 16, \"budget\": 1600 }\n",
    "])\n",
    "\n",
    "import operator\n",
    "get_budgets = sum(map(operator.itemgetter('budget'),get_budgets))\n",
    "print(get_budgets)"
   ]
  },
  {
   "cell_type": "markdown",
   "id": "7d57f72f",
   "metadata": {},
   "source": [
    "Question3\n",
    "Create a function that takes a string and returns a string with its letters in alphabetical order.\n",
    "Examples\n",
    "alphabet_soup(\"hello\") ➞ \"ehllo\"\n",
    "alphabet_soup(\"edabit\") ➞ \"abdeit\"\n",
    "alphabet_soup(\"hacker\") ➞ \"acehkr\"\n",
    "alphabet_soup('geek\") ➞ \"eegk\"\n",
    "alphabet_soup(\"javascript\") ➞ \"aacijprstv\""
   ]
  },
  {
   "cell_type": "code",
   "execution_count": 7,
   "id": "a3543ae2",
   "metadata": {},
   "outputs": [
    {
     "name": "stdout",
     "output_type": "stream",
     "text": [
      "ehllo\n"
     ]
    }
   ],
   "source": [
    "try:\n",
    "    \n",
    "    from collections import Counter\n",
    "    from itertools import chain\n",
    "    import string\n",
    "\n",
    "    s = 'hello'\n",
    "    def alphabet_soup(s):\n",
    "        \n",
    "        counts = Counter(s)\n",
    "\n",
    "        return ''.join(char * counts[char]for char in chain(*zip(string.ascii_uppercase, string.ascii_lowercase)))\n",
    "    print(alphabet_soup(s))\n",
    "except:\n",
    "    print('string operation')"
   ]
  },
  {
   "cell_type": "code",
   "execution_count": 8,
   "id": "1f37753e",
   "metadata": {},
   "outputs": [
    {
     "name": "stdout",
     "output_type": "stream",
     "text": [
      "abdeit\n"
     ]
    }
   ],
   "source": [
    "try:\n",
    "    \n",
    "    from collections import Counter\n",
    "    from itertools import chain\n",
    "    import string\n",
    "\n",
    "    s = 'edabit'\n",
    "    def alphabet_soup(s):\n",
    "        \n",
    "        counts = Counter(s)\n",
    "\n",
    "        return ''.join(char * counts[char]for char in chain(*zip(string.ascii_uppercase, string.ascii_lowercase)))\n",
    "    print(alphabet_soup(s))\n",
    "except:\n",
    "    print('string operation')"
   ]
  },
  {
   "cell_type": "code",
   "execution_count": 9,
   "id": "779d771a",
   "metadata": {},
   "outputs": [
    {
     "name": "stdout",
     "output_type": "stream",
     "text": [
      "acehkr\n"
     ]
    }
   ],
   "source": [
    "try:\n",
    "    \n",
    "    from collections import Counter\n",
    "    from itertools import chain\n",
    "    import string\n",
    "\n",
    "    s = 'hacker'\n",
    "    def alphabet_soup(s):\n",
    "        \n",
    "        counts = Counter(s)\n",
    "\n",
    "        return ''.join(char * counts[char]for char in chain(*zip(string.ascii_uppercase, string.ascii_lowercase)))\n",
    "    print(alphabet_soup(s))\n",
    "except:\n",
    "    print('string operation')"
   ]
  },
  {
   "cell_type": "code",
   "execution_count": 10,
   "id": "9681a580",
   "metadata": {},
   "outputs": [
    {
     "name": "stdout",
     "output_type": "stream",
     "text": [
      "eegk\n"
     ]
    }
   ],
   "source": [
    "try:\n",
    "    \n",
    "    from collections import Counter\n",
    "    from itertools import chain\n",
    "    import string\n",
    "\n",
    "    s = 'geek'\n",
    "    def alphabet_soup(s):\n",
    "        \n",
    "        counts = Counter(s)\n",
    "\n",
    "        return ''.join(char * counts[char]for char in chain(*zip(string.ascii_uppercase, string.ascii_lowercase)))\n",
    "    print(alphabet_soup(s))\n",
    "except:\n",
    "    print('string operation')"
   ]
  },
  {
   "cell_type": "code",
   "execution_count": 7,
   "id": "4af7dead",
   "metadata": {},
   "outputs": [
    {
     "name": "stdout",
     "output_type": "stream",
     "text": [
      "aacijprstv\n"
     ]
    }
   ],
   "source": [
    "try:\n",
    "    \n",
    "    from collections import Counter\n",
    "    from itertools import chain\n",
    "    import string\n",
    "\n",
    "    s = 'javascript'\n",
    "    def alphabet_soup(s):\n",
    "        \n",
    "        counts = Counter(s)\n",
    "\n",
    "        return ''.join(char * counts[char]for char in chain(*zip(string.ascii_uppercase, string.ascii_lowercase)))\n",
    "    print(alphabet_soup(s))\n",
    "except:\n",
    "    print('string operation')"
   ]
  },
  {
   "cell_type": "markdown",
   "id": "11b4a137",
   "metadata": {},
   "source": [
    "Question4\n",
    "Suppose that you invest $10,000 for 10 years at an interest rate of 6% compounded monthly.\n",
    "What will be the value of your investment at the end of the 10 year period?\n",
    "Create a function that accepts the principal p, the term in years t, the interest rate r, and the\n",
    "number of compounding periods per year n. The function returns the value at the end of term\n",
    "rounded to the nearest cent.\n",
    "For the example above:\n",
    "compound_interest(10000, 10, 0.06, 12) ➞ 18193.97\n",
    "Note that the interest rate is given as a decimal and n=12 because with monthly compounding\n",
    "there are 12 periods per year. Compounding can also be done annually, quarterly, weekly, or\n",
    "daily.\n",
    "Examples\n",
    "compound_interest(100, 1, 0.05, 1) ➞ 105.0\n",
    "compound_interest(3500, 15, 0.1, 4) ➞ 15399.26\n",
    "compound_interest(100000, 20, 0.15, 365) ➞ 2007316.26"
   ]
  },
  {
   "cell_type": "markdown",
   "id": "214e4e42",
   "metadata": {},
   "source": [
    "Question5\n",
    "Write a function that takes a list of elements and returns only the integers.\n",
    "Examples\n",
    "return_only_integer([9, 2,\"space\", \"car\", \"lion\", 16]) ➞ [9, 2, 16]\n",
    "return_only_integer([\"hello\", 81, \"basketball\", 123, \"fox\"]) ➞ [81, 123]\n",
    "return_only_integer([10,\"121\", 56, 20, \"car\", 3, \"lion\"]) ➞ [10, 56, 20,\n",
    "3]\n",
    "return_only_integer([\"String\";, True, 3.3, 1]) ➞ [1]"
   ]
  }
 ],
 "metadata": {
  "kernelspec": {
   "display_name": "Python 3 (ipykernel)",
   "language": "python",
   "name": "python3"
  },
  "language_info": {
   "codemirror_mode": {
    "name": "ipython",
    "version": 3
   },
   "file_extension": ".py",
   "mimetype": "text/x-python",
   "name": "python",
   "nbconvert_exporter": "python",
   "pygments_lexer": "ipython3",
   "version": "3.9.7"
  }
 },
 "nbformat": 4,
 "nbformat_minor": 5
}
