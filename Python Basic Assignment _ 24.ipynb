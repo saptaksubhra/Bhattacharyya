{
 "cells": [
  {
   "cell_type": "markdown",
   "id": "5be5d4eb",
   "metadata": {},
   "source": [
    "1. What is the relationship between def statements and lambda expressions ?\n",
    "\n",
    "Both def statements and lambda expressions generate the same type of function that means they both have the same type of capabilities and metadata. Therir technical difference is syntactical.\n",
    "A lambda is an expression which produces a function whereas a def statement is a statement which generates a function.\n",
    "\n",
    "The examples have been shown below to define a function by def statement and to define lambda expression."
   ]
  },
  {
   "cell_type": "code",
   "execution_count": 1,
   "id": "dcd334e9",
   "metadata": {},
   "outputs": [
    {
     "name": "stdout",
     "output_type": "stream",
     "text": [
      "-8\n"
     ]
    }
   ],
   "source": [
    "#Defining a function wuith def statement\n",
    "\n",
    "def sub(A, B):\n",
    "    return A - B\n",
    "print(sub(8, 16))"
   ]
  },
  {
   "cell_type": "code",
   "execution_count": 3,
   "id": "94cdf54e",
   "metadata": {},
   "outputs": [
    {
     "name": "stdout",
     "output_type": "stream",
     "text": [
      "3.142857142857143\n"
     ]
    }
   ],
   "source": [
    "# Defining lambda Expression\n",
    "\n",
    "div = lambda C, D : C / D\n",
    "print(div(22 , 7))"
   ]
  },
  {
   "cell_type": "markdown",
   "id": "c22d42d2",
   "metadata": {},
   "source": [
    "2. What is the benefit of lambda?\n",
    "\n",
    "The code is simple and clear. No Additional variables are added up. Lambda function reduces the number of lines of code as compared to normal python function defined using def keyword. So, using lambda expressions make the code easier to comprehend than the function name we can think about."
   ]
  },
  {
   "cell_type": "code",
   "execution_count": 9,
   "id": "8adf48bb",
   "metadata": {},
   "outputs": [
    {
     "name": "stdout",
     "output_type": "stream",
     "text": [
      "230\n"
     ]
    }
   ],
   "source": [
    "#Example of lambda expression  which is simple and clear and performing simple mathematical opeartion.\n",
    "\n",
    "try:\n",
    "    mul = lambda u , v : u*v\n",
    "    print(mul(10, 23))\n",
    "except:\n",
    "    print(\"Lambda operation\")"
   ]
  },
  {
   "cell_type": "markdown",
   "id": "c80e31ac",
   "metadata": {},
   "source": [
    "3. Compare and contrast map, filter, and reduce.\n",
    "\n",
    "The map( function) iterates through all the items in the given iterable and executes the function we have passed as an argument on each of those.\n",
    "The syntax of map() function is given below.\n",
    "\n",
    "map(function, iterable(s))\n",
    " The following example has been given to show the functionality of map() function."
   ]
  },
  {
   "cell_type": "code",
   "execution_count": 6,
   "id": "745345c8",
   "metadata": {},
   "outputs": [
    {
     "name": "stdout",
     "output_type": "stream",
     "text": [
      "[False, False, True, False, False, False, True]\n"
     ]
    }
   ],
   "source": [
    "# In this example the elements of the list which starts up with \"t\" will return True else  will return False with the \n",
    "#  map() function in the form of  a list.\n",
    "try:\n",
    "    car = ['lamborgini', 'ferrari', 'toyota', 'kia', 'nano', 'mahindra','tata']\n",
    "    def starts_with_t(n):\n",
    "        return n[0] == 't'\n",
    "    map_obj = map(starts_with_t, car)\n",
    "    print(list(map_obj))\n",
    "except:\n",
    "    print(\"Map Function\")"
   ]
  },
  {
   "cell_type": "code",
   "execution_count": 10,
   "id": "92b99965",
   "metadata": {},
   "outputs": [
    {
     "name": "stdout",
     "output_type": "stream",
     "text": [
      "[1, 2, 3, 4, 5]\n"
     ]
    }
   ],
   "source": [
    "# Another example of map() function\n",
    "# After doing typecasting of the strings in the given list into integer map()function has been implemented to print the list \n",
    "# with elements as integers instaed of strings.\n",
    "try:\n",
    "    l = ['1', '2', '3', '4', '5']\n",
    "    def test(a):\n",
    "        return int(a)\n",
    "    print(list(map(test, l)))\n",
    "except: \n",
    "    print(\"map function\")"
   ]
  },
  {
   "cell_type": "markdown",
   "id": "e03d6d09",
   "metadata": {},
   "source": [
    "filter() function is similar to map() function. filter() function takes a function object and iterable and returns a new list. But filter()  function generates a new list with the items or elements of that given list where that satisfy the certain given condition. That means the function we have passed returns True.\n",
    "\n",
    "The syntax of filter() function is given below:\n",
    "filter(function or None, iterable) "
   ]
  },
  {
   "cell_type": "code",
   "execution_count": 14,
   "id": "2160a4b9",
   "metadata": {},
   "outputs": [
    {
     "name": "stdout",
     "output_type": "stream",
     "text": [
      "['toyota', 'tata']\n"
     ]
    }
   ],
   "source": [
    "#The filter() function has been exemplified here.\n",
    "\n",
    "try:\n",
    "    car = ['lamborgini', 'ferrari', 'toyota', 'kia', 'nano', 'mahindra','tata']\n",
    "    def starts_with_t(n):\n",
    "        return n[0] == 't'\n",
    "    filter_obj = filter(starts_with_t, car)\n",
    "    print(list(filter_obj))\n",
    "except:\n",
    "    print(\"The functionality of filter function\")\n",
    "    "
   ]
  },
  {
   "cell_type": "markdown",
   "id": "0c5020fb",
   "metadata": {},
   "source": [
    "In the above example, a new list has been created with the elements for which starts_with_t function returned True  with the help of filter() function"
   ]
  },
  {
   "cell_type": "markdown",
   "id": "f702beac",
   "metadata": {},
   "source": [
    "reduce() function has different functionality as compared to map() and filter() function. It dose not return a new list or a list rather it returns a single value based on the function and iterable we have passed on. In Python3, reduce() function is not a built-in function. So, we need to import that function first from functools module before we are going to utilize that reduce() function.\n",
    "\n",
    "The syntax of reduce() functionm is given below.\n",
    "\n",
    "reduce(function, sequence[, initial])\n",
    "\n"
   ]
  },
  {
   "cell_type": "code",
   "execution_count": 16,
   "id": "7f31a72a",
   "metadata": {},
   "outputs": [
    {
     "name": "stdout",
     "output_type": "stream",
     "text": [
      "99\n"
     ]
    }
   ],
   "source": [
    "# The example of reduce() function\n",
    "\n",
    "try:\n",
    "    from functools import reduce\n",
    "    def add(a, b):\n",
    "        return a + b\n",
    "    l2 = [4,43,16, 36]\n",
    "    print(reduce(add, l2))\n",
    "except:\n",
    "    print(\"Reduce Function\")"
   ]
  },
  {
   "cell_type": "markdown",
   "id": "beccc2a4",
   "metadata": {},
   "source": [
    "All these functions are useful to have simple operations in a programming but we should avoid using these functions in complex operations and it would be better to implement for loop or other operations for complex opeartions in programming."
   ]
  },
  {
   "cell_type": "markdown",
   "id": "ff8ee406",
   "metadata": {},
   "source": [
    "4. What are function annotations, and how are they used?\n",
    "\n",
    "Function annontations introduced in Python3 adds up a feature that allows us to add up arbitrary metadata to function parameters and return value. The basic purpose is to have a standard way to link metadata to function parameters and return  value.\n",
    " Function annotations are totally optional both for function parameters and return value.\n",
    " It provides a path of associating with several parts of a function with arbitrary python expressions at the time of compiling.\n",
    " \n",
    " Syntax of functions annotations has been given below.\n",
    " \n",
    " def foo(a : expression, b : expression = 50):\n",
    " All the annotations are stored in a dictionary named __annotations__ which itself is an attribute of the function.\n",
    " \n",
    " def func(x:'annotating x', y: 'annotating y', z: int) -> float: print(x + y + z)\n",
    " func.__annotations__\n",
    "{'x': 'annotating x', 'y': 'annotating y', 'z': <class 'int'>, 'return': <class 'float'>}\n",
    "\n",
    "As we can see in the above code example, annotations are not typed declarations, though they could certainly be used for that purpose and they resemble the typing syntax used in some other languages, as shown below.\n",
    "\n",
    "def func(a: 'python', b: {'category: ' 'language'}) -> 'yes':\n",
    "   pass\n",
    "func.__annotations__\n",
    "{'a': 'python', 'b': {'category: language'}, 'return': 'yes'}\n",
    "\n"
   ]
  },
  {
   "cell_type": "markdown",
   "id": "aa72d70e",
   "metadata": {},
   "source": [
    "Usage of Function Annotations\n",
    "# The @no_type_check decorator\n",
    "\n",
    "from typing import no_type_check\n",
    " @no_type_check\n",
    "def func(a: 'python', b: {'category: ' 'language'}) -> 'yes':\n",
    "   pass\n",
    "\n",
    "Normally, this is not needed as most tools that use annotations have a way of recognizing the ones meant for them. The decorator is for protecting corner cases where things are ambiguous."
   ]
  },
  {
   "cell_type": "markdown",
   "id": "5658dbf2",
   "metadata": {},
   "source": [
    "5. What are recursive functions, and how are they used?\n",
    "\n",
    "A function is said to be a recursive function when the defined function can call itself. The benefit of it is that we can loop through data to reach an output. The example has been given below of a recursive function."
   ]
  },
  {
   "cell_type": "code",
   "execution_count": 17,
   "id": "55e89688",
   "metadata": {},
   "outputs": [
    {
     "name": "stdout",
     "output_type": "stream",
     "text": [
      " Recursion Example Results :\n",
      "1\n",
      "3\n",
      "6\n",
      "10\n",
      "15\n",
      "21\n",
      "28\n",
      "36\n",
      "45\n",
      "55\n"
     ]
    }
   ],
   "source": [
    "try:\n",
    "    def recursive(a):\n",
    "        if(a > 0):\n",
    "            Output = a + recursive(a - 1)\n",
    "            print(Output)\n",
    "        else:\n",
    "            Output = 0\n",
    "        return Output\n",
    "    print(\" Recursion Example Results :\")\n",
    "    recursive(10)\n",
    "except:\n",
    "    print(\"Recursive Function\")"
   ]
  },
  {
   "cell_type": "markdown",
   "id": "8113cc9c",
   "metadata": {},
   "source": [
    "6. What are some general design guidelines for coding functions?\n",
    "\n",
    "We should use 4-space identation and no tabs."
   ]
  },
  {
   "cell_type": "code",
   "execution_count": null,
   "id": "f67ccbc7",
   "metadata": {},
   "outputs": [],
   "source": [
    "#Example:\n",
    "# Alignment with opening delimiter\n",
    "\n",
    "devD = name_of_function(var_1, var_2, var_3, var_4)"
   ]
  },
  {
   "cell_type": "code",
   "execution_count": 10,
   "id": "256b3306",
   "metadata": {},
   "outputs": [],
   "source": [
    "# First line contains no argument, but in the second line more indentations\n",
    "# have been included to differentiate this one from the rest.\n",
    "\n",
    "def name_of_function(var_1, var_2, var_3, var_4):\n",
    "    print(var_2)\n",
    "    \n",
    "# the 4 space ruls is not always mandated and can be overruled for continuation line."
   ]
  },
  {
   "cell_type": "markdown",
   "id": "0f4df2d4",
   "metadata": {},
   "source": [
    "Usgae of docstrings : There are single-line and multi-line docstrings that can be used in Python. these docstrings are used to define a particulr programme or a particular function. And the notation is always triple inverted commas. And that docstring's description is written right after defining the function."
   ]
  },
  {
   "cell_type": "code",
   "execution_count": null,
   "id": "dc8b69e3",
   "metadata": {},
   "outputs": [],
   "source": [
    "#Example\n",
    "\n",
    "def add():\n",
    "    \"\"\"This is a function for addition opeartion\"\"\""
   ]
  },
  {
   "cell_type": "markdown",
   "id": "76e90cd0",
   "metadata": {},
   "source": [
    "We should use spaces around operators and after commas, but not directly inside bracketing constructs."
   ]
  },
  {
   "cell_type": "code",
   "execution_count": null,
   "id": "9d7e634a",
   "metadata": {},
   "outputs": [],
   "source": [
    "# Example\n",
    "A = B(1, 2) + C(3, 6)"
   ]
  },
  {
   "cell_type": "markdown",
   "id": "1531024b",
   "metadata": {},
   "source": [
    "Use of trailing commas: This is important part in representing tuples only. In the below example, there is only one element inside that tuple named topi. But after that element of that tuple, the trailing comma is mandatory."
   ]
  },
  {
   "cell_type": "code",
   "execution_count": 12,
   "id": "a218292b",
   "metadata": {},
   "outputs": [],
   "source": [
    "#Example\n",
    "\n",
    "topi = (\"MIT\", )"
   ]
  },
  {
   "cell_type": "code",
   "execution_count": 13,
   "id": "b17cd6b8",
   "metadata": {},
   "outputs": [
    {
     "data": {
      "text/plain": [
       "tuple"
      ]
     },
     "execution_count": 13,
     "metadata": {},
     "output_type": "execute_result"
    }
   ],
   "source": [
    "type(topi)"
   ]
  },
  {
   "cell_type": "markdown",
   "id": "3e2f2d44",
   "metadata": {},
   "source": [
    "Naming Conventions: There are few naming conventions which are to be followed in order to make the programme easier to read and simpler. Naming convention in Python is abit messy. few namin conventions have been exmplified below.\n",
    "\n",
    "a (single lowercase letter)\n",
    "A (single uppercase letter)\n",
    "lowercase\n",
    "UPPERCASE"
   ]
  },
  {
   "cell_type": "markdown",
   "id": "270de64f",
   "metadata": {},
   "source": [
    "We should always use a pointer while naming of function of methods. Normally we use self as apointer but in Python there is no reserved keyword for a pointer. It can be someone's name or any variable's name."
   ]
  },
  {
   "cell_type": "code",
   "execution_count": null,
   "id": "bd32bbde",
   "metadata": {},
   "outputs": [],
   "source": [
    "#Example\n",
    "\n",
    "class car:\n",
    "    def __init__(oxford, toyota, nano, lamborgini):\n",
    "        oxford.toyota = toyota\n",
    "        oxford.nano = nano\n",
    "        oxford.lamborgini = lamborgini\n",
    "        \n",
    "# In the above example car is a class and __init__ is a method and oxford is the pointer.\n",
    "    "
   ]
  },
  {
   "cell_type": "markdown",
   "id": "fa200046",
   "metadata": {},
   "source": [
    "7. Name three or more ways that functions can communicate results to a caller.\n",
    "\n",
    "Function is defined by the def statement.\n",
    "The code block within every function starts with a colon (:) and should be indented (space).\n",
    "Any arguments or input parameters should be placed within these parentheses, etc.\n",
    "At least one indent should be left before the code after declaring function.\n",
    "Same indent style should be maintained throughout the code within def function.\n",
    "For best practices three or four indents are considered best before the statement.\n",
    "We can use the “return” command to return values to the function call.\n"
   ]
  },
  {
   "cell_type": "code",
   "execution_count": 17,
   "id": "c12d59d3",
   "metadata": {},
   "outputs": [
    {
     "name": "stdout",
     "output_type": "stream",
     "text": [
      "I am learning the basic of Python.\n",
      "still in same function : function1\n",
      "16\n",
      "Function of function\n"
     ]
    }
   ],
   "source": [
    "# Example of how function can communicate results to a caller\n",
    "# defining a function\n",
    "        \n",
    "try:\n",
    "    def function1():\n",
    "        print(\"I am learning the basic of Python.\")\n",
    "        print(\"still in same function : function1\")\n",
    "    function1()\n",
    "    \n",
    "    def square(s):\n",
    "        return s**2\n",
    "    print(square(4))\n",
    "    \n",
    "    def mutiplication(a, b = 0):\n",
    "        print(\"Value of a : \", a)\n",
    "        print(\"Value of b : \", b)\n",
    "        \n",
    "        return a*b\n",
    "    print(multiplication(a = 4, b = 6))\n",
    "except:\n",
    "    print(\"Function of function\")\n",
    "        "
   ]
  }
 ],
 "metadata": {
  "kernelspec": {
   "display_name": "Python 3 (ipykernel)",
   "language": "python",
   "name": "python3"
  },
  "language_info": {
   "codemirror_mode": {
    "name": "ipython",
    "version": 3
   },
   "file_extension": ".py",
   "mimetype": "text/x-python",
   "name": "python",
   "nbconvert_exporter": "python",
   "pygments_lexer": "ipython3",
   "version": "3.9.7"
  }
 },
 "nbformat": 4,
 "nbformat_minor": 5
}
