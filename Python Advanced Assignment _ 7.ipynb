{
 "cells": [
  {
   "cell_type": "markdown",
   "id": "bbea5753",
   "metadata": {},
   "source": [
    "Q1. What is the purpose of the try statement?\n",
    "\n",
    "The purpose of the try statement is to define a block of code to be tested for errors while it is being executed. Python allows for errors and exceptions to be handled by the program. To do so, we require to use both the try and except statements. An example of that has been given below."
   ]
  },
  {
   "cell_type": "code",
   "execution_count": 1,
   "id": "c503fd94",
   "metadata": {},
   "outputs": [
    {
     "name": "stdout",
     "output_type": "stream",
     "text": [
      "Cricket has not been defined properly.\n"
     ]
    }
   ],
   "source": [
    "#Example of try and except statement\n",
    "\n",
    "try:\n",
    "    print(Cricket)\n",
    "except:\n",
    "    print(\"Cricket has not been defined properly.\")\n",
    "    "
   ]
  },
  {
   "cell_type": "markdown",
   "id": "495e5655",
   "metadata": {},
   "source": [
    "In the above example, we can see an arror has occurred in the try statement. If any error occur within try statemnt, execution of the code will stop and jump to the except statement. Here, it will execute the code whatever has been written in the print statement. And if any error occurs in the except statement then the message in the console will be \"During handling of the above exception, another exception occurred. So, we should be very careful of that and not to put any wrong code that could cause an error within the except statement."
   ]
  },
  {
   "cell_type": "markdown",
   "id": "d7d12070",
   "metadata": {},
   "source": [
    "Q2. What are the two most popular try statement variations?\n",
    "\n",
    "The two most popular try statement variations are syntax errors and exceptions in Python.\n",
    "Errors are the problems due to which the programme will stop execution and exceptions are raised when some internal events occur which alters the normal flow of the programme.\n",
    "\n",
    "Two kinds of error occurs in Python.\n",
    "One is Syntax errors and the other one is exceptions or logical errors.\n",
    "Both errors are exemplified below."
   ]
  },
  {
   "cell_type": "code",
   "execution_count": 5,
   "id": "09611c06",
   "metadata": {},
   "outputs": [
    {
     "ename": "SyntaxError",
     "evalue": "invalid syntax (Temp/ipykernel_6536/856435619.py, line 5)",
     "output_type": "error",
     "traceback": [
      "\u001b[1;36m  File \u001b[1;32m\"C:\\Users\\USER\\AppData\\Local\\Temp/ipykernel_6536/856435619.py\"\u001b[1;36m, line \u001b[1;32m5\u001b[0m\n\u001b[1;33m    if (amount > 10000)\u001b[0m\n\u001b[1;37m                       ^\u001b[0m\n\u001b[1;31mSyntaxError\u001b[0m\u001b[1;31m:\u001b[0m invalid syntax\n"
     ]
    }
   ],
   "source": [
    "# Example of Syntax Error\n",
    "\n",
    "amount = 16000\n",
    "\n",
    "if (amount > 10000)\n",
    "print(\"I am eligible to purchase FSDS from INEURON.\")\n",
    "\n"
   ]
  },
  {
   "cell_type": "markdown",
   "id": "e5b95a9d",
   "metadata": {},
   "source": [
    "In the above example, syntax error has occurred becaue one colon : is missing after the if statement. So, by putting colon : after the if statement, the syntax error will be fixed."
   ]
  },
  {
   "cell_type": "code",
   "execution_count": 6,
   "id": "2eca17bb",
   "metadata": {},
   "outputs": [
    {
     "ename": "ZeroDivisionError",
     "evalue": "division by zero",
     "output_type": "error",
     "traceback": [
      "\u001b[1;31m---------------------------------------------------------------------------\u001b[0m",
      "\u001b[1;31mZeroDivisionError\u001b[0m                         Traceback (most recent call last)",
      "\u001b[1;32m~\\AppData\\Local\\Temp/ipykernel_6536/3869268971.py\u001b[0m in \u001b[0;36m<module>\u001b[1;34m\u001b[0m\n\u001b[0;32m      2\u001b[0m \u001b[1;33m\u001b[0m\u001b[0m\n\u001b[0;32m      3\u001b[0m \u001b[0mnum\u001b[0m \u001b[1;33m=\u001b[0m \u001b[1;36m43\u001b[0m\u001b[1;33m\u001b[0m\u001b[1;33m\u001b[0m\u001b[0m\n\u001b[1;32m----> 4\u001b[1;33m \u001b[0mresult\u001b[0m \u001b[1;33m=\u001b[0m \u001b[0mnum\u001b[0m \u001b[1;33m/\u001b[0m \u001b[1;36m0\u001b[0m\u001b[1;33m\u001b[0m\u001b[1;33m\u001b[0m\u001b[0m\n\u001b[0m\u001b[0;32m      5\u001b[0m \u001b[0mprint\u001b[0m\u001b[1;33m(\u001b[0m\u001b[0mresult\u001b[0m\u001b[1;33m)\u001b[0m\u001b[1;33m\u001b[0m\u001b[1;33m\u001b[0m\u001b[0m\n\u001b[0;32m      6\u001b[0m \u001b[1;33m\u001b[0m\u001b[0m\n",
      "\u001b[1;31mZeroDivisionError\u001b[0m: division by zero"
     ]
    }
   ],
   "source": [
    "# Example of Exceptions or logical error\n",
    "\n",
    "num = 43\n",
    "result = num / 0\n",
    "print(result)\n",
    "\n"
   ]
  },
  {
   "cell_type": "markdown",
   "id": "8b7a367b",
   "metadata": {},
   "source": [
    "In the above example, zero division error has occurred as we are trying to divide the given number by zero."
   ]
  },
  {
   "cell_type": "markdown",
   "id": "49191140",
   "metadata": {},
   "source": [
    "Q3. What is the purpose of the raise statement?\n",
    "\n",
    "In Python,  the purpose of the raise statement is to rasie exceptions or errors. The raise keyword raises an error and stops the control flow of the programme. It is used to bring up the current exception in an exception handler so that it can be handled further up the call stack.\n",
    "\n",
    "Syntax of the raise keyword:\n",
    "\n",
    "raise{name_of_the_exception_class}\n",
    "\n",
    "And the basic way to rasie an arror is:\n",
    "\n",
    "raise Exception(\"user text message\")\n",
    "\n",
    "An example has been given below where we will check if a number is even or odd. If the given number is odd then an exception will be raised."
   ]
  },
  {
   "cell_type": "code",
   "execution_count": 3,
   "id": "dafde723",
   "metadata": {},
   "outputs": [
    {
     "ename": "Exception",
     "evalue": "The number should not be odd.",
     "output_type": "error",
     "traceback": [
      "\u001b[1;31m---------------------------------------------------------------------------\u001b[0m",
      "\u001b[1;31mException\u001b[0m                                 Traceback (most recent call last)",
      "\u001b[1;32m~\\AppData\\Local\\Temp/ipykernel_12700/3308230435.py\u001b[0m in \u001b[0;36m<module>\u001b[1;34m\u001b[0m\n\u001b[0;32m      2\u001b[0m \u001b[1;32mif\u001b[0m \u001b[0minteger\u001b[0m \u001b[1;33m%\u001b[0m \u001b[1;36m2\u001b[0m \u001b[1;33m!=\u001b[0m \u001b[1;36m0\u001b[0m\u001b[1;33m:\u001b[0m\u001b[1;33m\u001b[0m\u001b[1;33m\u001b[0m\u001b[0m\n\u001b[0;32m      3\u001b[0m \u001b[1;33m\u001b[0m\u001b[0m\n\u001b[1;32m----> 4\u001b[1;33m     \u001b[1;32mraise\u001b[0m \u001b[0mException\u001b[0m\u001b[1;33m(\u001b[0m\u001b[1;34m\"The number should not be odd.\"\u001b[0m\u001b[1;33m)\u001b[0m\u001b[1;33m\u001b[0m\u001b[1;33m\u001b[0m\u001b[0m\n\u001b[0m",
      "\u001b[1;31mException\u001b[0m: The number should not be odd."
     ]
    }
   ],
   "source": [
    "\n",
    "integer = 43\n",
    "if integer % 2 != 0:\n",
    "    \n",
    "    raise Exception(\"The number should not be odd.\")\n"
   ]
  },
  {
   "cell_type": "markdown",
   "id": "34e43089",
   "metadata": {},
   "source": [
    "Q4. What does the assert statement do, and what other statement is it like?\n",
    "\n",
    "Assertions are statements that assert a fact in our programme with confidence. For example, when we write a division function, we are confident that the divisor should not be zero and we aseert or state that divisor is not equal to zero.\n",
    "\n",
    "Assertions are simply boolean expressions which check whether a given condition is true or false. If the given condition is true then the programme does nothing and moves to the next line of code and executes. But, if it is false, then the prgramme stops executing and throws an error.\n",
    "\n",
    "It can be also named as a debugging tool as it halts the programme as soon as an error occurs and displays it.\n",
    "\n",
    "The syntax of assert statement can be in two ways in Python.\n",
    "\n",
    "First one is:\n",
    "\n",
    "assert<condition>\n",
    "\n",
    "In this syntax, assert statement has a condition and if the condition is not fulfilled then the programme will stop and will display AssertionError.\n",
    "    \n",
    "Second syntax is :\n",
    "\n",
    "assert<condition>,<error message>\n",
    "\n",
    "In this case, assert statement has got condition and an optional error message. If the condition will not be fulfilled in this case, then the programme wil stop and will display AeertionErroralong with error message.\n",
    "    \n",
    "Aeert statement is like boolean statement which check whthere a given condition is true or not.  If the given condition is true then the programme does nothing and moves to the next line of code and executes. But, if it is false, then the prgramme stops executing and throws an error.\n",
    "\n"
   ]
  },
  {
   "cell_type": "markdown",
   "id": "3e9b945e",
   "metadata": {},
   "source": [
    "Q5. What is the purpose of the with/as argument, and what other statement is it like?\n",
    "\n",
    "The purpose of the with statement in Python is to utilise in exception handling and make the code cleaner and more legible. It simplifies the management of common resources like file streams.\n",
    "\n",
    "The below example will illustrate how the use of with statement makes the code cleaner.\n"
   ]
  },
  {
   "cell_type": "code",
   "execution_count": 1,
   "id": "837f8c6c",
   "metadata": {},
   "outputs": [],
   "source": [
    "#File handling without using with statement\n",
    "\n",
    "file = open(\"file_path\", 'w')\n",
    "file.write(\" Hi There !\")\n",
    "file.close()"
   ]
  },
  {
   "cell_type": "code",
   "execution_count": 2,
   "id": "fc60b1f8",
   "metadata": {},
   "outputs": [],
   "source": [
    "# File Handling without using with statement\n",
    "\n",
    "file = open('file_path','w')\n",
    "try:\n",
    "    file.write(\"Hi there !\")\n",
    "finally:\n",
    "    file.close()\n",
    "    "
   ]
  },
  {
   "cell_type": "code",
   "execution_count": 3,
   "id": "d00ff130",
   "metadata": {},
   "outputs": [],
   "source": [
    "# file Handling using with statement\n",
    "\n",
    "with open ('file_path', 'w') as file:\n",
    "    file.write(\"hi there !\")"
   ]
  },
  {
   "cell_type": "markdown",
   "id": "75b0d902",
   "metadata": {},
   "source": [
    "In the first two applications, file.close() has been called. But, there is no requirement of calling file.close() when using with statement.The with statement itself assures proper acquistion and release of resources. An exception during the file.write() call in the first implementation can prevent the file from closing properly which may cause several bugs in the code and  many changes in files do not go into effect until the file is properly closed.\n",
    "But in the seconf=d approach of with statement makes the code compact and much more legible.  Thus with stament helps avoiding bugs in the programming.\n",
    "\n",
    "It is like compound statement which contains a group statements. Compound statements span multiple lines though in simple incarnations the whole compound statemnt can situate in oneline."
   ]
  }
 ],
 "metadata": {
  "kernelspec": {
   "display_name": "Python 3 (ipykernel)",
   "language": "python",
   "name": "python3"
  },
  "language_info": {
   "codemirror_mode": {
    "name": "ipython",
    "version": 3
   },
   "file_extension": ".py",
   "mimetype": "text/x-python",
   "name": "python",
   "nbconvert_exporter": "python",
   "pygments_lexer": "ipython3",
   "version": "3.9.7"
  }
 },
 "nbformat": 4,
 "nbformat_minor": 5
}
