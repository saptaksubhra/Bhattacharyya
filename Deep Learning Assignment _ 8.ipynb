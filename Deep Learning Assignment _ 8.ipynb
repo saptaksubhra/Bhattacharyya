{
 "cells": [
  {
   "cell_type": "markdown",
   "id": "5b6223f8",
   "metadata": {},
   "source": [
    "1.What are the pros and cons of using a stateful RNN versus a stateless RNN?\n",
    "\n",
    "Setting an RNN to be stateful means that it can build a state across its training sequence and even maintain that state when doing predictions.\n",
    "The pros of using stateful RNNs versus a stateless RNN are smaller network sizes and/or lower training times. The cons is that we are now responsible for training the network with a batch size that reflects the periodicity of the data, and resetting the state after each epoch. In addition, data should not be shuffled while training the network, since the order in which the data is presented is relevant for stateful networks."
   ]
  },
  {
   "cell_type": "markdown",
   "id": "9c02874e",
   "metadata": {},
   "source": [
    "2.Why do people use Encoder–Decoder RNNs rather than plain sequence-to-sequence RNNs for automatic translation?\n",
    "\n",
    "People use encoder–decoder RNNs rather than plain sequence-to-sequence RNNs for automatic translation because sequence-to-sequence RNNs translate one word at a time and encoder-decoder RNNs read and  translate a sentence at a time."
   ]
  },
  {
   "cell_type": "markdown",
   "id": "a4438dbe",
   "metadata": {},
   "source": [
    "3.How can you deal with variable-length input sequences? What about variable-length output sequences?\n",
    "\n",
    "We can deal with variable -length input sequences with following steps:\n",
    "\n",
    "i.set sequence_length parameter when calling static_rnn() \n",
    "\n",
    "ii. pad smaller input to make them same size as largest input.\n",
    "\n",
    "We can deal with variable -length output sequences with following steps:\n",
    "\n",
    "i.set sequence_length parameter when calling dynamic_rnn()\n",
    "\n",
    "ii.pad smaller output to make them same size as largest output."
   ]
  },
  {
   "cell_type": "markdown",
   "id": "27e9b91a",
   "metadata": {},
   "source": [
    "4.What is beam search and why would you use it? What tool can you use to implement it?\n",
    "\n",
    "Beam search is the most popular search strategy for the sequence to sequence Deep NLP algorithms like Neural Machine Translation, Image captioning, Chatbots, etc. Beam search considers multiple best options based on beamwidth using conditional probability, which is better than the sub-optimal Greedy search.\n",
    "\n",
    "A beam search is most often used to maintain tractability in large systems with insufficient amount of memory to store the entire search tree. For example, it has been used in many machine translation systems. (The state of the art now primarily uses neural machine translation based methods.)\n",
    "\n",
    "We use conditional probability to implement beam search."
   ]
  },
  {
   "cell_type": "markdown",
   "id": "2080855f",
   "metadata": {},
   "source": [
    "5.What is an attention mechanism? How does it help?\n",
    "\n",
    "Attention is a powerful mechanism developed to enhance the performance of the Encoder-Decoder architecture on neural network-based machine translation tasks.\n",
    "The idea behind the attention mechanism was to permit the decoder to utilize the most relevant parts of the input sequence in a flexible manner, by a weighted combination of all of the encoded input vectors, with the most relevant vectors being attributed the highest weights. "
   ]
  },
  {
   "cell_type": "markdown",
   "id": "8f9a16e2",
   "metadata": {},
   "source": [
    "6.What is the most important layer in the Transformer architecture? What is its purpose?\n",
    "\n",
    "The most important part or layer is the 'Residual Connections' around the layers. This is very important in retaining the position related information which we are adding to the input representation/embedding across the network. The network displayed catastrophic results on removing the Residual Connections.\n",
    "\n",
    "The purpose of the residual connections is to help the network train, by allowing gradients to flow through the networks directly. The layer normalizations are used to stabilize the network which results in substantially reducing the training time necessary."
   ]
  },
  {
   "cell_type": "markdown",
   "id": "ac1d7e10",
   "metadata": {},
   "source": [
    "7.When would you need to use sampled softmax?\n",
    "\n",
    "The softmax function is used as the activation function in the output layer of neural network models that predict a multinomial probability distribution. That is, softmax is used as the activation function for multi-class classification problems where class membership is required on more than two class labels."
   ]
  }
 ],
 "metadata": {
  "kernelspec": {
   "display_name": "Python 3 (ipykernel)",
   "language": "python",
   "name": "python3"
  },
  "language_info": {
   "codemirror_mode": {
    "name": "ipython",
    "version": 3
   },
   "file_extension": ".py",
   "mimetype": "text/x-python",
   "name": "python",
   "nbconvert_exporter": "python",
   "pygments_lexer": "ipython3",
   "version": "3.9.7"
  }
 },
 "nbformat": 4,
 "nbformat_minor": 5
}
