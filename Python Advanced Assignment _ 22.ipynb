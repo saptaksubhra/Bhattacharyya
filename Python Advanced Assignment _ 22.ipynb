{
 "cells": [
  {
   "cell_type": "markdown",
   "id": "8ac63e41",
   "metadata": {},
   "source": [
    "Q1. What are the benefits of the built-in array package, if any?\n",
    "\n",
    "The Python array's scope is limited  as it is quite restricted. Though the restriction stays in we can easily convert a Python array into a Python list. The example has been given below."
   ]
  },
  {
   "cell_type": "code",
   "execution_count": 4,
   "id": "4b93095f",
   "metadata": {},
   "outputs": [
    {
     "name": "stdout",
     "output_type": "stream",
     "text": [
      "['a', 'b', 'c', 'd', 'e', 'f', 'g']\n"
     ]
    }
   ],
   "source": [
    "try:\n",
    "    from array import array # Importing built-in array library\n",
    "    arr = array('u', 'abcdefg')  # \"u \"means this array contains unicode characters\n",
    "    my_list = arr.tolist()\n",
    "    print(my_list)\n",
    "except:\n",
    "    print('conversion from array to list')"
   ]
  },
  {
   "cell_type": "markdown",
   "id": "aeb3f1f8",
   "metadata": {},
   "source": [
    "Python built-in array is restricted, and we rarely use it. But oin the other hand, if something is restricted it must bring some benefits. In this case, the benefit is that Python built-in array has smaller size then Python list. Let's go through an example to understand this. A Python List with 200,000 integers is created. Then, it is converted into Python Array."
   ]
  },
  {
   "cell_type": "code",
   "execution_count": 6,
   "id": "9a57dfd9",
   "metadata": {},
   "outputs": [
    {
     "name": "stdout",
     "output_type": "stream",
     "text": [
      "1600040\n",
      "800064\n"
     ]
    }
   ],
   "source": [
    "try:\n",
    "    from array import array \n",
    "    large_list = list(range(0,200000))\n",
    "    large_array = array(\"I\", large_list)\n",
    "    \n",
    "    print(large_list.__sizeof__())\n",
    "    print(large_array.__sizeof__())\n",
    "except:\n",
    "    print(\"detection of length of array and list\")"
   ]
  },
  {
   "cell_type": "markdown",
   "id": "cb99f839",
   "metadata": {},
   "source": [
    "It can be seen  from the above example that the size of the array is only about the half of the size of the list, even smaller than half. This is because the type code of the array is fixed and the number of bytes of each item is also fixed. It loses some flexibility but has less overhead. So, Python Array uses less memory size than Python List. It can directly handle arithmetic operations and alos saves time."
   ]
  },
  {
   "cell_type": "markdown",
   "id": "bd950afc",
   "metadata": {},
   "source": [
    "Q2. What are some of the array package's limitations?\n",
    "\n",
    "The array package's limitations are:\n",
    "\n",
    "It contains the value of the same data type.\n",
    "We need to import the array first before we work with the array.\n",
    "It is suitable for storing shorter sequence of data items."
   ]
  },
  {
   "cell_type": "markdown",
   "id": "ed28a093",
   "metadata": {},
   "source": [
    "Q3. Describe the main differences between the array and numpy packages.\n",
    "\n",
    "NumPy arrays have a fixed size at creation, unlike Python lists (which can grow dynamically). Changing the size of a Python array will create a new array and delete the original.\n",
    "\n",
    "NumPy arrays facilitate advanced mathematical and other types of operations on large numbers of data. Typically, such operations are executed more efficiently and with less code than using Python’s built-in sequences or arrays.\n",
    "\n",
    "In order to efficiently use much (perhaps even most) of today’s scientific and mathematical Python-based software, just knowing how to use Python’s built-in sequence or array types is not sufficient, one also needs to know how to use NumPy arrays."
   ]
  },
  {
   "cell_type": "markdown",
   "id": "416cb7ca",
   "metadata": {},
   "source": [
    "Q4. Explain the distinctions between the empty, ones, and zeros functions.\n",
    "\n",
    "np.empty() returns a new array of given shape and type with random values. syntax is \n",
    "\n",
    "numpy.empty(shape, dtype = float/ int, order 'c')"
   ]
  },
  {
   "cell_type": "code",
   "execution_count": 10,
   "id": "10dd1af2",
   "metadata": {},
   "outputs": [
    {
     "name": "stdout",
     "output_type": "stream",
     "text": [
      "\n",
      " Matrix a is : \n",
      " [0 0]\n",
      "\n",
      " Matrix b is : \n",
      "  [[-1690364453   281026027]\n",
      " [ -935327867  1450506963]]\n",
      "\n",
      " Matrix c is : \n",
      " [[   0    0    0    0]\n",
      " [   0    0    0    0]\n",
      " [   0    0 1336    0]\n",
      " [   0    0    0    0]]\n"
     ]
    }
   ],
   "source": [
    "try:\n",
    "    import numpy as np\n",
    "    a = np.empty(2, dtype = int)\n",
    "    print(\"\\n Matrix a is : \\n\", a)\n",
    "    \n",
    "    b = np.empty([2,2], dtype = int)\n",
    "    print(\"\\n Matrix b is : \\n \", b)\n",
    "    \n",
    "    c = np.empty([4,4], dtype = int)\n",
    "    print(\"\\n Matrix c is : \\n\", c)\n",
    "except:\n",
    "    print('empty function in numpy')"
   ]
  },
  {
   "cell_type": "markdown",
   "id": "74ffa7ad",
   "metadata": {},
   "source": [
    "The numpy.zeros() function returns a new array of given shape and type, with zeros. Syntax is:\n",
    "\n",
    "numpy.zeros(shape, dtype = None, order = 'C')"
   ]
  },
  {
   "cell_type": "code",
   "execution_count": 13,
   "id": "51443726",
   "metadata": {},
   "outputs": [
    {
     "name": "stdout",
     "output_type": "stream",
     "text": [
      "\n",
      " Matrix a is : \n",
      " [0 0]\n",
      "\n",
      " Matrix b is : \n",
      "  [[0 0 0]\n",
      " [0 0 0]\n",
      " [0 0 0]]\n",
      "\n",
      " Matrix c is : \n",
      " [[0 0 0 0 0]\n",
      " [0 0 0 0 0]\n",
      " [0 0 0 0 0]\n",
      " [0 0 0 0 0]\n",
      " [0 0 0 0 0]]\n"
     ]
    }
   ],
   "source": [
    "try:\n",
    "    import numpy as np\n",
    "    a = np.zeros(2, dtype = int)\n",
    "    print(\"\\n Matrix a is : \\n\", a)\n",
    "    \n",
    "    b = np.zeros([3,3], dtype = int)\n",
    "    print(\"\\n Matrix b is : \\n \", b)\n",
    "    \n",
    "    c = np.zeros([5,5], dtype = int)\n",
    "    print(\"\\n Matrix c is : \\n\", c)\n",
    "except:\n",
    "    print('empty function in numpy')"
   ]
  },
  {
   "cell_type": "markdown",
   "id": "b552bd10",
   "metadata": {},
   "source": [
    "The numpy.ones() function returns a new array of given shape and type, with ones.\n",
    " \n",
    "Syntax is : numpy.ones(shape, dtype = None, order = 'C') "
   ]
  },
  {
   "cell_type": "code",
   "execution_count": 16,
   "id": "f7d199bd",
   "metadata": {},
   "outputs": [
    {
     "name": "stdout",
     "output_type": "stream",
     "text": [
      "\n",
      " Matrix a is : \n",
      " [1]\n",
      "\n",
      " Matrix b is : \n",
      "  [[1 1 1]\n",
      " [1 1 1]\n",
      " [1 1 1]]\n",
      "\n",
      " Matrix c is : \n",
      " [[1 1 1 1 1 1]\n",
      " [1 1 1 1 1 1]\n",
      " [1 1 1 1 1 1]\n",
      " [1 1 1 1 1 1]\n",
      " [1 1 1 1 1 1]\n",
      " [1 1 1 1 1 1]]\n"
     ]
    }
   ],
   "source": [
    "try:\n",
    "    import numpy as np\n",
    "    a = np.ones(1, dtype = int)\n",
    "    print(\"\\n Matrix a is : \\n\", a)\n",
    "    \n",
    "    b = np.ones([3,3], dtype = int)\n",
    "    print(\"\\n Matrix b is : \\n \", b)\n",
    "    \n",
    "    c = np.ones([6,6], dtype = int)\n",
    "    print(\"\\n Matrix c is : \\n\", c)\n",
    "except:\n",
    "    print('empty function in numpy')"
   ]
  },
  {
   "cell_type": "markdown",
   "id": "df593d23",
   "metadata": {},
   "source": [
    "Q5. In the from function function, which is used to construct new arrays, what is the role of the callable\n",
    "argument?\n",
    "\n",
    "Generally a callable is something that can be called. This built-in callable method in Python checks and returns True if the object passed appears to be callable, otherwise False.\n",
    "Syntax:\n",
    "callable(object)\n",
    "The callable() method takes only one argument, an object and returns one of the two values:\n",
    "returns True, if the object appears to be callable.\n",
    "returns False, if the object is not callable.\n",
    "Let us see both senarios."
   ]
  },
  {
   "cell_type": "code",
   "execution_count": 131,
   "id": "8054433d",
   "metadata": {},
   "outputs": [
    {
     "name": "stdout",
     "output_type": "stream",
     "text": [
      "True\n",
      "False\n"
     ]
    }
   ],
   "source": [
    " # When an object is callable\n",
    "try:\n",
    "    def test():\n",
    "        \n",
    "        return 43\n",
    "    a = test\n",
    "    print(callable(a))\n",
    "    \n",
    "    b = [1,2,3,4,5]\n",
    "    print(callable(b))\n",
    "except:\n",
    "    print('Object is callable')"
   ]
  },
  {
   "cell_type": "markdown",
   "id": "15c7ea2d",
   "metadata": {},
   "source": [
    "From the above example, we see in the first case when an object is passed in the callable() method, it returns True. It is so because a is an object to the callable function test. But in the second case b is absolutely not a callable object, so the result is False."
   ]
  },
  {
   "cell_type": "code",
   "execution_count": 132,
   "id": "6e71fbe7",
   "metadata": {},
   "outputs": [
    {
     "name": "stdout",
     "output_type": "stream",
     "text": [
      "True\n",
      "object is not callable\n"
     ]
    }
   ],
   "source": [
    "# When an object is not callable\n",
    "\n",
    "try:\n",
    "    class test1():\n",
    "        def func(self):\n",
    "            print([1,2,3,4,5])\n",
    "    print(callable(test1))\n",
    "    obj = test1()\n",
    "    obj()\n",
    "except:\n",
    "    print('object is not callable')\n",
    "        "
   ]
  },
  {
   "cell_type": "markdown",
   "id": "1618bd31",
   "metadata": {},
   "source": [
    "The callable() method returns True suggesting that the test1 class is callable, but the instance of test1 is not callable() and it returns a runtime error but here that runtime error did not arise as it is handled by the exception handling in the except block."
   ]
  },
  {
   "cell_type": "markdown",
   "id": "9c045bf7",
   "metadata": {},
   "source": [
    "Q6. What happens when a numpy array is combined with a single-value operand (a scalar, such as\n",
    "an int or a floating-point value) through addition, as in the expression A + n?\n",
    "\n",
    "When a numpy array is cobined with a single-value operand or a scalar( like an integer or floating point number ) then it will be cobined with each and every element in that array and will produce a new numpy array either in case of addition, subtraction, division or multiplication. One example has been set over here in terms of addition."
   ]
  },
  {
   "cell_type": "code",
   "execution_count": 137,
   "id": "36dca689",
   "metadata": {},
   "outputs": [
    {
     "name": "stdout",
     "output_type": "stream",
     "text": [
      "[ 3.2  4.3  5.4  6.5  7.6  8.7  9.8 10.9 11.1]\n",
      "[ 4.34  5.44  6.54  7.64  8.74  9.84 10.94 12.04 12.24]\n"
     ]
    }
   ],
   "source": [
    "# Numerical operations on Numpy arrays\n",
    "\n",
    "try:\n",
    "    import numpy as np\n",
    "    \n",
    "    l = [1.2, 2.3, 3.4,4.5, 5.6, 6.7,7.8, 8.9,9.1]\n",
    "    A = np.array(l)\n",
    "    n = 2\n",
    "    n1 = 3.14\n",
    "    print(A + n)\n",
    "    print(A + n1)\n",
    "    \n",
    "except:\n",
    "    print('Numerical ops on numpy arrays')"
   ]
  },
  {
   "cell_type": "markdown",
   "id": "8cac27dd",
   "metadata": {},
   "source": [
    "Q7. Can array-to-scalar operations use combined operation-assign operators (such as += or *=)?\n",
    "What is the outcome?\n",
    "\n",
    "Array-to-scalar operations can use combined operation-assign operators( Such as : + = or *=).\n",
    "Some examples are given here."
   ]
  },
  {
   "cell_type": "code",
   "execution_count": 100,
   "id": "dfa69a7b",
   "metadata": {},
   "outputs": [
    {
     "name": "stdout",
     "output_type": "stream",
     "text": [
      "43\n"
     ]
    }
   ],
   "source": [
    "# Example of += operator\n",
    "try:\n",
    "    a = 16\n",
    "    a += 27\n",
    "    print(a)\n",
    "except:\n",
    "    print('assignment operator')"
   ]
  },
  {
   "cell_type": "markdown",
   "id": "24e8ce22",
   "metadata": {},
   "source": [
    "The above example's outcome i.e, a += is same as a = a + and this will be shown in the following example."
   ]
  },
  {
   "cell_type": "code",
   "execution_count": 101,
   "id": "27f30f6c",
   "metadata": {},
   "outputs": [
    {
     "name": "stdout",
     "output_type": "stream",
     "text": [
      "43\n"
     ]
    }
   ],
   "source": [
    "try:\n",
    "    a = 16\n",
    "    a = a + 27\n",
    "    print(a)\n",
    "except:\n",
    "    print('assignment operator')"
   ]
  },
  {
   "cell_type": "code",
   "execution_count": 102,
   "id": "3eee3982",
   "metadata": {},
   "outputs": [
    {
     "name": "stdout",
     "output_type": "stream",
     "text": [
      "432\n"
     ]
    }
   ],
   "source": [
    "# example of *= assignment operator\n",
    "\n",
    "try:\n",
    "    a = 16\n",
    "    a *= 27\n",
    "    print(a)\n",
    "except:\n",
    "    print('assignment operator')"
   ]
  },
  {
   "cell_type": "markdown",
   "id": "8816c6ae",
   "metadata": {},
   "source": [
    "The above example's outcome i.e, a *= is equivalent to a = a * "
   ]
  },
  {
   "cell_type": "code",
   "execution_count": 104,
   "id": "84058a04",
   "metadata": {},
   "outputs": [
    {
     "name": "stdout",
     "output_type": "stream",
     "text": [
      "432\n"
     ]
    }
   ],
   "source": [
    "try:\n",
    "    a = 16\n",
    "    a = a *27\n",
    "    print(a)\n",
    "except:\n",
    "    print('assignment operator')"
   ]
  },
  {
   "cell_type": "markdown",
   "id": "d5e6a1a8",
   "metadata": {},
   "source": [
    "Q8. Does a numpy array contain fixed-length strings? What happens if you allocate a longer string to\n",
    "one of these arrays?\n",
    "\n",
    "NumPy arrays have a fixed size at creation, unlike Python lists (which can grow dynamically). Changing the size of an ndarray will create a new array and delete the original. The elements in a NumPy array are all required to be of the same data type, and thus will be the same size in memory.\n",
    "\n",
    "The dtype of any numpy array or ndarray containing string values is the maximum length of any string present in the array. Once set, it will only be able to store new string having length not more than the maximum length at the time of the creation. If we try to reassign some another string value having length greater than the maximum length of the existing elements, it simply discards all the values beyond the maximum length. But we can fix this problem by simply assigning dtype = 'object'. Let's see throuh an example."
   ]
  },
  {
   "cell_type": "code",
   "execution_count": 113,
   "id": "7e2d4dc4",
   "metadata": {},
   "outputs": [
    {
     "name": "stdout",
     "output_type": "stream",
     "text": [
      "['Hampshire' 'Derbyshire' 'Essex' ' ' 'Middlesex' 'Yorkshire']\n",
      "['Hampshire' 'Derbyshire' 'Essex' 'New Hampsh' 'Middlesex' 'Yorkshire']\n"
     ]
    }
   ],
   "source": [
    "try:\n",
    "    import numpy as np\n",
    "    county = np.array(['Hampshire', 'Derbyshire', 'Essex', ' ', 'Middlesex', 'Yorkshire'])\n",
    "    print(county)\n",
    "    \n",
    "    county[county ==' '] = 'New Hampshire'\n",
    "    print(county)\n",
    "except:\n",
    "    print('Assignment aribtrary string in ndarray')"
   ]
  },
  {
   "cell_type": "markdown",
   "id": "7695cb6e",
   "metadata": {},
   "source": [
    " As we can see from the first output the maximum length of any string length in the given array is 9. And we are trying to assign a string which has greater length at the place of missing value in the array. The neew string with greater length is 'New Hampshire'. As we can see in the output, ‘New Hampsh’ has been assigned rather than ‘New Hampshire’ because of the limitation to the length. Now, let’s see how we can overcome this problem."
   ]
  },
  {
   "cell_type": "code",
   "execution_count": 114,
   "id": "c3608cf2",
   "metadata": {},
   "outputs": [
    {
     "name": "stdout",
     "output_type": "stream",
     "text": [
      "['Hampshire' 'Derbyshire' 'Essex' ' ' 'Middlesex' 'Yorkshire']\n",
      "['Hampshire' 'Derbyshire' 'Essex' 'New Hampshire' 'Middlesex' 'Yorkshire']\n"
     ]
    }
   ],
   "source": [
    "try:\n",
    "    import numpy as np\n",
    "    county = np.array(['Hampshire', 'Derbyshire', 'Essex', ' ', 'Middlesex', 'Yorkshire'], dtype = 'object')\n",
    "    print(county)\n",
    "    \n",
    "    county[county ==' '] = 'New Hampshire'\n",
    "    print(county)\n",
    "except:\n",
    "    print('Assignment aribtrary string in ndarray')"
   ]
  },
  {
   "cell_type": "markdown",
   "id": "199b2308",
   "metadata": {},
   "source": [
    " Now we can see from the output that we have been able to assign an arbitrary length of string to the given array object by just simpluy assigning dtype = 'object'"
   ]
  },
  {
   "cell_type": "markdown",
   "id": "8cea3a0c",
   "metadata": {},
   "source": [
    "Q9. What happens when you combine two numpy arrays using an operation like addition (+) or\n",
    "multiplication (*)? What are the conditions for combining two numpy arrays?\n",
    "\n",
    "If we multiply two numpy arrays in terms of combination it returns a numpy array of the same shape with values resulting from multiplying values in each array elementwise. It should be noted that both the arrays need to have the same dimensions. Again if we concatenate two numpy arrays we actually join a sequence of arrays along an existing axis.The arrays must have the same shape, except in the dimension corresponding to axis (the first, by default).\n",
    "\n",
    "The conditions for combining two numpy arrays incase of multiplication are that we can only multiply two array matrices if their dimensions are compatible. That menas the number of columns in the first matrix should be the same as the number of rows in the second matrix."
   ]
  },
  {
   "cell_type": "code",
   "execution_count": 115,
   "id": "cee5aead",
   "metadata": {},
   "outputs": [
    {
     "name": "stdout",
     "output_type": "stream",
     "text": [
      "[ 4.34  5.44  6.54  7.64  8.74  9.84 10.94 12.04 12.24]\n",
      "[ 4.8  9.2 13.6 18.  22.4 26.8 31.2 35.6 36.4]\n"
     ]
    }
   ],
   "source": [
    "# Numerical operations on Numpy arrays\n",
    "\n",
    "try:\n",
    "    import numpy as np\n",
    "    \n",
    "    l = [1.2, 2.3, 3.4,4.5, 5.6, 6.7,7.8, 8.9,9.1]\n",
    "    r = np.array(l)\n",
    "    print(r +3.14)\n",
    "    print(r * 4)\n",
    "except:\n",
    "    print('Numerical ops on numpy arrays')"
   ]
  },
  {
   "cell_type": "markdown",
   "id": "2f678e52",
   "metadata": {},
   "source": [
    "There are so may other ways or methods existing by which we can cobine two numpy arrays. Such as concatenate method, append method, stack method, vstack method and many more. Some of those are exemplified here."
   ]
  },
  {
   "cell_type": "code",
   "execution_count": 128,
   "id": "1ab42462",
   "metadata": {},
   "outputs": [
    {
     "name": "stdout",
     "output_type": "stream",
     "text": [
      "[ 1  2  3  4  5  6  7  8  9 10]\n",
      "[ 1  2  3  4  5  6  7  8  9 10]\n",
      "[[ 1  2  3  4  5]\n",
      " [ 6  7  8  9 10]]\n",
      "[[ 1  2  3  4  5]\n",
      " [ 6  7  8  9 10]]\n",
      "[ 1  2  3  4  5  6  7  8  9 10]\n",
      "[[ 1  6]\n",
      " [ 2  7]\n",
      " [ 3  8]\n",
      " [ 4  9]\n",
      " [ 5 10]]\n"
     ]
    }
   ],
   "source": [
    "# append() method , concatenate () method, stack() method, vstack()method, hstack() method, column_stack() method\n",
    "try:\n",
    "    import numpy as np\n",
    "    \n",
    "    a1 = [1,2,3,4,5]\n",
    "    a2 = [6,7,8,9,10]\n",
    "    \n",
    "    new_array = np.append(a1, a2)\n",
    "    print(new_array)\n",
    "    \n",
    "    new_array = np.concatenate([a1, a2])\n",
    "    print(new_array)\n",
    "    \n",
    "    new_array = np.stack([a1, a2])\n",
    "    print(new_array)\n",
    "    \n",
    "    new_array = np.vstack([a1, a2])\n",
    "    print(new_array)\n",
    "    \n",
    "    new_array = np.hstack([a1, a2])\n",
    "    print(new_array)\n",
    "    \n",
    "    new_array = np.column_stack([a1, a2])\n",
    "    print(new_array)\n",
    "    \n",
    "except:\n",
    "    print('various methods of combining np arrays')\n",
    "    "
   ]
  },
  {
   "cell_type": "markdown",
   "id": "eeff85ef",
   "metadata": {},
   "source": [
    "Q10. What is the best way to use a Boolean array to mask another array?\n",
    "\n",
    "The best way to use a Boolean array to mask another array is by masking operation where to select these values from the array we can simply index on this Boolean array. The example is given below."
   ]
  },
  {
   "cell_type": "code",
   "execution_count": 89,
   "id": "b46f9959",
   "metadata": {},
   "outputs": [
    {
     "name": "stdout",
     "output_type": "stream",
     "text": [
      "[[ True  True  True  True]\n",
      " [ True  True  True  True]\n",
      " [ True  True  True  True]]\n"
     ]
    }
   ],
   "source": [
    "try:\n",
    "    a = [[5, 6, 3, 9],\n",
    "         [1, 5, 8, 3],\n",
    "         [2, 4, 7, 8]]\n",
    "    import numpy as np\n",
    "    x1 = np.array([[5, 6, 3, 9],\n",
    "                   [1, 5, 8, 3],\n",
    "                   [2, 4, 7, 8]], dtype = bool )\n",
    "     \n",
    "    print(x1)\n",
    "except:\n",
    "    print(\" masking with boolean \")"
   ]
  },
  {
   "cell_type": "code",
   "execution_count": 90,
   "id": "2353d966",
   "metadata": {},
   "outputs": [
    {
     "name": "stdout",
     "output_type": "stream",
     "text": [
      "[[5 6 3 9]\n",
      " [1 5 8 3]\n",
      " [2 4 7 8]]\n"
     ]
    }
   ],
   "source": [
    "try:\n",
    "    a = [[5, 6, 3, 9],\n",
    "         [1, 5, 8, 3],\n",
    "         [2, 4, 7, 8]]\n",
    "    import numpy as np\n",
    "    x = np.array([[5, 6, 3, 9],\n",
    "                 [1, 5, 8, 3],\n",
    "                 [2, 4, 7, 8]], )\n",
    "     \n",
    "    print(x)\n",
    "except:\n",
    "    print(\" masking with boolean \")"
   ]
  },
  {
   "cell_type": "code",
   "execution_count": 92,
   "id": "4260aea4",
   "metadata": {},
   "outputs": [
    {
     "data": {
      "text/plain": [
       "array([[False, False,  True, False],\n",
       "       [ True, False, False,  True],\n",
       "       [ True,  True, False, False]])"
      ]
     },
     "execution_count": 92,
     "metadata": {},
     "output_type": "execute_result"
    }
   ],
   "source": [
    "x < 5"
   ]
  },
  {
   "cell_type": "code",
   "execution_count": 88,
   "id": "0bfdc648",
   "metadata": {},
   "outputs": [
    {
     "data": {
      "text/plain": [
       "array([3, 1, 3, 2, 4])"
      ]
     },
     "execution_count": 88,
     "metadata": {},
     "output_type": "execute_result"
    }
   ],
   "source": [
    "x[x <5]"
   ]
  },
  {
   "cell_type": "markdown",
   "id": "76247a59",
   "metadata": {},
   "source": [
    "The returned array is a one- dimensional array filled with all the values that meet the condition( where x < 5) in other words, all the values in positions at which the mask array is True."
   ]
  },
  {
   "cell_type": "markdown",
   "id": "37f3bc34",
   "metadata": {},
   "source": [
    "Q11. What are three different ways to get the standard deviation of a wide collection of data using\n",
    "both standard Python and its packages? Sort the three of them by how quickly they execute.\n",
    "\n",
    "Three different ways to get the standard deviation of a wide collection of data using\n",
    "both standard Python and its packages are :\n",
    "\n",
    "Using the pstdev() Function of the statistics Module to Calculate the Standard Deviation of a List in Python\n",
    "Using the std() Function of the NumPy Library to Calculate the Standard Deviation of a List in Python\n",
    "Using the sum() Function and List Comprehension to Calculate the Standard Deviation of a List in Python\n",
    "\n",
    "Let's see through the examples for each way."
   ]
  },
  {
   "cell_type": "code",
   "execution_count": 145,
   "id": "43006144",
   "metadata": {},
   "outputs": [
    {
     "name": "stdout",
     "output_type": "stream",
     "text": [
      "List is : [16, 36, 43, 108, 786, 1008]\n",
      "The standard deviation of the given list is : 405.02198157082233\n"
     ]
    }
   ],
   "source": [
    "# Using the pstdev() Function of the statistics Module to Calculate the Standard Deviation of a List in Python\n",
    "\n",
    "try:\n",
    "    import statistics\n",
    "    l = [16,36,43,108,786,1008]\n",
    "    \n",
    "    print('List is : ' +str(l))\n",
    "    std_dev = statistics.pstdev(l)\n",
    "    print(\"The standard deviation of the given list is : \" +str(std_dev))\n",
    "except:\n",
    "    print('pstdev function to calculate std dev')"
   ]
  },
  {
   "cell_type": "code",
   "execution_count": 146,
   "id": "575870fa",
   "metadata": {},
   "outputs": [
    {
     "name": "stdout",
     "output_type": "stream",
     "text": [
      "List is : [16, 36, 43, 108, 786, 1008]\n",
      "The standard deviation of the given list is : 405.02198157082233\n"
     ]
    }
   ],
   "source": [
    "# Using the std() Function of the NumPy Library to Calculate the Standard Deviation of a List in Python\n",
    "\n",
    "try:\n",
    "    import numpy as np\n",
    "    l = [16,36,43,108,786,1008]\n",
    "    \n",
    "    print('List is : ' +str(l))\n",
    "    std_dev = np.std(l)\n",
    "    print(\"The standard deviation of the given list is : \" +str(std_dev))\n",
    "except:\n",
    "    print('std function to calculate std dev')\n"
   ]
  },
  {
   "cell_type": "code",
   "execution_count": 148,
   "id": "e2d92ff2",
   "metadata": {},
   "outputs": [
    {
     "name": "stdout",
     "output_type": "stream",
     "text": [
      "List is : [16, 36, 43, 108, 786, 1008]\n",
      "The standard deviation of the given list is : 405.02198157082233\n"
     ]
    }
   ],
   "source": [
    "# Using the sum() Function and List Comprehension to Calculate the Standard Deviation of a List in Python\n",
    "try:\n",
    "    import math\n",
    "    l  = [16,36,43,108,786,1008]\n",
    "    print('List is : ' +str(l))\n",
    "    \n",
    "    mean = sum(l)/len(l)\n",
    "    var = sum((i-mean)**2 for i in l)/len(l)\n",
    "    std_dev = math.sqrt(var)\n",
    "    print(\"The standard deviation of the given list is : \" +str(std_dev))\n",
    "except:\n",
    "    print('sum function and list comprehension to detect std dev')\n",
    "    \n",
    "    "
   ]
  },
  {
   "cell_type": "markdown",
   "id": "e0917975",
   "metadata": {},
   "source": [
    "In the example above, the math module is imported. It provides the sqrt() function to calculate the square root of a given value. Also, note that the function len() is also used. This function helps provide the length of the given list, for example, the number of elements in the list.\n",
    "This method is based on the mathematical formula of standard deviation. First, we calculate the variance and then get its square root to find the standard deviation. This is lengthy process and takes a lot steps to execute the standard deviation.\n",
    "\n",
    "But the first two methods are quicker as compared to the above method as both take less steps to execute standard deviation in the programme. In the first method,  the str() function converts the whole list and its standard deviation into a string because it can only be concatenated with a string and the second method uses Numpy which is a library widely used known as Numerical Python in Python.This library helps in dealing with arrays, matrices, linear algebra, and Fourier transform. These two methods only take a few steps to execute the standard deviation of a larger dataset. But since numpy library is widely used in Python and this library also helps in dealing with arrays, matrices, linear algebra, and Fourier transform so, using the std() function of the NumPy Library to calculate the Standard Deviation is preferable to using the pstdev() Function of the statistics Module to Calculate the Standard Deviation of a larger dataset in Python."
   ]
  },
  {
   "cell_type": "markdown",
   "id": "a34d465d",
   "metadata": {},
   "source": [
    "12.What is the dimensionality of a Boolean mask-generated array?\n",
    "\n",
    "The returned array is a one- dimensional array filled with all the values that meet the condition in other words, all the values in positions at which the mask array is True. The example is given below."
   ]
  },
  {
   "cell_type": "code",
   "execution_count": 95,
   "id": "bcffb20c",
   "metadata": {},
   "outputs": [
    {
     "name": "stdout",
     "output_type": "stream",
     "text": [
      "[[5 6 3 9]\n",
      " [1 5 8 3]\n",
      " [2 4 7 8]]\n",
      "[3 1 3 2]\n"
     ]
    }
   ],
   "source": [
    "try:\n",
    "    a = [[5, 6, 3, 9],\n",
    "         [1, 5, 8, 3],\n",
    "         [2, 4, 7, 8]]\n",
    "    import numpy as np\n",
    "    x = np.array([[5, 6, 3, 9],\n",
    "                 [1, 5, 8, 3],\n",
    "                 [2, 4, 7, 8]], )\n",
    "     \n",
    "    print(x)\n",
    "    print(x[x<4])\n",
    "except:\n",
    "    print(\" masking with boolean \")"
   ]
  },
  {
   "cell_type": "code",
   "execution_count": 96,
   "id": "07b88e2d",
   "metadata": {},
   "outputs": [
    {
     "data": {
      "text/plain": [
       "array([[False, False,  True, False],\n",
       "       [ True, False, False,  True],\n",
       "       [ True, False, False, False]])"
      ]
     },
     "execution_count": 96,
     "metadata": {},
     "output_type": "execute_result"
    }
   ],
   "source": [
    "x < 4"
   ]
  },
  {
   "cell_type": "code",
   "execution_count": 97,
   "id": "4ff6c9b7",
   "metadata": {},
   "outputs": [
    {
     "data": {
      "text/plain": [
       "array([3, 1, 3, 2])"
      ]
     },
     "execution_count": 97,
     "metadata": {},
     "output_type": "execute_result"
    }
   ],
   "source": [
    "x[x< 4]"
   ]
  }
 ],
 "metadata": {
  "kernelspec": {
   "display_name": "Python 3 (ipykernel)",
   "language": "python",
   "name": "python3"
  },
  "language_info": {
   "codemirror_mode": {
    "name": "ipython",
    "version": 3
   },
   "file_extension": ".py",
   "mimetype": "text/x-python",
   "name": "python",
   "nbconvert_exporter": "python",
   "pygments_lexer": "ipython3",
   "version": "3.9.7"
  }
 },
 "nbformat": 4,
 "nbformat_minor": 5
}
